{
  "nbformat": 4,
  "nbformat_minor": 0,
  "metadata": {
    "colab": {
      "provenance": [],
      "mount_file_id": "1pyYgeLg9DGpEk1OyFBKQC4QARcbeudOn",
      "authorship_tag": "ABX9TyNtazQXV4MWn0sVe9HGa8MW",
      "include_colab_link": true
    },
    "kernelspec": {
      "name": "python3",
      "display_name": "Python 3"
    },
    "language_info": {
      "name": "python"
    }
  },
  "cells": [
    {
      "cell_type": "markdown",
      "metadata": {
        "id": "view-in-github",
        "colab_type": "text"
      },
      "source": [
        "<a href=\"https://colab.research.google.com/github/IKAR42/SberDS_Study/blob/main/HW_4_ML.ipynb\" target=\"_parent\"><img src=\"https://colab.research.google.com/assets/colab-badge.svg\" alt=\"Open In Colab\"/></a>"
      ]
    },
    {
      "cell_type": "code",
      "execution_count": 1,
      "metadata": {
        "id": "KYtOWhgI0DIW"
      },
      "outputs": [],
      "source": [
        "import pandas as pd\n",
        "import numpy as np"
      ]
    },
    {
      "cell_type": "code",
      "source": [
        "RANDOM_STATE = 42\n",
        "results = pd.DataFrame(columns = ['model', 'task', 'accuracy'])"
      ],
      "metadata": {
        "id": "FBFW4eZWOU6P"
      },
      "execution_count": 2,
      "outputs": []
    },
    {
      "cell_type": "code",
      "source": [
        "from google.colab import drive\n",
        "drive.mount('/content/drive')"
      ],
      "metadata": {
        "colab": {
          "base_uri": "https://localhost:8080/"
        },
        "id": "W_1SQaK10Jcd",
        "outputId": "f8fdb948-a18c-45f6-d288-bdd57743672c"
      },
      "execution_count": 3,
      "outputs": [
        {
          "output_type": "stream",
          "name": "stdout",
          "text": [
            "Drive already mounted at /content/drive; to attempt to forcibly remount, call drive.mount(\"/content/drive\", force_remount=True).\n"
          ]
        }
      ]
    },
    {
      "cell_type": "code",
      "source": [
        "data = pd.read_csv('drive/My Drive/Colab Notebooks/winequality-red.csv', sep = ';')\n",
        "data.head()"
      ],
      "metadata": {
        "colab": {
          "base_uri": "https://localhost:8080/",
          "height": 305
        },
        "id": "xA0GHmBJOUAq",
        "outputId": "ced8c109-ab56-4bc3-9972-3031971ba7db"
      },
      "execution_count": 4,
      "outputs": [
        {
          "output_type": "execute_result",
          "data": {
            "text/plain": [
              "   fixed acidity  volatile acidity  citric acid  residual sugar  chlorides  \\\n",
              "0            7.4              0.70         0.00             1.9      0.076   \n",
              "1            7.8              0.88         0.00             2.6      0.098   \n",
              "2            7.8              0.76         0.04             2.3      0.092   \n",
              "3           11.2              0.28         0.56             1.9      0.075   \n",
              "4            7.4              0.70         0.00             1.9      0.076   \n",
              "\n",
              "   free sulfur dioxide  total sulfur dioxide  density    pH  sulphates  \\\n",
              "0                 11.0                  34.0   0.9978  3.51       0.56   \n",
              "1                 25.0                  67.0   0.9968  3.20       0.68   \n",
              "2                 15.0                  54.0   0.9970  3.26       0.65   \n",
              "3                 17.0                  60.0   0.9980  3.16       0.58   \n",
              "4                 11.0                  34.0   0.9978  3.51       0.56   \n",
              "\n",
              "   alcohol  quality  \n",
              "0      9.4        5  \n",
              "1      9.8        5  \n",
              "2      9.8        5  \n",
              "3      9.8        6  \n",
              "4      9.4        5  "
            ],
            "text/html": [
              "\n",
              "  <div id=\"df-7e51262e-4d97-4a94-8bba-f111d6276a30\">\n",
              "    <div class=\"colab-df-container\">\n",
              "      <div>\n",
              "<style scoped>\n",
              "    .dataframe tbody tr th:only-of-type {\n",
              "        vertical-align: middle;\n",
              "    }\n",
              "\n",
              "    .dataframe tbody tr th {\n",
              "        vertical-align: top;\n",
              "    }\n",
              "\n",
              "    .dataframe thead th {\n",
              "        text-align: right;\n",
              "    }\n",
              "</style>\n",
              "<table border=\"1\" class=\"dataframe\">\n",
              "  <thead>\n",
              "    <tr style=\"text-align: right;\">\n",
              "      <th></th>\n",
              "      <th>fixed acidity</th>\n",
              "      <th>volatile acidity</th>\n",
              "      <th>citric acid</th>\n",
              "      <th>residual sugar</th>\n",
              "      <th>chlorides</th>\n",
              "      <th>free sulfur dioxide</th>\n",
              "      <th>total sulfur dioxide</th>\n",
              "      <th>density</th>\n",
              "      <th>pH</th>\n",
              "      <th>sulphates</th>\n",
              "      <th>alcohol</th>\n",
              "      <th>quality</th>\n",
              "    </tr>\n",
              "  </thead>\n",
              "  <tbody>\n",
              "    <tr>\n",
              "      <th>0</th>\n",
              "      <td>7.4</td>\n",
              "      <td>0.70</td>\n",
              "      <td>0.00</td>\n",
              "      <td>1.9</td>\n",
              "      <td>0.076</td>\n",
              "      <td>11.0</td>\n",
              "      <td>34.0</td>\n",
              "      <td>0.9978</td>\n",
              "      <td>3.51</td>\n",
              "      <td>0.56</td>\n",
              "      <td>9.4</td>\n",
              "      <td>5</td>\n",
              "    </tr>\n",
              "    <tr>\n",
              "      <th>1</th>\n",
              "      <td>7.8</td>\n",
              "      <td>0.88</td>\n",
              "      <td>0.00</td>\n",
              "      <td>2.6</td>\n",
              "      <td>0.098</td>\n",
              "      <td>25.0</td>\n",
              "      <td>67.0</td>\n",
              "      <td>0.9968</td>\n",
              "      <td>3.20</td>\n",
              "      <td>0.68</td>\n",
              "      <td>9.8</td>\n",
              "      <td>5</td>\n",
              "    </tr>\n",
              "    <tr>\n",
              "      <th>2</th>\n",
              "      <td>7.8</td>\n",
              "      <td>0.76</td>\n",
              "      <td>0.04</td>\n",
              "      <td>2.3</td>\n",
              "      <td>0.092</td>\n",
              "      <td>15.0</td>\n",
              "      <td>54.0</td>\n",
              "      <td>0.9970</td>\n",
              "      <td>3.26</td>\n",
              "      <td>0.65</td>\n",
              "      <td>9.8</td>\n",
              "      <td>5</td>\n",
              "    </tr>\n",
              "    <tr>\n",
              "      <th>3</th>\n",
              "      <td>11.2</td>\n",
              "      <td>0.28</td>\n",
              "      <td>0.56</td>\n",
              "      <td>1.9</td>\n",
              "      <td>0.075</td>\n",
              "      <td>17.0</td>\n",
              "      <td>60.0</td>\n",
              "      <td>0.9980</td>\n",
              "      <td>3.16</td>\n",
              "      <td>0.58</td>\n",
              "      <td>9.8</td>\n",
              "      <td>6</td>\n",
              "    </tr>\n",
              "    <tr>\n",
              "      <th>4</th>\n",
              "      <td>7.4</td>\n",
              "      <td>0.70</td>\n",
              "      <td>0.00</td>\n",
              "      <td>1.9</td>\n",
              "      <td>0.076</td>\n",
              "      <td>11.0</td>\n",
              "      <td>34.0</td>\n",
              "      <td>0.9978</td>\n",
              "      <td>3.51</td>\n",
              "      <td>0.56</td>\n",
              "      <td>9.4</td>\n",
              "      <td>5</td>\n",
              "    </tr>\n",
              "  </tbody>\n",
              "</table>\n",
              "</div>\n",
              "      <button class=\"colab-df-convert\" onclick=\"convertToInteractive('df-7e51262e-4d97-4a94-8bba-f111d6276a30')\"\n",
              "              title=\"Convert this dataframe to an interactive table.\"\n",
              "              style=\"display:none;\">\n",
              "        \n",
              "  <svg xmlns=\"http://www.w3.org/2000/svg\" height=\"24px\"viewBox=\"0 0 24 24\"\n",
              "       width=\"24px\">\n",
              "    <path d=\"M0 0h24v24H0V0z\" fill=\"none\"/>\n",
              "    <path d=\"M18.56 5.44l.94 2.06.94-2.06 2.06-.94-2.06-.94-.94-2.06-.94 2.06-2.06.94zm-11 1L8.5 8.5l.94-2.06 2.06-.94-2.06-.94L8.5 2.5l-.94 2.06-2.06.94zm10 10l.94 2.06.94-2.06 2.06-.94-2.06-.94-.94-2.06-.94 2.06-2.06.94z\"/><path d=\"M17.41 7.96l-1.37-1.37c-.4-.4-.92-.59-1.43-.59-.52 0-1.04.2-1.43.59L10.3 9.45l-7.72 7.72c-.78.78-.78 2.05 0 2.83L4 21.41c.39.39.9.59 1.41.59.51 0 1.02-.2 1.41-.59l7.78-7.78 2.81-2.81c.8-.78.8-2.07 0-2.86zM5.41 20L4 18.59l7.72-7.72 1.47 1.35L5.41 20z\"/>\n",
              "  </svg>\n",
              "      </button>\n",
              "      \n",
              "  <style>\n",
              "    .colab-df-container {\n",
              "      display:flex;\n",
              "      flex-wrap:wrap;\n",
              "      gap: 12px;\n",
              "    }\n",
              "\n",
              "    .colab-df-convert {\n",
              "      background-color: #E8F0FE;\n",
              "      border: none;\n",
              "      border-radius: 50%;\n",
              "      cursor: pointer;\n",
              "      display: none;\n",
              "      fill: #1967D2;\n",
              "      height: 32px;\n",
              "      padding: 0 0 0 0;\n",
              "      width: 32px;\n",
              "    }\n",
              "\n",
              "    .colab-df-convert:hover {\n",
              "      background-color: #E2EBFA;\n",
              "      box-shadow: 0px 1px 2px rgba(60, 64, 67, 0.3), 0px 1px 3px 1px rgba(60, 64, 67, 0.15);\n",
              "      fill: #174EA6;\n",
              "    }\n",
              "\n",
              "    [theme=dark] .colab-df-convert {\n",
              "      background-color: #3B4455;\n",
              "      fill: #D2E3FC;\n",
              "    }\n",
              "\n",
              "    [theme=dark] .colab-df-convert:hover {\n",
              "      background-color: #434B5C;\n",
              "      box-shadow: 0px 1px 3px 1px rgba(0, 0, 0, 0.15);\n",
              "      filter: drop-shadow(0px 1px 2px rgba(0, 0, 0, 0.3));\n",
              "      fill: #FFFFFF;\n",
              "    }\n",
              "  </style>\n",
              "\n",
              "      <script>\n",
              "        const buttonEl =\n",
              "          document.querySelector('#df-7e51262e-4d97-4a94-8bba-f111d6276a30 button.colab-df-convert');\n",
              "        buttonEl.style.display =\n",
              "          google.colab.kernel.accessAllowed ? 'block' : 'none';\n",
              "\n",
              "        async function convertToInteractive(key) {\n",
              "          const element = document.querySelector('#df-7e51262e-4d97-4a94-8bba-f111d6276a30');\n",
              "          const dataTable =\n",
              "            await google.colab.kernel.invokeFunction('convertToInteractive',\n",
              "                                                     [key], {});\n",
              "          if (!dataTable) return;\n",
              "\n",
              "          const docLinkHtml = 'Like what you see? Visit the ' +\n",
              "            '<a target=\"_blank\" href=https://colab.research.google.com/notebooks/data_table.ipynb>data table notebook</a>'\n",
              "            + ' to learn more about interactive tables.';\n",
              "          element.innerHTML = '';\n",
              "          dataTable['output_type'] = 'display_data';\n",
              "          await google.colab.output.renderOutput(dataTable, element);\n",
              "          const docLink = document.createElement('div');\n",
              "          docLink.innerHTML = docLinkHtml;\n",
              "          element.appendChild(docLink);\n",
              "        }\n",
              "      </script>\n",
              "    </div>\n",
              "  </div>\n",
              "  "
            ]
          },
          "metadata": {},
          "execution_count": 4
        }
      ]
    },
    {
      "cell_type": "markdown",
      "source": [
        "1.Разделите выборку на обучающую и тестовую в отношении 70%/30%, предварительно выделив целевую переменную (колонка 'quality')."
      ],
      "metadata": {
        "id": "YFA0k94PPBfQ"
      }
    },
    {
      "cell_type": "code",
      "source": [
        "from sklearn.model_selection import train_test_split\n",
        "from sklearn.tree import DecisionTreeClassifier\n",
        "\n",
        "from sklearn.model_selection import cross_val_score\n",
        "from sklearn.ensemble import BaggingClassifier\n",
        "from sklearn.ensemble import RandomForestClassifier"
      ],
      "metadata": {
        "id": "6vZZhetIxmC_"
      },
      "execution_count": 5,
      "outputs": []
    },
    {
      "cell_type": "code",
      "source": [
        "x = data.drop('quality',axis=1)\n",
        "y = data['quality']"
      ],
      "metadata": {
        "id": "Lcthe2CyxmFT"
      },
      "execution_count": 6,
      "outputs": []
    },
    {
      "cell_type": "code",
      "source": [
        "x_train, x_test, y_train, y_test = train_test_split(x, y, test_size=0.3, random_state=42)\n",
        "x_train.shape, x_test.shape, y_train.shape, y_test.shape"
      ],
      "metadata": {
        "colab": {
          "base_uri": "https://localhost:8080/"
        },
        "id": "4Nn3gzwtxmIh",
        "outputId": "9d36cc83-88dc-4aaf-b3b8-52721b8eac29"
      },
      "execution_count": 7,
      "outputs": [
        {
          "output_type": "execute_result",
          "data": {
            "text/plain": [
              "((1119, 11), (480, 11), (1119,), (480,))"
            ]
          },
          "metadata": {},
          "execution_count": 7
        }
      ]
    },
    {
      "cell_type": "markdown",
      "source": [
        "2.Оцените качество на тестовой выборке по метрике accuracy для классификаторов:\n",
        "\n",
        "DecisionTreeClassifier\n",
        "\n",
        "BaggingClassifier со 100 деревьями\n",
        "\n",
        "RandomForestClassifier со 100 деревьями\n",
        "\n",
        "Сравните результаты и напишите какой вывод можно сделать."
      ],
      "metadata": {
        "id": "6IXrMirTPFAw"
      }
    },
    {
      "cell_type": "code",
      "source": [
        "# DecisionTreeClassifier\n",
        "\n",
        "tree_classifier = DecisionTreeClassifier(random_state=42)\n",
        "tree_classifier.fit(x_train, y_train)\n",
        "tree_y_pred = tree_classifier.predict(x_test)\n",
        " \n",
        "acc_tree =cross_val_score(tree_classifier, x_train, y_train, cv=5, scoring='accuracy')\n",
        "acc_DT = acc_tree.mean()\n",
        "print('acc_DT:' ,round(acc_DT, 2))\n",
        "\n",
        "# BaggingClassifier\n",
        "\n",
        "bag_classifier = BaggingClassifier(n_estimators=100, random_state=42)\n",
        "bag_classifier.fit(x_train, y_train)\n",
        "bag_y_pred = bag_classifier.predict(x_test)\n",
        "\n",
        "acc_bag =cross_val_score(bag_classifier, x_train, y_train, cv=5, scoring='accuracy')\n",
        "acc_Bagging = acc_bag.mean()\n",
        "print('acc_Bagging:' ,round(acc_Bagging, 2))\n",
        "\n",
        "# RandomForestClassifier\n",
        "\n",
        "Random_f = RandomForestClassifier(n_estimators=100, random_state=42)\n",
        "Random_f.fit(x_train, y_train)\n",
        "rf_y_pred = Random_f.predict(x_test)\n",
        "\n",
        "acc_rf_1 =cross_val_score(Random_f, x_train, y_train, cv=5, scoring='accuracy')\n",
        "acc_RF = acc_rf_1.mean()\n",
        "print('acc_RF:' ,round(acc_RF, 2))\n",
        "\n",
        "\n",
        "#acc_DT = 0\n",
        "#acc_Bagging = 0\n",
        "#acc_RF = 0\n",
        "results.loc[0] = ['DecisionTreeClassifier', 'task2', acc_DT]\n",
        "results.loc[1] = ['BaggingClassifier ', 'task2', acc_Bagging]\n",
        "results.loc[2] = ['RandomForestClassifier', 'task2', acc_RF]"
      ],
      "metadata": {
        "id": "JF_L-xb3O-Li",
        "colab": {
          "base_uri": "https://localhost:8080/"
        },
        "outputId": "50987d02-c8e1-4829-c8e3-9cb792564b91"
      },
      "execution_count": 8,
      "outputs": [
        {
          "output_type": "stream",
          "name": "stdout",
          "text": [
            "acc_DT: 0.59\n",
            "acc_Bagging: 0.67\n",
            "acc_RF: 0.68\n"
          ]
        }
      ]
    },
    {
      "cell_type": "markdown",
      "source": [
        "* Наилучшим результатом отличились алгоритмы, в которых мы задавали настраиваемые параметры \n",
        "* Важно при выборе модели задействовать и ее внутренние параметры и их тюнить\n",
        "* Самым лучшим алгоритмом в этом эксперименте является случайный лес "
      ],
      "metadata": {
        "id": "ImpAE_bo24z8"
      }
    },
    {
      "cell_type": "markdown",
      "source": [
        "3.Посчитайте качество на тестовой выборке по метрике accuracy для классификатора RandomForestClassifier, используя значения деревьев:\n",
        "    \n",
        "10, 50, 100, 200, далее с шагом 200 до 5000 деревьев.\n",
        "Постройте график зависимости качества от числа деревьев."
      ],
      "metadata": {
        "id": "B5gFa-3ePKBg"
      }
    },
    {
      "cell_type": "code",
      "source": [
        "НАДО СДЕЛАТЬ !!!!!"
      ],
      "metadata": {
        "id": "368hKnmFO-OD"
      },
      "execution_count": null,
      "outputs": []
    },
    {
      "cell_type": "code",
      "source": [
        "import matplotlib.pyplot as plt\n",
        "from pylab import rcParams"
      ],
      "metadata": {
        "id": "Ct0ZWvfGbZf5"
      },
      "execution_count": 155,
      "outputs": []
    },
    {
      "cell_type": "code",
      "source": [
        "g = [i for i in range (200, 5200) if i % 200 == 0]"
      ],
      "metadata": {
        "id": "d5gsypZibSfw"
      },
      "execution_count": 125,
      "outputs": []
    },
    {
      "cell_type": "code",
      "source": [
        "estimators = [10, 50, 100] + g\n",
        "estimators"
      ],
      "metadata": {
        "colab": {
          "base_uri": "https://localhost:8080/"
        },
        "id": "Iu-w7HG6bSiR",
        "outputId": "0029b8ce-8582-4124-a36f-064d273ae9ab"
      },
      "execution_count": 126,
      "outputs": [
        {
          "output_type": "execute_result",
          "data": {
            "text/plain": [
              "[10,\n",
              " 50,\n",
              " 100,\n",
              " 200,\n",
              " 400,\n",
              " 600,\n",
              " 800,\n",
              " 1000,\n",
              " 1200,\n",
              " 1400,\n",
              " 1600,\n",
              " 1800,\n",
              " 2000,\n",
              " 2200,\n",
              " 2400,\n",
              " 2600,\n",
              " 2800,\n",
              " 3000,\n",
              " 3200,\n",
              " 3400,\n",
              " 3600,\n",
              " 3800,\n",
              " 4000,\n",
              " 4200,\n",
              " 4400,\n",
              " 4600,\n",
              " 4800,\n",
              " 5000]"
            ]
          },
          "metadata": {},
          "execution_count": 126
        }
      ]
    },
    {
      "cell_type": "code",
      "source": [
        "scores =[]\n",
        "for k in estimators:\n",
        "    rfc = RandomForestClassifier(n_estimators=k)\n",
        "    rfc.fit(x_train, y_train)\n",
        "    y_pred = rfc.predict(x_test)\n",
        "    scores.append(accuracy_score(y_test, y_pred))"
      ],
      "metadata": {
        "id": "uq8J8gzVnEWW"
      },
      "execution_count": 149,
      "outputs": []
    },
    {
      "cell_type": "code",
      "source": [
        "rcParams['figure.figsize'] = 12,5\n",
        "plt.plot(estimators, scores)\n",
        "plt.xlabel('Количество деревьев')\n",
        "plt.ylabel('Accuracy')\n",
        "plt.show()"
      ],
      "metadata": {
        "colab": {
          "base_uri": "https://localhost:8080/",
          "height": 334
        },
        "id": "_kADnJjqbSsx",
        "outputId": "bfefb449-de94-4f3d-9dca-02a72bdb1cc7"
      },
      "execution_count": 160,
      "outputs": [
        {
          "output_type": "display_data",
          "data": {
            "text/plain": [
              "<Figure size 864x360 with 1 Axes>"
            ],
            "image/png": "[encoded data removed]"
          },
          "metadata": {
            "needs_background": "light"
          }
        }
      ]
    },
    {
      "cell_type": "markdown",
      "source": [
        "4.Обучите реализации градиентного бустинга с параметрами по умолчанию из библиотек sklearn и xgboost. Сравните значение метрики accuracy по cross_val_score"
      ],
      "metadata": {
        "id": "qgLNJN9CPNLJ"
      }
    },
    {
      "cell_type": "code",
      "source": [
        "from sklearn.ensemble import GradientBoostingClassifier\n",
        "from xgboost import XGBClassifier"
      ],
      "metadata": {
        "id": "6xrPVV9K4ha2"
      },
      "execution_count": 9,
      "outputs": []
    },
    {
      "cell_type": "code",
      "source": [
        "# GradientBoostingClassifier / sklearn\n",
        "\n",
        "GBC = GradientBoostingClassifier(random_state=42).fit(x_train, y_train)\n",
        "y_pred_gbc = GBC.predict(x_test)\n",
        "\n",
        "acc_GBC = cross_val_score(GBC, x_train, y_train, cv=5, scoring='accuracy')\n",
        "acc_sklearn = acc_GBC.mean()\n",
        "print('acc_sklearn:' ,round(acc_sklearn, 2))\n",
        "\n",
        "# xgboost\n",
        "\n",
        "XGB_model = XGBClassifier(random_state=42).fit(x_train, y_train)\n",
        "y_pred_xgb = XGB_model.predict(x_test)\n",
        "\n",
        "acc_XGB = cross_val_score(XGB_model, x_train, y_train, cv=5, scoring='accuracy')\n",
        "acc_xgboost = acc_XGB.mean()\n",
        "print('acc_xgboost:' ,round(acc_xgboost, 2))\n",
        "\n",
        "#acc_sklearn = 0\n",
        "#acc_xgboost = 0\n",
        "results.loc[3] = ['GradientBoostingClassifier', 'task4', acc_sklearn]\n",
        "results.loc[4] = ['XGBClassifier', 'task4', acc_xgboost]"
      ],
      "metadata": {
        "id": "o4W6mGImPI_P",
        "colab": {
          "base_uri": "https://localhost:8080/"
        },
        "outputId": "ace9cc4b-2f3e-4dc3-d942-d89a6bcf44a7"
      },
      "execution_count": 10,
      "outputs": [
        {
          "output_type": "stream",
          "name": "stdout",
          "text": [
            "acc_sklearn: 0.64\n",
            "acc_xgboost: 0.63\n"
          ]
        }
      ]
    },
    {
      "cell_type": "markdown",
      "source": [
        "5.Подберите оптимальные параметры этих алгоритмов с помощью GridSearchCV(cv=3).\n",
        "Параметры для оптимизации:\n",
        "\n",
        "скорость обучения\n",
        "\n",
        "количество деревьев\n",
        "\n",
        "глубина деревьев\n",
        "\n",
        "Сравните значение метрики accuracy. Выведите лучшие параметры алгоритмов."
      ],
      "metadata": {
        "id": "hQ3vve7nPRN5"
      }
    },
    {
      "cell_type": "code",
      "source": [
        "# параметры для GradientBoostingClassifier\n",
        "\n",
        "parameters_sklearn = {\n",
        "              'max_depth': [15, 25, 35],\n",
        "              'learning_rate': [0.01, 0.02, 0.05],\n",
        "              'n_estimators': [50, 100, 150],\n",
        "}"
      ],
      "metadata": {
        "id": "RlgAc802RRVb"
      },
      "execution_count": 11,
      "outputs": []
    },
    {
      "cell_type": "code",
      "source": [
        "%%time\n",
        "GS_GB = GridSearchCV(GBC, param_grid=parameters_sklearn, cv=3)\n",
        "GS_GB.fit(x_train, y_train)"
      ],
      "metadata": {
        "colab": {
          "base_uri": "https://localhost:8080/"
        },
        "id": "1i0t5VucTHw8",
        "outputId": "b81236d8-4e47-424e-9250-abbc360185a3"
      },
      "execution_count": 14,
      "outputs": [
        {
          "output_type": "stream",
          "name": "stdout",
          "text": [
            "CPU times: user 11min 43s, sys: 1.49 s, total: 11min 45s\n",
            "Wall time: 11min 57s\n"
          ]
        },
        {
          "output_type": "execute_result",
          "data": {
            "text/plain": [
              "GridSearchCV(cv=3, estimator=GradientBoostingClassifier(random_state=42),\n",
              "             param_grid={'learning_rate': [0.01, 0.02, 0.05],\n",
              "                         'max_depth': [15, 25, 35],\n",
              "                         'n_estimators': [50, 100, 150]})"
            ]
          },
          "metadata": {},
          "execution_count": 14
        }
      ]
    },
    {
      "cell_type": "code",
      "source": [
        "best_params_sklearn = GS_GB.best_params_\n",
        "best_params_sklearn"
      ],
      "metadata": {
        "colab": {
          "base_uri": "https://localhost:8080/"
        },
        "id": "8uZpx2ZiilV1",
        "outputId": "5013b4f3-c016-4a4b-8c76-340446a3a069"
      },
      "execution_count": 15,
      "outputs": [
        {
          "output_type": "execute_result",
          "data": {
            "text/plain": [
              "{'learning_rate': 0.01, 'max_depth': 15, 'n_estimators': 100}"
            ]
          },
          "metadata": {},
          "execution_count": 15
        }
      ]
    },
    {
      "cell_type": "code",
      "source": [
        "%%time\n",
        "GBC_GS = GradientBoostingClassifier(max_depth=15, learning_rate=0.01, n_estimators=100 , random_state=42).fit(x_train, y_train)\n",
        "y_pred_gbc_gs = GBC_GS.predict(x_test)\n",
        "\n",
        "acc_GBC_GS = cross_val_score(GBC_GS, x_train, y_train, cv=3, scoring='accuracy')\n",
        "acc_sklearn_cv = acc_GBC.mean()\n",
        "print('acc_sklearn_cv:' ,round(acc_sklearn_cv, 2))"
      ],
      "metadata": {
        "colab": {
          "base_uri": "https://localhost:8080/"
        },
        "id": "gp_10IoBixwD",
        "outputId": "e61b92df-9f5e-427a-c5ce-486405cfa78c"
      },
      "execution_count": 16,
      "outputs": [
        {
          "output_type": "stream",
          "name": "stdout",
          "text": [
            "acc_sklearn_cv: 0.64\n",
            "CPU times: user 42.7 s, sys: 153 ms, total: 42.9 s\n",
            "Wall time: 44.5 s\n"
          ]
        }
      ]
    },
    {
      "cell_type": "code",
      "source": [
        "# параметры для Xgboost\n",
        "\n",
        "parameters_xgb = {\n",
        "              'max_depth': [15, 25, 35],\n",
        "              'learning_rate': [0.01, 0.02, 0.05],\n",
        "              'n_estimators': [50, 100, 150],\n",
        "}"
      ],
      "metadata": {
        "id": "HCZt0WUlRRX6"
      },
      "execution_count": 17,
      "outputs": []
    },
    {
      "cell_type": "code",
      "source": [
        "%%time\n",
        "GS_XG = GridSearchCV(XGB_model, param_grid=parameters_xgb, cv=3)\n",
        "GS_XG.fit(x_train, y_train)"
      ],
      "metadata": {
        "colab": {
          "base_uri": "https://localhost:8080/"
        },
        "id": "bWFnclIJRRaT",
        "outputId": "6bdf5ce8-32e9-4286-a129-80ff1cdf38ed"
      },
      "execution_count": 18,
      "outputs": [
        {
          "output_type": "stream",
          "name": "stdout",
          "text": [
            "CPU times: user 1min 25s, sys: 1.29 s, total: 1min 26s\n",
            "Wall time: 1min 27s\n"
          ]
        },
        {
          "output_type": "execute_result",
          "data": {
            "text/plain": [
              "GridSearchCV(cv=3,\n",
              "             estimator=XGBClassifier(objective='multi:softprob',\n",
              "                                     random_state=42),\n",
              "             param_grid={'learning_rate': [0.01, 0.02, 0.05],\n",
              "                         'max_depth': [15, 25, 35],\n",
              "                         'n_estimators': [50, 100, 150]})"
            ]
          },
          "metadata": {},
          "execution_count": 18
        }
      ]
    },
    {
      "cell_type": "code",
      "source": [
        "best_params_xgboost = GS_XG.best_params_\n",
        "best_params_xgboost"
      ],
      "metadata": {
        "colab": {
          "base_uri": "https://localhost:8080/"
        },
        "id": "d4dbKdBnkWoa",
        "outputId": "29224ad9-5b01-4217-de6d-263c9b1b8fdb"
      },
      "execution_count": 19,
      "outputs": [
        {
          "output_type": "execute_result",
          "data": {
            "text/plain": [
              "{'learning_rate': 0.02, 'max_depth': 15, 'n_estimators': 150}"
            ]
          },
          "metadata": {},
          "execution_count": 19
        }
      ]
    },
    {
      "cell_type": "code",
      "source": [
        "%%time\n",
        "XGB_model_GS = XGBClassifier(learning_rate=0.02, max_depth=15, n_estimators=150, random_state=42).fit(x_train, y_train)\n",
        "y_pred_xgb_gs = XGB_model_GS.predict(x_test)\n",
        "\n",
        "acc_XGB_GS = cross_val_score(XGB_model_GS, x_train, y_train, cv=3, scoring='accuracy')\n",
        "acc_xgboost_cv = acc_XGB_GS.mean()\n",
        "print('acc_xgboost_cv:' ,round(acc_xgboost_cv, 2))"
      ],
      "metadata": {
        "colab": {
          "base_uri": "https://localhost:8080/"
        },
        "id": "XBgCLJLuRRc3",
        "outputId": "c0cd48b3-e63f-46be-9b70-4ed53cc04103"
      },
      "execution_count": 20,
      "outputs": [
        {
          "output_type": "stream",
          "name": "stdout",
          "text": [
            "acc_xgboost_cv: 0.63\n",
            "CPU times: user 7.85 s, sys: 121 ms, total: 7.97 s\n",
            "Wall time: 8.08 s\n"
          ]
        }
      ]
    },
    {
      "cell_type": "code",
      "source": [
        "#best_params_sklearn = {}\n",
        "print('Параметры лучшей модели sklearn:\\n', best_params_sklearn)\n",
        "#best_params_xgboost = {}\n",
        "print('Параметры лучшей модели xgboost:\\n', best_params_xgboost)\n",
        "#acc_sklearn_cv = 0\n",
        "#acc_xgboost_cv = 0\n",
        "results.loc[5] = ['GradientBoostingClassifier_CV', 'task5', acc_sklearn_cv]\n",
        "results.loc[6] = ['XGBClassifier_CV', 'task5', acc_xgboost_cv]"
      ],
      "metadata": {
        "id": "OWmwCFUWPJBy",
        "colab": {
          "base_uri": "https://localhost:8080/"
        },
        "outputId": "fd1d9031-513e-495a-879b-b446ef47dbe1"
      },
      "execution_count": 21,
      "outputs": [
        {
          "output_type": "stream",
          "name": "stdout",
          "text": [
            "Параметры лучшей модели sklearn:\n",
            " {'learning_rate': 0.01, 'max_depth': 15, 'n_estimators': 100}\n",
            "Параметры лучшей модели xgboost:\n",
            " {'learning_rate': 0.02, 'max_depth': 15, 'n_estimators': 150}\n"
          ]
        }
      ]
    },
    {
      "cell_type": "markdown",
      "source": [
        "6.Обучите реализации градиентного бустинга с параметрами по умолчанию из библиотек lightgbm и catboost. Сравните значение метрики accuracy по cross_val_score по всем четырем реализациям."
      ],
      "metadata": {
        "id": "Bpp6Ixu6PXfE"
      }
    },
    {
      "cell_type": "code",
      "source": [
        "!pip install catboost"
      ],
      "metadata": {
        "id": "-_h1sULd8bcA",
        "colab": {
          "base_uri": "https://localhost:8080/"
        },
        "outputId": "bb1a52c4-d827-4ebc-eae9-e24026257433"
      },
      "execution_count": 22,
      "outputs": [
        {
          "output_type": "stream",
          "name": "stdout",
          "text": [
            "Looking in indexes: https://pypi.org/simple, https://us-python.pkg.dev/colab-wheels/public/simple/\n",
            "Collecting catboost\n",
            "  Downloading catboost-1.1.1-cp38-none-manylinux1_x86_64.whl (76.6 MB)\n",
            "\u001b[2K     \u001b[90m━━━━━━━━━━━━━━━━━━━━━━━━━━━━━━━━━━━━━━━━\u001b[0m \u001b[32m76.6/76.6 MB\u001b[0m \u001b[31m9.1 MB/s\u001b[0m eta \u001b[36m0:00:00\u001b[0m\n",
            "\u001b[?25hRequirement already satisfied: numpy>=1.16.0 in /usr/local/lib/python3.8/dist-packages (from catboost) (1.21.6)\n",
            "Requirement already satisfied: pandas>=0.24.0 in /usr/local/lib/python3.8/dist-packages (from catboost) (1.3.5)\n",
            "Requirement already satisfied: scipy in /usr/local/lib/python3.8/dist-packages (from catboost) (1.7.3)\n",
            "Requirement already satisfied: matplotlib in /usr/local/lib/python3.8/dist-packages (from catboost) (3.2.2)\n",
            "Requirement already satisfied: six in /usr/local/lib/python3.8/dist-packages (from catboost) (1.15.0)\n",
            "Requirement already satisfied: plotly in /usr/local/lib/python3.8/dist-packages (from catboost) (5.5.0)\n",
            "Requirement already satisfied: graphviz in /usr/local/lib/python3.8/dist-packages (from catboost) (0.10.1)\n",
            "Requirement already satisfied: pytz>=2017.3 in /usr/local/lib/python3.8/dist-packages (from pandas>=0.24.0->catboost) (2022.7.1)\n",
            "Requirement already satisfied: python-dateutil>=2.7.3 in /usr/local/lib/python3.8/dist-packages (from pandas>=0.24.0->catboost) (2.8.2)\n",
            "Requirement already satisfied: cycler>=0.10 in /usr/local/lib/python3.8/dist-packages (from matplotlib->catboost) (0.11.0)\n",
            "Requirement already satisfied: pyparsing!=2.0.4,!=2.1.2,!=2.1.6,>=2.0.1 in /usr/local/lib/python3.8/dist-packages (from matplotlib->catboost) (3.0.9)\n",
            "Requirement already satisfied: kiwisolver>=1.0.1 in /usr/local/lib/python3.8/dist-packages (from matplotlib->catboost) (1.4.4)\n",
            "Requirement already satisfied: tenacity>=6.2.0 in /usr/local/lib/python3.8/dist-packages (from plotly->catboost) (8.2.1)\n",
            "Installing collected packages: catboost\n",
            "Successfully installed catboost-1.1.1\n"
          ]
        }
      ]
    },
    {
      "cell_type": "code",
      "source": [
        "import lightgbm as lgb\n",
        "from catboost import CatBoostClassifier"
      ],
      "metadata": {
        "id": "pAAXOEbpPUKk"
      },
      "execution_count": 23,
      "outputs": []
    },
    {
      "cell_type": "code",
      "source": [
        "# catboost\n",
        "\n",
        "cat_boo = CatBoostClassifier(random_state=42).fit(x_train, y_train)\n",
        "y_pred_cat_b = cat_boo.predict(x_test)\n",
        "acc_CBoo = cross_val_score(cat_boo, x_train, y_train, cv=5, scoring='accuracy')\n",
        "acc_catboost = acc_CBoo.mean()"
      ],
      "metadata": {
        "id": "EojTKLjS91c3"
      },
      "execution_count": null,
      "outputs": []
    },
    {
      "cell_type": "code",
      "source": [
        "# lightgbm\n",
        "\n",
        "light_gbm = lgb.LGBMClassifier().fit(x_train, y_train)\n",
        "y_pred_gbm = light_gbm.predict(x_test)\n",
        "\n",
        "acc_GBM = cross_val_score(light_gbm, x_train, y_train, cv=5, scoring='accuracy')\n",
        "acc_lightgbm = acc_GBM.mean()\n",
        "\n",
        "print('acc_sklearn:' ,round(acc_sklearn, 2))\n",
        "print('acc_xgboost:' ,round(acc_xgboost, 2))\n",
        "\n",
        "print('acc_lightgbm:' ,round(acc_lightgbm, 2))\n",
        "print('acc_catboost:' ,round(acc_catboost, 2))\n",
        "\n",
        "#acc_lightgbm = 0\n",
        "#acc_catboost = 0\n",
        "results.loc[7] = ['LGBMClassifier', 'task6', acc_lightgbm]\n",
        "results.loc[8] = ['CatBoostClassifier', 'task6', acc_catboost]"
      ],
      "metadata": {
        "colab": {
          "base_uri": "https://localhost:8080/"
        },
        "id": "sEcu7Dzz6ss8",
        "outputId": "d4842286-4e5d-4c7c-85a4-69f52d34bb57"
      },
      "execution_count": 25,
      "outputs": [
        {
          "output_type": "stream",
          "name": "stdout",
          "text": [
            "acc_sklearn: 0.64\n",
            "acc_xgboost: 0.63\n",
            "acc_lightgbm: 0.66\n",
            "acc_catboost: 0.66\n"
          ]
        }
      ]
    },
    {
      "cell_type": "markdown",
      "source": [
        "7.Подберите оптимальные параметры для алгоритмов градиентного бустинга из библиотек lightgbm и catboost с теми же условиями.\n",
        "Сравните значение метрики accuracy. Выведите лучшие параметры алгоритмов."
      ],
      "metadata": {
        "id": "tH8kL0IEPbBT"
      }
    },
    {
      "cell_type": "code",
      "source": [
        "from sklearn.model_selection import GridSearchCV"
      ],
      "metadata": {
        "id": "0ONl6oP-Z3Iu"
      },
      "execution_count": 13,
      "outputs": []
    },
    {
      "cell_type": "code",
      "source": [
        "# Lightgbm\n",
        "\n",
        "parameters_light = {\n",
        "              'max_depth': [15, 25, 35],\n",
        "              'learning_rate': [0.01, 0.02, 0.05],\n",
        "              'n_estimators': [50, 100, 150],\n",
        "}"
      ],
      "metadata": {
        "id": "5wHuwHZgZwWr"
      },
      "execution_count": 27,
      "outputs": []
    },
    {
      "cell_type": "code",
      "source": [
        "%%time\n",
        "# модель взял из задания выше - light_gbm\n",
        "\n",
        "gsearch_light = GridSearchCV(light_gbm, param_grid=parameters_light, cv=3)\n",
        "gsearch_light.fit(x_train, y_train)"
      ],
      "metadata": {
        "colab": {
          "base_uri": "https://localhost:8080/"
        },
        "id": "i8JDhBdhZwZa",
        "outputId": "6d18b7f8-3c16-4819-ea1e-b7621478a490"
      },
      "execution_count": 28,
      "outputs": [
        {
          "output_type": "stream",
          "name": "stdout",
          "text": [
            "CPU times: user 39.8 s, sys: 2.18 s, total: 42 s\n",
            "Wall time: 42.3 s\n"
          ]
        },
        {
          "output_type": "execute_result",
          "data": {
            "text/plain": [
              "GridSearchCV(cv=3, estimator=LGBMClassifier(),\n",
              "             param_grid={'learning_rate': [0.01, 0.02, 0.05],\n",
              "                         'max_depth': [15, 25, 35],\n",
              "                         'n_estimators': [50, 100, 150]})"
            ]
          },
          "metadata": {},
          "execution_count": 28
        }
      ]
    },
    {
      "cell_type": "code",
      "source": [
        "best_params_lightgbm = gsearch_light.best_params_\n",
        "best_params_lightgbm"
      ],
      "metadata": {
        "colab": {
          "base_uri": "https://localhost:8080/"
        },
        "id": "TvsqLnXD15C_",
        "outputId": "59618d82-e700-41f2-971c-1ab3c7a9f034"
      },
      "execution_count": 29,
      "outputs": [
        {
          "output_type": "execute_result",
          "data": {
            "text/plain": [
              "{'learning_rate': 0.05, 'max_depth': 25, 'n_estimators': 100}"
            ]
          },
          "metadata": {},
          "execution_count": 29
        }
      ]
    },
    {
      "cell_type": "code",
      "source": [
        "%%time\n",
        "light_gbm_gs = lgb.LGBMClassifier(max_depth= 25, learning_rate= 0.05, n_estimators=100, random_state=42).fit(x_train, y_train)\n",
        "y_pred_lgbm_gs = light_gbm_gs.predict(x_test)\n",
        "\n",
        "acc_light_GS = cross_val_score(light_gbm_gs, x_train, y_train, cv=3, scoring='accuracy')\n",
        "acc_lightgbm_cv = acc_light_GS.mean()\n",
        "print('acc_lightgbm_cv:' ,round(acc_lightgbm_cv, 2))"
      ],
      "metadata": {
        "id": "W9R2xhZeZwcJ",
        "colab": {
          "base_uri": "https://localhost:8080/"
        },
        "outputId": "3f5c02ad-1da6-4842-8603-6d9d2d058de2"
      },
      "execution_count": 30,
      "outputs": [
        {
          "output_type": "stream",
          "name": "stdout",
          "text": [
            "acc_lightgbm_cv: 0.62\n",
            "CPU times: user 1.94 s, sys: 101 ms, total: 2.04 s\n",
            "Wall time: 2.06 s\n"
          ]
        }
      ]
    },
    {
      "cell_type": "code",
      "source": [
        "# Catboost\n",
        "\n",
        "parameters_cat = {\n",
        "              'max_depth': [15, 25, 35],\n",
        "              'learning_rate': [0.01, 0.02, 0.05],\n",
        "              'n_estimators': [10, 20, 30],\n",
        "}"
      ],
      "metadata": {
        "id": "MX66PxdL2zMu"
      },
      "execution_count": 34,
      "outputs": []
    },
    {
      "cell_type": "code",
      "source": [
        "%%time\n",
        "gsearch_xgbm = GridSearchCV(cat_boo, param_grid=parameters_cat, cv=3)\n",
        "gsearch_xgbm.fit(x_train, y_train)"
      ],
      "metadata": {
        "id": "wedHa9GZ4F_a"
      },
      "execution_count": null,
      "outputs": []
    },
    {
      "cell_type": "code",
      "source": [
        "best_params_catboost = gsearch_xgbm.best_params_\n",
        "best_params_catboost"
      ],
      "metadata": {
        "colab": {
          "base_uri": "https://localhost:8080/"
        },
        "id": "DafBnkvX4e8t",
        "outputId": "601394ff-9e1c-404a-d9d6-240e9219cd46"
      },
      "execution_count": 36,
      "outputs": [
        {
          "output_type": "execute_result",
          "data": {
            "text/plain": [
              "{'learning_rate': 0.05, 'max_depth': 15, 'n_estimators': 10}"
            ]
          },
          "metadata": {},
          "execution_count": 36
        }
      ]
    },
    {
      "cell_type": "code",
      "source": [
        "%%time\n",
        "cat_boo_gs = CatBoostClassifier(max_depth= 15, learning_rate= 0.05, n_estimators= 10, random_state=42).fit(x_train, y_train)\n",
        "y_pred_cat_gs = cat_boo_gs.predict(x_test)\n",
        "\n",
        "acc_cat_GS = cross_val_score(cat_boo_gs, x_train, y_train, cv=3, scoring='accuracy')\n",
        "acc_catboost_cv = acc_cat_GS.mean()"
      ],
      "metadata": {
        "id": "7TW3XN7h2zRj"
      },
      "execution_count": null,
      "outputs": []
    },
    {
      "cell_type": "code",
      "source": [
        "print('acc_lightgbm_cv:' ,round(acc_lightgbm_cv, 2))\n",
        "print('acc_catboost_cv:' ,round(acc_catboost_cv, 2))\n",
        "\n",
        "#best_params_lightgbm = {}\n",
        "print('Параметры лучшей модели lightgbm:\\n', best_params_lightgbm)\n",
        "#best_params_catboost = {}\n",
        "print('Параметры лучшей модели catboost:\\n', best_params_catboost)\n",
        "#acc_lightgbm_cv = 0\n",
        "#acc_catboost_cv = 0\n",
        "results.loc[9] = ['LGBMClassifier_CV', 'task7', acc_lightgbm_cv]\n",
        "results.loc[10] = ['CatBoostClassifier_CV', 'task7', acc_catboost_cv]"
      ],
      "metadata": {
        "id": "puJGdzNMPakR",
        "colab": {
          "base_uri": "https://localhost:8080/"
        },
        "outputId": "55af6dbd-8a8e-4b26-c1a7-a8d123c7e77d"
      },
      "execution_count": 38,
      "outputs": [
        {
          "output_type": "stream",
          "name": "stdout",
          "text": [
            "acc_lightgbm_cv: 0.62\n",
            "acc_catboost_cv: 0.62\n",
            "Параметры лучшей модели lightgbm:\n",
            " {'learning_rate': 0.05, 'max_depth': 25, 'n_estimators': 100}\n",
            "Параметры лучшей модели catboost:\n",
            " {'learning_rate': 0.05, 'max_depth': 15, 'n_estimators': 10}\n"
          ]
        }
      ]
    },
    {
      "cell_type": "markdown",
      "source": [
        "8.Подберите оптимальные параметры алгоритма из библиотеки xgbost с помощью [optuna](https://github.com/optuna/optuna) . Параметры для оптимизации:\n",
        "\n",
        "скорость обучения\n",
        "\n",
        "количество деревьев\n",
        "\n",
        "глубина деревьев\n",
        "\n",
        "Сравните результат с поиском по сетке из sklearn. Выведите лучшие параметры алгоритма, найденные даным способом."
      ],
      "metadata": {
        "id": "k_URCMJMPfz4"
      }
    },
    {
      "cell_type": "code",
      "source": [
        "!pip install optuna"
      ],
      "metadata": {
        "id": "2DlTEv087v6z"
      },
      "execution_count": null,
      "outputs": []
    },
    {
      "cell_type": "code",
      "source": [
        "import optuna\n",
        "from sklearn.metrics import accuracy_score"
      ],
      "metadata": {
        "id": "4ziVygmF5tjm"
      },
      "execution_count": 94,
      "outputs": []
    },
    {
      "cell_type": "code",
      "source": [
        "# объявляем функцией сетку параметров\n",
        "\n",
        "def objective(trial):\n",
        "\n",
        "    params = {\n",
        "        'max_depth': trial.suggest_int('max_depth', 1, 9),\n",
        "        'learning_rate': trial.suggest_float('learning_rate', 0.01, 1.0),\n",
        "        'n_estimators': trial.suggest_int('n_estimators', 50, 500),\n",
        "    }\n",
        "\n",
        "    optuna_model = XGBClassifier(**params)\n",
        "    optuna_model.fit(x_train, y_train)\n",
        "    \n",
        "    y_pred_op = optuna_model.predict(x_test)\n",
        "\n",
        "    accuracy = accuracy_score(y_test, y_pred_op)\n",
        "    return accuracy"
      ],
      "metadata": {
        "id": "sGG_p_nnHnCN"
      },
      "execution_count": 97,
      "outputs": []
    },
    {
      "cell_type": "code",
      "source": [
        "%%time\n",
        "# делаем обучение с помощью оптюна / подбираем параметры\n",
        "\n",
        "study = optuna.create_study(direction='maximize')\n",
        "study.optimize(objective, n_trials=50)"
      ],
      "metadata": {
        "id": "o6tiMsHa5trI"
      },
      "execution_count": null,
      "outputs": []
    },
    {
      "cell_type": "code",
      "source": [
        "# узнаем лучшие параметры\n",
        "\n",
        "print('Number of finished trials: {}'.format(len(study.trials)))\n",
        "print('Best trial:')\n",
        "trial = study.best_trial\n",
        "\n",
        "print('  Value: {}'.format(trial.value))\n",
        "print('  Params: ')\n",
        "\n",
        "for key, value in trial.params.items():\n",
        "    print('    {}: {}'.format(key, value))"
      ],
      "metadata": {
        "id": "pcAuGLrk6_90",
        "colab": {
          "base_uri": "https://localhost:8080/"
        },
        "outputId": "4eac45c4-3b91-4456-b536-42d271eb20e8"
      },
      "execution_count": 104,
      "outputs": [
        {
          "output_type": "stream",
          "name": "stdout",
          "text": [
            "Number of finished trials: 50\n",
            "Best trial:\n",
            "  Value: 0.6833333333333333\n",
            "  Params: \n",
            "    max_depth: 8\n",
            "    learning_rate: 0.9772717100333526\n",
            "    n_estimators: 66\n"
          ]
        }
      ]
    },
    {
      "cell_type": "code",
      "source": [
        "trial.params"
      ],
      "metadata": {
        "colab": {
          "base_uri": "https://localhost:8080/"
        },
        "id": "nXgiGM2KW_nu",
        "outputId": "1b8ab1d3-c6c3-4436-f34b-2000fe677640"
      },
      "execution_count": 110,
      "outputs": [
        {
          "output_type": "execute_result",
          "data": {
            "text/plain": [
              "{'max_depth': 8, 'learning_rate': 0.9772717100333526, 'n_estimators': 66}"
            ]
          },
          "metadata": {},
          "execution_count": 110
        }
      ]
    },
    {
      "cell_type": "code",
      "source": [
        "# узнаем лучшие параметры 2\n",
        "\n",
        "best_params_xgboost_optuna = trial.params"
      ],
      "metadata": {
        "id": "KbF4vldq7AAO"
      },
      "execution_count": 112,
      "outputs": []
    },
    {
      "cell_type": "code",
      "source": [
        "# обучаемся на лучших параметрах и считаем точность\n",
        "\n",
        "model_2 = XGBClassifier(**best_params_xgboost_optuna)\n",
        "model_2.fit(x_train, y_train)\n",
        "y_pred_op2 = model_2.predict(x_test)\n",
        "\n",
        "acc_xgb_op = cross_val_score(model_2, x_train, y_train, cv=3, scoring='accuracy')\n",
        "acc_xgboost_optuna = acc_xgb_op.mean()"
      ],
      "metadata": {
        "id": "SvHbDDpi7RdS"
      },
      "execution_count": 103,
      "outputs": []
    },
    {
      "cell_type": "code",
      "source": [
        "print('acc_xgboost_cv:' ,round(acc_xgboost_cv, 2)) #задание №5\n",
        "print('-----')\n",
        "print('acc_xgboost_optuna:' ,round(acc_xgboost_optuna, 2))"
      ],
      "metadata": {
        "id": "iCg5eyxP7Rfl",
        "colab": {
          "base_uri": "https://localhost:8080/"
        },
        "outputId": "13d5c770-eeb9-4190-fb36-cbfe9fd94792"
      },
      "execution_count": 106,
      "outputs": [
        {
          "output_type": "stream",
          "name": "stdout",
          "text": [
            "acc_xgboost_cv: 0.63\n",
            "-----\n",
            "acc_xgboost_optuna: 0.62\n"
          ]
        }
      ]
    },
    {
      "cell_type": "code",
      "source": [
        "### Ваш код ###\n",
        "\n",
        "##best_params_xgboost_optuna = {}\n",
        "print('Параметры лучшей модели xgboost:\\n', best_params_xgboost_optuna)\n",
        "#acc_xgboost_optuna = 0\n",
        "results.loc[11] = ['XGBClassifier_optuna', 'task8', acc_xgboost_optuna]"
      ],
      "metadata": {
        "id": "OEUhVUyePJEW",
        "colab": {
          "base_uri": "https://localhost:8080/"
        },
        "outputId": "d0140494-61e1-4347-c734-1b6a77a63180"
      },
      "execution_count": 113,
      "outputs": [
        {
          "output_type": "stream",
          "name": "stdout",
          "text": [
            "Параметры лучшей модели xgboost:\n",
            " {'max_depth': 8, 'learning_rate': 0.9772717100333526, 'n_estimators': 66}\n"
          ]
        }
      ]
    },
    {
      "cell_type": "markdown",
      "source": [
        "9.Выведите качество по метрике accuracy стэкинга (StackingClassifier) 4-х алгоритмов с базовыми параметрами градиентного бустинга."
      ],
      "metadata": {
        "id": "MIN3Jb_mPkHQ"
      }
    },
    {
      "cell_type": "code",
      "source": [
        "from sklearn.ensemble import StackingClassifier\n",
        "from sklearn.linear_model import LogisticRegression"
      ],
      "metadata": {
        "id": "7OB8qqCy-8XJ"
      },
      "execution_count": 116,
      "outputs": []
    },
    {
      "cell_type": "code",
      "source": [
        "# объявляем список моделей, которые будем стакать\n",
        "\n",
        "estimators_list = [(\"GBC_1\", GradientBoostingClassifier()), (\"XBC_1\", XGBClassifier()), (\"CBC_1\", CatBoostClassifier()), (\"LGB_1\", lgb.LGBMClassifier())]"
      ],
      "metadata": {
        "id": "klqaLS8qN6Jd"
      },
      "execution_count": null,
      "outputs": []
    },
    {
      "cell_type": "code",
      "source": [
        "# обьявляем модель + выбираем в качестве финальной лог регрессию\n",
        "\n",
        "stack_boost = StackingClassifier(estimators = estimators_list, final_estimator=LogisticRegression())"
      ],
      "metadata": {
        "id": "Sn6_Hjx0Bm6V"
      },
      "execution_count": null,
      "outputs": []
    },
    {
      "cell_type": "code",
      "source": [
        "# обучаем стак моделей\n",
        "\n",
        "stack_boost.fit(x_train, y_train)"
      ],
      "metadata": {
        "id": "QFLZj2h4V1-Q"
      },
      "execution_count": null,
      "outputs": []
    },
    {
      "cell_type": "code",
      "source": [
        "# далем предсказание\n",
        "\n",
        "y_pred_stack = stack_boost.predict(x_test)\n",
        "y_pred_stack"
      ],
      "metadata": {
        "colab": {
          "base_uri": "https://localhost:8080/"
        },
        "id": "FDIJs1TrWSNS",
        "outputId": "fdfb4b14-ee64-448b-ba26-f046c0548378"
      },
      "execution_count": null,
      "outputs": [
        {
          "output_type": "execute_result",
          "data": {
            "text/plain": [
              "array([5, 5, 5, 5, 6, 5, 5, 5, 6, 6, 6, 5, 6, 5, 5, 7, 6, 6, 7, 5, 5, 6,\n",
              "       5, 6, 6, 6, 6, 5, 5, 6, 5, 5, 6, 6, 5, 5, 6, 6, 5, 6, 5, 5, 6, 5,\n",
              "       5, 6, 6, 6, 5, 6, 5, 5, 6, 7, 5, 5, 6, 6, 6, 5, 6, 6, 5, 5, 7, 5,\n",
              "       7, 6, 7, 5, 6, 5, 6, 6, 6, 5, 7, 5, 6, 6, 5, 7, 5, 6, 6, 6, 5, 6,\n",
              "       7, 5, 6, 5, 5, 5, 5, 5, 5, 6, 5, 6, 5, 5, 6, 6, 6, 7, 6, 5, 6, 5,\n",
              "       6, 5, 7, 5, 5, 6, 5, 5, 5, 6, 6, 6, 6, 5, 6, 5, 6, 6, 5, 6, 6, 5,\n",
              "       5, 6, 6, 5, 5, 5, 5, 6, 7, 6, 7, 5, 5, 5, 6, 6, 6, 5, 6, 6, 6, 5,\n",
              "       6, 5, 6, 6, 5, 6, 6, 6, 6, 5, 5, 6, 6, 5, 5, 5, 5, 5, 7, 5, 7, 6,\n",
              "       6, 5, 5, 5, 5, 6, 5, 6, 5, 6, 6, 6, 7, 5, 5, 6, 5, 6, 6, 5, 5, 6,\n",
              "       6, 7, 5, 5, 5, 5, 7, 5, 5, 5, 6, 7, 6, 5, 5, 6, 6, 6, 6, 5, 6, 6,\n",
              "       6, 6, 6, 6, 6, 5, 5, 7, 5, 5, 5, 5, 7, 6, 5, 7, 5, 6, 6, 5, 5, 5,\n",
              "       6, 7, 6, 7, 6, 6, 6, 5, 6, 5, 5, 6, 6, 5, 5, 6, 6, 6, 6, 5, 5, 7,\n",
              "       6, 6, 6, 5, 6, 6, 5, 6, 5, 6, 6, 5, 6, 6, 6, 6, 7, 5, 5, 5, 5, 7,\n",
              "       5, 6, 5, 6, 5, 7, 5, 5, 5, 6, 5, 6, 6, 6, 5, 5, 6, 5, 6, 5, 6, 6,\n",
              "       6, 7, 6, 5, 6, 6, 6, 6, 5, 5, 6, 5, 6, 6, 6, 5, 5, 5, 6, 6, 5, 6,\n",
              "       6, 7, 5, 6, 6, 6, 6, 6, 5, 5, 6, 6, 5, 5, 6, 5, 6, 5, 6, 6, 6, 6,\n",
              "       5, 6, 6, 6, 5, 5, 5, 5, 6, 5, 5, 6, 5, 6, 6, 5, 5, 5, 5, 5, 6, 5,\n",
              "       6, 6, 6, 6, 5, 6, 5, 6, 7, 5, 7, 7, 6, 5, 6, 6, 5, 5, 5, 6, 6, 6,\n",
              "       6, 5, 5, 6, 5, 5, 6, 5, 6, 6, 7, 6, 6, 5, 6, 6, 6, 6, 5, 6, 6, 7,\n",
              "       6, 7, 6, 5, 6, 5, 6, 6, 5, 5, 6, 5, 7, 6, 5, 5, 7, 5, 6, 5, 5, 6,\n",
              "       5, 6, 6, 5, 5, 5, 5, 5, 6, 5, 6, 6, 5, 5, 5, 6, 7, 5, 6, 5, 5, 5,\n",
              "       5, 5, 6, 5, 6, 6, 5, 6, 7, 5, 6, 6, 5, 7, 5, 6, 6, 5])"
            ]
          },
          "metadata": {},
          "execution_count": 114
        }
      ]
    },
    {
      "cell_type": "code",
      "source": [
        "# считаем точность модели\n",
        "\n",
        "scores_2 = cross_val_score(stack_boost, x_train, y_train,cv=3, scoring='accuracy')"
      ],
      "metadata": {
        "id": "DdhZMpnALAHT"
      },
      "execution_count": null,
      "outputs": []
    },
    {
      "cell_type": "code",
      "source": [
        "acc_stacking_default = scores_2.mean()\n",
        "\n",
        "print('acc_stacking_default:' ,round(acc_stacking_default, 2))\n",
        "\n",
        "#acc_stacking_default = 0\n",
        "results.loc[12] = ['Stacking default', 'task9', acc_stacking_default]"
      ],
      "metadata": {
        "id": "_XqAEcRAPic6",
        "colab": {
          "base_uri": "https://localhost:8080/"
        },
        "outputId": "2b08ba0c-4ac8-4251-cefc-18d035de790e"
      },
      "execution_count": null,
      "outputs": [
        {
          "output_type": "stream",
          "name": "stdout",
          "text": [
            "acc_stacking_default: 0.64\n"
          ]
        }
      ]
    },
    {
      "cell_type": "markdown",
      "source": [
        "10.Выведите качество по метрике accuracy стэкинга 4-х алгоритмов с оптимальными параметрами градиентного бустинга. Сравните результаты с предыдущим шагом и напишите какой вывод можно из этого сделать."
      ],
      "metadata": {
        "id": "4_9m68jNPmow"
      }
    },
    {
      "cell_type": "code",
      "source": [
        "estimators_list_best = [(\"XGB_GS\", XGB_model_GS), (\"GBC_GS\", GBC_GS), (\"LGBM_GS\", light_gbm_gs), (\"CAT_BOO_GS\", cat_boo_gs)]"
      ],
      "metadata": {
        "id": "7D6ztUD3-Bba"
      },
      "execution_count": 114,
      "outputs": []
    },
    {
      "cell_type": "code",
      "source": [
        "stack_boost_best = StackingClassifier(estimators = estimators_list_best, final_estimator=LogisticRegression())"
      ],
      "metadata": {
        "id": "Lw0OMKgB-Bd7"
      },
      "execution_count": 118,
      "outputs": []
    },
    {
      "cell_type": "code",
      "source": [
        "# обучаем стак моделей\n",
        "\n",
        "stack_boost_best.fit(x_train, y_train)\n",
        "y_pred_stack_best = stack_boost_best.predict(x_test)"
      ],
      "metadata": {
        "id": "x8FUgRff-BgR"
      },
      "execution_count": null,
      "outputs": []
    },
    {
      "cell_type": "code",
      "source": [
        "scores_3 = cross_val_score(stack_boost_best, x_train, y_train,cv=3, scoring='accuracy')\n",
        "\n",
        "acc_stacking = scores_3.mean()"
      ],
      "metadata": {
        "id": "Qk9fMEy4-Bjt"
      },
      "execution_count": null,
      "outputs": []
    },
    {
      "cell_type": "code",
      "source": [
        "print('acc_stacking:' ,round(acc_stacking, 2))"
      ],
      "metadata": {
        "colab": {
          "base_uri": "https://localhost:8080/"
        },
        "id": "qgI5n5MictWD",
        "outputId": "3d6708cf-6338-4edd-e722-d5d74c35aa79"
      },
      "execution_count": 122,
      "outputs": [
        {
          "output_type": "stream",
          "name": "stdout",
          "text": [
            "acc_stacking: 0.62\n"
          ]
        }
      ]
    },
    {
      "cell_type": "code",
      "source": [
        "#acc_stacking = 0\n",
        "results.loc[13] = ['Stacking', 'task10', acc_stacking]"
      ],
      "metadata": {
        "id": "mxPQDbnOPiks"
      },
      "execution_count": 121,
      "outputs": []
    },
    {
      "cell_type": "code",
      "source": [
        "results"
      ],
      "metadata": {
        "id": "9_CEr9SEPqzb",
        "colab": {
          "base_uri": "https://localhost:8080/",
          "height": 457
        },
        "outputId": "5414024b-3220-4e76-e1d5-86faf3f17570"
      },
      "execution_count": 123,
      "outputs": [
        {
          "output_type": "execute_result",
          "data": {
            "text/plain": [
              "                            model    task  accuracy\n",
              "0          DecisionTreeClassifier   task2  0.589806\n",
              "1              BaggingClassifier    task2  0.671188\n",
              "2          RandomForestClassifier   task2  0.678343\n",
              "3      GradientBoostingClassifier   task4  0.643486\n",
              "4                   XGBClassifier   task4  0.632783\n",
              "5   GradientBoostingClassifier_CV   task5  0.643486\n",
              "6                XGBClassifier_CV   task5  0.630027\n",
              "7                  LGBMClassifier   task6  0.657731\n",
              "8              CatBoostClassifier   task6  0.657771\n",
              "9               LGBMClassifier_CV   task7  0.623771\n",
              "10          CatBoostClassifier_CV   task7  0.620197\n",
              "11           XGBClassifier_optuna   task8  0.615728\n",
              "13                       Stacking  task10  0.623771"
            ],
            "text/html": [
              "\n",
              "  <div id=\"df-876e786c-96d4-48f9-9801-b3cd97393ba1\">\n",
              "    <div class=\"colab-df-container\">\n",
              "      <div>\n",
              "<style scoped>\n",
              "    .dataframe tbody tr th:only-of-type {\n",
              "        vertical-align: middle;\n",
              "    }\n",
              "\n",
              "    .dataframe tbody tr th {\n",
              "        vertical-align: top;\n",
              "    }\n",
              "\n",
              "    .dataframe thead th {\n",
              "        text-align: right;\n",
              "    }\n",
              "</style>\n",
              "<table border=\"1\" class=\"dataframe\">\n",
              "  <thead>\n",
              "    <tr style=\"text-align: right;\">\n",
              "      <th></th>\n",
              "      <th>model</th>\n",
              "      <th>task</th>\n",
              "      <th>accuracy</th>\n",
              "    </tr>\n",
              "  </thead>\n",
              "  <tbody>\n",
              "    <tr>\n",
              "      <th>0</th>\n",
              "      <td>DecisionTreeClassifier</td>\n",
              "      <td>task2</td>\n",
              "      <td>0.589806</td>\n",
              "    </tr>\n",
              "    <tr>\n",
              "      <th>1</th>\n",
              "      <td>BaggingClassifier</td>\n",
              "      <td>task2</td>\n",
              "      <td>0.671188</td>\n",
              "    </tr>\n",
              "    <tr>\n",
              "      <th>2</th>\n",
              "      <td>RandomForestClassifier</td>\n",
              "      <td>task2</td>\n",
              "      <td>0.678343</td>\n",
              "    </tr>\n",
              "    <tr>\n",
              "      <th>3</th>\n",
              "      <td>GradientBoostingClassifier</td>\n",
              "      <td>task4</td>\n",
              "      <td>0.643486</td>\n",
              "    </tr>\n",
              "    <tr>\n",
              "      <th>4</th>\n",
              "      <td>XGBClassifier</td>\n",
              "      <td>task4</td>\n",
              "      <td>0.632783</td>\n",
              "    </tr>\n",
              "    <tr>\n",
              "      <th>5</th>\n",
              "      <td>GradientBoostingClassifier_CV</td>\n",
              "      <td>task5</td>\n",
              "      <td>0.643486</td>\n",
              "    </tr>\n",
              "    <tr>\n",
              "      <th>6</th>\n",
              "      <td>XGBClassifier_CV</td>\n",
              "      <td>task5</td>\n",
              "      <td>0.630027</td>\n",
              "    </tr>\n",
              "    <tr>\n",
              "      <th>7</th>\n",
              "      <td>LGBMClassifier</td>\n",
              "      <td>task6</td>\n",
              "      <td>0.657731</td>\n",
              "    </tr>\n",
              "    <tr>\n",
              "      <th>8</th>\n",
              "      <td>CatBoostClassifier</td>\n",
              "      <td>task6</td>\n",
              "      <td>0.657771</td>\n",
              "    </tr>\n",
              "    <tr>\n",
              "      <th>9</th>\n",
              "      <td>LGBMClassifier_CV</td>\n",
              "      <td>task7</td>\n",
              "      <td>0.623771</td>\n",
              "    </tr>\n",
              "    <tr>\n",
              "      <th>10</th>\n",
              "      <td>CatBoostClassifier_CV</td>\n",
              "      <td>task7</td>\n",
              "      <td>0.620197</td>\n",
              "    </tr>\n",
              "    <tr>\n",
              "      <th>11</th>\n",
              "      <td>XGBClassifier_optuna</td>\n",
              "      <td>task8</td>\n",
              "      <td>0.615728</td>\n",
              "    </tr>\n",
              "    <tr>\n",
              "      <th>13</th>\n",
              "      <td>Stacking</td>\n",
              "      <td>task10</td>\n",
              "      <td>0.623771</td>\n",
              "    </tr>\n",
              "  </tbody>\n",
              "</table>\n",
              "</div>\n",
              "      <button class=\"colab-df-convert\" onclick=\"convertToInteractive('df-876e786c-96d4-48f9-9801-b3cd97393ba1')\"\n",
              "              title=\"Convert this dataframe to an interactive table.\"\n",
              "              style=\"display:none;\">\n",
              "        \n",
              "  <svg xmlns=\"http://www.w3.org/2000/svg\" height=\"24px\"viewBox=\"0 0 24 24\"\n",
              "       width=\"24px\">\n",
              "    <path d=\"M0 0h24v24H0V0z\" fill=\"none\"/>\n",
              "    <path d=\"M18.56 5.44l.94 2.06.94-2.06 2.06-.94-2.06-.94-.94-2.06-.94 2.06-2.06.94zm-11 1L8.5 8.5l.94-2.06 2.06-.94-2.06-.94L8.5 2.5l-.94 2.06-2.06.94zm10 10l.94 2.06.94-2.06 2.06-.94-2.06-.94-.94-2.06-.94 2.06-2.06.94z\"/><path d=\"M17.41 7.96l-1.37-1.37c-.4-.4-.92-.59-1.43-.59-.52 0-1.04.2-1.43.59L10.3 9.45l-7.72 7.72c-.78.78-.78 2.05 0 2.83L4 21.41c.39.39.9.59 1.41.59.51 0 1.02-.2 1.41-.59l7.78-7.78 2.81-2.81c.8-.78.8-2.07 0-2.86zM5.41 20L4 18.59l7.72-7.72 1.47 1.35L5.41 20z\"/>\n",
              "  </svg>\n",
              "      </button>\n",
              "      \n",
              "  <style>\n",
              "    .colab-df-container {\n",
              "      display:flex;\n",
              "      flex-wrap:wrap;\n",
              "      gap: 12px;\n",
              "    }\n",
              "\n",
              "    .colab-df-convert {\n",
              "      background-color: #E8F0FE;\n",
              "      border: none;\n",
              "      border-radius: 50%;\n",
              "      cursor: pointer;\n",
              "      display: none;\n",
              "      fill: #1967D2;\n",
              "      height: 32px;\n",
              "      padding: 0 0 0 0;\n",
              "      width: 32px;\n",
              "    }\n",
              "\n",
              "    .colab-df-convert:hover {\n",
              "      background-color: #E2EBFA;\n",
              "      box-shadow: 0px 1px 2px rgba(60, 64, 67, 0.3), 0px 1px 3px 1px rgba(60, 64, 67, 0.15);\n",
              "      fill: #174EA6;\n",
              "    }\n",
              "\n",
              "    [theme=dark] .colab-df-convert {\n",
              "      background-color: #3B4455;\n",
              "      fill: #D2E3FC;\n",
              "    }\n",
              "\n",
              "    [theme=dark] .colab-df-convert:hover {\n",
              "      background-color: #434B5C;\n",
              "      box-shadow: 0px 1px 3px 1px rgba(0, 0, 0, 0.15);\n",
              "      filter: drop-shadow(0px 1px 2px rgba(0, 0, 0, 0.3));\n",
              "      fill: #FFFFFF;\n",
              "    }\n",
              "  </style>\n",
              "\n",
              "      <script>\n",
              "        const buttonEl =\n",
              "          document.querySelector('#df-876e786c-96d4-48f9-9801-b3cd97393ba1 button.colab-df-convert');\n",
              "        buttonEl.style.display =\n",
              "          google.colab.kernel.accessAllowed ? 'block' : 'none';\n",
              "\n",
              "        async function convertToInteractive(key) {\n",
              "          const element = document.querySelector('#df-876e786c-96d4-48f9-9801-b3cd97393ba1');\n",
              "          const dataTable =\n",
              "            await google.colab.kernel.invokeFunction('convertToInteractive',\n",
              "                                                     [key], {});\n",
              "          if (!dataTable) return;\n",
              "\n",
              "          const docLinkHtml = 'Like what you see? Visit the ' +\n",
              "            '<a target=\"_blank\" href=https://colab.research.google.com/notebooks/data_table.ipynb>data table notebook</a>'\n",
              "            + ' to learn more about interactive tables.';\n",
              "          element.innerHTML = '';\n",
              "          dataTable['output_type'] = 'display_data';\n",
              "          await google.colab.output.renderOutput(dataTable, element);\n",
              "          const docLink = document.createElement('div');\n",
              "          docLink.innerHTML = docLinkHtml;\n",
              "          element.appendChild(docLink);\n",
              "        }\n",
              "      </script>\n",
              "    </div>\n",
              "  </div>\n",
              "  "
            ]
          },
          "metadata": {},
          "execution_count": 123
        }
      ]
    },
    {
      "cell_type": "code",
      "source": [],
      "metadata": {
        "id": "Xz_2Xw_nPsOP"
      },
      "execution_count": null,
      "outputs": []
    },
    {
      "cell_type": "code",
      "source": [],
      "metadata": {
        "id": "74MVSHOwPsRR"
      },
      "execution_count": null,
      "outputs": []
    }
  ]
}
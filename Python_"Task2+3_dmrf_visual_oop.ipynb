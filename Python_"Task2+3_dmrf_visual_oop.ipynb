{
  "cells": [
    {
      "cell_type": "markdown",
      "metadata": {
        "id": "view-in-github",
        "colab_type": "text"
      },
      "source": [
        "<a href=\"https://colab.research.google.com/github/IKAR42/SberDS_Study/blob/main/Python_%22Task2%2B3_dmrf_visual_oop.ipynb\" target=\"_parent\"><img src=\"https://colab.research.google.com/assets/colab-badge.svg\" alt=\"Open In Colab\"/></a>"
      ]
    },
    {
      "cell_type": "markdown",
      "source": [
        "# Задание\n",
        "* Собрать информацию о всех строящихся объектах на сайте \"наш.дом.рф\"\n",
        "* Cохранить результаты в pandas dataframe\n",
        "<hr>\n",
        "\n",
        "* Проверить состояние датафрейма и привести его в формат, позволяющий дальнейшее исследование данных:\n",
        "-- Привести колонки датафрейма к одному типу данных\n",
        "-- Проверить индекс, чтобы он соответствовал порядку строк\n",
        "-- Проверить наличие пропусков и в случае обнаружения, определить стратегию их обработки\n",
        "<hr>\n",
        "\n",
        "* Провести мини-исследование рынка строящейся недвижимости в одном или нескольких регионах с помощью pandas, matplotlib, seaborn, plotly и других инструментов.\n",
        "-- Рассчитать средние цены за квадратный метр по регионам. Важно чтобы пропуски не учитывались при расчете средней цены.\n",
        "-- Рассчитать объемы вводимого жилья по регионам и по годам.\n",
        "-- Сравнить этажность домов, количество квартир, жилую площадь, количество парковочных мест и цену за квадратный метр в разных регионах\n",
        "-- Визуализировать разброс, связь и распределение этих показателей по регионам\n",
        "-- Сделать выводы по каждому из расчетов и графиков\n",
        "\n"
      ],
      "metadata": {
        "collapsed": false,
        "pycharm": {
          "name": "#%% md\n"
        },
        "id": "kCU4H3GURdXv"
      }
    },
    {
      "cell_type": "markdown",
      "source": [
        "## Список объектов"
      ],
      "metadata": {
        "collapsed": false,
        "pycharm": {
          "name": "#%% md\n"
        },
        "id": "-Iv3z0tcRdX2"
      }
    },
    {
      "cell_type": "markdown",
      "source": [
        "# Данные по определенному объекту"
      ],
      "metadata": {
        "collapsed": false,
        "pycharm": {
          "name": "#%% md\n"
        },
        "id": "qfTXDoMWRdX4"
      }
    },
    {
      "cell_type": "code",
      "execution_count": 1,
      "outputs": [],
      "source": [
        "# Импортируем все необходимые библиотеки\n",
        "import pandas as pd\n",
        "# Ставим ограничение на показ максимального количества строк\n",
        "pd.options.display.max_rows = 100"
      ],
      "metadata": {
        "pycharm": {
          "name": "#%%\n"
        },
        "id": "CXeJQYZyRdX5"
      }
    },
    {
      "cell_type": "code",
      "source": [
        "# Подключаемся к облаку Гугла чтобы достать дата сет\n",
        "from google.colab import drive\n",
        "drive.mount('/content/drive')"
      ],
      "metadata": {
        "id": "TsksEEBxSefj",
        "colab": {
          "base_uri": "https://localhost:8080/"
        },
        "outputId": "68292c49-15f6-48ca-a12e-d7ae2841f996"
      },
      "execution_count": 2,
      "outputs": [
        {
          "output_type": "stream",
          "name": "stdout",
          "text": [
            "Mounted at /content/drive\n"
          ]
        }
      ]
    },
    {
      "cell_type": "code",
      "source": [
        "# Подгружаем ранее подготовленный дата сет\n",
        "df_1 = pd.read_csv('drive/My Drive/Hometask1_1.csv')"
      ],
      "metadata": {
        "id": "z3qU0uP0oKyB"
      },
      "execution_count": 3,
      "outputs": []
    },
    {
      "cell_type": "markdown",
      "source": [
        "### EDA (Разведочный анализ данных)"
      ],
      "metadata": {
        "id": "t-39c6L6Zmyx"
      }
    },
    {
      "cell_type": "code",
      "source": [
        "# Проверяем загрузился ли дата сет\n",
        "df_1.head(3)"
      ],
      "metadata": {
        "colab": {
          "base_uri": "https://localhost:8080/",
          "height": 309
        },
        "id": "PKQ-DcYypTw9",
        "outputId": "5d617060-b038-46a2-fe0c-e0086024eb01"
      },
      "execution_count": 4,
      "outputs": [
        {
          "output_type": "execute_result",
          "data": {
            "text/plain": [
              "   Unnamed: 0     id Название обьекта                            Адрес  \\\n",
              "0           0  13383              NaN                         г Тюмень   \n",
              "1           1  13398              NaN  г Тюмень, ул Профсоюзная, д. 56   \n",
              "2           2  13397              NaN  г Тюмень, ул Профсоюзная, д. 56   \n",
              "\n",
              "   Регион  Срок сдачи  Стоимость м.кв. Класс жилья  Кол-во квартир  \\\n",
              "0      72  2022-12-31          53109.0     Элитный              68   \n",
              "1      72  2024-12-31          47886.0     Элитный              43   \n",
              "2      72  2024-12-31          45523.0     Элитный              65   \n",
              "\n",
              "   Максимум этажей  Минимум этажей  Отделка  Грузоподъемность лифтов  \\\n",
              "0               20               4      NaN                      5.0   \n",
              "1               10               7      NaN                      3.0   \n",
              "2               12               6      NaN                      5.0   \n",
              "\n",
              "   Наличие парковки  Наличие велодорожки  Наличие детской площадки  \\\n",
              "0                31                    0                       1.0   \n",
              "1                 0                    0                       1.0   \n",
              "2                 0                    0                       1.0   \n",
              "\n",
              "   Наличие спортивной площадки  Застройщик  Email застройщика  \\\n",
              "0                          1.0  2МЕН ГРУПП  info@2mengroup.ru   \n",
              "1                          1.0  2МЕН ГРУПП  info@2mengroup.ru   \n",
              "2                          1.0  2МЕН ГРУПП  info@2mengroup.ru   \n",
              "\n",
              "   Тел. застройщика  \n",
              "0  +7(345)279-18-88  \n",
              "1  +7(345)279-18-88  \n",
              "2  +7(345)279-18-88  "
            ],
            "text/html": [
              "\n",
              "  <div id=\"df-590f168e-b745-4c11-be8e-9d0d5ed2f767\">\n",
              "    <div class=\"colab-df-container\">\n",
              "      <div>\n",
              "<style scoped>\n",
              "    .dataframe tbody tr th:only-of-type {\n",
              "        vertical-align: middle;\n",
              "    }\n",
              "\n",
              "    .dataframe tbody tr th {\n",
              "        vertical-align: top;\n",
              "    }\n",
              "\n",
              "    .dataframe thead th {\n",
              "        text-align: right;\n",
              "    }\n",
              "</style>\n",
              "<table border=\"1\" class=\"dataframe\">\n",
              "  <thead>\n",
              "    <tr style=\"text-align: right;\">\n",
              "      <th></th>\n",
              "      <th>Unnamed: 0</th>\n",
              "      <th>id</th>\n",
              "      <th>Название обьекта</th>\n",
              "      <th>Адрес</th>\n",
              "      <th>Регион</th>\n",
              "      <th>Срок сдачи</th>\n",
              "      <th>Стоимость м.кв.</th>\n",
              "      <th>Класс жилья</th>\n",
              "      <th>Кол-во квартир</th>\n",
              "      <th>Максимум этажей</th>\n",
              "      <th>Минимум этажей</th>\n",
              "      <th>Отделка</th>\n",
              "      <th>Грузоподъемность лифтов</th>\n",
              "      <th>Наличие парковки</th>\n",
              "      <th>Наличие велодорожки</th>\n",
              "      <th>Наличие детской площадки</th>\n",
              "      <th>Наличие спортивной площадки</th>\n",
              "      <th>Застройщик</th>\n",
              "      <th>Email застройщика</th>\n",
              "      <th>Тел. застройщика</th>\n",
              "    </tr>\n",
              "  </thead>\n",
              "  <tbody>\n",
              "    <tr>\n",
              "      <th>0</th>\n",
              "      <td>0</td>\n",
              "      <td>13383</td>\n",
              "      <td>NaN</td>\n",
              "      <td>г Тюмень</td>\n",
              "      <td>72</td>\n",
              "      <td>2022-12-31</td>\n",
              "      <td>53109.0</td>\n",
              "      <td>Элитный</td>\n",
              "      <td>68</td>\n",
              "      <td>20</td>\n",
              "      <td>4</td>\n",
              "      <td>NaN</td>\n",
              "      <td>5.0</td>\n",
              "      <td>31</td>\n",
              "      <td>0</td>\n",
              "      <td>1.0</td>\n",
              "      <td>1.0</td>\n",
              "      <td>2МЕН ГРУПП</td>\n",
              "      <td>info@2mengroup.ru</td>\n",
              "      <td>+7(345)279-18-88</td>\n",
              "    </tr>\n",
              "    <tr>\n",
              "      <th>1</th>\n",
              "      <td>1</td>\n",
              "      <td>13398</td>\n",
              "      <td>NaN</td>\n",
              "      <td>г Тюмень, ул Профсоюзная, д. 56</td>\n",
              "      <td>72</td>\n",
              "      <td>2024-12-31</td>\n",
              "      <td>47886.0</td>\n",
              "      <td>Элитный</td>\n",
              "      <td>43</td>\n",
              "      <td>10</td>\n",
              "      <td>7</td>\n",
              "      <td>NaN</td>\n",
              "      <td>3.0</td>\n",
              "      <td>0</td>\n",
              "      <td>0</td>\n",
              "      <td>1.0</td>\n",
              "      <td>1.0</td>\n",
              "      <td>2МЕН ГРУПП</td>\n",
              "      <td>info@2mengroup.ru</td>\n",
              "      <td>+7(345)279-18-88</td>\n",
              "    </tr>\n",
              "    <tr>\n",
              "      <th>2</th>\n",
              "      <td>2</td>\n",
              "      <td>13397</td>\n",
              "      <td>NaN</td>\n",
              "      <td>г Тюмень, ул Профсоюзная, д. 56</td>\n",
              "      <td>72</td>\n",
              "      <td>2024-12-31</td>\n",
              "      <td>45523.0</td>\n",
              "      <td>Элитный</td>\n",
              "      <td>65</td>\n",
              "      <td>12</td>\n",
              "      <td>6</td>\n",
              "      <td>NaN</td>\n",
              "      <td>5.0</td>\n",
              "      <td>0</td>\n",
              "      <td>0</td>\n",
              "      <td>1.0</td>\n",
              "      <td>1.0</td>\n",
              "      <td>2МЕН ГРУПП</td>\n",
              "      <td>info@2mengroup.ru</td>\n",
              "      <td>+7(345)279-18-88</td>\n",
              "    </tr>\n",
              "  </tbody>\n",
              "</table>\n",
              "</div>\n",
              "      <button class=\"colab-df-convert\" onclick=\"convertToInteractive('df-590f168e-b745-4c11-be8e-9d0d5ed2f767')\"\n",
              "              title=\"Convert this dataframe to an interactive table.\"\n",
              "              style=\"display:none;\">\n",
              "        \n",
              "  <svg xmlns=\"http://www.w3.org/2000/svg\" height=\"24px\"viewBox=\"0 0 24 24\"\n",
              "       width=\"24px\">\n",
              "    <path d=\"M0 0h24v24H0V0z\" fill=\"none\"/>\n",
              "    <path d=\"M18.56 5.44l.94 2.06.94-2.06 2.06-.94-2.06-.94-.94-2.06-.94 2.06-2.06.94zm-11 1L8.5 8.5l.94-2.06 2.06-.94-2.06-.94L8.5 2.5l-.94 2.06-2.06.94zm10 10l.94 2.06.94-2.06 2.06-.94-2.06-.94-.94-2.06-.94 2.06-2.06.94z\"/><path d=\"M17.41 7.96l-1.37-1.37c-.4-.4-.92-.59-1.43-.59-.52 0-1.04.2-1.43.59L10.3 9.45l-7.72 7.72c-.78.78-.78 2.05 0 2.83L4 21.41c.39.39.9.59 1.41.59.51 0 1.02-.2 1.41-.59l7.78-7.78 2.81-2.81c.8-.78.8-2.07 0-2.86zM5.41 20L4 18.59l7.72-7.72 1.47 1.35L5.41 20z\"/>\n",
              "  </svg>\n",
              "      </button>\n",
              "      \n",
              "  <style>\n",
              "    .colab-df-container {\n",
              "      display:flex;\n",
              "      flex-wrap:wrap;\n",
              "      gap: 12px;\n",
              "    }\n",
              "\n",
              "    .colab-df-convert {\n",
              "      background-color: #E8F0FE;\n",
              "      border: none;\n",
              "      border-radius: 50%;\n",
              "      cursor: pointer;\n",
              "      display: none;\n",
              "      fill: #1967D2;\n",
              "      height: 32px;\n",
              "      padding: 0 0 0 0;\n",
              "      width: 32px;\n",
              "    }\n",
              "\n",
              "    .colab-df-convert:hover {\n",
              "      background-color: #E2EBFA;\n",
              "      box-shadow: 0px 1px 2px rgba(60, 64, 67, 0.3), 0px 1px 3px 1px rgba(60, 64, 67, 0.15);\n",
              "      fill: #174EA6;\n",
              "    }\n",
              "\n",
              "    [theme=dark] .colab-df-convert {\n",
              "      background-color: #3B4455;\n",
              "      fill: #D2E3FC;\n",
              "    }\n",
              "\n",
              "    [theme=dark] .colab-df-convert:hover {\n",
              "      background-color: #434B5C;\n",
              "      box-shadow: 0px 1px 3px 1px rgba(0, 0, 0, 0.15);\n",
              "      filter: drop-shadow(0px 1px 2px rgba(0, 0, 0, 0.3));\n",
              "      fill: #FFFFFF;\n",
              "    }\n",
              "  </style>\n",
              "\n",
              "      <script>\n",
              "        const buttonEl =\n",
              "          document.querySelector('#df-590f168e-b745-4c11-be8e-9d0d5ed2f767 button.colab-df-convert');\n",
              "        buttonEl.style.display =\n",
              "          google.colab.kernel.accessAllowed ? 'block' : 'none';\n",
              "\n",
              "        async function convertToInteractive(key) {\n",
              "          const element = document.querySelector('#df-590f168e-b745-4c11-be8e-9d0d5ed2f767');\n",
              "          const dataTable =\n",
              "            await google.colab.kernel.invokeFunction('convertToInteractive',\n",
              "                                                     [key], {});\n",
              "          if (!dataTable) return;\n",
              "\n",
              "          const docLinkHtml = 'Like what you see? Visit the ' +\n",
              "            '<a target=\"_blank\" href=https://colab.research.google.com/notebooks/data_table.ipynb>data table notebook</a>'\n",
              "            + ' to learn more about interactive tables.';\n",
              "          element.innerHTML = '';\n",
              "          dataTable['output_type'] = 'display_data';\n",
              "          await google.colab.output.renderOutput(dataTable, element);\n",
              "          const docLink = document.createElement('div');\n",
              "          docLink.innerHTML = docLinkHtml;\n",
              "          element.appendChild(docLink);\n",
              "        }\n",
              "      </script>\n",
              "    </div>\n",
              "  </div>\n",
              "  "
            ]
          },
          "metadata": {},
          "execution_count": 4
        }
      ]
    },
    {
      "cell_type": "code",
      "source": [
        "# Смотрим статистики по дата сету\n",
        "df_1.info()"
      ],
      "metadata": {
        "colab": {
          "base_uri": "https://localhost:8080/"
        },
        "id": "w1UlKL0OpTzm",
        "outputId": "e5d61898-b8c8-4a8d-c1b5-b851073478ed"
      },
      "execution_count": 5,
      "outputs": [
        {
          "output_type": "stream",
          "name": "stdout",
          "text": [
            "<class 'pandas.core.frame.DataFrame'>\n",
            "RangeIndex: 5000 entries, 0 to 4999\n",
            "Data columns (total 20 columns):\n",
            " #   Column                       Non-Null Count  Dtype  \n",
            "---  ------                       --------------  -----  \n",
            " 0   Unnamed: 0                   5000 non-null   int64  \n",
            " 1   id                           5000 non-null   int64  \n",
            " 2   Название обьекта             3750 non-null   object \n",
            " 3   Адрес                        4975 non-null   object \n",
            " 4   Регион                       5000 non-null   int64  \n",
            " 5   Срок сдачи                   5000 non-null   object \n",
            " 6   Стоимость м.кв.              3321 non-null   float64\n",
            " 7   Класс жилья                  5000 non-null   object \n",
            " 8   Кол-во квартир               5000 non-null   int64  \n",
            " 9   Максимум этажей              5000 non-null   int64  \n",
            " 10  Минимум этажей               5000 non-null   int64  \n",
            " 11  Отделка                      0 non-null      float64\n",
            " 12  Грузоподъемность лифтов      4963 non-null   float64\n",
            " 13  Наличие парковки             5000 non-null   int64  \n",
            " 14  Наличие велодорожки          5000 non-null   int64  \n",
            " 15  Наличие детской площадки     4963 non-null   float64\n",
            " 16  Наличие спортивной площадки  4961 non-null   float64\n",
            " 17  Застройщик                   5000 non-null   object \n",
            " 18  Email застройщика            4928 non-null   object \n",
            " 19  Тел. застройщика             4927 non-null   object \n",
            "dtypes: float64(5), int64(8), object(7)\n",
            "memory usage: 781.4+ KB\n"
          ]
        }
      ]
    },
    {
      "cell_type": "code",
      "source": [
        "# Смотрим статистики по дата сету\n",
        "df_1.describe()"
      ],
      "metadata": {
        "colab": {
          "base_uri": "https://localhost:8080/",
          "height": 362
        },
        "id": "vo034sGfpT3t",
        "outputId": "0d55628b-d231-4aac-cfe6-1b0788792214"
      },
      "execution_count": 6,
      "outputs": [
        {
          "output_type": "execute_result",
          "data": {
            "text/plain": [
              "        Unnamed: 0            id       Регион  Стоимость м.кв.  \\\n",
              "count  5000.000000   5000.000000  5000.000000     3.321000e+03   \n",
              "mean   2499.500000  39045.573400    47.227400     1.194316e+05   \n",
              "std    1443.520003  10770.156185    22.835744     1.330022e+05   \n",
              "min       0.000000   1259.000000     1.000000     1.691000e+03   \n",
              "25%    1249.750000  35170.750000    25.000000     6.483400e+04   \n",
              "50%    2499.500000  42828.000000    50.000000     9.026300e+04   \n",
              "75%    3749.250000  46516.250000    68.000000     1.320190e+05   \n",
              "max    4999.000000  49602.000000    92.000000     2.228709e+06   \n",
              "\n",
              "       Кол-во квартир  Максимум этажей  Минимум этажей  Отделка  \\\n",
              "count     5000.000000      5000.000000     5000.000000      0.0   \n",
              "mean       174.396800        12.128800       10.324000      NaN   \n",
              "std        222.379109         8.634647        8.038902      NaN   \n",
              "min          0.000000         0.000000        0.000000      NaN   \n",
              "25%         30.000000         5.000000        3.000000      NaN   \n",
              "50%        104.000000        10.000000        9.000000      NaN   \n",
              "75%        240.000000        18.000000       16.000000      NaN   \n",
              "max       2522.000000        76.000000       76.000000      NaN   \n",
              "\n",
              "       Грузоподъемность лифтов  Наличие парковки  Наличие велодорожки  \\\n",
              "count              4963.000000        5000.00000          5000.000000   \n",
              "mean                  2.201894          36.55740             0.162600   \n",
              "std                   3.524593         117.42702             0.369037   \n",
              "min                   0.000000           0.00000             0.000000   \n",
              "25%                   0.000000           0.00000             0.000000   \n",
              "50%                   1.000000           0.00000             0.000000   \n",
              "75%                   3.000000           0.00000             0.000000   \n",
              "max                  76.000000        3580.00000             1.000000   \n",
              "\n",
              "       Наличие детской площадки  Наличие спортивной площадки  \n",
              "count               4963.000000                  4961.000000  \n",
              "mean                   1.535966                     1.377948  \n",
              "std                    1.774939                     1.723553  \n",
              "min                    0.000000                     0.000000  \n",
              "25%                    1.000000                     0.000000  \n",
              "50%                    1.000000                     1.000000  \n",
              "75%                    2.000000                     1.000000  \n",
              "max                   20.000000                    15.000000  "
            ],
            "text/html": [
              "\n",
              "  <div id=\"df-f2c261f3-b496-4c1f-9ea1-a9dc39a4740a\">\n",
              "    <div class=\"colab-df-container\">\n",
              "      <div>\n",
              "<style scoped>\n",
              "    .dataframe tbody tr th:only-of-type {\n",
              "        vertical-align: middle;\n",
              "    }\n",
              "\n",
              "    .dataframe tbody tr th {\n",
              "        vertical-align: top;\n",
              "    }\n",
              "\n",
              "    .dataframe thead th {\n",
              "        text-align: right;\n",
              "    }\n",
              "</style>\n",
              "<table border=\"1\" class=\"dataframe\">\n",
              "  <thead>\n",
              "    <tr style=\"text-align: right;\">\n",
              "      <th></th>\n",
              "      <th>Unnamed: 0</th>\n",
              "      <th>id</th>\n",
              "      <th>Регион</th>\n",
              "      <th>Стоимость м.кв.</th>\n",
              "      <th>Кол-во квартир</th>\n",
              "      <th>Максимум этажей</th>\n",
              "      <th>Минимум этажей</th>\n",
              "      <th>Отделка</th>\n",
              "      <th>Грузоподъемность лифтов</th>\n",
              "      <th>Наличие парковки</th>\n",
              "      <th>Наличие велодорожки</th>\n",
              "      <th>Наличие детской площадки</th>\n",
              "      <th>Наличие спортивной площадки</th>\n",
              "    </tr>\n",
              "  </thead>\n",
              "  <tbody>\n",
              "    <tr>\n",
              "      <th>count</th>\n",
              "      <td>5000.000000</td>\n",
              "      <td>5000.000000</td>\n",
              "      <td>5000.000000</td>\n",
              "      <td>3.321000e+03</td>\n",
              "      <td>5000.000000</td>\n",
              "      <td>5000.000000</td>\n",
              "      <td>5000.000000</td>\n",
              "      <td>0.0</td>\n",
              "      <td>4963.000000</td>\n",
              "      <td>5000.00000</td>\n",
              "      <td>5000.000000</td>\n",
              "      <td>4963.000000</td>\n",
              "      <td>4961.000000</td>\n",
              "    </tr>\n",
              "    <tr>\n",
              "      <th>mean</th>\n",
              "      <td>2499.500000</td>\n",
              "      <td>39045.573400</td>\n",
              "      <td>47.227400</td>\n",
              "      <td>1.194316e+05</td>\n",
              "      <td>174.396800</td>\n",
              "      <td>12.128800</td>\n",
              "      <td>10.324000</td>\n",
              "      <td>NaN</td>\n",
              "      <td>2.201894</td>\n",
              "      <td>36.55740</td>\n",
              "      <td>0.162600</td>\n",
              "      <td>1.535966</td>\n",
              "      <td>1.377948</td>\n",
              "    </tr>\n",
              "    <tr>\n",
              "      <th>std</th>\n",
              "      <td>1443.520003</td>\n",
              "      <td>10770.156185</td>\n",
              "      <td>22.835744</td>\n",
              "      <td>1.330022e+05</td>\n",
              "      <td>222.379109</td>\n",
              "      <td>8.634647</td>\n",
              "      <td>8.038902</td>\n",
              "      <td>NaN</td>\n",
              "      <td>3.524593</td>\n",
              "      <td>117.42702</td>\n",
              "      <td>0.369037</td>\n",
              "      <td>1.774939</td>\n",
              "      <td>1.723553</td>\n",
              "    </tr>\n",
              "    <tr>\n",
              "      <th>min</th>\n",
              "      <td>0.000000</td>\n",
              "      <td>1259.000000</td>\n",
              "      <td>1.000000</td>\n",
              "      <td>1.691000e+03</td>\n",
              "      <td>0.000000</td>\n",
              "      <td>0.000000</td>\n",
              "      <td>0.000000</td>\n",
              "      <td>NaN</td>\n",
              "      <td>0.000000</td>\n",
              "      <td>0.00000</td>\n",
              "      <td>0.000000</td>\n",
              "      <td>0.000000</td>\n",
              "      <td>0.000000</td>\n",
              "    </tr>\n",
              "    <tr>\n",
              "      <th>25%</th>\n",
              "      <td>1249.750000</td>\n",
              "      <td>35170.750000</td>\n",
              "      <td>25.000000</td>\n",
              "      <td>6.483400e+04</td>\n",
              "      <td>30.000000</td>\n",
              "      <td>5.000000</td>\n",
              "      <td>3.000000</td>\n",
              "      <td>NaN</td>\n",
              "      <td>0.000000</td>\n",
              "      <td>0.00000</td>\n",
              "      <td>0.000000</td>\n",
              "      <td>1.000000</td>\n",
              "      <td>0.000000</td>\n",
              "    </tr>\n",
              "    <tr>\n",
              "      <th>50%</th>\n",
              "      <td>2499.500000</td>\n",
              "      <td>42828.000000</td>\n",
              "      <td>50.000000</td>\n",
              "      <td>9.026300e+04</td>\n",
              "      <td>104.000000</td>\n",
              "      <td>10.000000</td>\n",
              "      <td>9.000000</td>\n",
              "      <td>NaN</td>\n",
              "      <td>1.000000</td>\n",
              "      <td>0.00000</td>\n",
              "      <td>0.000000</td>\n",
              "      <td>1.000000</td>\n",
              "      <td>1.000000</td>\n",
              "    </tr>\n",
              "    <tr>\n",
              "      <th>75%</th>\n",
              "      <td>3749.250000</td>\n",
              "      <td>46516.250000</td>\n",
              "      <td>68.000000</td>\n",
              "      <td>1.320190e+05</td>\n",
              "      <td>240.000000</td>\n",
              "      <td>18.000000</td>\n",
              "      <td>16.000000</td>\n",
              "      <td>NaN</td>\n",
              "      <td>3.000000</td>\n",
              "      <td>0.00000</td>\n",
              "      <td>0.000000</td>\n",
              "      <td>2.000000</td>\n",
              "      <td>1.000000</td>\n",
              "    </tr>\n",
              "    <tr>\n",
              "      <th>max</th>\n",
              "      <td>4999.000000</td>\n",
              "      <td>49602.000000</td>\n",
              "      <td>92.000000</td>\n",
              "      <td>2.228709e+06</td>\n",
              "      <td>2522.000000</td>\n",
              "      <td>76.000000</td>\n",
              "      <td>76.000000</td>\n",
              "      <td>NaN</td>\n",
              "      <td>76.000000</td>\n",
              "      <td>3580.00000</td>\n",
              "      <td>1.000000</td>\n",
              "      <td>20.000000</td>\n",
              "      <td>15.000000</td>\n",
              "    </tr>\n",
              "  </tbody>\n",
              "</table>\n",
              "</div>\n",
              "      <button class=\"colab-df-convert\" onclick=\"convertToInteractive('df-f2c261f3-b496-4c1f-9ea1-a9dc39a4740a')\"\n",
              "              title=\"Convert this dataframe to an interactive table.\"\n",
              "              style=\"display:none;\">\n",
              "        \n",
              "  <svg xmlns=\"http://www.w3.org/2000/svg\" height=\"24px\"viewBox=\"0 0 24 24\"\n",
              "       width=\"24px\">\n",
              "    <path d=\"M0 0h24v24H0V0z\" fill=\"none\"/>\n",
              "    <path d=\"M18.56 5.44l.94 2.06.94-2.06 2.06-.94-2.06-.94-.94-2.06-.94 2.06-2.06.94zm-11 1L8.5 8.5l.94-2.06 2.06-.94-2.06-.94L8.5 2.5l-.94 2.06-2.06.94zm10 10l.94 2.06.94-2.06 2.06-.94-2.06-.94-.94-2.06-.94 2.06-2.06.94z\"/><path d=\"M17.41 7.96l-1.37-1.37c-.4-.4-.92-.59-1.43-.59-.52 0-1.04.2-1.43.59L10.3 9.45l-7.72 7.72c-.78.78-.78 2.05 0 2.83L4 21.41c.39.39.9.59 1.41.59.51 0 1.02-.2 1.41-.59l7.78-7.78 2.81-2.81c.8-.78.8-2.07 0-2.86zM5.41 20L4 18.59l7.72-7.72 1.47 1.35L5.41 20z\"/>\n",
              "  </svg>\n",
              "      </button>\n",
              "      \n",
              "  <style>\n",
              "    .colab-df-container {\n",
              "      display:flex;\n",
              "      flex-wrap:wrap;\n",
              "      gap: 12px;\n",
              "    }\n",
              "\n",
              "    .colab-df-convert {\n",
              "      background-color: #E8F0FE;\n",
              "      border: none;\n",
              "      border-radius: 50%;\n",
              "      cursor: pointer;\n",
              "      display: none;\n",
              "      fill: #1967D2;\n",
              "      height: 32px;\n",
              "      padding: 0 0 0 0;\n",
              "      width: 32px;\n",
              "    }\n",
              "\n",
              "    .colab-df-convert:hover {\n",
              "      background-color: #E2EBFA;\n",
              "      box-shadow: 0px 1px 2px rgba(60, 64, 67, 0.3), 0px 1px 3px 1px rgba(60, 64, 67, 0.15);\n",
              "      fill: #174EA6;\n",
              "    }\n",
              "\n",
              "    [theme=dark] .colab-df-convert {\n",
              "      background-color: #3B4455;\n",
              "      fill: #D2E3FC;\n",
              "    }\n",
              "\n",
              "    [theme=dark] .colab-df-convert:hover {\n",
              "      background-color: #434B5C;\n",
              "      box-shadow: 0px 1px 3px 1px rgba(0, 0, 0, 0.15);\n",
              "      filter: drop-shadow(0px 1px 2px rgba(0, 0, 0, 0.3));\n",
              "      fill: #FFFFFF;\n",
              "    }\n",
              "  </style>\n",
              "\n",
              "      <script>\n",
              "        const buttonEl =\n",
              "          document.querySelector('#df-f2c261f3-b496-4c1f-9ea1-a9dc39a4740a button.colab-df-convert');\n",
              "        buttonEl.style.display =\n",
              "          google.colab.kernel.accessAllowed ? 'block' : 'none';\n",
              "\n",
              "        async function convertToInteractive(key) {\n",
              "          const element = document.querySelector('#df-f2c261f3-b496-4c1f-9ea1-a9dc39a4740a');\n",
              "          const dataTable =\n",
              "            await google.colab.kernel.invokeFunction('convertToInteractive',\n",
              "                                                     [key], {});\n",
              "          if (!dataTable) return;\n",
              "\n",
              "          const docLinkHtml = 'Like what you see? Visit the ' +\n",
              "            '<a target=\"_blank\" href=https://colab.research.google.com/notebooks/data_table.ipynb>data table notebook</a>'\n",
              "            + ' to learn more about interactive tables.';\n",
              "          element.innerHTML = '';\n",
              "          dataTable['output_type'] = 'display_data';\n",
              "          await google.colab.output.renderOutput(dataTable, element);\n",
              "          const docLink = document.createElement('div');\n",
              "          docLink.innerHTML = docLinkHtml;\n",
              "          element.appendChild(docLink);\n",
              "        }\n",
              "      </script>\n",
              "    </div>\n",
              "  </div>\n",
              "  "
            ]
          },
          "metadata": {},
          "execution_count": 6
        }
      ]
    },
    {
      "cell_type": "code",
      "source": [
        "# Смотрим какие столбцы есть в дата сете\n",
        "df_1.columns"
      ],
      "metadata": {
        "colab": {
          "base_uri": "https://localhost:8080/"
        },
        "id": "sCiIXH36ql7a",
        "outputId": "0f238627-e40b-401c-fe11-1f1e5c12a830"
      },
      "execution_count": 7,
      "outputs": [
        {
          "output_type": "execute_result",
          "data": {
            "text/plain": [
              "Index(['Unnamed: 0', 'id', 'Название обьекта', 'Адрес', 'Регион', 'Срок сдачи',\n",
              "       'Стоимость м.кв.', 'Класс жилья', 'Кол-во квартир', 'Максимум этажей',\n",
              "       'Минимум этажей', 'Отделка', 'Грузоподъемность лифтов',\n",
              "       'Наличие парковки', 'Наличие велодорожки', 'Наличие детской площадки',\n",
              "       'Наличие спортивной площадки', 'Застройщик', 'Email застройщика',\n",
              "       'Тел. застройщика'],\n",
              "      dtype='object')"
            ]
          },
          "metadata": {},
          "execution_count": 7
        }
      ]
    },
    {
      "cell_type": "code",
      "source": [
        "# Смотрим статистики по дата сету\n",
        "df_1.shape"
      ],
      "metadata": {
        "colab": {
          "base_uri": "https://localhost:8080/"
        },
        "id": "BT-BH7VrquXx",
        "outputId": "3f6c3cae-046a-4f05-8327-a644043716eb"
      },
      "execution_count": 8,
      "outputs": [
        {
          "output_type": "execute_result",
          "data": {
            "text/plain": [
              "(5000, 20)"
            ]
          },
          "metadata": {},
          "execution_count": 8
        }
      ]
    },
    {
      "cell_type": "code",
      "source": [
        "# Смотрим статистики по дата сету\n",
        "df_1.nunique()"
      ],
      "metadata": {
        "colab": {
          "base_uri": "https://localhost:8080/"
        },
        "id": "1mRMmcf5q7-W",
        "outputId": "cf0d242a-df69-4d7a-daf0-a70e7313af74"
      },
      "execution_count": 9,
      "outputs": [
        {
          "output_type": "execute_result",
          "data": {
            "text/plain": [
              "Unnamed: 0                     5000\n",
              "id                             5000\n",
              "Название обьекта               1871\n",
              "Адрес                          3933\n",
              "Регион                           79\n",
              "Срок сдачи                       54\n",
              "Стоимость м.кв.                3076\n",
              "Класс жилья                       5\n",
              "Кол-во квартир                  708\n",
              "Максимум этажей                  53\n",
              "Минимум этажей                   47\n",
              "Отделка                           0\n",
              "Грузоподъемность лифтов          33\n",
              "Наличие парковки                393\n",
              "Наличие велодорожки               2\n",
              "Наличие детской площадки         15\n",
              "Наличие спортивной площадки      12\n",
              "Застройщик                     1589\n",
              "Email застройщика              1377\n",
              "Тел. застройщика               1395\n",
              "dtype: int64"
            ]
          },
          "metadata": {},
          "execution_count": 9
        }
      ]
    },
    {
      "cell_type": "code",
      "source": [
        "# Дропаем столбец \"Отделка\" - так как он пустой\n",
        "df_1_clean = df_1.drop(['Отделка'], axis=1)\n",
        "#удаляем дубликаты\n",
        "df_1_clean = df_1_clean.drop_duplicates()"
      ],
      "metadata": {
        "id": "xC-vSUoTpT53"
      },
      "execution_count": 10,
      "outputs": []
    },
    {
      "cell_type": "code",
      "source": [
        "# Переименовываем столбцов\n",
        "df_1_clean.rename(columns={'Наличие парковки': 'Парковочные места', 'Наличие детской площадки': 'Детские площадки', 'Наличие спортивной площадки': 'Спортивные площадки'}, inplace=True)\n",
        "df_1_clean.columns"
      ],
      "metadata": {
        "colab": {
          "base_uri": "https://localhost:8080/"
        },
        "id": "uuTPfuYEsuFX",
        "outputId": "da9dc9d9-a364-4798-9ba1-35991a0de47f"
      },
      "execution_count": 11,
      "outputs": [
        {
          "output_type": "execute_result",
          "data": {
            "text/plain": [
              "Index(['Unnamed: 0', 'id', 'Название обьекта', 'Адрес', 'Регион', 'Срок сдачи',\n",
              "       'Стоимость м.кв.', 'Класс жилья', 'Кол-во квартир', 'Максимум этажей',\n",
              "       'Минимум этажей', 'Грузоподъемность лифтов', 'Парковочные места',\n",
              "       'Наличие велодорожки', 'Детские площадки', 'Спортивные площадки',\n",
              "       'Застройщик', 'Email застройщика', 'Тел. застройщика'],\n",
              "      dtype='object')"
            ]
          },
          "metadata": {},
          "execution_count": 11
        }
      ]
    },
    {
      "cell_type": "code",
      "source": [
        "#удаление строк где заполнено значение NaN\n",
        "df_1_clean = df_1_clean[~df_1_clean['Название обьекта'].isnull()]\n",
        "df_1_clean = df_1_clean[~df_1_clean['Детские площадки'].isnull()]\n",
        "df_1_clean = df_1_clean[~df_1_clean['Спортивные площадки'].isnull()]"
      ],
      "metadata": {
        "id": "dGtqrQEDqf-Y"
      },
      "execution_count": 12,
      "outputs": []
    },
    {
      "cell_type": "code",
      "source": [
        "# Перевожу из формата obj в dt столбец \"Срок сдачи\"\n",
        "df_1_clean['Срок сдачи'] = pd.to_datetime(df_1_clean['Срок сдачи'])\n",
        "df_1_clean['Срок сдачи']"
      ],
      "metadata": {
        "colab": {
          "base_uri": "https://localhost:8080/"
        },
        "id": "IrCBLdZa3Cao",
        "outputId": "b3510406-abcc-43f9-c74b-e7bd50c004cd"
      },
      "execution_count": 13,
      "outputs": [
        {
          "output_type": "execute_result",
          "data": {
            "text/plain": [
              "5      2023-03-31\n",
              "8      2024-09-30\n",
              "9      2023-06-30\n",
              "10     2023-06-30\n",
              "14     2023-03-31\n",
              "          ...    \n",
              "4994   2026-09-30\n",
              "4995   2026-09-30\n",
              "4997   2023-12-31\n",
              "4998   2024-03-31\n",
              "4999   2025-06-30\n",
              "Name: Срок сдачи, Length: 3721, dtype: datetime64[ns]"
            ]
          },
          "metadata": {},
          "execution_count": 13
        }
      ]
    },
    {
      "cell_type": "code",
      "source": [
        "# Делаю дополнительный столбец, где будет записан только год сдачи\n",
        "df_1_clean['Год сдачи'] = pd.to_datetime(df_1_clean['Срок сдачи']).dt.strftime('%Y') \n",
        "df_1_clean.head(3)"
      ],
      "metadata": {
        "colab": {
          "base_uri": "https://localhost:8080/",
          "height": 398
        },
        "id": "5kKJklLy5iT6",
        "outputId": "db83d35d-2abe-4fe5-f78f-52e770e43dcf"
      },
      "execution_count": 14,
      "outputs": [
        {
          "output_type": "execute_result",
          "data": {
            "text/plain": [
              "   Unnamed: 0     id                Название обьекта  \\\n",
              "5           5  10891        Жилой комплекс \"Рафинад\"   \n",
              "8           8  39176  ЖК \"FRESH\" (ЖК \"ФРЕШ\" литер 4)   \n",
              "9           9  39175  ЖК \"FRESH\" (ЖК \"ФРЕШ\" литер 3)   \n",
              "\n",
              "                                               Адрес  Регион Срок сдачи  \\\n",
              "5                  г Вологда, ул Медуницинская, д. 7      35 2023-03-31   \n",
              "8  г Краснодар, улица Валерия Гассия, д. 4/7, лит...      23 2024-09-30   \n",
              "9  г Краснодар, улица Валерия Гассия, д. 4/7, лит...      23 2023-06-30   \n",
              "\n",
              "   Стоимость м.кв. Класс жилья  Кол-во квартир  Максимум этажей  \\\n",
              "5          44771.0     Комфорт             225               16   \n",
              "8         103761.0     Комфорт             198               25   \n",
              "9         102841.0     Комфорт             396               25   \n",
              "\n",
              "   Минимум этажей  Грузоподъемность лифтов  Парковочные места  \\\n",
              "5              16                      3.0                  0   \n",
              "8              25                      3.0                  0   \n",
              "9              25                      6.0                  0   \n",
              "\n",
              "   Наличие велодорожки  Детские площадки  Спортивные площадки  \\\n",
              "5                    0               1.0                  1.0   \n",
              "8                    0               5.0                  5.0   \n",
              "9                    0               5.0                  5.0   \n",
              "\n",
              "                                          Застройщик  \\\n",
              "5  АКЦИОНЕРНАЯ АГРОСТРОИТЕЛЬНАЯ КОМПАНИЯВОЛОГДААГ...   \n",
              "8                               АВА ДЕВЕЛОПМЕНТ ПЛЮС   \n",
              "9                               АВА ДЕВЕЛОПМЕНТ ПЛЮС   \n",
              "\n",
              "            Email застройщика  Тел. застройщика Год сдачи  \n",
              "5  vologdaagrostroy@yandex.ru  +7(817)274-79-00      2023  \n",
              "8           elreg@ask-yug.com  +7(800)222-10-10      2024  \n",
              "9           elreg@ask-yug.com  +7(800)222-10-10      2023  "
            ],
            "text/html": [
              "\n",
              "  <div id=\"df-49f5a587-b0e0-495c-ae66-9d8d4517c0d4\">\n",
              "    <div class=\"colab-df-container\">\n",
              "      <div>\n",
              "<style scoped>\n",
              "    .dataframe tbody tr th:only-of-type {\n",
              "        vertical-align: middle;\n",
              "    }\n",
              "\n",
              "    .dataframe tbody tr th {\n",
              "        vertical-align: top;\n",
              "    }\n",
              "\n",
              "    .dataframe thead th {\n",
              "        text-align: right;\n",
              "    }\n",
              "</style>\n",
              "<table border=\"1\" class=\"dataframe\">\n",
              "  <thead>\n",
              "    <tr style=\"text-align: right;\">\n",
              "      <th></th>\n",
              "      <th>Unnamed: 0</th>\n",
              "      <th>id</th>\n",
              "      <th>Название обьекта</th>\n",
              "      <th>Адрес</th>\n",
              "      <th>Регион</th>\n",
              "      <th>Срок сдачи</th>\n",
              "      <th>Стоимость м.кв.</th>\n",
              "      <th>Класс жилья</th>\n",
              "      <th>Кол-во квартир</th>\n",
              "      <th>Максимум этажей</th>\n",
              "      <th>Минимум этажей</th>\n",
              "      <th>Грузоподъемность лифтов</th>\n",
              "      <th>Парковочные места</th>\n",
              "      <th>Наличие велодорожки</th>\n",
              "      <th>Детские площадки</th>\n",
              "      <th>Спортивные площадки</th>\n",
              "      <th>Застройщик</th>\n",
              "      <th>Email застройщика</th>\n",
              "      <th>Тел. застройщика</th>\n",
              "      <th>Год сдачи</th>\n",
              "    </tr>\n",
              "  </thead>\n",
              "  <tbody>\n",
              "    <tr>\n",
              "      <th>5</th>\n",
              "      <td>5</td>\n",
              "      <td>10891</td>\n",
              "      <td>Жилой комплекс \"Рафинад\"</td>\n",
              "      <td>г Вологда, ул Медуницинская, д. 7</td>\n",
              "      <td>35</td>\n",
              "      <td>2023-03-31</td>\n",
              "      <td>44771.0</td>\n",
              "      <td>Комфорт</td>\n",
              "      <td>225</td>\n",
              "      <td>16</td>\n",
              "      <td>16</td>\n",
              "      <td>3.0</td>\n",
              "      <td>0</td>\n",
              "      <td>0</td>\n",
              "      <td>1.0</td>\n",
              "      <td>1.0</td>\n",
              "      <td>АКЦИОНЕРНАЯ АГРОСТРОИТЕЛЬНАЯ КОМПАНИЯВОЛОГДААГ...</td>\n",
              "      <td>vologdaagrostroy@yandex.ru</td>\n",
              "      <td>+7(817)274-79-00</td>\n",
              "      <td>2023</td>\n",
              "    </tr>\n",
              "    <tr>\n",
              "      <th>8</th>\n",
              "      <td>8</td>\n",
              "      <td>39176</td>\n",
              "      <td>ЖК \"FRESH\" (ЖК \"ФРЕШ\" литер 4)</td>\n",
              "      <td>г Краснодар, улица Валерия Гассия, д. 4/7, лит...</td>\n",
              "      <td>23</td>\n",
              "      <td>2024-09-30</td>\n",
              "      <td>103761.0</td>\n",
              "      <td>Комфорт</td>\n",
              "      <td>198</td>\n",
              "      <td>25</td>\n",
              "      <td>25</td>\n",
              "      <td>3.0</td>\n",
              "      <td>0</td>\n",
              "      <td>0</td>\n",
              "      <td>5.0</td>\n",
              "      <td>5.0</td>\n",
              "      <td>АВА ДЕВЕЛОПМЕНТ ПЛЮС</td>\n",
              "      <td>elreg@ask-yug.com</td>\n",
              "      <td>+7(800)222-10-10</td>\n",
              "      <td>2024</td>\n",
              "    </tr>\n",
              "    <tr>\n",
              "      <th>9</th>\n",
              "      <td>9</td>\n",
              "      <td>39175</td>\n",
              "      <td>ЖК \"FRESH\" (ЖК \"ФРЕШ\" литер 3)</td>\n",
              "      <td>г Краснодар, улица Валерия Гассия, д. 4/7, лит...</td>\n",
              "      <td>23</td>\n",
              "      <td>2023-06-30</td>\n",
              "      <td>102841.0</td>\n",
              "      <td>Комфорт</td>\n",
              "      <td>396</td>\n",
              "      <td>25</td>\n",
              "      <td>25</td>\n",
              "      <td>6.0</td>\n",
              "      <td>0</td>\n",
              "      <td>0</td>\n",
              "      <td>5.0</td>\n",
              "      <td>5.0</td>\n",
              "      <td>АВА ДЕВЕЛОПМЕНТ ПЛЮС</td>\n",
              "      <td>elreg@ask-yug.com</td>\n",
              "      <td>+7(800)222-10-10</td>\n",
              "      <td>2023</td>\n",
              "    </tr>\n",
              "  </tbody>\n",
              "</table>\n",
              "</div>\n",
              "      <button class=\"colab-df-convert\" onclick=\"convertToInteractive('df-49f5a587-b0e0-495c-ae66-9d8d4517c0d4')\"\n",
              "              title=\"Convert this dataframe to an interactive table.\"\n",
              "              style=\"display:none;\">\n",
              "        \n",
              "  <svg xmlns=\"http://www.w3.org/2000/svg\" height=\"24px\"viewBox=\"0 0 24 24\"\n",
              "       width=\"24px\">\n",
              "    <path d=\"M0 0h24v24H0V0z\" fill=\"none\"/>\n",
              "    <path d=\"M18.56 5.44l.94 2.06.94-2.06 2.06-.94-2.06-.94-.94-2.06-.94 2.06-2.06.94zm-11 1L8.5 8.5l.94-2.06 2.06-.94-2.06-.94L8.5 2.5l-.94 2.06-2.06.94zm10 10l.94 2.06.94-2.06 2.06-.94-2.06-.94-.94-2.06-.94 2.06-2.06.94z\"/><path d=\"M17.41 7.96l-1.37-1.37c-.4-.4-.92-.59-1.43-.59-.52 0-1.04.2-1.43.59L10.3 9.45l-7.72 7.72c-.78.78-.78 2.05 0 2.83L4 21.41c.39.39.9.59 1.41.59.51 0 1.02-.2 1.41-.59l7.78-7.78 2.81-2.81c.8-.78.8-2.07 0-2.86zM5.41 20L4 18.59l7.72-7.72 1.47 1.35L5.41 20z\"/>\n",
              "  </svg>\n",
              "      </button>\n",
              "      \n",
              "  <style>\n",
              "    .colab-df-container {\n",
              "      display:flex;\n",
              "      flex-wrap:wrap;\n",
              "      gap: 12px;\n",
              "    }\n",
              "\n",
              "    .colab-df-convert {\n",
              "      background-color: #E8F0FE;\n",
              "      border: none;\n",
              "      border-radius: 50%;\n",
              "      cursor: pointer;\n",
              "      display: none;\n",
              "      fill: #1967D2;\n",
              "      height: 32px;\n",
              "      padding: 0 0 0 0;\n",
              "      width: 32px;\n",
              "    }\n",
              "\n",
              "    .colab-df-convert:hover {\n",
              "      background-color: #E2EBFA;\n",
              "      box-shadow: 0px 1px 2px rgba(60, 64, 67, 0.3), 0px 1px 3px 1px rgba(60, 64, 67, 0.15);\n",
              "      fill: #174EA6;\n",
              "    }\n",
              "\n",
              "    [theme=dark] .colab-df-convert {\n",
              "      background-color: #3B4455;\n",
              "      fill: #D2E3FC;\n",
              "    }\n",
              "\n",
              "    [theme=dark] .colab-df-convert:hover {\n",
              "      background-color: #434B5C;\n",
              "      box-shadow: 0px 1px 3px 1px rgba(0, 0, 0, 0.15);\n",
              "      filter: drop-shadow(0px 1px 2px rgba(0, 0, 0, 0.3));\n",
              "      fill: #FFFFFF;\n",
              "    }\n",
              "  </style>\n",
              "\n",
              "      <script>\n",
              "        const buttonEl =\n",
              "          document.querySelector('#df-49f5a587-b0e0-495c-ae66-9d8d4517c0d4 button.colab-df-convert');\n",
              "        buttonEl.style.display =\n",
              "          google.colab.kernel.accessAllowed ? 'block' : 'none';\n",
              "\n",
              "        async function convertToInteractive(key) {\n",
              "          const element = document.querySelector('#df-49f5a587-b0e0-495c-ae66-9d8d4517c0d4');\n",
              "          const dataTable =\n",
              "            await google.colab.kernel.invokeFunction('convertToInteractive',\n",
              "                                                     [key], {});\n",
              "          if (!dataTable) return;\n",
              "\n",
              "          const docLinkHtml = 'Like what you see? Visit the ' +\n",
              "            '<a target=\"_blank\" href=https://colab.research.google.com/notebooks/data_table.ipynb>data table notebook</a>'\n",
              "            + ' to learn more about interactive tables.';\n",
              "          element.innerHTML = '';\n",
              "          dataTable['output_type'] = 'display_data';\n",
              "          await google.colab.output.renderOutput(dataTable, element);\n",
              "          const docLink = document.createElement('div');\n",
              "          docLink.innerHTML = docLinkHtml;\n",
              "          element.appendChild(docLink);\n",
              "        }\n",
              "      </script>\n",
              "    </div>\n",
              "  </div>\n",
              "  "
            ]
          },
          "metadata": {},
          "execution_count": 14
        }
      ]
    },
    {
      "cell_type": "code",
      "source": [
        "# Делаю дополнительный столбец, где будет записан только месяц сдачи\n",
        "df_1_clean['Месяц сдачи'] = pd.to_datetime(df_1_clean['Срок сдачи']).dt.strftime('%m') \n",
        "df_1_clean.head(3)"
      ],
      "metadata": {
        "colab": {
          "base_uri": "https://localhost:8080/",
          "height": 428
        },
        "id": "Zc7v83ex95DU",
        "outputId": "1561a1f7-651f-4d0b-8f51-377d01d696bf"
      },
      "execution_count": 15,
      "outputs": [
        {
          "output_type": "execute_result",
          "data": {
            "text/plain": [
              "   Unnamed: 0     id                Название обьекта  \\\n",
              "5           5  10891        Жилой комплекс \"Рафинад\"   \n",
              "8           8  39176  ЖК \"FRESH\" (ЖК \"ФРЕШ\" литер 4)   \n",
              "9           9  39175  ЖК \"FRESH\" (ЖК \"ФРЕШ\" литер 3)   \n",
              "\n",
              "                                               Адрес  Регион Срок сдачи  \\\n",
              "5                  г Вологда, ул Медуницинская, д. 7      35 2023-03-31   \n",
              "8  г Краснодар, улица Валерия Гассия, д. 4/7, лит...      23 2024-09-30   \n",
              "9  г Краснодар, улица Валерия Гассия, д. 4/7, лит...      23 2023-06-30   \n",
              "\n",
              "   Стоимость м.кв. Класс жилья  Кол-во квартир  Максимум этажей  ...  \\\n",
              "5          44771.0     Комфорт             225               16  ...   \n",
              "8         103761.0     Комфорт             198               25  ...   \n",
              "9         102841.0     Комфорт             396               25  ...   \n",
              "\n",
              "   Грузоподъемность лифтов  Парковочные места  Наличие велодорожки  \\\n",
              "5                      3.0                  0                    0   \n",
              "8                      3.0                  0                    0   \n",
              "9                      6.0                  0                    0   \n",
              "\n",
              "   Детские площадки  Спортивные площадки  \\\n",
              "5               1.0                  1.0   \n",
              "8               5.0                  5.0   \n",
              "9               5.0                  5.0   \n",
              "\n",
              "                                          Застройщик  \\\n",
              "5  АКЦИОНЕРНАЯ АГРОСТРОИТЕЛЬНАЯ КОМПАНИЯВОЛОГДААГ...   \n",
              "8                               АВА ДЕВЕЛОПМЕНТ ПЛЮС   \n",
              "9                               АВА ДЕВЕЛОПМЕНТ ПЛЮС   \n",
              "\n",
              "            Email застройщика  Тел. застройщика Год сдачи Месяц сдачи  \n",
              "5  vologdaagrostroy@yandex.ru  +7(817)274-79-00      2023          03  \n",
              "8           elreg@ask-yug.com  +7(800)222-10-10      2024          09  \n",
              "9           elreg@ask-yug.com  +7(800)222-10-10      2023          06  \n",
              "\n",
              "[3 rows x 21 columns]"
            ],
            "text/html": [
              "\n",
              "  <div id=\"df-8545690d-e865-41a3-b9e2-19f0d258fa87\">\n",
              "    <div class=\"colab-df-container\">\n",
              "      <div>\n",
              "<style scoped>\n",
              "    .dataframe tbody tr th:only-of-type {\n",
              "        vertical-align: middle;\n",
              "    }\n",
              "\n",
              "    .dataframe tbody tr th {\n",
              "        vertical-align: top;\n",
              "    }\n",
              "\n",
              "    .dataframe thead th {\n",
              "        text-align: right;\n",
              "    }\n",
              "</style>\n",
              "<table border=\"1\" class=\"dataframe\">\n",
              "  <thead>\n",
              "    <tr style=\"text-align: right;\">\n",
              "      <th></th>\n",
              "      <th>Unnamed: 0</th>\n",
              "      <th>id</th>\n",
              "      <th>Название обьекта</th>\n",
              "      <th>Адрес</th>\n",
              "      <th>Регион</th>\n",
              "      <th>Срок сдачи</th>\n",
              "      <th>Стоимость м.кв.</th>\n",
              "      <th>Класс жилья</th>\n",
              "      <th>Кол-во квартир</th>\n",
              "      <th>Максимум этажей</th>\n",
              "      <th>...</th>\n",
              "      <th>Грузоподъемность лифтов</th>\n",
              "      <th>Парковочные места</th>\n",
              "      <th>Наличие велодорожки</th>\n",
              "      <th>Детские площадки</th>\n",
              "      <th>Спортивные площадки</th>\n",
              "      <th>Застройщик</th>\n",
              "      <th>Email застройщика</th>\n",
              "      <th>Тел. застройщика</th>\n",
              "      <th>Год сдачи</th>\n",
              "      <th>Месяц сдачи</th>\n",
              "    </tr>\n",
              "  </thead>\n",
              "  <tbody>\n",
              "    <tr>\n",
              "      <th>5</th>\n",
              "      <td>5</td>\n",
              "      <td>10891</td>\n",
              "      <td>Жилой комплекс \"Рафинад\"</td>\n",
              "      <td>г Вологда, ул Медуницинская, д. 7</td>\n",
              "      <td>35</td>\n",
              "      <td>2023-03-31</td>\n",
              "      <td>44771.0</td>\n",
              "      <td>Комфорт</td>\n",
              "      <td>225</td>\n",
              "      <td>16</td>\n",
              "      <td>...</td>\n",
              "      <td>3.0</td>\n",
              "      <td>0</td>\n",
              "      <td>0</td>\n",
              "      <td>1.0</td>\n",
              "      <td>1.0</td>\n",
              "      <td>АКЦИОНЕРНАЯ АГРОСТРОИТЕЛЬНАЯ КОМПАНИЯВОЛОГДААГ...</td>\n",
              "      <td>vologdaagrostroy@yandex.ru</td>\n",
              "      <td>+7(817)274-79-00</td>\n",
              "      <td>2023</td>\n",
              "      <td>03</td>\n",
              "    </tr>\n",
              "    <tr>\n",
              "      <th>8</th>\n",
              "      <td>8</td>\n",
              "      <td>39176</td>\n",
              "      <td>ЖК \"FRESH\" (ЖК \"ФРЕШ\" литер 4)</td>\n",
              "      <td>г Краснодар, улица Валерия Гассия, д. 4/7, лит...</td>\n",
              "      <td>23</td>\n",
              "      <td>2024-09-30</td>\n",
              "      <td>103761.0</td>\n",
              "      <td>Комфорт</td>\n",
              "      <td>198</td>\n",
              "      <td>25</td>\n",
              "      <td>...</td>\n",
              "      <td>3.0</td>\n",
              "      <td>0</td>\n",
              "      <td>0</td>\n",
              "      <td>5.0</td>\n",
              "      <td>5.0</td>\n",
              "      <td>АВА ДЕВЕЛОПМЕНТ ПЛЮС</td>\n",
              "      <td>elreg@ask-yug.com</td>\n",
              "      <td>+7(800)222-10-10</td>\n",
              "      <td>2024</td>\n",
              "      <td>09</td>\n",
              "    </tr>\n",
              "    <tr>\n",
              "      <th>9</th>\n",
              "      <td>9</td>\n",
              "      <td>39175</td>\n",
              "      <td>ЖК \"FRESH\" (ЖК \"ФРЕШ\" литер 3)</td>\n",
              "      <td>г Краснодар, улица Валерия Гассия, д. 4/7, лит...</td>\n",
              "      <td>23</td>\n",
              "      <td>2023-06-30</td>\n",
              "      <td>102841.0</td>\n",
              "      <td>Комфорт</td>\n",
              "      <td>396</td>\n",
              "      <td>25</td>\n",
              "      <td>...</td>\n",
              "      <td>6.0</td>\n",
              "      <td>0</td>\n",
              "      <td>0</td>\n",
              "      <td>5.0</td>\n",
              "      <td>5.0</td>\n",
              "      <td>АВА ДЕВЕЛОПМЕНТ ПЛЮС</td>\n",
              "      <td>elreg@ask-yug.com</td>\n",
              "      <td>+7(800)222-10-10</td>\n",
              "      <td>2023</td>\n",
              "      <td>06</td>\n",
              "    </tr>\n",
              "  </tbody>\n",
              "</table>\n",
              "<p>3 rows × 21 columns</p>\n",
              "</div>\n",
              "      <button class=\"colab-df-convert\" onclick=\"convertToInteractive('df-8545690d-e865-41a3-b9e2-19f0d258fa87')\"\n",
              "              title=\"Convert this dataframe to an interactive table.\"\n",
              "              style=\"display:none;\">\n",
              "        \n",
              "  <svg xmlns=\"http://www.w3.org/2000/svg\" height=\"24px\"viewBox=\"0 0 24 24\"\n",
              "       width=\"24px\">\n",
              "    <path d=\"M0 0h24v24H0V0z\" fill=\"none\"/>\n",
              "    <path d=\"M18.56 5.44l.94 2.06.94-2.06 2.06-.94-2.06-.94-.94-2.06-.94 2.06-2.06.94zm-11 1L8.5 8.5l.94-2.06 2.06-.94-2.06-.94L8.5 2.5l-.94 2.06-2.06.94zm10 10l.94 2.06.94-2.06 2.06-.94-2.06-.94-.94-2.06-.94 2.06-2.06.94z\"/><path d=\"M17.41 7.96l-1.37-1.37c-.4-.4-.92-.59-1.43-.59-.52 0-1.04.2-1.43.59L10.3 9.45l-7.72 7.72c-.78.78-.78 2.05 0 2.83L4 21.41c.39.39.9.59 1.41.59.51 0 1.02-.2 1.41-.59l7.78-7.78 2.81-2.81c.8-.78.8-2.07 0-2.86zM5.41 20L4 18.59l7.72-7.72 1.47 1.35L5.41 20z\"/>\n",
              "  </svg>\n",
              "      </button>\n",
              "      \n",
              "  <style>\n",
              "    .colab-df-container {\n",
              "      display:flex;\n",
              "      flex-wrap:wrap;\n",
              "      gap: 12px;\n",
              "    }\n",
              "\n",
              "    .colab-df-convert {\n",
              "      background-color: #E8F0FE;\n",
              "      border: none;\n",
              "      border-radius: 50%;\n",
              "      cursor: pointer;\n",
              "      display: none;\n",
              "      fill: #1967D2;\n",
              "      height: 32px;\n",
              "      padding: 0 0 0 0;\n",
              "      width: 32px;\n",
              "    }\n",
              "\n",
              "    .colab-df-convert:hover {\n",
              "      background-color: #E2EBFA;\n",
              "      box-shadow: 0px 1px 2px rgba(60, 64, 67, 0.3), 0px 1px 3px 1px rgba(60, 64, 67, 0.15);\n",
              "      fill: #174EA6;\n",
              "    }\n",
              "\n",
              "    [theme=dark] .colab-df-convert {\n",
              "      background-color: #3B4455;\n",
              "      fill: #D2E3FC;\n",
              "    }\n",
              "\n",
              "    [theme=dark] .colab-df-convert:hover {\n",
              "      background-color: #434B5C;\n",
              "      box-shadow: 0px 1px 3px 1px rgba(0, 0, 0, 0.15);\n",
              "      filter: drop-shadow(0px 1px 2px rgba(0, 0, 0, 0.3));\n",
              "      fill: #FFFFFF;\n",
              "    }\n",
              "  </style>\n",
              "\n",
              "      <script>\n",
              "        const buttonEl =\n",
              "          document.querySelector('#df-8545690d-e865-41a3-b9e2-19f0d258fa87 button.colab-df-convert');\n",
              "        buttonEl.style.display =\n",
              "          google.colab.kernel.accessAllowed ? 'block' : 'none';\n",
              "\n",
              "        async function convertToInteractive(key) {\n",
              "          const element = document.querySelector('#df-8545690d-e865-41a3-b9e2-19f0d258fa87');\n",
              "          const dataTable =\n",
              "            await google.colab.kernel.invokeFunction('convertToInteractive',\n",
              "                                                     [key], {});\n",
              "          if (!dataTable) return;\n",
              "\n",
              "          const docLinkHtml = 'Like what you see? Visit the ' +\n",
              "            '<a target=\"_blank\" href=https://colab.research.google.com/notebooks/data_table.ipynb>data table notebook</a>'\n",
              "            + ' to learn more about interactive tables.';\n",
              "          element.innerHTML = '';\n",
              "          dataTable['output_type'] = 'display_data';\n",
              "          await google.colab.output.renderOutput(dataTable, element);\n",
              "          const docLink = document.createElement('div');\n",
              "          docLink.innerHTML = docLinkHtml;\n",
              "          element.appendChild(docLink);\n",
              "        }\n",
              "      </script>\n",
              "    </div>\n",
              "  </div>\n",
              "  "
            ]
          },
          "metadata": {},
          "execution_count": 15
        }
      ]
    },
    {
      "cell_type": "code",
      "source": [
        "# Делаю дополнительный столбец, где будет записан только прогнозный день недели, в которую будет сдан обьект\n",
        "df_1_clean['День недели сдачи'] = df_1_clean['Срок сдачи'].dt.day_name()\n",
        "df_1_clean.head(3)"
      ],
      "metadata": {
        "colab": {
          "base_uri": "https://localhost:8080/",
          "height": 445
        },
        "id": "ePpN1O48-QWF",
        "outputId": "08d00dc7-59bb-4d67-b887-4ffd38a5f3b6"
      },
      "execution_count": 16,
      "outputs": [
        {
          "output_type": "execute_result",
          "data": {
            "text/plain": [
              "   Unnamed: 0     id                Название обьекта  \\\n",
              "5           5  10891        Жилой комплекс \"Рафинад\"   \n",
              "8           8  39176  ЖК \"FRESH\" (ЖК \"ФРЕШ\" литер 4)   \n",
              "9           9  39175  ЖК \"FRESH\" (ЖК \"ФРЕШ\" литер 3)   \n",
              "\n",
              "                                               Адрес  Регион Срок сдачи  \\\n",
              "5                  г Вологда, ул Медуницинская, д. 7      35 2023-03-31   \n",
              "8  г Краснодар, улица Валерия Гассия, д. 4/7, лит...      23 2024-09-30   \n",
              "9  г Краснодар, улица Валерия Гассия, д. 4/7, лит...      23 2023-06-30   \n",
              "\n",
              "   Стоимость м.кв. Класс жилья  Кол-во квартир  Максимум этажей  ...  \\\n",
              "5          44771.0     Комфорт             225               16  ...   \n",
              "8         103761.0     Комфорт             198               25  ...   \n",
              "9         102841.0     Комфорт             396               25  ...   \n",
              "\n",
              "   Парковочные места  Наличие велодорожки  Детские площадки  \\\n",
              "5                  0                    0               1.0   \n",
              "8                  0                    0               5.0   \n",
              "9                  0                    0               5.0   \n",
              "\n",
              "   Спортивные площадки                                         Застройщик  \\\n",
              "5                  1.0  АКЦИОНЕРНАЯ АГРОСТРОИТЕЛЬНАЯ КОМПАНИЯВОЛОГДААГ...   \n",
              "8                  5.0                               АВА ДЕВЕЛОПМЕНТ ПЛЮС   \n",
              "9                  5.0                               АВА ДЕВЕЛОПМЕНТ ПЛЮС   \n",
              "\n",
              "            Email застройщика  Тел. застройщика Год сдачи Месяц сдачи  \\\n",
              "5  vologdaagrostroy@yandex.ru  +7(817)274-79-00      2023          03   \n",
              "8           elreg@ask-yug.com  +7(800)222-10-10      2024          09   \n",
              "9           elreg@ask-yug.com  +7(800)222-10-10      2023          06   \n",
              "\n",
              "  День недели сдачи  \n",
              "5            Friday  \n",
              "8            Monday  \n",
              "9            Friday  \n",
              "\n",
              "[3 rows x 22 columns]"
            ],
            "text/html": [
              "\n",
              "  <div id=\"df-6d0126f4-02ce-49e0-ab14-ae0af2bcd3eb\">\n",
              "    <div class=\"colab-df-container\">\n",
              "      <div>\n",
              "<style scoped>\n",
              "    .dataframe tbody tr th:only-of-type {\n",
              "        vertical-align: middle;\n",
              "    }\n",
              "\n",
              "    .dataframe tbody tr th {\n",
              "        vertical-align: top;\n",
              "    }\n",
              "\n",
              "    .dataframe thead th {\n",
              "        text-align: right;\n",
              "    }\n",
              "</style>\n",
              "<table border=\"1\" class=\"dataframe\">\n",
              "  <thead>\n",
              "    <tr style=\"text-align: right;\">\n",
              "      <th></th>\n",
              "      <th>Unnamed: 0</th>\n",
              "      <th>id</th>\n",
              "      <th>Название обьекта</th>\n",
              "      <th>Адрес</th>\n",
              "      <th>Регион</th>\n",
              "      <th>Срок сдачи</th>\n",
              "      <th>Стоимость м.кв.</th>\n",
              "      <th>Класс жилья</th>\n",
              "      <th>Кол-во квартир</th>\n",
              "      <th>Максимум этажей</th>\n",
              "      <th>...</th>\n",
              "      <th>Парковочные места</th>\n",
              "      <th>Наличие велодорожки</th>\n",
              "      <th>Детские площадки</th>\n",
              "      <th>Спортивные площадки</th>\n",
              "      <th>Застройщик</th>\n",
              "      <th>Email застройщика</th>\n",
              "      <th>Тел. застройщика</th>\n",
              "      <th>Год сдачи</th>\n",
              "      <th>Месяц сдачи</th>\n",
              "      <th>День недели сдачи</th>\n",
              "    </tr>\n",
              "  </thead>\n",
              "  <tbody>\n",
              "    <tr>\n",
              "      <th>5</th>\n",
              "      <td>5</td>\n",
              "      <td>10891</td>\n",
              "      <td>Жилой комплекс \"Рафинад\"</td>\n",
              "      <td>г Вологда, ул Медуницинская, д. 7</td>\n",
              "      <td>35</td>\n",
              "      <td>2023-03-31</td>\n",
              "      <td>44771.0</td>\n",
              "      <td>Комфорт</td>\n",
              "      <td>225</td>\n",
              "      <td>16</td>\n",
              "      <td>...</td>\n",
              "      <td>0</td>\n",
              "      <td>0</td>\n",
              "      <td>1.0</td>\n",
              "      <td>1.0</td>\n",
              "      <td>АКЦИОНЕРНАЯ АГРОСТРОИТЕЛЬНАЯ КОМПАНИЯВОЛОГДААГ...</td>\n",
              "      <td>vologdaagrostroy@yandex.ru</td>\n",
              "      <td>+7(817)274-79-00</td>\n",
              "      <td>2023</td>\n",
              "      <td>03</td>\n",
              "      <td>Friday</td>\n",
              "    </tr>\n",
              "    <tr>\n",
              "      <th>8</th>\n",
              "      <td>8</td>\n",
              "      <td>39176</td>\n",
              "      <td>ЖК \"FRESH\" (ЖК \"ФРЕШ\" литер 4)</td>\n",
              "      <td>г Краснодар, улица Валерия Гассия, д. 4/7, лит...</td>\n",
              "      <td>23</td>\n",
              "      <td>2024-09-30</td>\n",
              "      <td>103761.0</td>\n",
              "      <td>Комфорт</td>\n",
              "      <td>198</td>\n",
              "      <td>25</td>\n",
              "      <td>...</td>\n",
              "      <td>0</td>\n",
              "      <td>0</td>\n",
              "      <td>5.0</td>\n",
              "      <td>5.0</td>\n",
              "      <td>АВА ДЕВЕЛОПМЕНТ ПЛЮС</td>\n",
              "      <td>elreg@ask-yug.com</td>\n",
              "      <td>+7(800)222-10-10</td>\n",
              "      <td>2024</td>\n",
              "      <td>09</td>\n",
              "      <td>Monday</td>\n",
              "    </tr>\n",
              "    <tr>\n",
              "      <th>9</th>\n",
              "      <td>9</td>\n",
              "      <td>39175</td>\n",
              "      <td>ЖК \"FRESH\" (ЖК \"ФРЕШ\" литер 3)</td>\n",
              "      <td>г Краснодар, улица Валерия Гассия, д. 4/7, лит...</td>\n",
              "      <td>23</td>\n",
              "      <td>2023-06-30</td>\n",
              "      <td>102841.0</td>\n",
              "      <td>Комфорт</td>\n",
              "      <td>396</td>\n",
              "      <td>25</td>\n",
              "      <td>...</td>\n",
              "      <td>0</td>\n",
              "      <td>0</td>\n",
              "      <td>5.0</td>\n",
              "      <td>5.0</td>\n",
              "      <td>АВА ДЕВЕЛОПМЕНТ ПЛЮС</td>\n",
              "      <td>elreg@ask-yug.com</td>\n",
              "      <td>+7(800)222-10-10</td>\n",
              "      <td>2023</td>\n",
              "      <td>06</td>\n",
              "      <td>Friday</td>\n",
              "    </tr>\n",
              "  </tbody>\n",
              "</table>\n",
              "<p>3 rows × 22 columns</p>\n",
              "</div>\n",
              "      <button class=\"colab-df-convert\" onclick=\"convertToInteractive('df-6d0126f4-02ce-49e0-ab14-ae0af2bcd3eb')\"\n",
              "              title=\"Convert this dataframe to an interactive table.\"\n",
              "              style=\"display:none;\">\n",
              "        \n",
              "  <svg xmlns=\"http://www.w3.org/2000/svg\" height=\"24px\"viewBox=\"0 0 24 24\"\n",
              "       width=\"24px\">\n",
              "    <path d=\"M0 0h24v24H0V0z\" fill=\"none\"/>\n",
              "    <path d=\"M18.56 5.44l.94 2.06.94-2.06 2.06-.94-2.06-.94-.94-2.06-.94 2.06-2.06.94zm-11 1L8.5 8.5l.94-2.06 2.06-.94-2.06-.94L8.5 2.5l-.94 2.06-2.06.94zm10 10l.94 2.06.94-2.06 2.06-.94-2.06-.94-.94-2.06-.94 2.06-2.06.94z\"/><path d=\"M17.41 7.96l-1.37-1.37c-.4-.4-.92-.59-1.43-.59-.52 0-1.04.2-1.43.59L10.3 9.45l-7.72 7.72c-.78.78-.78 2.05 0 2.83L4 21.41c.39.39.9.59 1.41.59.51 0 1.02-.2 1.41-.59l7.78-7.78 2.81-2.81c.8-.78.8-2.07 0-2.86zM5.41 20L4 18.59l7.72-7.72 1.47 1.35L5.41 20z\"/>\n",
              "  </svg>\n",
              "      </button>\n",
              "      \n",
              "  <style>\n",
              "    .colab-df-container {\n",
              "      display:flex;\n",
              "      flex-wrap:wrap;\n",
              "      gap: 12px;\n",
              "    }\n",
              "\n",
              "    .colab-df-convert {\n",
              "      background-color: #E8F0FE;\n",
              "      border: none;\n",
              "      border-radius: 50%;\n",
              "      cursor: pointer;\n",
              "      display: none;\n",
              "      fill: #1967D2;\n",
              "      height: 32px;\n",
              "      padding: 0 0 0 0;\n",
              "      width: 32px;\n",
              "    }\n",
              "\n",
              "    .colab-df-convert:hover {\n",
              "      background-color: #E2EBFA;\n",
              "      box-shadow: 0px 1px 2px rgba(60, 64, 67, 0.3), 0px 1px 3px 1px rgba(60, 64, 67, 0.15);\n",
              "      fill: #174EA6;\n",
              "    }\n",
              "\n",
              "    [theme=dark] .colab-df-convert {\n",
              "      background-color: #3B4455;\n",
              "      fill: #D2E3FC;\n",
              "    }\n",
              "\n",
              "    [theme=dark] .colab-df-convert:hover {\n",
              "      background-color: #434B5C;\n",
              "      box-shadow: 0px 1px 3px 1px rgba(0, 0, 0, 0.15);\n",
              "      filter: drop-shadow(0px 1px 2px rgba(0, 0, 0, 0.3));\n",
              "      fill: #FFFFFF;\n",
              "    }\n",
              "  </style>\n",
              "\n",
              "      <script>\n",
              "        const buttonEl =\n",
              "          document.querySelector('#df-6d0126f4-02ce-49e0-ab14-ae0af2bcd3eb button.colab-df-convert');\n",
              "        buttonEl.style.display =\n",
              "          google.colab.kernel.accessAllowed ? 'block' : 'none';\n",
              "\n",
              "        async function convertToInteractive(key) {\n",
              "          const element = document.querySelector('#df-6d0126f4-02ce-49e0-ab14-ae0af2bcd3eb');\n",
              "          const dataTable =\n",
              "            await google.colab.kernel.invokeFunction('convertToInteractive',\n",
              "                                                     [key], {});\n",
              "          if (!dataTable) return;\n",
              "\n",
              "          const docLinkHtml = 'Like what you see? Visit the ' +\n",
              "            '<a target=\"_blank\" href=https://colab.research.google.com/notebooks/data_table.ipynb>data table notebook</a>'\n",
              "            + ' to learn more about interactive tables.';\n",
              "          element.innerHTML = '';\n",
              "          dataTable['output_type'] = 'display_data';\n",
              "          await google.colab.output.renderOutput(dataTable, element);\n",
              "          const docLink = document.createElement('div');\n",
              "          docLink.innerHTML = docLinkHtml;\n",
              "          element.appendChild(docLink);\n",
              "        }\n",
              "      </script>\n",
              "    </div>\n",
              "  </div>\n",
              "  "
            ]
          },
          "metadata": {},
          "execution_count": 16
        }
      ]
    },
    {
      "cell_type": "code",
      "source": [
        "df_1_clean['День недели сдачи'].unique()"
      ],
      "metadata": {
        "colab": {
          "base_uri": "https://localhost:8080/"
        },
        "id": "FqkTWc7x_E08",
        "outputId": "96ba60b6-39a1-4336-8b58-5ce0443856a9"
      },
      "execution_count": 17,
      "outputs": [
        {
          "output_type": "execute_result",
          "data": {
            "text/plain": [
              "array(['Friday', 'Monday', 'Saturday', 'Sunday', 'Tuesday', 'Wednesday',\n",
              "       'Thursday'], dtype=object)"
            ]
          },
          "metadata": {},
          "execution_count": 17
        }
      ]
    },
    {
      "cell_type": "code",
      "source": [
        "# Перевести в int столбец Грузоподъемность лифтов, Наличие детской площадки,Наличие спортивной площадки и Стоимость м.кв.\n",
        "df_1_clean = df_1_clean.astype({\"Грузоподъемность лифтов\": \"Int64\", \"Детские площадки\": \"Int64\", \"Спортивные площадки\": \"Int64\", \"Стоимость м.кв.\": \"Int64\"})\n",
        "df_1_clean.info()"
      ],
      "metadata": {
        "colab": {
          "base_uri": "https://localhost:8080/"
        },
        "id": "Yn2WlgV7sZGI",
        "outputId": "f35ae015-958f-4ada-8506-053d89859e26"
      },
      "execution_count": 18,
      "outputs": [
        {
          "output_type": "stream",
          "name": "stdout",
          "text": [
            "<class 'pandas.core.frame.DataFrame'>\n",
            "Int64Index: 3721 entries, 5 to 4999\n",
            "Data columns (total 22 columns):\n",
            " #   Column                   Non-Null Count  Dtype         \n",
            "---  ------                   --------------  -----         \n",
            " 0   Unnamed: 0               3721 non-null   int64         \n",
            " 1   id                       3721 non-null   int64         \n",
            " 2   Название обьекта         3721 non-null   object        \n",
            " 3   Адрес                    3696 non-null   object        \n",
            " 4   Регион                   3721 non-null   int64         \n",
            " 5   Срок сдачи               3721 non-null   datetime64[ns]\n",
            " 6   Стоимость м.кв.          2659 non-null   Int64         \n",
            " 7   Класс жилья              3721 non-null   object        \n",
            " 8   Кол-во квартир           3721 non-null   int64         \n",
            " 9   Максимум этажей          3721 non-null   int64         \n",
            " 10  Минимум этажей           3721 non-null   int64         \n",
            " 11  Грузоподъемность лифтов  3721 non-null   Int64         \n",
            " 12  Парковочные места        3721 non-null   int64         \n",
            " 13  Наличие велодорожки      3721 non-null   int64         \n",
            " 14  Детские площадки         3721 non-null   Int64         \n",
            " 15  Спортивные площадки      3721 non-null   Int64         \n",
            " 16  Застройщик               3721 non-null   object        \n",
            " 17  Email застройщика        3720 non-null   object        \n",
            " 18  Тел. застройщика         3720 non-null   object        \n",
            " 19  Год сдачи                3721 non-null   object        \n",
            " 20  Месяц сдачи              3721 non-null   object        \n",
            " 21  День недели сдачи        3721 non-null   object        \n",
            "dtypes: Int64(4), datetime64[ns](1), int64(8), object(9)\n",
            "memory usage: 683.2+ KB\n"
          ]
        }
      ]
    },
    {
      "cell_type": "code",
      "source": [
        "# Дропаем столбец \"Email застройщика\" и \"Тел. застройщика\" - так как использовать в анализе не будем\n",
        "# Дропаем столбец 'Unnamed: 0', которые дублирует индексы таблицы\n",
        "df_1_clean = df_1_clean.drop(['Email застройщика'], axis=1)\n",
        "df_1_clean = df_1_clean.drop(['Тел. застройщика'], axis=1)\n",
        "df_1_clean = df_1_clean.drop(['Unnamed: 0'], axis=1)"
      ],
      "metadata": {
        "id": "bdeZr_XU7A7n"
      },
      "execution_count": 19,
      "outputs": []
    },
    {
      "cell_type": "code",
      "source": [
        "df_1_clean.columns"
      ],
      "metadata": {
        "colab": {
          "base_uri": "https://localhost:8080/"
        },
        "id": "LToRJTo39x39",
        "outputId": "1979eb11-5e27-403c-9a49-dc6296565286"
      },
      "execution_count": 20,
      "outputs": [
        {
          "output_type": "execute_result",
          "data": {
            "text/plain": [
              "Index(['id', 'Название обьекта', 'Адрес', 'Регион', 'Срок сдачи',\n",
              "       'Стоимость м.кв.', 'Класс жилья', 'Кол-во квартир', 'Максимум этажей',\n",
              "       'Минимум этажей', 'Грузоподъемность лифтов', 'Парковочные места',\n",
              "       'Наличие велодорожки', 'Детские площадки', 'Спортивные площадки',\n",
              "       'Застройщик', 'Год сдачи', 'Месяц сдачи', 'День недели сдачи'],\n",
              "      dtype='object')"
            ]
          },
          "metadata": {},
          "execution_count": 20
        }
      ]
    },
    {
      "cell_type": "code",
      "source": [
        "df_1_clean.info()"
      ],
      "metadata": {
        "colab": {
          "base_uri": "https://localhost:8080/"
        },
        "id": "ROnA84cA_QQb",
        "outputId": "20fc4913-7185-49e2-ebb5-ec8f260945f3"
      },
      "execution_count": 21,
      "outputs": [
        {
          "output_type": "stream",
          "name": "stdout",
          "text": [
            "<class 'pandas.core.frame.DataFrame'>\n",
            "Int64Index: 3721 entries, 5 to 4999\n",
            "Data columns (total 19 columns):\n",
            " #   Column                   Non-Null Count  Dtype         \n",
            "---  ------                   --------------  -----         \n",
            " 0   id                       3721 non-null   int64         \n",
            " 1   Название обьекта         3721 non-null   object        \n",
            " 2   Адрес                    3696 non-null   object        \n",
            " 3   Регион                   3721 non-null   int64         \n",
            " 4   Срок сдачи               3721 non-null   datetime64[ns]\n",
            " 5   Стоимость м.кв.          2659 non-null   Int64         \n",
            " 6   Класс жилья              3721 non-null   object        \n",
            " 7   Кол-во квартир           3721 non-null   int64         \n",
            " 8   Максимум этажей          3721 non-null   int64         \n",
            " 9   Минимум этажей           3721 non-null   int64         \n",
            " 10  Грузоподъемность лифтов  3721 non-null   Int64         \n",
            " 11  Парковочные места        3721 non-null   int64         \n",
            " 12  Наличие велодорожки      3721 non-null   int64         \n",
            " 13  Детские площадки         3721 non-null   Int64         \n",
            " 14  Спортивные площадки      3721 non-null   Int64         \n",
            " 15  Застройщик               3721 non-null   object        \n",
            " 16  Год сдачи                3721 non-null   object        \n",
            " 17  Месяц сдачи              3721 non-null   object        \n",
            " 18  День недели сдачи        3721 non-null   object        \n",
            "dtypes: Int64(4), datetime64[ns](1), int64(7), object(7)\n",
            "memory usage: 595.9+ KB\n"
          ]
        }
      ]
    },
    {
      "cell_type": "code",
      "source": [
        "# Проверим количественные данные на предмет выбросов\n",
        "# Используя этот код, подставлял разные значения столбцов \n",
        "df_1_clean_test = df_1_clean.sort_values(by=['Кол-во квартир'], ascending=[False])\n",
        "df_1_clean_test.head(3)"
      ],
      "metadata": {
        "colab": {
          "base_uri": "https://localhost:8080/",
          "height": 309
        },
        "id": "siv_vCF__QVa",
        "outputId": "1c9e6145-3711-4029-849d-d8afce0cdcff"
      },
      "execution_count": 22,
      "outputs": [
        {
          "output_type": "execute_result",
          "data": {
            "text/plain": [
              "         id               Название обьекта  \\\n",
              "1340  26459            ЖК ГАВАНЬ КАПИТАНОВ   \n",
              "3239  37486                    ЖК \"Профит\"   \n",
              "3117  46925  Жилой комплекс\"Амурский парк\"   \n",
              "\n",
              "                                          Адрес  Регион Срок сдачи  \\\n",
              "1340                          г Санкт-Петербург      78 2022-12-31   \n",
              "3239              г Москва, район Нижегородский      77 2023-06-30   \n",
              "3117  г Москва, район Гольяново, Улица Амурская      77 2025-06-30   \n",
              "\n",
              "      Стоимость м.кв. Класс жилья  Кол-во квартир  Максимум этажей  \\\n",
              "1340           135139     Комфорт            2522               19   \n",
              "3239           234326     Комфорт            2330               33   \n",
              "3117           259554     Типовой            2131               35   \n",
              "\n",
              "      Минимум этажей  Грузоподъемность лифтов  Парковочные места  \\\n",
              "1340               1                       49               1013   \n",
              "3239              27                       17                538   \n",
              "3117               3                        4                442   \n",
              "\n",
              "      Наличие велодорожки  Детские площадки  Спортивные площадки  \\\n",
              "1340                    1                 4                    2   \n",
              "3239                    0                 4                    3   \n",
              "3117                    0                 1                    1   \n",
              "\n",
              "                                      Застройщик Год сдачи Месяц сдачи  \\\n",
              "1340               МОРСКАЯ СТРОИТЕЛЬНАЯ КОМПАНИЯ      2022          12   \n",
              "3239  СПЕЦИАЛИЗИРОВАННЫЕ ЗАСТРОЙЩИК ГРАНЕЛЬ ГРАД      2023          06   \n",
              "3117         СПЕЦИАЛИЗИРОВАННЫЙ ЗАСТРОЙЩИК ГЛОРИ      2025          06   \n",
              "\n",
              "     День недели сдачи  \n",
              "1340          Saturday  \n",
              "3239            Friday  \n",
              "3117            Monday  "
            ],
            "text/html": [
              "\n",
              "  <div id=\"df-a330396b-7776-438c-b9e6-40d1514a7234\">\n",
              "    <div class=\"colab-df-container\">\n",
              "      <div>\n",
              "<style scoped>\n",
              "    .dataframe tbody tr th:only-of-type {\n",
              "        vertical-align: middle;\n",
              "    }\n",
              "\n",
              "    .dataframe tbody tr th {\n",
              "        vertical-align: top;\n",
              "    }\n",
              "\n",
              "    .dataframe thead th {\n",
              "        text-align: right;\n",
              "    }\n",
              "</style>\n",
              "<table border=\"1\" class=\"dataframe\">\n",
              "  <thead>\n",
              "    <tr style=\"text-align: right;\">\n",
              "      <th></th>\n",
              "      <th>id</th>\n",
              "      <th>Название обьекта</th>\n",
              "      <th>Адрес</th>\n",
              "      <th>Регион</th>\n",
              "      <th>Срок сдачи</th>\n",
              "      <th>Стоимость м.кв.</th>\n",
              "      <th>Класс жилья</th>\n",
              "      <th>Кол-во квартир</th>\n",
              "      <th>Максимум этажей</th>\n",
              "      <th>Минимум этажей</th>\n",
              "      <th>Грузоподъемность лифтов</th>\n",
              "      <th>Парковочные места</th>\n",
              "      <th>Наличие велодорожки</th>\n",
              "      <th>Детские площадки</th>\n",
              "      <th>Спортивные площадки</th>\n",
              "      <th>Застройщик</th>\n",
              "      <th>Год сдачи</th>\n",
              "      <th>Месяц сдачи</th>\n",
              "      <th>День недели сдачи</th>\n",
              "    </tr>\n",
              "  </thead>\n",
              "  <tbody>\n",
              "    <tr>\n",
              "      <th>1340</th>\n",
              "      <td>26459</td>\n",
              "      <td>ЖК ГАВАНЬ КАПИТАНОВ</td>\n",
              "      <td>г Санкт-Петербург</td>\n",
              "      <td>78</td>\n",
              "      <td>2022-12-31</td>\n",
              "      <td>135139</td>\n",
              "      <td>Комфорт</td>\n",
              "      <td>2522</td>\n",
              "      <td>19</td>\n",
              "      <td>1</td>\n",
              "      <td>49</td>\n",
              "      <td>1013</td>\n",
              "      <td>1</td>\n",
              "      <td>4</td>\n",
              "      <td>2</td>\n",
              "      <td>МОРСКАЯ СТРОИТЕЛЬНАЯ КОМПАНИЯ</td>\n",
              "      <td>2022</td>\n",
              "      <td>12</td>\n",
              "      <td>Saturday</td>\n",
              "    </tr>\n",
              "    <tr>\n",
              "      <th>3239</th>\n",
              "      <td>37486</td>\n",
              "      <td>ЖК \"Профит\"</td>\n",
              "      <td>г Москва, район Нижегородский</td>\n",
              "      <td>77</td>\n",
              "      <td>2023-06-30</td>\n",
              "      <td>234326</td>\n",
              "      <td>Комфорт</td>\n",
              "      <td>2330</td>\n",
              "      <td>33</td>\n",
              "      <td>27</td>\n",
              "      <td>17</td>\n",
              "      <td>538</td>\n",
              "      <td>0</td>\n",
              "      <td>4</td>\n",
              "      <td>3</td>\n",
              "      <td>СПЕЦИАЛИЗИРОВАННЫЕ ЗАСТРОЙЩИК ГРАНЕЛЬ ГРАД</td>\n",
              "      <td>2023</td>\n",
              "      <td>06</td>\n",
              "      <td>Friday</td>\n",
              "    </tr>\n",
              "    <tr>\n",
              "      <th>3117</th>\n",
              "      <td>46925</td>\n",
              "      <td>Жилой комплекс\"Амурский парк\"</td>\n",
              "      <td>г Москва, район Гольяново, Улица Амурская</td>\n",
              "      <td>77</td>\n",
              "      <td>2025-06-30</td>\n",
              "      <td>259554</td>\n",
              "      <td>Типовой</td>\n",
              "      <td>2131</td>\n",
              "      <td>35</td>\n",
              "      <td>3</td>\n",
              "      <td>4</td>\n",
              "      <td>442</td>\n",
              "      <td>0</td>\n",
              "      <td>1</td>\n",
              "      <td>1</td>\n",
              "      <td>СПЕЦИАЛИЗИРОВАННЫЙ ЗАСТРОЙЩИК ГЛОРИ</td>\n",
              "      <td>2025</td>\n",
              "      <td>06</td>\n",
              "      <td>Monday</td>\n",
              "    </tr>\n",
              "  </tbody>\n",
              "</table>\n",
              "</div>\n",
              "      <button class=\"colab-df-convert\" onclick=\"convertToInteractive('df-a330396b-7776-438c-b9e6-40d1514a7234')\"\n",
              "              title=\"Convert this dataframe to an interactive table.\"\n",
              "              style=\"display:none;\">\n",
              "        \n",
              "  <svg xmlns=\"http://www.w3.org/2000/svg\" height=\"24px\"viewBox=\"0 0 24 24\"\n",
              "       width=\"24px\">\n",
              "    <path d=\"M0 0h24v24H0V0z\" fill=\"none\"/>\n",
              "    <path d=\"M18.56 5.44l.94 2.06.94-2.06 2.06-.94-2.06-.94-.94-2.06-.94 2.06-2.06.94zm-11 1L8.5 8.5l.94-2.06 2.06-.94-2.06-.94L8.5 2.5l-.94 2.06-2.06.94zm10 10l.94 2.06.94-2.06 2.06-.94-2.06-.94-.94-2.06-.94 2.06-2.06.94z\"/><path d=\"M17.41 7.96l-1.37-1.37c-.4-.4-.92-.59-1.43-.59-.52 0-1.04.2-1.43.59L10.3 9.45l-7.72 7.72c-.78.78-.78 2.05 0 2.83L4 21.41c.39.39.9.59 1.41.59.51 0 1.02-.2 1.41-.59l7.78-7.78 2.81-2.81c.8-.78.8-2.07 0-2.86zM5.41 20L4 18.59l7.72-7.72 1.47 1.35L5.41 20z\"/>\n",
              "  </svg>\n",
              "      </button>\n",
              "      \n",
              "  <style>\n",
              "    .colab-df-container {\n",
              "      display:flex;\n",
              "      flex-wrap:wrap;\n",
              "      gap: 12px;\n",
              "    }\n",
              "\n",
              "    .colab-df-convert {\n",
              "      background-color: #E8F0FE;\n",
              "      border: none;\n",
              "      border-radius: 50%;\n",
              "      cursor: pointer;\n",
              "      display: none;\n",
              "      fill: #1967D2;\n",
              "      height: 32px;\n",
              "      padding: 0 0 0 0;\n",
              "      width: 32px;\n",
              "    }\n",
              "\n",
              "    .colab-df-convert:hover {\n",
              "      background-color: #E2EBFA;\n",
              "      box-shadow: 0px 1px 2px rgba(60, 64, 67, 0.3), 0px 1px 3px 1px rgba(60, 64, 67, 0.15);\n",
              "      fill: #174EA6;\n",
              "    }\n",
              "\n",
              "    [theme=dark] .colab-df-convert {\n",
              "      background-color: #3B4455;\n",
              "      fill: #D2E3FC;\n",
              "    }\n",
              "\n",
              "    [theme=dark] .colab-df-convert:hover {\n",
              "      background-color: #434B5C;\n",
              "      box-shadow: 0px 1px 3px 1px rgba(0, 0, 0, 0.15);\n",
              "      filter: drop-shadow(0px 1px 2px rgba(0, 0, 0, 0.3));\n",
              "      fill: #FFFFFF;\n",
              "    }\n",
              "  </style>\n",
              "\n",
              "      <script>\n",
              "        const buttonEl =\n",
              "          document.querySelector('#df-a330396b-7776-438c-b9e6-40d1514a7234 button.colab-df-convert');\n",
              "        buttonEl.style.display =\n",
              "          google.colab.kernel.accessAllowed ? 'block' : 'none';\n",
              "\n",
              "        async function convertToInteractive(key) {\n",
              "          const element = document.querySelector('#df-a330396b-7776-438c-b9e6-40d1514a7234');\n",
              "          const dataTable =\n",
              "            await google.colab.kernel.invokeFunction('convertToInteractive',\n",
              "                                                     [key], {});\n",
              "          if (!dataTable) return;\n",
              "\n",
              "          const docLinkHtml = 'Like what you see? Visit the ' +\n",
              "            '<a target=\"_blank\" href=https://colab.research.google.com/notebooks/data_table.ipynb>data table notebook</a>'\n",
              "            + ' to learn more about interactive tables.';\n",
              "          element.innerHTML = '';\n",
              "          dataTable['output_type'] = 'display_data';\n",
              "          await google.colab.output.renderOutput(dataTable, element);\n",
              "          const docLink = document.createElement('div');\n",
              "          docLink.innerHTML = docLinkHtml;\n",
              "          element.appendChild(docLink);\n",
              "        }\n",
              "      </script>\n",
              "    </div>\n",
              "  </div>\n",
              "  "
            ]
          },
          "metadata": {},
          "execution_count": 22
        }
      ]
    },
    {
      "cell_type": "code",
      "source": [
        "# Проверим количественные данные на предмет выбросов\n",
        "# Отдельно посмотрим на наличие выбросов в данных о стоимости\n",
        "# По факту проверок обнаружены значения <NA>, которые будут мешать анализу\n",
        "df_1_clean_test = df_1_clean.sort_values(by=['Стоимость м.кв.'], ascending=[True])\n",
        "df_1_clean_test.tail(3)"
      ],
      "metadata": {
        "colab": {
          "base_uri": "https://localhost:8080/",
          "height": 344
        },
        "id": "o61PUJ9JkaPJ",
        "outputId": "edf82016-a8b3-46ae-edd6-dac7a15c203e"
      },
      "execution_count": 23,
      "outputs": [
        {
          "output_type": "execute_result",
          "data": {
            "text/plain": [
              "         id                                   Название обьекта  \\\n",
              "4941  46988  Жилой комплекс \"Левенцовка Парк\" (ЖК \"Левенцов...   \n",
              "4981  43363                          Семейный квартал \"Добрый\"   \n",
              "4989  47986            Жилой комплекс \"Осенний лист\" (ж.д.№ 1)   \n",
              "\n",
              "                                              Адрес  Регион Срок сдачи  \\\n",
              "4941  г Ростов-на-Дону, район Советский, корпус 8-1      61 2025-03-31   \n",
              "4981                                 г Екатеринбург      66 2023-09-30   \n",
              "4989          г Оренбург, улица Юркина, д. 1 (стр.)      56 2024-06-30   \n",
              "\n",
              "      Стоимость м.кв. Класс жилья  Кол-во квартир  Максимум этажей  \\\n",
              "4941             <NA>     Типовой             180               22   \n",
              "4981             <NA>     Комфорт               0                1   \n",
              "4989             <NA>     Типовой             720               24   \n",
              "\n",
              "      Минимум этажей  Грузоподъемность лифтов  Парковочные места  \\\n",
              "4941              22                        1                  0   \n",
              "4981               1                        0                138   \n",
              "4989              17                        4                  0   \n",
              "\n",
              "      Наличие велодорожки  Детские площадки  Спортивные площадки  \\\n",
              "4941                    0                 1                    1   \n",
              "4981                    0                 0                    0   \n",
              "4989                    0                 1                    1   \n",
              "\n",
              "                                          Застройщик Год сдачи Месяц сдачи  \\\n",
              "4941   СПЕЦИАЛИЗИРОВАННЫЙ ЗАСТРОЙЩИК ЛЕВЕНЦОВКА ПАРК      2025          03   \n",
              "4981  СПЕЦИАЛИЗИРОВАННЫЙ ЗАСТРОЙЩИК ЛИДЕР КОНСТРАКШН      2023          09   \n",
              "4989          СПЕЦИАЛИЗИРОВАННЫЙ ЗАСТРОЙЩИК ЛИСТСИТИ      2024          06   \n",
              "\n",
              "     День недели сдачи  \n",
              "4941            Monday  \n",
              "4981          Saturday  \n",
              "4989            Sunday  "
            ],
            "text/html": [
              "\n",
              "  <div id=\"df-5e73c585-8e72-4bc4-b25b-a2f40d24ebbb\">\n",
              "    <div class=\"colab-df-container\">\n",
              "      <div>\n",
              "<style scoped>\n",
              "    .dataframe tbody tr th:only-of-type {\n",
              "        vertical-align: middle;\n",
              "    }\n",
              "\n",
              "    .dataframe tbody tr th {\n",
              "        vertical-align: top;\n",
              "    }\n",
              "\n",
              "    .dataframe thead th {\n",
              "        text-align: right;\n",
              "    }\n",
              "</style>\n",
              "<table border=\"1\" class=\"dataframe\">\n",
              "  <thead>\n",
              "    <tr style=\"text-align: right;\">\n",
              "      <th></th>\n",
              "      <th>id</th>\n",
              "      <th>Название обьекта</th>\n",
              "      <th>Адрес</th>\n",
              "      <th>Регион</th>\n",
              "      <th>Срок сдачи</th>\n",
              "      <th>Стоимость м.кв.</th>\n",
              "      <th>Класс жилья</th>\n",
              "      <th>Кол-во квартир</th>\n",
              "      <th>Максимум этажей</th>\n",
              "      <th>Минимум этажей</th>\n",
              "      <th>Грузоподъемность лифтов</th>\n",
              "      <th>Парковочные места</th>\n",
              "      <th>Наличие велодорожки</th>\n",
              "      <th>Детские площадки</th>\n",
              "      <th>Спортивные площадки</th>\n",
              "      <th>Застройщик</th>\n",
              "      <th>Год сдачи</th>\n",
              "      <th>Месяц сдачи</th>\n",
              "      <th>День недели сдачи</th>\n",
              "    </tr>\n",
              "  </thead>\n",
              "  <tbody>\n",
              "    <tr>\n",
              "      <th>4941</th>\n",
              "      <td>46988</td>\n",
              "      <td>Жилой комплекс \"Левенцовка Парк\" (ЖК \"Левенцов...</td>\n",
              "      <td>г Ростов-на-Дону, район Советский, корпус 8-1</td>\n",
              "      <td>61</td>\n",
              "      <td>2025-03-31</td>\n",
              "      <td>&lt;NA&gt;</td>\n",
              "      <td>Типовой</td>\n",
              "      <td>180</td>\n",
              "      <td>22</td>\n",
              "      <td>22</td>\n",
              "      <td>1</td>\n",
              "      <td>0</td>\n",
              "      <td>0</td>\n",
              "      <td>1</td>\n",
              "      <td>1</td>\n",
              "      <td>СПЕЦИАЛИЗИРОВАННЫЙ ЗАСТРОЙЩИК ЛЕВЕНЦОВКА ПАРК</td>\n",
              "      <td>2025</td>\n",
              "      <td>03</td>\n",
              "      <td>Monday</td>\n",
              "    </tr>\n",
              "    <tr>\n",
              "      <th>4981</th>\n",
              "      <td>43363</td>\n",
              "      <td>Семейный квартал \"Добрый\"</td>\n",
              "      <td>г Екатеринбург</td>\n",
              "      <td>66</td>\n",
              "      <td>2023-09-30</td>\n",
              "      <td>&lt;NA&gt;</td>\n",
              "      <td>Комфорт</td>\n",
              "      <td>0</td>\n",
              "      <td>1</td>\n",
              "      <td>1</td>\n",
              "      <td>0</td>\n",
              "      <td>138</td>\n",
              "      <td>0</td>\n",
              "      <td>0</td>\n",
              "      <td>0</td>\n",
              "      <td>СПЕЦИАЛИЗИРОВАННЫЙ ЗАСТРОЙЩИК ЛИДЕР КОНСТРАКШН</td>\n",
              "      <td>2023</td>\n",
              "      <td>09</td>\n",
              "      <td>Saturday</td>\n",
              "    </tr>\n",
              "    <tr>\n",
              "      <th>4989</th>\n",
              "      <td>47986</td>\n",
              "      <td>Жилой комплекс \"Осенний лист\" (ж.д.№ 1)</td>\n",
              "      <td>г Оренбург, улица Юркина, д. 1 (стр.)</td>\n",
              "      <td>56</td>\n",
              "      <td>2024-06-30</td>\n",
              "      <td>&lt;NA&gt;</td>\n",
              "      <td>Типовой</td>\n",
              "      <td>720</td>\n",
              "      <td>24</td>\n",
              "      <td>17</td>\n",
              "      <td>4</td>\n",
              "      <td>0</td>\n",
              "      <td>0</td>\n",
              "      <td>1</td>\n",
              "      <td>1</td>\n",
              "      <td>СПЕЦИАЛИЗИРОВАННЫЙ ЗАСТРОЙЩИК ЛИСТСИТИ</td>\n",
              "      <td>2024</td>\n",
              "      <td>06</td>\n",
              "      <td>Sunday</td>\n",
              "    </tr>\n",
              "  </tbody>\n",
              "</table>\n",
              "</div>\n",
              "      <button class=\"colab-df-convert\" onclick=\"convertToInteractive('df-5e73c585-8e72-4bc4-b25b-a2f40d24ebbb')\"\n",
              "              title=\"Convert this dataframe to an interactive table.\"\n",
              "              style=\"display:none;\">\n",
              "        \n",
              "  <svg xmlns=\"http://www.w3.org/2000/svg\" height=\"24px\"viewBox=\"0 0 24 24\"\n",
              "       width=\"24px\">\n",
              "    <path d=\"M0 0h24v24H0V0z\" fill=\"none\"/>\n",
              "    <path d=\"M18.56 5.44l.94 2.06.94-2.06 2.06-.94-2.06-.94-.94-2.06-.94 2.06-2.06.94zm-11 1L8.5 8.5l.94-2.06 2.06-.94-2.06-.94L8.5 2.5l-.94 2.06-2.06.94zm10 10l.94 2.06.94-2.06 2.06-.94-2.06-.94-.94-2.06-.94 2.06-2.06.94z\"/><path d=\"M17.41 7.96l-1.37-1.37c-.4-.4-.92-.59-1.43-.59-.52 0-1.04.2-1.43.59L10.3 9.45l-7.72 7.72c-.78.78-.78 2.05 0 2.83L4 21.41c.39.39.9.59 1.41.59.51 0 1.02-.2 1.41-.59l7.78-7.78 2.81-2.81c.8-.78.8-2.07 0-2.86zM5.41 20L4 18.59l7.72-7.72 1.47 1.35L5.41 20z\"/>\n",
              "  </svg>\n",
              "      </button>\n",
              "      \n",
              "  <style>\n",
              "    .colab-df-container {\n",
              "      display:flex;\n",
              "      flex-wrap:wrap;\n",
              "      gap: 12px;\n",
              "    }\n",
              "\n",
              "    .colab-df-convert {\n",
              "      background-color: #E8F0FE;\n",
              "      border: none;\n",
              "      border-radius: 50%;\n",
              "      cursor: pointer;\n",
              "      display: none;\n",
              "      fill: #1967D2;\n",
              "      height: 32px;\n",
              "      padding: 0 0 0 0;\n",
              "      width: 32px;\n",
              "    }\n",
              "\n",
              "    .colab-df-convert:hover {\n",
              "      background-color: #E2EBFA;\n",
              "      box-shadow: 0px 1px 2px rgba(60, 64, 67, 0.3), 0px 1px 3px 1px rgba(60, 64, 67, 0.15);\n",
              "      fill: #174EA6;\n",
              "    }\n",
              "\n",
              "    [theme=dark] .colab-df-convert {\n",
              "      background-color: #3B4455;\n",
              "      fill: #D2E3FC;\n",
              "    }\n",
              "\n",
              "    [theme=dark] .colab-df-convert:hover {\n",
              "      background-color: #434B5C;\n",
              "      box-shadow: 0px 1px 3px 1px rgba(0, 0, 0, 0.15);\n",
              "      filter: drop-shadow(0px 1px 2px rgba(0, 0, 0, 0.3));\n",
              "      fill: #FFFFFF;\n",
              "    }\n",
              "  </style>\n",
              "\n",
              "      <script>\n",
              "        const buttonEl =\n",
              "          document.querySelector('#df-5e73c585-8e72-4bc4-b25b-a2f40d24ebbb button.colab-df-convert');\n",
              "        buttonEl.style.display =\n",
              "          google.colab.kernel.accessAllowed ? 'block' : 'none';\n",
              "\n",
              "        async function convertToInteractive(key) {\n",
              "          const element = document.querySelector('#df-5e73c585-8e72-4bc4-b25b-a2f40d24ebbb');\n",
              "          const dataTable =\n",
              "            await google.colab.kernel.invokeFunction('convertToInteractive',\n",
              "                                                     [key], {});\n",
              "          if (!dataTable) return;\n",
              "\n",
              "          const docLinkHtml = 'Like what you see? Visit the ' +\n",
              "            '<a target=\"_blank\" href=https://colab.research.google.com/notebooks/data_table.ipynb>data table notebook</a>'\n",
              "            + ' to learn more about interactive tables.';\n",
              "          element.innerHTML = '';\n",
              "          dataTable['output_type'] = 'display_data';\n",
              "          await google.colab.output.renderOutput(dataTable, element);\n",
              "          const docLink = document.createElement('div');\n",
              "          docLink.innerHTML = docLinkHtml;\n",
              "          element.appendChild(docLink);\n",
              "        }\n",
              "      </script>\n",
              "    </div>\n",
              "  </div>\n",
              "  "
            ]
          },
          "metadata": {},
          "execution_count": 23
        }
      ]
    },
    {
      "cell_type": "code",
      "source": [
        "# Оставляем в таблице значения колонки Стоимость м.кв., которые не равны '<NA>'\n",
        "df_1_clean = df_1_clean[df_1_clean['Стоимость м.кв.'] != '<NA>']"
      ],
      "metadata": {
        "id": "uzW-aj632PEM"
      },
      "execution_count": 24,
      "outputs": []
    },
    {
      "cell_type": "code",
      "source": [
        "# Проверяем что получилось в итоге\n",
        "# Значения удалены\n",
        "df_1_clean = df_1_clean.sort_values(by=['Стоимость м.кв.'], ascending=[False])\n",
        "df_1_clean.tail(3)"
      ],
      "metadata": {
        "colab": {
          "base_uri": "https://localhost:8080/",
          "height": 292
        },
        "id": "F8KiS2Yx2PeO",
        "outputId": "5f8b0d2a-f398-44de-9fda-ff8a650021ce"
      },
      "execution_count": 25,
      "outputs": [
        {
          "output_type": "execute_result",
          "data": {
            "text/plain": [
              "         id  Название обьекта  \\\n",
              "1424   5135  Квартал \"Татлин\"   \n",
              "1178  14231     Цветной город   \n",
              "1144  41380           \"Ручьи\"   \n",
              "\n",
              "                                                 Адрес  Регион Срок сдачи  \\\n",
              "1424  г Екатеринбург, улица 3-го Интернационала, д. 1а      66 2023-06-30   \n",
              "1178                                 г Санкт-Петербург      78 2024-12-31   \n",
              "1144                                               NaN      78 2024-09-30   \n",
              "\n",
              "      Стоимость м.кв. Класс жилья  Кол-во квартир  Максимум этажей  \\\n",
              "1424             2000     Комфорт               0                1   \n",
              "1178             2000     Комфорт             561               25   \n",
              "1144             2000     Комфорт             266               21   \n",
              "\n",
              "      Минимум этажей  Грузоподъемность лифтов  Парковочные места  \\\n",
              "1424               1                        0                  0   \n",
              "1178              25                        2                  0   \n",
              "1144              21                        2                  0   \n",
              "\n",
              "      Наличие велодорожки  Детские площадки  Спортивные площадки  \\\n",
              "1424                    1                 1                    1   \n",
              "1178                    0                 1                    1   \n",
              "1144                    0                 0                    0   \n",
              "\n",
              "                         Застройщик Год сдачи Месяц сдачи День недели сдачи  \n",
              "1424               НОВЫЙ ЗАСТРОЙЩИК      2023          06            Friday  \n",
              "1178  ЛСР.НЕДВИЖИМОСТЬ-СЕВЕРО-ЗАПАД      2024          12           Tuesday  \n",
              "1144  ЛСР.НЕДВИЖИМОСТЬ-СЕВЕРО-ЗАПАД      2024          09            Monday  "
            ],
            "text/html": [
              "\n",
              "  <div id=\"df-c5b14abd-d42a-4993-b202-489831a34341\">\n",
              "    <div class=\"colab-df-container\">\n",
              "      <div>\n",
              "<style scoped>\n",
              "    .dataframe tbody tr th:only-of-type {\n",
              "        vertical-align: middle;\n",
              "    }\n",
              "\n",
              "    .dataframe tbody tr th {\n",
              "        vertical-align: top;\n",
              "    }\n",
              "\n",
              "    .dataframe thead th {\n",
              "        text-align: right;\n",
              "    }\n",
              "</style>\n",
              "<table border=\"1\" class=\"dataframe\">\n",
              "  <thead>\n",
              "    <tr style=\"text-align: right;\">\n",
              "      <th></th>\n",
              "      <th>id</th>\n",
              "      <th>Название обьекта</th>\n",
              "      <th>Адрес</th>\n",
              "      <th>Регион</th>\n",
              "      <th>Срок сдачи</th>\n",
              "      <th>Стоимость м.кв.</th>\n",
              "      <th>Класс жилья</th>\n",
              "      <th>Кол-во квартир</th>\n",
              "      <th>Максимум этажей</th>\n",
              "      <th>Минимум этажей</th>\n",
              "      <th>Грузоподъемность лифтов</th>\n",
              "      <th>Парковочные места</th>\n",
              "      <th>Наличие велодорожки</th>\n",
              "      <th>Детские площадки</th>\n",
              "      <th>Спортивные площадки</th>\n",
              "      <th>Застройщик</th>\n",
              "      <th>Год сдачи</th>\n",
              "      <th>Месяц сдачи</th>\n",
              "      <th>День недели сдачи</th>\n",
              "    </tr>\n",
              "  </thead>\n",
              "  <tbody>\n",
              "    <tr>\n",
              "      <th>1424</th>\n",
              "      <td>5135</td>\n",
              "      <td>Квартал \"Татлин\"</td>\n",
              "      <td>г Екатеринбург, улица 3-го Интернационала, д. 1а</td>\n",
              "      <td>66</td>\n",
              "      <td>2023-06-30</td>\n",
              "      <td>2000</td>\n",
              "      <td>Комфорт</td>\n",
              "      <td>0</td>\n",
              "      <td>1</td>\n",
              "      <td>1</td>\n",
              "      <td>0</td>\n",
              "      <td>0</td>\n",
              "      <td>1</td>\n",
              "      <td>1</td>\n",
              "      <td>1</td>\n",
              "      <td>НОВЫЙ ЗАСТРОЙЩИК</td>\n",
              "      <td>2023</td>\n",
              "      <td>06</td>\n",
              "      <td>Friday</td>\n",
              "    </tr>\n",
              "    <tr>\n",
              "      <th>1178</th>\n",
              "      <td>14231</td>\n",
              "      <td>Цветной город</td>\n",
              "      <td>г Санкт-Петербург</td>\n",
              "      <td>78</td>\n",
              "      <td>2024-12-31</td>\n",
              "      <td>2000</td>\n",
              "      <td>Комфорт</td>\n",
              "      <td>561</td>\n",
              "      <td>25</td>\n",
              "      <td>25</td>\n",
              "      <td>2</td>\n",
              "      <td>0</td>\n",
              "      <td>0</td>\n",
              "      <td>1</td>\n",
              "      <td>1</td>\n",
              "      <td>ЛСР.НЕДВИЖИМОСТЬ-СЕВЕРО-ЗАПАД</td>\n",
              "      <td>2024</td>\n",
              "      <td>12</td>\n",
              "      <td>Tuesday</td>\n",
              "    </tr>\n",
              "    <tr>\n",
              "      <th>1144</th>\n",
              "      <td>41380</td>\n",
              "      <td>\"Ручьи\"</td>\n",
              "      <td>NaN</td>\n",
              "      <td>78</td>\n",
              "      <td>2024-09-30</td>\n",
              "      <td>2000</td>\n",
              "      <td>Комфорт</td>\n",
              "      <td>266</td>\n",
              "      <td>21</td>\n",
              "      <td>21</td>\n",
              "      <td>2</td>\n",
              "      <td>0</td>\n",
              "      <td>0</td>\n",
              "      <td>0</td>\n",
              "      <td>0</td>\n",
              "      <td>ЛСР.НЕДВИЖИМОСТЬ-СЕВЕРО-ЗАПАД</td>\n",
              "      <td>2024</td>\n",
              "      <td>09</td>\n",
              "      <td>Monday</td>\n",
              "    </tr>\n",
              "  </tbody>\n",
              "</table>\n",
              "</div>\n",
              "      <button class=\"colab-df-convert\" onclick=\"convertToInteractive('df-c5b14abd-d42a-4993-b202-489831a34341')\"\n",
              "              title=\"Convert this dataframe to an interactive table.\"\n",
              "              style=\"display:none;\">\n",
              "        \n",
              "  <svg xmlns=\"http://www.w3.org/2000/svg\" height=\"24px\"viewBox=\"0 0 24 24\"\n",
              "       width=\"24px\">\n",
              "    <path d=\"M0 0h24v24H0V0z\" fill=\"none\"/>\n",
              "    <path d=\"M18.56 5.44l.94 2.06.94-2.06 2.06-.94-2.06-.94-.94-2.06-.94 2.06-2.06.94zm-11 1L8.5 8.5l.94-2.06 2.06-.94-2.06-.94L8.5 2.5l-.94 2.06-2.06.94zm10 10l.94 2.06.94-2.06 2.06-.94-2.06-.94-.94-2.06-.94 2.06-2.06.94z\"/><path d=\"M17.41 7.96l-1.37-1.37c-.4-.4-.92-.59-1.43-.59-.52 0-1.04.2-1.43.59L10.3 9.45l-7.72 7.72c-.78.78-.78 2.05 0 2.83L4 21.41c.39.39.9.59 1.41.59.51 0 1.02-.2 1.41-.59l7.78-7.78 2.81-2.81c.8-.78.8-2.07 0-2.86zM5.41 20L4 18.59l7.72-7.72 1.47 1.35L5.41 20z\"/>\n",
              "  </svg>\n",
              "      </button>\n",
              "      \n",
              "  <style>\n",
              "    .colab-df-container {\n",
              "      display:flex;\n",
              "      flex-wrap:wrap;\n",
              "      gap: 12px;\n",
              "    }\n",
              "\n",
              "    .colab-df-convert {\n",
              "      background-color: #E8F0FE;\n",
              "      border: none;\n",
              "      border-radius: 50%;\n",
              "      cursor: pointer;\n",
              "      display: none;\n",
              "      fill: #1967D2;\n",
              "      height: 32px;\n",
              "      padding: 0 0 0 0;\n",
              "      width: 32px;\n",
              "    }\n",
              "\n",
              "    .colab-df-convert:hover {\n",
              "      background-color: #E2EBFA;\n",
              "      box-shadow: 0px 1px 2px rgba(60, 64, 67, 0.3), 0px 1px 3px 1px rgba(60, 64, 67, 0.15);\n",
              "      fill: #174EA6;\n",
              "    }\n",
              "\n",
              "    [theme=dark] .colab-df-convert {\n",
              "      background-color: #3B4455;\n",
              "      fill: #D2E3FC;\n",
              "    }\n",
              "\n",
              "    [theme=dark] .colab-df-convert:hover {\n",
              "      background-color: #434B5C;\n",
              "      box-shadow: 0px 1px 3px 1px rgba(0, 0, 0, 0.15);\n",
              "      filter: drop-shadow(0px 1px 2px rgba(0, 0, 0, 0.3));\n",
              "      fill: #FFFFFF;\n",
              "    }\n",
              "  </style>\n",
              "\n",
              "      <script>\n",
              "        const buttonEl =\n",
              "          document.querySelector('#df-c5b14abd-d42a-4993-b202-489831a34341 button.colab-df-convert');\n",
              "        buttonEl.style.display =\n",
              "          google.colab.kernel.accessAllowed ? 'block' : 'none';\n",
              "\n",
              "        async function convertToInteractive(key) {\n",
              "          const element = document.querySelector('#df-c5b14abd-d42a-4993-b202-489831a34341');\n",
              "          const dataTable =\n",
              "            await google.colab.kernel.invokeFunction('convertToInteractive',\n",
              "                                                     [key], {});\n",
              "          if (!dataTable) return;\n",
              "\n",
              "          const docLinkHtml = 'Like what you see? Visit the ' +\n",
              "            '<a target=\"_blank\" href=https://colab.research.google.com/notebooks/data_table.ipynb>data table notebook</a>'\n",
              "            + ' to learn more about interactive tables.';\n",
              "          element.innerHTML = '';\n",
              "          dataTable['output_type'] = 'display_data';\n",
              "          await google.colab.output.renderOutput(dataTable, element);\n",
              "          const docLink = document.createElement('div');\n",
              "          docLink.innerHTML = docLinkHtml;\n",
              "          element.appendChild(docLink);\n",
              "        }\n",
              "      </script>\n",
              "    </div>\n",
              "  </div>\n",
              "  "
            ]
          },
          "metadata": {},
          "execution_count": 25
        }
      ]
    },
    {
      "cell_type": "code",
      "source": [
        "# Отсортируем значения таблицы по id и объявим новый df_2...\n",
        "df_2_clean = df_1_clean.sort_values(by=['id'], ascending=[True])\n",
        "df_2_clean.head(3)"
      ],
      "metadata": {
        "colab": {
          "base_uri": "https://localhost:8080/",
          "height": 344
        },
        "id": "vZ-Z3Dro3Sdz",
        "outputId": "d34afd09-4df4-495d-ed60-c0ed08315785"
      },
      "execution_count": 26,
      "outputs": [
        {
          "output_type": "execute_result",
          "data": {
            "text/plain": [
              "        id                                   Название обьекта  \\\n",
              "1044  1259                           \"СМАРТ дом на Новоселов\"   \n",
              "1693  1284  Жилой Комплекс \"Мир Митино\" (сокращенное наиме...   \n",
              "2742  1804  Жилой комплекс \"Цветочный город\" 7-ой этап стр...   \n",
              "\n",
              "                                                  Адрес  Регион Срок сдачи  \\\n",
              "1044                     г Рязань, улица Бугровка, д. 0      62 2023-12-31   \n",
              "1693  г Москва, район внутригородское муниципальное ...      77 2024-12-31   \n",
              "2742                     г Ижевск, район Индустриальный      18 2022-12-31   \n",
              "\n",
              "      Стоимость м.кв. Класс жилья  Кол-во квартир  Максимум этажей  \\\n",
              "1044            63806     Типовой             440               27   \n",
              "1693            40330     Типовой            1115               27   \n",
              "2742            72368     Комфорт             168                8   \n",
              "\n",
              "      Минимум этажей  Грузоподъемность лифтов  Парковочные места  \\\n",
              "1044              27                        4                  0   \n",
              "1693              27                       14                  0   \n",
              "2742               8                        3                  0   \n",
              "\n",
              "      Наличие велодорожки  Детские площадки  Спортивные площадки  \\\n",
              "1044                    0                 1                    0   \n",
              "1693                    0                 1                    2   \n",
              "2742                    0                 1                    1   \n",
              "\n",
              "                                Застройщик Год сдачи Месяц сдачи  \\\n",
              "1044                              КРИСТАЛЛ      2023          12   \n",
              "1693                           РОЖДЕСТВЕНО      2024          12   \n",
              "2742  СПЕЦИАЛИЗИРОВАННЫЙ ЗАСТРОЙЩИК ВОСТОК      2022          12   \n",
              "\n",
              "     День недели сдачи  \n",
              "1044            Sunday  \n",
              "1693           Tuesday  \n",
              "2742          Saturday  "
            ],
            "text/html": [
              "\n",
              "  <div id=\"df-de0656f8-54eb-4327-a519-5ce0c1d41212\">\n",
              "    <div class=\"colab-df-container\">\n",
              "      <div>\n",
              "<style scoped>\n",
              "    .dataframe tbody tr th:only-of-type {\n",
              "        vertical-align: middle;\n",
              "    }\n",
              "\n",
              "    .dataframe tbody tr th {\n",
              "        vertical-align: top;\n",
              "    }\n",
              "\n",
              "    .dataframe thead th {\n",
              "        text-align: right;\n",
              "    }\n",
              "</style>\n",
              "<table border=\"1\" class=\"dataframe\">\n",
              "  <thead>\n",
              "    <tr style=\"text-align: right;\">\n",
              "      <th></th>\n",
              "      <th>id</th>\n",
              "      <th>Название обьекта</th>\n",
              "      <th>Адрес</th>\n",
              "      <th>Регион</th>\n",
              "      <th>Срок сдачи</th>\n",
              "      <th>Стоимость м.кв.</th>\n",
              "      <th>Класс жилья</th>\n",
              "      <th>Кол-во квартир</th>\n",
              "      <th>Максимум этажей</th>\n",
              "      <th>Минимум этажей</th>\n",
              "      <th>Грузоподъемность лифтов</th>\n",
              "      <th>Парковочные места</th>\n",
              "      <th>Наличие велодорожки</th>\n",
              "      <th>Детские площадки</th>\n",
              "      <th>Спортивные площадки</th>\n",
              "      <th>Застройщик</th>\n",
              "      <th>Год сдачи</th>\n",
              "      <th>Месяц сдачи</th>\n",
              "      <th>День недели сдачи</th>\n",
              "    </tr>\n",
              "  </thead>\n",
              "  <tbody>\n",
              "    <tr>\n",
              "      <th>1044</th>\n",
              "      <td>1259</td>\n",
              "      <td>\"СМАРТ дом на Новоселов\"</td>\n",
              "      <td>г Рязань, улица Бугровка, д. 0</td>\n",
              "      <td>62</td>\n",
              "      <td>2023-12-31</td>\n",
              "      <td>63806</td>\n",
              "      <td>Типовой</td>\n",
              "      <td>440</td>\n",
              "      <td>27</td>\n",
              "      <td>27</td>\n",
              "      <td>4</td>\n",
              "      <td>0</td>\n",
              "      <td>0</td>\n",
              "      <td>1</td>\n",
              "      <td>0</td>\n",
              "      <td>КРИСТАЛЛ</td>\n",
              "      <td>2023</td>\n",
              "      <td>12</td>\n",
              "      <td>Sunday</td>\n",
              "    </tr>\n",
              "    <tr>\n",
              "      <th>1693</th>\n",
              "      <td>1284</td>\n",
              "      <td>Жилой Комплекс \"Мир Митино\" (сокращенное наиме...</td>\n",
              "      <td>г Москва, район внутригородское муниципальное ...</td>\n",
              "      <td>77</td>\n",
              "      <td>2024-12-31</td>\n",
              "      <td>40330</td>\n",
              "      <td>Типовой</td>\n",
              "      <td>1115</td>\n",
              "      <td>27</td>\n",
              "      <td>27</td>\n",
              "      <td>14</td>\n",
              "      <td>0</td>\n",
              "      <td>0</td>\n",
              "      <td>1</td>\n",
              "      <td>2</td>\n",
              "      <td>РОЖДЕСТВЕНО</td>\n",
              "      <td>2024</td>\n",
              "      <td>12</td>\n",
              "      <td>Tuesday</td>\n",
              "    </tr>\n",
              "    <tr>\n",
              "      <th>2742</th>\n",
              "      <td>1804</td>\n",
              "      <td>Жилой комплекс \"Цветочный город\" 7-ой этап стр...</td>\n",
              "      <td>г Ижевск, район Индустриальный</td>\n",
              "      <td>18</td>\n",
              "      <td>2022-12-31</td>\n",
              "      <td>72368</td>\n",
              "      <td>Комфорт</td>\n",
              "      <td>168</td>\n",
              "      <td>8</td>\n",
              "      <td>8</td>\n",
              "      <td>3</td>\n",
              "      <td>0</td>\n",
              "      <td>0</td>\n",
              "      <td>1</td>\n",
              "      <td>1</td>\n",
              "      <td>СПЕЦИАЛИЗИРОВАННЫЙ ЗАСТРОЙЩИК ВОСТОК</td>\n",
              "      <td>2022</td>\n",
              "      <td>12</td>\n",
              "      <td>Saturday</td>\n",
              "    </tr>\n",
              "  </tbody>\n",
              "</table>\n",
              "</div>\n",
              "      <button class=\"colab-df-convert\" onclick=\"convertToInteractive('df-de0656f8-54eb-4327-a519-5ce0c1d41212')\"\n",
              "              title=\"Convert this dataframe to an interactive table.\"\n",
              "              style=\"display:none;\">\n",
              "        \n",
              "  <svg xmlns=\"http://www.w3.org/2000/svg\" height=\"24px\"viewBox=\"0 0 24 24\"\n",
              "       width=\"24px\">\n",
              "    <path d=\"M0 0h24v24H0V0z\" fill=\"none\"/>\n",
              "    <path d=\"M18.56 5.44l.94 2.06.94-2.06 2.06-.94-2.06-.94-.94-2.06-.94 2.06-2.06.94zm-11 1L8.5 8.5l.94-2.06 2.06-.94-2.06-.94L8.5 2.5l-.94 2.06-2.06.94zm10 10l.94 2.06.94-2.06 2.06-.94-2.06-.94-.94-2.06-.94 2.06-2.06.94z\"/><path d=\"M17.41 7.96l-1.37-1.37c-.4-.4-.92-.59-1.43-.59-.52 0-1.04.2-1.43.59L10.3 9.45l-7.72 7.72c-.78.78-.78 2.05 0 2.83L4 21.41c.39.39.9.59 1.41.59.51 0 1.02-.2 1.41-.59l7.78-7.78 2.81-2.81c.8-.78.8-2.07 0-2.86zM5.41 20L4 18.59l7.72-7.72 1.47 1.35L5.41 20z\"/>\n",
              "  </svg>\n",
              "      </button>\n",
              "      \n",
              "  <style>\n",
              "    .colab-df-container {\n",
              "      display:flex;\n",
              "      flex-wrap:wrap;\n",
              "      gap: 12px;\n",
              "    }\n",
              "\n",
              "    .colab-df-convert {\n",
              "      background-color: #E8F0FE;\n",
              "      border: none;\n",
              "      border-radius: 50%;\n",
              "      cursor: pointer;\n",
              "      display: none;\n",
              "      fill: #1967D2;\n",
              "      height: 32px;\n",
              "      padding: 0 0 0 0;\n",
              "      width: 32px;\n",
              "    }\n",
              "\n",
              "    .colab-df-convert:hover {\n",
              "      background-color: #E2EBFA;\n",
              "      box-shadow: 0px 1px 2px rgba(60, 64, 67, 0.3), 0px 1px 3px 1px rgba(60, 64, 67, 0.15);\n",
              "      fill: #174EA6;\n",
              "    }\n",
              "\n",
              "    [theme=dark] .colab-df-convert {\n",
              "      background-color: #3B4455;\n",
              "      fill: #D2E3FC;\n",
              "    }\n",
              "\n",
              "    [theme=dark] .colab-df-convert:hover {\n",
              "      background-color: #434B5C;\n",
              "      box-shadow: 0px 1px 3px 1px rgba(0, 0, 0, 0.15);\n",
              "      filter: drop-shadow(0px 1px 2px rgba(0, 0, 0, 0.3));\n",
              "      fill: #FFFFFF;\n",
              "    }\n",
              "  </style>\n",
              "\n",
              "      <script>\n",
              "        const buttonEl =\n",
              "          document.querySelector('#df-de0656f8-54eb-4327-a519-5ce0c1d41212 button.colab-df-convert');\n",
              "        buttonEl.style.display =\n",
              "          google.colab.kernel.accessAllowed ? 'block' : 'none';\n",
              "\n",
              "        async function convertToInteractive(key) {\n",
              "          const element = document.querySelector('#df-de0656f8-54eb-4327-a519-5ce0c1d41212');\n",
              "          const dataTable =\n",
              "            await google.colab.kernel.invokeFunction('convertToInteractive',\n",
              "                                                     [key], {});\n",
              "          if (!dataTable) return;\n",
              "\n",
              "          const docLinkHtml = 'Like what you see? Visit the ' +\n",
              "            '<a target=\"_blank\" href=https://colab.research.google.com/notebooks/data_table.ipynb>data table notebook</a>'\n",
              "            + ' to learn more about interactive tables.';\n",
              "          element.innerHTML = '';\n",
              "          dataTable['output_type'] = 'display_data';\n",
              "          await google.colab.output.renderOutput(dataTable, element);\n",
              "          const docLink = document.createElement('div');\n",
              "          docLink.innerHTML = docLinkHtml;\n",
              "          element.appendChild(docLink);\n",
              "        }\n",
              "      </script>\n",
              "    </div>\n",
              "  </div>\n",
              "  "
            ]
          },
          "metadata": {},
          "execution_count": 26
        }
      ]
    },
    {
      "cell_type": "code",
      "source": [
        "# Переиндексируем датафрейм после очистки, чтобы избежать пропусков в индексах\n",
        "df_2_clean = df_2_clean.reset_index(drop=True)\n",
        "df_2_clean.head(5)"
      ],
      "metadata": {
        "colab": {
          "base_uri": "https://localhost:8080/",
          "height": 493
        },
        "id": "bdf31AzKC9z4",
        "outputId": "68fb1cdf-5e3f-4096-cf9f-eef911868840"
      },
      "execution_count": 27,
      "outputs": [
        {
          "output_type": "execute_result",
          "data": {
            "text/plain": [
              "     id                                   Название обьекта  \\\n",
              "0  1259                           \"СМАРТ дом на Новоселов\"   \n",
              "1  1284  Жилой Комплекс \"Мир Митино\" (сокращенное наиме...   \n",
              "2  1804  Жилой комплекс \"Цветочный город\" 7-ой этап стр...   \n",
              "3  1805  Жилой комплекс \"Цветочный город\" 8-ой этап стр...   \n",
              "4  1863                             Бизнес-центр «Романов»   \n",
              "\n",
              "                                               Адрес  Регион Срок сдачи  \\\n",
              "0                     г Рязань, улица Бугровка, д. 0      62 2023-12-31   \n",
              "1  г Москва, район внутригородское муниципальное ...      77 2024-12-31   \n",
              "2                     г Ижевск, район Индустриальный      18 2022-12-31   \n",
              "3                     г Ижевск, район Индустриальный      18 2024-06-30   \n",
              "4  г Челябинск, район Курчатовский, пр-кт Комсомо...      74 2022-06-30   \n",
              "\n",
              "   Стоимость м.кв. Класс жилья  Кол-во квартир  Максимум этажей  \\\n",
              "0            63806     Типовой             440               27   \n",
              "1            40330     Типовой            1115               27   \n",
              "2            72368     Комфорт             168                8   \n",
              "3            62875     Комфорт             168                8   \n",
              "4            35389      Бизнес               0                7   \n",
              "\n",
              "   Минимум этажей  Грузоподъемность лифтов  Парковочные места  \\\n",
              "0              27                        4                  0   \n",
              "1              27                       14                  0   \n",
              "2               8                        3                  0   \n",
              "3               8                        3                  0   \n",
              "4               6                        0                  0   \n",
              "\n",
              "   Наличие велодорожки  Детские площадки  Спортивные площадки  \\\n",
              "0                    0                 1                    0   \n",
              "1                    0                 1                    2   \n",
              "2                    0                 1                    1   \n",
              "3                    0                 1                    1   \n",
              "4                    0                 0                    0   \n",
              "\n",
              "                             Застройщик Год сдачи Месяц сдачи  \\\n",
              "0                              КРИСТАЛЛ      2023          12   \n",
              "1                           РОЖДЕСТВЕНО      2024          12   \n",
              "2  СПЕЦИАЛИЗИРОВАННЫЙ ЗАСТРОЙЩИК ВОСТОК      2022          12   \n",
              "3  СПЕЦИАЛИЗИРОВАННЫЙ ЗАСТРОЙЩИК ВОСТОК      2024          06   \n",
              "4                               МЕРКАДА      2022          06   \n",
              "\n",
              "  День недели сдачи  \n",
              "0            Sunday  \n",
              "1           Tuesday  \n",
              "2          Saturday  \n",
              "3            Sunday  \n",
              "4          Thursday  "
            ],
            "text/html": [
              "\n",
              "  <div id=\"df-14ff73b9-1427-4fb8-a121-9caa36020afb\">\n",
              "    <div class=\"colab-df-container\">\n",
              "      <div>\n",
              "<style scoped>\n",
              "    .dataframe tbody tr th:only-of-type {\n",
              "        vertical-align: middle;\n",
              "    }\n",
              "\n",
              "    .dataframe tbody tr th {\n",
              "        vertical-align: top;\n",
              "    }\n",
              "\n",
              "    .dataframe thead th {\n",
              "        text-align: right;\n",
              "    }\n",
              "</style>\n",
              "<table border=\"1\" class=\"dataframe\">\n",
              "  <thead>\n",
              "    <tr style=\"text-align: right;\">\n",
              "      <th></th>\n",
              "      <th>id</th>\n",
              "      <th>Название обьекта</th>\n",
              "      <th>Адрес</th>\n",
              "      <th>Регион</th>\n",
              "      <th>Срок сдачи</th>\n",
              "      <th>Стоимость м.кв.</th>\n",
              "      <th>Класс жилья</th>\n",
              "      <th>Кол-во квартир</th>\n",
              "      <th>Максимум этажей</th>\n",
              "      <th>Минимум этажей</th>\n",
              "      <th>Грузоподъемность лифтов</th>\n",
              "      <th>Парковочные места</th>\n",
              "      <th>Наличие велодорожки</th>\n",
              "      <th>Детские площадки</th>\n",
              "      <th>Спортивные площадки</th>\n",
              "      <th>Застройщик</th>\n",
              "      <th>Год сдачи</th>\n",
              "      <th>Месяц сдачи</th>\n",
              "      <th>День недели сдачи</th>\n",
              "    </tr>\n",
              "  </thead>\n",
              "  <tbody>\n",
              "    <tr>\n",
              "      <th>0</th>\n",
              "      <td>1259</td>\n",
              "      <td>\"СМАРТ дом на Новоселов\"</td>\n",
              "      <td>г Рязань, улица Бугровка, д. 0</td>\n",
              "      <td>62</td>\n",
              "      <td>2023-12-31</td>\n",
              "      <td>63806</td>\n",
              "      <td>Типовой</td>\n",
              "      <td>440</td>\n",
              "      <td>27</td>\n",
              "      <td>27</td>\n",
              "      <td>4</td>\n",
              "      <td>0</td>\n",
              "      <td>0</td>\n",
              "      <td>1</td>\n",
              "      <td>0</td>\n",
              "      <td>КРИСТАЛЛ</td>\n",
              "      <td>2023</td>\n",
              "      <td>12</td>\n",
              "      <td>Sunday</td>\n",
              "    </tr>\n",
              "    <tr>\n",
              "      <th>1</th>\n",
              "      <td>1284</td>\n",
              "      <td>Жилой Комплекс \"Мир Митино\" (сокращенное наиме...</td>\n",
              "      <td>г Москва, район внутригородское муниципальное ...</td>\n",
              "      <td>77</td>\n",
              "      <td>2024-12-31</td>\n",
              "      <td>40330</td>\n",
              "      <td>Типовой</td>\n",
              "      <td>1115</td>\n",
              "      <td>27</td>\n",
              "      <td>27</td>\n",
              "      <td>14</td>\n",
              "      <td>0</td>\n",
              "      <td>0</td>\n",
              "      <td>1</td>\n",
              "      <td>2</td>\n",
              "      <td>РОЖДЕСТВЕНО</td>\n",
              "      <td>2024</td>\n",
              "      <td>12</td>\n",
              "      <td>Tuesday</td>\n",
              "    </tr>\n",
              "    <tr>\n",
              "      <th>2</th>\n",
              "      <td>1804</td>\n",
              "      <td>Жилой комплекс \"Цветочный город\" 7-ой этап стр...</td>\n",
              "      <td>г Ижевск, район Индустриальный</td>\n",
              "      <td>18</td>\n",
              "      <td>2022-12-31</td>\n",
              "      <td>72368</td>\n",
              "      <td>Комфорт</td>\n",
              "      <td>168</td>\n",
              "      <td>8</td>\n",
              "      <td>8</td>\n",
              "      <td>3</td>\n",
              "      <td>0</td>\n",
              "      <td>0</td>\n",
              "      <td>1</td>\n",
              "      <td>1</td>\n",
              "      <td>СПЕЦИАЛИЗИРОВАННЫЙ ЗАСТРОЙЩИК ВОСТОК</td>\n",
              "      <td>2022</td>\n",
              "      <td>12</td>\n",
              "      <td>Saturday</td>\n",
              "    </tr>\n",
              "    <tr>\n",
              "      <th>3</th>\n",
              "      <td>1805</td>\n",
              "      <td>Жилой комплекс \"Цветочный город\" 8-ой этап стр...</td>\n",
              "      <td>г Ижевск, район Индустриальный</td>\n",
              "      <td>18</td>\n",
              "      <td>2024-06-30</td>\n",
              "      <td>62875</td>\n",
              "      <td>Комфорт</td>\n",
              "      <td>168</td>\n",
              "      <td>8</td>\n",
              "      <td>8</td>\n",
              "      <td>3</td>\n",
              "      <td>0</td>\n",
              "      <td>0</td>\n",
              "      <td>1</td>\n",
              "      <td>1</td>\n",
              "      <td>СПЕЦИАЛИЗИРОВАННЫЙ ЗАСТРОЙЩИК ВОСТОК</td>\n",
              "      <td>2024</td>\n",
              "      <td>06</td>\n",
              "      <td>Sunday</td>\n",
              "    </tr>\n",
              "    <tr>\n",
              "      <th>4</th>\n",
              "      <td>1863</td>\n",
              "      <td>Бизнес-центр «Романов»</td>\n",
              "      <td>г Челябинск, район Курчатовский, пр-кт Комсомо...</td>\n",
              "      <td>74</td>\n",
              "      <td>2022-06-30</td>\n",
              "      <td>35389</td>\n",
              "      <td>Бизнес</td>\n",
              "      <td>0</td>\n",
              "      <td>7</td>\n",
              "      <td>6</td>\n",
              "      <td>0</td>\n",
              "      <td>0</td>\n",
              "      <td>0</td>\n",
              "      <td>0</td>\n",
              "      <td>0</td>\n",
              "      <td>МЕРКАДА</td>\n",
              "      <td>2022</td>\n",
              "      <td>06</td>\n",
              "      <td>Thursday</td>\n",
              "    </tr>\n",
              "  </tbody>\n",
              "</table>\n",
              "</div>\n",
              "      <button class=\"colab-df-convert\" onclick=\"convertToInteractive('df-14ff73b9-1427-4fb8-a121-9caa36020afb')\"\n",
              "              title=\"Convert this dataframe to an interactive table.\"\n",
              "              style=\"display:none;\">\n",
              "        \n",
              "  <svg xmlns=\"http://www.w3.org/2000/svg\" height=\"24px\"viewBox=\"0 0 24 24\"\n",
              "       width=\"24px\">\n",
              "    <path d=\"M0 0h24v24H0V0z\" fill=\"none\"/>\n",
              "    <path d=\"M18.56 5.44l.94 2.06.94-2.06 2.06-.94-2.06-.94-.94-2.06-.94 2.06-2.06.94zm-11 1L8.5 8.5l.94-2.06 2.06-.94-2.06-.94L8.5 2.5l-.94 2.06-2.06.94zm10 10l.94 2.06.94-2.06 2.06-.94-2.06-.94-.94-2.06-.94 2.06-2.06.94z\"/><path d=\"M17.41 7.96l-1.37-1.37c-.4-.4-.92-.59-1.43-.59-.52 0-1.04.2-1.43.59L10.3 9.45l-7.72 7.72c-.78.78-.78 2.05 0 2.83L4 21.41c.39.39.9.59 1.41.59.51 0 1.02-.2 1.41-.59l7.78-7.78 2.81-2.81c.8-.78.8-2.07 0-2.86zM5.41 20L4 18.59l7.72-7.72 1.47 1.35L5.41 20z\"/>\n",
              "  </svg>\n",
              "      </button>\n",
              "      \n",
              "  <style>\n",
              "    .colab-df-container {\n",
              "      display:flex;\n",
              "      flex-wrap:wrap;\n",
              "      gap: 12px;\n",
              "    }\n",
              "\n",
              "    .colab-df-convert {\n",
              "      background-color: #E8F0FE;\n",
              "      border: none;\n",
              "      border-radius: 50%;\n",
              "      cursor: pointer;\n",
              "      display: none;\n",
              "      fill: #1967D2;\n",
              "      height: 32px;\n",
              "      padding: 0 0 0 0;\n",
              "      width: 32px;\n",
              "    }\n",
              "\n",
              "    .colab-df-convert:hover {\n",
              "      background-color: #E2EBFA;\n",
              "      box-shadow: 0px 1px 2px rgba(60, 64, 67, 0.3), 0px 1px 3px 1px rgba(60, 64, 67, 0.15);\n",
              "      fill: #174EA6;\n",
              "    }\n",
              "\n",
              "    [theme=dark] .colab-df-convert {\n",
              "      background-color: #3B4455;\n",
              "      fill: #D2E3FC;\n",
              "    }\n",
              "\n",
              "    [theme=dark] .colab-df-convert:hover {\n",
              "      background-color: #434B5C;\n",
              "      box-shadow: 0px 1px 3px 1px rgba(0, 0, 0, 0.15);\n",
              "      filter: drop-shadow(0px 1px 2px rgba(0, 0, 0, 0.3));\n",
              "      fill: #FFFFFF;\n",
              "    }\n",
              "  </style>\n",
              "\n",
              "      <script>\n",
              "        const buttonEl =\n",
              "          document.querySelector('#df-14ff73b9-1427-4fb8-a121-9caa36020afb button.colab-df-convert');\n",
              "        buttonEl.style.display =\n",
              "          google.colab.kernel.accessAllowed ? 'block' : 'none';\n",
              "\n",
              "        async function convertToInteractive(key) {\n",
              "          const element = document.querySelector('#df-14ff73b9-1427-4fb8-a121-9caa36020afb');\n",
              "          const dataTable =\n",
              "            await google.colab.kernel.invokeFunction('convertToInteractive',\n",
              "                                                     [key], {});\n",
              "          if (!dataTable) return;\n",
              "\n",
              "          const docLinkHtml = 'Like what you see? Visit the ' +\n",
              "            '<a target=\"_blank\" href=https://colab.research.google.com/notebooks/data_table.ipynb>data table notebook</a>'\n",
              "            + ' to learn more about interactive tables.';\n",
              "          element.innerHTML = '';\n",
              "          dataTable['output_type'] = 'display_data';\n",
              "          await google.colab.output.renderOutput(dataTable, element);\n",
              "          const docLink = document.createElement('div');\n",
              "          docLink.innerHTML = docLinkHtml;\n",
              "          element.appendChild(docLink);\n",
              "        }\n",
              "      </script>\n",
              "    </div>\n",
              "  </div>\n",
              "  "
            ]
          },
          "metadata": {},
          "execution_count": 27
        }
      ]
    },
    {
      "cell_type": "markdown",
      "source": [
        "## EDA + очистка окончены. Переходим к визуализации"
      ],
      "metadata": {
        "id": "diPQbe9LBnr5"
      }
    },
    {
      "cell_type": "markdown",
      "source": [
        "Справочник с расшифровкой регионов России\n",
        "https://www.consultant.ru/document/cons_doc_LAW_108669/88a12659e7cc781c56303430d98ae6c8a683892a/"
      ],
      "metadata": {
        "id": "qmJkNPRy9vR0"
      }
    },
    {
      "cell_type": "markdown",
      "source": [
        "### Homework 2 "
      ],
      "metadata": {
        "id": "Mr-MjIfzZ2Pt"
      }
    },
    {
      "cell_type": "markdown",
      "source": [
        "**Задание 1**"
      ],
      "metadata": {
        "id": "lGJJeQ-KwUj9"
      }
    },
    {
      "cell_type": "code",
      "source": [
        "# Импортируем библиотеки для визуализации\n",
        "import matplotlib.pyplot as plt\n",
        "from pylab import rcParams"
      ],
      "metadata": {
        "id": "usfRreeH1GCO"
      },
      "execution_count": 28,
      "outputs": []
    },
    {
      "cell_type": "code",
      "source": [
        "# Рассчитать средние цены за квадратный метр по регионам. Важно чтобы пропуски не учитывались при расчете средней цены.\n",
        "# Делаем срез данных, чтобы не повредить основной дата сет\n",
        "df_3_clean = df_2_clean.copy()"
      ],
      "metadata": {
        "id": "LGDzpIWpvrkn"
      },
      "execution_count": 29,
      "outputs": []
    },
    {
      "cell_type": "code",
      "source": [
        "# Оставляем 2 столбца необходимых для аналитики\n",
        "df_3_clean = df_3_clean[['Регион','Стоимость м.кв.']]\n",
        "df_3_clean.head(3)"
      ],
      "metadata": {
        "colab": {
          "base_uri": "https://localhost:8080/",
          "height": 143
        },
        "id": "kfXXdQaR6BC7",
        "outputId": "591eb9fa-375f-4c72-880b-9e1af93bcb72"
      },
      "execution_count": 30,
      "outputs": [
        {
          "output_type": "execute_result",
          "data": {
            "text/plain": [
              "   Регион  Стоимость м.кв.\n",
              "0      62            63806\n",
              "1      77            40330\n",
              "2      18            72368"
            ],
            "text/html": [
              "\n",
              "  <div id=\"df-4abe4980-3427-4807-b44a-272435f6714e\">\n",
              "    <div class=\"colab-df-container\">\n",
              "      <div>\n",
              "<style scoped>\n",
              "    .dataframe tbody tr th:only-of-type {\n",
              "        vertical-align: middle;\n",
              "    }\n",
              "\n",
              "    .dataframe tbody tr th {\n",
              "        vertical-align: top;\n",
              "    }\n",
              "\n",
              "    .dataframe thead th {\n",
              "        text-align: right;\n",
              "    }\n",
              "</style>\n",
              "<table border=\"1\" class=\"dataframe\">\n",
              "  <thead>\n",
              "    <tr style=\"text-align: right;\">\n",
              "      <th></th>\n",
              "      <th>Регион</th>\n",
              "      <th>Стоимость м.кв.</th>\n",
              "    </tr>\n",
              "  </thead>\n",
              "  <tbody>\n",
              "    <tr>\n",
              "      <th>0</th>\n",
              "      <td>62</td>\n",
              "      <td>63806</td>\n",
              "    </tr>\n",
              "    <tr>\n",
              "      <th>1</th>\n",
              "      <td>77</td>\n",
              "      <td>40330</td>\n",
              "    </tr>\n",
              "    <tr>\n",
              "      <th>2</th>\n",
              "      <td>18</td>\n",
              "      <td>72368</td>\n",
              "    </tr>\n",
              "  </tbody>\n",
              "</table>\n",
              "</div>\n",
              "      <button class=\"colab-df-convert\" onclick=\"convertToInteractive('df-4abe4980-3427-4807-b44a-272435f6714e')\"\n",
              "              title=\"Convert this dataframe to an interactive table.\"\n",
              "              style=\"display:none;\">\n",
              "        \n",
              "  <svg xmlns=\"http://www.w3.org/2000/svg\" height=\"24px\"viewBox=\"0 0 24 24\"\n",
              "       width=\"24px\">\n",
              "    <path d=\"M0 0h24v24H0V0z\" fill=\"none\"/>\n",
              "    <path d=\"M18.56 5.44l.94 2.06.94-2.06 2.06-.94-2.06-.94-.94-2.06-.94 2.06-2.06.94zm-11 1L8.5 8.5l.94-2.06 2.06-.94-2.06-.94L8.5 2.5l-.94 2.06-2.06.94zm10 10l.94 2.06.94-2.06 2.06-.94-2.06-.94-.94-2.06-.94 2.06-2.06.94z\"/><path d=\"M17.41 7.96l-1.37-1.37c-.4-.4-.92-.59-1.43-.59-.52 0-1.04.2-1.43.59L10.3 9.45l-7.72 7.72c-.78.78-.78 2.05 0 2.83L4 21.41c.39.39.9.59 1.41.59.51 0 1.02-.2 1.41-.59l7.78-7.78 2.81-2.81c.8-.78.8-2.07 0-2.86zM5.41 20L4 18.59l7.72-7.72 1.47 1.35L5.41 20z\"/>\n",
              "  </svg>\n",
              "      </button>\n",
              "      \n",
              "  <style>\n",
              "    .colab-df-container {\n",
              "      display:flex;\n",
              "      flex-wrap:wrap;\n",
              "      gap: 12px;\n",
              "    }\n",
              "\n",
              "    .colab-df-convert {\n",
              "      background-color: #E8F0FE;\n",
              "      border: none;\n",
              "      border-radius: 50%;\n",
              "      cursor: pointer;\n",
              "      display: none;\n",
              "      fill: #1967D2;\n",
              "      height: 32px;\n",
              "      padding: 0 0 0 0;\n",
              "      width: 32px;\n",
              "    }\n",
              "\n",
              "    .colab-df-convert:hover {\n",
              "      background-color: #E2EBFA;\n",
              "      box-shadow: 0px 1px 2px rgba(60, 64, 67, 0.3), 0px 1px 3px 1px rgba(60, 64, 67, 0.15);\n",
              "      fill: #174EA6;\n",
              "    }\n",
              "\n",
              "    [theme=dark] .colab-df-convert {\n",
              "      background-color: #3B4455;\n",
              "      fill: #D2E3FC;\n",
              "    }\n",
              "\n",
              "    [theme=dark] .colab-df-convert:hover {\n",
              "      background-color: #434B5C;\n",
              "      box-shadow: 0px 1px 3px 1px rgba(0, 0, 0, 0.15);\n",
              "      filter: drop-shadow(0px 1px 2px rgba(0, 0, 0, 0.3));\n",
              "      fill: #FFFFFF;\n",
              "    }\n",
              "  </style>\n",
              "\n",
              "      <script>\n",
              "        const buttonEl =\n",
              "          document.querySelector('#df-4abe4980-3427-4807-b44a-272435f6714e button.colab-df-convert');\n",
              "        buttonEl.style.display =\n",
              "          google.colab.kernel.accessAllowed ? 'block' : 'none';\n",
              "\n",
              "        async function convertToInteractive(key) {\n",
              "          const element = document.querySelector('#df-4abe4980-3427-4807-b44a-272435f6714e');\n",
              "          const dataTable =\n",
              "            await google.colab.kernel.invokeFunction('convertToInteractive',\n",
              "                                                     [key], {});\n",
              "          if (!dataTable) return;\n",
              "\n",
              "          const docLinkHtml = 'Like what you see? Visit the ' +\n",
              "            '<a target=\"_blank\" href=https://colab.research.google.com/notebooks/data_table.ipynb>data table notebook</a>'\n",
              "            + ' to learn more about interactive tables.';\n",
              "          element.innerHTML = '';\n",
              "          dataTable['output_type'] = 'display_data';\n",
              "          await google.colab.output.renderOutput(dataTable, element);\n",
              "          const docLink = document.createElement('div');\n",
              "          docLink.innerHTML = docLinkHtml;\n",
              "          element.appendChild(docLink);\n",
              "        }\n",
              "      </script>\n",
              "    </div>\n",
              "  </div>\n",
              "  "
            ]
          },
          "metadata": {},
          "execution_count": 30
        }
      ]
    },
    {
      "cell_type": "code",
      "source": [
        "# Делаем группировку стоимости по регионам + считаем среднее для каждого региона\n",
        "df_mean = df_3_clean.groupby('Регион')['Стоимость м.кв.'].mean().reset_index()\n",
        "df_mean.head(3)"
      ],
      "metadata": {
        "colab": {
          "base_uri": "https://localhost:8080/",
          "height": 143
        },
        "id": "5YHbdKpqyy_p",
        "outputId": "c3500cfa-123a-47f0-a2f7-72c0da53143d"
      },
      "execution_count": 31,
      "outputs": [
        {
          "output_type": "execute_result",
          "data": {
            "text/plain": [
              "   Регион  Стоимость м.кв.\n",
              "0       1         65906.76\n",
              "1       2     94689.333333\n",
              "2       3     46826.090909"
            ],
            "text/html": [
              "\n",
              "  <div id=\"df-566563ab-3e02-4ae6-b5f4-91a963f203d4\">\n",
              "    <div class=\"colab-df-container\">\n",
              "      <div>\n",
              "<style scoped>\n",
              "    .dataframe tbody tr th:only-of-type {\n",
              "        vertical-align: middle;\n",
              "    }\n",
              "\n",
              "    .dataframe tbody tr th {\n",
              "        vertical-align: top;\n",
              "    }\n",
              "\n",
              "    .dataframe thead th {\n",
              "        text-align: right;\n",
              "    }\n",
              "</style>\n",
              "<table border=\"1\" class=\"dataframe\">\n",
              "  <thead>\n",
              "    <tr style=\"text-align: right;\">\n",
              "      <th></th>\n",
              "      <th>Регион</th>\n",
              "      <th>Стоимость м.кв.</th>\n",
              "    </tr>\n",
              "  </thead>\n",
              "  <tbody>\n",
              "    <tr>\n",
              "      <th>0</th>\n",
              "      <td>1</td>\n",
              "      <td>65906.76</td>\n",
              "    </tr>\n",
              "    <tr>\n",
              "      <th>1</th>\n",
              "      <td>2</td>\n",
              "      <td>94689.333333</td>\n",
              "    </tr>\n",
              "    <tr>\n",
              "      <th>2</th>\n",
              "      <td>3</td>\n",
              "      <td>46826.090909</td>\n",
              "    </tr>\n",
              "  </tbody>\n",
              "</table>\n",
              "</div>\n",
              "      <button class=\"colab-df-convert\" onclick=\"convertToInteractive('df-566563ab-3e02-4ae6-b5f4-91a963f203d4')\"\n",
              "              title=\"Convert this dataframe to an interactive table.\"\n",
              "              style=\"display:none;\">\n",
              "        \n",
              "  <svg xmlns=\"http://www.w3.org/2000/svg\" height=\"24px\"viewBox=\"0 0 24 24\"\n",
              "       width=\"24px\">\n",
              "    <path d=\"M0 0h24v24H0V0z\" fill=\"none\"/>\n",
              "    <path d=\"M18.56 5.44l.94 2.06.94-2.06 2.06-.94-2.06-.94-.94-2.06-.94 2.06-2.06.94zm-11 1L8.5 8.5l.94-2.06 2.06-.94-2.06-.94L8.5 2.5l-.94 2.06-2.06.94zm10 10l.94 2.06.94-2.06 2.06-.94-2.06-.94-.94-2.06-.94 2.06-2.06.94z\"/><path d=\"M17.41 7.96l-1.37-1.37c-.4-.4-.92-.59-1.43-.59-.52 0-1.04.2-1.43.59L10.3 9.45l-7.72 7.72c-.78.78-.78 2.05 0 2.83L4 21.41c.39.39.9.59 1.41.59.51 0 1.02-.2 1.41-.59l7.78-7.78 2.81-2.81c.8-.78.8-2.07 0-2.86zM5.41 20L4 18.59l7.72-7.72 1.47 1.35L5.41 20z\"/>\n",
              "  </svg>\n",
              "      </button>\n",
              "      \n",
              "  <style>\n",
              "    .colab-df-container {\n",
              "      display:flex;\n",
              "      flex-wrap:wrap;\n",
              "      gap: 12px;\n",
              "    }\n",
              "\n",
              "    .colab-df-convert {\n",
              "      background-color: #E8F0FE;\n",
              "      border: none;\n",
              "      border-radius: 50%;\n",
              "      cursor: pointer;\n",
              "      display: none;\n",
              "      fill: #1967D2;\n",
              "      height: 32px;\n",
              "      padding: 0 0 0 0;\n",
              "      width: 32px;\n",
              "    }\n",
              "\n",
              "    .colab-df-convert:hover {\n",
              "      background-color: #E2EBFA;\n",
              "      box-shadow: 0px 1px 2px rgba(60, 64, 67, 0.3), 0px 1px 3px 1px rgba(60, 64, 67, 0.15);\n",
              "      fill: #174EA6;\n",
              "    }\n",
              "\n",
              "    [theme=dark] .colab-df-convert {\n",
              "      background-color: #3B4455;\n",
              "      fill: #D2E3FC;\n",
              "    }\n",
              "\n",
              "    [theme=dark] .colab-df-convert:hover {\n",
              "      background-color: #434B5C;\n",
              "      box-shadow: 0px 1px 3px 1px rgba(0, 0, 0, 0.15);\n",
              "      filter: drop-shadow(0px 1px 2px rgba(0, 0, 0, 0.3));\n",
              "      fill: #FFFFFF;\n",
              "    }\n",
              "  </style>\n",
              "\n",
              "      <script>\n",
              "        const buttonEl =\n",
              "          document.querySelector('#df-566563ab-3e02-4ae6-b5f4-91a963f203d4 button.colab-df-convert');\n",
              "        buttonEl.style.display =\n",
              "          google.colab.kernel.accessAllowed ? 'block' : 'none';\n",
              "\n",
              "        async function convertToInteractive(key) {\n",
              "          const element = document.querySelector('#df-566563ab-3e02-4ae6-b5f4-91a963f203d4');\n",
              "          const dataTable =\n",
              "            await google.colab.kernel.invokeFunction('convertToInteractive',\n",
              "                                                     [key], {});\n",
              "          if (!dataTable) return;\n",
              "\n",
              "          const docLinkHtml = 'Like what you see? Visit the ' +\n",
              "            '<a target=\"_blank\" href=https://colab.research.google.com/notebooks/data_table.ipynb>data table notebook</a>'\n",
              "            + ' to learn more about interactive tables.';\n",
              "          element.innerHTML = '';\n",
              "          dataTable['output_type'] = 'display_data';\n",
              "          await google.colab.output.renderOutput(dataTable, element);\n",
              "          const docLink = document.createElement('div');\n",
              "          docLink.innerHTML = docLinkHtml;\n",
              "          element.appendChild(docLink);\n",
              "        }\n",
              "      </script>\n",
              "    </div>\n",
              "  </div>\n",
              "  "
            ]
          },
          "metadata": {},
          "execution_count": 31
        }
      ]
    },
    {
      "cell_type": "code",
      "source": [
        "# Строим график\n",
        "rcParams['figure.figsize'] = 10,30\n",
        "df_mean.sort_values(by = 'Стоимость м.кв.', ascending=True).plot(kind='barh')\n",
        "plt.show()"
      ],
      "metadata": {
        "colab": {
          "base_uri": "https://localhost:8080/",
          "height": 1000
        },
        "id": "ZENxFuOp1GGr",
        "outputId": "ee5d3482-44e6-49a6-975d-f00bfddb920e"
      },
      "execution_count": 32,
      "outputs": [
        {
          "output_type": "display_data",
          "data": {
            "text/plain": [
              "<Figure size 720x2160 with 1 Axes>"
            ],
            "image/png": "[encoded data removed]"
          },
          "metadata": {
            "needs_background": "light"
          }
        }
      ]
    },
    {
      "cell_type": "markdown",
      "source": [
        "## **Вывод:** \n",
        "1. 68 регион (Тамбовская область) - потенциально может быть выбросом (слишком большая разница с предшественником)\n",
        "2. 69 регион (Тверская область) - согласно данным имеет самую высокую стоимость метра квадратного в новостройке\n",
        "3. 42 регион (Кемеровская область) - согласно данным имеет самую низкую стоимость метра квадратного в новостройке\n",
        "4. Кажется странным полученный выше результат. Возможно наш.дом.рф использует какой то свой справочник кодов регионов, который мапится с общедоступным."
      ],
      "metadata": {
        "id": "jGActBtzvr4s"
      }
    },
    {
      "cell_type": "markdown",
      "source": [
        "**Задание 2**"
      ],
      "metadata": {
        "id": "cFWOfIdYwYRz"
      }
    },
    {
      "cell_type": "code",
      "source": [
        "# Рассчитать объемы вводимого жилья по регионам \n",
        "# Делаем срез данных, чтобы не повредить основной дата сет\n",
        "df_4_clean = df_2_clean.copy()"
      ],
      "metadata": {
        "id": "rJIPbeT_vGIJ"
      },
      "execution_count": 33,
      "outputs": []
    },
    {
      "cell_type": "code",
      "source": [
        "# Оставляем 2 столбца необходимых для аналитики\n",
        "df_4_clean = df_4_clean[['Регион','id']]\n",
        "df_4_clean.head(3)"
      ],
      "metadata": {
        "colab": {
          "base_uri": "https://localhost:8080/",
          "height": 143
        },
        "id": "O4WEg2orYK2T",
        "outputId": "8195d96c-2e32-400c-9ef4-6d1051cde990"
      },
      "execution_count": 34,
      "outputs": [
        {
          "output_type": "execute_result",
          "data": {
            "text/plain": [
              "   Регион    id\n",
              "0      62  1259\n",
              "1      77  1284\n",
              "2      18  1804"
            ],
            "text/html": [
              "\n",
              "  <div id=\"df-1640c1cc-6219-4220-b916-325886bcccb1\">\n",
              "    <div class=\"colab-df-container\">\n",
              "      <div>\n",
              "<style scoped>\n",
              "    .dataframe tbody tr th:only-of-type {\n",
              "        vertical-align: middle;\n",
              "    }\n",
              "\n",
              "    .dataframe tbody tr th {\n",
              "        vertical-align: top;\n",
              "    }\n",
              "\n",
              "    .dataframe thead th {\n",
              "        text-align: right;\n",
              "    }\n",
              "</style>\n",
              "<table border=\"1\" class=\"dataframe\">\n",
              "  <thead>\n",
              "    <tr style=\"text-align: right;\">\n",
              "      <th></th>\n",
              "      <th>Регион</th>\n",
              "      <th>id</th>\n",
              "    </tr>\n",
              "  </thead>\n",
              "  <tbody>\n",
              "    <tr>\n",
              "      <th>0</th>\n",
              "      <td>62</td>\n",
              "      <td>1259</td>\n",
              "    </tr>\n",
              "    <tr>\n",
              "      <th>1</th>\n",
              "      <td>77</td>\n",
              "      <td>1284</td>\n",
              "    </tr>\n",
              "    <tr>\n",
              "      <th>2</th>\n",
              "      <td>18</td>\n",
              "      <td>1804</td>\n",
              "    </tr>\n",
              "  </tbody>\n",
              "</table>\n",
              "</div>\n",
              "      <button class=\"colab-df-convert\" onclick=\"convertToInteractive('df-1640c1cc-6219-4220-b916-325886bcccb1')\"\n",
              "              title=\"Convert this dataframe to an interactive table.\"\n",
              "              style=\"display:none;\">\n",
              "        \n",
              "  <svg xmlns=\"http://www.w3.org/2000/svg\" height=\"24px\"viewBox=\"0 0 24 24\"\n",
              "       width=\"24px\">\n",
              "    <path d=\"M0 0h24v24H0V0z\" fill=\"none\"/>\n",
              "    <path d=\"M18.56 5.44l.94 2.06.94-2.06 2.06-.94-2.06-.94-.94-2.06-.94 2.06-2.06.94zm-11 1L8.5 8.5l.94-2.06 2.06-.94-2.06-.94L8.5 2.5l-.94 2.06-2.06.94zm10 10l.94 2.06.94-2.06 2.06-.94-2.06-.94-.94-2.06-.94 2.06-2.06.94z\"/><path d=\"M17.41 7.96l-1.37-1.37c-.4-.4-.92-.59-1.43-.59-.52 0-1.04.2-1.43.59L10.3 9.45l-7.72 7.72c-.78.78-.78 2.05 0 2.83L4 21.41c.39.39.9.59 1.41.59.51 0 1.02-.2 1.41-.59l7.78-7.78 2.81-2.81c.8-.78.8-2.07 0-2.86zM5.41 20L4 18.59l7.72-7.72 1.47 1.35L5.41 20z\"/>\n",
              "  </svg>\n",
              "      </button>\n",
              "      \n",
              "  <style>\n",
              "    .colab-df-container {\n",
              "      display:flex;\n",
              "      flex-wrap:wrap;\n",
              "      gap: 12px;\n",
              "    }\n",
              "\n",
              "    .colab-df-convert {\n",
              "      background-color: #E8F0FE;\n",
              "      border: none;\n",
              "      border-radius: 50%;\n",
              "      cursor: pointer;\n",
              "      display: none;\n",
              "      fill: #1967D2;\n",
              "      height: 32px;\n",
              "      padding: 0 0 0 0;\n",
              "      width: 32px;\n",
              "    }\n",
              "\n",
              "    .colab-df-convert:hover {\n",
              "      background-color: #E2EBFA;\n",
              "      box-shadow: 0px 1px 2px rgba(60, 64, 67, 0.3), 0px 1px 3px 1px rgba(60, 64, 67, 0.15);\n",
              "      fill: #174EA6;\n",
              "    }\n",
              "\n",
              "    [theme=dark] .colab-df-convert {\n",
              "      background-color: #3B4455;\n",
              "      fill: #D2E3FC;\n",
              "    }\n",
              "\n",
              "    [theme=dark] .colab-df-convert:hover {\n",
              "      background-color: #434B5C;\n",
              "      box-shadow: 0px 1px 3px 1px rgba(0, 0, 0, 0.15);\n",
              "      filter: drop-shadow(0px 1px 2px rgba(0, 0, 0, 0.3));\n",
              "      fill: #FFFFFF;\n",
              "    }\n",
              "  </style>\n",
              "\n",
              "      <script>\n",
              "        const buttonEl =\n",
              "          document.querySelector('#df-1640c1cc-6219-4220-b916-325886bcccb1 button.colab-df-convert');\n",
              "        buttonEl.style.display =\n",
              "          google.colab.kernel.accessAllowed ? 'block' : 'none';\n",
              "\n",
              "        async function convertToInteractive(key) {\n",
              "          const element = document.querySelector('#df-1640c1cc-6219-4220-b916-325886bcccb1');\n",
              "          const dataTable =\n",
              "            await google.colab.kernel.invokeFunction('convertToInteractive',\n",
              "                                                     [key], {});\n",
              "          if (!dataTable) return;\n",
              "\n",
              "          const docLinkHtml = 'Like what you see? Visit the ' +\n",
              "            '<a target=\"_blank\" href=https://colab.research.google.com/notebooks/data_table.ipynb>data table notebook</a>'\n",
              "            + ' to learn more about interactive tables.';\n",
              "          element.innerHTML = '';\n",
              "          dataTable['output_type'] = 'display_data';\n",
              "          await google.colab.output.renderOutput(dataTable, element);\n",
              "          const docLink = document.createElement('div');\n",
              "          docLink.innerHTML = docLinkHtml;\n",
              "          element.appendChild(docLink);\n",
              "        }\n",
              "      </script>\n",
              "    </div>\n",
              "  </div>\n",
              "  "
            ]
          },
          "metadata": {},
          "execution_count": 34
        }
      ]
    },
    {
      "cell_type": "code",
      "source": [
        "# Делаем агрегат для визуализации\n",
        "df_houses = df_4_clean.groupby('Регион')['id'].count().sort_values(ascending=True)\n",
        "df_houses.head()"
      ],
      "metadata": {
        "colab": {
          "base_uri": "https://localhost:8080/"
        },
        "id": "UgyYoL4taOCB",
        "outputId": "15a787f2-c637-4cbc-fb6a-508b71e12684"
      },
      "execution_count": 35,
      "outputs": [
        {
          "output_type": "execute_result",
          "data": {
            "text/plain": [
              "Регион\n",
              "68    1\n",
              "13    1\n",
              "51    1\n",
              "75    2\n",
              "17    2\n",
              "Name: id, dtype: int64"
            ]
          },
          "metadata": {},
          "execution_count": 35
        }
      ]
    },
    {
      "cell_type": "code",
      "source": [
        "# Визуализируем\n",
        "rcParams['figure.figsize'] = 10,30\n",
        "df_houses.plot(kind='barh')\n",
        "plt.show()"
      ],
      "metadata": {
        "colab": {
          "base_uri": "https://localhost:8080/",
          "height": 1000
        },
        "id": "O3IQlxk6YK-g",
        "outputId": "4edaa8bb-3faf-408a-89e7-f6cd3808eb7a"
      },
      "execution_count": 36,
      "outputs": [
        {
          "output_type": "display_data",
          "data": {
            "text/plain": [
              "<Figure size 720x2160 with 1 Axes>"
            ],
            "image/png": "[encoded data removed]"
          },
          "metadata": {
            "needs_background": "light"
          }
        }
      ]
    },
    {
      "cell_type": "markdown",
      "source": [
        "**Вывод:**\n",
        "1. Больше всего вводится жилья за исследуемый период в 23 регионе (Краснодарский край)\n",
        "2. Меньше всего жилья вводится за исследуемый период в 68 регионе (Тамбовская область)\n",
        "\n",
        "Пик и пинимум строющихся новостроек сосредоточен в южной части страны"
      ],
      "metadata": {
        "id": "yKucCreHvz60"
      }
    },
    {
      "cell_type": "markdown",
      "source": [
        "**Задание 3**"
      ],
      "metadata": {
        "id": "L1R1kSmqwbEs"
      }
    },
    {
      "cell_type": "code",
      "source": [
        "# Рассчитать объемы вводимого жилья по регионам по годам.\n",
        "# Делаем срез данных, чтобы не повредить основной дата сет\n",
        "df_5_clean = df_2_clean.copy()"
      ],
      "metadata": {
        "id": "G8c3UQxHvGLR"
      },
      "execution_count": 37,
      "outputs": []
    },
    {
      "cell_type": "code",
      "source": [
        "df_5_clean.head(3)"
      ],
      "metadata": {
        "colab": {
          "base_uri": "https://localhost:8080/",
          "height": 344
        },
        "id": "Uo1_s7OjbDqw",
        "outputId": "6c1458e4-2bac-403f-8d7a-733cd49c4c06"
      },
      "execution_count": 38,
      "outputs": [
        {
          "output_type": "execute_result",
          "data": {
            "text/plain": [
              "     id                                   Название обьекта  \\\n",
              "0  1259                           \"СМАРТ дом на Новоселов\"   \n",
              "1  1284  Жилой Комплекс \"Мир Митино\" (сокращенное наиме...   \n",
              "2  1804  Жилой комплекс \"Цветочный город\" 7-ой этап стр...   \n",
              "\n",
              "                                               Адрес  Регион Срок сдачи  \\\n",
              "0                     г Рязань, улица Бугровка, д. 0      62 2023-12-31   \n",
              "1  г Москва, район внутригородское муниципальное ...      77 2024-12-31   \n",
              "2                     г Ижевск, район Индустриальный      18 2022-12-31   \n",
              "\n",
              "   Стоимость м.кв. Класс жилья  Кол-во квартир  Максимум этажей  \\\n",
              "0            63806     Типовой             440               27   \n",
              "1            40330     Типовой            1115               27   \n",
              "2            72368     Комфорт             168                8   \n",
              "\n",
              "   Минимум этажей  Грузоподъемность лифтов  Парковочные места  \\\n",
              "0              27                        4                  0   \n",
              "1              27                       14                  0   \n",
              "2               8                        3                  0   \n",
              "\n",
              "   Наличие велодорожки  Детские площадки  Спортивные площадки  \\\n",
              "0                    0                 1                    0   \n",
              "1                    0                 1                    2   \n",
              "2                    0                 1                    1   \n",
              "\n",
              "                             Застройщик Год сдачи Месяц сдачи  \\\n",
              "0                              КРИСТАЛЛ      2023          12   \n",
              "1                           РОЖДЕСТВЕНО      2024          12   \n",
              "2  СПЕЦИАЛИЗИРОВАННЫЙ ЗАСТРОЙЩИК ВОСТОК      2022          12   \n",
              "\n",
              "  День недели сдачи  \n",
              "0            Sunday  \n",
              "1           Tuesday  \n",
              "2          Saturday  "
            ],
            "text/html": [
              "\n",
              "  <div id=\"df-c3c9ab1b-0c4e-4cb7-a626-a10127dee53f\">\n",
              "    <div class=\"colab-df-container\">\n",
              "      <div>\n",
              "<style scoped>\n",
              "    .dataframe tbody tr th:only-of-type {\n",
              "        vertical-align: middle;\n",
              "    }\n",
              "\n",
              "    .dataframe tbody tr th {\n",
              "        vertical-align: top;\n",
              "    }\n",
              "\n",
              "    .dataframe thead th {\n",
              "        text-align: right;\n",
              "    }\n",
              "</style>\n",
              "<table border=\"1\" class=\"dataframe\">\n",
              "  <thead>\n",
              "    <tr style=\"text-align: right;\">\n",
              "      <th></th>\n",
              "      <th>id</th>\n",
              "      <th>Название обьекта</th>\n",
              "      <th>Адрес</th>\n",
              "      <th>Регион</th>\n",
              "      <th>Срок сдачи</th>\n",
              "      <th>Стоимость м.кв.</th>\n",
              "      <th>Класс жилья</th>\n",
              "      <th>Кол-во квартир</th>\n",
              "      <th>Максимум этажей</th>\n",
              "      <th>Минимум этажей</th>\n",
              "      <th>Грузоподъемность лифтов</th>\n",
              "      <th>Парковочные места</th>\n",
              "      <th>Наличие велодорожки</th>\n",
              "      <th>Детские площадки</th>\n",
              "      <th>Спортивные площадки</th>\n",
              "      <th>Застройщик</th>\n",
              "      <th>Год сдачи</th>\n",
              "      <th>Месяц сдачи</th>\n",
              "      <th>День недели сдачи</th>\n",
              "    </tr>\n",
              "  </thead>\n",
              "  <tbody>\n",
              "    <tr>\n",
              "      <th>0</th>\n",
              "      <td>1259</td>\n",
              "      <td>\"СМАРТ дом на Новоселов\"</td>\n",
              "      <td>г Рязань, улица Бугровка, д. 0</td>\n",
              "      <td>62</td>\n",
              "      <td>2023-12-31</td>\n",
              "      <td>63806</td>\n",
              "      <td>Типовой</td>\n",
              "      <td>440</td>\n",
              "      <td>27</td>\n",
              "      <td>27</td>\n",
              "      <td>4</td>\n",
              "      <td>0</td>\n",
              "      <td>0</td>\n",
              "      <td>1</td>\n",
              "      <td>0</td>\n",
              "      <td>КРИСТАЛЛ</td>\n",
              "      <td>2023</td>\n",
              "      <td>12</td>\n",
              "      <td>Sunday</td>\n",
              "    </tr>\n",
              "    <tr>\n",
              "      <th>1</th>\n",
              "      <td>1284</td>\n",
              "      <td>Жилой Комплекс \"Мир Митино\" (сокращенное наиме...</td>\n",
              "      <td>г Москва, район внутригородское муниципальное ...</td>\n",
              "      <td>77</td>\n",
              "      <td>2024-12-31</td>\n",
              "      <td>40330</td>\n",
              "      <td>Типовой</td>\n",
              "      <td>1115</td>\n",
              "      <td>27</td>\n",
              "      <td>27</td>\n",
              "      <td>14</td>\n",
              "      <td>0</td>\n",
              "      <td>0</td>\n",
              "      <td>1</td>\n",
              "      <td>2</td>\n",
              "      <td>РОЖДЕСТВЕНО</td>\n",
              "      <td>2024</td>\n",
              "      <td>12</td>\n",
              "      <td>Tuesday</td>\n",
              "    </tr>\n",
              "    <tr>\n",
              "      <th>2</th>\n",
              "      <td>1804</td>\n",
              "      <td>Жилой комплекс \"Цветочный город\" 7-ой этап стр...</td>\n",
              "      <td>г Ижевск, район Индустриальный</td>\n",
              "      <td>18</td>\n",
              "      <td>2022-12-31</td>\n",
              "      <td>72368</td>\n",
              "      <td>Комфорт</td>\n",
              "      <td>168</td>\n",
              "      <td>8</td>\n",
              "      <td>8</td>\n",
              "      <td>3</td>\n",
              "      <td>0</td>\n",
              "      <td>0</td>\n",
              "      <td>1</td>\n",
              "      <td>1</td>\n",
              "      <td>СПЕЦИАЛИЗИРОВАННЫЙ ЗАСТРОЙЩИК ВОСТОК</td>\n",
              "      <td>2022</td>\n",
              "      <td>12</td>\n",
              "      <td>Saturday</td>\n",
              "    </tr>\n",
              "  </tbody>\n",
              "</table>\n",
              "</div>\n",
              "      <button class=\"colab-df-convert\" onclick=\"convertToInteractive('df-c3c9ab1b-0c4e-4cb7-a626-a10127dee53f')\"\n",
              "              title=\"Convert this dataframe to an interactive table.\"\n",
              "              style=\"display:none;\">\n",
              "        \n",
              "  <svg xmlns=\"http://www.w3.org/2000/svg\" height=\"24px\"viewBox=\"0 0 24 24\"\n",
              "       width=\"24px\">\n",
              "    <path d=\"M0 0h24v24H0V0z\" fill=\"none\"/>\n",
              "    <path d=\"M18.56 5.44l.94 2.06.94-2.06 2.06-.94-2.06-.94-.94-2.06-.94 2.06-2.06.94zm-11 1L8.5 8.5l.94-2.06 2.06-.94-2.06-.94L8.5 2.5l-.94 2.06-2.06.94zm10 10l.94 2.06.94-2.06 2.06-.94-2.06-.94-.94-2.06-.94 2.06-2.06.94z\"/><path d=\"M17.41 7.96l-1.37-1.37c-.4-.4-.92-.59-1.43-.59-.52 0-1.04.2-1.43.59L10.3 9.45l-7.72 7.72c-.78.78-.78 2.05 0 2.83L4 21.41c.39.39.9.59 1.41.59.51 0 1.02-.2 1.41-.59l7.78-7.78 2.81-2.81c.8-.78.8-2.07 0-2.86zM5.41 20L4 18.59l7.72-7.72 1.47 1.35L5.41 20z\"/>\n",
              "  </svg>\n",
              "      </button>\n",
              "      \n",
              "  <style>\n",
              "    .colab-df-container {\n",
              "      display:flex;\n",
              "      flex-wrap:wrap;\n",
              "      gap: 12px;\n",
              "    }\n",
              "\n",
              "    .colab-df-convert {\n",
              "      background-color: #E8F0FE;\n",
              "      border: none;\n",
              "      border-radius: 50%;\n",
              "      cursor: pointer;\n",
              "      display: none;\n",
              "      fill: #1967D2;\n",
              "      height: 32px;\n",
              "      padding: 0 0 0 0;\n",
              "      width: 32px;\n",
              "    }\n",
              "\n",
              "    .colab-df-convert:hover {\n",
              "      background-color: #E2EBFA;\n",
              "      box-shadow: 0px 1px 2px rgba(60, 64, 67, 0.3), 0px 1px 3px 1px rgba(60, 64, 67, 0.15);\n",
              "      fill: #174EA6;\n",
              "    }\n",
              "\n",
              "    [theme=dark] .colab-df-convert {\n",
              "      background-color: #3B4455;\n",
              "      fill: #D2E3FC;\n",
              "    }\n",
              "\n",
              "    [theme=dark] .colab-df-convert:hover {\n",
              "      background-color: #434B5C;\n",
              "      box-shadow: 0px 1px 3px 1px rgba(0, 0, 0, 0.15);\n",
              "      filter: drop-shadow(0px 1px 2px rgba(0, 0, 0, 0.3));\n",
              "      fill: #FFFFFF;\n",
              "    }\n",
              "  </style>\n",
              "\n",
              "      <script>\n",
              "        const buttonEl =\n",
              "          document.querySelector('#df-c3c9ab1b-0c4e-4cb7-a626-a10127dee53f button.colab-df-convert');\n",
              "        buttonEl.style.display =\n",
              "          google.colab.kernel.accessAllowed ? 'block' : 'none';\n",
              "\n",
              "        async function convertToInteractive(key) {\n",
              "          const element = document.querySelector('#df-c3c9ab1b-0c4e-4cb7-a626-a10127dee53f');\n",
              "          const dataTable =\n",
              "            await google.colab.kernel.invokeFunction('convertToInteractive',\n",
              "                                                     [key], {});\n",
              "          if (!dataTable) return;\n",
              "\n",
              "          const docLinkHtml = 'Like what you see? Visit the ' +\n",
              "            '<a target=\"_blank\" href=https://colab.research.google.com/notebooks/data_table.ipynb>data table notebook</a>'\n",
              "            + ' to learn more about interactive tables.';\n",
              "          element.innerHTML = '';\n",
              "          dataTable['output_type'] = 'display_data';\n",
              "          await google.colab.output.renderOutput(dataTable, element);\n",
              "          const docLink = document.createElement('div');\n",
              "          docLink.innerHTML = docLinkHtml;\n",
              "          element.appendChild(docLink);\n",
              "        }\n",
              "      </script>\n",
              "    </div>\n",
              "  </div>\n",
              "  "
            ]
          },
          "metadata": {},
          "execution_count": 38
        }
      ]
    },
    {
      "cell_type": "code",
      "source": [
        "# Делаем агрегат\n",
        "df_region_year = df_5_clean.groupby(['Регион', 'Год сдачи'])[['id']].count()\n",
        "df_region_year.head(10)"
      ],
      "metadata": {
        "colab": {
          "base_uri": "https://localhost:8080/",
          "height": 394
        },
        "id": "mFRIpNlrbDtp",
        "outputId": "aad73644-26d8-4905-80aa-1f1713f97479"
      },
      "execution_count": 39,
      "outputs": [
        {
          "output_type": "execute_result",
          "data": {
            "text/plain": [
              "                  id\n",
              "Регион Год сдачи    \n",
              "1      2022        2\n",
              "       2023       16\n",
              "       2024        7\n",
              "2      2022        4\n",
              "       2023       10\n",
              "       2024       10\n",
              "       2025        3\n",
              "3      2022        5\n",
              "       2023        6\n",
              "5      2023        2"
            ],
            "text/html": [
              "\n",
              "  <div id=\"df-2a2bb304-1328-4927-843a-11bc8840d6e1\">\n",
              "    <div class=\"colab-df-container\">\n",
              "      <div>\n",
              "<style scoped>\n",
              "    .dataframe tbody tr th:only-of-type {\n",
              "        vertical-align: middle;\n",
              "    }\n",
              "\n",
              "    .dataframe tbody tr th {\n",
              "        vertical-align: top;\n",
              "    }\n",
              "\n",
              "    .dataframe thead th {\n",
              "        text-align: right;\n",
              "    }\n",
              "</style>\n",
              "<table border=\"1\" class=\"dataframe\">\n",
              "  <thead>\n",
              "    <tr style=\"text-align: right;\">\n",
              "      <th></th>\n",
              "      <th></th>\n",
              "      <th>id</th>\n",
              "    </tr>\n",
              "    <tr>\n",
              "      <th>Регион</th>\n",
              "      <th>Год сдачи</th>\n",
              "      <th></th>\n",
              "    </tr>\n",
              "  </thead>\n",
              "  <tbody>\n",
              "    <tr>\n",
              "      <th rowspan=\"3\" valign=\"top\">1</th>\n",
              "      <th>2022</th>\n",
              "      <td>2</td>\n",
              "    </tr>\n",
              "    <tr>\n",
              "      <th>2023</th>\n",
              "      <td>16</td>\n",
              "    </tr>\n",
              "    <tr>\n",
              "      <th>2024</th>\n",
              "      <td>7</td>\n",
              "    </tr>\n",
              "    <tr>\n",
              "      <th rowspan=\"4\" valign=\"top\">2</th>\n",
              "      <th>2022</th>\n",
              "      <td>4</td>\n",
              "    </tr>\n",
              "    <tr>\n",
              "      <th>2023</th>\n",
              "      <td>10</td>\n",
              "    </tr>\n",
              "    <tr>\n",
              "      <th>2024</th>\n",
              "      <td>10</td>\n",
              "    </tr>\n",
              "    <tr>\n",
              "      <th>2025</th>\n",
              "      <td>3</td>\n",
              "    </tr>\n",
              "    <tr>\n",
              "      <th rowspan=\"2\" valign=\"top\">3</th>\n",
              "      <th>2022</th>\n",
              "      <td>5</td>\n",
              "    </tr>\n",
              "    <tr>\n",
              "      <th>2023</th>\n",
              "      <td>6</td>\n",
              "    </tr>\n",
              "    <tr>\n",
              "      <th>5</th>\n",
              "      <th>2023</th>\n",
              "      <td>2</td>\n",
              "    </tr>\n",
              "  </tbody>\n",
              "</table>\n",
              "</div>\n",
              "      <button class=\"colab-df-convert\" onclick=\"convertToInteractive('df-2a2bb304-1328-4927-843a-11bc8840d6e1')\"\n",
              "              title=\"Convert this dataframe to an interactive table.\"\n",
              "              style=\"display:none;\">\n",
              "        \n",
              "  <svg xmlns=\"http://www.w3.org/2000/svg\" height=\"24px\"viewBox=\"0 0 24 24\"\n",
              "       width=\"24px\">\n",
              "    <path d=\"M0 0h24v24H0V0z\" fill=\"none\"/>\n",
              "    <path d=\"M18.56 5.44l.94 2.06.94-2.06 2.06-.94-2.06-.94-.94-2.06-.94 2.06-2.06.94zm-11 1L8.5 8.5l.94-2.06 2.06-.94-2.06-.94L8.5 2.5l-.94 2.06-2.06.94zm10 10l.94 2.06.94-2.06 2.06-.94-2.06-.94-.94-2.06-.94 2.06-2.06.94z\"/><path d=\"M17.41 7.96l-1.37-1.37c-.4-.4-.92-.59-1.43-.59-.52 0-1.04.2-1.43.59L10.3 9.45l-7.72 7.72c-.78.78-.78 2.05 0 2.83L4 21.41c.39.39.9.59 1.41.59.51 0 1.02-.2 1.41-.59l7.78-7.78 2.81-2.81c.8-.78.8-2.07 0-2.86zM5.41 20L4 18.59l7.72-7.72 1.47 1.35L5.41 20z\"/>\n",
              "  </svg>\n",
              "      </button>\n",
              "      \n",
              "  <style>\n",
              "    .colab-df-container {\n",
              "      display:flex;\n",
              "      flex-wrap:wrap;\n",
              "      gap: 12px;\n",
              "    }\n",
              "\n",
              "    .colab-df-convert {\n",
              "      background-color: #E8F0FE;\n",
              "      border: none;\n",
              "      border-radius: 50%;\n",
              "      cursor: pointer;\n",
              "      display: none;\n",
              "      fill: #1967D2;\n",
              "      height: 32px;\n",
              "      padding: 0 0 0 0;\n",
              "      width: 32px;\n",
              "    }\n",
              "\n",
              "    .colab-df-convert:hover {\n",
              "      background-color: #E2EBFA;\n",
              "      box-shadow: 0px 1px 2px rgba(60, 64, 67, 0.3), 0px 1px 3px 1px rgba(60, 64, 67, 0.15);\n",
              "      fill: #174EA6;\n",
              "    }\n",
              "\n",
              "    [theme=dark] .colab-df-convert {\n",
              "      background-color: #3B4455;\n",
              "      fill: #D2E3FC;\n",
              "    }\n",
              "\n",
              "    [theme=dark] .colab-df-convert:hover {\n",
              "      background-color: #434B5C;\n",
              "      box-shadow: 0px 1px 3px 1px rgba(0, 0, 0, 0.15);\n",
              "      filter: drop-shadow(0px 1px 2px rgba(0, 0, 0, 0.3));\n",
              "      fill: #FFFFFF;\n",
              "    }\n",
              "  </style>\n",
              "\n",
              "      <script>\n",
              "        const buttonEl =\n",
              "          document.querySelector('#df-2a2bb304-1328-4927-843a-11bc8840d6e1 button.colab-df-convert');\n",
              "        buttonEl.style.display =\n",
              "          google.colab.kernel.accessAllowed ? 'block' : 'none';\n",
              "\n",
              "        async function convertToInteractive(key) {\n",
              "          const element = document.querySelector('#df-2a2bb304-1328-4927-843a-11bc8840d6e1');\n",
              "          const dataTable =\n",
              "            await google.colab.kernel.invokeFunction('convertToInteractive',\n",
              "                                                     [key], {});\n",
              "          if (!dataTable) return;\n",
              "\n",
              "          const docLinkHtml = 'Like what you see? Visit the ' +\n",
              "            '<a target=\"_blank\" href=https://colab.research.google.com/notebooks/data_table.ipynb>data table notebook</a>'\n",
              "            + ' to learn more about interactive tables.';\n",
              "          element.innerHTML = '';\n",
              "          dataTable['output_type'] = 'display_data';\n",
              "          await google.colab.output.renderOutput(dataTable, element);\n",
              "          const docLink = document.createElement('div');\n",
              "          docLink.innerHTML = docLinkHtml;\n",
              "          element.appendChild(docLink);\n",
              "        }\n",
              "      </script>\n",
              "    </div>\n",
              "  </div>\n",
              "  "
            ]
          },
          "metadata": {},
          "execution_count": 39
        }
      ]
    },
    {
      "cell_type": "code",
      "source": [
        "# Переиндексируем полученный полученный результат, чтобы получилась таблица с 3 столбцами, а не с одним\n",
        "df_region1 = df_region_year.reset_index(level=['Регион', 'Год сдачи'])\n",
        "df_region1.head(10)"
      ],
      "metadata": {
        "colab": {
          "base_uri": "https://localhost:8080/",
          "height": 363
        },
        "id": "jhvW5UaKDSu2",
        "outputId": "f65253e5-c66a-42fa-b7f9-8dc562e2902f"
      },
      "execution_count": 40,
      "outputs": [
        {
          "output_type": "execute_result",
          "data": {
            "text/plain": [
              "   Регион Год сдачи  id\n",
              "0       1      2022   2\n",
              "1       1      2023  16\n",
              "2       1      2024   7\n",
              "3       2      2022   4\n",
              "4       2      2023  10\n",
              "5       2      2024  10\n",
              "6       2      2025   3\n",
              "7       3      2022   5\n",
              "8       3      2023   6\n",
              "9       5      2023   2"
            ],
            "text/html": [
              "\n",
              "  <div id=\"df-c65b0c0b-74cc-406b-9379-3c06929f307b\">\n",
              "    <div class=\"colab-df-container\">\n",
              "      <div>\n",
              "<style scoped>\n",
              "    .dataframe tbody tr th:only-of-type {\n",
              "        vertical-align: middle;\n",
              "    }\n",
              "\n",
              "    .dataframe tbody tr th {\n",
              "        vertical-align: top;\n",
              "    }\n",
              "\n",
              "    .dataframe thead th {\n",
              "        text-align: right;\n",
              "    }\n",
              "</style>\n",
              "<table border=\"1\" class=\"dataframe\">\n",
              "  <thead>\n",
              "    <tr style=\"text-align: right;\">\n",
              "      <th></th>\n",
              "      <th>Регион</th>\n",
              "      <th>Год сдачи</th>\n",
              "      <th>id</th>\n",
              "    </tr>\n",
              "  </thead>\n",
              "  <tbody>\n",
              "    <tr>\n",
              "      <th>0</th>\n",
              "      <td>1</td>\n",
              "      <td>2022</td>\n",
              "      <td>2</td>\n",
              "    </tr>\n",
              "    <tr>\n",
              "      <th>1</th>\n",
              "      <td>1</td>\n",
              "      <td>2023</td>\n",
              "      <td>16</td>\n",
              "    </tr>\n",
              "    <tr>\n",
              "      <th>2</th>\n",
              "      <td>1</td>\n",
              "      <td>2024</td>\n",
              "      <td>7</td>\n",
              "    </tr>\n",
              "    <tr>\n",
              "      <th>3</th>\n",
              "      <td>2</td>\n",
              "      <td>2022</td>\n",
              "      <td>4</td>\n",
              "    </tr>\n",
              "    <tr>\n",
              "      <th>4</th>\n",
              "      <td>2</td>\n",
              "      <td>2023</td>\n",
              "      <td>10</td>\n",
              "    </tr>\n",
              "    <tr>\n",
              "      <th>5</th>\n",
              "      <td>2</td>\n",
              "      <td>2024</td>\n",
              "      <td>10</td>\n",
              "    </tr>\n",
              "    <tr>\n",
              "      <th>6</th>\n",
              "      <td>2</td>\n",
              "      <td>2025</td>\n",
              "      <td>3</td>\n",
              "    </tr>\n",
              "    <tr>\n",
              "      <th>7</th>\n",
              "      <td>3</td>\n",
              "      <td>2022</td>\n",
              "      <td>5</td>\n",
              "    </tr>\n",
              "    <tr>\n",
              "      <th>8</th>\n",
              "      <td>3</td>\n",
              "      <td>2023</td>\n",
              "      <td>6</td>\n",
              "    </tr>\n",
              "    <tr>\n",
              "      <th>9</th>\n",
              "      <td>5</td>\n",
              "      <td>2023</td>\n",
              "      <td>2</td>\n",
              "    </tr>\n",
              "  </tbody>\n",
              "</table>\n",
              "</div>\n",
              "      <button class=\"colab-df-convert\" onclick=\"convertToInteractive('df-c65b0c0b-74cc-406b-9379-3c06929f307b')\"\n",
              "              title=\"Convert this dataframe to an interactive table.\"\n",
              "              style=\"display:none;\">\n",
              "        \n",
              "  <svg xmlns=\"http://www.w3.org/2000/svg\" height=\"24px\"viewBox=\"0 0 24 24\"\n",
              "       width=\"24px\">\n",
              "    <path d=\"M0 0h24v24H0V0z\" fill=\"none\"/>\n",
              "    <path d=\"M18.56 5.44l.94 2.06.94-2.06 2.06-.94-2.06-.94-.94-2.06-.94 2.06-2.06.94zm-11 1L8.5 8.5l.94-2.06 2.06-.94-2.06-.94L8.5 2.5l-.94 2.06-2.06.94zm10 10l.94 2.06.94-2.06 2.06-.94-2.06-.94-.94-2.06-.94 2.06-2.06.94z\"/><path d=\"M17.41 7.96l-1.37-1.37c-.4-.4-.92-.59-1.43-.59-.52 0-1.04.2-1.43.59L10.3 9.45l-7.72 7.72c-.78.78-.78 2.05 0 2.83L4 21.41c.39.39.9.59 1.41.59.51 0 1.02-.2 1.41-.59l7.78-7.78 2.81-2.81c.8-.78.8-2.07 0-2.86zM5.41 20L4 18.59l7.72-7.72 1.47 1.35L5.41 20z\"/>\n",
              "  </svg>\n",
              "      </button>\n",
              "      \n",
              "  <style>\n",
              "    .colab-df-container {\n",
              "      display:flex;\n",
              "      flex-wrap:wrap;\n",
              "      gap: 12px;\n",
              "    }\n",
              "\n",
              "    .colab-df-convert {\n",
              "      background-color: #E8F0FE;\n",
              "      border: none;\n",
              "      border-radius: 50%;\n",
              "      cursor: pointer;\n",
              "      display: none;\n",
              "      fill: #1967D2;\n",
              "      height: 32px;\n",
              "      padding: 0 0 0 0;\n",
              "      width: 32px;\n",
              "    }\n",
              "\n",
              "    .colab-df-convert:hover {\n",
              "      background-color: #E2EBFA;\n",
              "      box-shadow: 0px 1px 2px rgba(60, 64, 67, 0.3), 0px 1px 3px 1px rgba(60, 64, 67, 0.15);\n",
              "      fill: #174EA6;\n",
              "    }\n",
              "\n",
              "    [theme=dark] .colab-df-convert {\n",
              "      background-color: #3B4455;\n",
              "      fill: #D2E3FC;\n",
              "    }\n",
              "\n",
              "    [theme=dark] .colab-df-convert:hover {\n",
              "      background-color: #434B5C;\n",
              "      box-shadow: 0px 1px 3px 1px rgba(0, 0, 0, 0.15);\n",
              "      filter: drop-shadow(0px 1px 2px rgba(0, 0, 0, 0.3));\n",
              "      fill: #FFFFFF;\n",
              "    }\n",
              "  </style>\n",
              "\n",
              "      <script>\n",
              "        const buttonEl =\n",
              "          document.querySelector('#df-c65b0c0b-74cc-406b-9379-3c06929f307b button.colab-df-convert');\n",
              "        buttonEl.style.display =\n",
              "          google.colab.kernel.accessAllowed ? 'block' : 'none';\n",
              "\n",
              "        async function convertToInteractive(key) {\n",
              "          const element = document.querySelector('#df-c65b0c0b-74cc-406b-9379-3c06929f307b');\n",
              "          const dataTable =\n",
              "            await google.colab.kernel.invokeFunction('convertToInteractive',\n",
              "                                                     [key], {});\n",
              "          if (!dataTable) return;\n",
              "\n",
              "          const docLinkHtml = 'Like what you see? Visit the ' +\n",
              "            '<a target=\"_blank\" href=https://colab.research.google.com/notebooks/data_table.ipynb>data table notebook</a>'\n",
              "            + ' to learn more about interactive tables.';\n",
              "          element.innerHTML = '';\n",
              "          dataTable['output_type'] = 'display_data';\n",
              "          await google.colab.output.renderOutput(dataTable, element);\n",
              "          const docLink = document.createElement('div');\n",
              "          docLink.innerHTML = docLinkHtml;\n",
              "          element.appendChild(docLink);\n",
              "        }\n",
              "      </script>\n",
              "    </div>\n",
              "  </div>\n",
              "  "
            ]
          },
          "metadata": {},
          "execution_count": 40
        }
      ]
    },
    {
      "cell_type": "code",
      "source": [
        "df_region1.info()"
      ],
      "metadata": {
        "colab": {
          "base_uri": "https://localhost:8080/"
        },
        "id": "dh0s0SLIE-Xr",
        "outputId": "87c6dfda-3a46-41af-85c0-a583a1c7e31a"
      },
      "execution_count": 41,
      "outputs": [
        {
          "output_type": "stream",
          "name": "stdout",
          "text": [
            "<class 'pandas.core.frame.DataFrame'>\n",
            "RangeIndex: 263 entries, 0 to 262\n",
            "Data columns (total 3 columns):\n",
            " #   Column     Non-Null Count  Dtype \n",
            "---  ------     --------------  ----- \n",
            " 0   Регион     263 non-null    int64 \n",
            " 1   Год сдачи  263 non-null    object\n",
            " 2   id         263 non-null    int64 \n",
            "dtypes: int64(2), object(1)\n",
            "memory usage: 6.3+ KB\n"
          ]
        }
      ]
    },
    {
      "cell_type": "code",
      "source": [
        "# В виду того, что результат получился в виде большой таблицы, для удобства сохранил результат в виде эксель файла на облаке\n",
        "df_region1.to_excel(\"./drive/MyDrive/Region_Year2.xlsx\", index=False)"
      ],
      "metadata": {
        "id": "s9ATnC6bbDwf"
      },
      "execution_count": 42,
      "outputs": []
    },
    {
      "cell_type": "code",
      "source": [
        "# Сгруппируем данные относительно количества строящегося жилья \n",
        "df_region3 = df_region1.groupby('Год сдачи')['id'].count().sort_values(ascending=True)\n",
        "df_region3"
      ],
      "metadata": {
        "colab": {
          "base_uri": "https://localhost:8080/"
        },
        "id": "ujpYbWWOVOq2",
        "outputId": "3ce3df30-fdff-47d6-8708-9f732e7c5dd7"
      },
      "execution_count": 43,
      "outputs": [
        {
          "output_type": "execute_result",
          "data": {
            "text/plain": [
              "Год сдачи\n",
              "2021     1\n",
              "2029     1\n",
              "2030     1\n",
              "2031     2\n",
              "2028     5\n",
              "2027     8\n",
              "2026    15\n",
              "2025    41\n",
              "2022    54\n",
              "2024    64\n",
              "2023    71\n",
              "Name: id, dtype: int64"
            ]
          },
          "metadata": {},
          "execution_count": 43
        }
      ]
    },
    {
      "cell_type": "code",
      "source": [
        "# Визуализируем полученный результат\n",
        "rcParams['figure.figsize'] = 10,5\n",
        "plt.plot(df_region3)\n",
        "plt.title('Мониторинг тренда \"на увеличение\" строящегося жилья относительно количества')\n",
        "plt.xlabel('Год')\n",
        "plt.ylabel('Количество домов')\n",
        "plt.show()"
      ],
      "metadata": {
        "colab": {
          "base_uri": "https://localhost:8080/",
          "height": 350
        },
        "id": "hY6CEV5LVpWx",
        "outputId": "6e36558d-d88b-4db6-8213-0d74372a10e3"
      },
      "execution_count": 44,
      "outputs": [
        {
          "output_type": "display_data",
          "data": {
            "text/plain": [
              "<Figure size 720x360 with 1 Axes>"
            ],
            "image/png": "[encoded data removed]"
          },
          "metadata": {
            "needs_background": "light"
          }
        }
      ]
    },
    {
      "cell_type": "code",
      "source": [
        "# Сгруппируем данные относительно года строящегося жилья \n",
        "df_region4 = df_region1.groupby('Год сдачи')['id'].count()\n",
        "df_region4"
      ],
      "metadata": {
        "colab": {
          "base_uri": "https://localhost:8080/"
        },
        "id": "6CBxdL_jVpZU",
        "outputId": "df601e23-8cf5-4dbe-b6b1-8ec5dc87e359"
      },
      "execution_count": 45,
      "outputs": [
        {
          "output_type": "execute_result",
          "data": {
            "text/plain": [
              "Год сдачи\n",
              "2021     1\n",
              "2022    54\n",
              "2023    71\n",
              "2024    64\n",
              "2025    41\n",
              "2026    15\n",
              "2027     8\n",
              "2028     5\n",
              "2029     1\n",
              "2030     1\n",
              "2031     2\n",
              "Name: id, dtype: int64"
            ]
          },
          "metadata": {},
          "execution_count": 45
        }
      ]
    },
    {
      "cell_type": "code",
      "source": [
        "# Визуализируем полученный результат\n",
        "rcParams['figure.figsize'] = 10,5\n",
        "plt.plot(df_region4)\n",
        "plt.title('Тренд от года к году по новостройкам')\n",
        "plt.xlabel('Год')\n",
        "plt.ylabel('Количество домов')\n",
        "plt.show()"
      ],
      "metadata": {
        "colab": {
          "base_uri": "https://localhost:8080/",
          "height": 350
        },
        "id": "cfOpLgWvWmoQ",
        "outputId": "b6c9feae-d3e7-4e8d-9a54-8c1640a5f76d"
      },
      "execution_count": 46,
      "outputs": [
        {
          "output_type": "display_data",
          "data": {
            "text/plain": [
              "<Figure size 720x360 with 1 Axes>"
            ],
            "image/png": "[encoded data removed]"
          },
          "metadata": {
            "needs_background": "light"
          }
        }
      ]
    },
    {
      "cell_type": "markdown",
      "source": [
        "**Вывод:** \n",
        "* Наибольшее количество жилья планируется сдать в 2023 году, далее идет 2024 и на третьем уходящий 2022\n",
        "* Есть новостройки, которые должны были быть сданы в 2021, но еще числятся на сайте с прогнозом сдачи (потенциальная задержка сдачи)\n",
        "* Наблюдается резкий нисходящий тренд по сдаваемым новостройкам от 2023 до 2026 (включительно). Возможно это влияние экономики из за новостного фона\n"
      ],
      "metadata": {
        "id": "AHUP4VsDv4sO"
      }
    },
    {
      "cell_type": "markdown",
      "source": [
        "**Задание 4**"
      ],
      "metadata": {
        "id": "bcpsjLpGweeN"
      }
    },
    {
      "cell_type": "code",
      "source": [
        "# Сравнить этажность домов в разных регионах\n",
        "df_6_clean = df_2_clean.copy()"
      ],
      "metadata": {
        "id": "MTev9ZxjvGfE"
      },
      "execution_count": 47,
      "outputs": []
    },
    {
      "cell_type": "code",
      "source": [
        "# Оставляем столбцы необходимые для аналитики\n",
        "df_6_clean = df_6_clean[['Регион','id','Максимум этажей','Минимум этажей']]\n",
        "df_6_clean.head(3)"
      ],
      "metadata": {
        "colab": {
          "base_uri": "https://localhost:8080/",
          "height": 143
        },
        "id": "w3V5Qo9vgbzv",
        "outputId": "5f2a1a8c-167e-483e-9f63-4cc0a441aa3c"
      },
      "execution_count": 48,
      "outputs": [
        {
          "output_type": "execute_result",
          "data": {
            "text/plain": [
              "   Регион    id  Максимум этажей  Минимум этажей\n",
              "0      62  1259               27              27\n",
              "1      77  1284               27              27\n",
              "2      18  1804                8               8"
            ],
            "text/html": [
              "\n",
              "  <div id=\"df-cf4482a5-8f91-48a7-ab8f-ea01771973c3\">\n",
              "    <div class=\"colab-df-container\">\n",
              "      <div>\n",
              "<style scoped>\n",
              "    .dataframe tbody tr th:only-of-type {\n",
              "        vertical-align: middle;\n",
              "    }\n",
              "\n",
              "    .dataframe tbody tr th {\n",
              "        vertical-align: top;\n",
              "    }\n",
              "\n",
              "    .dataframe thead th {\n",
              "        text-align: right;\n",
              "    }\n",
              "</style>\n",
              "<table border=\"1\" class=\"dataframe\">\n",
              "  <thead>\n",
              "    <tr style=\"text-align: right;\">\n",
              "      <th></th>\n",
              "      <th>Регион</th>\n",
              "      <th>id</th>\n",
              "      <th>Максимум этажей</th>\n",
              "      <th>Минимум этажей</th>\n",
              "    </tr>\n",
              "  </thead>\n",
              "  <tbody>\n",
              "    <tr>\n",
              "      <th>0</th>\n",
              "      <td>62</td>\n",
              "      <td>1259</td>\n",
              "      <td>27</td>\n",
              "      <td>27</td>\n",
              "    </tr>\n",
              "    <tr>\n",
              "      <th>1</th>\n",
              "      <td>77</td>\n",
              "      <td>1284</td>\n",
              "      <td>27</td>\n",
              "      <td>27</td>\n",
              "    </tr>\n",
              "    <tr>\n",
              "      <th>2</th>\n",
              "      <td>18</td>\n",
              "      <td>1804</td>\n",
              "      <td>8</td>\n",
              "      <td>8</td>\n",
              "    </tr>\n",
              "  </tbody>\n",
              "</table>\n",
              "</div>\n",
              "      <button class=\"colab-df-convert\" onclick=\"convertToInteractive('df-cf4482a5-8f91-48a7-ab8f-ea01771973c3')\"\n",
              "              title=\"Convert this dataframe to an interactive table.\"\n",
              "              style=\"display:none;\">\n",
              "        \n",
              "  <svg xmlns=\"http://www.w3.org/2000/svg\" height=\"24px\"viewBox=\"0 0 24 24\"\n",
              "       width=\"24px\">\n",
              "    <path d=\"M0 0h24v24H0V0z\" fill=\"none\"/>\n",
              "    <path d=\"M18.56 5.44l.94 2.06.94-2.06 2.06-.94-2.06-.94-.94-2.06-.94 2.06-2.06.94zm-11 1L8.5 8.5l.94-2.06 2.06-.94-2.06-.94L8.5 2.5l-.94 2.06-2.06.94zm10 10l.94 2.06.94-2.06 2.06-.94-2.06-.94-.94-2.06-.94 2.06-2.06.94z\"/><path d=\"M17.41 7.96l-1.37-1.37c-.4-.4-.92-.59-1.43-.59-.52 0-1.04.2-1.43.59L10.3 9.45l-7.72 7.72c-.78.78-.78 2.05 0 2.83L4 21.41c.39.39.9.59 1.41.59.51 0 1.02-.2 1.41-.59l7.78-7.78 2.81-2.81c.8-.78.8-2.07 0-2.86zM5.41 20L4 18.59l7.72-7.72 1.47 1.35L5.41 20z\"/>\n",
              "  </svg>\n",
              "      </button>\n",
              "      \n",
              "  <style>\n",
              "    .colab-df-container {\n",
              "      display:flex;\n",
              "      flex-wrap:wrap;\n",
              "      gap: 12px;\n",
              "    }\n",
              "\n",
              "    .colab-df-convert {\n",
              "      background-color: #E8F0FE;\n",
              "      border: none;\n",
              "      border-radius: 50%;\n",
              "      cursor: pointer;\n",
              "      display: none;\n",
              "      fill: #1967D2;\n",
              "      height: 32px;\n",
              "      padding: 0 0 0 0;\n",
              "      width: 32px;\n",
              "    }\n",
              "\n",
              "    .colab-df-convert:hover {\n",
              "      background-color: #E2EBFA;\n",
              "      box-shadow: 0px 1px 2px rgba(60, 64, 67, 0.3), 0px 1px 3px 1px rgba(60, 64, 67, 0.15);\n",
              "      fill: #174EA6;\n",
              "    }\n",
              "\n",
              "    [theme=dark] .colab-df-convert {\n",
              "      background-color: #3B4455;\n",
              "      fill: #D2E3FC;\n",
              "    }\n",
              "\n",
              "    [theme=dark] .colab-df-convert:hover {\n",
              "      background-color: #434B5C;\n",
              "      box-shadow: 0px 1px 3px 1px rgba(0, 0, 0, 0.15);\n",
              "      filter: drop-shadow(0px 1px 2px rgba(0, 0, 0, 0.3));\n",
              "      fill: #FFFFFF;\n",
              "    }\n",
              "  </style>\n",
              "\n",
              "      <script>\n",
              "        const buttonEl =\n",
              "          document.querySelector('#df-cf4482a5-8f91-48a7-ab8f-ea01771973c3 button.colab-df-convert');\n",
              "        buttonEl.style.display =\n",
              "          google.colab.kernel.accessAllowed ? 'block' : 'none';\n",
              "\n",
              "        async function convertToInteractive(key) {\n",
              "          const element = document.querySelector('#df-cf4482a5-8f91-48a7-ab8f-ea01771973c3');\n",
              "          const dataTable =\n",
              "            await google.colab.kernel.invokeFunction('convertToInteractive',\n",
              "                                                     [key], {});\n",
              "          if (!dataTable) return;\n",
              "\n",
              "          const docLinkHtml = 'Like what you see? Visit the ' +\n",
              "            '<a target=\"_blank\" href=https://colab.research.google.com/notebooks/data_table.ipynb>data table notebook</a>'\n",
              "            + ' to learn more about interactive tables.';\n",
              "          element.innerHTML = '';\n",
              "          dataTable['output_type'] = 'display_data';\n",
              "          await google.colab.output.renderOutput(dataTable, element);\n",
              "          const docLink = document.createElement('div');\n",
              "          docLink.innerHTML = docLinkHtml;\n",
              "          element.appendChild(docLink);\n",
              "        }\n",
              "      </script>\n",
              "    </div>\n",
              "  </div>\n",
              "  "
            ]
          },
          "metadata": {},
          "execution_count": 48
        }
      ]
    },
    {
      "cell_type": "code",
      "source": [
        "df_6_clean.info()"
      ],
      "metadata": {
        "colab": {
          "base_uri": "https://localhost:8080/"
        },
        "id": "RjX3OSm9gb6c",
        "outputId": "67c66119-ed63-4974-ab42-5b1bb4236f49"
      },
      "execution_count": 49,
      "outputs": [
        {
          "output_type": "stream",
          "name": "stdout",
          "text": [
            "<class 'pandas.core.frame.DataFrame'>\n",
            "RangeIndex: 2659 entries, 0 to 2658\n",
            "Data columns (total 4 columns):\n",
            " #   Column           Non-Null Count  Dtype\n",
            "---  ------           --------------  -----\n",
            " 0   Регион           2659 non-null   int64\n",
            " 1   id               2659 non-null   int64\n",
            " 2   Максимум этажей  2659 non-null   int64\n",
            " 3   Минимум этажей   2659 non-null   int64\n",
            "dtypes: int64(4)\n",
            "memory usage: 83.2 KB\n"
          ]
        }
      ]
    },
    {
      "cell_type": "code",
      "source": [
        "# Вычисляем регион в котором самое высокое значение среди средних значений \"Максимум этажей\"\n",
        "df_floors_1 = df_6_clean.groupby('Регион')['Максимум этажей'].mean().sort_values(ascending=False).head(5)\n",
        "df_floors_1"
      ],
      "metadata": {
        "colab": {
          "base_uri": "https://localhost:8080/"
        },
        "id": "eKPpQQQigb9Y",
        "outputId": "2f6abe14-3a95-46e7-d1e4-601a4ff722aa"
      },
      "execution_count": 50,
      "outputs": [
        {
          "output_type": "execute_result",
          "data": {
            "text/plain": [
              "Регион\n",
              "77    24.225000\n",
              "2     21.629630\n",
              "48    21.000000\n",
              "56    20.500000\n",
              "66    20.142857\n",
              "Name: Максимум этажей, dtype: float64"
            ]
          },
          "metadata": {},
          "execution_count": 50
        }
      ]
    },
    {
      "cell_type": "code",
      "source": [
        "# Визуализируем топ 5 значений\n",
        "rcParams['figure.figsize'] = 5,5\n",
        "df_floors_1.plot(kind='barh') \n",
        "plt.title(\"Самое высокое значение среди средних значений Максимум этажей\")\n",
        "plt.xlabel('Среднее количество этажей')\n",
        "plt.ylabel('Регион')\n",
        "plt.show()"
      ],
      "metadata": {
        "colab": {
          "base_uri": "https://localhost:8080/",
          "height": 350
        },
        "id": "tPU1GrNdaf2Z",
        "outputId": "597c6dab-dd08-453e-b61d-f219d55a609e"
      },
      "execution_count": 51,
      "outputs": [
        {
          "output_type": "display_data",
          "data": {
            "text/plain": [
              "<Figure size 360x360 with 1 Axes>"
            ],
            "image/png": "[encoded data removed]"
          },
          "metadata": {
            "needs_background": "light"
          }
        }
      ]
    },
    {
      "cell_type": "code",
      "source": [
        "# Вычисляем регион в котором самое высокое значение среди средних значений \"Минимум этажей\"\n",
        "df_floors_2 = df_6_clean.groupby('Регион')['Минимум этажей'].mean().sort_values(ascending=False).head(5)\n",
        "df_floors_2"
      ],
      "metadata": {
        "id": "O8uv4BAxgcAR",
        "colab": {
          "base_uri": "https://localhost:8080/"
        },
        "outputId": "c2538834-723f-48fd-8865-46df9b54ae36"
      },
      "execution_count": 52,
      "outputs": [
        {
          "output_type": "execute_result",
          "data": {
            "text/plain": [
              "Регион\n",
              "48    20.000000\n",
              "2     19.444444\n",
              "62    17.125000\n",
              "13    17.000000\n",
              "70    17.000000\n",
              "Name: Минимум этажей, dtype: float64"
            ]
          },
          "metadata": {},
          "execution_count": 52
        }
      ]
    },
    {
      "cell_type": "code",
      "source": [
        "# Визуализируем топ 5 значений\n",
        "rcParams['figure.figsize'] = 5,5\n",
        "df_floors_2.plot(kind='barh') \n",
        "plt.title(\"Самое высокое значение среди средних значений Минимум этажей\")\n",
        "plt.xlabel('Количество клиентов')\n",
        "plt.ylabel('Пол клиента')\n",
        "plt.show()"
      ],
      "metadata": {
        "colab": {
          "base_uri": "https://localhost:8080/",
          "height": 350
        },
        "id": "MvRQTQDVac04",
        "outputId": "7c32044a-b6bd-475a-c710-787c3ea98f68"
      },
      "execution_count": 53,
      "outputs": [
        {
          "output_type": "display_data",
          "data": {
            "text/plain": [
              "<Figure size 360x360 with 1 Axes>"
            ],
            "image/png": "[encoded data removed]"
          },
          "metadata": {
            "needs_background": "light"
          }
        }
      ]
    },
    {
      "cell_type": "code",
      "source": [
        "# Вычисляем регион в котором самое высокое значение среди значений \"Максимум этажей\"\n",
        "df_floors_3 = df_6_clean.groupby('Регион')['Максимум этажей'].max().sort_values(ascending=False).head(5)\n",
        "df_floors_3"
      ],
      "metadata": {
        "colab": {
          "base_uri": "https://localhost:8080/"
        },
        "id": "xmajagvpGm-L",
        "outputId": "b3162ea0-19a1-4367-b9b3-7dbd8be90018"
      },
      "execution_count": 54,
      "outputs": [
        {
          "output_type": "execute_result",
          "data": {
            "text/plain": [
              "Регион\n",
              "77    76\n",
              "66    37\n",
              "50    34\n",
              "61    32\n",
              "54    32\n",
              "Name: Максимум этажей, dtype: int64"
            ]
          },
          "metadata": {},
          "execution_count": 54
        }
      ]
    },
    {
      "cell_type": "code",
      "source": [
        "# Визуализируем топ 5 значений\n",
        "rcParams['figure.figsize'] = 5,5\n",
        "df_floors_3.plot(kind='bar') \n",
        "plt.title(\"Самое высокое значение среди средних значений Минимум этажей\")\n",
        "plt.xlabel('Регион')\n",
        "plt.ylabel('Самые высокие этажи новостроек')\n",
        "plt.show()"
      ],
      "metadata": {
        "colab": {
          "base_uri": "https://localhost:8080/",
          "height": 352
        },
        "id": "oNtXKYItaeM0",
        "outputId": "5f1ef17e-f4a0-4b12-f487-8e0c4eb5ff11"
      },
      "execution_count": 55,
      "outputs": [
        {
          "output_type": "display_data",
          "data": {
            "text/plain": [
              "<Figure size 360x360 with 1 Axes>"
            ],
            "image/png": "[encoded data removed]"
          },
          "metadata": {
            "needs_background": "light"
          }
        }
      ]
    },
    {
      "cell_type": "code",
      "source": [
        "# Вычисляем регион в котором самое минимальное значение среди значений \"Минимум этажей\"\n",
        "df_floors_4 = df_6_clean.groupby('Регион')['Минимум этажей'].min().sort_values(ascending=True)\n",
        "df_floors_4.head(3)"
      ],
      "metadata": {
        "colab": {
          "base_uri": "https://localhost:8080/"
        },
        "id": "hgtPfrIEGnAl",
        "outputId": "ba104309-6d3d-4608-b48d-bac0d5188eea"
      },
      "execution_count": 56,
      "outputs": [
        {
          "output_type": "execute_result",
          "data": {
            "text/plain": [
              "Регион\n",
              "1     1\n",
              "66    1\n",
              "52    1\n",
              "Name: Минимум этажей, dtype: int64"
            ]
          },
          "metadata": {},
          "execution_count": 56
        }
      ]
    },
    {
      "cell_type": "code",
      "source": [
        "# Визуализируем\n",
        "rcParams['figure.figsize'] = 10,15\n",
        "df_floors_4.plot(kind='barh') \n",
        "plt.title(\"Cамое высокое значение среди значений Минимум этажей\")\n",
        "plt.xlabel('Этажность новостроек')\n",
        "plt.ylabel('Регион')\n",
        "plt.show()"
      ],
      "metadata": {
        "colab": {
          "base_uri": "https://localhost:8080/",
          "height": 893
        },
        "id": "rWA0eL7lb_eM",
        "outputId": "de501e05-da3f-4d09-cb4c-ff87b8dacf1c"
      },
      "execution_count": 57,
      "outputs": [
        {
          "output_type": "display_data",
          "data": {
            "text/plain": [
              "<Figure size 720x1080 with 1 Axes>"
            ],
            "image/png": "[encoded data removed]"
          },
          "metadata": {
            "needs_background": "light"
          }
        }
      ]
    },
    {
      "cell_type": "code",
      "source": [
        "# Трансформируем сириес в датафрейм, чтобы потом посчитать количество регионов с одноэтажными постройками\n",
        "df_floors_5 = df_floors_4.reset_index()\n",
        "df_floors_5.head(3)"
      ],
      "metadata": {
        "colab": {
          "base_uri": "https://localhost:8080/",
          "height": 143
        },
        "id": "WlvnVB4oeeMf",
        "outputId": "47603c6c-c304-465f-afc4-c57f8f7d0fde"
      },
      "execution_count": 58,
      "outputs": [
        {
          "output_type": "execute_result",
          "data": {
            "text/plain": [
              "   Регион  Минимум этажей\n",
              "0       1               1\n",
              "1      66               1\n",
              "2      52               1"
            ],
            "text/html": [
              "\n",
              "  <div id=\"df-3f072d70-fe1e-4f05-88e6-6335ca355457\">\n",
              "    <div class=\"colab-df-container\">\n",
              "      <div>\n",
              "<style scoped>\n",
              "    .dataframe tbody tr th:only-of-type {\n",
              "        vertical-align: middle;\n",
              "    }\n",
              "\n",
              "    .dataframe tbody tr th {\n",
              "        vertical-align: top;\n",
              "    }\n",
              "\n",
              "    .dataframe thead th {\n",
              "        text-align: right;\n",
              "    }\n",
              "</style>\n",
              "<table border=\"1\" class=\"dataframe\">\n",
              "  <thead>\n",
              "    <tr style=\"text-align: right;\">\n",
              "      <th></th>\n",
              "      <th>Регион</th>\n",
              "      <th>Минимум этажей</th>\n",
              "    </tr>\n",
              "  </thead>\n",
              "  <tbody>\n",
              "    <tr>\n",
              "      <th>0</th>\n",
              "      <td>1</td>\n",
              "      <td>1</td>\n",
              "    </tr>\n",
              "    <tr>\n",
              "      <th>1</th>\n",
              "      <td>66</td>\n",
              "      <td>1</td>\n",
              "    </tr>\n",
              "    <tr>\n",
              "      <th>2</th>\n",
              "      <td>52</td>\n",
              "      <td>1</td>\n",
              "    </tr>\n",
              "  </tbody>\n",
              "</table>\n",
              "</div>\n",
              "      <button class=\"colab-df-convert\" onclick=\"convertToInteractive('df-3f072d70-fe1e-4f05-88e6-6335ca355457')\"\n",
              "              title=\"Convert this dataframe to an interactive table.\"\n",
              "              style=\"display:none;\">\n",
              "        \n",
              "  <svg xmlns=\"http://www.w3.org/2000/svg\" height=\"24px\"viewBox=\"0 0 24 24\"\n",
              "       width=\"24px\">\n",
              "    <path d=\"M0 0h24v24H0V0z\" fill=\"none\"/>\n",
              "    <path d=\"M18.56 5.44l.94 2.06.94-2.06 2.06-.94-2.06-.94-.94-2.06-.94 2.06-2.06.94zm-11 1L8.5 8.5l.94-2.06 2.06-.94-2.06-.94L8.5 2.5l-.94 2.06-2.06.94zm10 10l.94 2.06.94-2.06 2.06-.94-2.06-.94-.94-2.06-.94 2.06-2.06.94z\"/><path d=\"M17.41 7.96l-1.37-1.37c-.4-.4-.92-.59-1.43-.59-.52 0-1.04.2-1.43.59L10.3 9.45l-7.72 7.72c-.78.78-.78 2.05 0 2.83L4 21.41c.39.39.9.59 1.41.59.51 0 1.02-.2 1.41-.59l7.78-7.78 2.81-2.81c.8-.78.8-2.07 0-2.86zM5.41 20L4 18.59l7.72-7.72 1.47 1.35L5.41 20z\"/>\n",
              "  </svg>\n",
              "      </button>\n",
              "      \n",
              "  <style>\n",
              "    .colab-df-container {\n",
              "      display:flex;\n",
              "      flex-wrap:wrap;\n",
              "      gap: 12px;\n",
              "    }\n",
              "\n",
              "    .colab-df-convert {\n",
              "      background-color: #E8F0FE;\n",
              "      border: none;\n",
              "      border-radius: 50%;\n",
              "      cursor: pointer;\n",
              "      display: none;\n",
              "      fill: #1967D2;\n",
              "      height: 32px;\n",
              "      padding: 0 0 0 0;\n",
              "      width: 32px;\n",
              "    }\n",
              "\n",
              "    .colab-df-convert:hover {\n",
              "      background-color: #E2EBFA;\n",
              "      box-shadow: 0px 1px 2px rgba(60, 64, 67, 0.3), 0px 1px 3px 1px rgba(60, 64, 67, 0.15);\n",
              "      fill: #174EA6;\n",
              "    }\n",
              "\n",
              "    [theme=dark] .colab-df-convert {\n",
              "      background-color: #3B4455;\n",
              "      fill: #D2E3FC;\n",
              "    }\n",
              "\n",
              "    [theme=dark] .colab-df-convert:hover {\n",
              "      background-color: #434B5C;\n",
              "      box-shadow: 0px 1px 3px 1px rgba(0, 0, 0, 0.15);\n",
              "      filter: drop-shadow(0px 1px 2px rgba(0, 0, 0, 0.3));\n",
              "      fill: #FFFFFF;\n",
              "    }\n",
              "  </style>\n",
              "\n",
              "      <script>\n",
              "        const buttonEl =\n",
              "          document.querySelector('#df-3f072d70-fe1e-4f05-88e6-6335ca355457 button.colab-df-convert');\n",
              "        buttonEl.style.display =\n",
              "          google.colab.kernel.accessAllowed ? 'block' : 'none';\n",
              "\n",
              "        async function convertToInteractive(key) {\n",
              "          const element = document.querySelector('#df-3f072d70-fe1e-4f05-88e6-6335ca355457');\n",
              "          const dataTable =\n",
              "            await google.colab.kernel.invokeFunction('convertToInteractive',\n",
              "                                                     [key], {});\n",
              "          if (!dataTable) return;\n",
              "\n",
              "          const docLinkHtml = 'Like what you see? Visit the ' +\n",
              "            '<a target=\"_blank\" href=https://colab.research.google.com/notebooks/data_table.ipynb>data table notebook</a>'\n",
              "            + ' to learn more about interactive tables.';\n",
              "          element.innerHTML = '';\n",
              "          dataTable['output_type'] = 'display_data';\n",
              "          await google.colab.output.renderOutput(dataTable, element);\n",
              "          const docLink = document.createElement('div');\n",
              "          docLink.innerHTML = docLinkHtml;\n",
              "          element.appendChild(docLink);\n",
              "        }\n",
              "      </script>\n",
              "    </div>\n",
              "  </div>\n",
              "  "
            ]
          },
          "metadata": {},
          "execution_count": 58
        }
      ]
    },
    {
      "cell_type": "code",
      "source": [
        "df_floors_5['Минимум этажей'].unique()"
      ],
      "metadata": {
        "colab": {
          "base_uri": "https://localhost:8080/"
        },
        "id": "p_21OyNIpD2a",
        "outputId": "7ddf6b5e-c418-453d-e370-aab1e49c19f8"
      },
      "execution_count": 59,
      "outputs": [
        {
          "output_type": "execute_result",
          "data": {
            "text/plain": [
              "array([ 1,  2,  3,  4,  6,  7,  8,  9, 10, 11, 14, 17])"
            ]
          },
          "metadata": {},
          "execution_count": 59
        }
      ]
    },
    {
      "cell_type": "code",
      "source": [
        "# Посчитаем количество одноэтажных домов\n",
        "df_floors_6 = df_floors_5.groupby('Минимум этажей')['Регион'].count()\n",
        "df_floors_6"
      ],
      "metadata": {
        "colab": {
          "base_uri": "https://localhost:8080/"
        },
        "id": "_v53yVWNR119",
        "outputId": "233cac83-255a-4239-8746-ab71f3e4e164"
      },
      "execution_count": 60,
      "outputs": [
        {
          "output_type": "execute_result",
          "data": {
            "text/plain": [
              "Минимум этажей\n",
              "1     34\n",
              "2      7\n",
              "3      1\n",
              "4      6\n",
              "6      4\n",
              "7      1\n",
              "8      4\n",
              "9      3\n",
              "10     6\n",
              "11     4\n",
              "14     1\n",
              "17     2\n",
              "Name: Регион, dtype: int64"
            ]
          },
          "metadata": {},
          "execution_count": 60
        }
      ]
    },
    {
      "cell_type": "code",
      "source": [
        "# Визуализируем\n",
        "rcParams['figure.figsize'] = 5,5\n",
        "df_floors_6.plot(kind='bar') \n",
        "plt.title(\"Количество одноэтажных новостроек\")\n",
        "plt.xlabel('Количество этажей')\n",
        "plt.ylabel('Количество новостроек')\n",
        "plt.show()"
      ],
      "metadata": {
        "colab": {
          "base_uri": "https://localhost:8080/",
          "height": 352
        },
        "id": "qU4OgkPGgWoB",
        "outputId": "ceb356d6-b820-4f4c-8a9e-fba11ec157cc"
      },
      "execution_count": 61,
      "outputs": [
        {
          "output_type": "display_data",
          "data": {
            "text/plain": [
              "<Figure size 360x360 with 1 Axes>"
            ],
            "image/png": "[encoded data removed]"
          },
          "metadata": {
            "needs_background": "light"
          }
        }
      ]
    },
    {
      "cell_type": "markdown",
      "source": [
        "**Вывод:**\n",
        "* Самое высокое среднее значение по максимуму этажей в регионе - 77\n",
        "* Самое высокое среднее значение по минимум этажей в регионе - 48\n",
        "* Самые высокие новостройки в регионе - 77\n",
        "* Новостройки с одним этажом присутствуют в 34 регионах. "
      ],
      "metadata": {
        "id": "kKHDNATov83X"
      }
    },
    {
      "cell_type": "markdown",
      "source": [
        "**Задание 5**"
      ],
      "metadata": {
        "id": "wZPQjWd6whGN"
      }
    },
    {
      "cell_type": "code",
      "source": [
        "# Количество квартир в разных регионах\n",
        "df_7_clean = df_2_clean.copy()"
      ],
      "metadata": {
        "id": "9MH2f05zvSuO"
      },
      "execution_count": 62,
      "outputs": []
    },
    {
      "cell_type": "code",
      "source": [
        "df_7_clean.head(2)"
      ],
      "metadata": {
        "colab": {
          "base_uri": "https://localhost:8080/",
          "height": 260
        },
        "id": "44v7zq-Rqyu5",
        "outputId": "2732f113-2a63-4a41-cea6-658d541076f8"
      },
      "execution_count": 63,
      "outputs": [
        {
          "output_type": "execute_result",
          "data": {
            "text/plain": [
              "     id                                   Название обьекта  \\\n",
              "0  1259                           \"СМАРТ дом на Новоселов\"   \n",
              "1  1284  Жилой Комплекс \"Мир Митино\" (сокращенное наиме...   \n",
              "\n",
              "                                               Адрес  Регион Срок сдачи  \\\n",
              "0                     г Рязань, улица Бугровка, д. 0      62 2023-12-31   \n",
              "1  г Москва, район внутригородское муниципальное ...      77 2024-12-31   \n",
              "\n",
              "   Стоимость м.кв. Класс жилья  Кол-во квартир  Максимум этажей  \\\n",
              "0            63806     Типовой             440               27   \n",
              "1            40330     Типовой            1115               27   \n",
              "\n",
              "   Минимум этажей  Грузоподъемность лифтов  Парковочные места  \\\n",
              "0              27                        4                  0   \n",
              "1              27                       14                  0   \n",
              "\n",
              "   Наличие велодорожки  Детские площадки  Спортивные площадки   Застройщик  \\\n",
              "0                    0                 1                    0     КРИСТАЛЛ   \n",
              "1                    0                 1                    2  РОЖДЕСТВЕНО   \n",
              "\n",
              "  Год сдачи Месяц сдачи День недели сдачи  \n",
              "0      2023          12            Sunday  \n",
              "1      2024          12           Tuesday  "
            ],
            "text/html": [
              "\n",
              "  <div id=\"df-8e8459fc-02e7-4c4a-8b7c-caaf6a1c47b3\">\n",
              "    <div class=\"colab-df-container\">\n",
              "      <div>\n",
              "<style scoped>\n",
              "    .dataframe tbody tr th:only-of-type {\n",
              "        vertical-align: middle;\n",
              "    }\n",
              "\n",
              "    .dataframe tbody tr th {\n",
              "        vertical-align: top;\n",
              "    }\n",
              "\n",
              "    .dataframe thead th {\n",
              "        text-align: right;\n",
              "    }\n",
              "</style>\n",
              "<table border=\"1\" class=\"dataframe\">\n",
              "  <thead>\n",
              "    <tr style=\"text-align: right;\">\n",
              "      <th></th>\n",
              "      <th>id</th>\n",
              "      <th>Название обьекта</th>\n",
              "      <th>Адрес</th>\n",
              "      <th>Регион</th>\n",
              "      <th>Срок сдачи</th>\n",
              "      <th>Стоимость м.кв.</th>\n",
              "      <th>Класс жилья</th>\n",
              "      <th>Кол-во квартир</th>\n",
              "      <th>Максимум этажей</th>\n",
              "      <th>Минимум этажей</th>\n",
              "      <th>Грузоподъемность лифтов</th>\n",
              "      <th>Парковочные места</th>\n",
              "      <th>Наличие велодорожки</th>\n",
              "      <th>Детские площадки</th>\n",
              "      <th>Спортивные площадки</th>\n",
              "      <th>Застройщик</th>\n",
              "      <th>Год сдачи</th>\n",
              "      <th>Месяц сдачи</th>\n",
              "      <th>День недели сдачи</th>\n",
              "    </tr>\n",
              "  </thead>\n",
              "  <tbody>\n",
              "    <tr>\n",
              "      <th>0</th>\n",
              "      <td>1259</td>\n",
              "      <td>\"СМАРТ дом на Новоселов\"</td>\n",
              "      <td>г Рязань, улица Бугровка, д. 0</td>\n",
              "      <td>62</td>\n",
              "      <td>2023-12-31</td>\n",
              "      <td>63806</td>\n",
              "      <td>Типовой</td>\n",
              "      <td>440</td>\n",
              "      <td>27</td>\n",
              "      <td>27</td>\n",
              "      <td>4</td>\n",
              "      <td>0</td>\n",
              "      <td>0</td>\n",
              "      <td>1</td>\n",
              "      <td>0</td>\n",
              "      <td>КРИСТАЛЛ</td>\n",
              "      <td>2023</td>\n",
              "      <td>12</td>\n",
              "      <td>Sunday</td>\n",
              "    </tr>\n",
              "    <tr>\n",
              "      <th>1</th>\n",
              "      <td>1284</td>\n",
              "      <td>Жилой Комплекс \"Мир Митино\" (сокращенное наиме...</td>\n",
              "      <td>г Москва, район внутригородское муниципальное ...</td>\n",
              "      <td>77</td>\n",
              "      <td>2024-12-31</td>\n",
              "      <td>40330</td>\n",
              "      <td>Типовой</td>\n",
              "      <td>1115</td>\n",
              "      <td>27</td>\n",
              "      <td>27</td>\n",
              "      <td>14</td>\n",
              "      <td>0</td>\n",
              "      <td>0</td>\n",
              "      <td>1</td>\n",
              "      <td>2</td>\n",
              "      <td>РОЖДЕСТВЕНО</td>\n",
              "      <td>2024</td>\n",
              "      <td>12</td>\n",
              "      <td>Tuesday</td>\n",
              "    </tr>\n",
              "  </tbody>\n",
              "</table>\n",
              "</div>\n",
              "      <button class=\"colab-df-convert\" onclick=\"convertToInteractive('df-8e8459fc-02e7-4c4a-8b7c-caaf6a1c47b3')\"\n",
              "              title=\"Convert this dataframe to an interactive table.\"\n",
              "              style=\"display:none;\">\n",
              "        \n",
              "  <svg xmlns=\"http://www.w3.org/2000/svg\" height=\"24px\"viewBox=\"0 0 24 24\"\n",
              "       width=\"24px\">\n",
              "    <path d=\"M0 0h24v24H0V0z\" fill=\"none\"/>\n",
              "    <path d=\"M18.56 5.44l.94 2.06.94-2.06 2.06-.94-2.06-.94-.94-2.06-.94 2.06-2.06.94zm-11 1L8.5 8.5l.94-2.06 2.06-.94-2.06-.94L8.5 2.5l-.94 2.06-2.06.94zm10 10l.94 2.06.94-2.06 2.06-.94-2.06-.94-.94-2.06-.94 2.06-2.06.94z\"/><path d=\"M17.41 7.96l-1.37-1.37c-.4-.4-.92-.59-1.43-.59-.52 0-1.04.2-1.43.59L10.3 9.45l-7.72 7.72c-.78.78-.78 2.05 0 2.83L4 21.41c.39.39.9.59 1.41.59.51 0 1.02-.2 1.41-.59l7.78-7.78 2.81-2.81c.8-.78.8-2.07 0-2.86zM5.41 20L4 18.59l7.72-7.72 1.47 1.35L5.41 20z\"/>\n",
              "  </svg>\n",
              "      </button>\n",
              "      \n",
              "  <style>\n",
              "    .colab-df-container {\n",
              "      display:flex;\n",
              "      flex-wrap:wrap;\n",
              "      gap: 12px;\n",
              "    }\n",
              "\n",
              "    .colab-df-convert {\n",
              "      background-color: #E8F0FE;\n",
              "      border: none;\n",
              "      border-radius: 50%;\n",
              "      cursor: pointer;\n",
              "      display: none;\n",
              "      fill: #1967D2;\n",
              "      height: 32px;\n",
              "      padding: 0 0 0 0;\n",
              "      width: 32px;\n",
              "    }\n",
              "\n",
              "    .colab-df-convert:hover {\n",
              "      background-color: #E2EBFA;\n",
              "      box-shadow: 0px 1px 2px rgba(60, 64, 67, 0.3), 0px 1px 3px 1px rgba(60, 64, 67, 0.15);\n",
              "      fill: #174EA6;\n",
              "    }\n",
              "\n",
              "    [theme=dark] .colab-df-convert {\n",
              "      background-color: #3B4455;\n",
              "      fill: #D2E3FC;\n",
              "    }\n",
              "\n",
              "    [theme=dark] .colab-df-convert:hover {\n",
              "      background-color: #434B5C;\n",
              "      box-shadow: 0px 1px 3px 1px rgba(0, 0, 0, 0.15);\n",
              "      filter: drop-shadow(0px 1px 2px rgba(0, 0, 0, 0.3));\n",
              "      fill: #FFFFFF;\n",
              "    }\n",
              "  </style>\n",
              "\n",
              "      <script>\n",
              "        const buttonEl =\n",
              "          document.querySelector('#df-8e8459fc-02e7-4c4a-8b7c-caaf6a1c47b3 button.colab-df-convert');\n",
              "        buttonEl.style.display =\n",
              "          google.colab.kernel.accessAllowed ? 'block' : 'none';\n",
              "\n",
              "        async function convertToInteractive(key) {\n",
              "          const element = document.querySelector('#df-8e8459fc-02e7-4c4a-8b7c-caaf6a1c47b3');\n",
              "          const dataTable =\n",
              "            await google.colab.kernel.invokeFunction('convertToInteractive',\n",
              "                                                     [key], {});\n",
              "          if (!dataTable) return;\n",
              "\n",
              "          const docLinkHtml = 'Like what you see? Visit the ' +\n",
              "            '<a target=\"_blank\" href=https://colab.research.google.com/notebooks/data_table.ipynb>data table notebook</a>'\n",
              "            + ' to learn more about interactive tables.';\n",
              "          element.innerHTML = '';\n",
              "          dataTable['output_type'] = 'display_data';\n",
              "          await google.colab.output.renderOutput(dataTable, element);\n",
              "          const docLink = document.createElement('div');\n",
              "          docLink.innerHTML = docLinkHtml;\n",
              "          element.appendChild(docLink);\n",
              "        }\n",
              "      </script>\n",
              "    </div>\n",
              "  </div>\n",
              "  "
            ]
          },
          "metadata": {},
          "execution_count": 63
        }
      ]
    },
    {
      "cell_type": "code",
      "source": [
        "# Оставляем нужные столбцы\n",
        "df_7_clean = df_7_clean[['Регион','id','Кол-во квартир',]]\n",
        "df_7_clean.head(3)"
      ],
      "metadata": {
        "colab": {
          "base_uri": "https://localhost:8080/",
          "height": 143
        },
        "id": "F4ddefQwqyxe",
        "outputId": "148ae308-4f00-45dd-e35e-4bbefa47cc94"
      },
      "execution_count": 64,
      "outputs": [
        {
          "output_type": "execute_result",
          "data": {
            "text/plain": [
              "   Регион    id  Кол-во квартир\n",
              "0      62  1259             440\n",
              "1      77  1284            1115\n",
              "2      18  1804             168"
            ],
            "text/html": [
              "\n",
              "  <div id=\"df-6812cd46-6559-40b0-a66e-d286890c2958\">\n",
              "    <div class=\"colab-df-container\">\n",
              "      <div>\n",
              "<style scoped>\n",
              "    .dataframe tbody tr th:only-of-type {\n",
              "        vertical-align: middle;\n",
              "    }\n",
              "\n",
              "    .dataframe tbody tr th {\n",
              "        vertical-align: top;\n",
              "    }\n",
              "\n",
              "    .dataframe thead th {\n",
              "        text-align: right;\n",
              "    }\n",
              "</style>\n",
              "<table border=\"1\" class=\"dataframe\">\n",
              "  <thead>\n",
              "    <tr style=\"text-align: right;\">\n",
              "      <th></th>\n",
              "      <th>Регион</th>\n",
              "      <th>id</th>\n",
              "      <th>Кол-во квартир</th>\n",
              "    </tr>\n",
              "  </thead>\n",
              "  <tbody>\n",
              "    <tr>\n",
              "      <th>0</th>\n",
              "      <td>62</td>\n",
              "      <td>1259</td>\n",
              "      <td>440</td>\n",
              "    </tr>\n",
              "    <tr>\n",
              "      <th>1</th>\n",
              "      <td>77</td>\n",
              "      <td>1284</td>\n",
              "      <td>1115</td>\n",
              "    </tr>\n",
              "    <tr>\n",
              "      <th>2</th>\n",
              "      <td>18</td>\n",
              "      <td>1804</td>\n",
              "      <td>168</td>\n",
              "    </tr>\n",
              "  </tbody>\n",
              "</table>\n",
              "</div>\n",
              "      <button class=\"colab-df-convert\" onclick=\"convertToInteractive('df-6812cd46-6559-40b0-a66e-d286890c2958')\"\n",
              "              title=\"Convert this dataframe to an interactive table.\"\n",
              "              style=\"display:none;\">\n",
              "        \n",
              "  <svg xmlns=\"http://www.w3.org/2000/svg\" height=\"24px\"viewBox=\"0 0 24 24\"\n",
              "       width=\"24px\">\n",
              "    <path d=\"M0 0h24v24H0V0z\" fill=\"none\"/>\n",
              "    <path d=\"M18.56 5.44l.94 2.06.94-2.06 2.06-.94-2.06-.94-.94-2.06-.94 2.06-2.06.94zm-11 1L8.5 8.5l.94-2.06 2.06-.94-2.06-.94L8.5 2.5l-.94 2.06-2.06.94zm10 10l.94 2.06.94-2.06 2.06-.94-2.06-.94-.94-2.06-.94 2.06-2.06.94z\"/><path d=\"M17.41 7.96l-1.37-1.37c-.4-.4-.92-.59-1.43-.59-.52 0-1.04.2-1.43.59L10.3 9.45l-7.72 7.72c-.78.78-.78 2.05 0 2.83L4 21.41c.39.39.9.59 1.41.59.51 0 1.02-.2 1.41-.59l7.78-7.78 2.81-2.81c.8-.78.8-2.07 0-2.86zM5.41 20L4 18.59l7.72-7.72 1.47 1.35L5.41 20z\"/>\n",
              "  </svg>\n",
              "      </button>\n",
              "      \n",
              "  <style>\n",
              "    .colab-df-container {\n",
              "      display:flex;\n",
              "      flex-wrap:wrap;\n",
              "      gap: 12px;\n",
              "    }\n",
              "\n",
              "    .colab-df-convert {\n",
              "      background-color: #E8F0FE;\n",
              "      border: none;\n",
              "      border-radius: 50%;\n",
              "      cursor: pointer;\n",
              "      display: none;\n",
              "      fill: #1967D2;\n",
              "      height: 32px;\n",
              "      padding: 0 0 0 0;\n",
              "      width: 32px;\n",
              "    }\n",
              "\n",
              "    .colab-df-convert:hover {\n",
              "      background-color: #E2EBFA;\n",
              "      box-shadow: 0px 1px 2px rgba(60, 64, 67, 0.3), 0px 1px 3px 1px rgba(60, 64, 67, 0.15);\n",
              "      fill: #174EA6;\n",
              "    }\n",
              "\n",
              "    [theme=dark] .colab-df-convert {\n",
              "      background-color: #3B4455;\n",
              "      fill: #D2E3FC;\n",
              "    }\n",
              "\n",
              "    [theme=dark] .colab-df-convert:hover {\n",
              "      background-color: #434B5C;\n",
              "      box-shadow: 0px 1px 3px 1px rgba(0, 0, 0, 0.15);\n",
              "      filter: drop-shadow(0px 1px 2px rgba(0, 0, 0, 0.3));\n",
              "      fill: #FFFFFF;\n",
              "    }\n",
              "  </style>\n",
              "\n",
              "      <script>\n",
              "        const buttonEl =\n",
              "          document.querySelector('#df-6812cd46-6559-40b0-a66e-d286890c2958 button.colab-df-convert');\n",
              "        buttonEl.style.display =\n",
              "          google.colab.kernel.accessAllowed ? 'block' : 'none';\n",
              "\n",
              "        async function convertToInteractive(key) {\n",
              "          const element = document.querySelector('#df-6812cd46-6559-40b0-a66e-d286890c2958');\n",
              "          const dataTable =\n",
              "            await google.colab.kernel.invokeFunction('convertToInteractive',\n",
              "                                                     [key], {});\n",
              "          if (!dataTable) return;\n",
              "\n",
              "          const docLinkHtml = 'Like what you see? Visit the ' +\n",
              "            '<a target=\"_blank\" href=https://colab.research.google.com/notebooks/data_table.ipynb>data table notebook</a>'\n",
              "            + ' to learn more about interactive tables.';\n",
              "          element.innerHTML = '';\n",
              "          dataTable['output_type'] = 'display_data';\n",
              "          await google.colab.output.renderOutput(dataTable, element);\n",
              "          const docLink = document.createElement('div');\n",
              "          docLink.innerHTML = docLinkHtml;\n",
              "          element.appendChild(docLink);\n",
              "        }\n",
              "      </script>\n",
              "    </div>\n",
              "  </div>\n",
              "  "
            ]
          },
          "metadata": {},
          "execution_count": 64
        }
      ]
    },
    {
      "cell_type": "code",
      "source": [
        "# Вычисляем количество квартир в разных регионах\n",
        "df_flat_1 = df_7_clean.groupby('Регион')['Кол-во квартир'].count()\n",
        "df_flat_1.head(5)"
      ],
      "metadata": {
        "colab": {
          "base_uri": "https://localhost:8080/"
        },
        "id": "Fi98sCqNqyzf",
        "outputId": "9524bc7c-8426-4ae4-85fe-6b2c144aff7d"
      },
      "execution_count": 65,
      "outputs": [
        {
          "output_type": "execute_result",
          "data": {
            "text/plain": [
              "Регион\n",
              "1     25\n",
              "2     27\n",
              "3     11\n",
              "5      4\n",
              "10     8\n",
              "Name: Кол-во квартир, dtype: int64"
            ]
          },
          "metadata": {},
          "execution_count": 65
        }
      ]
    },
    {
      "cell_type": "code",
      "source": [
        "# Делаем датафрейм для визуализации\n",
        "df_flat_2 = df_flat_1.reset_index()\n",
        "df_flat_2.head()"
      ],
      "metadata": {
        "colab": {
          "base_uri": "https://localhost:8080/",
          "height": 206
        },
        "id": "XPRzgzRFsaQp",
        "outputId": "9ad0327f-046f-4986-e3c6-092225480e48"
      },
      "execution_count": 66,
      "outputs": [
        {
          "output_type": "execute_result",
          "data": {
            "text/plain": [
              "   Регион  Кол-во квартир\n",
              "0       1              25\n",
              "1       2              27\n",
              "2       3              11\n",
              "3       5               4\n",
              "4      10               8"
            ],
            "text/html": [
              "\n",
              "  <div id=\"df-02af0a35-5755-4cce-b933-abbce08a9a58\">\n",
              "    <div class=\"colab-df-container\">\n",
              "      <div>\n",
              "<style scoped>\n",
              "    .dataframe tbody tr th:only-of-type {\n",
              "        vertical-align: middle;\n",
              "    }\n",
              "\n",
              "    .dataframe tbody tr th {\n",
              "        vertical-align: top;\n",
              "    }\n",
              "\n",
              "    .dataframe thead th {\n",
              "        text-align: right;\n",
              "    }\n",
              "</style>\n",
              "<table border=\"1\" class=\"dataframe\">\n",
              "  <thead>\n",
              "    <tr style=\"text-align: right;\">\n",
              "      <th></th>\n",
              "      <th>Регион</th>\n",
              "      <th>Кол-во квартир</th>\n",
              "    </tr>\n",
              "  </thead>\n",
              "  <tbody>\n",
              "    <tr>\n",
              "      <th>0</th>\n",
              "      <td>1</td>\n",
              "      <td>25</td>\n",
              "    </tr>\n",
              "    <tr>\n",
              "      <th>1</th>\n",
              "      <td>2</td>\n",
              "      <td>27</td>\n",
              "    </tr>\n",
              "    <tr>\n",
              "      <th>2</th>\n",
              "      <td>3</td>\n",
              "      <td>11</td>\n",
              "    </tr>\n",
              "    <tr>\n",
              "      <th>3</th>\n",
              "      <td>5</td>\n",
              "      <td>4</td>\n",
              "    </tr>\n",
              "    <tr>\n",
              "      <th>4</th>\n",
              "      <td>10</td>\n",
              "      <td>8</td>\n",
              "    </tr>\n",
              "  </tbody>\n",
              "</table>\n",
              "</div>\n",
              "      <button class=\"colab-df-convert\" onclick=\"convertToInteractive('df-02af0a35-5755-4cce-b933-abbce08a9a58')\"\n",
              "              title=\"Convert this dataframe to an interactive table.\"\n",
              "              style=\"display:none;\">\n",
              "        \n",
              "  <svg xmlns=\"http://www.w3.org/2000/svg\" height=\"24px\"viewBox=\"0 0 24 24\"\n",
              "       width=\"24px\">\n",
              "    <path d=\"M0 0h24v24H0V0z\" fill=\"none\"/>\n",
              "    <path d=\"M18.56 5.44l.94 2.06.94-2.06 2.06-.94-2.06-.94-.94-2.06-.94 2.06-2.06.94zm-11 1L8.5 8.5l.94-2.06 2.06-.94-2.06-.94L8.5 2.5l-.94 2.06-2.06.94zm10 10l.94 2.06.94-2.06 2.06-.94-2.06-.94-.94-2.06-.94 2.06-2.06.94z\"/><path d=\"M17.41 7.96l-1.37-1.37c-.4-.4-.92-.59-1.43-.59-.52 0-1.04.2-1.43.59L10.3 9.45l-7.72 7.72c-.78.78-.78 2.05 0 2.83L4 21.41c.39.39.9.59 1.41.59.51 0 1.02-.2 1.41-.59l7.78-7.78 2.81-2.81c.8-.78.8-2.07 0-2.86zM5.41 20L4 18.59l7.72-7.72 1.47 1.35L5.41 20z\"/>\n",
              "  </svg>\n",
              "      </button>\n",
              "      \n",
              "  <style>\n",
              "    .colab-df-container {\n",
              "      display:flex;\n",
              "      flex-wrap:wrap;\n",
              "      gap: 12px;\n",
              "    }\n",
              "\n",
              "    .colab-df-convert {\n",
              "      background-color: #E8F0FE;\n",
              "      border: none;\n",
              "      border-radius: 50%;\n",
              "      cursor: pointer;\n",
              "      display: none;\n",
              "      fill: #1967D2;\n",
              "      height: 32px;\n",
              "      padding: 0 0 0 0;\n",
              "      width: 32px;\n",
              "    }\n",
              "\n",
              "    .colab-df-convert:hover {\n",
              "      background-color: #E2EBFA;\n",
              "      box-shadow: 0px 1px 2px rgba(60, 64, 67, 0.3), 0px 1px 3px 1px rgba(60, 64, 67, 0.15);\n",
              "      fill: #174EA6;\n",
              "    }\n",
              "\n",
              "    [theme=dark] .colab-df-convert {\n",
              "      background-color: #3B4455;\n",
              "      fill: #D2E3FC;\n",
              "    }\n",
              "\n",
              "    [theme=dark] .colab-df-convert:hover {\n",
              "      background-color: #434B5C;\n",
              "      box-shadow: 0px 1px 3px 1px rgba(0, 0, 0, 0.15);\n",
              "      filter: drop-shadow(0px 1px 2px rgba(0, 0, 0, 0.3));\n",
              "      fill: #FFFFFF;\n",
              "    }\n",
              "  </style>\n",
              "\n",
              "      <script>\n",
              "        const buttonEl =\n",
              "          document.querySelector('#df-02af0a35-5755-4cce-b933-abbce08a9a58 button.colab-df-convert');\n",
              "        buttonEl.style.display =\n",
              "          google.colab.kernel.accessAllowed ? 'block' : 'none';\n",
              "\n",
              "        async function convertToInteractive(key) {\n",
              "          const element = document.querySelector('#df-02af0a35-5755-4cce-b933-abbce08a9a58');\n",
              "          const dataTable =\n",
              "            await google.colab.kernel.invokeFunction('convertToInteractive',\n",
              "                                                     [key], {});\n",
              "          if (!dataTable) return;\n",
              "\n",
              "          const docLinkHtml = 'Like what you see? Visit the ' +\n",
              "            '<a target=\"_blank\" href=https://colab.research.google.com/notebooks/data_table.ipynb>data table notebook</a>'\n",
              "            + ' to learn more about interactive tables.';\n",
              "          element.innerHTML = '';\n",
              "          dataTable['output_type'] = 'display_data';\n",
              "          await google.colab.output.renderOutput(dataTable, element);\n",
              "          const docLink = document.createElement('div');\n",
              "          docLink.innerHTML = docLinkHtml;\n",
              "          element.appendChild(docLink);\n",
              "        }\n",
              "      </script>\n",
              "    </div>\n",
              "  </div>\n",
              "  "
            ]
          },
          "metadata": {},
          "execution_count": 66
        }
      ]
    },
    {
      "cell_type": "code",
      "source": [
        "rcParams['figure.figsize'] = 10,5\n",
        "plt.scatter(df_flat_2['Регион'], df_flat_2['Кол-во квартир'] ,label='Суммарное кол-во квартир', color='g')   \n",
        "plt.xlabel('Регионы')   \n",
        "plt.ylabel('Количество Квартир')   \n",
        "plt.title('Диаграмма рассеяния кол-во квартир к регионам')   \n",
        "plt.legend()   \n",
        "plt.show() "
      ],
      "metadata": {
        "colab": {
          "base_uri": "https://localhost:8080/",
          "height": 350
        },
        "id": "5Wi26U02qy3m",
        "outputId": "0d3adaec-c607-49a7-be41-357798447f24"
      },
      "execution_count": 67,
      "outputs": [
        {
          "output_type": "display_data",
          "data": {
            "text/plain": [
              "<Figure size 720x360 with 1 Axes>"
            ],
            "image/png": "[encoded data removed]"
          },
          "metadata": {
            "needs_background": "light"
          }
        }
      ]
    },
    {
      "cell_type": "markdown",
      "source": [
        "**Вывод**\n",
        "* До 40 квартир будет сдано практически во всех регионах\n",
        "* Все регионы с номером 80+ имеют просадку по количеству сдаваемого жилья\n",
        "* Обнаружены аномально высокие значения \n",
        "  * В регионе с 20-25\n",
        "  * В регионе с 77-80\n",
        "  * В регионе с 48-52\n",
        "  * Эти данные нужно будет проверить дополнительно"
      ],
      "metadata": {
        "id": "OmW_KXgfuEg4"
      }
    },
    {
      "cell_type": "markdown",
      "source": [
        "**Задание 6**"
      ],
      "metadata": {
        "id": "QKF_TlB2wjxm"
      }
    },
    {
      "cell_type": "code",
      "source": [
        "# Жилую площадь в разных регионах\n",
        "df_8_clean = df_2_clean.copy()\n",
        "df_8_clean.head(2)"
      ],
      "metadata": {
        "id": "63bfUkeSvSwl",
        "colab": {
          "base_uri": "https://localhost:8080/",
          "height": 260
        },
        "outputId": "4f08d6f4-be7c-4c42-d402-32032a6ccaba"
      },
      "execution_count": 68,
      "outputs": [
        {
          "output_type": "execute_result",
          "data": {
            "text/plain": [
              "     id                                   Название обьекта  \\\n",
              "0  1259                           \"СМАРТ дом на Новоселов\"   \n",
              "1  1284  Жилой Комплекс \"Мир Митино\" (сокращенное наиме...   \n",
              "\n",
              "                                               Адрес  Регион Срок сдачи  \\\n",
              "0                     г Рязань, улица Бугровка, д. 0      62 2023-12-31   \n",
              "1  г Москва, район внутригородское муниципальное ...      77 2024-12-31   \n",
              "\n",
              "   Стоимость м.кв. Класс жилья  Кол-во квартир  Максимум этажей  \\\n",
              "0            63806     Типовой             440               27   \n",
              "1            40330     Типовой            1115               27   \n",
              "\n",
              "   Минимум этажей  Грузоподъемность лифтов  Парковочные места  \\\n",
              "0              27                        4                  0   \n",
              "1              27                       14                  0   \n",
              "\n",
              "   Наличие велодорожки  Детские площадки  Спортивные площадки   Застройщик  \\\n",
              "0                    0                 1                    0     КРИСТАЛЛ   \n",
              "1                    0                 1                    2  РОЖДЕСТВЕНО   \n",
              "\n",
              "  Год сдачи Месяц сдачи День недели сдачи  \n",
              "0      2023          12            Sunday  \n",
              "1      2024          12           Tuesday  "
            ],
            "text/html": [
              "\n",
              "  <div id=\"df-11295880-ede8-4a0a-9721-70a81e97d0f8\">\n",
              "    <div class=\"colab-df-container\">\n",
              "      <div>\n",
              "<style scoped>\n",
              "    .dataframe tbody tr th:only-of-type {\n",
              "        vertical-align: middle;\n",
              "    }\n",
              "\n",
              "    .dataframe tbody tr th {\n",
              "        vertical-align: top;\n",
              "    }\n",
              "\n",
              "    .dataframe thead th {\n",
              "        text-align: right;\n",
              "    }\n",
              "</style>\n",
              "<table border=\"1\" class=\"dataframe\">\n",
              "  <thead>\n",
              "    <tr style=\"text-align: right;\">\n",
              "      <th></th>\n",
              "      <th>id</th>\n",
              "      <th>Название обьекта</th>\n",
              "      <th>Адрес</th>\n",
              "      <th>Регион</th>\n",
              "      <th>Срок сдачи</th>\n",
              "      <th>Стоимость м.кв.</th>\n",
              "      <th>Класс жилья</th>\n",
              "      <th>Кол-во квартир</th>\n",
              "      <th>Максимум этажей</th>\n",
              "      <th>Минимум этажей</th>\n",
              "      <th>Грузоподъемность лифтов</th>\n",
              "      <th>Парковочные места</th>\n",
              "      <th>Наличие велодорожки</th>\n",
              "      <th>Детские площадки</th>\n",
              "      <th>Спортивные площадки</th>\n",
              "      <th>Застройщик</th>\n",
              "      <th>Год сдачи</th>\n",
              "      <th>Месяц сдачи</th>\n",
              "      <th>День недели сдачи</th>\n",
              "    </tr>\n",
              "  </thead>\n",
              "  <tbody>\n",
              "    <tr>\n",
              "      <th>0</th>\n",
              "      <td>1259</td>\n",
              "      <td>\"СМАРТ дом на Новоселов\"</td>\n",
              "      <td>г Рязань, улица Бугровка, д. 0</td>\n",
              "      <td>62</td>\n",
              "      <td>2023-12-31</td>\n",
              "      <td>63806</td>\n",
              "      <td>Типовой</td>\n",
              "      <td>440</td>\n",
              "      <td>27</td>\n",
              "      <td>27</td>\n",
              "      <td>4</td>\n",
              "      <td>0</td>\n",
              "      <td>0</td>\n",
              "      <td>1</td>\n",
              "      <td>0</td>\n",
              "      <td>КРИСТАЛЛ</td>\n",
              "      <td>2023</td>\n",
              "      <td>12</td>\n",
              "      <td>Sunday</td>\n",
              "    </tr>\n",
              "    <tr>\n",
              "      <th>1</th>\n",
              "      <td>1284</td>\n",
              "      <td>Жилой Комплекс \"Мир Митино\" (сокращенное наиме...</td>\n",
              "      <td>г Москва, район внутригородское муниципальное ...</td>\n",
              "      <td>77</td>\n",
              "      <td>2024-12-31</td>\n",
              "      <td>40330</td>\n",
              "      <td>Типовой</td>\n",
              "      <td>1115</td>\n",
              "      <td>27</td>\n",
              "      <td>27</td>\n",
              "      <td>14</td>\n",
              "      <td>0</td>\n",
              "      <td>0</td>\n",
              "      <td>1</td>\n",
              "      <td>2</td>\n",
              "      <td>РОЖДЕСТВЕНО</td>\n",
              "      <td>2024</td>\n",
              "      <td>12</td>\n",
              "      <td>Tuesday</td>\n",
              "    </tr>\n",
              "  </tbody>\n",
              "</table>\n",
              "</div>\n",
              "      <button class=\"colab-df-convert\" onclick=\"convertToInteractive('df-11295880-ede8-4a0a-9721-70a81e97d0f8')\"\n",
              "              title=\"Convert this dataframe to an interactive table.\"\n",
              "              style=\"display:none;\">\n",
              "        \n",
              "  <svg xmlns=\"http://www.w3.org/2000/svg\" height=\"24px\"viewBox=\"0 0 24 24\"\n",
              "       width=\"24px\">\n",
              "    <path d=\"M0 0h24v24H0V0z\" fill=\"none\"/>\n",
              "    <path d=\"M18.56 5.44l.94 2.06.94-2.06 2.06-.94-2.06-.94-.94-2.06-.94 2.06-2.06.94zm-11 1L8.5 8.5l.94-2.06 2.06-.94-2.06-.94L8.5 2.5l-.94 2.06-2.06.94zm10 10l.94 2.06.94-2.06 2.06-.94-2.06-.94-.94-2.06-.94 2.06-2.06.94z\"/><path d=\"M17.41 7.96l-1.37-1.37c-.4-.4-.92-.59-1.43-.59-.52 0-1.04.2-1.43.59L10.3 9.45l-7.72 7.72c-.78.78-.78 2.05 0 2.83L4 21.41c.39.39.9.59 1.41.59.51 0 1.02-.2 1.41-.59l7.78-7.78 2.81-2.81c.8-.78.8-2.07 0-2.86zM5.41 20L4 18.59l7.72-7.72 1.47 1.35L5.41 20z\"/>\n",
              "  </svg>\n",
              "      </button>\n",
              "      \n",
              "  <style>\n",
              "    .colab-df-container {\n",
              "      display:flex;\n",
              "      flex-wrap:wrap;\n",
              "      gap: 12px;\n",
              "    }\n",
              "\n",
              "    .colab-df-convert {\n",
              "      background-color: #E8F0FE;\n",
              "      border: none;\n",
              "      border-radius: 50%;\n",
              "      cursor: pointer;\n",
              "      display: none;\n",
              "      fill: #1967D2;\n",
              "      height: 32px;\n",
              "      padding: 0 0 0 0;\n",
              "      width: 32px;\n",
              "    }\n",
              "\n",
              "    .colab-df-convert:hover {\n",
              "      background-color: #E2EBFA;\n",
              "      box-shadow: 0px 1px 2px rgba(60, 64, 67, 0.3), 0px 1px 3px 1px rgba(60, 64, 67, 0.15);\n",
              "      fill: #174EA6;\n",
              "    }\n",
              "\n",
              "    [theme=dark] .colab-df-convert {\n",
              "      background-color: #3B4455;\n",
              "      fill: #D2E3FC;\n",
              "    }\n",
              "\n",
              "    [theme=dark] .colab-df-convert:hover {\n",
              "      background-color: #434B5C;\n",
              "      box-shadow: 0px 1px 3px 1px rgba(0, 0, 0, 0.15);\n",
              "      filter: drop-shadow(0px 1px 2px rgba(0, 0, 0, 0.3));\n",
              "      fill: #FFFFFF;\n",
              "    }\n",
              "  </style>\n",
              "\n",
              "      <script>\n",
              "        const buttonEl =\n",
              "          document.querySelector('#df-11295880-ede8-4a0a-9721-70a81e97d0f8 button.colab-df-convert');\n",
              "        buttonEl.style.display =\n",
              "          google.colab.kernel.accessAllowed ? 'block' : 'none';\n",
              "\n",
              "        async function convertToInteractive(key) {\n",
              "          const element = document.querySelector('#df-11295880-ede8-4a0a-9721-70a81e97d0f8');\n",
              "          const dataTable =\n",
              "            await google.colab.kernel.invokeFunction('convertToInteractive',\n",
              "                                                     [key], {});\n",
              "          if (!dataTable) return;\n",
              "\n",
              "          const docLinkHtml = 'Like what you see? Visit the ' +\n",
              "            '<a target=\"_blank\" href=https://colab.research.google.com/notebooks/data_table.ipynb>data table notebook</a>'\n",
              "            + ' to learn more about interactive tables.';\n",
              "          element.innerHTML = '';\n",
              "          dataTable['output_type'] = 'display_data';\n",
              "          await google.colab.output.renderOutput(dataTable, element);\n",
              "          const docLink = document.createElement('div');\n",
              "          docLink.innerHTML = docLinkHtml;\n",
              "          element.appendChild(docLink);\n",
              "        }\n",
              "      </script>\n",
              "    </div>\n",
              "  </div>\n",
              "  "
            ]
          },
          "metadata": {},
          "execution_count": 68
        }
      ]
    },
    {
      "cell_type": "code",
      "source": [
        "# На этом моменте я обнаружил, что ранее не скачивал данные по жил. площади, поэтому в \n",
        "# текущем ноутбуке выгружу новы df, для реализации задачи"
      ],
      "metadata": {
        "id": "_4avBhiVu4pm"
      },
      "execution_count": 69,
      "outputs": []
    },
    {
      "cell_type": "code",
      "source": [
        "import requests\n",
        "from collections import defaultdict\n",
        "from tqdm.auto import tqdm"
      ],
      "metadata": {
        "id": "NLUZVb1Pu4sW"
      },
      "execution_count": 70,
      "outputs": []
    },
    {
      "cell_type": "markdown",
      "source": [
        "Описание ниже проводимых шагов можно посмотреть здесь\n",
        "https://github.com/IKAR42/SberDS_Study/blob/main/Python_%22Task1_dmrf_ipynb%22.ipynb"
      ],
      "metadata": {
        "id": "a7W1yzNAv6SF"
      }
    },
    {
      "cell_type": "code",
      "source": [
        "offset_ = 1\n",
        "limit_ = 5000\n",
        "url = f'https://xn--80az8a.xn--d1aqf.xn--p1ai/%D1%81%D0%B5%D1%80%D0%B2%D0%B8%D1%81%D1%8B/api/kn/object?offset={offset_}&limit={limit_}&sortField=devId.devShortCleanNm&sortType=asc&objStatus=0'\n",
        "res = requests.get(url)\n",
        "objects_data = res.json()\n",
        "objects_data.get('data').get('list')[0]"
      ],
      "metadata": {
        "colab": {
          "base_uri": "https://localhost:8080/"
        },
        "id": "d_Pg7uAGu4u0",
        "outputId": "efbabb13-05b1-4aa5-cc77-58635ba8ed09"
      },
      "execution_count": null,
      "outputs": [
        {
          "output_type": "execute_result",
          "data": {
            "text/plain": [
              "{'hobjId': 39024,\n",
              " 'objId': 13383,\n",
              " 'developer': {'devId': 306,\n",
              "  'shortName': '2МЕН ГРУПП',\n",
              "  'fullName': '2МЕН ГРУПП',\n",
              "  'groupName': '2МЕН ГРУПП ДЕВЕЛОПМЕНТ',\n",
              "  'orgForm': {'id': 1, 'fullForm': 'Акционерное общество', 'shortForm': 'АО'},\n",
              "  'companyGroup': 5776,\n",
              "  'devInn': '7701651356'},\n",
              " 'rpdRegionCd': 72,\n",
              " 'objAddr': 'г Тюмень',\n",
              " 'objFloorMin': 4,\n",
              " 'objFloorMax': 20,\n",
              " 'objElemLivingCnt': 68,\n",
              " 'objReady100PercDt': '2023-03-31',\n",
              " 'objSquareLiving': 6296.55,\n",
              " 'objCompensFundFlg': 1,\n",
              " 'objProblemFlg': 0,\n",
              " 'latitude': 57.1519,\n",
              " 'longitude': 65.5536,\n",
              " 'problemFlag': 'NONE',\n",
              " 'siteStatus': 'Строящиеся',\n",
              " 'objGuarantyEscrowFlg': 0,\n",
              " 'residentialBuildings': 1,\n",
              " 'rpdNum': '72-000095',\n",
              " 'pdId': 28105,\n",
              " 'buildType': 'Жилое',\n",
              " 'objStatus': 0}"
            ]
          },
          "metadata": {},
          "execution_count": 112
        }
      ]
    },
    {
      "cell_type": "code",
      "source": [
        "objects_list = objects_data.get('data').get('list')\n",
        "obj_ids = [x.get('objId') for x in objects_list]\n",
        "obj_ids[:10]\n",
        "len(obj_ids)"
      ],
      "metadata": {
        "colab": {
          "base_uri": "https://localhost:8080/"
        },
        "id": "Ep2nc6ivu4xb",
        "outputId": "b8e44494-2ecf-4841-af31-25b0a71267ea"
      },
      "execution_count": null,
      "outputs": [
        {
          "output_type": "execute_result",
          "data": {
            "text/plain": [
              "5000"
            ]
          },
          "metadata": {},
          "execution_count": 123
        }
      ]
    },
    {
      "cell_type": "code",
      "source": [
        "tab_dict_7 = defaultdict(list)"
      ],
      "metadata": {
        "id": "Rermo9kbu4z2"
      },
      "execution_count": null,
      "outputs": []
    },
    {
      "cell_type": "code",
      "source": [
        "for id in tqdm(obj_ids):\n",
        "    url = f'https://xn--80az8a.xn--d1aqf.xn--p1ai/%D1%81%D0%B5%D1%80%D0%B2%D0%B8%D1%81%D1%8B/api/object/{id}'\n",
        "    res = requests.get(url)\n",
        "    one_object = res.json()\n",
        "    tab_dict_7['Регион'].append(one_object.get('data').get('region'))\n",
        "    tab_dict_7['Жил. площадь'].append(one_object.get('data').get('objSquareLiving'))"
      ],
      "metadata": {
        "colab": {
          "base_uri": "https://localhost:8080/",
          "height": 49,
          "referenced_widgets": [
            "86471d038d1846ef95d011e1a7bacf88",
            "1dc5c6e2a5964dda8afdc7c50ccf5eda",
            "31894ab662da4c3ca1ef02ef90d16f3d",
            "a14f9bbbf1c74a6ab113c0878997d2c9",
            "198f932e63b24f42921a58427c112753",
            "d770703d331a475bbe17d813f7d01a88",
            "a9f18c9e9a4d45a98a8219b9f54050e6",
            "14d1bf4aa3fd4fecb37f44d4f5b4bf60",
            "b5abed408c5340499fd12e3560fdb2d5",
            "f349d9fb9dc94e128a62f8ab6bd637ee",
            "a027955a442f45299a766e50a906d865"
          ]
        },
        "id": "x5mkgU3Hu43J",
        "outputId": "e6d50b19-2abc-4933-c173-4f64736e83bc"
      },
      "execution_count": null,
      "outputs": [
        {
          "output_type": "display_data",
          "data": {
            "text/plain": [
              "  0%|          | 0/5000 [00:00<?, ?it/s]"
            ],
            "application/vnd.jupyter.widget-view+json": {
              "version_major": 2,
              "version_minor": 0,
              "model_id": "86471d038d1846ef95d011e1a7bacf88"
            }
          },
          "metadata": {}
        }
      ]
    },
    {
      "cell_type": "code",
      "source": [
        "df_11 = pd.DataFrame(tab_dict_7)\n",
        "df_11.head(5)"
      ],
      "metadata": {
        "colab": {
          "base_uri": "https://localhost:8080/",
          "height": 206
        },
        "id": "czJV2Zp-wZke",
        "outputId": "d833c4c3-92f3-4f5c-d937-18a9f42b07af"
      },
      "execution_count": null,
      "outputs": [
        {
          "output_type": "execute_result",
          "data": {
            "text/plain": [
              "   Регион  Жил. площадь\n",
              "0      72       6296.55\n",
              "1      72       4812.98\n",
              "2      72       6248.51\n",
              "3      72          0.00\n",
              "4      26       8295.20"
            ],
            "text/html": [
              "\n",
              "  <div id=\"df-edc38539-b30f-4507-8ea8-19a62b891b04\">\n",
              "    <div class=\"colab-df-container\">\n",
              "      <div>\n",
              "<style scoped>\n",
              "    .dataframe tbody tr th:only-of-type {\n",
              "        vertical-align: middle;\n",
              "    }\n",
              "\n",
              "    .dataframe tbody tr th {\n",
              "        vertical-align: top;\n",
              "    }\n",
              "\n",
              "    .dataframe thead th {\n",
              "        text-align: right;\n",
              "    }\n",
              "</style>\n",
              "<table border=\"1\" class=\"dataframe\">\n",
              "  <thead>\n",
              "    <tr style=\"text-align: right;\">\n",
              "      <th></th>\n",
              "      <th>Регион</th>\n",
              "      <th>Жил. площадь</th>\n",
              "    </tr>\n",
              "  </thead>\n",
              "  <tbody>\n",
              "    <tr>\n",
              "      <th>0</th>\n",
              "      <td>72</td>\n",
              "      <td>6296.55</td>\n",
              "    </tr>\n",
              "    <tr>\n",
              "      <th>1</th>\n",
              "      <td>72</td>\n",
              "      <td>4812.98</td>\n",
              "    </tr>\n",
              "    <tr>\n",
              "      <th>2</th>\n",
              "      <td>72</td>\n",
              "      <td>6248.51</td>\n",
              "    </tr>\n",
              "    <tr>\n",
              "      <th>3</th>\n",
              "      <td>72</td>\n",
              "      <td>0.00</td>\n",
              "    </tr>\n",
              "    <tr>\n",
              "      <th>4</th>\n",
              "      <td>26</td>\n",
              "      <td>8295.20</td>\n",
              "    </tr>\n",
              "  </tbody>\n",
              "</table>\n",
              "</div>\n",
              "      <button class=\"colab-df-convert\" onclick=\"convertToInteractive('df-edc38539-b30f-4507-8ea8-19a62b891b04')\"\n",
              "              title=\"Convert this dataframe to an interactive table.\"\n",
              "              style=\"display:none;\">\n",
              "        \n",
              "  <svg xmlns=\"http://www.w3.org/2000/svg\" height=\"24px\"viewBox=\"0 0 24 24\"\n",
              "       width=\"24px\">\n",
              "    <path d=\"M0 0h24v24H0V0z\" fill=\"none\"/>\n",
              "    <path d=\"M18.56 5.44l.94 2.06.94-2.06 2.06-.94-2.06-.94-.94-2.06-.94 2.06-2.06.94zm-11 1L8.5 8.5l.94-2.06 2.06-.94-2.06-.94L8.5 2.5l-.94 2.06-2.06.94zm10 10l.94 2.06.94-2.06 2.06-.94-2.06-.94-.94-2.06-.94 2.06-2.06.94z\"/><path d=\"M17.41 7.96l-1.37-1.37c-.4-.4-.92-.59-1.43-.59-.52 0-1.04.2-1.43.59L10.3 9.45l-7.72 7.72c-.78.78-.78 2.05 0 2.83L4 21.41c.39.39.9.59 1.41.59.51 0 1.02-.2 1.41-.59l7.78-7.78 2.81-2.81c.8-.78.8-2.07 0-2.86zM5.41 20L4 18.59l7.72-7.72 1.47 1.35L5.41 20z\"/>\n",
              "  </svg>\n",
              "      </button>\n",
              "      \n",
              "  <style>\n",
              "    .colab-df-container {\n",
              "      display:flex;\n",
              "      flex-wrap:wrap;\n",
              "      gap: 12px;\n",
              "    }\n",
              "\n",
              "    .colab-df-convert {\n",
              "      background-color: #E8F0FE;\n",
              "      border: none;\n",
              "      border-radius: 50%;\n",
              "      cursor: pointer;\n",
              "      display: none;\n",
              "      fill: #1967D2;\n",
              "      height: 32px;\n",
              "      padding: 0 0 0 0;\n",
              "      width: 32px;\n",
              "    }\n",
              "\n",
              "    .colab-df-convert:hover {\n",
              "      background-color: #E2EBFA;\n",
              "      box-shadow: 0px 1px 2px rgba(60, 64, 67, 0.3), 0px 1px 3px 1px rgba(60, 64, 67, 0.15);\n",
              "      fill: #174EA6;\n",
              "    }\n",
              "\n",
              "    [theme=dark] .colab-df-convert {\n",
              "      background-color: #3B4455;\n",
              "      fill: #D2E3FC;\n",
              "    }\n",
              "\n",
              "    [theme=dark] .colab-df-convert:hover {\n",
              "      background-color: #434B5C;\n",
              "      box-shadow: 0px 1px 3px 1px rgba(0, 0, 0, 0.15);\n",
              "      filter: drop-shadow(0px 1px 2px rgba(0, 0, 0, 0.3));\n",
              "      fill: #FFFFFF;\n",
              "    }\n",
              "  </style>\n",
              "\n",
              "      <script>\n",
              "        const buttonEl =\n",
              "          document.querySelector('#df-edc38539-b30f-4507-8ea8-19a62b891b04 button.colab-df-convert');\n",
              "        buttonEl.style.display =\n",
              "          google.colab.kernel.accessAllowed ? 'block' : 'none';\n",
              "\n",
              "        async function convertToInteractive(key) {\n",
              "          const element = document.querySelector('#df-edc38539-b30f-4507-8ea8-19a62b891b04');\n",
              "          const dataTable =\n",
              "            await google.colab.kernel.invokeFunction('convertToInteractive',\n",
              "                                                     [key], {});\n",
              "          if (!dataTable) return;\n",
              "\n",
              "          const docLinkHtml = 'Like what you see? Visit the ' +\n",
              "            '<a target=\"_blank\" href=https://colab.research.google.com/notebooks/data_table.ipynb>data table notebook</a>'\n",
              "            + ' to learn more about interactive tables.';\n",
              "          element.innerHTML = '';\n",
              "          dataTable['output_type'] = 'display_data';\n",
              "          await google.colab.output.renderOutput(dataTable, element);\n",
              "          const docLink = document.createElement('div');\n",
              "          docLink.innerHTML = docLinkHtml;\n",
              "          element.appendChild(docLink);\n",
              "        }\n",
              "      </script>\n",
              "    </div>\n",
              "  </div>\n",
              "  "
            ]
          },
          "metadata": {},
          "execution_count": 131
        }
      ]
    },
    {
      "cell_type": "code",
      "source": [
        "df_11.info()"
      ],
      "metadata": {
        "colab": {
          "base_uri": "https://localhost:8080/"
        },
        "id": "CAeseJAQwZm7",
        "outputId": "00a670bd-d049-4134-f7ec-4adb4f9ff219"
      },
      "execution_count": null,
      "outputs": [
        {
          "output_type": "stream",
          "name": "stdout",
          "text": [
            "<class 'pandas.core.frame.DataFrame'>\n",
            "RangeIndex: 5000 entries, 0 to 4999\n",
            "Data columns (total 2 columns):\n",
            " #   Column        Non-Null Count  Dtype  \n",
            "---  ------        --------------  -----  \n",
            " 0   Регион        5000 non-null   int64  \n",
            " 1   Жил. площадь  5000 non-null   float64\n",
            "dtypes: float64(1), int64(1)\n",
            "memory usage: 78.2 KB\n"
          ]
        }
      ]
    },
    {
      "cell_type": "code",
      "source": [
        "df_11.to_excel(\"./drive/MyDrive/Hometask 2(excel).xlsx\", index=False)"
      ],
      "metadata": {
        "id": "il9eYp0j9XaP"
      },
      "execution_count": null,
      "outputs": []
    },
    {
      "cell_type": "code",
      "source": [
        "# Т.к. доделывал в другой день, заново подгрузил дата сет\n",
        "df_12 = pd.read_excel(\"./drive/MyDrive/Hometask 2(excel).xlsx\")\n",
        "df_12.head(3)"
      ],
      "metadata": {
        "colab": {
          "base_uri": "https://localhost:8080/",
          "height": 143
        },
        "id": "QkG1ooePb_n8",
        "outputId": "fab0923a-e7c7-486a-b55c-ab40a4880479"
      },
      "execution_count": 71,
      "outputs": [
        {
          "output_type": "execute_result",
          "data": {
            "text/plain": [
              "   Регион  Жил. площадь\n",
              "0      72       6296.55\n",
              "1      72       4812.98\n",
              "2      72       6248.51"
            ],
            "text/html": [
              "\n",
              "  <div id=\"df-9e320890-fa91-48cf-abc6-4a008ea9f6eb\">\n",
              "    <div class=\"colab-df-container\">\n",
              "      <div>\n",
              "<style scoped>\n",
              "    .dataframe tbody tr th:only-of-type {\n",
              "        vertical-align: middle;\n",
              "    }\n",
              "\n",
              "    .dataframe tbody tr th {\n",
              "        vertical-align: top;\n",
              "    }\n",
              "\n",
              "    .dataframe thead th {\n",
              "        text-align: right;\n",
              "    }\n",
              "</style>\n",
              "<table border=\"1\" class=\"dataframe\">\n",
              "  <thead>\n",
              "    <tr style=\"text-align: right;\">\n",
              "      <th></th>\n",
              "      <th>Регион</th>\n",
              "      <th>Жил. площадь</th>\n",
              "    </tr>\n",
              "  </thead>\n",
              "  <tbody>\n",
              "    <tr>\n",
              "      <th>0</th>\n",
              "      <td>72</td>\n",
              "      <td>6296.55</td>\n",
              "    </tr>\n",
              "    <tr>\n",
              "      <th>1</th>\n",
              "      <td>72</td>\n",
              "      <td>4812.98</td>\n",
              "    </tr>\n",
              "    <tr>\n",
              "      <th>2</th>\n",
              "      <td>72</td>\n",
              "      <td>6248.51</td>\n",
              "    </tr>\n",
              "  </tbody>\n",
              "</table>\n",
              "</div>\n",
              "      <button class=\"colab-df-convert\" onclick=\"convertToInteractive('df-9e320890-fa91-48cf-abc6-4a008ea9f6eb')\"\n",
              "              title=\"Convert this dataframe to an interactive table.\"\n",
              "              style=\"display:none;\">\n",
              "        \n",
              "  <svg xmlns=\"http://www.w3.org/2000/svg\" height=\"24px\"viewBox=\"0 0 24 24\"\n",
              "       width=\"24px\">\n",
              "    <path d=\"M0 0h24v24H0V0z\" fill=\"none\"/>\n",
              "    <path d=\"M18.56 5.44l.94 2.06.94-2.06 2.06-.94-2.06-.94-.94-2.06-.94 2.06-2.06.94zm-11 1L8.5 8.5l.94-2.06 2.06-.94-2.06-.94L8.5 2.5l-.94 2.06-2.06.94zm10 10l.94 2.06.94-2.06 2.06-.94-2.06-.94-.94-2.06-.94 2.06-2.06.94z\"/><path d=\"M17.41 7.96l-1.37-1.37c-.4-.4-.92-.59-1.43-.59-.52 0-1.04.2-1.43.59L10.3 9.45l-7.72 7.72c-.78.78-.78 2.05 0 2.83L4 21.41c.39.39.9.59 1.41.59.51 0 1.02-.2 1.41-.59l7.78-7.78 2.81-2.81c.8-.78.8-2.07 0-2.86zM5.41 20L4 18.59l7.72-7.72 1.47 1.35L5.41 20z\"/>\n",
              "  </svg>\n",
              "      </button>\n",
              "      \n",
              "  <style>\n",
              "    .colab-df-container {\n",
              "      display:flex;\n",
              "      flex-wrap:wrap;\n",
              "      gap: 12px;\n",
              "    }\n",
              "\n",
              "    .colab-df-convert {\n",
              "      background-color: #E8F0FE;\n",
              "      border: none;\n",
              "      border-radius: 50%;\n",
              "      cursor: pointer;\n",
              "      display: none;\n",
              "      fill: #1967D2;\n",
              "      height: 32px;\n",
              "      padding: 0 0 0 0;\n",
              "      width: 32px;\n",
              "    }\n",
              "\n",
              "    .colab-df-convert:hover {\n",
              "      background-color: #E2EBFA;\n",
              "      box-shadow: 0px 1px 2px rgba(60, 64, 67, 0.3), 0px 1px 3px 1px rgba(60, 64, 67, 0.15);\n",
              "      fill: #174EA6;\n",
              "    }\n",
              "\n",
              "    [theme=dark] .colab-df-convert {\n",
              "      background-color: #3B4455;\n",
              "      fill: #D2E3FC;\n",
              "    }\n",
              "\n",
              "    [theme=dark] .colab-df-convert:hover {\n",
              "      background-color: #434B5C;\n",
              "      box-shadow: 0px 1px 3px 1px rgba(0, 0, 0, 0.15);\n",
              "      filter: drop-shadow(0px 1px 2px rgba(0, 0, 0, 0.3));\n",
              "      fill: #FFFFFF;\n",
              "    }\n",
              "  </style>\n",
              "\n",
              "      <script>\n",
              "        const buttonEl =\n",
              "          document.querySelector('#df-9e320890-fa91-48cf-abc6-4a008ea9f6eb button.colab-df-convert');\n",
              "        buttonEl.style.display =\n",
              "          google.colab.kernel.accessAllowed ? 'block' : 'none';\n",
              "\n",
              "        async function convertToInteractive(key) {\n",
              "          const element = document.querySelector('#df-9e320890-fa91-48cf-abc6-4a008ea9f6eb');\n",
              "          const dataTable =\n",
              "            await google.colab.kernel.invokeFunction('convertToInteractive',\n",
              "                                                     [key], {});\n",
              "          if (!dataTable) return;\n",
              "\n",
              "          const docLinkHtml = 'Like what you see? Visit the ' +\n",
              "            '<a target=\"_blank\" href=https://colab.research.google.com/notebooks/data_table.ipynb>data table notebook</a>'\n",
              "            + ' to learn more about interactive tables.';\n",
              "          element.innerHTML = '';\n",
              "          dataTable['output_type'] = 'display_data';\n",
              "          await google.colab.output.renderOutput(dataTable, element);\n",
              "          const docLink = document.createElement('div');\n",
              "          docLink.innerHTML = docLinkHtml;\n",
              "          element.appendChild(docLink);\n",
              "        }\n",
              "      </script>\n",
              "    </div>\n",
              "  </div>\n",
              "  "
            ]
          },
          "metadata": {},
          "execution_count": 71
        }
      ]
    },
    {
      "cell_type": "code",
      "source": [
        "# Делаем агрегат\n",
        "df_sl = df_12.groupby('Регион')['Жил. площадь'].count()\n",
        "df_sl.head()"
      ],
      "metadata": {
        "colab": {
          "base_uri": "https://localhost:8080/"
        },
        "id": "9siAI7hZwZrw",
        "outputId": "b2b61689-d8fc-4dff-bc42-50fa85bafbf2"
      },
      "execution_count": 72,
      "outputs": [
        {
          "output_type": "execute_result",
          "data": {
            "text/plain": [
              "Регион\n",
              "1    33\n",
              "2    94\n",
              "3    31\n",
              "4     1\n",
              "5    11\n",
              "Name: Жил. площадь, dtype: int64"
            ]
          },
          "metadata": {},
          "execution_count": 72
        }
      ]
    },
    {
      "cell_type": "code",
      "source": [
        "# Визуализируем\n",
        "import seaborn as sns\n",
        "sns_plot = sns.distplot(df_sl)\n",
        "fig = sns_plot.get_figure()"
      ],
      "metadata": {
        "colab": {
          "base_uri": "https://localhost:8080/",
          "height": 389
        },
        "id": "KR3iIqUIw__3",
        "outputId": "6144e737-a95e-4b1d-c52e-1c1c87f20c80"
      },
      "execution_count": 73,
      "outputs": [
        {
          "output_type": "stream",
          "name": "stderr",
          "text": [
            "/usr/local/lib/python3.8/dist-packages/seaborn/distributions.py:2619: FutureWarning: `distplot` is a deprecated function and will be removed in a future version. Please adapt your code to use either `displot` (a figure-level function with similar flexibility) or `histplot` (an axes-level function for histograms).\n",
            "  warnings.warn(msg, FutureWarning)\n"
          ]
        },
        {
          "output_type": "display_data",
          "data": {
            "text/plain": [
              "<Figure size 720x360 with 1 Axes>"
            ],
            "image/png": "[encoded data removed]"
          },
          "metadata": {
            "needs_background": "light"
          }
        }
      ]
    },
    {
      "cell_type": "code",
      "source": [
        "# Визуализируем\n",
        "q = df_sl.hist()\n",
        "fig = q.get_figure()"
      ],
      "metadata": {
        "colab": {
          "base_uri": "https://localhost:8080/",
          "height": 320
        },
        "id": "0OXN2ekHxACM",
        "outputId": "5761e58f-8f62-4c1a-e6f0-dd7e8e3d0440"
      },
      "execution_count": 74,
      "outputs": [
        {
          "output_type": "display_data",
          "data": {
            "text/plain": [
              "<Figure size 720x360 with 1 Axes>"
            ],
            "image/png": "[encoded data removed]"
          },
          "metadata": {
            "needs_background": "light"
          }
        }
      ]
    },
    {
      "cell_type": "code",
      "source": [
        "# Визуализируем\n",
        "rcParams['figure.figsize'] = 10,15\n",
        "df_sl.plot(kind='barh') \n",
        "plt.title(\"Жил. Площадь к региону\")\n",
        "plt.xlabel('Жил. Площадь')\n",
        "plt.ylabel('Регион')\n",
        "plt.show()"
      ],
      "metadata": {
        "colab": {
          "base_uri": "https://localhost:8080/",
          "height": 893
        },
        "id": "q1wy2IsDRC-8",
        "outputId": "170e3fd1-297f-479c-9429-d9a02c2d4d74"
      },
      "execution_count": 75,
      "outputs": [
        {
          "output_type": "display_data",
          "data": {
            "text/plain": [
              "<Figure size 720x1080 with 1 Axes>"
            ],
            "image/png": "[encoded data removed]"
          },
          "metadata": {
            "needs_background": "light"
          }
        }
      ]
    },
    {
      "cell_type": "markdown",
      "source": [
        "**Вывод:**\n",
        "* Самое большое количество жил. площади планируется сдать в регионах\n",
        "  * 23 - Краснодарский край\n",
        "  * 77 - г. Москва\n",
        "  * 78 - Санкт-Петербург\n",
        "* Во всех регионах планируются к сдаче обьекты с жилплощадью до 50 кв.м."
      ],
      "metadata": {
        "id": "z0yHJtKdwCmW"
      }
    },
    {
      "cell_type": "markdown",
      "source": [
        "**Задание 7**"
      ],
      "metadata": {
        "id": "_akThv-8wmnX"
      }
    },
    {
      "cell_type": "code",
      "source": [
        "# Количество парковочных мест в разных регионах\n",
        "df_9_clean = df_2_clean.copy()\n",
        "df_9_clean.head(2)"
      ],
      "metadata": {
        "id": "K2FnwfIBvSzX",
        "colab": {
          "base_uri": "https://localhost:8080/",
          "height": 260
        },
        "outputId": "03fcd7bf-9ffa-4b7b-d139-5539013c7872"
      },
      "execution_count": 76,
      "outputs": [
        {
          "output_type": "execute_result",
          "data": {
            "text/plain": [
              "     id                                   Название обьекта  \\\n",
              "0  1259                           \"СМАРТ дом на Новоселов\"   \n",
              "1  1284  Жилой Комплекс \"Мир Митино\" (сокращенное наиме...   \n",
              "\n",
              "                                               Адрес  Регион Срок сдачи  \\\n",
              "0                     г Рязань, улица Бугровка, д. 0      62 2023-12-31   \n",
              "1  г Москва, район внутригородское муниципальное ...      77 2024-12-31   \n",
              "\n",
              "   Стоимость м.кв. Класс жилья  Кол-во квартир  Максимум этажей  \\\n",
              "0            63806     Типовой             440               27   \n",
              "1            40330     Типовой            1115               27   \n",
              "\n",
              "   Минимум этажей  Грузоподъемность лифтов  Парковочные места  \\\n",
              "0              27                        4                  0   \n",
              "1              27                       14                  0   \n",
              "\n",
              "   Наличие велодорожки  Детские площадки  Спортивные площадки   Застройщик  \\\n",
              "0                    0                 1                    0     КРИСТАЛЛ   \n",
              "1                    0                 1                    2  РОЖДЕСТВЕНО   \n",
              "\n",
              "  Год сдачи Месяц сдачи День недели сдачи  \n",
              "0      2023          12            Sunday  \n",
              "1      2024          12           Tuesday  "
            ],
            "text/html": [
              "\n",
              "  <div id=\"df-af8c2285-4433-4e37-9639-b758ea579b8b\">\n",
              "    <div class=\"colab-df-container\">\n",
              "      <div>\n",
              "<style scoped>\n",
              "    .dataframe tbody tr th:only-of-type {\n",
              "        vertical-align: middle;\n",
              "    }\n",
              "\n",
              "    .dataframe tbody tr th {\n",
              "        vertical-align: top;\n",
              "    }\n",
              "\n",
              "    .dataframe thead th {\n",
              "        text-align: right;\n",
              "    }\n",
              "</style>\n",
              "<table border=\"1\" class=\"dataframe\">\n",
              "  <thead>\n",
              "    <tr style=\"text-align: right;\">\n",
              "      <th></th>\n",
              "      <th>id</th>\n",
              "      <th>Название обьекта</th>\n",
              "      <th>Адрес</th>\n",
              "      <th>Регион</th>\n",
              "      <th>Срок сдачи</th>\n",
              "      <th>Стоимость м.кв.</th>\n",
              "      <th>Класс жилья</th>\n",
              "      <th>Кол-во квартир</th>\n",
              "      <th>Максимум этажей</th>\n",
              "      <th>Минимум этажей</th>\n",
              "      <th>Грузоподъемность лифтов</th>\n",
              "      <th>Парковочные места</th>\n",
              "      <th>Наличие велодорожки</th>\n",
              "      <th>Детские площадки</th>\n",
              "      <th>Спортивные площадки</th>\n",
              "      <th>Застройщик</th>\n",
              "      <th>Год сдачи</th>\n",
              "      <th>Месяц сдачи</th>\n",
              "      <th>День недели сдачи</th>\n",
              "    </tr>\n",
              "  </thead>\n",
              "  <tbody>\n",
              "    <tr>\n",
              "      <th>0</th>\n",
              "      <td>1259</td>\n",
              "      <td>\"СМАРТ дом на Новоселов\"</td>\n",
              "      <td>г Рязань, улица Бугровка, д. 0</td>\n",
              "      <td>62</td>\n",
              "      <td>2023-12-31</td>\n",
              "      <td>63806</td>\n",
              "      <td>Типовой</td>\n",
              "      <td>440</td>\n",
              "      <td>27</td>\n",
              "      <td>27</td>\n",
              "      <td>4</td>\n",
              "      <td>0</td>\n",
              "      <td>0</td>\n",
              "      <td>1</td>\n",
              "      <td>0</td>\n",
              "      <td>КРИСТАЛЛ</td>\n",
              "      <td>2023</td>\n",
              "      <td>12</td>\n",
              "      <td>Sunday</td>\n",
              "    </tr>\n",
              "    <tr>\n",
              "      <th>1</th>\n",
              "      <td>1284</td>\n",
              "      <td>Жилой Комплекс \"Мир Митино\" (сокращенное наиме...</td>\n",
              "      <td>г Москва, район внутригородское муниципальное ...</td>\n",
              "      <td>77</td>\n",
              "      <td>2024-12-31</td>\n",
              "      <td>40330</td>\n",
              "      <td>Типовой</td>\n",
              "      <td>1115</td>\n",
              "      <td>27</td>\n",
              "      <td>27</td>\n",
              "      <td>14</td>\n",
              "      <td>0</td>\n",
              "      <td>0</td>\n",
              "      <td>1</td>\n",
              "      <td>2</td>\n",
              "      <td>РОЖДЕСТВЕНО</td>\n",
              "      <td>2024</td>\n",
              "      <td>12</td>\n",
              "      <td>Tuesday</td>\n",
              "    </tr>\n",
              "  </tbody>\n",
              "</table>\n",
              "</div>\n",
              "      <button class=\"colab-df-convert\" onclick=\"convertToInteractive('df-af8c2285-4433-4e37-9639-b758ea579b8b')\"\n",
              "              title=\"Convert this dataframe to an interactive table.\"\n",
              "              style=\"display:none;\">\n",
              "        \n",
              "  <svg xmlns=\"http://www.w3.org/2000/svg\" height=\"24px\"viewBox=\"0 0 24 24\"\n",
              "       width=\"24px\">\n",
              "    <path d=\"M0 0h24v24H0V0z\" fill=\"none\"/>\n",
              "    <path d=\"M18.56 5.44l.94 2.06.94-2.06 2.06-.94-2.06-.94-.94-2.06-.94 2.06-2.06.94zm-11 1L8.5 8.5l.94-2.06 2.06-.94-2.06-.94L8.5 2.5l-.94 2.06-2.06.94zm10 10l.94 2.06.94-2.06 2.06-.94-2.06-.94-.94-2.06-.94 2.06-2.06.94z\"/><path d=\"M17.41 7.96l-1.37-1.37c-.4-.4-.92-.59-1.43-.59-.52 0-1.04.2-1.43.59L10.3 9.45l-7.72 7.72c-.78.78-.78 2.05 0 2.83L4 21.41c.39.39.9.59 1.41.59.51 0 1.02-.2 1.41-.59l7.78-7.78 2.81-2.81c.8-.78.8-2.07 0-2.86zM5.41 20L4 18.59l7.72-7.72 1.47 1.35L5.41 20z\"/>\n",
              "  </svg>\n",
              "      </button>\n",
              "      \n",
              "  <style>\n",
              "    .colab-df-container {\n",
              "      display:flex;\n",
              "      flex-wrap:wrap;\n",
              "      gap: 12px;\n",
              "    }\n",
              "\n",
              "    .colab-df-convert {\n",
              "      background-color: #E8F0FE;\n",
              "      border: none;\n",
              "      border-radius: 50%;\n",
              "      cursor: pointer;\n",
              "      display: none;\n",
              "      fill: #1967D2;\n",
              "      height: 32px;\n",
              "      padding: 0 0 0 0;\n",
              "      width: 32px;\n",
              "    }\n",
              "\n",
              "    .colab-df-convert:hover {\n",
              "      background-color: #E2EBFA;\n",
              "      box-shadow: 0px 1px 2px rgba(60, 64, 67, 0.3), 0px 1px 3px 1px rgba(60, 64, 67, 0.15);\n",
              "      fill: #174EA6;\n",
              "    }\n",
              "\n",
              "    [theme=dark] .colab-df-convert {\n",
              "      background-color: #3B4455;\n",
              "      fill: #D2E3FC;\n",
              "    }\n",
              "\n",
              "    [theme=dark] .colab-df-convert:hover {\n",
              "      background-color: #434B5C;\n",
              "      box-shadow: 0px 1px 3px 1px rgba(0, 0, 0, 0.15);\n",
              "      filter: drop-shadow(0px 1px 2px rgba(0, 0, 0, 0.3));\n",
              "      fill: #FFFFFF;\n",
              "    }\n",
              "  </style>\n",
              "\n",
              "      <script>\n",
              "        const buttonEl =\n",
              "          document.querySelector('#df-af8c2285-4433-4e37-9639-b758ea579b8b button.colab-df-convert');\n",
              "        buttonEl.style.display =\n",
              "          google.colab.kernel.accessAllowed ? 'block' : 'none';\n",
              "\n",
              "        async function convertToInteractive(key) {\n",
              "          const element = document.querySelector('#df-af8c2285-4433-4e37-9639-b758ea579b8b');\n",
              "          const dataTable =\n",
              "            await google.colab.kernel.invokeFunction('convertToInteractive',\n",
              "                                                     [key], {});\n",
              "          if (!dataTable) return;\n",
              "\n",
              "          const docLinkHtml = 'Like what you see? Visit the ' +\n",
              "            '<a target=\"_blank\" href=https://colab.research.google.com/notebooks/data_table.ipynb>data table notebook</a>'\n",
              "            + ' to learn more about interactive tables.';\n",
              "          element.innerHTML = '';\n",
              "          dataTable['output_type'] = 'display_data';\n",
              "          await google.colab.output.renderOutput(dataTable, element);\n",
              "          const docLink = document.createElement('div');\n",
              "          docLink.innerHTML = docLinkHtml;\n",
              "          element.appendChild(docLink);\n",
              "        }\n",
              "      </script>\n",
              "    </div>\n",
              "  </div>\n",
              "  "
            ]
          },
          "metadata": {},
          "execution_count": 76
        }
      ]
    },
    {
      "cell_type": "code",
      "source": [
        "# Оставляем нужные столбцы\n",
        "df_9_clean = df_9_clean[['Регион','id','Парковочные места',]]\n",
        "df_9_clean.head(3)"
      ],
      "metadata": {
        "colab": {
          "base_uri": "https://localhost:8080/",
          "height": 143
        },
        "id": "Lfvi5Ih0ylI9",
        "outputId": "853f9d36-ee00-48a8-8a8f-80f727e51358"
      },
      "execution_count": 77,
      "outputs": [
        {
          "output_type": "execute_result",
          "data": {
            "text/plain": [
              "   Регион    id  Парковочные места\n",
              "0      62  1259                  0\n",
              "1      77  1284                  0\n",
              "2      18  1804                  0"
            ],
            "text/html": [
              "\n",
              "  <div id=\"df-f8f4763e-1350-4a36-8e4f-2a05dc9c5b0d\">\n",
              "    <div class=\"colab-df-container\">\n",
              "      <div>\n",
              "<style scoped>\n",
              "    .dataframe tbody tr th:only-of-type {\n",
              "        vertical-align: middle;\n",
              "    }\n",
              "\n",
              "    .dataframe tbody tr th {\n",
              "        vertical-align: top;\n",
              "    }\n",
              "\n",
              "    .dataframe thead th {\n",
              "        text-align: right;\n",
              "    }\n",
              "</style>\n",
              "<table border=\"1\" class=\"dataframe\">\n",
              "  <thead>\n",
              "    <tr style=\"text-align: right;\">\n",
              "      <th></th>\n",
              "      <th>Регион</th>\n",
              "      <th>id</th>\n",
              "      <th>Парковочные места</th>\n",
              "    </tr>\n",
              "  </thead>\n",
              "  <tbody>\n",
              "    <tr>\n",
              "      <th>0</th>\n",
              "      <td>62</td>\n",
              "      <td>1259</td>\n",
              "      <td>0</td>\n",
              "    </tr>\n",
              "    <tr>\n",
              "      <th>1</th>\n",
              "      <td>77</td>\n",
              "      <td>1284</td>\n",
              "      <td>0</td>\n",
              "    </tr>\n",
              "    <tr>\n",
              "      <th>2</th>\n",
              "      <td>18</td>\n",
              "      <td>1804</td>\n",
              "      <td>0</td>\n",
              "    </tr>\n",
              "  </tbody>\n",
              "</table>\n",
              "</div>\n",
              "      <button class=\"colab-df-convert\" onclick=\"convertToInteractive('df-f8f4763e-1350-4a36-8e4f-2a05dc9c5b0d')\"\n",
              "              title=\"Convert this dataframe to an interactive table.\"\n",
              "              style=\"display:none;\">\n",
              "        \n",
              "  <svg xmlns=\"http://www.w3.org/2000/svg\" height=\"24px\"viewBox=\"0 0 24 24\"\n",
              "       width=\"24px\">\n",
              "    <path d=\"M0 0h24v24H0V0z\" fill=\"none\"/>\n",
              "    <path d=\"M18.56 5.44l.94 2.06.94-2.06 2.06-.94-2.06-.94-.94-2.06-.94 2.06-2.06.94zm-11 1L8.5 8.5l.94-2.06 2.06-.94-2.06-.94L8.5 2.5l-.94 2.06-2.06.94zm10 10l.94 2.06.94-2.06 2.06-.94-2.06-.94-.94-2.06-.94 2.06-2.06.94z\"/><path d=\"M17.41 7.96l-1.37-1.37c-.4-.4-.92-.59-1.43-.59-.52 0-1.04.2-1.43.59L10.3 9.45l-7.72 7.72c-.78.78-.78 2.05 0 2.83L4 21.41c.39.39.9.59 1.41.59.51 0 1.02-.2 1.41-.59l7.78-7.78 2.81-2.81c.8-.78.8-2.07 0-2.86zM5.41 20L4 18.59l7.72-7.72 1.47 1.35L5.41 20z\"/>\n",
              "  </svg>\n",
              "      </button>\n",
              "      \n",
              "  <style>\n",
              "    .colab-df-container {\n",
              "      display:flex;\n",
              "      flex-wrap:wrap;\n",
              "      gap: 12px;\n",
              "    }\n",
              "\n",
              "    .colab-df-convert {\n",
              "      background-color: #E8F0FE;\n",
              "      border: none;\n",
              "      border-radius: 50%;\n",
              "      cursor: pointer;\n",
              "      display: none;\n",
              "      fill: #1967D2;\n",
              "      height: 32px;\n",
              "      padding: 0 0 0 0;\n",
              "      width: 32px;\n",
              "    }\n",
              "\n",
              "    .colab-df-convert:hover {\n",
              "      background-color: #E2EBFA;\n",
              "      box-shadow: 0px 1px 2px rgba(60, 64, 67, 0.3), 0px 1px 3px 1px rgba(60, 64, 67, 0.15);\n",
              "      fill: #174EA6;\n",
              "    }\n",
              "\n",
              "    [theme=dark] .colab-df-convert {\n",
              "      background-color: #3B4455;\n",
              "      fill: #D2E3FC;\n",
              "    }\n",
              "\n",
              "    [theme=dark] .colab-df-convert:hover {\n",
              "      background-color: #434B5C;\n",
              "      box-shadow: 0px 1px 3px 1px rgba(0, 0, 0, 0.15);\n",
              "      filter: drop-shadow(0px 1px 2px rgba(0, 0, 0, 0.3));\n",
              "      fill: #FFFFFF;\n",
              "    }\n",
              "  </style>\n",
              "\n",
              "      <script>\n",
              "        const buttonEl =\n",
              "          document.querySelector('#df-f8f4763e-1350-4a36-8e4f-2a05dc9c5b0d button.colab-df-convert');\n",
              "        buttonEl.style.display =\n",
              "          google.colab.kernel.accessAllowed ? 'block' : 'none';\n",
              "\n",
              "        async function convertToInteractive(key) {\n",
              "          const element = document.querySelector('#df-f8f4763e-1350-4a36-8e4f-2a05dc9c5b0d');\n",
              "          const dataTable =\n",
              "            await google.colab.kernel.invokeFunction('convertToInteractive',\n",
              "                                                     [key], {});\n",
              "          if (!dataTable) return;\n",
              "\n",
              "          const docLinkHtml = 'Like what you see? Visit the ' +\n",
              "            '<a target=\"_blank\" href=https://colab.research.google.com/notebooks/data_table.ipynb>data table notebook</a>'\n",
              "            + ' to learn more about interactive tables.';\n",
              "          element.innerHTML = '';\n",
              "          dataTable['output_type'] = 'display_data';\n",
              "          await google.colab.output.renderOutput(dataTable, element);\n",
              "          const docLink = document.createElement('div');\n",
              "          docLink.innerHTML = docLinkHtml;\n",
              "          element.appendChild(docLink);\n",
              "        }\n",
              "      </script>\n",
              "    </div>\n",
              "  </div>\n",
              "  "
            ]
          },
          "metadata": {},
          "execution_count": 77
        }
      ]
    },
    {
      "cell_type": "code",
      "source": [
        "# Делаем агрегат\n",
        "df_car_1 = df_9_clean.groupby('Регион')['Парковочные места'].count()\n",
        "df_car_1.head(3)"
      ],
      "metadata": {
        "colab": {
          "base_uri": "https://localhost:8080/"
        },
        "id": "IF0SLl-tzbyP",
        "outputId": "0ba0229c-4183-4db2-e37c-643230026be5"
      },
      "execution_count": 78,
      "outputs": [
        {
          "output_type": "execute_result",
          "data": {
            "text/plain": [
              "Регион\n",
              "1    25\n",
              "2    27\n",
              "3    11\n",
              "Name: Парковочные места, dtype: int64"
            ]
          },
          "metadata": {},
          "execution_count": 78
        }
      ]
    },
    {
      "cell_type": "code",
      "source": [
        "# Визуализируем\n",
        "rcParams['figure.figsize'] = 10,15\n",
        "df_car_1.plot(kind='barh') \n",
        "plt.title(\"Количество парковочных мест к региону\")\n",
        "plt.xlabel('Количество парковочных мест')\n",
        "plt.ylabel('Регион')\n",
        "plt.show()"
      ],
      "metadata": {
        "colab": {
          "base_uri": "https://localhost:8080/",
          "height": 893
        },
        "id": "_KCOnlj0ylLm",
        "outputId": "c9a9aef8-ee79-4914-ac34-734bd7be84cc"
      },
      "execution_count": 79,
      "outputs": [
        {
          "output_type": "display_data",
          "data": {
            "text/plain": [
              "<Figure size 720x1080 with 1 Axes>"
            ],
            "image/png": "[encoded data removed]"
          },
          "metadata": {
            "needs_background": "light"
          }
        }
      ]
    },
    {
      "cell_type": "markdown",
      "source": [
        "**Вывод:**\n",
        "* Количество парковочных мест имеет прямую корреляцию с количеством вводимой жилой площади, что позитивно скажется на инфраструктуре"
      ],
      "metadata": {
        "id": "IfsMJDJtwEuM"
      }
    },
    {
      "cell_type": "markdown",
      "source": [
        "### Homework 3. Классы (ООП)"
      ],
      "metadata": {
        "id": "YtPWpf8jZ_V8"
      }
    },
    {
      "cell_type": "markdown",
      "source": [
        "## Задание 1 (Класс для загрузки данных)"
      ],
      "metadata": {
        "id": "YTwzAJ-Xi6uQ"
      }
    },
    {
      "cell_type": "code",
      "source": [
        "# Запускаем код для инициализации класса\n",
        "class ObjectInfoExtractor:\n",
        "    def __init__(self):\n",
        "        import requests\n",
        "        from collections import defaultdict\n",
        "        import pandas as pd\n",
        "        from tqdm.auto import tqdm\n",
        "        self.ids = None\n",
        "        self.tab_dict = None\n",
        "        print(f'Класс инициализирован. Библиотеки загружены')\n",
        "\n",
        "    def load_id(self, ids):\n",
        "        offset_ = 1\n",
        "        limit_ = 10\n",
        "        url = f'https://xn--80az8a.xn--d1aqf.xn--p1ai/%D1%81%D0%B5%D1%80%D0%B2%D0%B8%D1%81%D1%8B/api/kn/object?offset={offset_}&limit={limit_}&sortField=devId.devShortCleanNm&sortType=asc&objStatus=0'\n",
        "        res = requests.get(url)\n",
        "        objects_data = res.json()\n",
        "        objects_list = objects_data.get('data').get('list')\n",
        "        self.ids = [x.get('objId') for x in objects_list]\n",
        "        print(f'Id объектов загружены')\n",
        "          \n",
        "    def make_dict(self, tab_dict):\n",
        "        self.tab_dict = defaultdict(list)\n",
        "        for id in tqdm(self.ids):\n",
        "          url = f'https://xn--80az8a.xn--d1aqf.xn--p1ai/%D1%81%D0%B5%D1%80%D0%B2%D0%B8%D1%81%D1%8B/api/object/{id}'\n",
        "          res = requests.get(url)\n",
        "          one_object = res.json()\n",
        "          self.tab_dict['id'].append(one_object.get('data').get('id'))\n",
        "          self.tab_dict['Название обьекта'].append(one_object.get('data').get('nameObj'))\n",
        "          self.tab_dict['Адрес'].append(one_object.get('data').get('address'))\n",
        "          self.tab_dict['Регион'].append(one_object.get('data').get('region'))\n",
        "          self.tab_dict['Срок сдачи'].append(one_object.get('data').get('objReady100PercDt'))\n",
        "        print(f'Словарь создан. Данные загружены') \n",
        "\n",
        "    def df_excel_save(self):\n",
        "        df_conv = pd.DataFrame(self.tab_dict)\n",
        "        x = df_conv.to_excel(\"./drive/MyDrive/conv_excel_1.xlsx\")\n",
        "        print(f'Файл в формате excel сохранен на Ваш Google диск')"
      ],
      "metadata": {
        "id": "uVVfQWhiW1lH"
      },
      "execution_count": 241,
      "outputs": []
    },
    {
      "cell_type": "code",
      "source": [
        "# Инициализируем класс\n",
        "w = ObjectInfoExtractor()"
      ],
      "metadata": {
        "id": "X_8CKnKGc0ry",
        "colab": {
          "base_uri": "https://localhost:8080/"
        },
        "outputId": "4011e96c-d673-41d2-f3a0-ab26b4258c08"
      },
      "execution_count": 242,
      "outputs": [
        {
          "output_type": "stream",
          "name": "stdout",
          "text": [
            "Класс инициализирован. Библиотеки загружены\n"
          ]
        }
      ]
    },
    {
      "cell_type": "code",
      "source": [
        "# Загружаем id обьектов\n",
        "w.load_id('ids')"
      ],
      "metadata": {
        "colab": {
          "base_uri": "https://localhost:8080/"
        },
        "id": "Lt10871Grb3D",
        "outputId": "3fd31389-d375-4baf-f4e9-5eddf4d38dda"
      },
      "execution_count": 243,
      "outputs": [
        {
          "output_type": "stream",
          "name": "stdout",
          "text": [
            "Id объектов загружены\n"
          ]
        }
      ]
    },
    {
      "cell_type": "code",
      "source": [
        "# Делаем словарь с атрибутами на основании выгруженных id\n",
        "w.make_dict('tab_dict')"
      ],
      "metadata": {
        "colab": {
          "base_uri": "https://localhost:8080/",
          "height": 66,
          "referenced_widgets": [
            "5e18eeb17e9248f1b15460cae698ae1b",
            "ff1255d449ab49298106d6e93b6e84dc",
            "502db1e5ebe04485b537fa277eef24ee",
            "39a788fae13d492b9394cda8fa4f6b2e",
            "e5b98499127a41918d5353dcdbde65a2",
            "6421e4d3f7794683b4f8595f931a1e16",
            "713951eccecc4fec8b9907e7cd092a1b",
            "e382708ebe784590b52f2da19330b5b4",
            "a5d77fe16aff4db19fa6503808dc0aec",
            "8a7b66c78f064659afb21a17ef64b17f",
            "12bbd3320a77467594f78ba79333fc01"
          ]
        },
        "id": "23Z5FvuSrb5z",
        "outputId": "a6b85fe2-0493-42b9-81ce-7d738aaa3767"
      },
      "execution_count": 244,
      "outputs": [
        {
          "output_type": "display_data",
          "data": {
            "text/plain": [
              "  0%|          | 0/10 [00:00<?, ?it/s]"
            ],
            "application/vnd.jupyter.widget-view+json": {
              "version_major": 2,
              "version_minor": 0,
              "model_id": "5e18eeb17e9248f1b15460cae698ae1b"
            }
          },
          "metadata": {}
        },
        {
          "output_type": "stream",
          "name": "stdout",
          "text": [
            "Словарь создан. Данные загружены\n"
          ]
        }
      ]
    },
    {
      "cell_type": "code",
      "source": [
        "# Сохраняем файл на диск для дальнейшей работы\n",
        "w.df_excel_save()"
      ],
      "metadata": {
        "colab": {
          "base_uri": "https://localhost:8080/"
        },
        "id": "NZ08CdOQrb8B",
        "outputId": "e27abbdb-3fb7-4413-e18e-ba64bd5428e1"
      },
      "execution_count": 245,
      "outputs": [
        {
          "output_type": "stream",
          "name": "stdout",
          "text": [
            "Файл в формате excel сохранен на Ваш Google диск\n"
          ]
        }
      ]
    },
    {
      "cell_type": "markdown",
      "source": [
        "![Снимок_1111.JPG](data:image/jpeg;base64,/9j/4AAQSkZJRgABAQEAYABgAAD/4RD+RXhpZgAATU0AKgAAAAgABAE7AAIAAAAZAAAISodpAAQAAAABAAAIZJydAAEAAAAaAAAQ3OocAAcAAAgMAAAAPgAAAAAc6gAAAAgAAAAAAAAAAAAAAAAAAAAAAAAAAAAAAAAAAAAAAAAAAAAAAAAAAAAAAAAAAAAAAAAAAAAAAAAAAAAAAAAAAAAAAAAAAAAAAAAAAAAAAAAAAAAAAAAAAAAAAAAAAAAAAAAAAAAAAAAAAAAAAAAAAAAAAAAAAAAAAAAAAAAAAAAAAAAAAAAAAAAAAAAAAAAAAAAAAAAAAAAAAAAAAAAAAAAAAAAAAAAAAAAAAAAAAAAAAAAAAAAAAAAAAAAAAAAAAAAAAAAAAAAAAAAAAAAAAAAAAAAAAAAAAAAAAAAAAAAAAAAAAAAAAAAAAAAAAAAAAAAAAAAAAAAAAAAAAAAAAAAAAAAAAAAAAAAAAAAAAAAAAAAAAAAAAAAAAAAAAAAAAAAAAAAAAAAAAAAAAAAAAAAAAAAAAAAAAAAAAAAAAAAAAAAAAAAAAAAAAAAAAAAAAAAAAAAAAAAAAAAAAAAAAAAAAAAAAAAAAAAAAAAAAAAAAAAAAAAAAAAAAAAAAAAAAAAAAAAAAAAAAAAAAAAAAAAAAAAAAAAAAAAAAAAAAAAAAAAAAAAAAAAAAAAAAAAAAAAAAAAAAAAAAAAAAAAAAAAAAAAAAAAAAAAAAAAAAAAAAAAAAAAAAAAAAAAAAAAAAAAAAAAAAAAAAAAAAAAAAAAAAAAAAAAAAAAAAAAAAAAAAAAAAAAAAAAAAAAAAAAAAAAAAAAAAAAAAAAAAAAAAAAAAAAAAAAAAAAAAAAAAAAAAAAAAAAAAAAAAAAAAAAAAAAAAAAAAAAAAAAAAAAAAAAAAAAAAAAAAAAAAAAAAAAAAAAAAAAAAAAAAAAAAAAAAAAAAAAAAAAAAAAAAAAAAAAAAAAAAAAAAAAAAAAAAAAAAAAAAAAAAAAAAAAAAAAAAAAAAAAAAAAAAAAAAAAAAAAAAAAAAAAAAAAAAAAAAAAAAAAAAAAAAAAAAAAAAAAAAAAAAAAAAAAAAAAAAAAAAAAAAAAAAAAAAAAAAAAAAAAAAAAAAAAAAAAAAAAAAAAAAAAAAAAAAAAAAAAAAAAAAAAAAAAAAAAAAAAAAAAAAAAAAAAAAAAAAAAAAAAAAAAAAAAAAAAAAAAAAAAAAAAAAAAAAAAAAAAAAAAAAAAAAAAAAAAAAAAAAAAAAAAAAAAAAAAAAAAAAAAAAAAAAAAAAAAAAAAAAAAAAAAAAAAAAAAAAAAAAAAAAAAAAAAAAAAAAAAAAAAAAAAAAAAAAAAAAAAAAAAAAAAAAAAAAAAAAAAAAAAAAAAAAAAAAAAAAAAAAAAAAAAAAAAAAAAAAAAAAAAAAAAAAAAAAAAAAAAAAAAAAAAAAAAAAAAAAAAAAAAAAAAAAAAAAAAAAAAAAAAAAAAAAAAAAAAAAAAAAAAAAAAAAAAAAAAAAAAAAAAAAAAAAAAAAAAAAAAAAAAAAAAAAAAAAAAAAAAAAAAAAAAAAAAAAAAAAAAAAAAAAAAAAAAAAAAAAAAAAAAAAAAAAAAAAAAAAAAAAAAAAAAAAAAAAAAAAAAAAAAAAAAAAAAAAAAAAAAAAAAAAAAAAAAAAAAAAAAAAAAAAAAAAAAAAAAAAAAAAAAAAAAAAAAAAAAAAAAAAAAAAAAAAAAAAAAAAAAAAAAAAAAAAAAAAAAAAAAAAAAAAAAAAAAAAAAAAAAAAAAAAAAAAAAAAAAAAAAAAAAAAAAAAAAAAAAAAAAAAAAAAAAAAAAAAAAAAAAAAAAAAAAAAAAAAAAAAAAAAAAAAAAAAAAAAAAAAAAAAAAAAAAAAAAAAAAAAAAAAAAAAAAAAAAAAAAAAAAAAAAAAAAAAAAAAAAAAAAAAAAAAAAAAAAAAAAAAAAAAAAAAAAAAAAAAAAAAAAAAAAAAAAAAAAAAAAAAAAAAAAAAAAAAAAAAAAAAAAAAAAAAAAAAAAAAAAAAAAAAAAAAAAAAAAAAAAAAAAAAAAAAAAAAAAAAAAAAAAAAAAAAAAAAAAAAAAAAAAAAAAAAAAAAAAAAAAAAAAAAAAAAAAAAAAAAAAAAAAAAAAAAAAAAAAAAAAAAAAAAAAAAAAAAAAAAAAAAAAAAAAAAAAAAAAAAAAAAAAAAAAAAAAAAAAAAAAAAAAAAAAAAAAAAAAAAAAAAAAAAAAAAAAAAAAAAAAAAAAAAAAAAAAAAAAAAAAAAAAAAAAAAAAAAAAAAAAAAAAAAAAAAAAAAAAAAAAAAAAAAAAAAAAAAAAAAAAAAAAAAAAAAAAAAAAAAAAAAAAAAAAAAAAAAAAAAAAAAAAAAAAAAAAAAAAAAAAAAAAAAAAAAAAAAAAAAAAAAAAAAAAAAAAAAAAAAAAAAAAAAAAAAAAAAAAAAAAAAAAAAAAAAAAAAAAAAAAAAAAAAAAAAAAAAAAAAAAAAAAAAAAAAAAAAAAAAAAAAAAAAAAAAAAAAAAAAAAAAAAAAAAAAAAAAAAAAAAAAAAAAAAAAAAAAAAAAAAAAAAAAAAAAAAAAAAAAAAAAAAAAAAAAAAAAAAAAAAAAAAAAAAAAAAAAAAAAAAAAAAAAAAAAAAAAAAAAAAAAAAAAAAAAAAAAAAAAAAAAAAAAAAAAAAAAAAAAAAAAAAAAAAAAAAAAAAAAAAAAAAAAAAAAAAAAAAAAAAAAAAAAAAAAAAAAAAAAAAAAAAAAAAAAAAAAAAAAAAAAAAAAAAAAAAAAAAAAAAAAAAAAAAAAAAAAAAAAAAAAAAAAAAAAAAAAAAAAAAAAAAAAAAAAAAAAAAAAAAAAAAAANCf0L7Qu9GM0LfQvtCy0LDRgtC10LvRjAAAAAWQAwACAAAAFAAAELKQBAACAAAAFAAAEMaSkQACAAAAAzIxAACSkgACAAAAAzIxAADqHAAHAAAIDAAACKYAAAAAHOoAAAAIAAAAAAAAAAAAAAAAAAAAAAAAAAAAAAAAAAAAAAAAAAAAAAAAAAAAAAAAAAAAAAAAAAAAAAAAAAAAAAAAAAAAAAAAAAAAAAAAAAAAAAAAAAAAAAAAAAAAAAAAAAAAAAAAAAAAAAAAAAAAAAAAAAAAAAAAAAAAAAAAAAAAAAAAAAAAAAAAAAAAAAAAAAAAAAAAAAAAAAAAAAAAAAAAAAAAAAAAAAAAAAAAAAAAAAAAAAAAAAAAAAAAAAAAAAAAAAAAAAAAAAAAAAAAAAAAAAAAAAAAAAAAAAAAAAAAAAAAAAAAAAAAAAAAAAAAAAAAAAAAAAAAAAAAAAAAAAAAAAAAAAAAAAAAAAAAAAAAAAAAAAAAAAAAAAAAAAAAAAAAAAAAAAAAAAAAAAAAAAAAAAAAAAAAAAAAAAAAAAAAAAAAAAAAAAAAAAAAAAAAAAAAAAAAAAAAAAAAAAAAAAAAAAAAAAAAAAAAAAAAAAAAAAAAAAAAAAAAAAAAAAAAAAAAAAAAAAAAAAAAAAAAAAAAAAAAAAAAAAAAAAAAAAAAAAAAAAAAAAAAAAAAAAAAAAAAAAAAAAAAAAAAAAAAAAAAAAAAAAAAAAAAAAAAAAAAAAAAAAAAAAAAAAAAAAAAAAAAAAAAAAAAAAAAAAAAAAAAAAAAAAAAAAAAAAAAAAAAAAAAAAAAAAAAAAAAAAAAAAAAAAAAAAAAAAAAAAAAAAAAAAAAAAAAAAAAAAAAAAAAAAAAAAAAAAAAAAAAAAAAAAAAAAAAAAAAAAAAAAAAAAAAAAAAAAAAAAAAAAAAAAAAAAAAAAAAAAAAAAAAAAAAAAAAAAAAAAAAAAAAAAAAAAAAAAAAAAAAAAAAAAAAAAAAAAAAAAAAAAAAAAAAAAAAAAAAAAAAAAAAAAAAAAAAAAAAAAAAAAAAAAAAAAAAAAAAAAAAAAAAAAAAAAAAAAAAAAAAAAAAAAAAAAAAAAAAAAAAAAAAAAAAAAAAAAAAAAAAAAAAAAAAAAAAAAAAAAAAAAAAAAAAAAAAAAAAAAAAAAAAAAAAAAAAAAAAAAAAAAAAAAAAAAAAAAAAAAAAAAAAAAAAAAAAAAAAAAAAAAAAAAAAAAAAAAAAAAAAAAAAAAAAAAAAAAAAAAAAAAAAAAAAAAAAAAAAAAAAAAAAAAAAAAAAAAAAAAAAAAAAAAAAAAAAAAAAAAAAAAAAAAAAAAAAAAAAAAAAAAAAAAAAAAAAAAAAAAAAAAAAAAAAAAAAAAAAAAAAAAAAAAAAAAAAAAAAAAAAAAAAAAAAAAAAAAAAAAAAAAAAAAAAAAAAAAAAAAAAAAAAAAAAAAAAAAAAAAAAAAAAAAAAAAAAAAAAAAAAAAAAAAAAAAAAAAAAAAAAAAAAAAAAAAAAAAAAAAAAAAAAAAAAAAAAAAAAAAAAAAAAAAAAAAAAAAAAAAAAAAAAAAAAAAAAAAAAAAAAAAAAAAAAAAAAAAAAAAAAAAAAAAAAAAAAAAAAAAAAAAAAAAAAAAAAAAAAAAAAAAAAAAAAAAAAAAAAAAAAAAAAAAAAAAAAAAAAAAAAAAAAAAAAAAAAAAAAAAAAAAAAAAAAAAAAAAAAAAAAAAAAAAAAAAAAAAAAAAAAAAAAAAAAAAAAAAAAAAAAAAAAAAAAAAAAAAAAAAAAAAAAAAAAAAAAAAAAAAAAAAAAAAAAAAAAAAAAAAAAAAAAAAAAAAAAAAAAAAAAAAAAAAAAAAAAAAAAAAAAAAAAAAAAAAAAAAAAAAAAAAAAAAAAAAAAAAAAAAAAAAAAAAAAAAAAAAAAAAAAAAAAAAAAAAAAAAAAAAAAAAAAAAAAAAAAAAAAAAAAAAAAAAAAAAAAAAAAAAAAAAAAAAAAAAAAAAAAAAAAAAAAAAAAAAAAAAAAAAAAAAAAAAAAAAAAAAAAAAAAAAAAAAAAAAAAAAAAAAAAAAAAAAAAAAAAAAAAAAAAAAAAAAAAAAAAAAAAAAAAAAAAAAAAAAAAAAAAAAAAAAAAAAAAAAAAAAAAAAAAAAAAAAAAAAAAAAAAAAAAAAAAAAAAAAAAAAAAAAAAAAAAAAAAAAAAAAAAAAAAAAAAAAAAAAAAAAAAAAAAAAAAAAAAAAAAAAAAAAAAAAAAAAAAAAAAAAAAAAAAAAAAAAAAAAAAAAAAAAAAAAAAAAAAAAAAAAAAAAAAAAAAAAAAAAAAAAAAAAAAAAAAAAAAAAAAAAAAAAAAAAAAAAAAAAAAAAAAAAAAAAAAAAAAAAAAAAAAAAAAAAAAAAAAAAAAAAAAAAAAAAAAAAAAAAAAAAAAAAAAAAAAAAAAAAAAAAAAAAAAAAAAAAAAAAAAAAAAAAAAAAAAAAAAAAAAAAAAAAAAAAAAAAAAAAAAAAAAAAAAAAAAAAAAAAAAAAAAAAAAAAAAAAAAAAAAAAAAAAAAAAAAAAAAAAAAAAAAAAAAAAAAAAAAAAAAAAAAAAAAAAAAAAAAAAAAAAAAAAAAAAAAAAAAAAAAAAAAAAAAAAAAAAAAAAAAAAAAAAAAAAAAAAAAAAAAAAAAAAAAAAAAAAAAAAAAAAAAAAAAAAAAAAAAAAAAAAAAAAAAAAAAAAAAAAAAAAAAAAAAAAAAAAAAAAAAAAAAAAAAAAAAAAAAAAAAAAAAAAAAAAAAAAAAAAAAAAAAAAAAAAAAAAAAAAAAAAAAAAAAAAAAAAAAAAAAAAAAAAAAAAAAAAAAAAAAAAAAAAAAAAAAAAAAAAAAAAAAAAAAAAAyMDIyOjEyOjI3IDE2OjI3OjU0ADIwMjI6MTI6MjcgMTY6Mjc6NTQAAAAfBD4EOwRMBDcEPgQyBDAEQgQ1BDsETAQAAP/hCytodHRwOi8vbnMuYWRvYmUuY29tL3hhcC8xLjAvADw/eHBhY2tldCBiZWdpbj0n77u/JyBpZD0nVzVNME1wQ2VoaUh6cmVTek5UY3prYzlkJz8+DQo8eDp4bXBtZXRhIHhtbG5zOng9ImFkb2JlOm5zOm1ldGEvIj48cmRmOlJERiB4bWxuczpyZGY9Imh0dHA6Ly93d3cudzMub3JnLzE5OTkvMDIvMjItcmRmLXN5bnRheC1ucyMiPjxyZGY6RGVzY3JpcHRpb24gcmRmOmFib3V0PSJ1dWlkOmZhZjViZGQ1LWJhM2QtMTFkYS1hZDMxLWQzM2Q3NTE4MmYxYiIgeG1sbnM6ZGM9Imh0dHA6Ly9wdXJsLm9yZy9kYy9lbGVtZW50cy8xLjEvIi8+PHJkZjpEZXNjcmlwdGlvbiByZGY6YWJvdXQ9InV1aWQ6ZmFmNWJkZDUtYmEzZC0xMWRhLWFkMzEtZDMzZDc1MTgyZjFiIiB4bWxuczp4bXA9Imh0dHA6Ly9ucy5hZG9iZS5jb20veGFwLzEuMC8iPjx4bXA6Q3JlYXRlRGF0ZT4yMDIyLTEyLTI3VDE2OjI3OjU0LjIxMTwveG1wOkNyZWF0ZURhdGU+PC9yZGY6RGVzY3JpcHRpb24+PHJkZjpEZXNjcmlwdGlvbiByZGY6YWJvdXQ9InV1aWQ6ZmFmNWJkZDUtYmEzZC0xMWRhLWFkMzEtZDMzZDc1MTgyZjFiIiB4bWxuczpkYz0iaHR0cDovL3B1cmwub3JnL2RjL2VsZW1lbnRzLzEuMS8iPjxkYzpjcmVhdG9yPjxyZGY6U2VxIHhtbG5zOnJkZj0iaHR0cDovL3d3dy53My5vcmcvMTk5OS8wMi8yMi1yZGYtc3ludGF4LW5zIyI+PHJkZjpsaT7Qn9C+0LvRjNC30L7QstCw0YLQtdC70Yw8L3JkZjpsaT48L3JkZjpTZXE+DQoJCQk8L2RjOmNyZWF0b3I+PC9yZGY6RGVzY3JpcHRpb24+PC9yZGY6UkRGPjwveDp4bXBtZXRhPg0KICAgICAgICAgICAgICAgICAgICAgICAgICAgICAgICAgICAgICAgICAgICAgICAgICAgICAgICAgICAgICAgICAgICAgICAgICAgICAgICAgICAgICAgICAgICAgICAgICAgIAogICAgICAgICAgICAgICAgICAgICAgICAgICAgICAgICAgICAgICAgICAgICAgICAgICAgICAgICAgICAgICAgICAgICAgICAgICAgICAgICAgICAgICAgICAgICAgICAgICAgCiAgICAgICAgICAgICAgICAgICAgICAgICAgICAgICAgICAgICAgICAgICAgICAgICAgICAgICAgICAgICAgICAgICAgICAgICAgICAgICAgICAgICAgICAgICAgICAgICAgICAKICAgICAgICAgICAgICAgICAgICAgICAgICAgICAgICAgICAgICAgICAgICAgICAgICAgICAgICAgICAgICAgICAgICAgICAgICAgICAgICAgICAgICAgICAgICAgICAgICAgIAogICAgICAgICAgICAgICAgICAgICAgICAgICAgICAgICAgICAgICAgICAgICAgICAgICAgICAgICAgICAgICAgICAgICAgICAgICAgICAgICAgICAgICAgICAgICAgICAgICAgCiAgICAgICAgICAgICAgICAgICAgICAgICAgICAgICAgICAgICAgICAgICAgICAgICAgICAgICAgICAgICAgICAgICAgICAgICAgICAgICAgICAgICAgICAgICAgICAgICAgICAKICAgICAgICAgICAgICAgICAgICAgICAgICAgICAgICAgICAgICAgICAgICAgICAgICAgICAgICAgICAgICAgICAgICAgICAgICAgICAgICAgICAgICAgICAgICAgICAgICAgIAogICAgICAgICAgICAgICAgICAgICAgICAgICAgICAgICAgICAgICAgICAgICAgICAgICAgICAgICAgICAgICAgICAgICAgICAgICAgICAgICAgICAgICAgICAgICAgICAgICAgCiAgICAgICAgICAgICAgICAgICAgICAgICAgICAgICAgICAgICAgICAgICAgICAgICAgICAgICAgICAgICAgICAgICAgICAgICAgICAgICAgICAgICAgICAgICAgICAgICAgICAKICAgICAgICAgICAgICAgICAgICAgICAgICAgICAgICAgICAgICAgICAgICAgICAgICAgICAgICAgICAgICAgICAgICAgICAgICAgICAgICAgICAgICAgICAgICAgICAgICAgIAogICAgICAgICAgICAgICAgICAgICAgICAgICAgICAgICAgICAgICAgICAgICAgICAgICAgICAgICAgICAgICAgICAgICAgICAgICAgICAgICAgICAgICAgICAgICAgICAgICAgCiAgICAgICAgICAgICAgICAgICAgICAgICAgICAgICAgICAgICAgICAgICAgICAgICAgICAgICAgICAgICAgICAgICAgICAgICAgICAgICAgICAgICAgICAgICAgICAgICAgICAKICAgICAgICAgICAgICAgICAgICAgICAgICAgICAgICAgICAgICAgICAgICAgICAgICAgICAgICAgICAgICAgICAgICAgICAgICAgICAgICAgICAgICAgICAgICAgICAgICAgIAogICAgICAgICAgICAgICAgICAgICAgICAgICAgICAgICAgICAgICAgICAgICAgICAgICAgICAgICAgICAgICAgICAgICAgICAgICAgICAgICAgICAgICAgICAgICAgICAgICAgCiAgICAgICAgICAgICAgICAgICAgICAgICAgICAgICAgICAgICAgICAgICAgICAgICAgICAgICAgICAgICAgICAgICAgICAgICAgICAgICAgICAgICAgICAgICAgICAgICAgICAKICAgICAgICAgICAgICAgICAgICAgICAgICAgICAgICAgICAgICAgICAgICAgICAgICAgICAgICAgICAgICAgICAgICAgICAgICAgICAgICAgICAgICAgICAgICAgICAgICAgIAogICAgICAgICAgICAgICAgICAgICAgICAgICAgICAgICAgICAgICAgICAgICAgICAgICAgICAgICAgICAgICAgICAgICAgICAgICAgICAgICAgICAgICAgICAgICAgICAgICAgCiAgICAgICAgICAgICAgICAgICAgICAgICAgICAgICAgICAgICAgICAgICAgICAgICAgICAgICAgICAgICAgICAgICAgICAgICAgICAgICAgICAgICAgICAgICAgICAgICAgICAKICAgICAgICAgICAgICAgICAgICAgICAgICAgICAgICAgICAgICAgICAgICAgICAgICAgICAgICAgICAgICAgICAgICAgICAgICAgICAgICAgICAgICAgICAgICAgICAgICAgIAogICAgICAgICAgICAgICAgICAgICAgICAgICAgICAgICAgICAgICAgICAgICAgICAgICAgICAgICAgICAgICAgICAgICAgICAgICAgICAgICAgICAgICAgICAgICAgICAgICAgCiAgICAgICAgICAgICAgICAgICAgICAgICAgICA8P3hwYWNrZXQgZW5kPSd3Jz8+/9sAQwAHBQUGBQQHBgUGCAcHCAoRCwoJCQoVDxAMERgVGhkYFRgXGx4nIRsdJR0XGCIuIiUoKSssKxogLzMvKjInKisq/9sAQwEHCAgKCQoUCwsUKhwYHCoqKioqKioqKioqKioqKioqKioqKioqKioqKioqKioqKioqKioqKioqKioqKioqKioq/8AAEQgBNAEwAwEiAAIRAQMRAf/EAB8AAAEFAQEBAQEBAAAAAAAAAAABAgMEBQYHCAkKC//EALUQAAIBAwMCBAMFBQQEAAABfQECAwAEEQUSITFBBhNRYQcicRQygZGhCCNCscEVUtHwJDNicoIJChYXGBkaJSYnKCkqNDU2Nzg5OkNERUZHSElKU1RVVldYWVpjZGVmZ2hpanN0dXZ3eHl6g4SFhoeIiYqSk5SVlpeYmZqio6Slpqeoqaqys7S1tre4ubrCw8TFxsfIycrS09TV1tfY2drh4uPk5ebn6Onq8fLz9PX29/j5+v/EAB8BAAMBAQEBAQEBAQEAAAAAAAABAgMEBQYHCAkKC//EALURAAIBAgQEAwQHBQQEAAECdwABAgMRBAUhMQYSQVEHYXETIjKBCBRCkaGxwQkjM1LwFWJy0QoWJDThJfEXGBkaJicoKSo1Njc4OTpDREVGR0hJSlNUVVZXWFlaY2RlZmdoaWpzdHV2d3h5eoKDhIWGh4iJipKTlJWWl5iZmqKjpKWmp6ipqrKztLW2t7i5usLDxMXGx8jJytLT1NXW19jZ2uLj5OXm5+jp6vLz9PX29/j5+v/aAAwDAQACEQMRAD8A+kaKR2CIzN0UZNR7JGGWlZD6IBgfmKAJaKi8p/8An4k/Jf8ACjyn/wCfiT8l/wAKAJaKi8p/+fiT8l/wo8p/+fiT8l/woAloqLyn/wCfiT8l/wAKPKf/AJ+JPyX/AAoAloqLyn/5+JPyX/Cjyn/5+JPyX/CgCWiovKf/AJ+JPyX/AAo8p/8An4k/Jf8ACgCWiovKf/n4k/Jf8KPKf/n4k/Jf8KAJaKi8p/8An4k/Jf8ACjyn/wCfiT8l/wAKAJaKi8p/+fiT8l/wo8p/+fiT8l/woAloqLyn/wCfiT8l/wAKPKf/AJ+JPyX/AAoAloqLyn/5+JPyX/Cjyn/5+JPyX/CgCWiovKf/AJ+JPyX/AAo8p/8An4k/Jf8ACgCWiovKf/n4k/Jf8KPKf/n4k/Jf8KAJaKi8p/8An4k/Jf8ACjyn/wCfiT8l/wAKAJaKi8p/+fiT8l/wo8p/+fiT8l/woAloqLyn/wCfiT8l/wAKPKf/AJ+JPyX/AAoAloqLyn/5+JPyX/Cjyn/5+JPyX/CgCWiovKf/AJ+JPyX/AAo8p/8An4k/Jf8ACgCWioW3wqXMjOq8sGA6fgKmoAiuv+POb/rm38qlqK6/485v+ubfyqWgAooooAKKKKACiiigAooooAKKKKACiiigAooooAKKKKACiiigAooooAKKKKACiiigAooooAKKKKACiiigAooooAKKKKAIrr/jzm/65t/Kpaiuv+POb/rm38qloAiuv+POb/rm38qlqK6/485v+ubfypLmVoYdyDLEhRk+tAE1FVibvjbs96rR6iZrpraKeFp0JDRg8jFAGlRWfeXN1Z2rzyeXtTliTjA9aqjX7ZsFb+0YFQwIkHIPQ0AbVFYqa9bvv2X9ofLAL4kHygnAJ/Gq7+KrRbWWdby3xGCSGYDODjI9qAOiorNu9QawtkuLyWKKJmVAzerHAH51Wl8Q2sGPO1C0TIyN0gHGcUAbdFZ6Xk01mbi3aKVMEgqeDVa/1xNLiifUZ4rcTNtUsepxmgDZorFTX7Z1BW/tCD0PmCp4dRa5jka1ngm8tSSEYGgDTorEGvxjAmuIYXIztdgKkGsRm2Fx9stfJOcPvGDgZP5UAa9FYn/CQWu8r/aFpkYz+8HGelbELiSFHDBgwzuXoaAH0UUUAFFFFABRRRQAUUUUAFFFFABRRRQAUUUUAFFFFABRRRQBFdf8ec3/AFzb+VS1Fdf8ec3/AFzb+VS0ARXX/HnN/wBc2/lWXqFhci3XGpXH+sQfdX1+lal1/wAec3/XNv5Vj3lrZbIiLyYkTIQDOeTuFAF0adcj/mJ3B/4Cv+FYdxbjT9QuJreS6a4ONzhF+cnp2rrKyr641GOWQWsLMBjaQmc0AYiXVxq0hsJ5L1YppPLLlFxjbknp+FX18F6WvRWztC/gOgp9rea42qRRXFoFti3zyY6DH+Nb1AGCfCVntkCSOnmKFYgDkA5A6VC3gnT2TEryOApUAgdCckfpXSUHgHHJoA5XV4fMsYxeG6mgbIVQqkrgcHpWFFp2jf2gwNvfOTGFIZPlxwfT1rsLi71SNUnhtt42jfb98k88+1Qf2vrW5caMNpbBJkPA9elAFbS44LkT2Vjd3lso+YqYwAc9xkVpTaElyqLc3MkwToHVTjjHpQupXgtZ5J7B0kiQsqqch/bPrWnGxeJGI2llBIPagDDk8I2MkaIXcLGCqgAcCqctkdKuWtrOW4CSKu5kVf4jj0rqqzbyW/jvgLdd0RC/wZ788/SgDmLjSLCDV5Q63Mm1QhkZcrg8n9aLrTbOezW1NvcokUm5UA45xn8wK6K5utRjvnVIXe3yNrpHkj8KSO61URsZbb/lqoGOSVzycUAc8mmactjbMltcL50xymzlMAgE/gK7O02/Y4tgIXaMAjkVnNc6oEgKwnLSMJBs6Lzg/wAq1IWd4UaRdrkZI9DQA+iiigAooooAKKKKACiiigAooooAKKKKACiiigAooooAKKKKAIrr/jzm/wCubfyqWorr/jzm/wCubfyqWgCK6/485v8Arm38qyb6/s3iiVEkDGZMHyW/vD2rWuv+POb/AK5t/Ks+/vn8mMC2nTMyDLKMfeHvQBq1kagt+00gt5/KTHy/MOPWtesXUba1mnmE+oGIsASv90DrQAllbaj9sR7jUSyI+THx8429Pz5rbrnLHS7GDU4po9TllkV8BC5Ib5emM+nNdHQAUHODjrRSEZUjpxQBkXUeqbFNtdQ/aMKDE/QjPzHHrjpUWzxH5ikvZ7AegVske/NPu9MimSK3GoNFMFGHH3mAOetVv+EfcshbWrg7GyMNj8DzTGaCPqyQzLLFDJIEPlsnClvcE5rRj3GNfMADYG4D1rJXT7hI5401JnEqnbuxlG9R/hWtGpWJFY7iFAJ9aQh1ZV9FdvfDyLsxLhPkDDs3P5jitWsrUILaa8HmXfky4Q7R1wGyPzPFAENzFqBvneK8ZYQRiPcvpShNVWMmS4VsyqVC8ELnkEnio7y1tW1CSc6n5MgIBXbkKcenenR2MHkuqanIy+crZJztOen40ALs1ExwBbsEiRi53DLLzgfhx+VbEO/yE8w5fHJ96xns7Vre1H9obRHKzKwGN5ycj9f0rYgTy7dED79qgbj3oAkooooAKKKKACiiigAooooAKKKKACiiigAooooAKKKKACiiigCK6/485v8Arm38qlqK6/485v8Arm38qloAiuv+POb/AK5t/KqOoRXbQR7pIyPOQkBcfxD3q9df8ec3/XNv5VnX1vcrDGft7kecmRsXn5hxQBrVzms/2LBevcakZvM2YOFJAH5V0dYfiCeGzVS1g120obgDPTtQBHp8mkPMklq0oKtuCspAzt69PSr0XiDTZS4S6TMfUE4rKsdShuNRt4F0+SMyHLNjiM46N71u/wBm2gORBFnrnyxQBCNd05po40uUZpM7cHrgZJpW1rTdp8y7iQdMswGfpUkemWkTZW3jB5x8g4z6elNbSbLBJtoz3wUB/nQBmTNoxnht5HdT5YZVA4Kgkiqv9m+HmbYJXzuLEBvvn09/XHtU0mrWDyASabOzquB8g6Ukmo2BtZWh06RnhXdsCAMckDg+vP5UAOttN0KVX+zSEtGod3Dc4NdCmBGu3kYGK5iLUdOtZjEthKZNpDNEvytXTxkGJSBgEDAPagB1YepDTDq0f2ySUTgKVwOB83H61uVjancQw36+da+acJhgMnJbH6daAIL19K/tKTz3nW44BIU/4UvmaQsL4klU+YCePmBz2HpSXd5HFqUkbWXmEEZk5NNa9iVpVFgwxJgOw4b+v9KAHb9Ia3tGEkxUyt5ZA5L85zx9a3LYILaPyiSm0bSfSsKO8jNtatJp/l75GUKB9zr83+fWty2YPaxsq7VKggelAEtFFFABRRRQAUUUUAFFFFABRRRQAUUUUAFFFFABRRRQAUUUUARXX/HnN/1zb+VS1Fdf8ec3/XNv5VLQBFdf8ec3/XNv5Vk362flRbLks3nR4HmZz8wrWuv+POb/AK5t/Ksy/vLJ4Y1QgMZkx+6P94e1AGxWXrNxqMIjXTIlkLBt24cD0rUrDv4dTlvZfsl8IE2/KrY49TQAtnc6q1/Gk8CpCx+ZgnbHT8626xUi1L7eH+3q0LcGPjK/L/jzSWlvq6XMZudShljDfMqjkj06UAbWR60E8HHJrn7qz1U7TaaumPMJw2MlcdOnUGpY4NSMiZ1JREv3icbm/TFADm1LUBMFbT2JweQcgfjjvSSahqM0U621gwlVQ0e84BORkZx9aLtNXjMbW88cnyhWTvn+99KIU1xo8PJbhweDg4I9/egYz+0tXt2KDTPtK43LIH2Z9sYOK3UJaNSw2kgEj0rCkbXiyrGIxzyTW6mdi7/vY5+tAhaytRm1SO8QWEUbw/LuLdR83P6Vq1k6il8bwfZbry0IT5TjH3ufzHFADLi61RdQZIIwYMgBynNI11q+2QiBdokARtvOPTH9aLpNSa/d7a7SOHjEbEccVE8esLCy/bkO5sK6gblz68YoAlS81V7e3ZoAjs5Eo25wvOD/ACrXhZngRpBhiMkelYTw6v8AYbdBfKJgx3ycYYc/rW3bBxaxiV97hRub1NAEtFFFABRRRQAUUUUAFFFFABRRRQAUUUUAFFFFABRRRQAUUUUARXX/AB5zf9c2/lUtRXX/AB5zf9c2/lUtAEV1/wAec3/XNv5VTuJbqdERLYqfMUkk9s81cuv+POb/AK5t/KpaACsm90FL26knad0Z1AATjFa1FAGZHoyx3PnLL838Xy9flxUFp4cW1ulmF3M+19+1mOPpW1RQBi3PhuCeUSRyvCyuWUL0AIwRilj8PIk6u1w7Kv8AABgH61s0UAY9zokkgRoL2ZJFUIW3HkZ5/GmR6BcIHDapcNuOep4/WtuigDBl0G8cKo1edQOuM5P61uou2NVJzgAZPelooAKzb3SftlyZWm2/cwAvTa2etaVFAGTcaGZ7p5/tG1mIO3Zx+VI+ghraSJbqRd/Qj+H3Hv71r0UAYz+Hg1jb2/2p/wBy27eRkt1/xrVt4vIto4t27YoGT3qSigAooooAKKKKACiiigAooooAKKKKACiiigAooooAKKKKACiiigCK6/485v8Arm38qlqK6/485v8Arm38qloAiuv+POb/AK5t/Kpaiuv+POb/AK5t/KpaACiiigAooooAKKKKACiiigAooooAKKKKACiiigAooooAKKKKACiiigAooooAKKKKACiiigAooooAKKKKACiiigAooooAiuv+POb/AK5t/Kpaiuv+POb/AK5t/KpaAIrr/jzm/wCubfyqWorr/jzm/wCubfyqWgAooooAKKKKACiiigAooooAKKKKACiiigAooooAKKKKACiiigAooooAKKKKACiiigAooooAKKKKACiiigAooooAKKKKAIrr/jzm/wCubfyqWorr/jzm/wCubfyqWgCK6/485v8Arm38qlqK6/485v8Arm38qloAKKKKACiiigAooooAKKKKACiiigAooooAKKKKACiiigAooooAKKKKACiiigAooooAKKKKACiiigAooooAKKKKACiiigCK6/485v8Arm38qlqK6/485v8Arm38qloAiuv+POb/AK5t/Kpaiuv+POb/AK5t/KpaACiiigAooooAKKKKACiiigAooooAKKKKACiiigAooooAKKKKACiiigAooooAKKKKACiiigAooooAKKKKACiiigAooooAiuv+POb/AK5t/Kpaiuv+POb/AK5t/KpaAIrr/jzm/wCubfyqWorr/jzm/wCubfyqWgAooooAKKKKACiiigAooooAKKKKACiiigAooooAKKKKACiiigAooooAKKKKACiiigAooooAKKKKACiiigAooooAKKKKAIrr/jzm/wCubfyqWorr/jzm/wCubfyqWgCK6/485v8Arm38qlqK6/485v8Arm38qloAKKKKACiiigAooooAKKKKACiiigAooooAKKKKACiiigAooooAKKKKACiiigAooooAKKKKACiiigAooooAKKKKACiiigCK6/485v8Arm38qlqK6/485v8Arm38qloAiuv+POb/AK5t/Kpaiuv+POb/AK5t/KpaACiiigAooooAKKKKACiiigAooooAKKKKACiiigAooooAKKKKACiiigAooooAKKKKACiiigAooooAKKKKACiiigAooooAiuv+POb/AK5t/Kpaiuv+POb/AK5t/KpaAIrr/jzm/wCubfyqWorr/jzm/wCubfyqWgAooooAKKKKACiiigAooooAKKKKACiiigAooooAKKKKACiiigAooooAKKKKACiiigAooooAKKKKACiiigAooooAKKKKAIrr/jzm/wCubfyqWorr/jzm/wCubfyqWgCK6/485v8Arm38qlqK6/485v8Arm38qloAKKK4z4heMr7wlHYDToLeV7oybjOGIULt6AEf3v0pN2V2Y1q0KFN1J7I7OivIx8SvGJuvs40iw8zyftGPKfHl4zvz5mNuO9dT8PfGV94tj1D+0YLeJ7Ux7TAGAIbd1BJ/u/rUqabsctHMKNaoqcb3fl2Ozoooqz0AooooAKKKKACiiigAoorP1fWbfRYbaS6SVxc3UVqnlgHDyNtBOSOM9aANCiorm6gsrWS5vJo4IIlLSSSMFVR6knpUGl6tY61Zfa9LuFuLfeyeYoIBKnB6j1oAuUUVQ0PWLfX9Hh1KzSVIZiwVZQAw2sVOcEjqD3oAv0UUUAFFFFABRRRQAUUUUAFFFFABRRRQAUUUUAFFFFAEV1/x5zf9c2/lUtRXX/HnN/1zb+VS0ARXX/HnN/1zb+VS1Fdf8ec3/XNv5VLQAV5X8a/+YJ/23/8AadeqVg+KPB+neLI7ZdSe4jNsWMbQOAfmxkHIPoPyqZK6scWOozr4eVOG7t+aPMS+PBf9iG7j/tf7J5+7jP2fdu+zbuu7+PH/AAGtj4Kf8xv/ALYf+1K1f+FOeH/+fzUv+/sf/wARXQ+GPB+neE47ldNe4kNyVMjTuGPy5wBgAfxGojF3TZ5uGwWIjiIVJpJRVt/I3qKKK1PfPMtJ0m6S0kjt9M1K38UiC7FxqRUpHK7BthaQ8SAkqVAztx2xVKfR5pNG1FNB0TUbKM6DLDexSwOrXN0du3AP+tcYfLjOc9TXrVFH9fn/AJjv/X3f5Hml34Xnh1HWo9IsJYESwtL222o2yS8id26nq5AAPfnmtzw7qenaFpH2rxJfWulahq80l9JBezrDIoY4VSGIPyoFU+4rr6QqrfeAP1FO/wDX9fL7hdP6/rv955br+nahq3i25u4naW3uRbvpN/bWEl35ajBPlypIqRfNkksMMD1PSpJ9J1N/GN/c2Wn3kVhKbldP3IQsN8YgDcFcfKjYIDE4zk/xZr08DAwOKKm2lvX8f6+/Ud9b/wBf1/wx5fHpMzeFL6Hwvo+qabqh01I7l5UaFZ5dw3jkgySEB/3gOOfvc1Xt9FvEs43tLadbY6xp8v2WLSpbSOHY/wC8cI7s3TG5uF4zk8mvWKKq+t/T87i6W/raxmWXiXQtSuha6drWnXdwwJEMF0jucdeAc1leGmm0fQb+W8s7vJ1S5ZY0gZnZXnO1gvUjBzn05rpwig5CgH2FLS63DpY87g024HxMa9OmXg0Q3T+UhjO1bzyxm52YyEIyobpuye+awG0S7TwxpX2nSr2a4ht7lUtZ9OkmiLmdiANjB4JCMYkIxg9a9jopdEh31uebalpt5P42srw6RejS4za/2pCuXE0+D5bgYzIIyV3MDzx12mvSaKKq+lhdQooopAFFFFABRRRQAUUUUAFFFFABRRRQAUUUUARXX/HnN/1zb+VS1Fdf8ec3/XNv5VLQBFc/8ek3+438qloIyMGohFKg2xyLtHQOucfjkUAS0VFtuP8AnpH/AN+z/wDFUbbj/npH/wB+z/8AFUAS0VFtuP8AnpH/AN+z/wDFUbbj/npH/wB+z/8AFUAS0VFtuP8AnpH/AN+z/wDFUbbj/npH/wB+z/8AFUAS0VFtuP8AnpH/AN+z/wDFUbbj/npH/wB+z/8AFUAS0VFtuP8AnpH/AN+z/wDFUbbj/npH/wB+z/8AFUAS0VFtuP8AnpH/AN+z/wDFUbbj/npH/wB+z/8AFUAS0VFtuP8AnpH/AN+z/wDFUbbj/npH/wB+z/8AFUAS0VFtuP8AnpH/AN+z/wDFUbbj/npH/wB+z/8AFUAS0VFtuP8AnpH/AN+z/wDFUbbj/npH/wB+z/8AFUAS0VFtuP8AnpH/AN+z/wDFUbbj/npH/wB+z/8AFUAS0VFtuP8AnpH/AN+z/wDFUbbj/npH/wB+z/8AFUAS0VFtuP8AnpH/AN+z/wDFUbbj/npH/wB+z/8AFUAS0VFtuP8AnpH/AN+z/wDFUbbj/npH/wB+z/8AFUAS0VFtuP8AnpH/AN+z/wDFUbbj/npH/wB+z/8AFUAS0VFtuP8AnpH/AN+z/wDFUbbj/npH/wB+z/8AFUAS0VFtuP8AnpH/AN+z/wDFUbbj/npH/wB+z/8AFUAS0VFtuP8AnpH/AN+z/wDFUbbj/npH/wB+z/8AFUAF1/x6Tf7h/lUtReU7kedIGUHO1Vxn68mpaACiiigAooooAKKKKACiiigAooooAKKKKACiiigAooooAKKKKACiiigAooooAKKKKACiiigAooooAKKKKACiiigAooooAKKKKACiiigD/9k=)"
      ],
      "metadata": {
        "id": "Z0rR1uKExE42"
      }
    },
    {
      "cell_type": "markdown",
      "source": [
        "## Задание 2 (Класс для сохранения данных)"
      ],
      "metadata": {
        "id": "3kRXCRraiR_h"
      }
    },
    {
      "cell_type": "code",
      "source": [
        "# Запускаем код для создания класса\n",
        "class Saver:\n",
        "    def __init__(self, table_name):                  \n",
        "        self.table_name = df\n",
        "        print(f'Класс инициализирован. Таблица загружена.')\n",
        "\n",
        "    def saver_csv (self):\n",
        "        m = (self.table_name).to_csv(\"./drive/MyDrive/saver_csv_1.csv\")\n",
        "        print(f'Файл в формате csv сохранен на Ваш Google диск')\n",
        "\n",
        "    def saver_excel (self):\n",
        "        x = (self.table_name).to_excel(\"./drive/MyDrive/saver_excel_1.xlsx\")\n",
        "        print(f'Файл в формате excel сохранен на Ваш Google диск')\n",
        "    \n",
        "    def saver_sql (self):\n",
        "        import sqlite3\n",
        "        conn = sqlite3.connect('home_rf')\n",
        "        k = (self.table_name).to_sql('HomeRF_tab', conn, if_exists= 'replace', index = False)\n",
        "        print(f'Файл в формате БД сохранен на Ваш Google диск')"
      ],
      "metadata": {
        "id": "pOX_BumKZB06"
      },
      "execution_count": 129,
      "outputs": []
    },
    {
      "cell_type": "code",
      "source": [
        "# Делаем копию сэмпла данных\n",
        "df_1_oop = df_2_clean.copy()"
      ],
      "metadata": {
        "id": "mOTOqkMWaBHK"
      },
      "execution_count": 80,
      "outputs": []
    },
    {
      "cell_type": "code",
      "source": [
        "# Определяем датафрейм для работы с классом и объявляем df\n",
        "df_1_oop.head(5)\n",
        "df = df_1_oop.head(5)"
      ],
      "metadata": {
        "id": "8Foh5hIJZB3Q"
      },
      "execution_count": 96,
      "outputs": []
    },
    {
      "cell_type": "code",
      "source": [
        "# Инициализируем класс\n",
        "d = Saver(df)"
      ],
      "metadata": {
        "colab": {
          "base_uri": "https://localhost:8080/"
        },
        "id": "bqlNiXq5ZB5e",
        "outputId": "54ed4b69-b5cc-4895-c9c3-fb285d82ab62"
      },
      "execution_count": 131,
      "outputs": [
        {
          "output_type": "stream",
          "name": "stdout",
          "text": [
            "Класс инициализирован. Таблица загружена.\n"
          ]
        }
      ]
    },
    {
      "cell_type": "code",
      "source": [
        "# Метод сохранения в csv\n",
        "d.saver_csv()"
      ],
      "metadata": {
        "colab": {
          "base_uri": "https://localhost:8080/"
        },
        "id": "rWcF_a22ZB7v",
        "outputId": "73db35ad-3da1-4016-944e-ec3a1a3562f1"
      },
      "execution_count": 126,
      "outputs": [
        {
          "output_type": "stream",
          "name": "stdout",
          "text": [
            "Файл в формате csv сохранен на Ваш Google диск\n"
          ]
        }
      ]
    },
    {
      "cell_type": "markdown",
      "source": [
        "![Снимок_csv.JPG](data:image/jpeg;base64,/9j/4AAQSkZJRgABAQEAYABgAAD/4RD+RXhpZgAATU0AKgAAAAgABAE7AAIAAAAZAAAISodpAAQAAAABAAAIZJydAAEAAAAaAAAQ3OocAAcAAAgMAAAAPgAAAAAc6gAAAAgAAAAAAAAAAAAAAAAAAAAAAAAAAAAAAAAAAAAAAAAAAAAAAAAAAAAAAAAAAAAAAAAAAAAAAAAAAAAAAAAAAAAAAAAAAAAAAAAAAAAAAAAAAAAAAAAAAAAAAAAAAAAAAAAAAAAAAAAAAAAAAAAAAAAAAAAAAAAAAAAAAAAAAAAAAAAAAAAAAAAAAAAAAAAAAAAAAAAAAAAAAAAAAAAAAAAAAAAAAAAAAAAAAAAAAAAAAAAAAAAAAAAAAAAAAAAAAAAAAAAAAAAAAAAAAAAAAAAAAAAAAAAAAAAAAAAAAAAAAAAAAAAAAAAAAAAAAAAAAAAAAAAAAAAAAAAAAAAAAAAAAAAAAAAAAAAAAAAAAAAAAAAAAAAAAAAAAAAAAAAAAAAAAAAAAAAAAAAAAAAAAAAAAAAAAAAAAAAAAAAAAAAAAAAAAAAAAAAAAAAAAAAAAAAAAAAAAAAAAAAAAAAAAAAAAAAAAAAAAAAAAAAAAAAAAAAAAAAAAAAAAAAAAAAAAAAAAAAAAAAAAAAAAAAAAAAAAAAAAAAAAAAAAAAAAAAAAAAAAAAAAAAAAAAAAAAAAAAAAAAAAAAAAAAAAAAAAAAAAAAAAAAAAAAAAAAAAAAAAAAAAAAAAAAAAAAAAAAAAAAAAAAAAAAAAAAAAAAAAAAAAAAAAAAAAAAAAAAAAAAAAAAAAAAAAAAAAAAAAAAAAAAAAAAAAAAAAAAAAAAAAAAAAAAAAAAAAAAAAAAAAAAAAAAAAAAAAAAAAAAAAAAAAAAAAAAAAAAAAAAAAAAAAAAAAAAAAAAAAAAAAAAAAAAAAAAAAAAAAAAAAAAAAAAAAAAAAAAAAAAAAAAAAAAAAAAAAAAAAAAAAAAAAAAAAAAAAAAAAAAAAAAAAAAAAAAAAAAAAAAAAAAAAAAAAAAAAAAAAAAAAAAAAAAAAAAAAAAAAAAAAAAAAAAAAAAAAAAAAAAAAAAAAAAAAAAAAAAAAAAAAAAAAAAAAAAAAAAAAAAAAAAAAAAAAAAAAAAAAAAAAAAAAAAAAAAAAAAAAAAAAAAAAAAAAAAAAAAAAAAAAAAAAAAAAAAAAAAAAAAAAAAAAAAAAAAAAAAAAAAAAAAAAAAAAAAAAAAAAAAAAAAAAAAAAAAAAAAAAAAAAAAAAAAAAAAAAAAAAAAAAAAAAAAAAAAAAAAAAAAAAAAAAAAAAAAAAAAAAAAAAAAAAAAAAAAAAAAAAAAAAAAAAAAAAAAAAAAAAAAAAAAAAAAAAAAAAAAAAAAAAAAAAAAAAAAAAAAAAAAAAAAAAAAAAAAAAAAAAAAAAAAAAAAAAAAAAAAAAAAAAAAAAAAAAAAAAAAAAAAAAAAAAAAAAAAAAAAAAAAAAAAAAAAAAAAAAAAAAAAAAAAAAAAAAAAAAAAAAAAAAAAAAAAAAAAAAAAAAAAAAAAAAAAAAAAAAAAAAAAAAAAAAAAAAAAAAAAAAAAAAAAAAAAAAAAAAAAAAAAAAAAAAAAAAAAAAAAAAAAAAAAAAAAAAAAAAAAAAAAAAAAAAAAAAAAAAAAAAAAAAAAAAAAAAAAAAAAAAAAAAAAAAAAAAAAAAAAAAAAAAAAAAAAAAAAAAAAAAAAAAAAAAAAAAAAAAAAAAAAAAAAAAAAAAAAAAAAAAAAAAAAAAAAAAAAAAAAAAAAAAAAAAAAAAAAAAAAAAAAAAAAAAAAAAAAAAAAAAAAAAAAAAAAAAAAAAAAAAAAAAAAAAAAAAAAAAAAAAAAAAAAAAAAAAAAAAAAAAAAAAAAAAAAAAAAAAAAAAAAAAAAAAAAAAAAAAAAAAAAAAAAAAAAAAAAAAAAAAAAAAAAAAAAAAAAAAAAAAAAAAAAAAAAAAAAAAAAAAAAAAAAAAAAAAAAAAAAAAAAAAAAAAAAAAAAAAAAAAAAAAAAAAAAAAAAAAAAAAAAAAAAAAAAAAAAAAAAAAAAAAAAAAAAAAAAAAAAAAAAAAAAAAAAAAAAAAAAAAAAAAAAAAAAAAAAAAAAAAAAAAAAAAAAAAAAAAAAAAAAAAAAAAAAAAAAAAAAAAAAAAAAAAAAAAAAAAAAAAAAAAAAAAAAAAAAAAAAAAAAAAAAAAAAAAAAAAAAAAAAAAAAAAAAAAAAAAAAAAAAAAAAAAAAAAAAAAAAAAAAAAAAAAAAAAAAAAAAAAAAAAAAAAAAAAAAAAAAAAAAAAAAAAAAAAAAAAAAAAAAAAAAAAAAAAAAAAAAAAAAAAAAAAAAAAAAAAAAAAAAAAAAAAAAAAAAAAAAAAAAAAAAAAAAAAAAAAAAAAAAAAAAAAAAAAAAAAAAAAAAAAAAAAAAAAAAAAAAAAAAAAAAAAAAAAAAAAAAAAAAAAAAAAAAAAAAAAAAAAAAAAAAAAAAAAAAAAAAAAAAAAAAAAAAAAAAAAAAAAAAAAAAAAAAAAAAAAAAAAAAAAAAAAAAAAAAAAAAAAAAAAAAAAAAAAAAAAAAAAAAAAAAAAAAAAAAAAAAAAAAAAAAAAAAAAAAAAAAAAAAAAAAAAAAAAAAAAAAAAAAAAAAAAAAAAAAAAAAAAAAAAAAAAAAAAAAAAAAAAAAAAAAAAAAAAAAAAAAAAAAAAAAAAAAAAAAAAAAAAAAAAAAAAAAAAAAAAAAAAAAAAAAAAAAAAAAAAAAAAAAAAAAAAAAAAAAAAAAAAAAAAAAAAAAAAAAAAAAAAAAAAAAAAAAAAAAAAAAAAAAAAAAAAAAAAAAAAAAAAAAAAAAAAAAAAAAAAAAAANCf0L7Qu9GM0LfQvtCy0LDRgtC10LvRjAAAAAWQAwACAAAAFAAAELKQBAACAAAAFAAAEMaSkQACAAAAAzg0AACSkgACAAAAAzg0AADqHAAHAAAIDAAACKYAAAAAHOoAAAAIAAAAAAAAAAAAAAAAAAAAAAAAAAAAAAAAAAAAAAAAAAAAAAAAAAAAAAAAAAAAAAAAAAAAAAAAAAAAAAAAAAAAAAAAAAAAAAAAAAAAAAAAAAAAAAAAAAAAAAAAAAAAAAAAAAAAAAAAAAAAAAAAAAAAAAAAAAAAAAAAAAAAAAAAAAAAAAAAAAAAAAAAAAAAAAAAAAAAAAAAAAAAAAAAAAAAAAAAAAAAAAAAAAAAAAAAAAAAAAAAAAAAAAAAAAAAAAAAAAAAAAAAAAAAAAAAAAAAAAAAAAAAAAAAAAAAAAAAAAAAAAAAAAAAAAAAAAAAAAAAAAAAAAAAAAAAAAAAAAAAAAAAAAAAAAAAAAAAAAAAAAAAAAAAAAAAAAAAAAAAAAAAAAAAAAAAAAAAAAAAAAAAAAAAAAAAAAAAAAAAAAAAAAAAAAAAAAAAAAAAAAAAAAAAAAAAAAAAAAAAAAAAAAAAAAAAAAAAAAAAAAAAAAAAAAAAAAAAAAAAAAAAAAAAAAAAAAAAAAAAAAAAAAAAAAAAAAAAAAAAAAAAAAAAAAAAAAAAAAAAAAAAAAAAAAAAAAAAAAAAAAAAAAAAAAAAAAAAAAAAAAAAAAAAAAAAAAAAAAAAAAAAAAAAAAAAAAAAAAAAAAAAAAAAAAAAAAAAAAAAAAAAAAAAAAAAAAAAAAAAAAAAAAAAAAAAAAAAAAAAAAAAAAAAAAAAAAAAAAAAAAAAAAAAAAAAAAAAAAAAAAAAAAAAAAAAAAAAAAAAAAAAAAAAAAAAAAAAAAAAAAAAAAAAAAAAAAAAAAAAAAAAAAAAAAAAAAAAAAAAAAAAAAAAAAAAAAAAAAAAAAAAAAAAAAAAAAAAAAAAAAAAAAAAAAAAAAAAAAAAAAAAAAAAAAAAAAAAAAAAAAAAAAAAAAAAAAAAAAAAAAAAAAAAAAAAAAAAAAAAAAAAAAAAAAAAAAAAAAAAAAAAAAAAAAAAAAAAAAAAAAAAAAAAAAAAAAAAAAAAAAAAAAAAAAAAAAAAAAAAAAAAAAAAAAAAAAAAAAAAAAAAAAAAAAAAAAAAAAAAAAAAAAAAAAAAAAAAAAAAAAAAAAAAAAAAAAAAAAAAAAAAAAAAAAAAAAAAAAAAAAAAAAAAAAAAAAAAAAAAAAAAAAAAAAAAAAAAAAAAAAAAAAAAAAAAAAAAAAAAAAAAAAAAAAAAAAAAAAAAAAAAAAAAAAAAAAAAAAAAAAAAAAAAAAAAAAAAAAAAAAAAAAAAAAAAAAAAAAAAAAAAAAAAAAAAAAAAAAAAAAAAAAAAAAAAAAAAAAAAAAAAAAAAAAAAAAAAAAAAAAAAAAAAAAAAAAAAAAAAAAAAAAAAAAAAAAAAAAAAAAAAAAAAAAAAAAAAAAAAAAAAAAAAAAAAAAAAAAAAAAAAAAAAAAAAAAAAAAAAAAAAAAAAAAAAAAAAAAAAAAAAAAAAAAAAAAAAAAAAAAAAAAAAAAAAAAAAAAAAAAAAAAAAAAAAAAAAAAAAAAAAAAAAAAAAAAAAAAAAAAAAAAAAAAAAAAAAAAAAAAAAAAAAAAAAAAAAAAAAAAAAAAAAAAAAAAAAAAAAAAAAAAAAAAAAAAAAAAAAAAAAAAAAAAAAAAAAAAAAAAAAAAAAAAAAAAAAAAAAAAAAAAAAAAAAAAAAAAAAAAAAAAAAAAAAAAAAAAAAAAAAAAAAAAAAAAAAAAAAAAAAAAAAAAAAAAAAAAAAAAAAAAAAAAAAAAAAAAAAAAAAAAAAAAAAAAAAAAAAAAAAAAAAAAAAAAAAAAAAAAAAAAAAAAAAAAAAAAAAAAAAAAAAAAAAAAAAAAAAAAAAAAAAAAAAAAAAAAAAAAAAAAAAAAAAAAAAAAAAAAAAAAAAAAAAAAAAAAAAAAAAAAAAAAAAAAAAAAAAAAAAAAAAAAAAAAAAAAAAAAAAAAAAAAAAAAAAAAAAAAAAAAAAAAAAAAAAAAAAAAAAAAAAAAAAAAAAAAAAAAAAAAAAAAAAAAAAAAAAAAAAAAAAAAAAAAAAAAAAAAAAAAAAAAAAAAAAAAAAAAAAAAAAAAAAAAAAAAAAAAAAAAAAAAAAAAAAAAAAAAAAAAAAAAAAAAAAAAAAAAAAAAAAAAAAAAAAAAAAAAAAAAAAAAAAAAAAAAAAAAAAAAAAAAAAAAAAAAAAAAAAAAAAAAAAAAAAAAAAAAAAAAAAAAAAAAAAAAAAAAAAAAAAAAAAAAAAAAAAAAAAAAAAAAAAAAAAAAAAAAAAAAAAAAAAAAAAAAAAAAAAAAAAAAAAAAAAAAAAAAAAAAAAAAAAAAAAAAAAAAAAAAAAAAAAAAAAAAAAAAAAAAAAAAAAAAAAAAAAAAAAAAAAAAAAAAAAAAAAAAAAAAAAAAAAAAAAAAAAAAAAAAAAAAAAAAAAAAAAAAAAAAAAAAAAAAAAAAAAAAAAAAAAAAAAAAAAAAAAAAAAAAAAAAAAAAAAAAAAAAAAAAAAAAAAAAAAAAAAAAAAAAAAAAAAAAAAAAAAAAAAAAAAAAAAAAAAAAAAAAAAAAAAAAAAAAAAAAAAAAAAAAAAAAAAAAAAAAAAAAAAAAAAAAAAAAAAAAAAAAAAAAAAAAAAAAAAAAAAAAAAAAAAAAAAAAAAAAAAAAAAAAAAAAAAAAAAAAAAAAAAAAAAAAAAAAAAAAAAAAAAAAAAAAAAAAAAAAAAAAAAAAAAAAAAAAAAAAAAAAAAAAAAAAAAAAAAAAAAAAAAAAAAAAAAAAAAAAAyMDIyOjEyOjI3IDE1OjAyOjAwADIwMjI6MTI6MjcgMTU6MDI6MDAAAAAfBD4EOwRMBDcEPgQyBDAEQgQ1BDsETAQAAP/hCytodHRwOi8vbnMuYWRvYmUuY29tL3hhcC8xLjAvADw/eHBhY2tldCBiZWdpbj0n77u/JyBpZD0nVzVNME1wQ2VoaUh6cmVTek5UY3prYzlkJz8+DQo8eDp4bXBtZXRhIHhtbG5zOng9ImFkb2JlOm5zOm1ldGEvIj48cmRmOlJERiB4bWxuczpyZGY9Imh0dHA6Ly93d3cudzMub3JnLzE5OTkvMDIvMjItcmRmLXN5bnRheC1ucyMiPjxyZGY6RGVzY3JpcHRpb24gcmRmOmFib3V0PSJ1dWlkOmZhZjViZGQ1LWJhM2QtMTFkYS1hZDMxLWQzM2Q3NTE4MmYxYiIgeG1sbnM6ZGM9Imh0dHA6Ly9wdXJsLm9yZy9kYy9lbGVtZW50cy8xLjEvIi8+PHJkZjpEZXNjcmlwdGlvbiByZGY6YWJvdXQ9InV1aWQ6ZmFmNWJkZDUtYmEzZC0xMWRhLWFkMzEtZDMzZDc1MTgyZjFiIiB4bWxuczp4bXA9Imh0dHA6Ly9ucy5hZG9iZS5jb20veGFwLzEuMC8iPjx4bXA6Q3JlYXRlRGF0ZT4yMDIyLTEyLTI3VDE1OjAyOjAwLjg0NDwveG1wOkNyZWF0ZURhdGU+PC9yZGY6RGVzY3JpcHRpb24+PHJkZjpEZXNjcmlwdGlvbiByZGY6YWJvdXQ9InV1aWQ6ZmFmNWJkZDUtYmEzZC0xMWRhLWFkMzEtZDMzZDc1MTgyZjFiIiB4bWxuczpkYz0iaHR0cDovL3B1cmwub3JnL2RjL2VsZW1lbnRzLzEuMS8iPjxkYzpjcmVhdG9yPjxyZGY6U2VxIHhtbG5zOnJkZj0iaHR0cDovL3d3dy53My5vcmcvMTk5OS8wMi8yMi1yZGYtc3ludGF4LW5zIyI+PHJkZjpsaT7Qn9C+0LvRjNC30L7QstCw0YLQtdC70Yw8L3JkZjpsaT48L3JkZjpTZXE+DQoJCQk8L2RjOmNyZWF0b3I+PC9yZGY6RGVzY3JpcHRpb24+PC9yZGY6UkRGPjwveDp4bXBtZXRhPg0KICAgICAgICAgICAgICAgICAgICAgICAgICAgICAgICAgICAgICAgICAgICAgICAgICAgICAgICAgICAgICAgICAgICAgICAgICAgICAgICAgICAgICAgICAgICAgICAgICAgIAogICAgICAgICAgICAgICAgICAgICAgICAgICAgICAgICAgICAgICAgICAgICAgICAgICAgICAgICAgICAgICAgICAgICAgICAgICAgICAgICAgICAgICAgICAgICAgICAgICAgCiAgICAgICAgICAgICAgICAgICAgICAgICAgICAgICAgICAgICAgICAgICAgICAgICAgICAgICAgICAgICAgICAgICAgICAgICAgICAgICAgICAgICAgICAgICAgICAgICAgICAKICAgICAgICAgICAgICAgICAgICAgICAgICAgICAgICAgICAgICAgICAgICAgICAgICAgICAgICAgICAgICAgICAgICAgICAgICAgICAgICAgICAgICAgICAgICAgICAgICAgIAogICAgICAgICAgICAgICAgICAgICAgICAgICAgICAgICAgICAgICAgICAgICAgICAgICAgICAgICAgICAgICAgICAgICAgICAgICAgICAgICAgICAgICAgICAgICAgICAgICAgCiAgICAgICAgICAgICAgICAgICAgICAgICAgICAgICAgICAgICAgICAgICAgICAgICAgICAgICAgICAgICAgICAgICAgICAgICAgICAgICAgICAgICAgICAgICAgICAgICAgICAKICAgICAgICAgICAgICAgICAgICAgICAgICAgICAgICAgICAgICAgICAgICAgICAgICAgICAgICAgICAgICAgICAgICAgICAgICAgICAgICAgICAgICAgICAgICAgICAgICAgIAogICAgICAgICAgICAgICAgICAgICAgICAgICAgICAgICAgICAgICAgICAgICAgICAgICAgICAgICAgICAgICAgICAgICAgICAgICAgICAgICAgICAgICAgICAgICAgICAgICAgCiAgICAgICAgICAgICAgICAgICAgICAgICAgICAgICAgICAgICAgICAgICAgICAgICAgICAgICAgICAgICAgICAgICAgICAgICAgICAgICAgICAgICAgICAgICAgICAgICAgICAKICAgICAgICAgICAgICAgICAgICAgICAgICAgICAgICAgICAgICAgICAgICAgICAgICAgICAgICAgICAgICAgICAgICAgICAgICAgICAgICAgICAgICAgICAgICAgICAgICAgIAogICAgICAgICAgICAgICAgICAgICAgICAgICAgICAgICAgICAgICAgICAgICAgICAgICAgICAgICAgICAgICAgICAgICAgICAgICAgICAgICAgICAgICAgICAgICAgICAgICAgCiAgICAgICAgICAgICAgICAgICAgICAgICAgICAgICAgICAgICAgICAgICAgICAgICAgICAgICAgICAgICAgICAgICAgICAgICAgICAgICAgICAgICAgICAgICAgICAgICAgICAKICAgICAgICAgICAgICAgICAgICAgICAgICAgICAgICAgICAgICAgICAgICAgICAgICAgICAgICAgICAgICAgICAgICAgICAgICAgICAgICAgICAgICAgICAgICAgICAgICAgIAogICAgICAgICAgICAgICAgICAgICAgICAgICAgICAgICAgICAgICAgICAgICAgICAgICAgICAgICAgICAgICAgICAgICAgICAgICAgICAgICAgICAgICAgICAgICAgICAgICAgCiAgICAgICAgICAgICAgICAgICAgICAgICAgICAgICAgICAgICAgICAgICAgICAgICAgICAgICAgICAgICAgICAgICAgICAgICAgICAgICAgICAgICAgICAgICAgICAgICAgICAKICAgICAgICAgICAgICAgICAgICAgICAgICAgICAgICAgICAgICAgICAgICAgICAgICAgICAgICAgICAgICAgICAgICAgICAgICAgICAgICAgICAgICAgICAgICAgICAgICAgIAogICAgICAgICAgICAgICAgICAgICAgICAgICAgICAgICAgICAgICAgICAgICAgICAgICAgICAgICAgICAgICAgICAgICAgICAgICAgICAgICAgICAgICAgICAgICAgICAgICAgCiAgICAgICAgICAgICAgICAgICAgICAgICAgICAgICAgICAgICAgICAgICAgICAgICAgICAgICAgICAgICAgICAgICAgICAgICAgICAgICAgICAgICAgICAgICAgICAgICAgICAKICAgICAgICAgICAgICAgICAgICAgICAgICAgICAgICAgICAgICAgICAgICAgICAgICAgICAgICAgICAgICAgICAgICAgICAgICAgICAgICAgICAgICAgICAgICAgICAgICAgIAogICAgICAgICAgICAgICAgICAgICAgICAgICAgICAgICAgICAgICAgICAgICAgICAgICAgICAgICAgICAgICAgICAgICAgICAgICAgICAgICAgICAgICAgICAgICAgICAgICAgCiAgICAgICAgICAgICAgICAgICAgICAgICAgICA8P3hwYWNrZXQgZW5kPSd3Jz8+/9sAQwAHBQUGBQQHBgUGCAcHCAoRCwoJCQoVDxAMERgVGhkYFRgXGx4nIRsdJR0XGCIuIiUoKSssKxogLzMvKjInKisq/9sAQwEHCAgKCQoUCwsUKhwYHCoqKioqKioqKioqKioqKioqKioqKioqKioqKioqKioqKioqKioqKioqKioqKioqKioq/8AAEQgBMgE4AwEiAAIRAQMRAf/EAB8AAAEFAQEBAQEBAAAAAAAAAAABAgMEBQYHCAkKC//EALUQAAIBAwMCBAMFBQQEAAABfQECAwAEEQUSITFBBhNRYQcicRQygZGhCCNCscEVUtHwJDNicoIJChYXGBkaJSYnKCkqNDU2Nzg5OkNERUZHSElKU1RVVldYWVpjZGVmZ2hpanN0dXZ3eHl6g4SFhoeIiYqSk5SVlpeYmZqio6Slpqeoqaqys7S1tre4ubrCw8TFxsfIycrS09TV1tfY2drh4uPk5ebn6Onq8fLz9PX29/j5+v/EAB8BAAMBAQEBAQEBAQEAAAAAAAABAgMEBQYHCAkKC//EALURAAIBAgQEAwQHBQQEAAECdwABAgMRBAUhMQYSQVEHYXETIjKBCBRCkaGxwQkjM1LwFWJy0QoWJDThJfEXGBkaJicoKSo1Njc4OTpDREVGR0hJSlNUVVZXWFlaY2RlZmdoaWpzdHV2d3h5eoKDhIWGh4iJipKTlJWWl5iZmqKjpKWmp6ipqrKztLW2t7i5usLDxMXGx8jJytLT1NXW19jZ2uLj5OXm5+jp6vLz9PX29/j5+v/aAAwDAQACEQMRAD8A+kaKKYzncVjXcwHOTgCgB9FRbrj/AJ5R/wDfw/8AxNG64/55R/8Afw//ABNAEtFRbrj/AJ5R/wDfw/8AxNG64/55R/8Afw//ABNAEtFRbrj/AJ5R/wDfw/8AxNG64/55R/8Afw//ABNAEtFRbrj/AJ5R/wDfw/8AxNG64/55R/8Afw//ABNAEtFRbrj/AJ5R/wDfw/8AxNG64/55R/8Afw//ABNAEtFRbrj/AJ5R/wDfw/8AxNG64/55R/8Afw//ABNAEtFRbrj/AJ5R/wDfw/8AxNG64/55R/8Afw//ABNAEtFRbrj/AJ5R/wDfw/8AxNG64/55R/8Afw//ABNAEtFRbrj/AJ5R/wDfw/8AxNG64/55R/8Afw//ABNAEtFRbrj/AJ5R/wDfw/8AxNG64/55R/8Afw//ABNAEtFRbrj/AJ5R/wDfw/8AxNG64/55R/8Afw//ABNAEtFRbrj/AJ5R/wDfw/8AxNG64/55R/8Afw//ABNAEtFRbrj/AJ5R/wDfw/8AxNG64/55R/8Afw//ABNAEtFRbrj/AJ5R/wDfw/8AxNG64/55R/8Afw//ABNAEtFRbrj/AJ5R/wDfw/8AxNG64/55R/8Afw//ABNAEtFRbrj/AJ5R/wDfw/8AxNG64/55R/8Afw//ABNAEtFRbrj/AJ5R/wDfw/8AxNG64/55R/8Afw//ABNAEtFRbp+8cePaQ/4VIjh1yMjsQe1AC0UUUAFRRf6yf/fH/oK1LUUX+tn/AOug/wDQVoAlooooAKKKKACiiigAooooAKKKKACiiigAooooAKKKKACiiigAooooAKKKKACiiigAooooAKKKKACiiigAooooAKKKKACoov8AWT/74/8AQVqWoov9bP8A9dB/6CtAEtFFFABUUX+tn/66D/0Falqss8cU86u6qd4OCwH8IoAs0VGJlIyOR9aXzR6UAPopnmj0o80elAD6KrXGoW9qAbh9m48cE04XkBUMJUwRkZYCgCeioRdRE8SIfowp/migB9FM80elHmj0oAfRTPNHpR5o9KAH0UzzR6VBPqNtbvtmkKn/AHTj86ALVFURrNizYWbJzjhT1px1W0DYaRhxnJQ4/PFAFyiqJ1mxABM4w3Q4NOGq2hUMHYg9MIf8KALlFQNeQom92wMZ9/y61CNXtDnDvwM/6tv8KALtFUv7XsyoIkYgjIIjb/Cg6taBtpds4zjy2/woAu0VTOq2igEs/P8A0zb/AAqaO5jli8xW+T1IxQBNRVI6vZgkb3/79t/hS/2raYY72+Xr8jf4UAXKKpHV7QAHe/P/AEzb/CgavZscB2z/ANc2/wAKALtFUjq1orYLvn/rm3+FK2q2iMVZ3yDjiNj/AEoAuUVS/ta03bd7A+8bf4VGdcsAxUz8g4+6etAGjRTPNGB3zzR5o9KAH1FF/rZ/+ug/9BWneaKZAwZ5yP8Anp/7KKAJqKKKACuW1rJ1plCxtlVADDknFdTUMSqZpyQCd47f7K0Ac75erqNgUqqjg4/SlKasy4XcT3IFdNijFAHO2sN88227aRF9jV77ESf+PiT861cCk2j0oAwdZzHbDBUkD+PvzWK0zPhj5IUDBJUYFdwVU9QD9RSeWn9xfyoA4hZnjZGzECBzgdDWxHNE0AabUAjcbgD92t/y0/uL+VHlp/cX8qAMQSWrMMamM9vmqWGIS5aO6dgDitURIP4F/KnbV9BQBmC1YMSZ5DntQLRg2ftEmM5xWntHpRtHpQBnR25STcZnbnODUGoj/RDnH+sXr9RWxtHpQQD1AoA4y0kZLwqfL4kJOB05rdvyRpUpGPuHr0rV2J/dX8qXAIwQMUAcQ7OLG3UeUzFeuMr1rpbZXW3iDjaQnIrR8tP7q/lTsUAYs6P/AGpG6qNhX7x659KvjO01bwPSjFAGZZqy2+zA4OKSVGFxExPzdB9K1MD0owPSgCoetQXQJgPPQjr9a0cD0pcD0oApg/KB6CoMn7Yef4B/OtLA9KMD0oAqjrUEJP2iXHrWjgelLgelAFCb/Utn0pYs+Uv0q7tHpRgelAGfdc2rD+dco6zG+MUJjzI5VVK9Tmu7wPSk8tM52jPrigDmYjrdquwor55yeasNPq5U+XEm7jGf17Vv4pcUAc+k+sNG3mW6q/O0f5FammmQwOZhiTf8w99oq3io4f8AWz/9dB/6CtAEtFFFABUUX+tn/wCug/8AQVqWoov9bP8A9dB/6CtAEtFFFABRRRQAUUUUAFFFFABRRRQAUUUUAFFFFABRRRQAUUUUAFFFFABRRRQAUUUUAFFFFABRRRQAUUUUAFFFFABRRRQAVFF/rZ/+ug/9BWpaii/1s/8A10H/AKCtAEtFFFABUUX+tn/66D/0FalqKL/Wz/8AXQf+grQBLRRRQAUUUUAFFFFABRRRQAUUUUAFFFFABRRRQAUUUUAFFFFABRRRQAUUUUAFFFFABRRRQAUUUUAFFFFABRRRQAUUUUAFRRf62f8A66D/ANBWpaii/wBbP/10H/oK0AS0UUUAFRRf62f/AK6D/wBBWpaii/1s/wD10H/oK0AS0UUUAFFFFABRRRQAUUUUAFFFFABRRRQAUUUUAFFFFABRRRQAUUUUAFFFFABRRRQAUUUUAFFFFABRRRQAUUUUAFFFFABUUX+tn/66D/0FalqKL/Wz/wDXQf8AoK0AS0UUUAFRRf62f/roP/QVqWoov9bP/wBdB/6CtAEtFFFABRRRQAUUUUAFFFFABRRRQAUUUUAFFFFABRRRQAUUUUAFFFFABRRRQAUUUUAFFFFABRRRQAUUUUAFFFFABRRRQAVFF/rZ/wDroP8A0FalqKL/AFs//XQf+grQBLRRRQAVFF/rZ/8AroP/AEFalqKL/Wz/APXQf+grQBLRRRQAUUUUAFFFFABRRRQAUUUUAFFFFABRRRQAUUUUAFFFFABRRRQAUUUUAFFFFABRRRQAUUUUAFFFFABRRRQAUUUUAFRRf62f/roP/QVqWoov9bP/ANdB/wCgrQBLRRRQAVFF/rZ/+ug/9BWpaii/1s//AF0H/oK0AS0UUUAFFFFABRRRQAUUUUAFFFFABRRRQAUUUUAFFFFABRRRQAUUUUAFFFFABRRRQAUUUUAFFFFABRRRQAUUUUAFFFFABUUX+tn/AOug/wDQVqWoov8AWz/9dB/6CtAEtFFFABUUX+tn/wCug/8AQVqWoov9bP8A9dB/6CtAEtFFFABRRRQAUUUUAFFFFABRRRQAUUUUAFFFFABRRRQAUUUUAFFFFABRRRQAUUUUAFFFFABRRRQAUUUUAFFFFABRRRQAVFF/rZ/+ug/9BWpaii/1s/8A10H/AKCtAEtFFFABUUX+tn/66D/0FalqKL/Wz/8AXQf+grQBLRRRQAUUUUAFFFFABRRRQAUUUUAFFFFABRRRQAUUUUAFFFFABRRRQAUUUUAFFFFABRRRQAUUUUAFFFFABRRRQAUUUUAFRRf62f8A66D/ANBWpaii/wBbP/10H/oK0AS0UUUAFRRf62f/AK6D/wBBWpaii/1s/wD10H/oK0AS0UUUAFFFFABRRRQAUUUUAFFFFABRRRQAUUUUAFFFFABRRRQAUUUUAFFFFABRRRQAUUUUAFFFFABRRRQAUUUUAFFFFABUUX+tn/66D/0FalqKL/Wz/wDXQf8AoK0AS0UUUAFRRf62f/roP/QVqWoov9bP/wBdB/6CtAEtFFFABRRRQAUUUUAFFFFABRRRQAUUUUAFFFFABRRRQAUUUUAFFFFABRRRQAUUUUAFFFFABRRRQAUUUUAFFFFABRRRQAVFF/rZ/wDroP8A0FalqKL/AFs//XQf+grQBLRRRQAVFF/rZ/8AroP/AEFalqKL/Wz/APXQf+grQBLRRRQAUUUUAFFFFABRRRQAUUUUAFFFFABRRRQAUUUUAFFFFABRRRQAUUUUAFFFFABRRRQAUUUUAFFFFABRRRQAUUUUAFRRf62f/roP/QVqWoov9bP/ANdB/wCgrQBLRRRQAVFF/rZ/+ug/9BWpaii/1s//AF0H/oK0AS0UUUAFFFFABRRRQAUUUUAFFFFABRRRQAUUUUAFFFFABRRRQAUUUUAFFFFABRRRQAUUUUAFFFFABRRRQAUUUUAFFFFABUUX+tn/AOug/wDQVqWoov8AWz/9dB/6CtAEtFFFABUUX+tn/wCug/8AQVqWoov9bP8A9dB/6CtAEtFFFABRXmmr/GFdL1q8sE0QzC1neHzDdbdxUkE42HHI9a7XQ9eTVxJDPA1nfwYM1q7ZKg9GU/xKexrsq4LEUYKc42T80c1PFUaknGD1RrUUUVxnSFFFFABRRRQAUUUUAFFFFABRRRQAUUUUAFFFFABRRRQAUUUUAFFFFABRRRQAUUUUAFFFFABRRRQAVFF/rZ/+ug/9BWpaii/1s/8A10H/AKCtAEtFFFABUUX+tn/66D/0FalqKL/Wz/8AXQf+grQBLRRRQB8/XWi2+s+NvEK3NzdQCK+mINtYtc5zI3UKRjpXS+Gby+f4o6fa3eo3V8kVtIEe5tPs7gFD8u0844Hetm9+Ft1Nrl/qGn+Jriw+2zNMyRwnI3EnBIcZ5J7Vb8OfDqbRPEses3uuzalLHGyKJIiDyMcsXbjk8V9VWx2HnRa57+7ZK2ztbe36ng08LWjUT5be9du/S/r+h3FFFFfKnvHGeNdY1XTr9PsF61vaw2b3E4tRBJMhB4d45SC0QGc7CGzWZ4g8YX9tfedpV/NLFbtZiSJLaFIf3xXO8yN5hJVsgRj5e+ea7u+0nTtTaI6lp9reGE7ozcQrJsPqMjio7vQtJv7n7RfaXZXM4XZ5s1ujtt64yRnHtQtLDZx03ibW7fXLvSVkae402S5vZcRLme1EYaFOBxlnC5HP7s1lR+LfE/8Awjd3fm4kxLpgu4p51tf3cu9R+7SNmLR4Y/fGQRycnFeoC1t1u3ulgiFw6BGmCDeygkhSepAyePeqkegaPEtwsWk2KLdf8fAW2QCbnPzcfNz60LbX+v60+YN/1/Xz+XoT6dBc29hFFfXbXs6g752jVN/OfurwPT8K5DS9b1O8uPt8+u2tuHvrm1/sudEVVWMuBhgN+/ChjkkYJ4HFdHeeHbS+vWupbjUkdsZWDU7iJOBjhEcKOnpzVpNJ06PUn1COwtVvXXa1yIVEjD0LYyRRuJaKx5/Z+IPEcmn3kZ1KSTU108X8Mfk28kMwVxuMMkecxsPlw43cgg11fhLV5/EFvfar52/T57krYJtAxGgCls4ycuGPPtWpZ6RpunPM+n6fa2rTnMrQQKhkP+1gc/jVe58PWFzbwW6fabOG3BEcVhdy2qgH2iZQfxp/1/X9dwMXxpYw/wBp+H77MvnjVbeIfvn2BcsfuZ2598Zq94u1mbTdIH9n3MUM0l3BbSTsA32VZHALkHjIB4zxyK1YtMtY7W3t3jNwluweJrpzM6sOjbnJORnrnNOfTrKQXIks7dhdgC43RKfOwMDfx83HHNLZW87/AJf5B1v5W/P/ADOL1DU9ctljsrLXo9QdLyRJHtfsy3hQRhtgWQCJmUnLYAO0joaq3fi7VotP0+Wzv/tP9t2Cw2EptVj23nmBC23nqr7sEkfuzjiu3bw/oz6amnvpFi1kjbltjbIY1PqFxgGrLWNoy24a1hItSGgBjH7ogYBX+7wSOO1CH/X9f1sSxqyRKruXYAAsQAWPrxTqKKBBRRRQAUUUUAFFFFABRRRQAUUUUAFFFFABRRRQAVFF/rZ/+ug/9BWpaii/1s//AF0H/oK0AS0UUUAFRRf62f8A66D/ANBWpajZHWQvFt+b7ytwD75oAkoqLdcf88o/+/h/+Jo3XH/PKP8A7+H/AOJoAloqLdcf88o/+/h/+Jo3XH/PKP8A7+H/AOJoAloqLdcf88o/+/h/+Jo3XH/PKP8A7+H/AOJoAloqLdcf88o/+/h/+Jo3XH/PKP8A7+H/AOJoAloqLdcf88o/+/h/+Jo3XH/PKP8A7+H/AOJoAloqLdcf88o/+/h/+Jo3XH/PKP8A7+H/AOJoAloqLdcf88o/+/h/+Jo3XH/PKP8A7+H/AOJoAloqLdcf88o/+/h/+Jo3XH/PKP8A7+H/AOJoAloqLdcf88o/+/h/+Jo3XH/PKP8A7+H/AOJoAloqLdcf88o/+/h/+Jo3XH/PKP8A7+H/AOJoAloqLdcf88o/+/h/+Jo3XH/PKP8A7+H/AOJoAloqLdcf88o/+/h/+Jo3XH/PKP8A7+H/AOJoAloqLdcf88o/+/h/+Jo3XH/PKP8A7+H/AOJoAloqLdcf88o/+/h/+Jo3XH/PKP8A7+H/AOJoAloqLdcf88o/+/h/+Jo3XH/PKP8A7+H/AOJoAloqLdcf88o/+/h/+Jo3XH/PKP8A7+H/AOJoAloqLdcf88o/+/h/+Jo3XH/PKP8A7+H/AOJoAlqKH/Wz/wDXQf8AoK0brg/8s4x77yf6U6NPLXBO4k5Y+poAfRRRQAUUUUAFFFFABRRRQAUUUUAFFFFABRRRQAUUUUAFFFFABRRRQAUUUUAFFFFABRRRQAUUUUAFFFFABRRRQAUUUUAFFFFABRRRQAUUUUAFFFFAH//Z)"
      ],
      "metadata": {
        "id": "cooyAH3LdcNc"
      }
    },
    {
      "cell_type": "code",
      "source": [
        "# Метод сохранения в excel\n",
        "d.saver_excel()"
      ],
      "metadata": {
        "id": "zzlBpQRUc1ZL",
        "colab": {
          "base_uri": "https://localhost:8080/"
        },
        "outputId": "bb4b1caa-6b5c-4ba1-b399-ee7461d7d948"
      },
      "execution_count": 114,
      "outputs": [
        {
          "output_type": "stream",
          "name": "stdout",
          "text": [
            "Файл в формате excel сохранен на Ваш Google диск\n"
          ]
        }
      ]
    },
    {
      "cell_type": "markdown",
      "source": [
        "![Снимок_excel.JPG](data:image/jpeg;base64,/9j/4AAQSkZJRgABAQEAYABgAAD/4RD+RXhpZgAATU0AKgAAAAgABAE7AAIAAAAZAAAISodpAAQAAAABAAAIZJydAAEAAAAaAAAQ3OocAAcAAAgMAAAAPgAAAAAc6gAAAAgAAAAAAAAAAAAAAAAAAAAAAAAAAAAAAAAAAAAAAAAAAAAAAAAAAAAAAAAAAAAAAAAAAAAAAAAAAAAAAAAAAAAAAAAAAAAAAAAAAAAAAAAAAAAAAAAAAAAAAAAAAAAAAAAAAAAAAAAAAAAAAAAAAAAAAAAAAAAAAAAAAAAAAAAAAAAAAAAAAAAAAAAAAAAAAAAAAAAAAAAAAAAAAAAAAAAAAAAAAAAAAAAAAAAAAAAAAAAAAAAAAAAAAAAAAAAAAAAAAAAAAAAAAAAAAAAAAAAAAAAAAAAAAAAAAAAAAAAAAAAAAAAAAAAAAAAAAAAAAAAAAAAAAAAAAAAAAAAAAAAAAAAAAAAAAAAAAAAAAAAAAAAAAAAAAAAAAAAAAAAAAAAAAAAAAAAAAAAAAAAAAAAAAAAAAAAAAAAAAAAAAAAAAAAAAAAAAAAAAAAAAAAAAAAAAAAAAAAAAAAAAAAAAAAAAAAAAAAAAAAAAAAAAAAAAAAAAAAAAAAAAAAAAAAAAAAAAAAAAAAAAAAAAAAAAAAAAAAAAAAAAAAAAAAAAAAAAAAAAAAAAAAAAAAAAAAAAAAAAAAAAAAAAAAAAAAAAAAAAAAAAAAAAAAAAAAAAAAAAAAAAAAAAAAAAAAAAAAAAAAAAAAAAAAAAAAAAAAAAAAAAAAAAAAAAAAAAAAAAAAAAAAAAAAAAAAAAAAAAAAAAAAAAAAAAAAAAAAAAAAAAAAAAAAAAAAAAAAAAAAAAAAAAAAAAAAAAAAAAAAAAAAAAAAAAAAAAAAAAAAAAAAAAAAAAAAAAAAAAAAAAAAAAAAAAAAAAAAAAAAAAAAAAAAAAAAAAAAAAAAAAAAAAAAAAAAAAAAAAAAAAAAAAAAAAAAAAAAAAAAAAAAAAAAAAAAAAAAAAAAAAAAAAAAAAAAAAAAAAAAAAAAAAAAAAAAAAAAAAAAAAAAAAAAAAAAAAAAAAAAAAAAAAAAAAAAAAAAAAAAAAAAAAAAAAAAAAAAAAAAAAAAAAAAAAAAAAAAAAAAAAAAAAAAAAAAAAAAAAAAAAAAAAAAAAAAAAAAAAAAAAAAAAAAAAAAAAAAAAAAAAAAAAAAAAAAAAAAAAAAAAAAAAAAAAAAAAAAAAAAAAAAAAAAAAAAAAAAAAAAAAAAAAAAAAAAAAAAAAAAAAAAAAAAAAAAAAAAAAAAAAAAAAAAAAAAAAAAAAAAAAAAAAAAAAAAAAAAAAAAAAAAAAAAAAAAAAAAAAAAAAAAAAAAAAAAAAAAAAAAAAAAAAAAAAAAAAAAAAAAAAAAAAAAAAAAAAAAAAAAAAAAAAAAAAAAAAAAAAAAAAAAAAAAAAAAAAAAAAAAAAAAAAAAAAAAAAAAAAAAAAAAAAAAAAAAAAAAAAAAAAAAAAAAAAAAAAAAAAAAAAAAAAAAAAAAAAAAAAAAAAAAAAAAAAAAAAAAAAAAAAAAAAAAAAAAAAAAAAAAAAAAAAAAAAAAAAAAAAAAAAAAAAAAAAAAAAAAAAAAAAAAAAAAAAAAAAAAAAAAAAAAAAAAAAAAAAAAAAAAAAAAAAAAAAAAAAAAAAAAAAAAAAAAAAAAAAAAAAAAAAAAAAAAAAAAAAAAAAAAAAAAAAAAAAAAAAAAAAAAAAAAAAAAAAAAAAAAAAAAAAAAAAAAAAAAAAAAAAAAAAAAAAAAAAAAAAAAAAAAAAAAAAAAAAAAAAAAAAAAAAAAAAAAAAAAAAAAAAAAAAAAAAAAAAAAAAAAAAAAAAAAAAAAAAAAAAAAAAAAAAAAAAAAAAAAAAAAAAAAAAAAAAAAAAAAAAAAAAAAAAAAAAAAAAAAAAAAAAAAAAAAAAAAAAAAAAAAAAAAAAAAAAAAAAAAAAAAAAAAAAAAAAAAAAAAAAAAAAAAAAAAAAAAAAAAAAAAAAAAAAAAAAAAAAAAAAAAAAAAAAAAAAAAAAAAAAAAAAAAAAAAAAAAAAAAAAAAAAAAAAAAAAAAAAAAAAAAAAAAAAAAAAAAAAAAAAAAAAAAAAAAAAAAAAAAAAAAAAAAAAAAAAAAAAAAAAAAAAAAAAAAAAAAAAAAAAAAAAAAAAAAAAAAAAAAAAAAAAAAAAAAAAAAAAAAAAAAAAAAAAAAAAAAAAAAAAAAAAAAAAAAAAAAAAAAAAAAAAAAAAAAAAAAAAAAAAAAAAAAAAAAAAAAAAAAAAAAAAAAAAAAAAAAAAAAAAAAAAAAAAAAAAAAAAAAAAAAAAAAAAAAAAAAAAAAAAAAAAAAAAAAAAAAAAAAAAAAAAAAAAAAAAAAAAAAAAAAAAAAAAAAAAAAAAAAAAAAAAAAAAAAAAAAAAAAAAAAAAAAAAAAAAAAAAAAAAAAAAAAAAAAAAAAAAAAAAAAAAAAAAAAAAAAAAAAAAAAAAAAAAAAAAAAAAAAAAAAAAAAAAAAAAAAAAAAAAAAAAAAAAAAAAAAAAAAAAAAAAAAAAAAAAAAAAAAAAAAAAAAAAAAAAAAAAAAAAAAAAAAAAAAAAAAAAAAAAAAAAAAAAAAAAAAAAAAAAAAAAAAAAAAAAAAAAAAAAAAAAAAAAAAAAAAAAAAAAAAAAAAAAAAAAAAAAAAAAAAAAAAAAAAAAAAAAAAAAAAAAAAAAAAAAAAAAAAAAAAAAAAAAAAAAAAAAAAAAAAAAAAAAAAAAAAAAAAAAAAAAAAAAAAAAAAAAAAAAAAAAAAAAAAAAAAAAAAAAAAAAAAAAAAAAAAAAAAAAAAAAAAAAAAAAAAAAAAAAAAAANCf0L7Qu9GM0LfQvtCy0LDRgtC10LvRjAAAAAWQAwACAAAAFAAAELKQBAACAAAAFAAAEMaSkQACAAAAAzU0AACSkgACAAAAAzU0AADqHAAHAAAIDAAACKYAAAAAHOoAAAAIAAAAAAAAAAAAAAAAAAAAAAAAAAAAAAAAAAAAAAAAAAAAAAAAAAAAAAAAAAAAAAAAAAAAAAAAAAAAAAAAAAAAAAAAAAAAAAAAAAAAAAAAAAAAAAAAAAAAAAAAAAAAAAAAAAAAAAAAAAAAAAAAAAAAAAAAAAAAAAAAAAAAAAAAAAAAAAAAAAAAAAAAAAAAAAAAAAAAAAAAAAAAAAAAAAAAAAAAAAAAAAAAAAAAAAAAAAAAAAAAAAAAAAAAAAAAAAAAAAAAAAAAAAAAAAAAAAAAAAAAAAAAAAAAAAAAAAAAAAAAAAAAAAAAAAAAAAAAAAAAAAAAAAAAAAAAAAAAAAAAAAAAAAAAAAAAAAAAAAAAAAAAAAAAAAAAAAAAAAAAAAAAAAAAAAAAAAAAAAAAAAAAAAAAAAAAAAAAAAAAAAAAAAAAAAAAAAAAAAAAAAAAAAAAAAAAAAAAAAAAAAAAAAAAAAAAAAAAAAAAAAAAAAAAAAAAAAAAAAAAAAAAAAAAAAAAAAAAAAAAAAAAAAAAAAAAAAAAAAAAAAAAAAAAAAAAAAAAAAAAAAAAAAAAAAAAAAAAAAAAAAAAAAAAAAAAAAAAAAAAAAAAAAAAAAAAAAAAAAAAAAAAAAAAAAAAAAAAAAAAAAAAAAAAAAAAAAAAAAAAAAAAAAAAAAAAAAAAAAAAAAAAAAAAAAAAAAAAAAAAAAAAAAAAAAAAAAAAAAAAAAAAAAAAAAAAAAAAAAAAAAAAAAAAAAAAAAAAAAAAAAAAAAAAAAAAAAAAAAAAAAAAAAAAAAAAAAAAAAAAAAAAAAAAAAAAAAAAAAAAAAAAAAAAAAAAAAAAAAAAAAAAAAAAAAAAAAAAAAAAAAAAAAAAAAAAAAAAAAAAAAAAAAAAAAAAAAAAAAAAAAAAAAAAAAAAAAAAAAAAAAAAAAAAAAAAAAAAAAAAAAAAAAAAAAAAAAAAAAAAAAAAAAAAAAAAAAAAAAAAAAAAAAAAAAAAAAAAAAAAAAAAAAAAAAAAAAAAAAAAAAAAAAAAAAAAAAAAAAAAAAAAAAAAAAAAAAAAAAAAAAAAAAAAAAAAAAAAAAAAAAAAAAAAAAAAAAAAAAAAAAAAAAAAAAAAAAAAAAAAAAAAAAAAAAAAAAAAAAAAAAAAAAAAAAAAAAAAAAAAAAAAAAAAAAAAAAAAAAAAAAAAAAAAAAAAAAAAAAAAAAAAAAAAAAAAAAAAAAAAAAAAAAAAAAAAAAAAAAAAAAAAAAAAAAAAAAAAAAAAAAAAAAAAAAAAAAAAAAAAAAAAAAAAAAAAAAAAAAAAAAAAAAAAAAAAAAAAAAAAAAAAAAAAAAAAAAAAAAAAAAAAAAAAAAAAAAAAAAAAAAAAAAAAAAAAAAAAAAAAAAAAAAAAAAAAAAAAAAAAAAAAAAAAAAAAAAAAAAAAAAAAAAAAAAAAAAAAAAAAAAAAAAAAAAAAAAAAAAAAAAAAAAAAAAAAAAAAAAAAAAAAAAAAAAAAAAAAAAAAAAAAAAAAAAAAAAAAAAAAAAAAAAAAAAAAAAAAAAAAAAAAAAAAAAAAAAAAAAAAAAAAAAAAAAAAAAAAAAAAAAAAAAAAAAAAAAAAAAAAAAAAAAAAAAAAAAAAAAAAAAAAAAAAAAAAAAAAAAAAAAAAAAAAAAAAAAAAAAAAAAAAAAAAAAAAAAAAAAAAAAAAAAAAAAAAAAAAAAAAAAAAAAAAAAAAAAAAAAAAAAAAAAAAAAAAAAAAAAAAAAAAAAAAAAAAAAAAAAAAAAAAAAAAAAAAAAAAAAAAAAAAAAAAAAAAAAAAAAAAAAAAAAAAAAAAAAAAAAAAAAAAAAAAAAAAAAAAAAAAAAAAAAAAAAAAAAAAAAAAAAAAAAAAAAAAAAAAAAAAAAAAAAAAAAAAAAAAAAAAAAAAAAAAAAAAAAAAAAAAAAAAAAAAAAAAAAAAAAAAAAAAAAAAAAAAAAAAAAAAAAAAAAAAAAAAAAAAAAAAAAAAAAAAAAAAAAAAAAAAAAAAAAAAAAAAAAAAAAAAAAAAAAAAAAAAAAAAAAAAAAAAAAAAAAAAAAAAAAAAAAAAAAAAAAAAAAAAAAAAAAAAAAAAAAAAAAAAAAAAAAAAAAAAAAAAAAAAAAAAAAAAAAAAAAAAAAAAAAAAAAAAAAAAAAAAAAAAAAAAAAAAAAAAAAAAAAAAAAAAAAAAAAAAAAAAAAAAAAAAAAAAAAAAAAAAAAAAAAAAAAAAAAAAAAAAAAAAAAAAAAAAAAAAAAAAAAAAAAAAAAAAAAAAAAAAAAAAAAAAAAAAAAAAAAAAAAAAAAAAAAAAAAAAAAAAAAAAAAAAAAAAAAAAAAAAAAAAAAAAAAAAAAAAAAAAAAAAAAAAAAAAAAAAAAAAAAAAAAAAAAAAAAAAAAAAAAAAAAAAAAAAAAAAAAAAAAAAAAAAAAAAAAAAAAAAAAAAAAAAAAAAAAAAAAAAAAAAAAAAAAAAAAAAAAAAAAAAAAAAAAAAAAAAAAAAAAAAAAAAAAAAAAAAAAAAAAAAAAAAAAAAAAAAAAAAAAAAAAAAAAAAAAAAAAAAAAAAAAAAAAAAAAAAAAAAAAAAAAAAAAAAAAAAAAAAAAAAAAAAAAAAAAAAAAAAAAAAAAAAAAAAAAAAAAAAAAAAAAAAAAAAAAAAAAAAAAAAAAAAAAAAAAAAAAAAAAAAAAAAAAAAAAAAAAAAAAAAAAAAAAAAAAAAAAAAAAAAAAAAAAAAAAAAAAAAAAAAAAAyMDIyOjEyOjI3IDE1OjA2OjU1ADIwMjI6MTI6MjcgMTU6MDY6NTUAAAAfBD4EOwRMBDcEPgQyBDAEQgQ1BDsETAQAAP/hCytodHRwOi8vbnMuYWRvYmUuY29tL3hhcC8xLjAvADw/eHBhY2tldCBiZWdpbj0n77u/JyBpZD0nVzVNME1wQ2VoaUh6cmVTek5UY3prYzlkJz8+DQo8eDp4bXBtZXRhIHhtbG5zOng9ImFkb2JlOm5zOm1ldGEvIj48cmRmOlJERiB4bWxuczpyZGY9Imh0dHA6Ly93d3cudzMub3JnLzE5OTkvMDIvMjItcmRmLXN5bnRheC1ucyMiPjxyZGY6RGVzY3JpcHRpb24gcmRmOmFib3V0PSJ1dWlkOmZhZjViZGQ1LWJhM2QtMTFkYS1hZDMxLWQzM2Q3NTE4MmYxYiIgeG1sbnM6ZGM9Imh0dHA6Ly9wdXJsLm9yZy9kYy9lbGVtZW50cy8xLjEvIi8+PHJkZjpEZXNjcmlwdGlvbiByZGY6YWJvdXQ9InV1aWQ6ZmFmNWJkZDUtYmEzZC0xMWRhLWFkMzEtZDMzZDc1MTgyZjFiIiB4bWxuczp4bXA9Imh0dHA6Ly9ucy5hZG9iZS5jb20veGFwLzEuMC8iPjx4bXA6Q3JlYXRlRGF0ZT4yMDIyLTEyLTI3VDE1OjA2OjU1LjU0MjwveG1wOkNyZWF0ZURhdGU+PC9yZGY6RGVzY3JpcHRpb24+PHJkZjpEZXNjcmlwdGlvbiByZGY6YWJvdXQ9InV1aWQ6ZmFmNWJkZDUtYmEzZC0xMWRhLWFkMzEtZDMzZDc1MTgyZjFiIiB4bWxuczpkYz0iaHR0cDovL3B1cmwub3JnL2RjL2VsZW1lbnRzLzEuMS8iPjxkYzpjcmVhdG9yPjxyZGY6U2VxIHhtbG5zOnJkZj0iaHR0cDovL3d3dy53My5vcmcvMTk5OS8wMi8yMi1yZGYtc3ludGF4LW5zIyI+PHJkZjpsaT7Qn9C+0LvRjNC30L7QstCw0YLQtdC70Yw8L3JkZjpsaT48L3JkZjpTZXE+DQoJCQk8L2RjOmNyZWF0b3I+PC9yZGY6RGVzY3JpcHRpb24+PC9yZGY6UkRGPjwveDp4bXBtZXRhPg0KICAgICAgICAgICAgICAgICAgICAgICAgICAgICAgICAgICAgICAgICAgICAgICAgICAgICAgICAgICAgICAgICAgICAgICAgICAgICAgICAgICAgICAgICAgICAgICAgICAgIAogICAgICAgICAgICAgICAgICAgICAgICAgICAgICAgICAgICAgICAgICAgICAgICAgICAgICAgICAgICAgICAgICAgICAgICAgICAgICAgICAgICAgICAgICAgICAgICAgICAgCiAgICAgICAgICAgICAgICAgICAgICAgICAgICAgICAgICAgICAgICAgICAgICAgICAgICAgICAgICAgICAgICAgICAgICAgICAgICAgICAgICAgICAgICAgICAgICAgICAgICAKICAgICAgICAgICAgICAgICAgICAgICAgICAgICAgICAgICAgICAgICAgICAgICAgICAgICAgICAgICAgICAgICAgICAgICAgICAgICAgICAgICAgICAgICAgICAgICAgICAgIAogICAgICAgICAgICAgICAgICAgICAgICAgICAgICAgICAgICAgICAgICAgICAgICAgICAgICAgICAgICAgICAgICAgICAgICAgICAgICAgICAgICAgICAgICAgICAgICAgICAgCiAgICAgICAgICAgICAgICAgICAgICAgICAgICAgICAgICAgICAgICAgICAgICAgICAgICAgICAgICAgICAgICAgICAgICAgICAgICAgICAgICAgICAgICAgICAgICAgICAgICAKICAgICAgICAgICAgICAgICAgICAgICAgICAgICAgICAgICAgICAgICAgICAgICAgICAgICAgICAgICAgICAgICAgICAgICAgICAgICAgICAgICAgICAgICAgICAgICAgICAgIAogICAgICAgICAgICAgICAgICAgICAgICAgICAgICAgICAgICAgICAgICAgICAgICAgICAgICAgICAgICAgICAgICAgICAgICAgICAgICAgICAgICAgICAgICAgICAgICAgICAgCiAgICAgICAgICAgICAgICAgICAgICAgICAgICAgICAgICAgICAgICAgICAgICAgICAgICAgICAgICAgICAgICAgICAgICAgICAgICAgICAgICAgICAgICAgICAgICAgICAgICAKICAgICAgICAgICAgICAgICAgICAgICAgICAgICAgICAgICAgICAgICAgICAgICAgICAgICAgICAgICAgICAgICAgICAgICAgICAgICAgICAgICAgICAgICAgICAgICAgICAgIAogICAgICAgICAgICAgICAgICAgICAgICAgICAgICAgICAgICAgICAgICAgICAgICAgICAgICAgICAgICAgICAgICAgICAgICAgICAgICAgICAgICAgICAgICAgICAgICAgICAgCiAgICAgICAgICAgICAgICAgICAgICAgICAgICAgICAgICAgICAgICAgICAgICAgICAgICAgICAgICAgICAgICAgICAgICAgICAgICAgICAgICAgICAgICAgICAgICAgICAgICAKICAgICAgICAgICAgICAgICAgICAgICAgICAgICAgICAgICAgICAgICAgICAgICAgICAgICAgICAgICAgICAgICAgICAgICAgICAgICAgICAgICAgICAgICAgICAgICAgICAgIAogICAgICAgICAgICAgICAgICAgICAgICAgICAgICAgICAgICAgICAgICAgICAgICAgICAgICAgICAgICAgICAgICAgICAgICAgICAgICAgICAgICAgICAgICAgICAgICAgICAgCiAgICAgICAgICAgICAgICAgICAgICAgICAgICAgICAgICAgICAgICAgICAgICAgICAgICAgICAgICAgICAgICAgICAgICAgICAgICAgICAgICAgICAgICAgICAgICAgICAgICAKICAgICAgICAgICAgICAgICAgICAgICAgICAgICAgICAgICAgICAgICAgICAgICAgICAgICAgICAgICAgICAgICAgICAgICAgICAgICAgICAgICAgICAgICAgICAgICAgICAgIAogICAgICAgICAgICAgICAgICAgICAgICAgICAgICAgICAgICAgICAgICAgICAgICAgICAgICAgICAgICAgICAgICAgICAgICAgICAgICAgICAgICAgICAgICAgICAgICAgICAgCiAgICAgICAgICAgICAgICAgICAgICAgICAgICAgICAgICAgICAgICAgICAgICAgICAgICAgICAgICAgICAgICAgICAgICAgICAgICAgICAgICAgICAgICAgICAgICAgICAgICAKICAgICAgICAgICAgICAgICAgICAgICAgICAgICAgICAgICAgICAgICAgICAgICAgICAgICAgICAgICAgICAgICAgICAgICAgICAgICAgICAgICAgICAgICAgICAgICAgICAgIAogICAgICAgICAgICAgICAgICAgICAgICAgICAgICAgICAgICAgICAgICAgICAgICAgICAgICAgICAgICAgICAgICAgICAgICAgICAgICAgICAgICAgICAgICAgICAgICAgICAgCiAgICAgICAgICAgICAgICAgICAgICAgICAgICA8P3hwYWNrZXQgZW5kPSd3Jz8+/9sAQwAHBQUGBQQHBgUGCAcHCAoRCwoJCQoVDxAMERgVGhkYFRgXGx4nIRsdJR0XGCIuIiUoKSssKxogLzMvKjInKisq/9sAQwEHCAgKCQoUCwsUKhwYHCoqKioqKioqKioqKioqKioqKioqKioqKioqKioqKioqKioqKioqKioqKioqKioqKioq/8AAEQgBMAE2AwEiAAIRAQMRAf/EAB8AAAEFAQEBAQEBAAAAAAAAAAABAgMEBQYHCAkKC//EALUQAAIBAwMCBAMFBQQEAAABfQECAwAEEQUSITFBBhNRYQcicRQygZGhCCNCscEVUtHwJDNicoIJChYXGBkaJSYnKCkqNDU2Nzg5OkNERUZHSElKU1RVVldYWVpjZGVmZ2hpanN0dXZ3eHl6g4SFhoeIiYqSk5SVlpeYmZqio6Slpqeoqaqys7S1tre4ubrCw8TFxsfIycrS09TV1tfY2drh4uPk5ebn6Onq8fLz9PX29/j5+v/EAB8BAAMBAQEBAQEBAQEAAAAAAAABAgMEBQYHCAkKC//EALURAAIBAgQEAwQHBQQEAAECdwABAgMRBAUhMQYSQVEHYXETIjKBCBRCkaGxwQkjM1LwFWJy0QoWJDThJfEXGBkaJicoKSo1Njc4OTpDREVGR0hJSlNUVVZXWFlaY2RlZmdoaWpzdHV2d3h5eoKDhIWGh4iJipKTlJWWl5iZmqKjpKWmp6ipqrKztLW2t7i5usLDxMXGx8jJytLT1NXW19jZ2uLj5OXm5+jp6vLz9PX29/j5+v/aAAwDAQACEQMRAD8A+kaa8iRjMjqo/wBo4p1RQ/MGcj5izDPsCR/SgA+1W/8Az3j/AO+xR9qt/wDnvH/32KlooAi+1W//AD3j/wC+xR9qt/8AnvH/AN9ipaKAIvtVv/z3j/77FH2q3/57x/8AfYqWigCL7Vb/APPeP/vsUfarf/nvH/32KlooAi+1W/8Az3j/AO+xR9qt/wDnvH/32KlooAi+1W//AD3j/wC+xR9qt/8AnvH/AN9ipaKAIvtVv/z3j/77FH2q3/57x/8AfYqWigCL7Vb/APPeP/vsUfarf/nvH/32KlooAi+1W/8Az3j/AO+xR9qt/wDnvH/32KlooAi+1W//AD3j/wC+xR9qt/8AnvH/AN9ipaKAIvtVv/z3j/77FH2q3/57x/8AfYqWigCL7Vb/APPeP/vsUfarf/nvH/32KlooAi+1W/8Az3j/AO+xR9qt/wDnvH/32KlooAi+1W//AD3j/wC+xR9qt/8AnvH/AN9ipaKAIvtVv/z3j/77FH2q3/57x/8AfYqWigCL7Vb/APPeP/vsUfarf/nvH/32KlooAi+1W/8Az3j/AO+xR9qt/wDnvH/32KlooAjFzATgTRk/74qSjr1qKHgyIOiPgfTAP9aAJaKKKACorf8A1R/66P8A+hGpait/9Uf+uj/+hGgCWiiigAooooAKKKKACiiigAooooAKKKKACiiigAooooAKKKKACiiigAooooAKKKKACiiigAooooAKKKKACiiigAooooAKii/1s/8A10H/AKCtS1FF/rZ/+ug/9BWgCWiiigAqG3YCNskf6x+/+0amrKmWUxTeRDmTc+1j0zuNAGpuX1H50bl/vD865yHUNtutvd7PtpGxtjYw3sKyk1TUYcxXNxaCVSeGIzigDuN6/wB4fnRvX+8PzriJtS1SePzbSS0SMKELMwA3HuDVnUtRuoIkWwNsZgmW858Bj9aAOu3r/eH50b1/vD865bT728lspJb4W5AUZMTcI3pmpp4tV8wPZeSyFB+7YZOc8nPfigDo9y/3h+dG9f7w/Ouahl1AXXkXyRxmSM+WqHBJrKj1u7sJjb6nc2KPHwwLjNAHdbl/vD86N6/3h+dcDF4hv7xmW1nsDIW2xojglvxrQV/ENvaqbmGD5VAZ24oA67cv94fnRuX+8Pzrio9bvJG8sPaSPvKAK4Bbjp7GltdU1KNit41nhPlZS+GBHXPFAHab1/vD86Ny+o/OuPiutYunZLY2cx8veArAHGcelWIP7f8A3QmtoyAMPx1oA6jcvqPzo3r/AHh+dcPLqetC9+xqbQSEEbA3zZ9MVc2+JAgK28GQBwR/WgDrNy+o/Ojev94fnXJXE2uoAkcUIkYY2njOe9KT4lKR4tIQ3RyRn8elAHWbl/vD86N6/wB4fnXIXk2vRwmOKK3811CjccfMe/SpVHiPaN9tbE7cfKd3P5UAdVvX+8PzpA6/3h+dclcvri2pjeO3jlk+RCTtyT71Ii+IhGA8VszeqDNAzqty/wB4fnRvX+8Pzrkbp9dNq8fl28U8nyRLnB+vSpSviHyRiCHfnn5c8UCOp3r/AHh+dG9f7w/OuMvJPEv2Z4kgtY3YYjd22lmz06cd6uoNeO8vBCRgbCo70AdNvX+8Pzo3r/eH51x94fEhh8uO3to2kIAZmxjvxxVknXvOP+jQSIW4ZR0HpQB0+9f7w/Ojev8AeH51xupPrwgaOJbeGRiChfjgcn+RqAa7fzxhI5bEybWBKsOo6cUAdzvX+8Pzo3r/AHh+dcL9v1ue28gNZmTgh0OCeef0qzHqWqs7wotpJIB8hLY3H0xjigDsd6/3h+dG9f7w/OuRmHiGS0A8qFGzuZkGQuO2e9Oim1yRYylvBLj/AFhUYz/hQB1ZdR/EPzpkBzJOR/z0/wDZVrlJT4jMbO9rbxIjq2N2CVB+bnHpXQ6RK01o8j7ctIT8nToKAL9FFFABUVv/AKo/9dH/APQjUtRW/wDqj/10f/0I0AYswkOtBhJYqgk5V2+Y8/XrTZY53mnffpbsDwDncPrzTXtZP7ceQ6XblDICJy+WPPXGKSS3uzPKTpNkwY/eWTlh78daAHSw3D2yjfpxGcgHOF/I9qlmWZ5FHmacVVMlXzn8OelQyWd2LQIum2jZyQvmkAZ/CpJraeSQf8S6yYBOSZMN9OnSgBsa3HmONmnvDsyNjHg+/PSugUfKOB07VzMdtN9mlV9JhjBRgBFKcnngdO9dMnEa8Y46UAVLuMG7gfzIkK9A55P0rF1Jb77dL5NxpCJngXAO/wDHmte+id722ZLaOUA8u7Y2fSsPVbG7l1CZodI024Unh5pyrH6jaaAJNOF+LhPNudGYbuRCDkj25610F2HNnII/LDbT/rQSv44rmNLsL6O7iaTRtLhCvktHcFiBjqBt611F2JDauIkVyRjaxwMUAYlrE8dwmXsQSednU/TmlmjmMk2JdPZS3HmHlfrzTLK2lN0ZJrC3j2H5DvyT+lQ3dlNIbnGmWsm4kjMxBfP4daANLSYpY7p2lezxsCqIM5PPXr0rXrF0W2lincyWEVuMYDq5bP04raoAxwri7Bma28zf6jdWwKxp7SV9VDiwhK78+az4P16da2aAKk6uL1HDRqp4+bqfpVuqt5GzvDthSTD8ljjb7irQ4oAqTI32xWzGq8DLdT7CrdVbxGaSDbCkuHBJY42+4q1QBVnWVriIgw+UGGd4Oc+1WsVBcAlogIw/7wHn+H3qegCvcKTPCQYxhud3U/SrFV7iNmuIWWNGCtySeR9KsUAQThjNCAY8bskN1P0qeq1xGzXMDLGjBW5YnkfSrNAEM4JkhxtwH53fTtU1QzrulhOwNtfOSfu8damoArXilmi2mMcnO/6HpWCY7xCRE2nusfJB4IPr16Vu3qbvK/dh8EnJOMcGsJ7OUyO/2C12sMLiUgsf9rigCzGJjljPYlupCn/69Ps4pPtaMWssZ5C53fhz1qtbWdwjljptio28BZSf6VNYW84u42+w28ahvmPmHI9wMUAbkg/cvtwDtPXpVexUpEQ2zP8AsGp5QTC4ABJU4B71V0tJ0tz9piiicnpE+4Y+uKALU4zA/Kj5Ty3QVX07/UyZ2ff/AIOn3RU867reRQM5UjHrVbS4/Kt3QoI8P90HOOBQBdooooAKit/9Uf8Aro//AKEalqK3/wBUf+uj/wDoRoApnQrI35vNh85m3E570Nodm55VuCSBnpmtGigDP/sW02RphtsZyBmibRLKcgvHyBjINaFFAGaNCsgMKrD8a0gMAAdqKKAIJ7KC5ljkmTc0fKn0qjceG9NubqS4lgzLJ94561q0UAZMHhrTbeZZYocMpyDmtOaJZ4Wjf7rDBxT6KAMyLQLCG4WZIzvUcc0smhWUkryMrbnzu59a0qKAIre3S1gWGLhFGAPSpaKKAIp7aK4KGUZ8s7l+tS0UUAMkiSXb5gztOQPen0UUARy26TMjOOUORUlFFAEckCSyI7j5kOVqSiigCOS3SWRHcfNGcrUlFFAEcluksscjD5ozlTUlFFAEUttHNLHI4+aM5WpaKKAIJ7SK5dGlXJTOPxGP61RTw3psaFVgwM5HPQ1q0UAZ1volpbymRAxJBABPAp0Gj2tvKskSsGU5HPer9FACOoeNkbowwar2VhBp8Jitl2qTkjPerNFADXRZI2RxlWGCKgsoI7ZZYoV2osnA/wCAg1ZqKL/Wz/8AXQf+grQBLRRRQAVFb/6o/wDXR/8A0I1LUVv/AKo/9dH/APQjQBLRRRQAUUUUAFFFFABRRRQAUUUUAFFFFABRRRQAUUUUAFFFFABRRRQAUUUUAFFFFABRRRQAUUUUAFFFFABRRRQAUUUUAFRRf62f/roP/QVqWoov9bP/ANdB/wCgrQBLRRRQAVFb/wCqP/XR/wD0I1LUVv8A6o/9dH/9CNAEtFFFABRRRQAUUUUAFFFFABRRRQAUUUUAFFFFABRRRQAUUUUAFFFFABRRRQAUUUUAFFFFABRRRQAUUUUAFFFFABRRRQAVFF/rZ/8AroP/AEFalqKL/Wz/APXQf+grQBLRRRQAVFb/AOqP/XR//QjUtRW/+qP/AF0f/wBCNAEtFFFABRRRQAUUUUAFFFFABRRRQAUUUUAFFFFABRRRQAUUUUAFFFFABRRRQAUUUUAFFFFABRRRQAUUUUAFFFFABRRRQAVFF/rZ/wDroP8A0FalqKL/AFs//XQf+grQBLRRRQAVFb/6o/8AXR//AEI1LUVv/qj/ANdH/wDQjQBLRRRQAUUUUAFFFFABRRRQAUUUUAFFFFABRRRQAUUUUAFFFFABRRRQAUUUUAFFFFABRRRQAUUUUAFFFFABRRRQAUUUUAFRRf62f/roP/QVqWoov9bP/wBdB/6CtAEtFFFABUVv/qj/ANdH/wDQjUtRW/8Aqj/10f8A9CNAEtFFFABRRRQAUUUUAFFFFABRRRQAUUUUAFFFFABRRRQAUUUUAFFFFABRRRQAUUUUAFFFFABRRRQAUUUUAFFFFABRRRQAVFF/rZ/+ug/9BWpaii/1s/8A10H/AKCtAEtFFFABUVv/AKo/9dH/APQjUtRW/wDqj/10f/0I0AS0UUUAFFFFABRRRQAUUUUAFFFFABRRRQAUUUUAFFFFABRRRQAUUUUAFFFFABRRRQAUUUUAFFFFABRRRQAUUUUAFFFFABUUX+tn/wCug/8AQVqWoov9bP8A9dB/6CtAEtFFFABUVv8A6o/9dH/9CNS1Fb/6o/8AXR//AEI0AS0UUUAFFFFABRRRQAUUUUAFFFFABRRRQAUUUUAFFFFABRRRQAUUUUAFFFFABRRRQAUUUUAFFFFABRRRQAUUUUAFFFFABUUX+tn/AOug/wDQVqWoov8AWz/9dB/6CtAEtFFFABUVv/qj/wBdH/8AQjUtRW/+qP8A10f/ANCNAEtFFFABRRRQAUUUUAFFFFABRRRQAUUUUAFFFFABRRRQAUUUUAFFFFABRRRQAUUUUAFFFFABRRRQAUUUUAFFFFABRRRQAVFF/rZ/+ug/9BWpaii/1s//AF0H/oK0AS0UUUAFRW/+qP8A10f/ANCNS1Fb/wCqP/XR/wD0I0AS0UUUAFFFFABRRRQAUUUUAFFFFABRRRQAUUUUAFFFFABRRRQAUUUUAFFFFABRRRQAUUUUAFFFFABRRRQAUUUUAFFFFABUUX+tn/66D/0FalqKL/Wz/wDXQf8AoK0AS0UUUAFRW/8Aqj/10f8A9CNS1Fb/AOqP/XR//QjQBLRRRQAUUUUAFFFFABRRRQAUUUUAFFFFABRRRQAUUUUAFFFFABRRRQAUUUUAFFFFABRRRQAUUUUAFFFFABRRRQAUUUUAFRRf62f/AK6D/wBBWpaii/1s/wD10H/oK0AS0UUUAFRW/wDqj/10f/0I1LUVv/qj/wBdH/8AQjQBLRRRQAUUUUAFFFFABRRRQAUUUUAFFFFABRRRQAUUUUAFFFFABRRRQAUUUUAFFFFABRRRQAUUUUAFFFFABRRRQAUUUUAFRRf62f8A66D/ANBWpaii/wBbP/10H/oK0AS0UUUAFRW/+qP/AF0f/wBCNS1Fb/6o/wDXR/8A0I0AS0UVy/xJdo/h7qbRsynEYypxwZUBH5Um7K5nVqezpyn2Tf3HUUV866J4cTXrPdaXIjngmH2tZCAscB/5bA+i4OR9PWtT4fGGL4oWiafLK1qWmVGfhnQRsQSPwBxWaqeR49PNZTlBOnZSaW//AAOh7tRRRWp7gUVh6n4qttN1Y6ctlfXs6QrPMLSJX8qNmKhiCwZuQeFDHjpS3vim3sNUjtLixvxE88dv9s8kCESP91ckhjkkDIUgE4Jo3A26K5seOdKFvBNMtxCsguWkDoM24gJEhfBOOcAYznIqKTx9YW9lcT3en6lbSQLC/wBmkhXzZElfYjqAxyM8YzuHpmgdmdTRUNncG7s4rhoJrYyKGMM4AdPYgEjP41hW3jWxu7pYrezvmSbzVtJ/LUR3jRglljJbOeDjcFBwcGjYW50dFctB8QtGubKa6tkupoohEpKRgkzSHCwAZ/1mcZHQZ5NTHxpaiNEOm6j9vkna3XTvKQTFlXcT97ZtCkHduxz1zxQB0dFcnp3id9Y8Z2MVjM39m3GlTTtC8YDLKkyoc8ZBHzAjOK2PEd9qGm6HcXmlQW00sEbSMLmRkUKqkkjaDk8dOPrSbtHmf9a2Gld2NSiqWmXsl5oNpfSR5lmtkmaOPuSoOBk+/c1yGtfECO78K6lceHDcRXVpBHJJK8SEWztIFMTgk/vBhsjBA9eRVNNOxMXdJo7yisJfFdtJrcumwWV9cGCZYJ7mKJWjikZQwVvm3AYI+bbtGeTSaP4vsNc1JrGyguhcRIzXKSIo+ysHK7JPm4YkEgDOQM9MUtxm9RRRQAUUUUAFFFFABRRRQAUUUUAFFFFABRRRQAVFF/rZ/wDroP8A0FalqKL/AFs//XQf+grQBLRRRQAVFb/6o/8AXR//AEI1LUVv/qj/ANdH/wDQjQBLXLfElGk+HmphFLHEZwBngSoSfyFdTRSaurGdWn7SnKHdNfefOuieI00CxxZ2we6mmH2p5ACskA/5Yj2bOSfYelafw9EMvxQtJNPilW1DTMqvyUUxvgE/iBmvd6KzVPzPHp5TKEoN1LqLTtb/AIPUKKKK1PcOX8UeD38S3Su19DDEECjfZLJLAQc74Zcho2Pqdw4HFUtR+Hv2/wARf2odQhJF5BdoZrISzJ5ZX92spYEIdvQDqScnpXa0ULR3QPU5WTwFZT6jrs9zcSPBrEJi8hVx9n3AeYVPqxVW6dR3qna/DtLfTZbX7RYRO727CWz0tICRFIH+fDZYtjGcgDqFrtqKFpsD1Mqa514agY4NL0+Sz3gCZ9QdZNvc7PJIz143fjWDo/w8h0G/M+my6egj8020jaYhnjZwcbpc5YDJ4AUkcE12dFA7nF23w8+x2E1rb6xNiSWG8V5I9zLeI2Wm5PIfAyn5EVLqvgabXIbaXV9Rt76/tp3lja4sFe2CsoUx+SWzt4BzvznnPauvoo/r+v68hHKWnhSfRby11DSzaTz2lg9otoIhaROXlWQsCgbYBg8bTnue9afk6rq+kX9lq9raWBuIWije2umuPvKQSQY0xjI47+1bFFD1VmNOzujMt9OvLOw060tL6NEtIBFJvt93nYTap+8NuCAcc56e9c1/wrmRdH1KwTWpCuqIr3byQbt9yH3NMBu43Djb7Lzxz3FFO7buJaKyOWvvBr33iaHVZL+FRDOkyFbJVuF2j/ViZSCYz3Ugk5IzUmg+E5dD1ifUf7Ue5lvlY34ePAnk3ZR1G47NoJXHORj0rpaKS02B6hRRRQAUUUUAFFFFABRRRQAUUUUAFFFFABRRRQAVFF/rZ/8AroP/AEFalqKL/Wz/APXQf+grQBLRRRQAVDAQpeM8MGY49QTn+tTU140kGJEVh/tDNADqKi+y2/8Azwj/AO+BR9lt/wDnhH/3wKAJaKi+y2//ADwj/wC+BR9lt/8AnhH/AN8CgCWiovstv/zwj/74FH2W3/54R/8AfAoAloqL7Lb/APPCP/vgUfZbf/nhH/3wKAJaKi+y2/8Azwj/AO+BR9lt/wDnhH/3wKAJaKi+y2//ADwj/wC+BR9lt/8AnhH/AN8CgCWiovstv/zwj/74FH2W3/54R/8AfAoAloqL7Lb/APPCP/vgUfZbf/nhH/3wKAJaKi+y2/8Azwj/AO+BR9lt/wDnhH/3wKAJaKi+y2//ADwj/wC+BR9lt/8AnhH/AN8CgCWiovstv/zwj/74FH2W3/54R/8AfAoAloqL7Lb/APPCP/vgUfZbf/nhH/3wKAJaKi+y2/8Azwj/AO+BR9lt/wDnhH/3wKAJaKi+y2//ADwj/wC+BR9lt/8AnhH/AN8CgCWiovstv/zwj/74FH2W3/54R/8AfAoAloqL7Lb/APPCP/vgUfZbf/nhH/3wKAJaKi+y2/8Azwj/AO+BR9lt/wDnhH/3wKAJSQBknA9TUUHzeY46O+R7jAH9KUW0AORDGD/uCpKACiiigD//2Q==)"
      ],
      "metadata": {
        "id": "f215VrE-ecM9"
      }
    },
    {
      "cell_type": "code",
      "source": [
        "# Метод сохранения в формате БД\n",
        "d.saver_sql()"
      ],
      "metadata": {
        "colab": {
          "base_uri": "https://localhost:8080/"
        },
        "id": "OpSs1XC-d9vY",
        "outputId": "e0da8557-e576-4661-9189-b1518aae170f"
      },
      "execution_count": 132,
      "outputs": [
        {
          "output_type": "stream",
          "name": "stdout",
          "text": [
            "Файл в формате БД сохранен на Ваш Google диск\n"
          ]
        },
        {
          "output_type": "stream",
          "name": "stderr",
          "text": [
            "/usr/local/lib/python3.8/dist-packages/pandas/core/generic.py:2872: UserWarning: The spaces in these column names will not be changed. In pandas versions < 0.14, spaces were converted to underscores.\n",
            "  sql.to_sql(\n"
          ]
        }
      ]
    },
    {
      "cell_type": "markdown",
      "source": [
        "![Снимок_БД.JPG](data:image/jpeg;base64,/9j/4AAQSkZJRgABAQEAYABgAAD/4RD+RXhpZgAATU0AKgAAAAgABAE7AAIAAAAZAAAISodpAAQAAAABAAAIZJydAAEAAAAaAAAQ3OocAAcAAAgMAAAAPgAAAAAc6gAAAAgAAAAAAAAAAAAAAAAAAAAAAAAAAAAAAAAAAAAAAAAAAAAAAAAAAAAAAAAAAAAAAAAAAAAAAAAAAAAAAAAAAAAAAAAAAAAAAAAAAAAAAAAAAAAAAAAAAAAAAAAAAAAAAAAAAAAAAAAAAAAAAAAAAAAAAAAAAAAAAAAAAAAAAAAAAAAAAAAAAAAAAAAAAAAAAAAAAAAAAAAAAAAAAAAAAAAAAAAAAAAAAAAAAAAAAAAAAAAAAAAAAAAAAAAAAAAAAAAAAAAAAAAAAAAAAAAAAAAAAAAAAAAAAAAAAAAAAAAAAAAAAAAAAAAAAAAAAAAAAAAAAAAAAAAAAAAAAAAAAAAAAAAAAAAAAAAAAAAAAAAAAAAAAAAAAAAAAAAAAAAAAAAAAAAAAAAAAAAAAAAAAAAAAAAAAAAAAAAAAAAAAAAAAAAAAAAAAAAAAAAAAAAAAAAAAAAAAAAAAAAAAAAAAAAAAAAAAAAAAAAAAAAAAAAAAAAAAAAAAAAAAAAAAAAAAAAAAAAAAAAAAAAAAAAAAAAAAAAAAAAAAAAAAAAAAAAAAAAAAAAAAAAAAAAAAAAAAAAAAAAAAAAAAAAAAAAAAAAAAAAAAAAAAAAAAAAAAAAAAAAAAAAAAAAAAAAAAAAAAAAAAAAAAAAAAAAAAAAAAAAAAAAAAAAAAAAAAAAAAAAAAAAAAAAAAAAAAAAAAAAAAAAAAAAAAAAAAAAAAAAAAAAAAAAAAAAAAAAAAAAAAAAAAAAAAAAAAAAAAAAAAAAAAAAAAAAAAAAAAAAAAAAAAAAAAAAAAAAAAAAAAAAAAAAAAAAAAAAAAAAAAAAAAAAAAAAAAAAAAAAAAAAAAAAAAAAAAAAAAAAAAAAAAAAAAAAAAAAAAAAAAAAAAAAAAAAAAAAAAAAAAAAAAAAAAAAAAAAAAAAAAAAAAAAAAAAAAAAAAAAAAAAAAAAAAAAAAAAAAAAAAAAAAAAAAAAAAAAAAAAAAAAAAAAAAAAAAAAAAAAAAAAAAAAAAAAAAAAAAAAAAAAAAAAAAAAAAAAAAAAAAAAAAAAAAAAAAAAAAAAAAAAAAAAAAAAAAAAAAAAAAAAAAAAAAAAAAAAAAAAAAAAAAAAAAAAAAAAAAAAAAAAAAAAAAAAAAAAAAAAAAAAAAAAAAAAAAAAAAAAAAAAAAAAAAAAAAAAAAAAAAAAAAAAAAAAAAAAAAAAAAAAAAAAAAAAAAAAAAAAAAAAAAAAAAAAAAAAAAAAAAAAAAAAAAAAAAAAAAAAAAAAAAAAAAAAAAAAAAAAAAAAAAAAAAAAAAAAAAAAAAAAAAAAAAAAAAAAAAAAAAAAAAAAAAAAAAAAAAAAAAAAAAAAAAAAAAAAAAAAAAAAAAAAAAAAAAAAAAAAAAAAAAAAAAAAAAAAAAAAAAAAAAAAAAAAAAAAAAAAAAAAAAAAAAAAAAAAAAAAAAAAAAAAAAAAAAAAAAAAAAAAAAAAAAAAAAAAAAAAAAAAAAAAAAAAAAAAAAAAAAAAAAAAAAAAAAAAAAAAAAAAAAAAAAAAAAAAAAAAAAAAAAAAAAAAAAAAAAAAAAAAAAAAAAAAAAAAAAAAAAAAAAAAAAAAAAAAAAAAAAAAAAAAAAAAAAAAAAAAAAAAAAAAAAAAAAAAAAAAAAAAAAAAAAAAAAAAAAAAAAAAAAAAAAAAAAAAAAAAAAAAAAAAAAAAAAAAAAAAAAAAAAAAAAAAAAAAAAAAAAAAAAAAAAAAAAAAAAAAAAAAAAAAAAAAAAAAAAAAAAAAAAAAAAAAAAAAAAAAAAAAAAAAAAAAAAAAAAAAAAAAAAAAAAAAAAAAAAAAAAAAAAAAAAAAAAAAAAAAAAAAAAAAAAAAAAAAAAAAAAAAAAAAAAAAAAAAAAAAAAAAAAAAAAAAAAAAAAAAAAAAAAAAAAAAAAAAAAAAAAAAAAAAAAAAAAAAAAAAAAAAAAAAAAAAAAAAAAAAAAAAAAAAAAAAAAAAAAAAAAAAAAAAAAAAAAAAAAAAAAAAAAAAAAAAAAAAAAAAAAAAAAAAAAAAAAAAAAAAAAAAAAAAAAAAAAAAAAAAAAAAAAAAAAAAAAAAAAAAAAAAAAAAAAAAAAAAAAAAAAAAAAAAAAAAAAAAAAAAAAAAAAAAAAAAAAAAAAAAAAAAAAAAAAAAAAAAAAAAAAAAAAAAAAAAAAAAAAAAAAAAAAAAAAAAAAAAAAAAAAAAAAAAAAAAAAAAAAAAAAAAAAAAAAAAAAAAAAAAAAAAAAAAAAAAAAAAAAAAAAAAAAAAAAAAAAAAAAAAAAAAAAAAAAAAAAAAAAAAAAAAAAAAAAAAAAAAAAAAAAAAAAAAAAAAAAAAAAAAAAAAAAAAAAAAAAAAAAAAAAAAAAAAAAAAAAAAAAAAAAAAAAAAAAAAAAAAAAAAAAAAAAAAAAAAAAAAAAAAAAAAAAAAAAAAAAAAAAAAAAAAAAAAAAAAAAAAAAAAAAAAAAAAAAAAAAAAAAAAAAAAAAAAAAAAAAAAAAAAAAAAAAAAAAAAAAAAAAAAAAAAAAAAAAAAAAAAAAAAAAAAAAAAAAAAAAAAAAAAAAAAAAAAAAAAAAAAAAAAAAAAAAAAAAAAAAAAAAAAAAAAAAAAAAAAAAAAAAAAAAAAAAAAAAAAAAAAAAAAAAAAAAAAAAAAAAAAAAAAAAAAAAAAAAAAAAAAAAAAAAAAAAAAAAAAAAAAAAAAAAAAAAAAAAAAAAAAAAAAAAAAAAAAAAAAAAAAAANCf0L7Qu9GM0LfQvtCy0LDRgtC10LvRjAAAAAWQAwACAAAAFAAAELKQBAACAAAAFAAAEMaSkQACAAAAAzUyAACSkgACAAAAAzUyAADqHAAHAAAIDAAACKYAAAAAHOoAAAAIAAAAAAAAAAAAAAAAAAAAAAAAAAAAAAAAAAAAAAAAAAAAAAAAAAAAAAAAAAAAAAAAAAAAAAAAAAAAAAAAAAAAAAAAAAAAAAAAAAAAAAAAAAAAAAAAAAAAAAAAAAAAAAAAAAAAAAAAAAAAAAAAAAAAAAAAAAAAAAAAAAAAAAAAAAAAAAAAAAAAAAAAAAAAAAAAAAAAAAAAAAAAAAAAAAAAAAAAAAAAAAAAAAAAAAAAAAAAAAAAAAAAAAAAAAAAAAAAAAAAAAAAAAAAAAAAAAAAAAAAAAAAAAAAAAAAAAAAAAAAAAAAAAAAAAAAAAAAAAAAAAAAAAAAAAAAAAAAAAAAAAAAAAAAAAAAAAAAAAAAAAAAAAAAAAAAAAAAAAAAAAAAAAAAAAAAAAAAAAAAAAAAAAAAAAAAAAAAAAAAAAAAAAAAAAAAAAAAAAAAAAAAAAAAAAAAAAAAAAAAAAAAAAAAAAAAAAAAAAAAAAAAAAAAAAAAAAAAAAAAAAAAAAAAAAAAAAAAAAAAAAAAAAAAAAAAAAAAAAAAAAAAAAAAAAAAAAAAAAAAAAAAAAAAAAAAAAAAAAAAAAAAAAAAAAAAAAAAAAAAAAAAAAAAAAAAAAAAAAAAAAAAAAAAAAAAAAAAAAAAAAAAAAAAAAAAAAAAAAAAAAAAAAAAAAAAAAAAAAAAAAAAAAAAAAAAAAAAAAAAAAAAAAAAAAAAAAAAAAAAAAAAAAAAAAAAAAAAAAAAAAAAAAAAAAAAAAAAAAAAAAAAAAAAAAAAAAAAAAAAAAAAAAAAAAAAAAAAAAAAAAAAAAAAAAAAAAAAAAAAAAAAAAAAAAAAAAAAAAAAAAAAAAAAAAAAAAAAAAAAAAAAAAAAAAAAAAAAAAAAAAAAAAAAAAAAAAAAAAAAAAAAAAAAAAAAAAAAAAAAAAAAAAAAAAAAAAAAAAAAAAAAAAAAAAAAAAAAAAAAAAAAAAAAAAAAAAAAAAAAAAAAAAAAAAAAAAAAAAAAAAAAAAAAAAAAAAAAAAAAAAAAAAAAAAAAAAAAAAAAAAAAAAAAAAAAAAAAAAAAAAAAAAAAAAAAAAAAAAAAAAAAAAAAAAAAAAAAAAAAAAAAAAAAAAAAAAAAAAAAAAAAAAAAAAAAAAAAAAAAAAAAAAAAAAAAAAAAAAAAAAAAAAAAAAAAAAAAAAAAAAAAAAAAAAAAAAAAAAAAAAAAAAAAAAAAAAAAAAAAAAAAAAAAAAAAAAAAAAAAAAAAAAAAAAAAAAAAAAAAAAAAAAAAAAAAAAAAAAAAAAAAAAAAAAAAAAAAAAAAAAAAAAAAAAAAAAAAAAAAAAAAAAAAAAAAAAAAAAAAAAAAAAAAAAAAAAAAAAAAAAAAAAAAAAAAAAAAAAAAAAAAAAAAAAAAAAAAAAAAAAAAAAAAAAAAAAAAAAAAAAAAAAAAAAAAAAAAAAAAAAAAAAAAAAAAAAAAAAAAAAAAAAAAAAAAAAAAAAAAAAAAAAAAAAAAAAAAAAAAAAAAAAAAAAAAAAAAAAAAAAAAAAAAAAAAAAAAAAAAAAAAAAAAAAAAAAAAAAAAAAAAAAAAAAAAAAAAAAAAAAAAAAAAAAAAAAAAAAAAAAAAAAAAAAAAAAAAAAAAAAAAAAAAAAAAAAAAAAAAAAAAAAAAAAAAAAAAAAAAAAAAAAAAAAAAAAAAAAAAAAAAAAAAAAAAAAAAAAAAAAAAAAAAAAAAAAAAAAAAAAAAAAAAAAAAAAAAAAAAAAAAAAAAAAAAAAAAAAAAAAAAAAAAAAAAAAAAAAAAAAAAAAAAAAAAAAAAAAAAAAAAAAAAAAAAAAAAAAAAAAAAAAAAAAAAAAAAAAAAAAAAAAAAAAAAAAAAAAAAAAAAAAAAAAAAAAAAAAAAAAAAAAAAAAAAAAAAAAAAAAAAAAAAAAAAAAAAAAAAAAAAAAAAAAAAAAAAAAAAAAAAAAAAAAAAAAAAAAAAAAAAAAAAAAAAAAAAAAAAAAAAAAAAAAAAAAAAAAAAAAAAAAAAAAAAAAAAAAAAAAAAAAAAAAAAAAAAAAAAAAAAAAAAAAAAAAAAAAAAAAAAAAAAAAAAAAAAAAAAAAAAAAAAAAAAAAAAAAAAAAAAAAAAAAAAAAAAAAAAAAAAAAAAAAAAAAAAAAAAAAAAAAAAAAAAAAAAAAAAAAAAAAAAAAAAAAAAAAAAAAAAAAAAAAAAAAAAAAAAAAAAAAAAAAAAAAAAAAAAAAAAAAAAAAAAAAAAAAAAAAAAAAAAAAAAAAAAAAAAAAAAAAAAAAAAAAAAAAAAAAAAAAAAAAAAAAAAAAAAAAAAAAAAAAAAAAAAAAAAAAAAAAAAAAAAAAAAAAAAAAAAAAAAAAAAAAAAAAAAAAAAAAAAAAAAAAAAAAAAAAAAAAAAAAAAAAAAAAAAAAAAAAAAAAAAAAAAAAAAAAAAAAAAAAAAAAAAAAAAAAAAAAAAAAAAAAAAAAAAAAAAAAAAAAAAAAAAAAAAAAAAAAAAAAAAAAAAAAAAAAAAAAAAAAAAAAAAAAAAAAAAAAAAAAAAAAAAAAAAAAAAAAAAAAAAAAAAAAAAAAAAAAAAAAAAAAAAAAAAAAAAAAAAAAAAAAAAAAAAAAAAAAAAAAAAAAAAAAAAAAAAAAAAAAAAAAAAAAAAAAAAAAAAAAAAAAAAAAAAAAAAAAAAAAAAAAAAAAAAAAAAAAAAAAAAAAAAAAAAAAAAAAAAAAAAAAAAAAAAAAAAAAAAAAAAAAAAAAAyMDIyOjEyOjI3IDE1OjIxOjMwADIwMjI6MTI6MjcgMTU6MjE6MzAAAAAfBD4EOwRMBDcEPgQyBDAEQgQ1BDsETAQAAP/hCytodHRwOi8vbnMuYWRvYmUuY29tL3hhcC8xLjAvADw/eHBhY2tldCBiZWdpbj0n77u/JyBpZD0nVzVNME1wQ2VoaUh6cmVTek5UY3prYzlkJz8+DQo8eDp4bXBtZXRhIHhtbG5zOng9ImFkb2JlOm5zOm1ldGEvIj48cmRmOlJERiB4bWxuczpyZGY9Imh0dHA6Ly93d3cudzMub3JnLzE5OTkvMDIvMjItcmRmLXN5bnRheC1ucyMiPjxyZGY6RGVzY3JpcHRpb24gcmRmOmFib3V0PSJ1dWlkOmZhZjViZGQ1LWJhM2QtMTFkYS1hZDMxLWQzM2Q3NTE4MmYxYiIgeG1sbnM6ZGM9Imh0dHA6Ly9wdXJsLm9yZy9kYy9lbGVtZW50cy8xLjEvIi8+PHJkZjpEZXNjcmlwdGlvbiByZGY6YWJvdXQ9InV1aWQ6ZmFmNWJkZDUtYmEzZC0xMWRhLWFkMzEtZDMzZDc1MTgyZjFiIiB4bWxuczp4bXA9Imh0dHA6Ly9ucy5hZG9iZS5jb20veGFwLzEuMC8iPjx4bXA6Q3JlYXRlRGF0ZT4yMDIyLTEyLTI3VDE1OjIxOjMwLjUxNjwveG1wOkNyZWF0ZURhdGU+PC9yZGY6RGVzY3JpcHRpb24+PHJkZjpEZXNjcmlwdGlvbiByZGY6YWJvdXQ9InV1aWQ6ZmFmNWJkZDUtYmEzZC0xMWRhLWFkMzEtZDMzZDc1MTgyZjFiIiB4bWxuczpkYz0iaHR0cDovL3B1cmwub3JnL2RjL2VsZW1lbnRzLzEuMS8iPjxkYzpjcmVhdG9yPjxyZGY6U2VxIHhtbG5zOnJkZj0iaHR0cDovL3d3dy53My5vcmcvMTk5OS8wMi8yMi1yZGYtc3ludGF4LW5zIyI+PHJkZjpsaT7Qn9C+0LvRjNC30L7QstCw0YLQtdC70Yw8L3JkZjpsaT48L3JkZjpTZXE+DQoJCQk8L2RjOmNyZWF0b3I+PC9yZGY6RGVzY3JpcHRpb24+PC9yZGY6UkRGPjwveDp4bXBtZXRhPg0KICAgICAgICAgICAgICAgICAgICAgICAgICAgICAgICAgICAgICAgICAgICAgICAgICAgICAgICAgICAgICAgICAgICAgICAgICAgICAgICAgICAgICAgICAgICAgICAgICAgIAogICAgICAgICAgICAgICAgICAgICAgICAgICAgICAgICAgICAgICAgICAgICAgICAgICAgICAgICAgICAgICAgICAgICAgICAgICAgICAgICAgICAgICAgICAgICAgICAgICAgCiAgICAgICAgICAgICAgICAgICAgICAgICAgICAgICAgICAgICAgICAgICAgICAgICAgICAgICAgICAgICAgICAgICAgICAgICAgICAgICAgICAgICAgICAgICAgICAgICAgICAKICAgICAgICAgICAgICAgICAgICAgICAgICAgICAgICAgICAgICAgICAgICAgICAgICAgICAgICAgICAgICAgICAgICAgICAgICAgICAgICAgICAgICAgICAgICAgICAgICAgIAogICAgICAgICAgICAgICAgICAgICAgICAgICAgICAgICAgICAgICAgICAgICAgICAgICAgICAgICAgICAgICAgICAgICAgICAgICAgICAgICAgICAgICAgICAgICAgICAgICAgCiAgICAgICAgICAgICAgICAgICAgICAgICAgICAgICAgICAgICAgICAgICAgICAgICAgICAgICAgICAgICAgICAgICAgICAgICAgICAgICAgICAgICAgICAgICAgICAgICAgICAKICAgICAgICAgICAgICAgICAgICAgICAgICAgICAgICAgICAgICAgICAgICAgICAgICAgICAgICAgICAgICAgICAgICAgICAgICAgICAgICAgICAgICAgICAgICAgICAgICAgIAogICAgICAgICAgICAgICAgICAgICAgICAgICAgICAgICAgICAgICAgICAgICAgICAgICAgICAgICAgICAgICAgICAgICAgICAgICAgICAgICAgICAgICAgICAgICAgICAgICAgCiAgICAgICAgICAgICAgICAgICAgICAgICAgICAgICAgICAgICAgICAgICAgICAgICAgICAgICAgICAgICAgICAgICAgICAgICAgICAgICAgICAgICAgICAgICAgICAgICAgICAKICAgICAgICAgICAgICAgICAgICAgICAgICAgICAgICAgICAgICAgICAgICAgICAgICAgICAgICAgICAgICAgICAgICAgICAgICAgICAgICAgICAgICAgICAgICAgICAgICAgIAogICAgICAgICAgICAgICAgICAgICAgICAgICAgICAgICAgICAgICAgICAgICAgICAgICAgICAgICAgICAgICAgICAgICAgICAgICAgICAgICAgICAgICAgICAgICAgICAgICAgCiAgICAgICAgICAgICAgICAgICAgICAgICAgICAgICAgICAgICAgICAgICAgICAgICAgICAgICAgICAgICAgICAgICAgICAgICAgICAgICAgICAgICAgICAgICAgICAgICAgICAKICAgICAgICAgICAgICAgICAgICAgICAgICAgICAgICAgICAgICAgICAgICAgICAgICAgICAgICAgICAgICAgICAgICAgICAgICAgICAgICAgICAgICAgICAgICAgICAgICAgIAogICAgICAgICAgICAgICAgICAgICAgICAgICAgICAgICAgICAgICAgICAgICAgICAgICAgICAgICAgICAgICAgICAgICAgICAgICAgICAgICAgICAgICAgICAgICAgICAgICAgCiAgICAgICAgICAgICAgICAgICAgICAgICAgICAgICAgICAgICAgICAgICAgICAgICAgICAgICAgICAgICAgICAgICAgICAgICAgICAgICAgICAgICAgICAgICAgICAgICAgICAKICAgICAgICAgICAgICAgICAgICAgICAgICAgICAgICAgICAgICAgICAgICAgICAgICAgICAgICAgICAgICAgICAgICAgICAgICAgICAgICAgICAgICAgICAgICAgICAgICAgIAogICAgICAgICAgICAgICAgICAgICAgICAgICAgICAgICAgICAgICAgICAgICAgICAgICAgICAgICAgICAgICAgICAgICAgICAgICAgICAgICAgICAgICAgICAgICAgICAgICAgCiAgICAgICAgICAgICAgICAgICAgICAgICAgICAgICAgICAgICAgICAgICAgICAgICAgICAgICAgICAgICAgICAgICAgICAgICAgICAgICAgICAgICAgICAgICAgICAgICAgICAKICAgICAgICAgICAgICAgICAgICAgICAgICAgICAgICAgICAgICAgICAgICAgICAgICAgICAgICAgICAgICAgICAgICAgICAgICAgICAgICAgICAgICAgICAgICAgICAgICAgIAogICAgICAgICAgICAgICAgICAgICAgICAgICAgICAgICAgICAgICAgICAgICAgICAgICAgICAgICAgICAgICAgICAgICAgICAgICAgICAgICAgICAgICAgICAgICAgICAgICAgCiAgICAgICAgICAgICAgICAgICAgICAgICAgICA8P3hwYWNrZXQgZW5kPSd3Jz8+/9sAQwAHBQUGBQQHBgUGCAcHCAoRCwoJCQoVDxAMERgVGhkYFRgXGx4nIRsdJR0XGCIuIiUoKSssKxogLzMvKjInKisq/9sAQwEHCAgKCQoUCwsUKhwYHCoqKioqKioqKioqKioqKioqKioqKioqKioqKioqKioqKioqKioqKioqKioqKioqKioq/8AAEQgA6QFgAwEiAAIRAQMRAf/EAB8AAAEFAQEBAQEBAAAAAAAAAAABAgMEBQYHCAkKC//EALUQAAIBAwMCBAMFBQQEAAABfQECAwAEEQUSITFBBhNRYQcicRQygZGhCCNCscEVUtHwJDNicoIJChYXGBkaJSYnKCkqNDU2Nzg5OkNERUZHSElKU1RVVldYWVpjZGVmZ2hpanN0dXZ3eHl6g4SFhoeIiYqSk5SVlpeYmZqio6Slpqeoqaqys7S1tre4ubrCw8TFxsfIycrS09TV1tfY2drh4uPk5ebn6Onq8fLz9PX29/j5+v/EAB8BAAMBAQEBAQEBAQEAAAAAAAABAgMEBQYHCAkKC//EALURAAIBAgQEAwQHBQQEAAECdwABAgMRBAUhMQYSQVEHYXETIjKBCBRCkaGxwQkjM1LwFWJy0QoWJDThJfEXGBkaJicoKSo1Njc4OTpDREVGR0hJSlNUVVZXWFlaY2RlZmdoaWpzdHV2d3h5eoKDhIWGh4iJipKTlJWWl5iZmqKjpKWmp6ipqrKztLW2t7i5usLDxMXGx8jJytLT1NXW19jZ2uLj5OXm5+jp6vLz9PX29/j5+v/aAAwDAQACEQMRAD8A8z+yyf3ov+/yf40fZZP70X/f5P8AGoaKAJvssn96L/v8n+NH2WT+9F/3+T/GoaKAJvssn96L/v8AJ/jR9lk/vRf9/k/xqGigCb7LJ/ei/wC/yf40fZZP70X/AH+T/GoaKAJvssn96L/v8n+NH2WT+9F/3+T/ABqGigCb7LJ/ei/7/J/jR9lk/vRf9/k/xqGigCb7LJ/ei/7/ACf40fZZP70X/f5P8ahooAm+yyf3ov8Av8n+NH2WT+9F/wB/k/xqGigCb7LJ/ei/7/J/jR9lk/vRf9/k/wAahooAm+yyf3ov+/yf40fZZP70X/f5P8ahooAm+yyf3ov+/wAn+NH2WT+9F/3+T/GoaKAJvssn96L/AL/J/jR9lk/vRf8Af5P8ahooAm+yyf3ov+/yf40fZZP70X/f5P8AGoaKAJvssn96L/v8n+NH2WT+9F/3+T/GoaKAJvssn96L/v8AJ/jR9lk/vRf9/k/xqGigCb7LJ/ei/wC/yf40fZZP70X/AH+T/GoaKAJvssn96L/v8n+NH2WT+9F/3+T/ABqGigCb7LJ/ei/7/J/jR9lk/vRf9/k/xqGigCb7LJ/ei/7/ACf40fZZP70X/f5P8ahooAm+yyf3ov8Av8n+NH2WT+9F/wB/k/xqGigCb7LJ/ei/7/J/jR9lk/vRf9/k/wAahooAmNpKACTGARkfvV5/Wj7LJ/ei/wC/yf40Tf6m3/65n/0NqhoAKKKuadpV9q0k6adbtO1vA1xKFI+WNfvNz6UAU6K6aL4c+LpoUli0C7ZJFDKwUcg8g9ay9Z8O6v4ekiTWrCWzaYExiUD5gOv86AM2iiigAorpLXwD4iu9Fl1KLT5QkZG2FkYSyg91XHIrnZI3hlaOVGjkQlWVhgqR2Io62DdXG0VYsLJ9Rv4bSF4o5Jm2q0rhFz7k9Kn1bRbvRJoodQEaTSJvMSyB2QZ43Y6HvigChRRRQAUUUUAFFFFABRRRQAUUUUAFFFFABRRRQAUUUUAFFFFABRRRQAUUUUAFFFFAAASQAMk9BV3+xdU/6Bt5/wB+G/wrQ8DKG+IGghgCP7Rg4I/2xV3V/G/imLW75I/EWpoi3EgVVu3AADHgDNAGEdG1QDJ027AH/TBv8KpEEEgjBHUV7roHxzsha6Zptzpl5Pc7IreS4eZTvfAUuc8nJ5ryfxyoX4ga8FAA/tGfgD/bNAGFRXQ+D/EdroN/PFqunxX+mX8fkXkTIN+zOco3UEHB684HcAjsp/BGheDUbxVqc51bRX2tpVqFIa5dgWVZeMKBjn1x0z8tAHllFW9V1KbWNWudQuUhjluZDIyQxhEXPYAdv19cnmqlAE03+pt/+uZ/9Daoamm/1Nv/ANcz/wChtUNABWjo50/zLv8AtQ3oX7JJ5P2PGTLj5d+f4PXHNZ1W7DVL3S2uDp9y8BuYGt5tn8cbfeU+xwKANuL/AIQbyU87/hIfM2jfs8jGe+PasvWf7E82L/hH/wC0PL2nzPt2zOe2NvatSL4jeLoYUii1+7VI1CqoYcAcAdKy9Z8Q6t4hlik1q/mvHhUrGZTnaD1xQBm1oaBc21n4i0+5v13W0VwjygjPyhhnjv8ASs+imnZ3E1dWPZ7jS9cvtD8QTWepR3BvL6KayvEvAFSINn72flCjt7cZrPnmtbzxFrut2M9rJDZW8EU11HZLdSPKeC8SkhR0wWORx+NeXx311FYy2cdxIttMwaSIN8rkdCR7VJp+q3+kzNLpl5PaOwwzQyFdw9DjrS/r8LD/AK/G56xc+HbbUdYZbazhF1qHh6R8yWwh/el1AkKc7G55xWVf6XpDaBodtoVqlyIdZW2kuBEC1zhcux77c546YFcA+vavJKZH1W9ZzGYixuHJKE5K5z0J7VHa6vqNksa2d/cwLExeNY5mUIxGCwAPBIOM07/187/8AT1/rysemapcW2oWviu2+wWCR6bd28Vu8NqqsAZcMCQOemKdq/hDTZvF0+oWaTQfY9QtRNbzWqrbyq7KuIyOvuCPWvLY7+8ijmjiup0SchplWQgSEHILDvg881an8Q61dCMXWr38wjcOnmXLttYdGGTwR60LS3l/wP8AIp6tj/FEaQ+LNVjiRURLyUKqjAUbjwBWXT5ZpLiZ5p5GllkYs7uxLMT1JJ6mmVKVlYJO7bCiiimIKKKKACiiigAooooAKKKKACiiigAooooAKKKKACiiigAooooA1vCl9BpnjDSL68fZb215FLI2M4VWBJxW9f8AhLTrzUrm5i8ZaCEmmeRQ0koIBJIz+7681xdFAHaWHhLT7TUra5fxloDLDMkhAllyQCD/AM86wfFd9b6n4w1e+sn8y3uL2WWJ9pG5S5IODyMj1rJooA3vCd1oOn381/4iglu/s0e+1s0HyXEueFduyjqeOx+h3NO+J1/PrF5/wlSDU9H1LCXVjjCRL/CYh/CV7euOTnmuFooAu6xHp8Ws3SaLPLcWCyHyJJk2sy+4/wA/QdKpUUUATTf6m3/65n/0NqhqxJKEhtwYY5P3Z5Yt/eb0IqL7QP8An1h/N/8A4qgBlFFFABRRRQAUUUUAFFFPhhluZkht4nllc4REUszH0AHWgBlFbf8Awhfin/oWtY/8AJf/AImsV0eKRkkVkdSQysMEEdiKAEooooAKKKKACiiigAooooAKKKKACiiigAooooAKKKKACiiigAooooAKKKKACiiigAooooAKKKKACiiigAooooAmm/1Nv/1zP/obVDU03+pt/wDrmf8A0NqhoAKKK1vDWhnxDrcdkZ1tYFR5ri4ZdwhiRSztjvgDpQBk0V2MeieFteS6tfDE2qx6jbwvNEt8I2S6VFLMBtAKNgZAORxjNcdQAUUUUAFdr8HwD8V9HyM/67/0RJXFV23we/5Kvo//AG3/APRElAFXw9461238TaXNqviTVTYx3kT3IkvJXUxhwWyuTkYzxg5rsPiRaeE/F2j6j4r8JXyvdaeYhfosDxrKJG2K3zKPmz3HUDntVP4VT+Go9L1r7fpT39/DptzdXDTBTGIU2/Ig9W3HJ4xgetUdOOnH4f8AxEOiCdbAyWBgFxjeF888HFAHntFFFABXvmu+Jfht4P1iXQb7wis89mqK0iadbyBsorA7mYEnDDJPevA69J+KfhnXtT+JWqXmm6JqN5ayiExz29pJIj4hQcMBg8gigCle3Hwru72W4S28U2qyMWEMAtwiZ7Lkk4/Gs/xh4e0XTtF0PWfDc1+1jqyz7Y78J5iGJwp+5xg5/SpNN0tfDWgX+r67oRub6K5jtYbO/jdEgLIz+ZInBOQAFB46nsKs+Lr7w3eeD7J9B0aS0upbrdcXQszFC7BMMiMWYjGVO0HHfAzQBw1FFFAHV/DHTLPWPiRpNlqUC3Fs7SM8TjKttidgCO4yo4r6LvfAPhO8sZreTw/psKyIVMkFqkbp7hgMg18/fCBgvxW0YsQBmYcn/phJXuvxPbWf+EBvYvD0DzXM5WGQRglxGxw20Dv29gSe1AHlmh+Cfh9r3iyXQbW815JhGZIJnng8u4Uc5QhCeRzz2BzgjFcN438PReFfGeoaNbzPPFbMmx5ANxDIrjOO43Y/CukjtLvT5tJgs/CuuS6jpTlU1C3kZROxbdwrQthQxIHPIOT14zvizI8vxP1V5VVJCsG9EfcFbyI8jOBnByM4FAHHUUUUAei/B3R7rW9cvrN7K3udHmt/L1AzpyoOSmxuobcM+mAc8gY2bzw1pPgS8ay1DwrF4jgvLgpZ3/2sxnuDE+TtDg8DGM/UVl/CH4gW/hXUJdL1dtmnXrhhNj/UydMn/ZIwD6Yz616G2iX6XWqRadpVn4m8L+Ibr7Y5iu0je3Z8b2BPDdmGCOnagDlNV+F+jeKPC/8Ab/gGOe1mXcJNNncthl4ZBnJDAg8ZIORjFeOkEEgjBHUV78NXm+DunapZXltNqNrczPc2F6Du8yZgAY5j2IwDnuM968GurmS8vJrm4IaWaRpHIAGWJyeB05NAEVFFFABRRRQAUUUUAFFFFABRRRQAUUUUAFFFFAE03+pt/wDrmf8A0NqlgubZIAJrYPLGcoegb/e9cf8A1qim/wBTb/8AXM/+htTrWNH++m7LqnU8Zzz+lJq5nUpqorP/ACK9anhzWv7B1hbt7dbqB43guLdmKiWJ1KuuR0JBOD2OKy6KZod9oeq+CdH1JpdNl1iK4uo3t0u7uKMrYCRSpkAQkuRnHbgk4J4rlNf0G88O6obO9CtlRJDNG26OeM/ddG7qRWZSszNjcxO0YGT0FACUUUqKGYAsEHqc4H5UAJWjoGuXnhvXbbVtN2fabZiU8xcqcqVII9CCRVTyY/8An5i/J/8A4mjyY/8An5i/J/8A4mgDsP8AhZX/AFJfhD/wVf8A2VVNX+IF5qmh3Ok2+j6LpNtdshuP7Ns/JabYdyhjk5APNc15Mf8Az8xfk/8A8TR5Mf8Az8xfk/8A8TQBDRU3kx/8/MX5P/8AE0eTH/z8xfk//wATQBDWvD4u8SW0KQ2/iDVYokGESO9kVVHoADxWd5Mf/PzF+T//ABNHkx/8/MX5P/8AE0AbFn401y2u5p7m8bUxcIsc8OpZuY5VU5AYPnoencZOKq634hvteaAXYgigtlK29tbQrFFCDydqj1PJPU1R8mP/AJ+Yvyf/AOJo8mP/AJ+Yvyf/AOJoAhoqbyY/+fmL8n/+Jo8mP/n5i/J//iaAGQzy20yTW8jxSoco6MVZT6gjpWx/wmnin/oZdY/8D5f/AIqsryY/+fmL8n/+Jo8mP/n5i/J//iaANX/hNPFP/Qy6x/4Hy/8AxVZE8811cPPcyvNNI255JGLMx9ST1NO8mP8A5+Yvyf8A+Jo8mP8A5+Yvyf8A+JoAhoqbyY/+fmL8n/8AiaPJj/5+Yvyf/wCJoAhqSK5ngVlhmkjVxhgjkBh7+tO8mP8A5+Yvyf8A+Jo8mP8A5+Yvyf8A+JoA0NO8S6jpmi6hpMEiPY6guJYZkDqrZHzqD91sDGf6gEZNTeTH/wA/MX5P/wDE0eTH/wA/MX5P/wDE0AQ0VN5Mf/PzF+T/APxNHkx/8/MX5P8A/E0AQ0VN5Mf/AD8xfk//AMTR5Mf/AD8xfk//AMTQBDRU3kx/8/MX5P8A/E0eTH/z8xfk/wD8TQBDRU3kx/8APzF+T/8AxNHkx/8APzF+T/8AxNAENFTeTH/z8xfk/wD8TR5Mf/PzF+T/APxNAENFTeTH/wA/MX5P/wDE0eTH/wA/MX5P/wDE0AQ0UEYYgEEA9R3ooAmlBaO2CjJMZwB/vtSKlxHv2rImOHwCMexp7P5YtmxnEZyM4/ianLeBYyiocfwkkEj15I9u2KAKtFFFABRRRQAUUUUAFFFFABRXp/w7+FNl4w8NSavqOpzWqido1SFV4Cgckn6n8qs3fwIv7uYXHhjWtOu9NkUNFLPKwY+v3FIPPfNAHk9Fb/i7wdqfgvU4rLVzA7yx+aj27llYZI7gHPHpWBQAUUUUAFFFFABRRRQAUUUUAFFFFABRRRQAUUUUAFFFFABRRRQAUUUUAFFFFABRRRQAUUUUAFFFFABRRRQBNN/qbf8A65n/ANDaoamm/wBTb/8AXM/+htUNABRRXU+C7S2a08Q6je20UwsdMd4GnjDxpOzqqcHgtycA5+nFAHLUV1Gj+F9M1Hwtca1catNbx2M6Jexi1DFVfdt8v5vnJIA52gZPpy/Xba0m8B6HqNnAvmrcXNrNOkQRnVdhi8wLxu2k+555NAHKUUUUAFFFFAHt3gbR5/EHwF1CwsZ7hZzPPsit5FUzPtG2NiR90kjIyOOpxXZfCvwvf+GfCMcWqvcxXUrMZbSSVHjiO4gFcdMrjPNfNFrqd/YoyWV7cWyscssMrICfwNWP+Eh1r/oL3/8A4Ev/AI0Aek/tBMP+Eo0tcjIsySP+BmvMbYaYYYftj3ayef8AvhEikCHHVcn72c8Hj3qC4uri8mMt3PJPIRgvK5Zj+JqKgB0mzzX8ksY9x2lhg47Z96bRRQAUUUUAFFFFABRRRQAUUUUAFFFFABRRRQAUUUUAFFFFABRRRQAUUUUAFFFFABRRRQAUUUUAFFFFAE03+pt/+uZ/9DapYLETwCYXEaop/e7usY7HHfPt3qKb/U2//XM/+htTYoDNnDKvIA3dyegpO/QzqRlJe67f1/X9aEddT4NuYmsvEGmXFxFF9t01lgSeUIjzK6MoyxADYBxXLUUzQ6m18cNZaddaba6RZpptzCFa0Yu6ecCpEx3EktlRwflwMY5OTWL2GL4d6DpkN1C07XFxdXMEDg7d2wRl8cbsA8dR0OOlctRQAUUUUAWdQ0+60u+ks7+FoZ4zhkYfkR6gjkGq1dn8SPGNr4r1K0SwtY0gsIRCtyVxJPwMkn+7noPcnviuMoA9Q+HXwntPGXht9Vv9Snt/37RJHCgPCgckn3J49qu6r+z/AKsuoP8A2JqllJZ4Gw3jOkgPcEKhH412fwLYH4c4BBIvJQcduFr0igD5G8XeDtT8F6nFZauYHeWPzUe3csrDJHcA549KZonht9Rhhvbm6tLW0e5ECfaXZTO3BKrtB7EcnA5HNd9+0Ew/4SjS1yMizJI/4Ga4nS9Z0r+x7Oy1lbxWsLs3EL2qK28NjcjbmGOVHPP0qo2vqTK9tP60/wAyXU/CYS81G6gubS1sYNRltIYJZX8xypGFX5Tngjkn60an4LvE1yO2slgVLm9e0RFmaQQOuCQzFRxg5zjpTNX8SWd/G6wxzqW1ia+G9R/q3C4HX73yn2960G8c2wvfEE0cE5F85msCwAMEhQoWPPHysemeQKjovT9F/wAEuXxO39b/APAMi38H3lzHHsu7IT3Cu9rbtIwkuVTPzL8uADg43EZxWBXYw+MIX0Sxt5tQ1qylsoGgMOnzbIpwMlCTuG084PytkCuOp9RdAooooAKKKKACiiigAooooAKKKKACiiigAooooAKKKKACiiigAooooAKKKKACiiigAooooAmm/wBTb/8AXM/+htSQTCLO5N3IYc4wR0/nUhCn7KHxt8s9TgfeapBHbeU5cKHzyFfIHToc/wCNAFKitHQLWG91y3t7pN8T7ty5IzhSe30qtqMSQapdQxDakczqoznADECsfbR9q6XW1/xsa+yl7L2vS9v1K9FFFbGQUUUUAFFWdQ0+60u+ks7+FoZ4zhkYfkR6gjkGq1AFm11O/sUZLK9uLZWOWWGVkBP4GrH/AAkOtf8AQXv/APwJf/Gu/wDh18J7Txl4bfVb/Up7f9+0SRwoDwoHJJ9yeParuq/s/wCrLqD/ANiapZSWeBsN4zpID3BCoR+NAHk9xdXF5MZbueSeQjBeVyzH8TUVb/i7wdqfgvU4rLVzA7yx+aj27llYZI7gHPHpUOleGZ9VsVuvttnZxSXH2aI3LsvmSYztGFOOCOTgc9aAMaitzT/ClzqGyNb2xhupZHjhtZJiZJGXqBtBA54G4jParFl4Ivb6Kz8u/wBPS4vomlt7aSVhI4UkEfdwD8p6kD9aAOboro08FXk89olpf2FxFdmVUuI5H8tWjXcysSoI4HHGD61b0bwlH/bVh9tlttR0+8iuCkttI+0vHGxwchWBBwfeh6K/zA5Git2Lwley2SSi5tFuJLY3Udkzt5zxDncBt29ASATkjtWRZ2k+oX0NpaIZJ53EcajuScCjrYOlyGiuruPCsFt4ckZLuxvL06lHaiaCZgseVbKtuCjqAd2Me9LpfgpLnVbFLjVbOaxuLv7LJNaO5IkHOwZTqRyDjbx1p7v+v66ieiu/6/qxydFbqeGVnvrmKLV9Pihjufs8Uk8jgysegChN3HQkgDPesi9tJrC+ns7pdk0EjRyLnOGBwalO6uVYhooopiCiiigAooooAKKKKACiiigAooooAKKKKACiiigAooooAKKKKAJpv9Tb/wDXM/8AobVDU03+pt/+uZ/9DaoaANfwr/yM1r/wP/0Bqq6orPrl6EUsftEnAGf4jVrwr/yM1r/wP/0Bqu292+n6rrt3CqmSNm27hkcygV5VWpKni5Sirvlj+Mmj1KUFUwsYydlzP8IpnOOjRnDqyn0IxSVs3Pia4vCpurOymK9C8ROP1qK+eO50eC7FtDBIZ3jPkrtBACnp+NdUK1VOKqQtfzucsqNNpunO9vKxl0UUV1nKdn8SPGNr4r1K0SwtY0gsIRCtyVxJPwMkn+7noPcnviuMoooA+kPgWwPw5wCCReSg47cLXpFfGFrqd/YoyWV7cWyscssMrICfwNWP+Eh1r/oL3/8A4Ev/AI0Aek/tBMP+Eo0tcjIsySP+BmuP8MeI7DR7IRXUt/H+/wB88MUaTQ3UeB8jI5AU8Y3AHg1zVxdXF5MZbueSeQjBeVyzH8TUVO4He6F430vTVsyV1GxS2uZZZLWxCeXcBmyoclgTtHGCCCAOlZ9l4qsbbXdCvHiuDFptu8UoCruYs0hG3n/bHXHeuSopDva/md14M1a1lj03SXSbzIHvJ5GAGCjW7DAOevB7VW0/xRpGjnTrayS8mtbY3MssksaLI8kkZQYUMQABjv61x1FEtfmrCWh2Uvi6C70i1hfUtaspYLIWptrWbbbyFRtVyd2QMfeG059azdMFroGqW2qwa1p949pKsgt40uA0mDyAWiABx6mufop31uK11ZnYR+IPD2n2scNhb310n9px3skd1GiqUUMNnDHJ56nr7Ven8dWIFiVuNW1B7fVVvma9CDEYBBRAGOMZ47fSuBooTt/Xp/kN67/1v/mdrpvirSdO+1xwT6rbLJfC6E9qiJLMmP8AVP8AP8oBz0J69K5rX7+LVPEV/f2wdYrm4eVBIAGAJzzgms+iptt/X9bDvv8A1/W4UUUUxBRRRQAUUUUAFFFFABRRRQAUUUUAFFFFABRRRQAUUUUAFFFFAE03+pt/+uZ/9Daoamm/1Nv/ANcz/wChtUNAGv4V/wCRmtf+B/8AoDUs15DbazqsV1E0sM8rqwRtpGJMj+VJ4V/5Ga1/4H/6A1U9W/5DV9/18Sf+hGvNlBTxkoy/lX/pTPRjNwwcZL+Z/wDpKLHnaL/z6Xn/AH+X/wCJqO9vbaSzitbKCSONHaQmRwxJIA7AelUKK6lh4qSldu3ds5XXk4uNkr+SCiiiugwCiiigD0r4L+FtI8TazqP9uWi3aW0CmONmYKCxIycEZ4Hf1rq/iF4K8L2E2n6daaK1iL9ZNuo2yO/2eRdu3evOUO457jqKzP2ev+QvrX/XCL/0I17tQB8Z6tpd1ourXGnX6KlxbvscKwYfUEdRjmtvTPDdvqvhS2uEubWzu5dRe3EtzI4DjYm1AFB7k84+p6VL8UP+Sna3/wBdx/6CtZ9lrdtbaPp1o6SmS11M3bkAYKYQYHPX5T/jTVrO/l+a/QX9fgPg8IXj7/tl1Z6fi6a0T7VIw82VeCF2qeBxycDnrUlt4JvplT7Ve2NjJJdPZpFcyMGaVSAV+VSO45zj9KvXniXRdYmP9qJfRx2+oTXVuYI0YvHIwYo4LDacgcjPU8VFfeL4NQu7C6nhlSSDVZL2VVAI2MUIVTnkgIeuO1JdL/1t/wAEb30/rf8A4BUuPBeoxIPs81reyrdLaSw2zlmhlborZAHYjIJGR1qrqnh2bTbH7Wt5Z3sCzm3ke1dj5cmM7TuUdgcEZHHWtux8aW2nXGpXENvM8lxqyX0SsABsDMSrHPBw3bNV9X1Sy13/AEdNf1XY0plH9ryO0MQxwoVPMLNz97A47Utbf15f8EOv9ef/AADI0XQptb+1GK6tbWO0i82WS5cqoXcB2B9a1NY0rTNM8G6ZNA9rc3l4XZ51abdhXIwgIC4GMHPOTxxzVeGay0bS9Ttl1CG/fULdYkNqkgEZEiN83mKvBAPTNVNR1OG80LSLKJZBJYpKshYDB3SFhjn0PtTeyt/W/wDwBra7/rb/AIJl0UUUCCiiigAooooAKKKKACiiigAooooAKKKKACiiigAooooAKKKKACiiigAooooAmm/1Nv8A9cz/AOhtUNTTf6m3/wCuZ/8AQ2qGgCa1uprK5S4tX2Spna2AcZGO/wBaZNK88zzSnc8jFmOMZJOTTKKnljzc1tSuaXLy30CiiiqJCiiigAooooA2/DPi7WPCF3NcaHcLE86BJA8YcMAcjg10v/C7PGn/AD+W3/gMtef0UAWtT1K71jU7jUNRlM11cOXkcgDJ+g4H0qrRRQAUUUUAFFFFABRRRQAUUUUAFFFFABRRRQAUUUUAFFFFABRRRQAUUUUAFFFFABRRRQAUUUUAFFFFABRRRQBNN/qbf/rmf/Q2qGppv9Tb/wDXM/8AobVDQAUUUUAFFFFABRRRQAUUUUAFFFFABRRRQAUUUUAFFFFABRRRQAUUUUAFFFFABRRRQAUUUUAFFFFABRRRQAUUUUAFFFFABRRRQAUUUUAFFFFABRRRQBNN/qbf/rmf/Q2qGppv9Tb/APXM/wDobVDQAUUUUAFFFFABRRRQAUUUUAFFFFABRRRQAUUUUAFFFFABRRRQAUUUUAFFFFABRRRQAUUUUAFFFFABRRRQAUUUUAFFFFABRRRQAUUUUAFFFFABRRRQBNN/qbf/AK5n/wBDaoamm/1Nv/1zP/obVDQB/9k=)"
      ],
      "metadata": {
        "id": "Bl4Rq7qhiBX1"
      }
    },
    {
      "cell_type": "markdown",
      "source": [
        "## Задание 3 (Класс для визуализации данных)"
      ],
      "metadata": {
        "id": "5Xx-ZR4yi1M1"
      }
    },
    {
      "cell_type": "code",
      "source": [
        "# Делаем копию сэмпла данных\n",
        "df_2_viz = df_2_clean.copy()"
      ],
      "metadata": {
        "id": "zicXJkq_kCI4"
      },
      "execution_count": 162,
      "outputs": []
    },
    {
      "cell_type": "code",
      "source": [
        "# Запускаем код для создания класса\n",
        "class Visualizer:\n",
        "    def __init__(self, table_name):                  \n",
        "        self.table_name = df\n",
        "        print(f'Класс инициализирован. Таблица загружена.')\n",
        "\n",
        "    def chart(self):\n",
        "        df_viz = (self.table_name).groupby('День недели сдачи')['Класс жилья'].count().sort_values(ascending=True)\n",
        "        rcParams['figure.figsize'] = 10,5\n",
        "        plt.plot(df_viz)\n",
        "        plt.title('Анализ сдаваемого жилья относительно дней недели')\n",
        "        plt.xlabel('День недели')\n",
        "        plt.ylabel('Объем сдаваемого жилья')\n",
        "        plt.show()\n",
        "        print(f'График построен')\n",
        "\n",
        "    def bar_hist(self):\n",
        "        df_viz_1 = (self.table_name).groupby('Класс жилья')['День недели сдачи'].count().sort_values(ascending=True)\n",
        "        rcParams['figure.figsize'] = 5,5\n",
        "        df_viz_1.plot(kind='barh') \n",
        "        plt.title(\"Аналитика по классу сдаваемого жилья\")\n",
        "        plt.xlabel('Объем сдаваемого жилья')\n",
        "        plt.ylabel('Класс жилья')\n",
        "        plt.show()"
      ],
      "metadata": {
        "id": "M8mN6uZyW1sL"
      },
      "execution_count": 163,
      "outputs": []
    },
    {
      "cell_type": "code",
      "source": [
        "# Объявляем df и инициализируем класс\n",
        "df = df_2_viz\n",
        "h = Visualizer(df_2_viz)"
      ],
      "metadata": {
        "colab": {
          "base_uri": "https://localhost:8080/"
        },
        "id": "2VhU26j4nEEZ",
        "outputId": "db6a2c78-1ec9-4726-ba40-3a603836597a"
      },
      "execution_count": 168,
      "outputs": [
        {
          "output_type": "stream",
          "name": "stdout",
          "text": [
            "Класс инициализирован. Таблица загружена.\n"
          ]
        }
      ]
    },
    {
      "cell_type": "code",
      "source": [
        "# Используем метод Chart для построения графика\n",
        "h.chart()"
      ],
      "metadata": {
        "id": "SiaPnA1Zc2A0",
        "colab": {
          "base_uri": "https://localhost:8080/",
          "height": 367
        },
        "outputId": "66dec5b0-f8ee-4a9a-b3f7-6e82cfebf7fa"
      },
      "execution_count": 166,
      "outputs": [
        {
          "output_type": "display_data",
          "data": {
            "text/plain": [
              "<Figure size 720x360 with 1 Axes>"
            ],
            "image/png": "[encoded data removed]"
          },
          "metadata": {
            "needs_background": "light"
          }
        },
        {
          "output_type": "stream",
          "name": "stdout",
          "text": [
            "График построен\n"
          ]
        }
      ]
    },
    {
      "cell_type": "code",
      "source": [
        "# Используем метод Bar_hist для построения гистограммы\n",
        "h.bar_hist()"
      ],
      "metadata": {
        "id": "XNYdlngTW1u0",
        "colab": {
          "base_uri": "https://localhost:8080/",
          "height": 350
        },
        "outputId": "6a87dd27-4ef4-413c-907d-3dd122a52a30"
      },
      "execution_count": 167,
      "outputs": [
        {
          "output_type": "display_data",
          "data": {
            "text/plain": [
              "<Figure size 360x360 with 1 Axes>"
            ],
            "image/png": "[encoded data removed]"
          },
          "metadata": {
            "needs_background": "light"
          }
        }
      ]
    }
  ],
  "metadata": {
    "kernelspec": {
      "display_name": "Python 3",
      "language": "python",
      "name": "python3"
    },
    "language_info": {
      "codemirror_mode": {
        "name": "ipython",
        "version": 2
      },
      "file_extension": ".py",
      "mimetype": "text/x-python",
      "name": "python",
      "nbconvert_exporter": "python",
      "pygments_lexer": "ipython2",
      "version": "2.7.6"
    },
    "colab": {
      "provenance": [],
      "include_colab_link": true
    },
    "widgets": {
      "application/vnd.jupyter.widget-state+json": {
        "86471d038d1846ef95d011e1a7bacf88": {
          "model_module": "@jupyter-widgets/controls",
          "model_name": "HBoxModel",
          "model_module_version": "1.5.0",
          "state": {
            "_dom_classes": [],
            "_model_module": "@jupyter-widgets/controls",
            "_model_module_version": "1.5.0",
            "_model_name": "HBoxModel",
            "_view_count": null,
            "_view_module": "@jupyter-widgets/controls",
            "_view_module_version": "1.5.0",
            "_view_name": "HBoxView",
            "box_style": "",
            "children": [
              "IPY_MODEL_1dc5c6e2a5964dda8afdc7c50ccf5eda",
              "IPY_MODEL_31894ab662da4c3ca1ef02ef90d16f3d",
              "IPY_MODEL_a14f9bbbf1c74a6ab113c0878997d2c9"
            ],
            "layout": "IPY_MODEL_198f932e63b24f42921a58427c112753"
          }
        },
        "1dc5c6e2a5964dda8afdc7c50ccf5eda": {
          "model_module": "@jupyter-widgets/controls",
          "model_name": "HTMLModel",
          "model_module_version": "1.5.0",
          "state": {
            "_dom_classes": [],
            "_model_module": "@jupyter-widgets/controls",
            "_model_module_version": "1.5.0",
            "_model_name": "HTMLModel",
            "_view_count": null,
            "_view_module": "@jupyter-widgets/controls",
            "_view_module_version": "1.5.0",
            "_view_name": "HTMLView",
            "description": "",
            "description_tooltip": null,
            "layout": "IPY_MODEL_d770703d331a475bbe17d813f7d01a88",
            "placeholder": "​",
            "style": "IPY_MODEL_a9f18c9e9a4d45a98a8219b9f54050e6",
            "value": "100%"
          }
        },
        "31894ab662da4c3ca1ef02ef90d16f3d": {
          "model_module": "@jupyter-widgets/controls",
          "model_name": "FloatProgressModel",
          "model_module_version": "1.5.0",
          "state": {
            "_dom_classes": [],
            "_model_module": "@jupyter-widgets/controls",
            "_model_module_version": "1.5.0",
            "_model_name": "FloatProgressModel",
            "_view_count": null,
            "_view_module": "@jupyter-widgets/controls",
            "_view_module_version": "1.5.0",
            "_view_name": "ProgressView",
            "bar_style": "success",
            "description": "",
            "description_tooltip": null,
            "layout": "IPY_MODEL_14d1bf4aa3fd4fecb37f44d4f5b4bf60",
            "max": 5000,
            "min": 0,
            "orientation": "horizontal",
            "style": "IPY_MODEL_b5abed408c5340499fd12e3560fdb2d5",
            "value": 5000
          }
        },
        "a14f9bbbf1c74a6ab113c0878997d2c9": {
          "model_module": "@jupyter-widgets/controls",
          "model_name": "HTMLModel",
          "model_module_version": "1.5.0",
          "state": {
            "_dom_classes": [],
            "_model_module": "@jupyter-widgets/controls",
            "_model_module_version": "1.5.0",
            "_model_name": "HTMLModel",
            "_view_count": null,
            "_view_module": "@jupyter-widgets/controls",
            "_view_module_version": "1.5.0",
            "_view_name": "HTMLView",
            "description": "",
            "description_tooltip": null,
            "layout": "IPY_MODEL_f349d9fb9dc94e128a62f8ab6bd637ee",
            "placeholder": "​",
            "style": "IPY_MODEL_a027955a442f45299a766e50a906d865",
            "value": " 5000/5000 [40:30&lt;00:00,  2.14it/s]"
          }
        },
        "198f932e63b24f42921a58427c112753": {
          "model_module": "@jupyter-widgets/base",
          "model_name": "LayoutModel",
          "model_module_version": "1.2.0",
          "state": {
            "_model_module": "@jupyter-widgets/base",
            "_model_module_version": "1.2.0",
            "_model_name": "LayoutModel",
            "_view_count": null,
            "_view_module": "@jupyter-widgets/base",
            "_view_module_version": "1.2.0",
            "_view_name": "LayoutView",
            "align_content": null,
            "align_items": null,
            "align_self": null,
            "border": null,
            "bottom": null,
            "display": null,
            "flex": null,
            "flex_flow": null,
            "grid_area": null,
            "grid_auto_columns": null,
            "grid_auto_flow": null,
            "grid_auto_rows": null,
            "grid_column": null,
            "grid_gap": null,
            "grid_row": null,
            "grid_template_areas": null,
            "grid_template_columns": null,
            "grid_template_rows": null,
            "height": null,
            "justify_content": null,
            "justify_items": null,
            "left": null,
            "margin": null,
            "max_height": null,
            "max_width": null,
            "min_height": null,
            "min_width": null,
            "object_fit": null,
            "object_position": null,
            "order": null,
            "overflow": null,
            "overflow_x": null,
            "overflow_y": null,
            "padding": null,
            "right": null,
            "top": null,
            "visibility": null,
            "width": null
          }
        },
        "d770703d331a475bbe17d813f7d01a88": {
          "model_module": "@jupyter-widgets/base",
          "model_name": "LayoutModel",
          "model_module_version": "1.2.0",
          "state": {
            "_model_module": "@jupyter-widgets/base",
            "_model_module_version": "1.2.0",
            "_model_name": "LayoutModel",
            "_view_count": null,
            "_view_module": "@jupyter-widgets/base",
            "_view_module_version": "1.2.0",
            "_view_name": "LayoutView",
            "align_content": null,
            "align_items": null,
            "align_self": null,
            "border": null,
            "bottom": null,
            "display": null,
            "flex": null,
            "flex_flow": null,
            "grid_area": null,
            "grid_auto_columns": null,
            "grid_auto_flow": null,
            "grid_auto_rows": null,
            "grid_column": null,
            "grid_gap": null,
            "grid_row": null,
            "grid_template_areas": null,
            "grid_template_columns": null,
            "grid_template_rows": null,
            "height": null,
            "justify_content": null,
            "justify_items": null,
            "left": null,
            "margin": null,
            "max_height": null,
            "max_width": null,
            "min_height": null,
            "min_width": null,
            "object_fit": null,
            "object_position": null,
            "order": null,
            "overflow": null,
            "overflow_x": null,
            "overflow_y": null,
            "padding": null,
            "right": null,
            "top": null,
            "visibility": null,
            "width": null
          }
        },
        "a9f18c9e9a4d45a98a8219b9f54050e6": {
          "model_module": "@jupyter-widgets/controls",
          "model_name": "DescriptionStyleModel",
          "model_module_version": "1.5.0",
          "state": {
            "_model_module": "@jupyter-widgets/controls",
            "_model_module_version": "1.5.0",
            "_model_name": "DescriptionStyleModel",
            "_view_count": null,
            "_view_module": "@jupyter-widgets/base",
            "_view_module_version": "1.2.0",
            "_view_name": "StyleView",
            "description_width": ""
          }
        },
        "14d1bf4aa3fd4fecb37f44d4f5b4bf60": {
          "model_module": "@jupyter-widgets/base",
          "model_name": "LayoutModel",
          "model_module_version": "1.2.0",
          "state": {
            "_model_module": "@jupyter-widgets/base",
            "_model_module_version": "1.2.0",
            "_model_name": "LayoutModel",
            "_view_count": null,
            "_view_module": "@jupyter-widgets/base",
            "_view_module_version": "1.2.0",
            "_view_name": "LayoutView",
            "align_content": null,
            "align_items": null,
            "align_self": null,
            "border": null,
            "bottom": null,
            "display": null,
            "flex": null,
            "flex_flow": null,
            "grid_area": null,
            "grid_auto_columns": null,
            "grid_auto_flow": null,
            "grid_auto_rows": null,
            "grid_column": null,
            "grid_gap": null,
            "grid_row": null,
            "grid_template_areas": null,
            "grid_template_columns": null,
            "grid_template_rows": null,
            "height": null,
            "justify_content": null,
            "justify_items": null,
            "left": null,
            "margin": null,
            "max_height": null,
            "max_width": null,
            "min_height": null,
            "min_width": null,
            "object_fit": null,
            "object_position": null,
            "order": null,
            "overflow": null,
            "overflow_x": null,
            "overflow_y": null,
            "padding": null,
            "right": null,
            "top": null,
            "visibility": null,
            "width": null
          }
        },
        "b5abed408c5340499fd12e3560fdb2d5": {
          "model_module": "@jupyter-widgets/controls",
          "model_name": "ProgressStyleModel",
          "model_module_version": "1.5.0",
          "state": {
            "_model_module": "@jupyter-widgets/controls",
            "_model_module_version": "1.5.0",
            "_model_name": "ProgressStyleModel",
            "_view_count": null,
            "_view_module": "@jupyter-widgets/base",
            "_view_module_version": "1.2.0",
            "_view_name": "StyleView",
            "bar_color": null,
            "description_width": ""
          }
        },
        "f349d9fb9dc94e128a62f8ab6bd637ee": {
          "model_module": "@jupyter-widgets/base",
          "model_name": "LayoutModel",
          "model_module_version": "1.2.0",
          "state": {
            "_model_module": "@jupyter-widgets/base",
            "_model_module_version": "1.2.0",
            "_model_name": "LayoutModel",
            "_view_count": null,
            "_view_module": "@jupyter-widgets/base",
            "_view_module_version": "1.2.0",
            "_view_name": "LayoutView",
            "align_content": null,
            "align_items": null,
            "align_self": null,
            "border": null,
            "bottom": null,
            "display": null,
            "flex": null,
            "flex_flow": null,
            "grid_area": null,
            "grid_auto_columns": null,
            "grid_auto_flow": null,
            "grid_auto_rows": null,
            "grid_column": null,
            "grid_gap": null,
            "grid_row": null,
            "grid_template_areas": null,
            "grid_template_columns": null,
            "grid_template_rows": null,
            "height": null,
            "justify_content": null,
            "justify_items": null,
            "left": null,
            "margin": null,
            "max_height": null,
            "max_width": null,
            "min_height": null,
            "min_width": null,
            "object_fit": null,
            "object_position": null,
            "order": null,
            "overflow": null,
            "overflow_x": null,
            "overflow_y": null,
            "padding": null,
            "right": null,
            "top": null,
            "visibility": null,
            "width": null
          }
        },
        "a027955a442f45299a766e50a906d865": {
          "model_module": "@jupyter-widgets/controls",
          "model_name": "DescriptionStyleModel",
          "model_module_version": "1.5.0",
          "state": {
            "_model_module": "@jupyter-widgets/controls",
            "_model_module_version": "1.5.0",
            "_model_name": "DescriptionStyleModel",
            "_view_count": null,
            "_view_module": "@jupyter-widgets/base",
            "_view_module_version": "1.2.0",
            "_view_name": "StyleView",
            "description_width": ""
          }
        },
        "5e18eeb17e9248f1b15460cae698ae1b": {
          "model_module": "@jupyter-widgets/controls",
          "model_name": "HBoxModel",
          "model_module_version": "1.5.0",
          "state": {
            "_dom_classes": [],
            "_model_module": "@jupyter-widgets/controls",
            "_model_module_version": "1.5.0",
            "_model_name": "HBoxModel",
            "_view_count": null,
            "_view_module": "@jupyter-widgets/controls",
            "_view_module_version": "1.5.0",
            "_view_name": "HBoxView",
            "box_style": "",
            "children": [
              "IPY_MODEL_ff1255d449ab49298106d6e93b6e84dc",
              "IPY_MODEL_502db1e5ebe04485b537fa277eef24ee",
              "IPY_MODEL_39a788fae13d492b9394cda8fa4f6b2e"
            ],
            "layout": "IPY_MODEL_e5b98499127a41918d5353dcdbde65a2"
          }
        },
        "ff1255d449ab49298106d6e93b6e84dc": {
          "model_module": "@jupyter-widgets/controls",
          "model_name": "HTMLModel",
          "model_module_version": "1.5.0",
          "state": {
            "_dom_classes": [],
            "_model_module": "@jupyter-widgets/controls",
            "_model_module_version": "1.5.0",
            "_model_name": "HTMLModel",
            "_view_count": null,
            "_view_module": "@jupyter-widgets/controls",
            "_view_module_version": "1.5.0",
            "_view_name": "HTMLView",
            "description": "",
            "description_tooltip": null,
            "layout": "IPY_MODEL_6421e4d3f7794683b4f8595f931a1e16",
            "placeholder": "​",
            "style": "IPY_MODEL_713951eccecc4fec8b9907e7cd092a1b",
            "value": "100%"
          }
        },
        "502db1e5ebe04485b537fa277eef24ee": {
          "model_module": "@jupyter-widgets/controls",
          "model_name": "FloatProgressModel",
          "model_module_version": "1.5.0",
          "state": {
            "_dom_classes": [],
            "_model_module": "@jupyter-widgets/controls",
            "_model_module_version": "1.5.0",
            "_model_name": "FloatProgressModel",
            "_view_count": null,
            "_view_module": "@jupyter-widgets/controls",
            "_view_module_version": "1.5.0",
            "_view_name": "ProgressView",
            "bar_style": "success",
            "description": "",
            "description_tooltip": null,
            "layout": "IPY_MODEL_e382708ebe784590b52f2da19330b5b4",
            "max": 10,
            "min": 0,
            "orientation": "horizontal",
            "style": "IPY_MODEL_a5d77fe16aff4db19fa6503808dc0aec",
            "value": 10
          }
        },
        "39a788fae13d492b9394cda8fa4f6b2e": {
          "model_module": "@jupyter-widgets/controls",
          "model_name": "HTMLModel",
          "model_module_version": "1.5.0",
          "state": {
            "_dom_classes": [],
            "_model_module": "@jupyter-widgets/controls",
            "_model_module_version": "1.5.0",
            "_model_name": "HTMLModel",
            "_view_count": null,
            "_view_module": "@jupyter-widgets/controls",
            "_view_module_version": "1.5.0",
            "_view_name": "HTMLView",
            "description": "",
            "description_tooltip": null,
            "layout": "IPY_MODEL_8a7b66c78f064659afb21a17ef64b17f",
            "placeholder": "​",
            "style": "IPY_MODEL_12bbd3320a77467594f78ba79333fc01",
            "value": " 10/10 [00:06&lt;00:00,  1.66it/s]"
          }
        },
        "e5b98499127a41918d5353dcdbde65a2": {
          "model_module": "@jupyter-widgets/base",
          "model_name": "LayoutModel",
          "model_module_version": "1.2.0",
          "state": {
            "_model_module": "@jupyter-widgets/base",
            "_model_module_version": "1.2.0",
            "_model_name": "LayoutModel",
            "_view_count": null,
            "_view_module": "@jupyter-widgets/base",
            "_view_module_version": "1.2.0",
            "_view_name": "LayoutView",
            "align_content": null,
            "align_items": null,
            "align_self": null,
            "border": null,
            "bottom": null,
            "display": null,
            "flex": null,
            "flex_flow": null,
            "grid_area": null,
            "grid_auto_columns": null,
            "grid_auto_flow": null,
            "grid_auto_rows": null,
            "grid_column": null,
            "grid_gap": null,
            "grid_row": null,
            "grid_template_areas": null,
            "grid_template_columns": null,
            "grid_template_rows": null,
            "height": null,
            "justify_content": null,
            "justify_items": null,
            "left": null,
            "margin": null,
            "max_height": null,
            "max_width": null,
            "min_height": null,
            "min_width": null,
            "object_fit": null,
            "object_position": null,
            "order": null,
            "overflow": null,
            "overflow_x": null,
            "overflow_y": null,
            "padding": null,
            "right": null,
            "top": null,
            "visibility": null,
            "width": null
          }
        },
        "6421e4d3f7794683b4f8595f931a1e16": {
          "model_module": "@jupyter-widgets/base",
          "model_name": "LayoutModel",
          "model_module_version": "1.2.0",
          "state": {
            "_model_module": "@jupyter-widgets/base",
            "_model_module_version": "1.2.0",
            "_model_name": "LayoutModel",
            "_view_count": null,
            "_view_module": "@jupyter-widgets/base",
            "_view_module_version": "1.2.0",
            "_view_name": "LayoutView",
            "align_content": null,
            "align_items": null,
            "align_self": null,
            "border": null,
            "bottom": null,
            "display": null,
            "flex": null,
            "flex_flow": null,
            "grid_area": null,
            "grid_auto_columns": null,
            "grid_auto_flow": null,
            "grid_auto_rows": null,
            "grid_column": null,
            "grid_gap": null,
            "grid_row": null,
            "grid_template_areas": null,
            "grid_template_columns": null,
            "grid_template_rows": null,
            "height": null,
            "justify_content": null,
            "justify_items": null,
            "left": null,
            "margin": null,
            "max_height": null,
            "max_width": null,
            "min_height": null,
            "min_width": null,
            "object_fit": null,
            "object_position": null,
            "order": null,
            "overflow": null,
            "overflow_x": null,
            "overflow_y": null,
            "padding": null,
            "right": null,
            "top": null,
            "visibility": null,
            "width": null
          }
        },
        "713951eccecc4fec8b9907e7cd092a1b": {
          "model_module": "@jupyter-widgets/controls",
          "model_name": "DescriptionStyleModel",
          "model_module_version": "1.5.0",
          "state": {
            "_model_module": "@jupyter-widgets/controls",
            "_model_module_version": "1.5.0",
            "_model_name": "DescriptionStyleModel",
            "_view_count": null,
            "_view_module": "@jupyter-widgets/base",
            "_view_module_version": "1.2.0",
            "_view_name": "StyleView",
            "description_width": ""
          }
        },
        "e382708ebe784590b52f2da19330b5b4": {
          "model_module": "@jupyter-widgets/base",
          "model_name": "LayoutModel",
          "model_module_version": "1.2.0",
          "state": {
            "_model_module": "@jupyter-widgets/base",
            "_model_module_version": "1.2.0",
            "_model_name": "LayoutModel",
            "_view_count": null,
            "_view_module": "@jupyter-widgets/base",
            "_view_module_version": "1.2.0",
            "_view_name": "LayoutView",
            "align_content": null,
            "align_items": null,
            "align_self": null,
            "border": null,
            "bottom": null,
            "display": null,
            "flex": null,
            "flex_flow": null,
            "grid_area": null,
            "grid_auto_columns": null,
            "grid_auto_flow": null,
            "grid_auto_rows": null,
            "grid_column": null,
            "grid_gap": null,
            "grid_row": null,
            "grid_template_areas": null,
            "grid_template_columns": null,
            "grid_template_rows": null,
            "height": null,
            "justify_content": null,
            "justify_items": null,
            "left": null,
            "margin": null,
            "max_height": null,
            "max_width": null,
            "min_height": null,
            "min_width": null,
            "object_fit": null,
            "object_position": null,
            "order": null,
            "overflow": null,
            "overflow_x": null,
            "overflow_y": null,
            "padding": null,
            "right": null,
            "top": null,
            "visibility": null,
            "width": null
          }
        },
        "a5d77fe16aff4db19fa6503808dc0aec": {
          "model_module": "@jupyter-widgets/controls",
          "model_name": "ProgressStyleModel",
          "model_module_version": "1.5.0",
          "state": {
            "_model_module": "@jupyter-widgets/controls",
            "_model_module_version": "1.5.0",
            "_model_name": "ProgressStyleModel",
            "_view_count": null,
            "_view_module": "@jupyter-widgets/base",
            "_view_module_version": "1.2.0",
            "_view_name": "StyleView",
            "bar_color": null,
            "description_width": ""
          }
        },
        "8a7b66c78f064659afb21a17ef64b17f": {
          "model_module": "@jupyter-widgets/base",
          "model_name": "LayoutModel",
          "model_module_version": "1.2.0",
          "state": {
            "_model_module": "@jupyter-widgets/base",
            "_model_module_version": "1.2.0",
            "_model_name": "LayoutModel",
            "_view_count": null,
            "_view_module": "@jupyter-widgets/base",
            "_view_module_version": "1.2.0",
            "_view_name": "LayoutView",
            "align_content": null,
            "align_items": null,
            "align_self": null,
            "border": null,
            "bottom": null,
            "display": null,
            "flex": null,
            "flex_flow": null,
            "grid_area": null,
            "grid_auto_columns": null,
            "grid_auto_flow": null,
            "grid_auto_rows": null,
            "grid_column": null,
            "grid_gap": null,
            "grid_row": null,
            "grid_template_areas": null,
            "grid_template_columns": null,
            "grid_template_rows": null,
            "height": null,
            "justify_content": null,
            "justify_items": null,
            "left": null,
            "margin": null,
            "max_height": null,
            "max_width": null,
            "min_height": null,
            "min_width": null,
            "object_fit": null,
            "object_position": null,
            "order": null,
            "overflow": null,
            "overflow_x": null,
            "overflow_y": null,
            "padding": null,
            "right": null,
            "top": null,
            "visibility": null,
            "width": null
          }
        },
        "12bbd3320a77467594f78ba79333fc01": {
          "model_module": "@jupyter-widgets/controls",
          "model_name": "DescriptionStyleModel",
          "model_module_version": "1.5.0",
          "state": {
            "_model_module": "@jupyter-widgets/controls",
            "_model_module_version": "1.5.0",
            "_model_name": "DescriptionStyleModel",
            "_view_count": null,
            "_view_module": "@jupyter-widgets/base",
            "_view_module_version": "1.2.0",
            "_view_name": "StyleView",
            "description_width": ""
          }
        }
      }
    }
  },
  "nbformat": 4,
  "nbformat_minor": 0
}
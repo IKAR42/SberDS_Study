{
  "nbformat": 4,
  "nbformat_minor": 0,
  "metadata": {
    "colab": {
      "provenance": [],
      "include_colab_link": true
    },
    "kernelspec": {
      "name": "python3",
      "display_name": "Python 3"
    },
    "language_info": {
      "name": "python"
    },
    "accelerator": "GPU",
    "gpuClass": "standard",
    "widgets": {
      "application/vnd.jupyter.widget-state+json": {
        "14e0ee4c6aed4d2eb3f40e34e3f859b5": {
          "model_module": "@jupyter-widgets/controls",
          "model_name": "HBoxModel",
          "model_module_version": "1.5.0",
          "state": {
            "_dom_classes": [],
            "_model_module": "@jupyter-widgets/controls",
            "_model_module_version": "1.5.0",
            "_model_name": "HBoxModel",
            "_view_count": null,
            "_view_module": "@jupyter-widgets/controls",
            "_view_module_version": "1.5.0",
            "_view_name": "HBoxView",
            "box_style": "",
            "children": [
              "IPY_MODEL_fc22aa796afe4d86bd153b6bcb74967e",
              "IPY_MODEL_24809322eac448f7bb89c9d9cc64a830",
              "IPY_MODEL_52c178a541f44571b6261d008cba2a4b"
            ],
            "layout": "IPY_MODEL_ddf4f60bd5ae4340ae075359b8efb9af"
          }
        },
        "fc22aa796afe4d86bd153b6bcb74967e": {
          "model_module": "@jupyter-widgets/controls",
          "model_name": "HTMLModel",
          "model_module_version": "1.5.0",
          "state": {
            "_dom_classes": [],
            "_model_module": "@jupyter-widgets/controls",
            "_model_module_version": "1.5.0",
            "_model_name": "HTMLModel",
            "_view_count": null,
            "_view_module": "@jupyter-widgets/controls",
            "_view_module_version": "1.5.0",
            "_view_name": "HTMLView",
            "description": "",
            "description_tooltip": null,
            "layout": "IPY_MODEL_5b86424ee060408f8d137bcbc172ee06",
            "placeholder": "​",
            "style": "IPY_MODEL_4cb446ed2e7f410881a735456106d5fa",
            "value": "100%"
          }
        },
        "24809322eac448f7bb89c9d9cc64a830": {
          "model_module": "@jupyter-widgets/controls",
          "model_name": "FloatProgressModel",
          "model_module_version": "1.5.0",
          "state": {
            "_dom_classes": [],
            "_model_module": "@jupyter-widgets/controls",
            "_model_module_version": "1.5.0",
            "_model_name": "FloatProgressModel",
            "_view_count": null,
            "_view_module": "@jupyter-widgets/controls",
            "_view_module_version": "1.5.0",
            "_view_name": "ProgressView",
            "bar_style": "success",
            "description": "",
            "description_tooltip": null,
            "layout": "IPY_MODEL_64ddddf25eef477587448f3b27038f93",
            "max": 10,
            "min": 0,
            "orientation": "horizontal",
            "style": "IPY_MODEL_375bce5137a5465fba571d94eb1c24ef",
            "value": 10
          }
        },
        "52c178a541f44571b6261d008cba2a4b": {
          "model_module": "@jupyter-widgets/controls",
          "model_name": "HTMLModel",
          "model_module_version": "1.5.0",
          "state": {
            "_dom_classes": [],
            "_model_module": "@jupyter-widgets/controls",
            "_model_module_version": "1.5.0",
            "_model_name": "HTMLModel",
            "_view_count": null,
            "_view_module": "@jupyter-widgets/controls",
            "_view_module_version": "1.5.0",
            "_view_name": "HTMLView",
            "description": "",
            "description_tooltip": null,
            "layout": "IPY_MODEL_5b49a97a4eac49f0b99d5640fbb20075",
            "placeholder": "​",
            "style": "IPY_MODEL_cbfd0c1104a243cf811c1a7d7fe451dc",
            "value": " 10/10 [03:54&lt;00:00, 23.42s/it]"
          }
        },
        "ddf4f60bd5ae4340ae075359b8efb9af": {
          "model_module": "@jupyter-widgets/base",
          "model_name": "LayoutModel",
          "model_module_version": "1.2.0",
          "state": {
            "_model_module": "@jupyter-widgets/base",
            "_model_module_version": "1.2.0",
            "_model_name": "LayoutModel",
            "_view_count": null,
            "_view_module": "@jupyter-widgets/base",
            "_view_module_version": "1.2.0",
            "_view_name": "LayoutView",
            "align_content": null,
            "align_items": null,
            "align_self": null,
            "border": null,
            "bottom": null,
            "display": null,
            "flex": null,
            "flex_flow": null,
            "grid_area": null,
            "grid_auto_columns": null,
            "grid_auto_flow": null,
            "grid_auto_rows": null,
            "grid_column": null,
            "grid_gap": null,
            "grid_row": null,
            "grid_template_areas": null,
            "grid_template_columns": null,
            "grid_template_rows": null,
            "height": null,
            "justify_content": null,
            "justify_items": null,
            "left": null,
            "margin": null,
            "max_height": null,
            "max_width": null,
            "min_height": null,
            "min_width": null,
            "object_fit": null,
            "object_position": null,
            "order": null,
            "overflow": null,
            "overflow_x": null,
            "overflow_y": null,
            "padding": null,
            "right": null,
            "top": null,
            "visibility": null,
            "width": null
          }
        },
        "5b86424ee060408f8d137bcbc172ee06": {
          "model_module": "@jupyter-widgets/base",
          "model_name": "LayoutModel",
          "model_module_version": "1.2.0",
          "state": {
            "_model_module": "@jupyter-widgets/base",
            "_model_module_version": "1.2.0",
            "_model_name": "LayoutModel",
            "_view_count": null,
            "_view_module": "@jupyter-widgets/base",
            "_view_module_version": "1.2.0",
            "_view_name": "LayoutView",
            "align_content": null,
            "align_items": null,
            "align_self": null,
            "border": null,
            "bottom": null,
            "display": null,
            "flex": null,
            "flex_flow": null,
            "grid_area": null,
            "grid_auto_columns": null,
            "grid_auto_flow": null,
            "grid_auto_rows": null,
            "grid_column": null,
            "grid_gap": null,
            "grid_row": null,
            "grid_template_areas": null,
            "grid_template_columns": null,
            "grid_template_rows": null,
            "height": null,
            "justify_content": null,
            "justify_items": null,
            "left": null,
            "margin": null,
            "max_height": null,
            "max_width": null,
            "min_height": null,
            "min_width": null,
            "object_fit": null,
            "object_position": null,
            "order": null,
            "overflow": null,
            "overflow_x": null,
            "overflow_y": null,
            "padding": null,
            "right": null,
            "top": null,
            "visibility": null,
            "width": null
          }
        },
        "4cb446ed2e7f410881a735456106d5fa": {
          "model_module": "@jupyter-widgets/controls",
          "model_name": "DescriptionStyleModel",
          "model_module_version": "1.5.0",
          "state": {
            "_model_module": "@jupyter-widgets/controls",
            "_model_module_version": "1.5.0",
            "_model_name": "DescriptionStyleModel",
            "_view_count": null,
            "_view_module": "@jupyter-widgets/base",
            "_view_module_version": "1.2.0",
            "_view_name": "StyleView",
            "description_width": ""
          }
        },
        "64ddddf25eef477587448f3b27038f93": {
          "model_module": "@jupyter-widgets/base",
          "model_name": "LayoutModel",
          "model_module_version": "1.2.0",
          "state": {
            "_model_module": "@jupyter-widgets/base",
            "_model_module_version": "1.2.0",
            "_model_name": "LayoutModel",
            "_view_count": null,
            "_view_module": "@jupyter-widgets/base",
            "_view_module_version": "1.2.0",
            "_view_name": "LayoutView",
            "align_content": null,
            "align_items": null,
            "align_self": null,
            "border": null,
            "bottom": null,
            "display": null,
            "flex": null,
            "flex_flow": null,
            "grid_area": null,
            "grid_auto_columns": null,
            "grid_auto_flow": null,
            "grid_auto_rows": null,
            "grid_column": null,
            "grid_gap": null,
            "grid_row": null,
            "grid_template_areas": null,
            "grid_template_columns": null,
            "grid_template_rows": null,
            "height": null,
            "justify_content": null,
            "justify_items": null,
            "left": null,
            "margin": null,
            "max_height": null,
            "max_width": null,
            "min_height": null,
            "min_width": null,
            "object_fit": null,
            "object_position": null,
            "order": null,
            "overflow": null,
            "overflow_x": null,
            "overflow_y": null,
            "padding": null,
            "right": null,
            "top": null,
            "visibility": null,
            "width": null
          }
        },
        "375bce5137a5465fba571d94eb1c24ef": {
          "model_module": "@jupyter-widgets/controls",
          "model_name": "ProgressStyleModel",
          "model_module_version": "1.5.0",
          "state": {
            "_model_module": "@jupyter-widgets/controls",
            "_model_module_version": "1.5.0",
            "_model_name": "ProgressStyleModel",
            "_view_count": null,
            "_view_module": "@jupyter-widgets/base",
            "_view_module_version": "1.2.0",
            "_view_name": "StyleView",
            "bar_color": null,
            "description_width": ""
          }
        },
        "5b49a97a4eac49f0b99d5640fbb20075": {
          "model_module": "@jupyter-widgets/base",
          "model_name": "LayoutModel",
          "model_module_version": "1.2.0",
          "state": {
            "_model_module": "@jupyter-widgets/base",
            "_model_module_version": "1.2.0",
            "_model_name": "LayoutModel",
            "_view_count": null,
            "_view_module": "@jupyter-widgets/base",
            "_view_module_version": "1.2.0",
            "_view_name": "LayoutView",
            "align_content": null,
            "align_items": null,
            "align_self": null,
            "border": null,
            "bottom": null,
            "display": null,
            "flex": null,
            "flex_flow": null,
            "grid_area": null,
            "grid_auto_columns": null,
            "grid_auto_flow": null,
            "grid_auto_rows": null,
            "grid_column": null,
            "grid_gap": null,
            "grid_row": null,
            "grid_template_areas": null,
            "grid_template_columns": null,
            "grid_template_rows": null,
            "height": null,
            "justify_content": null,
            "justify_items": null,
            "left": null,
            "margin": null,
            "max_height": null,
            "max_width": null,
            "min_height": null,
            "min_width": null,
            "object_fit": null,
            "object_position": null,
            "order": null,
            "overflow": null,
            "overflow_x": null,
            "overflow_y": null,
            "padding": null,
            "right": null,
            "top": null,
            "visibility": null,
            "width": null
          }
        },
        "cbfd0c1104a243cf811c1a7d7fe451dc": {
          "model_module": "@jupyter-widgets/controls",
          "model_name": "DescriptionStyleModel",
          "model_module_version": "1.5.0",
          "state": {
            "_model_module": "@jupyter-widgets/controls",
            "_model_module_version": "1.5.0",
            "_model_name": "DescriptionStyleModel",
            "_view_count": null,
            "_view_module": "@jupyter-widgets/base",
            "_view_module_version": "1.2.0",
            "_view_name": "StyleView",
            "description_width": ""
          }
        }
      }
    }
  },
  "cells": [
    {
      "cell_type": "markdown",
      "metadata": {
        "id": "view-in-github",
        "colab_type": "text"
      },
      "source": [
        "<a href=\"https://colab.research.google.com/github/IKAR42/SberDS_Study/blob/main/HW_NN_1.ipynb\" target=\"_parent\"><img src=\"https://colab.research.google.com/assets/colab-badge.svg\" alt=\"Open In Colab\"/></a>"
      ]
    },
    {
      "cell_type": "code",
      "source": [
        "from google.colab import drive\n",
        "drive.mount('/content/drive')"
      ],
      "metadata": {
        "colab": {
          "base_uri": "https://localhost:8080/"
        },
        "id": "ymkLrpd3v_rs",
        "outputId": "7402e076-0ebe-4d60-fa84-520867610728"
      },
      "execution_count": null,
      "outputs": [
        {
          "output_type": "stream",
          "name": "stdout",
          "text": [
            "Mounted at /content/drive\n"
          ]
        }
      ]
    },
    {
      "cell_type": "markdown",
      "source": [
        "По возможности на одной из ближайших лекций или на QA подсветите, пожалуйста :\n",
        "1. Правильно понимаю, что при подготовке дата сета нет разбивки на x и y как в классическом ml ? есть только train и test ?\n",
        "2. Чем отличается разметка данных для НН в отличие от классического ml?\n"
      ],
      "metadata": {
        "id": "dzcfvHci4dMp"
      }
    },
    {
      "cell_type": "markdown",
      "source": [
        "Загружаем библиотеки"
      ],
      "metadata": {
        "id": "MWtL_4xQ07qM"
      }
    },
    {
      "cell_type": "code",
      "source": [
        "import torch\n",
        "import torch.nn as nn\n",
        "import torchvision.datasets as dsets\n",
        "import torchvision.transforms as transforms\n",
        "from torch.autograd import Variable\n",
        "\n",
        "from tqdm.notebook import tqdm\n",
        "import matplotlib.pyplot as plt"
      ],
      "metadata": {
        "id": "XAfL-OR90lv7"
      },
      "execution_count": null,
      "outputs": []
    },
    {
      "cell_type": "markdown",
      "source": [],
      "metadata": {
        "id": "Thu7GwgM1FzM"
      }
    },
    {
      "cell_type": "code",
      "source": [
        "input_size = 784       # Размеры изображения = 28 x 28 = 784\n",
        "hidden_size = 500      # Количество узлов на скрытом слое\n",
        "num_classes = 10       # Число классов на выходе. В этом случае от 0 до 9\n",
        "num_epochs = 10        # Количество тренировок всего набора данных\n",
        "batch_size = 32       # Размер входных данных для одной итерации\n",
        "learning_rate = 0.0001  # Скорость обучения"
      ],
      "metadata": {
        "id": "v4TKDVeQ0l1n"
      },
      "execution_count": null,
      "outputs": []
    },
    {
      "cell_type": "markdown",
      "source": [
        "Загружаем Dataset MNIST"
      ],
      "metadata": {
        "id": "3qEXlzz61O2a"
      }
    },
    {
      "cell_type": "code",
      "source": [
        "train_dataset = dsets.MNIST(\n",
        "    root='./data',\n",
        "    train=True,\n",
        "    transform=transforms.ToTensor(),\n",
        "    download=True\n",
        ")\n",
        " \n",
        "test_dataset = dsets.MNIST(\n",
        "    root='./data',\n",
        "    train=False,\n",
        "    transform=transforms.ToTensor()\n",
        ")"
      ],
      "metadata": {
        "id": "iQcVRVf20l4A"
      },
      "execution_count": null,
      "outputs": []
    },
    {
      "cell_type": "markdown",
      "source": [
        "Загруженный датасет загружаем в код питона"
      ],
      "metadata": {
        "id": "Pu8K-VKh1bJu"
      }
    },
    {
      "cell_type": "code",
      "source": [
        "train_loader = torch.utils.data.DataLoader(\n",
        "    dataset=train_dataset,\n",
        "    batch_size=batch_size,\n",
        "    shuffle=True\n",
        ")\n",
        " \n",
        "test_loader = torch.utils.data.DataLoader(\n",
        "    dataset=test_dataset,\n",
        "    batch_size=batch_size,\n",
        "    shuffle=False\n",
        ")"
      ],
      "metadata": {
        "id": "GdD1dWQZ0l6g"
      },
      "execution_count": null,
      "outputs": []
    },
    {
      "cell_type": "markdown",
      "source": [
        "Создаем структуру модели"
      ],
      "metadata": {
        "id": "v3dacNT_1x9_"
      }
    },
    {
      "cell_type": "code",
      "source": [
        "class Net(nn.Module):\n",
        "    def __init__(self, input_size, hidden_size, num_classes):\n",
        "        super(Net, self).__init__()                    # Наследуемый родительским классом nn.Module\n",
        "        self.fc1 = nn.Linear(input_size, hidden_size)  # 1й связанный слой: 784 (данные входа) -> 500 (скрытый узел)\n",
        "        self.relu = nn.ReLU()                          # Нелинейный слой ReLU max(0,x)\n",
        "        self.fc2 = nn.Linear(hidden_size, num_classes) # 2й связанный слой: 500 (скрытый узел) -> 10 (класс вывода)\n",
        "    \n",
        "    def forward(self, x):                              # Передний пропуск: складывание каждого слоя вместе\n",
        "        out = self.fc1(x)\n",
        "        out = self.relu(out)\n",
        "        out = self.fc2(out)\n",
        "        return out"
      ],
      "metadata": {
        "id": "d0X-8__l0l9T"
      },
      "execution_count": null,
      "outputs": []
    },
    {
      "cell_type": "code",
      "source": [
        "net = Net(input_size, hidden_size, num_classes)\n",
        "net"
      ],
      "metadata": {
        "colab": {
          "base_uri": "https://localhost:8080/"
        },
        "id": "e7G5sYpM10Ox",
        "outputId": "ecb9dac0-4a3d-49a9-bd0a-7724607dd462"
      },
      "execution_count": null,
      "outputs": [
        {
          "output_type": "execute_result",
          "data": {
            "text/plain": [
              "Net(\n",
              "  (fc1): Linear(in_features=784, out_features=500, bias=True)\n",
              "  (relu): ReLU()\n",
              "  (fc2): Linear(in_features=500, out_features=10, bias=True)\n",
              ")"
            ]
          },
          "metadata": {},
          "execution_count": 36
        }
      ]
    },
    {
      "cell_type": "markdown",
      "source": [
        "Выбор функции потерь и оптимизатора"
      ],
      "metadata": {
        "id": "vNxDOqhJ2cJS"
      }
    },
    {
      "cell_type": "code",
      "source": [
        "criterion = nn.CrossEntropyLoss()\n",
        "optimizer = torch.optim.Adam(net.parameters(), lr=learning_rate)"
      ],
      "metadata": {
        "id": "ofItLGaZ2by4"
      },
      "execution_count": null,
      "outputs": []
    },
    {
      "cell_type": "markdown",
      "source": [
        "Тренируем сеть"
      ],
      "metadata": {
        "id": "IQGrVzmg26Uj"
      }
    },
    {
      "cell_type": "code",
      "source": [
        "def train_one_epoch(model, loader):\n",
        "    for i, (images, labels) in enumerate(loader):   # Загрузка партии изображений с индексом, данными, классом\n",
        "        images = Variable(images.view(-1, 28*28))         # Конвертация тензора в переменную: изменяем изображение с вектора, размером 784 на матрицу 28 x 28\n",
        "        labels = Variable(labels)\n",
        "        \n",
        "        optimizer.zero_grad()                             # Инициализация скрытых масс до нулей\n",
        "        outputs = model(images)                             # Передний пропуск: определение выходного класса, данного изображения\n",
        "        loss = criterion(outputs, labels)                 # Определение потерь: разница между выходным классом и предварительно заданной меткой\n",
        "        loss.backward()                                   # Обратный проход: определение параметра weight\n",
        "        optimizer.step()"
      ],
      "metadata": {
        "id": "IzgxsLkVRZd7"
      },
      "execution_count": null,
      "outputs": []
    },
    {
      "cell_type": "code",
      "source": [
        "def evaluate(model, loader):\n",
        "    correct = 0\n",
        "    total = 0\n",
        "    for images, labels in loader:\n",
        "        images = Variable(images.view(-1, 28*28))\n",
        "        outputs = model(images)\n",
        "        _, predicted = torch.max(outputs.data, 1)  # Выбор лучшего класса из выходных данных: класс с лучшим счетом\n",
        "        total += labels.size(0)                    # Увеличиваем суммарный счет\n",
        "        correct += (predicted == labels).sum()     # Увеличиваем корректный счет\n",
        "    return 100 * correct / total"
      ],
      "metadata": {
        "id": "7ouWn9PRRt8b"
      },
      "execution_count": null,
      "outputs": []
    },
    {
      "cell_type": "code",
      "source": [
        "train_accuracies = []\n",
        "test_accuracies = []\n",
        "for epoch in tqdm(range(num_epochs)):\n",
        "    test_accuracies.append(evaluate(net, test_loader).item())\n",
        "    train_accuracies.append(evaluate(net, train_loader).item())\n",
        "    train_one_epoch(net, train_loader)"
      ],
      "metadata": {
        "colab": {
          "base_uri": "https://localhost:8080/",
          "height": 49,
          "referenced_widgets": [
            "14e0ee4c6aed4d2eb3f40e34e3f859b5",
            "fc22aa796afe4d86bd153b6bcb74967e",
            "24809322eac448f7bb89c9d9cc64a830",
            "52c178a541f44571b6261d008cba2a4b",
            "ddf4f60bd5ae4340ae075359b8efb9af",
            "5b86424ee060408f8d137bcbc172ee06",
            "4cb446ed2e7f410881a735456106d5fa",
            "64ddddf25eef477587448f3b27038f93",
            "375bce5137a5465fba571d94eb1c24ef",
            "5b49a97a4eac49f0b99d5640fbb20075",
            "cbfd0c1104a243cf811c1a7d7fe451dc"
          ]
        },
        "id": "95y3sHAlSAld",
        "outputId": "db331242-3182-4634-874a-c65481a406a5"
      },
      "execution_count": null,
      "outputs": [
        {
          "output_type": "display_data",
          "data": {
            "text/plain": [
              "  0%|          | 0/10 [00:00<?, ?it/s]"
            ],
            "application/vnd.jupyter.widget-view+json": {
              "version_major": 2,
              "version_minor": 0,
              "model_id": "14e0ee4c6aed4d2eb3f40e34e3f859b5"
            }
          },
          "metadata": {}
        }
      ]
    },
    {
      "cell_type": "code",
      "source": [
        "plt.plot(range(len(train_accuracies)), train_accuracies)\n",
        "plt.plot(range(len(test_accuracies)), test_accuracies)\n",
        "plt.show()"
      ],
      "metadata": {
        "colab": {
          "base_uri": "https://localhost:8080/",
          "height": 265
        },
        "id": "H28eC_T0UT6_",
        "outputId": "ae90c901-ebfe-4f71-ca89-4de69728e12d"
      },
      "execution_count": null,
      "outputs": [
        {
          "output_type": "display_data",
          "data": {
            "text/plain": [
              "<Figure size 432x288 with 1 Axes>"
            ],
            "image/png": "[encoded data removed]"
          },
          "metadata": {
            "needs_background": "light"
          }
        }
      ]
    },
    {
      "cell_type": "markdown",
      "source": [
        "Сохраняем модель (веса)"
      ],
      "metadata": {
        "id": "jCFNAOhUeJxa"
      }
    },
    {
      "cell_type": "code",
      "source": [
        "torch.save(net.state_dict(), 'fnn_model.pkl')"
      ],
      "metadata": {
        "id": "TGB8f0H24MR9"
      },
      "execution_count": null,
      "outputs": []
    },
    {
      "cell_type": "markdown",
      "source": [
        "Проверяем качество работы модели на открытых данных из интернета"
      ],
      "metadata": {
        "id": "te7LeATPeMkO"
      }
    },
    {
      "cell_type": "code",
      "source": [
        "!wget https://www.kindpng.com/picc/m/366-3660528_9-handwritten-5-clip-arts-0-9-handwritten.png"
      ],
      "metadata": {
        "colab": {
          "base_uri": "https://localhost:8080/"
        },
        "id": "S820ygIJXzXw",
        "outputId": "6bef39cc-ae2b-4f20-8c86-58a5a70442af"
      },
      "execution_count": null,
      "outputs": [
        {
          "output_type": "stream",
          "name": "stdout",
          "text": [
            "--2023-02-21 14:29:09--  https://www.kindpng.com/picc/m/366-3660528_9-handwritten-5-clip-arts-0-9-handwritten.png\n",
            "Resolving www.kindpng.com (www.kindpng.com)... 192.187.103.12\n",
            "Connecting to www.kindpng.com (www.kindpng.com)|192.187.103.12|:443... connected.\n",
            "HTTP request sent, awaiting response... 200 OK\n",
            "Length: 46642 (46K) [image/png]\n",
            "Saving to: ‘366-3660528_9-handwritten-5-clip-arts-0-9-handwritten.png’\n",
            "\n",
            "366-3660528_9-handw 100%[===================>]  45.55K   205KB/s    in 0.2s    \n",
            "\n",
            "2023-02-21 14:29:10 (205 KB/s) - ‘366-3660528_9-handwritten-5-clip-arts-0-9-handwritten.png’ saved [46642/46642]\n",
            "\n"
          ]
        }
      ]
    },
    {
      "cell_type": "code",
      "source": [
        "!ls"
      ],
      "metadata": {
        "colab": {
          "base_uri": "https://localhost:8080/"
        },
        "id": "Py2SbE6TX1hf",
        "outputId": "73b4093c-6726-4a68-a5ee-e199fb973aee"
      },
      "execution_count": null,
      "outputs": [
        {
          "output_type": "stream",
          "name": "stdout",
          "text": [
            "366-3660528_9-handwritten-5-clip-arts-0-9-handwritten.png\n",
            "data\n",
            "drive\n",
            "fnn_model.pkl\n",
            "png-clipart-handwriting-letter-others-miscellaneous-text.png\n",
            "sample_data\n"
          ]
        }
      ]
    },
    {
      "cell_type": "code",
      "source": [
        "# from google.colab import files\n",
        "from PIL import Image"
      ],
      "metadata": {
        "id": "3B1ZC_u571kn"
      },
      "execution_count": null,
      "outputs": []
    },
    {
      "cell_type": "code",
      "source": [
        "# from io import BytesIO\n",
        "# uploaded = files.upload()\n",
        "# im = Image.open(BytesIO(uploaded['unnamed - 6.png']))"
      ],
      "metadata": {
        "id": "Z4kBOrMY6npv"
      },
      "execution_count": null,
      "outputs": []
    },
    {
      "cell_type": "code",
      "source": [
        "img = Image.open(\"366-3660528_9-handwritten-5-clip-arts-0-9-handwritten.png\")"
      ],
      "metadata": {
        "id": "-WTlNlpxX9Kx"
      },
      "execution_count": null,
      "outputs": []
    },
    {
      "cell_type": "code",
      "source": [
        "img"
      ],
      "metadata": {
        "colab": {
          "base_uri": "https://localhost:8080/",
          "height": 1000
        },
        "id": "UqLkfxEx--MJ",
        "outputId": "81cb1c49-2967-42c6-9d37-a56ea8b7a6ed"
      },
      "execution_count": null,
      "outputs": [
        {
          "output_type": "execute_result",
          "data": {
            "text/plain": [
              "<PIL.PngImagePlugin.PngImageFile image mode=RGBA size=860x1229 at 0x7FEA18F83370>"
            ],
            "image/png": "[encoded data removed]"
          },
          "metadata": {},
          "execution_count": 65
        }
      ]
    },
    {
      "cell_type": "markdown",
      "source": [
        "Проверяю размерности данных на которых обучалась модель и то как скормить данные, чтобы получить предикт"
      ],
      "metadata": {
        "id": "Yjv11HsZeaqb"
      }
    },
    {
      "cell_type": "code",
      "source": [
        "x, y = next(iter(train_loader))"
      ],
      "metadata": {
        "id": "svaHehUzYECJ"
      },
      "execution_count": null,
      "outputs": []
    },
    {
      "cell_type": "code",
      "source": [
        "x.view(-1, 28*28).shape"
      ],
      "metadata": {
        "colab": {
          "base_uri": "https://localhost:8080/"
        },
        "id": "wN34I5xXYZCg",
        "outputId": "a5182e86-e28d-45c1-f5e1-b572624d964d"
      },
      "execution_count": null,
      "outputs": [
        {
          "output_type": "execute_result",
          "data": {
            "text/plain": [
              "torch.Size([1, 784])"
            ]
          },
          "metadata": {},
          "execution_count": 71
        }
      ]
    },
    {
      "cell_type": "code",
      "source": [
        "net(x.view(-1, 28*28)).argmax(axis=1)"
      ],
      "metadata": {
        "colab": {
          "base_uri": "https://localhost:8080/"
        },
        "id": "NS2rP6VEYZta",
        "outputId": "7593b972-4a96-4615-a5eb-7358dc8a6289"
      },
      "execution_count": null,
      "outputs": [
        {
          "output_type": "execute_result",
          "data": {
            "text/plain": [
              "tensor([2, 3, 1, 0, 7, 9, 7, 1, 0, 1, 7, 4, 6, 0, 8, 9, 9, 4, 7, 0, 7, 9, 1, 6,\n",
              "        0, 0, 2, 7, 3, 8, 7, 9])"
            ]
          },
          "metadata": {},
          "execution_count": 74
        }
      ]
    },
    {
      "cell_type": "code",
      "source": [
        "net(x[0].view(-1, 28*28)).argmax(axis=1)"
      ],
      "metadata": {
        "colab": {
          "base_uri": "https://localhost:8080/"
        },
        "id": "03TjeC5SYbZ6",
        "outputId": "1942f82d-3962-4027-8c9f-e14c60d51f2f"
      },
      "execution_count": null,
      "outputs": [
        {
          "output_type": "execute_result",
          "data": {
            "text/plain": [
              "tensor([2])"
            ]
          },
          "metadata": {},
          "execution_count": 75
        }
      ]
    },
    {
      "cell_type": "markdown",
      "source": [
        "Свою новую картинку перевожу в чб, делаю ресайз и скармливаю модели"
      ],
      "metadata": {
        "id": "CWpHy10teiyy"
      }
    },
    {
      "cell_type": "code",
      "source": [
        "img_tens = transforms.ToTensor()(img.convert('L').resize((28, 28)))"
      ],
      "metadata": {
        "id": "j3S8cAeGY0r1"
      },
      "execution_count": null,
      "outputs": []
    },
    {
      "cell_type": "code",
      "source": [
        "net(img_tens.view(-1, 28*28)).argmax(axis=1).item()"
      ],
      "metadata": {
        "colab": {
          "base_uri": "https://localhost:8080/"
        },
        "id": "aY07XJx3ZDC0",
        "outputId": "604b5acf-00c2-4ac8-ac27-8b4167795ecf"
      },
      "execution_count": null,
      "outputs": [
        {
          "output_type": "execute_result",
          "data": {
            "text/plain": [
              "tensor([5])"
            ]
          },
          "metadata": {},
          "execution_count": 91
        }
      ]
    },
    {
      "cell_type": "markdown",
      "source": [
        "Модель по итогу ошиблась. Это могу связать с тем, что данные на обучении были однородны и взятый пример сильно отличается от трейн выборки"
      ],
      "metadata": {
        "id": "X1HoMqv6eoj_"
      }
    },
    {
      "cell_type": "code",
      "source": [],
      "metadata": {
        "id": "3RSQVMydZ2YR"
      },
      "execution_count": null,
      "outputs": []
    }
  ]
}
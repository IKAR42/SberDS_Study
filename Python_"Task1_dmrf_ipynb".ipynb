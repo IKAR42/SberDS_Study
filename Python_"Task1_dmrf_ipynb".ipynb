{
  "cells": [
    {
      "cell_type": "markdown",
      "metadata": {
        "id": "view-in-github",
        "colab_type": "text"
      },
      "source": [
        "<a href=\"https://colab.research.google.com/github/IKAR42/SberDS_Study/blob/main/Python_%22Task1_dmrf_ipynb%22.ipynb\" target=\"_parent\"><img src=\"https://colab.research.google.com/assets/colab-badge.svg\" alt=\"Open In Colab\"/></a>"
      ]
    },
    {
      "cell_type": "markdown",
      "source": [
        "[![Open In Colab](https://colab.research.google.com/assets/colab-badge.svg)](https://colab.research.google.com/github/ds-reboot/python-first-part/blob/main/notebooks/hometasks/Task1_dmrf.ipynb)"
      ],
      "metadata": {
        "collapsed": false,
        "pycharm": {
          "name": "#%% md\n"
        },
        "id": "39PDmDHsuFyf"
      }
    },
    {
      "cell_type": "markdown",
      "source": [
        "# Задание\n",
        "* Собрать информацию о всех строящихся объектах на сайте \"наш.дом.рф\"\n",
        "* Cохранить ее в pandas dataframe\n",
        "* Cохранить pandas dataframe в excel\n",
        "* Cохранить pandas dataframe в pickle\n",
        "* Cохранить pandas dataframe в БД\n",
        "\n",
        "# Задание *\n",
        "* Написать скрипт, который скачивает фотографии всех строящихся объектов с сайта \"наш.дом.рф\"\n"
      ],
      "metadata": {
        "collapsed": false,
        "pycharm": {
          "name": "#%% md\n"
        },
        "id": "J678s18XuFym"
      }
    },
    {
      "cell_type": "code",
      "execution_count": 1,
      "outputs": [],
      "source": [
        "# Импортируем библиотеки\n",
        "import requests\n",
        "from collections import defaultdict\n",
        "import pandas as pd\n",
        "from tqdm.auto import tqdm"
      ],
      "metadata": {
        "pycharm": {
          "name": "#%%\n"
        },
        "id": "OpC93789uFyo"
      }
    },
    {
      "cell_type": "code",
      "source": [
        "# Даем доступ коллабу к Google диску для сохранения файлов в нужных форматах\n",
        "from google.colab import drive\n",
        "drive.mount('/content/drive')"
      ],
      "metadata": {
        "colab": {
          "base_uri": "https://localhost:8080/"
        },
        "id": "ThqhFuUi7Vh_",
        "outputId": "a4d592fc-ac9e-440d-8d4e-1027cf647cf9"
      },
      "execution_count": 17,
      "outputs": [
        {
          "output_type": "stream",
          "name": "stdout",
          "text": [
            "Mounted at /content/drive\n"
          ]
        }
      ]
    },
    {
      "cell_type": "markdown",
      "source": [
        "## Список объектов"
      ],
      "metadata": {
        "collapsed": false,
        "pycharm": {
          "name": "#%% md\n"
        },
        "id": "4P5mlk4muFyr"
      }
    },
    {
      "cell_type": "code",
      "execution_count": 4,
      "outputs": [
        {
          "output_type": "execute_result",
          "data": {
            "text/plain": [
              "{'hobjId': 39024,\n",
              " 'objId': 13383,\n",
              " 'developer': {'devId': 306,\n",
              "  'shortName': '2МЕН ГРУПП',\n",
              "  'fullName': '2МЕН ГРУПП',\n",
              "  'groupName': '2МЕН ГРУПП ДЕВЕЛОПМЕНТ',\n",
              "  'orgForm': {'id': 1, 'fullForm': 'Акционерное общество', 'shortForm': 'АО'},\n",
              "  'companyGroup': 5776,\n",
              "  'devInn': '7701651356'},\n",
              " 'rpdRegionCd': 72,\n",
              " 'objAddr': 'г Тюмень',\n",
              " 'objFloorMin': 4,\n",
              " 'objFloorMax': 20,\n",
              " 'objElemLivingCnt': 68,\n",
              " 'objReady100PercDt': '2022-12-31',\n",
              " 'objSquareLiving': 6296.55,\n",
              " 'objCompensFundFlg': 1,\n",
              " 'objProblemFlg': 0,\n",
              " 'latitude': 57.1519,\n",
              " 'longitude': 65.5536,\n",
              " 'problemFlag': 'NONE',\n",
              " 'siteStatus': 'Строящиеся',\n",
              " 'objGuarantyEscrowFlg': 0,\n",
              " 'residentialBuildings': 1,\n",
              " 'rpdNum': '72-000095',\n",
              " 'pdId': 28105,\n",
              " 'buildType': 'Жилое',\n",
              " 'objStatus': 0}"
            ]
          },
          "metadata": {},
          "execution_count": 4
        }
      ],
      "source": [
        "# Для скачивания данных по\n",
        "\n",
        "offset_ = 1\n",
        "limit_ = 5000\n",
        "url = f'https://xn--80az8a.xn--d1aqf.xn--p1ai/%D1%81%D0%B5%D1%80%D0%B2%D0%B8%D1%81%D1%8B/api/kn/object?offset={offset_}&limit={limit_}&sortField=devId.devShortCleanNm&sortType=asc&objStatus=0'\n",
        "res = requests.get(url)\n",
        "objects_data = res.json()\n",
        "objects_data.get('data').get('list')[0]"
      ],
      "metadata": {
        "pycharm": {
          "name": "#%%\n"
        },
        "id": "p_LEtoTMuFyr",
        "outputId": "6d6ecd41-73ae-4603-c3c8-bfde38bb75bd",
        "colab": {
          "base_uri": "https://localhost:8080/"
        }
      }
    },
    {
      "cell_type": "code",
      "source": [
        "type(objects_data)"
      ],
      "metadata": {
        "id": "GIZBtGMtwT3X",
        "outputId": "5ae74acc-2311-4469-cf73-9be13ab1bbe1",
        "colab": {
          "base_uri": "https://localhost:8080/"
        }
      },
      "execution_count": 5,
      "outputs": [
        {
          "output_type": "execute_result",
          "data": {
            "text/plain": [
              "dict"
            ]
          },
          "metadata": {},
          "execution_count": 5
        }
      ]
    },
    {
      "cell_type": "code",
      "execution_count": 6,
      "outputs": [
        {
          "output_type": "execute_result",
          "data": {
            "text/plain": [
              "[13383, 13398, 13397, 13399, 36912, 10891, 8809, 8810, 39176, 39175]"
            ]
          },
          "metadata": {},
          "execution_count": 6
        }
      ],
      "source": [
        "objects_list = objects_data.get('data').get('list')\n",
        "obj_ids = [x.get('objId') for x in objects_list]\n",
        "obj_ids[:10]"
      ],
      "metadata": {
        "pycharm": {
          "name": "#%%\n"
        },
        "id": "LGVEIvbwuFys",
        "outputId": "b90a86f7-faa6-4894-e934-c6c0451dbfbe",
        "colab": {
          "base_uri": "https://localhost:8080/"
        }
      }
    },
    {
      "cell_type": "code",
      "source": [
        "# Проверяем количество собранных id по обьектам\n",
        "len(obj_ids)"
      ],
      "metadata": {
        "id": "Hr-n0PxQuZYe",
        "outputId": "64c16fe5-db65-476a-b2c2-0bc03ac020bc",
        "colab": {
          "base_uri": "https://localhost:8080/"
        }
      },
      "execution_count": 7,
      "outputs": [
        {
          "output_type": "execute_result",
          "data": {
            "text/plain": [
              "5000"
            ]
          },
          "metadata": {},
          "execution_count": 7
        }
      ]
    },
    {
      "cell_type": "markdown",
      "source": [
        "# Данные по определенному объекту"
      ],
      "metadata": {
        "collapsed": false,
        "pycharm": {
          "name": "#%% md\n"
        },
        "id": "g7L23LH2uFyt"
      }
    },
    {
      "cell_type": "code",
      "execution_count": 11,
      "outputs": [],
      "source": [
        "# Скачивание данных по определенному объекту\n",
        "one_object = 13383\n",
        "url = f'https://xn--80az8a.xn--d1aqf.xn--p1ai/%D1%81%D0%B5%D1%80%D0%B2%D0%B8%D1%81%D1%8B/api/object/{one_object}'\n",
        "res = requests.get(url)\n",
        "one_object = res.json()\n",
        "one_object_1 = one_object.get('data')"
      ],
      "metadata": {
        "pycharm": {
          "name": "#%%\n"
        },
        "id": "WiS-hO6NuFyu"
      }
    },
    {
      "cell_type": "code",
      "source": [
        "# Проверяем данные по конкретному обьекту, при этом обращаемся к data, чтобы миновать ключ ercode \n",
        "one_object_1"
      ],
      "metadata": {
        "id": "haMqKLNbviSo",
        "outputId": "a531b2f6-73a7-400e-ac95-7b754d68f316",
        "colab": {
          "base_uri": "https://localhost:8080/"
        }
      },
      "execution_count": 12,
      "outputs": [
        {
          "output_type": "execute_result",
          "data": {
            "text/plain": [
              "{'id': 13383,\n",
              " 'hobjId': 39024,\n",
              " 'pdId': 28105,\n",
              " 'developer': {'devId': 306,\n",
              "  'devShortCleanNm': '2МЕН ГРУПП',\n",
              "  'devShortNm': '2МЕН ГРУПП',\n",
              "  'devFullCleanNm': '2МЕН ГРУПП',\n",
              "  'problObjCnt': 0,\n",
              "  'buildObjCnt': 5,\n",
              "  'comissObjCnt': 0,\n",
              "  'regRegionDesc': 'Тюменская область',\n",
              "  'devPhoneNum': '+7(345)279-18-88',\n",
              "  'devSite': '2mengroup.ru',\n",
              "  'devEmail': 'info@2mengroup.ru',\n",
              "  'devInn': '7701651356',\n",
              "  'devOgrn': '1067746424899',\n",
              "  'devKpp': '720301001',\n",
              "  'devLegalAddr': 'Тюменская область, город Тюмень, улица Комсомольская дом 75/5',\n",
              "  'devFactAddr': 'Тюменская область, город Тюмень, улица Комсомольская 75/5',\n",
              "  'lastRpdId': 667500,\n",
              "  'fundGuarantyFlg': 1,\n",
              "  'devOrgRegRegionCd': 72,\n",
              "  'devEmplMainFullNm': 'Киселев Сергей Михайлович',\n",
              "  'developerGroupName': '2МЕН ГРУПП ДЕВЕЛОПМЕНТ',\n",
              "  'orgForm': {'id': 1, 'fullForm': 'Акционерное общество', 'shortForm': 'АО'},\n",
              "  'companyGroupId': 5776,\n",
              "  'objGuarantyEscrowFlg': 0,\n",
              "  'govFundFlg': 0},\n",
              " 'region': 72,\n",
              " 'address': 'г Тюмень',\n",
              " 'floorMin': 4,\n",
              " 'floorMax': 20,\n",
              " 'objElemLivingCnt': 68,\n",
              " 'objReady100PercDt': '2022-12-31',\n",
              " 'wallMaterialShortDesc': 'Другое',\n",
              " 'objLkFinishTypeDesc': 'По желанию заказчика',\n",
              " 'objLkFreePlanDesc': 'Есть',\n",
              " 'objElemParkingCnt': 31,\n",
              " 'objSquareLiving': 6296.55,\n",
              " 'rpdNum': '72-000095',\n",
              " 'rpdPdfLink': 'https://xn--80az8a.xn--d1aqf.xn--p1ai/api/ext/file/52368911-c020-446c-acaf-1e4028460a64',\n",
              " 'rpdIssueDttm': '09-12-2022 15:05',\n",
              " 'objLkLatitude': '57.1519',\n",
              " 'objLkLongitude': '65.5536',\n",
              " 'objCompensFundFlg': 1,\n",
              " 'objProblemFlg': 0,\n",
              " 'objLkClassDesc': 'Элитный',\n",
              " 'loadDttm': '14-12-2022 01:24',\n",
              " 'photoRenderDTO': [{'objId': 13383,\n",
              "   'pdId': 28105,\n",
              "   'rpdId': 667480,\n",
              "   'devId': 306,\n",
              "   'ordNum': 1,\n",
              "   'objRenderPhotoSize': 1433738,\n",
              "   'objRenderPhotoUrl': 'https://xn--80az8a.xn--d1aqf.xn--p1ai/api/ext/file/7c1ce108-aa51-45c2-acfa-3091f6bf7e54',\n",
              "   'objRenderPhotoDttm': '12-05-2021 16:56',\n",
              "   'objRenderPhotoHiddenFlg': 0,\n",
              "   'objRenderPhotoNm': 'IMG_20210512_093657.jpg',\n",
              "   'objReadyDesc': 'Строится',\n",
              "   'objBuildTypeShortDesc': 'Жилое',\n",
              "   'knFlg': 1,\n",
              "   'loadDttm': '14-12-2022 01:07'},\n",
              "  {'objId': 13383,\n",
              "   'pdId': 28105,\n",
              "   'rpdId': 667480,\n",
              "   'devId': 306,\n",
              "   'ordNum': 2,\n",
              "   'objRenderPhotoSize': 1304772,\n",
              "   'objRenderPhotoUrl': 'https://xn--80az8a.xn--d1aqf.xn--p1ai/api/ext/file/cf350104-3afa-40e8-86e1-212da5c99a9a',\n",
              "   'objRenderPhotoDttm': '12-05-2021 16:56',\n",
              "   'objRenderPhotoHiddenFlg': 0,\n",
              "   'objRenderPhotoNm': 'IMG_20210512_0937271.jpg',\n",
              "   'objReadyDesc': 'Строится',\n",
              "   'objBuildTypeShortDesc': 'Жилое',\n",
              "   'knFlg': 1,\n",
              "   'loadDttm': '14-12-2022 01:07'},\n",
              "  {'objId': 13383,\n",
              "   'pdId': 28105,\n",
              "   'rpdId': 667480,\n",
              "   'devId': 306,\n",
              "   'ordNum': 3,\n",
              "   'objRenderPhotoSize': 1351679,\n",
              "   'objRenderPhotoUrl': 'https://xn--80az8a.xn--d1aqf.xn--p1ai/api/ext/file/80422003-fc35-43f2-9174-de241b92bf1d',\n",
              "   'objRenderPhotoDttm': '12-05-2021 16:56',\n",
              "   'objRenderPhotoHiddenFlg': 0,\n",
              "   'objRenderPhotoNm': 'IMG_20210512_0938052.jpg',\n",
              "   'objReadyDesc': 'Строится',\n",
              "   'objBuildTypeShortDesc': 'Жилое',\n",
              "   'knFlg': 1,\n",
              "   'loadDttm': '14-12-2022 01:07'},\n",
              "  {'objId': 13383,\n",
              "   'pdId': 28105,\n",
              "   'rpdId': 667480,\n",
              "   'devId': 306,\n",
              "   'ordNum': 4,\n",
              "   'objRenderPhotoSize': 1472991,\n",
              "   'objRenderPhotoUrl': 'https://xn--80az8a.xn--d1aqf.xn--p1ai/api/ext/file/f70dc8e2-776f-4405-8f6f-d410c0061adf',\n",
              "   'objRenderPhotoDttm': '12-05-2021 16:56',\n",
              "   'objRenderPhotoHiddenFlg': 0,\n",
              "   'objRenderPhotoNm': 'IMG_20210512_0938223.jpg',\n",
              "   'objReadyDesc': 'Строится',\n",
              "   'objBuildTypeShortDesc': 'Жилое',\n",
              "   'knFlg': 1,\n",
              "   'loadDttm': '14-12-2022 01:07'},\n",
              "  {'objId': 13383,\n",
              "   'pdId': 28105,\n",
              "   'rpdId': 667480,\n",
              "   'devId': 306,\n",
              "   'ordNum': 5,\n",
              "   'objRenderPhotoSize': 1063993,\n",
              "   'objRenderPhotoUrl': 'https://xn--80az8a.xn--d1aqf.xn--p1ai/api/ext/file/ffd2a110-55a5-45c0-9bc1-61e146547df8',\n",
              "   'objRenderPhotoDttm': '12-05-2021 16:56',\n",
              "   'objRenderPhotoHiddenFlg': 0,\n",
              "   'objRenderPhotoNm': 'IMG_20210512_0940044.jpg',\n",
              "   'objReadyDesc': 'Строится',\n",
              "   'objBuildTypeShortDesc': 'Жилое',\n",
              "   'knFlg': 1,\n",
              "   'loadDttm': '14-12-2022 01:07'},\n",
              "  {'objId': 13383,\n",
              "   'pdId': 28105,\n",
              "   'rpdId': 667480,\n",
              "   'devId': 306,\n",
              "   'ordNum': 6,\n",
              "   'objRenderPhotoSize': 1034002,\n",
              "   'objRenderPhotoUrl': 'https://xn--80az8a.xn--d1aqf.xn--p1ai/api/ext/file/4c2881c9-a6da-4235-8faa-2f74c5970837',\n",
              "   'objRenderPhotoDttm': '12-05-2021 16:56',\n",
              "   'objRenderPhotoHiddenFlg': 0,\n",
              "   'objRenderPhotoNm': 'IMG_20210512_0940155.jpg',\n",
              "   'objReadyDesc': 'Строится',\n",
              "   'objBuildTypeShortDesc': 'Жилое',\n",
              "   'knFlg': 1,\n",
              "   'loadDttm': '14-12-2022 01:07'},\n",
              "  {'objId': 13383,\n",
              "   'pdId': 28105,\n",
              "   'rpdId': 667480,\n",
              "   'devId': 306,\n",
              "   'ordNum': 7,\n",
              "   'objRenderPhotoSize': 1169206,\n",
              "   'objRenderPhotoUrl': 'https://xn--80az8a.xn--d1aqf.xn--p1ai/api/ext/file/3c35f14c-f16c-46cc-a9a8-c3e828a514b0',\n",
              "   'objRenderPhotoDttm': '12-05-2021 16:56',\n",
              "   'objRenderPhotoHiddenFlg': 0,\n",
              "   'objRenderPhotoNm': 'IMG_20210512_0951216.jpg',\n",
              "   'objReadyDesc': 'Строится',\n",
              "   'objBuildTypeShortDesc': 'Жилое',\n",
              "   'knFlg': 1,\n",
              "   'loadDttm': '14-12-2022 01:07'}],\n",
              " 'objGuarantyEscrowFlg': 0,\n",
              " 'objectType': 'normal',\n",
              " 'miniUrl': 'https://xn--80az8a.xn--d1aqf.xn--p1ai/api/ext/file/0dca6482-02ba-4d56-a861-7a17db04c957',\n",
              " 'residentialBuildings': 1,\n",
              " 'newBuildingId': 39024,\n",
              " 'objFloorCnt': 20,\n",
              " 'objFlatCnt': 68,\n",
              " 'objFlatSq': '6296.55',\n",
              " 'objNonlivElemCnt': 10,\n",
              " 'quartography': {'objLivElem1KCnt': 13,\n",
              "  'objLivElem2KCnt': 21,\n",
              "  'objLivElem3KCnt': 34,\n",
              "  'objLivElem4KCnt': 0,\n",
              "  'objLivElemCnt': 68,\n",
              "  'objLivElemEntrCnt': 1,\n",
              "  'objLivElemEntrFloorAvg': 6},\n",
              " 'objStatus': 0,\n",
              " 'isAvailableWantLiveHere': True,\n",
              " 'objTransferPlanDt': '28-02-2023 12:00',\n",
              " 'objLivCeilingHeight': '2,8',\n",
              " 'objInfrstrBicycleLaneFlg': 0,\n",
              " 'objInfrstrPlaygrndCnt': 1,\n",
              " 'objInfrstrSportGroundCnt': 1,\n",
              " 'objInfrstrTrashAreaCnt': 1,\n",
              " 'objInfrstrObjPrkngCnt': 0,\n",
              " 'objInfrstrNotObjPrkngCnt': 11,\n",
              " 'objInfrstrRampFlg': 1,\n",
              " 'objInfrstrCurbLoweringFlg': 1,\n",
              " 'objElevatorWheelchairCnt': 0,\n",
              " 'objElevatorPassengerCnt': 5,\n",
              " 'objElevatorCargoCnt': 1,\n",
              " 'objElevatorCargoPassengerCnt': 7,\n",
              " 'soldOutPerc': 0.406984777378088,\n",
              " 'objPriceAvg': 53109,\n",
              " 'generalContractorNm': 'ООО Транспромжилстрой-2005 (ИНН: 7204097730)',\n",
              " 'nonlivFirstFloor': 1,\n",
              " 'objectTransportInfo': [],\n",
              " 'conclusion': False,\n",
              " 'objLkSaleDepEmail': 'info@2mengroup.ru',\n",
              " 'objGreenHouseFlg': 0,\n",
              " 'objEnergyEffShortDesc': 'B',\n",
              " 'infrastructureIndexValue': 10}"
            ]
          },
          "metadata": {},
          "execution_count": 12
        }
      ]
    },
    {
      "cell_type": "code",
      "source": [
        "type(one_object_1)"
      ],
      "metadata": {
        "id": "XQRlXfcjwY-e",
        "outputId": "b5b177eb-17ee-4034-8ec4-66d95e45544f",
        "colab": {
          "base_uri": "https://localhost:8080/"
        }
      },
      "execution_count": 13,
      "outputs": [
        {
          "output_type": "execute_result",
          "data": {
            "text/plain": [
              "dict"
            ]
          },
          "metadata": {},
          "execution_count": 13
        }
      ]
    },
    {
      "cell_type": "code",
      "source": [
        "# Смотрим какие уникальные ключи есть в инфо по конкретному объекту\n",
        "one_object_1.keys()"
      ],
      "metadata": {
        "colab": {
          "base_uri": "https://localhost:8080/"
        },
        "id": "2KnJ7Q4KyLhw",
        "outputId": "ac0bacbd-ab9e-42bb-f79b-7a1625d46d5d"
      },
      "execution_count": 14,
      "outputs": [
        {
          "output_type": "execute_result",
          "data": {
            "text/plain": [
              "dict_keys(['id', 'hobjId', 'pdId', 'developer', 'region', 'address', 'floorMin', 'floorMax', 'objElemLivingCnt', 'objReady100PercDt', 'wallMaterialShortDesc', 'objLkFinishTypeDesc', 'objLkFreePlanDesc', 'objElemParkingCnt', 'objSquareLiving', 'rpdNum', 'rpdPdfLink', 'rpdIssueDttm', 'objLkLatitude', 'objLkLongitude', 'objCompensFundFlg', 'objProblemFlg', 'objLkClassDesc', 'loadDttm', 'photoRenderDTO', 'objGuarantyEscrowFlg', 'objectType', 'miniUrl', 'residentialBuildings', 'newBuildingId', 'objFloorCnt', 'objFlatCnt', 'objFlatSq', 'objNonlivElemCnt', 'quartography', 'objStatus', 'isAvailableWantLiveHere', 'objTransferPlanDt', 'objLivCeilingHeight', 'objInfrstrBicycleLaneFlg', 'objInfrstrPlaygrndCnt', 'objInfrstrSportGroundCnt', 'objInfrstrTrashAreaCnt', 'objInfrstrObjPrkngCnt', 'objInfrstrNotObjPrkngCnt', 'objInfrstrRampFlg', 'objInfrstrCurbLoweringFlg', 'objElevatorWheelchairCnt', 'objElevatorPassengerCnt', 'objElevatorCargoCnt', 'objElevatorCargoPassengerCnt', 'soldOutPerc', 'objPriceAvg', 'generalContractorNm', 'nonlivFirstFloor', 'objectTransportInfo', 'conclusion', 'objLkSaleDepEmail', 'objGreenHouseFlg', 'objEnergyEffShortDesc', 'infrastructureIndexValue'])"
            ]
          },
          "metadata": {},
          "execution_count": 14
        }
      ]
    },
    {
      "cell_type": "code",
      "source": [
        "# Создаем пустой словарь, чтобы его потом наполнить данными по объектам\n",
        "tab_dict_5 = defaultdict(list)"
      ],
      "metadata": {
        "id": "EiU-fbd0w4AX"
      },
      "execution_count": 15,
      "outputs": []
    },
    {
      "cell_type": "markdown",
      "source": [
        "# **Задание 1.1 - Собрать информацию о всех строящихся объектах на сайте \"наш.дом.рф\"**"
      ],
      "metadata": {
        "id": "wwUl1M0M2D2V"
      }
    },
    {
      "cell_type": "code",
      "execution_count": 14,
      "outputs": [
        {
          "output_type": "display_data",
          "data": {
            "text/plain": [
              "  0%|          | 0/5000 [00:00<?, ?it/s]"
            ],
            "application/vnd.jupyter.widget-view+json": {
              "version_major": 2,
              "version_minor": 0,
              "model_id": "6d2d82622ffa4b609fbafd64b9048ad5"
            }
          },
          "metadata": {}
        }
      ],
      "source": [
        "for id in tqdm(obj_ids):\n",
        "    url = f'https://xn--80az8a.xn--d1aqf.xn--p1ai/%D1%81%D0%B5%D1%80%D0%B2%D0%B8%D1%81%D1%8B/api/object/{id}'\n",
        "    res = requests.get(url)\n",
        "    one_object = res.json()\n",
        "# локация и сроки сдачи\n",
        "    tab_dict_5['id'].append(one_object.get('data').get('id'))\n",
        "    tab_dict_5['Название обьекта'].append(one_object.get('data').get('nameObj'))\n",
        "    tab_dict_5['Адрес'].append(one_object.get('data').get('address'))\n",
        "    tab_dict_5['Регион'].append(one_object.get('data').get('region'))\n",
        "    tab_dict_5['Срок сдачи'].append(one_object.get('data').get('objReady100PercDt'))\n",
        "# данные о жилых помещениях и инфраструктуре\n",
        "    tab_dict_5['Кол-во квартир'].append(one_object.get('data').get('objElemLivingCnt'))\n",
        "    tab_dict_5['Максимум этажей'].append(one_object.get('data').get('floorMax'))\n",
        "    tab_dict_5['Минимум этажей'].append(one_object.get('data').get('floorMin'))\n",
        "    tab_dict_5['Отделка'].append(one_object.get('data').get('floobjLkFinishTypeDescorMax'))\n",
        "    tab_dict_5['Грузоподъемность лифтов'].append(one_object.get('data').get('objElevatorPassengerCnt'))\n",
        "    tab_dict_5['Наличие парковки'].append(one_object.get('data').get('objElemParkingCnt'))\n",
        "    tab_dict_5['Наличие велодорожки'].append(one_object.get('data').get('objInfrstrBicycleLaneFlg'))\n",
        "    tab_dict_5['Наличие детской площадки'].append(one_object.get('data').get('objInfrstrPlaygrndCnt'))\n",
        "    tab_dict_5['Наличие спортивной площадки'].append(one_object.get('data').get('objInfrstrSportGroundCnt'))\n",
        "# данные о застройщике\n",
        "    tab_dict_5['Застройщик'].append(one_object.get('data').get('developer').get('devFullCleanNm'))\n",
        "    tab_dict_5['Email застройщика'].append(one_object.get('data').get('developer').get('devEmail'))\n",
        "    tab_dict_5['Тел. застройщика'].append(one_object.get('data').get('developer').get('devPhoneNum'))"
      ],
      "metadata": {
        "pycharm": {
          "name": "#%%\n"
        },
        "id": "OCikqkssuFyx",
        "colab": {
          "base_uri": "https://localhost:8080/",
          "height": 49,
          "referenced_widgets": [
            "6d2d82622ffa4b609fbafd64b9048ad5",
            "d58e19c6edb341149bf11649d6927e38",
            "4baa778d3024496582645e0931bac44b",
            "2fc0d3c0c43f4dd5b8eeec8f791698c3",
            "f91f95c4f3204f60ac5ff8b5af26430b",
            "21aa717a13c8479d975da3375cebd786",
            "54654fe74e014845b32f08534625eff2",
            "1ca66de7716c4b969e421a280457f6fd",
            "2e1511ad728f4312a036136956d9dc0b",
            "d48d61c177024744913b4f87f1ab3d7a",
            "282be74759ca4085bab8b2b850aff7dd"
          ]
        },
        "outputId": "974cbbbb-91fd-46ca-f98d-ba69c7e66534"
      }
    },
    {
      "cell_type": "markdown",
      "source": [
        "# **Задание 1.2 - Cохранить собранный df в pandas dataframe**"
      ],
      "metadata": {
        "id": "GqCu7LZ02Zuu"
      }
    },
    {
      "cell_type": "code",
      "source": [
        "# Создаем датафрейм с извлеченными данными\n",
        "df_1 = pd.DataFrame(tab_dict_5)\n",
        "df_1.head(5)"
      ],
      "metadata": {
        "colab": {
          "base_uri": "https://localhost:8080/",
          "height": 496
        },
        "id": "P12G9k6o1ZVK",
        "outputId": "3dfe3fee-d50d-4454-d615-d4536aff2e84"
      },
      "execution_count": 15,
      "outputs": [
        {
          "output_type": "execute_result",
          "data": {
            "text/plain": [
              "      id Название обьекта                                              Адрес  \\\n",
              "0  13383             None                                           г Тюмень   \n",
              "1  13398             None                    г Тюмень, ул Профсоюзная, д. 56   \n",
              "2  13397             None                    г Тюмень, ул Профсоюзная, д. 56   \n",
              "3  13399             None                    г Тюмень, ул Профсоюзная, д. 56   \n",
              "4  36912             None  г Ставрополь, ул Шпаковская, Доваторцев, д. 10...   \n",
              "\n",
              "   Регион  Срок сдачи  Кол-во квартир  Максимум этажей  Минимум этажей  \\\n",
              "0      72  2022-12-31              68               20               4   \n",
              "1      72  2024-12-31              43               10               7   \n",
              "2      72  2024-12-31              65               12               6   \n",
              "3      72  2024-12-31               0                1               1   \n",
              "4      26  2022-12-31             104               10               2   \n",
              "\n",
              "  Отделка  Грузоподъемность лифтов  Наличие парковки  Наличие велодорожки  \\\n",
              "0    None                      5.0                31                    0   \n",
              "1    None                      3.0                 0                    0   \n",
              "2    None                      5.0                 0                    0   \n",
              "3    None                      8.0               125                    0   \n",
              "4    None                      3.0                42                    0   \n",
              "\n",
              "   Наличие детской площадки  Наличие спортивной площадки  \\\n",
              "0                       1.0                          1.0   \n",
              "1                       1.0                          1.0   \n",
              "2                       1.0                          1.0   \n",
              "3                       0.0                          0.0   \n",
              "4                       1.0                          0.0   \n",
              "\n",
              "                                  Застройщик         Email застройщика  \\\n",
              "0                                 2МЕН ГРУПП         info@2mengroup.ru   \n",
              "1                                 2МЕН ГРУПП         info@2mengroup.ru   \n",
              "2                                 2МЕН ГРУПП         info@2mengroup.ru   \n",
              "3                                 2МЕН ГРУПП         info@2mengroup.ru   \n",
              "4  CПЕЦИАЛИЗИРОВАННЫЙ ЗАСТРОЙЩИК СТРОЙРЕСУРС  sz.stroyresurs@yandex.ru   \n",
              "\n",
              "   Тел. застройщика  \n",
              "0  +7(345)279-18-88  \n",
              "1  +7(345)279-18-88  \n",
              "2  +7(345)279-18-88  \n",
              "3  +7(345)279-18-88  \n",
              "4  +7(865)223-03-08  "
            ],
            "text/html": [
              "\n",
              "  <div id=\"df-07dfa60d-7a5f-470a-a9b4-15c369991fb8\">\n",
              "    <div class=\"colab-df-container\">\n",
              "      <div>\n",
              "<style scoped>\n",
              "    .dataframe tbody tr th:only-of-type {\n",
              "        vertical-align: middle;\n",
              "    }\n",
              "\n",
              "    .dataframe tbody tr th {\n",
              "        vertical-align: top;\n",
              "    }\n",
              "\n",
              "    .dataframe thead th {\n",
              "        text-align: right;\n",
              "    }\n",
              "</style>\n",
              "<table border=\"1\" class=\"dataframe\">\n",
              "  <thead>\n",
              "    <tr style=\"text-align: right;\">\n",
              "      <th></th>\n",
              "      <th>id</th>\n",
              "      <th>Название обьекта</th>\n",
              "      <th>Адрес</th>\n",
              "      <th>Регион</th>\n",
              "      <th>Срок сдачи</th>\n",
              "      <th>Кол-во квартир</th>\n",
              "      <th>Максимум этажей</th>\n",
              "      <th>Минимум этажей</th>\n",
              "      <th>Отделка</th>\n",
              "      <th>Грузоподъемность лифтов</th>\n",
              "      <th>Наличие парковки</th>\n",
              "      <th>Наличие велодорожки</th>\n",
              "      <th>Наличие детской площадки</th>\n",
              "      <th>Наличие спортивной площадки</th>\n",
              "      <th>Застройщик</th>\n",
              "      <th>Email застройщика</th>\n",
              "      <th>Тел. застройщика</th>\n",
              "    </tr>\n",
              "  </thead>\n",
              "  <tbody>\n",
              "    <tr>\n",
              "      <th>0</th>\n",
              "      <td>13383</td>\n",
              "      <td>None</td>\n",
              "      <td>г Тюмень</td>\n",
              "      <td>72</td>\n",
              "      <td>2022-12-31</td>\n",
              "      <td>68</td>\n",
              "      <td>20</td>\n",
              "      <td>4</td>\n",
              "      <td>None</td>\n",
              "      <td>5.0</td>\n",
              "      <td>31</td>\n",
              "      <td>0</td>\n",
              "      <td>1.0</td>\n",
              "      <td>1.0</td>\n",
              "      <td>2МЕН ГРУПП</td>\n",
              "      <td>info@2mengroup.ru</td>\n",
              "      <td>+7(345)279-18-88</td>\n",
              "    </tr>\n",
              "    <tr>\n",
              "      <th>1</th>\n",
              "      <td>13398</td>\n",
              "      <td>None</td>\n",
              "      <td>г Тюмень, ул Профсоюзная, д. 56</td>\n",
              "      <td>72</td>\n",
              "      <td>2024-12-31</td>\n",
              "      <td>43</td>\n",
              "      <td>10</td>\n",
              "      <td>7</td>\n",
              "      <td>None</td>\n",
              "      <td>3.0</td>\n",
              "      <td>0</td>\n",
              "      <td>0</td>\n",
              "      <td>1.0</td>\n",
              "      <td>1.0</td>\n",
              "      <td>2МЕН ГРУПП</td>\n",
              "      <td>info@2mengroup.ru</td>\n",
              "      <td>+7(345)279-18-88</td>\n",
              "    </tr>\n",
              "    <tr>\n",
              "      <th>2</th>\n",
              "      <td>13397</td>\n",
              "      <td>None</td>\n",
              "      <td>г Тюмень, ул Профсоюзная, д. 56</td>\n",
              "      <td>72</td>\n",
              "      <td>2024-12-31</td>\n",
              "      <td>65</td>\n",
              "      <td>12</td>\n",
              "      <td>6</td>\n",
              "      <td>None</td>\n",
              "      <td>5.0</td>\n",
              "      <td>0</td>\n",
              "      <td>0</td>\n",
              "      <td>1.0</td>\n",
              "      <td>1.0</td>\n",
              "      <td>2МЕН ГРУПП</td>\n",
              "      <td>info@2mengroup.ru</td>\n",
              "      <td>+7(345)279-18-88</td>\n",
              "    </tr>\n",
              "    <tr>\n",
              "      <th>3</th>\n",
              "      <td>13399</td>\n",
              "      <td>None</td>\n",
              "      <td>г Тюмень, ул Профсоюзная, д. 56</td>\n",
              "      <td>72</td>\n",
              "      <td>2024-12-31</td>\n",
              "      <td>0</td>\n",
              "      <td>1</td>\n",
              "      <td>1</td>\n",
              "      <td>None</td>\n",
              "      <td>8.0</td>\n",
              "      <td>125</td>\n",
              "      <td>0</td>\n",
              "      <td>0.0</td>\n",
              "      <td>0.0</td>\n",
              "      <td>2МЕН ГРУПП</td>\n",
              "      <td>info@2mengroup.ru</td>\n",
              "      <td>+7(345)279-18-88</td>\n",
              "    </tr>\n",
              "    <tr>\n",
              "      <th>4</th>\n",
              "      <td>36912</td>\n",
              "      <td>None</td>\n",
              "      <td>г Ставрополь, ул Шпаковская, Доваторцев, д. 10...</td>\n",
              "      <td>26</td>\n",
              "      <td>2022-12-31</td>\n",
              "      <td>104</td>\n",
              "      <td>10</td>\n",
              "      <td>2</td>\n",
              "      <td>None</td>\n",
              "      <td>3.0</td>\n",
              "      <td>42</td>\n",
              "      <td>0</td>\n",
              "      <td>1.0</td>\n",
              "      <td>0.0</td>\n",
              "      <td>CПЕЦИАЛИЗИРОВАННЫЙ ЗАСТРОЙЩИК СТРОЙРЕСУРС</td>\n",
              "      <td>sz.stroyresurs@yandex.ru</td>\n",
              "      <td>+7(865)223-03-08</td>\n",
              "    </tr>\n",
              "  </tbody>\n",
              "</table>\n",
              "</div>\n",
              "      <button class=\"colab-df-convert\" onclick=\"convertToInteractive('df-07dfa60d-7a5f-470a-a9b4-15c369991fb8')\"\n",
              "              title=\"Convert this dataframe to an interactive table.\"\n",
              "              style=\"display:none;\">\n",
              "        \n",
              "  <svg xmlns=\"http://www.w3.org/2000/svg\" height=\"24px\"viewBox=\"0 0 24 24\"\n",
              "       width=\"24px\">\n",
              "    <path d=\"M0 0h24v24H0V0z\" fill=\"none\"/>\n",
              "    <path d=\"M18.56 5.44l.94 2.06.94-2.06 2.06-.94-2.06-.94-.94-2.06-.94 2.06-2.06.94zm-11 1L8.5 8.5l.94-2.06 2.06-.94-2.06-.94L8.5 2.5l-.94 2.06-2.06.94zm10 10l.94 2.06.94-2.06 2.06-.94-2.06-.94-.94-2.06-.94 2.06-2.06.94z\"/><path d=\"M17.41 7.96l-1.37-1.37c-.4-.4-.92-.59-1.43-.59-.52 0-1.04.2-1.43.59L10.3 9.45l-7.72 7.72c-.78.78-.78 2.05 0 2.83L4 21.41c.39.39.9.59 1.41.59.51 0 1.02-.2 1.41-.59l7.78-7.78 2.81-2.81c.8-.78.8-2.07 0-2.86zM5.41 20L4 18.59l7.72-7.72 1.47 1.35L5.41 20z\"/>\n",
              "  </svg>\n",
              "      </button>\n",
              "      \n",
              "  <style>\n",
              "    .colab-df-container {\n",
              "      display:flex;\n",
              "      flex-wrap:wrap;\n",
              "      gap: 12px;\n",
              "    }\n",
              "\n",
              "    .colab-df-convert {\n",
              "      background-color: #E8F0FE;\n",
              "      border: none;\n",
              "      border-radius: 50%;\n",
              "      cursor: pointer;\n",
              "      display: none;\n",
              "      fill: #1967D2;\n",
              "      height: 32px;\n",
              "      padding: 0 0 0 0;\n",
              "      width: 32px;\n",
              "    }\n",
              "\n",
              "    .colab-df-convert:hover {\n",
              "      background-color: #E2EBFA;\n",
              "      box-shadow: 0px 1px 2px rgba(60, 64, 67, 0.3), 0px 1px 3px 1px rgba(60, 64, 67, 0.15);\n",
              "      fill: #174EA6;\n",
              "    }\n",
              "\n",
              "    [theme=dark] .colab-df-convert {\n",
              "      background-color: #3B4455;\n",
              "      fill: #D2E3FC;\n",
              "    }\n",
              "\n",
              "    [theme=dark] .colab-df-convert:hover {\n",
              "      background-color: #434B5C;\n",
              "      box-shadow: 0px 1px 3px 1px rgba(0, 0, 0, 0.15);\n",
              "      filter: drop-shadow(0px 1px 2px rgba(0, 0, 0, 0.3));\n",
              "      fill: #FFFFFF;\n",
              "    }\n",
              "  </style>\n",
              "\n",
              "      <script>\n",
              "        const buttonEl =\n",
              "          document.querySelector('#df-07dfa60d-7a5f-470a-a9b4-15c369991fb8 button.colab-df-convert');\n",
              "        buttonEl.style.display =\n",
              "          google.colab.kernel.accessAllowed ? 'block' : 'none';\n",
              "\n",
              "        async function convertToInteractive(key) {\n",
              "          const element = document.querySelector('#df-07dfa60d-7a5f-470a-a9b4-15c369991fb8');\n",
              "          const dataTable =\n",
              "            await google.colab.kernel.invokeFunction('convertToInteractive',\n",
              "                                                     [key], {});\n",
              "          if (!dataTable) return;\n",
              "\n",
              "          const docLinkHtml = 'Like what you see? Visit the ' +\n",
              "            '<a target=\"_blank\" href=https://colab.research.google.com/notebooks/data_table.ipynb>data table notebook</a>'\n",
              "            + ' to learn more about interactive tables.';\n",
              "          element.innerHTML = '';\n",
              "          dataTable['output_type'] = 'display_data';\n",
              "          await google.colab.output.renderOutput(dataTable, element);\n",
              "          const docLink = document.createElement('div');\n",
              "          docLink.innerHTML = docLinkHtml;\n",
              "          element.appendChild(docLink);\n",
              "        }\n",
              "      </script>\n",
              "    </div>\n",
              "  </div>\n",
              "  "
            ]
          },
          "metadata": {},
          "execution_count": 15
        }
      ]
    },
    {
      "cell_type": "code",
      "source": [
        "# Смотрим статистики по извлеченным данным\n",
        "df_1.info()"
      ],
      "metadata": {
        "colab": {
          "base_uri": "https://localhost:8080/"
        },
        "id": "8-vU80u61mhB",
        "outputId": "2cc64b10-0a7b-447d-e4c1-72e42cd61bc9"
      },
      "execution_count": 16,
      "outputs": [
        {
          "output_type": "stream",
          "name": "stdout",
          "text": [
            "<class 'pandas.core.frame.DataFrame'>\n",
            "RangeIndex: 5000 entries, 0 to 4999\n",
            "Data columns (total 17 columns):\n",
            " #   Column                       Non-Null Count  Dtype  \n",
            "---  ------                       --------------  -----  \n",
            " 0   id                           5000 non-null   int64  \n",
            " 1   Название обьекта             3760 non-null   object \n",
            " 2   Адрес                        4975 non-null   object \n",
            " 3   Регион                       5000 non-null   int64  \n",
            " 4   Срок сдачи                   5000 non-null   object \n",
            " 5   Кол-во квартир               5000 non-null   int64  \n",
            " 6   Максимум этажей              5000 non-null   int64  \n",
            " 7   Минимум этажей               5000 non-null   int64  \n",
            " 8   Отделка                      0 non-null      object \n",
            " 9   Грузоподъемность лифтов      4967 non-null   float64\n",
            " 10  Наличие парковки             5000 non-null   int64  \n",
            " 11  Наличие велодорожки          5000 non-null   int64  \n",
            " 12  Наличие детской площадки     4967 non-null   float64\n",
            " 13  Наличие спортивной площадки  4965 non-null   float64\n",
            " 14  Застройщик                   5000 non-null   object \n",
            " 15  Email застройщика            4999 non-null   object \n",
            " 16  Тел. застройщика             4998 non-null   object \n",
            "dtypes: float64(3), int64(7), object(7)\n",
            "memory usage: 664.2+ KB\n"
          ]
        }
      ]
    },
    {
      "cell_type": "markdown",
      "source": [
        "# **Задание 1.3 - Cохранить pandas dataframe в excel**"
      ],
      "metadata": {
        "id": "1ZRnzkWr2k0g"
      }
    },
    {
      "cell_type": "code",
      "source": [
        "# В виду решения задачи в разные дни, импортировал с гугл диска файл с датафреймом\n",
        "# abcde - ранее сохраненный df в csv файле\n",
        "df_2 = pd.read_csv('drive/My Drive/abcde.csv')"
      ],
      "metadata": {
        "id": "1PNkL28582VN"
      },
      "execution_count": 27,
      "outputs": []
    },
    {
      "cell_type": "code",
      "source": [
        "df_2.to_excel(\"./drive/MyDrive/Hometask 1(excel).xlsx\", index=False)"
      ],
      "metadata": {
        "id": "VOZ99pSS9JL2"
      },
      "execution_count": 28,
      "outputs": []
    },
    {
      "cell_type": "markdown",
      "source": [
        "# **Задание 1.4 - Cохранить pandas dataframe в pickle**"
      ],
      "metadata": {
        "id": "t834eYwy2uOB"
      }
    },
    {
      "cell_type": "code",
      "source": [
        "df_2.to_pickle(\"./drive/MyDrive/Hometask_1 (pickle).pkl\")  "
      ],
      "metadata": {
        "id": "-J8HpQbm1p_R"
      },
      "execution_count": 30,
      "outputs": []
    },
    {
      "cell_type": "markdown",
      "source": [
        "# **Задание 1.5 - Cохранить pandas dataframe в БД**"
      ],
      "metadata": {
        "id": "wr7SgPel3CIB"
      }
    },
    {
      "cell_type": "code",
      "source": [
        "# Создаем БД с названием 'obj_database'\n",
        "import sqlite3\n",
        "conn = sqlite3.connect('obj_database')"
      ],
      "metadata": {
        "id": "B0q7Zojt3BGJ"
      },
      "execution_count": 36,
      "outputs": []
    },
    {
      "cell_type": "code",
      "source": [
        "# Создаем таблицу с названием 'HomeRF'\n",
        "df_2.to_sql('HomeRF', conn, if_exists= 'replace', index = False)\n",
        "conn.commit()\n",
        "conn.close()"
      ],
      "metadata": {
        "id": "sDK1slsz7JTO"
      },
      "execution_count": 37,
      "outputs": []
    },
    {
      "cell_type": "code",
      "source": [
        "# Делаем простой запрос к таблице в БД \n",
        "conn = sqlite3.connect('obj_database')\n",
        "pd.read_sql('select * from HomeRF', conn)"
      ],
      "metadata": {
        "colab": {
          "base_uri": "https://localhost:8080/",
          "height": 1000
        },
        "id": "pwPHCwXb7Jgm",
        "outputId": "38d50894-d56c-4814-8a47-cc6359742183"
      },
      "execution_count": 38,
      "outputs": [
        {
          "output_type": "execute_result",
          "data": {
            "text/plain": [
              "         id                                   Название обьекта  \\\n",
              "0     13383                                               None   \n",
              "1     13398                                               None   \n",
              "2     13397                                               None   \n",
              "3     13399                                               None   \n",
              "4     36912                                               None   \n",
              "...     ...                                                ...   \n",
              "4995  20764  Жилой комплекс «ЗИЛАРТ», ЖК «ЗИЛАРТ», ЗИЛАРТ, ...   \n",
              "4996   9331       Жилой комплекс «ЗИЛАРТ», ЖК «ЗИЛАРТ», ЗИЛАРТ   \n",
              "4997  49226                  Жилой комплекс \"ДМИТРОВСКОЕ НЕБО\"   \n",
              "4998  47112                  Жилой комплекс \"ДМИТРОВСКОЕ НЕБО\"   \n",
              "4999  48212                                 ЖК Цветной бульвар   \n",
              "\n",
              "                                                  Адрес  Регион  Срок сдачи  \\\n",
              "0                                              г Тюмень      72  2022-12-31   \n",
              "1                       г Тюмень, ул Профсоюзная, д. 56      72  2024-12-31   \n",
              "2                       г Тюмень, ул Профсоюзная, д. 56      72  2024-12-31   \n",
              "3                       г Тюмень, ул Профсоюзная, д. 56      72  2024-12-31   \n",
              "4     г Ставрополь, ул Шпаковская, Доваторцев, д. 10...      26  2022-12-31   \n",
              "...                                                 ...     ...         ...   \n",
              "4995  г Москва, район Даниловский, улица Автозаводск...      77  2022-12-31   \n",
              "4996  г Москва, район Даниловский, улица Автозаводск...      77  2023-12-31   \n",
              "4997             г Москва, район САО, проезд Ильменский      77  2025-12-31   \n",
              "4998                        г Москва, проезд Ильменский      77  2025-09-30   \n",
              "4999  г Екатеринбург, район Кировский, улица Блюхера...      66  2022-12-31   \n",
              "\n",
              "      Кол-во квартир  Максимум этажей  Минимум этажей Отделка  \\\n",
              "0                 68               20               4    None   \n",
              "1                 43               10               7    None   \n",
              "2                 65               12               6    None   \n",
              "3                  0                1               1    None   \n",
              "4                104               10               2    None   \n",
              "...              ...              ...             ...     ...   \n",
              "4995             483               43               5    None   \n",
              "4996             337               17               2    None   \n",
              "4997            1130               24               8    None   \n",
              "4998            1270               33               4    None   \n",
              "4999               0                8               8    None   \n",
              "\n",
              "      Грузоподъемность лифтов  Наличие парковки  Наличие велодорожки  \\\n",
              "0                         5.0                31                    0   \n",
              "1                         3.0                 0                    0   \n",
              "2                         5.0                 0                    0   \n",
              "3                         8.0               125                    0   \n",
              "4                         3.0                42                    0   \n",
              "...                       ...               ...                  ...   \n",
              "4995                      8.0               219                    1   \n",
              "4996                      6.0               119                    1   \n",
              "4997                     14.0               261                    1   \n",
              "4998                      0.0               164                    0   \n",
              "4999                      1.0               499                    0   \n",
              "\n",
              "      Наличие детской площадки  Наличие спортивной площадки  \\\n",
              "0                          1.0                          1.0   \n",
              "1                          1.0                          1.0   \n",
              "2                          1.0                          1.0   \n",
              "3                          0.0                          0.0   \n",
              "4                          1.0                          0.0   \n",
              "...                        ...                          ...   \n",
              "4995                       0.0                          0.0   \n",
              "4996                       1.0                          0.0   \n",
              "4997                       2.0                          1.0   \n",
              "4998                       2.0                          1.0   \n",
              "4999                       0.0                          0.0   \n",
              "\n",
              "                                      Застройщик         Email застройщика  \\\n",
              "0                                     2МЕН ГРУПП         info@2mengroup.ru   \n",
              "1                                     2МЕН ГРУПП         info@2mengroup.ru   \n",
              "2                                     2МЕН ГРУПП         info@2mengroup.ru   \n",
              "3                                     2МЕН ГРУПП         info@2mengroup.ru   \n",
              "4      CПЕЦИАЛИЗИРОВАННЫЙ ЗАСТРОЙЩИК СТРОЙРЕСУРС  sz.stroyresurs@yandex.ru   \n",
              "...                                          ...                       ...   \n",
              "4995  СПЕЦИАЛИЗИРОВАННЫЙ ЗАСТРОЙЩИК ЛСР.ОБЪЕКТ-М      mail@msr.lsrgroup.ru   \n",
              "4996  СПЕЦИАЛИЗИРОВАННЫЙ ЗАСТРОЙЩИК ЛСР.ОБЪЕКТ-М      mail@msr.lsrgroup.ru   \n",
              "4997  СПЕЦИАЛИЗИРОВАННЫЙ ЗАСТРОЙЩИК ЛСР.РАЗВИТИЕ      mail@msr.lsrgroup.ru   \n",
              "4998  СПЕЦИАЛИЗИРОВАННЫЙ ЗАСТРОЙЩИК ЛСР.РАЗВИТИЕ      mail@msr.lsrgroup.ru   \n",
              "4999      СПЕЦИАЛИЗИРОВАННЫЙ ЗАСТРОЙЩИК ЛСР.УРАЛ        secret@lsrgroup.ru   \n",
              "\n",
              "        Тел. застройщика  \n",
              "0       +7(345)279-18-88  \n",
              "1       +7(345)279-18-88  \n",
              "2       +7(345)279-18-88  \n",
              "3       +7(345)279-18-88  \n",
              "4       +7(865)223-03-08  \n",
              "...                  ...  \n",
              "4995  +7 (495) 139-29-50  \n",
              "4996  +7 (495) 139-29-50  \n",
              "4997    +7(495)139-29-52  \n",
              "4998    +7(495)139-29-52  \n",
              "4999    +7(343)215-99-00  \n",
              "\n",
              "[5000 rows x 17 columns]"
            ],
            "text/html": [
              "\n",
              "  <div id=\"df-74575357-d2fd-491c-9816-776c15c4be6f\">\n",
              "    <div class=\"colab-df-container\">\n",
              "      <div>\n",
              "<style scoped>\n",
              "    .dataframe tbody tr th:only-of-type {\n",
              "        vertical-align: middle;\n",
              "    }\n",
              "\n",
              "    .dataframe tbody tr th {\n",
              "        vertical-align: top;\n",
              "    }\n",
              "\n",
              "    .dataframe thead th {\n",
              "        text-align: right;\n",
              "    }\n",
              "</style>\n",
              "<table border=\"1\" class=\"dataframe\">\n",
              "  <thead>\n",
              "    <tr style=\"text-align: right;\">\n",
              "      <th></th>\n",
              "      <th>id</th>\n",
              "      <th>Название обьекта</th>\n",
              "      <th>Адрес</th>\n",
              "      <th>Регион</th>\n",
              "      <th>Срок сдачи</th>\n",
              "      <th>Кол-во квартир</th>\n",
              "      <th>Максимум этажей</th>\n",
              "      <th>Минимум этажей</th>\n",
              "      <th>Отделка</th>\n",
              "      <th>Грузоподъемность лифтов</th>\n",
              "      <th>Наличие парковки</th>\n",
              "      <th>Наличие велодорожки</th>\n",
              "      <th>Наличие детской площадки</th>\n",
              "      <th>Наличие спортивной площадки</th>\n",
              "      <th>Застройщик</th>\n",
              "      <th>Email застройщика</th>\n",
              "      <th>Тел. застройщика</th>\n",
              "    </tr>\n",
              "  </thead>\n",
              "  <tbody>\n",
              "    <tr>\n",
              "      <th>0</th>\n",
              "      <td>13383</td>\n",
              "      <td>None</td>\n",
              "      <td>г Тюмень</td>\n",
              "      <td>72</td>\n",
              "      <td>2022-12-31</td>\n",
              "      <td>68</td>\n",
              "      <td>20</td>\n",
              "      <td>4</td>\n",
              "      <td>None</td>\n",
              "      <td>5.0</td>\n",
              "      <td>31</td>\n",
              "      <td>0</td>\n",
              "      <td>1.0</td>\n",
              "      <td>1.0</td>\n",
              "      <td>2МЕН ГРУПП</td>\n",
              "      <td>info@2mengroup.ru</td>\n",
              "      <td>+7(345)279-18-88</td>\n",
              "    </tr>\n",
              "    <tr>\n",
              "      <th>1</th>\n",
              "      <td>13398</td>\n",
              "      <td>None</td>\n",
              "      <td>г Тюмень, ул Профсоюзная, д. 56</td>\n",
              "      <td>72</td>\n",
              "      <td>2024-12-31</td>\n",
              "      <td>43</td>\n",
              "      <td>10</td>\n",
              "      <td>7</td>\n",
              "      <td>None</td>\n",
              "      <td>3.0</td>\n",
              "      <td>0</td>\n",
              "      <td>0</td>\n",
              "      <td>1.0</td>\n",
              "      <td>1.0</td>\n",
              "      <td>2МЕН ГРУПП</td>\n",
              "      <td>info@2mengroup.ru</td>\n",
              "      <td>+7(345)279-18-88</td>\n",
              "    </tr>\n",
              "    <tr>\n",
              "      <th>2</th>\n",
              "      <td>13397</td>\n",
              "      <td>None</td>\n",
              "      <td>г Тюмень, ул Профсоюзная, д. 56</td>\n",
              "      <td>72</td>\n",
              "      <td>2024-12-31</td>\n",
              "      <td>65</td>\n",
              "      <td>12</td>\n",
              "      <td>6</td>\n",
              "      <td>None</td>\n",
              "      <td>5.0</td>\n",
              "      <td>0</td>\n",
              "      <td>0</td>\n",
              "      <td>1.0</td>\n",
              "      <td>1.0</td>\n",
              "      <td>2МЕН ГРУПП</td>\n",
              "      <td>info@2mengroup.ru</td>\n",
              "      <td>+7(345)279-18-88</td>\n",
              "    </tr>\n",
              "    <tr>\n",
              "      <th>3</th>\n",
              "      <td>13399</td>\n",
              "      <td>None</td>\n",
              "      <td>г Тюмень, ул Профсоюзная, д. 56</td>\n",
              "      <td>72</td>\n",
              "      <td>2024-12-31</td>\n",
              "      <td>0</td>\n",
              "      <td>1</td>\n",
              "      <td>1</td>\n",
              "      <td>None</td>\n",
              "      <td>8.0</td>\n",
              "      <td>125</td>\n",
              "      <td>0</td>\n",
              "      <td>0.0</td>\n",
              "      <td>0.0</td>\n",
              "      <td>2МЕН ГРУПП</td>\n",
              "      <td>info@2mengroup.ru</td>\n",
              "      <td>+7(345)279-18-88</td>\n",
              "    </tr>\n",
              "    <tr>\n",
              "      <th>4</th>\n",
              "      <td>36912</td>\n",
              "      <td>None</td>\n",
              "      <td>г Ставрополь, ул Шпаковская, Доваторцев, д. 10...</td>\n",
              "      <td>26</td>\n",
              "      <td>2022-12-31</td>\n",
              "      <td>104</td>\n",
              "      <td>10</td>\n",
              "      <td>2</td>\n",
              "      <td>None</td>\n",
              "      <td>3.0</td>\n",
              "      <td>42</td>\n",
              "      <td>0</td>\n",
              "      <td>1.0</td>\n",
              "      <td>0.0</td>\n",
              "      <td>CПЕЦИАЛИЗИРОВАННЫЙ ЗАСТРОЙЩИК СТРОЙРЕСУРС</td>\n",
              "      <td>sz.stroyresurs@yandex.ru</td>\n",
              "      <td>+7(865)223-03-08</td>\n",
              "    </tr>\n",
              "    <tr>\n",
              "      <th>...</th>\n",
              "      <td>...</td>\n",
              "      <td>...</td>\n",
              "      <td>...</td>\n",
              "      <td>...</td>\n",
              "      <td>...</td>\n",
              "      <td>...</td>\n",
              "      <td>...</td>\n",
              "      <td>...</td>\n",
              "      <td>...</td>\n",
              "      <td>...</td>\n",
              "      <td>...</td>\n",
              "      <td>...</td>\n",
              "      <td>...</td>\n",
              "      <td>...</td>\n",
              "      <td>...</td>\n",
              "      <td>...</td>\n",
              "      <td>...</td>\n",
              "    </tr>\n",
              "    <tr>\n",
              "      <th>4995</th>\n",
              "      <td>20764</td>\n",
              "      <td>Жилой комплекс «ЗИЛАРТ», ЖК «ЗИЛАРТ», ЗИЛАРТ, ...</td>\n",
              "      <td>г Москва, район Даниловский, улица Автозаводск...</td>\n",
              "      <td>77</td>\n",
              "      <td>2022-12-31</td>\n",
              "      <td>483</td>\n",
              "      <td>43</td>\n",
              "      <td>5</td>\n",
              "      <td>None</td>\n",
              "      <td>8.0</td>\n",
              "      <td>219</td>\n",
              "      <td>1</td>\n",
              "      <td>0.0</td>\n",
              "      <td>0.0</td>\n",
              "      <td>СПЕЦИАЛИЗИРОВАННЫЙ ЗАСТРОЙЩИК ЛСР.ОБЪЕКТ-М</td>\n",
              "      <td>mail@msr.lsrgroup.ru</td>\n",
              "      <td>+7 (495) 139-29-50</td>\n",
              "    </tr>\n",
              "    <tr>\n",
              "      <th>4996</th>\n",
              "      <td>9331</td>\n",
              "      <td>Жилой комплекс «ЗИЛАРТ», ЖК «ЗИЛАРТ», ЗИЛАРТ</td>\n",
              "      <td>г Москва, район Даниловский, улица Автозаводск...</td>\n",
              "      <td>77</td>\n",
              "      <td>2023-12-31</td>\n",
              "      <td>337</td>\n",
              "      <td>17</td>\n",
              "      <td>2</td>\n",
              "      <td>None</td>\n",
              "      <td>6.0</td>\n",
              "      <td>119</td>\n",
              "      <td>1</td>\n",
              "      <td>1.0</td>\n",
              "      <td>0.0</td>\n",
              "      <td>СПЕЦИАЛИЗИРОВАННЫЙ ЗАСТРОЙЩИК ЛСР.ОБЪЕКТ-М</td>\n",
              "      <td>mail@msr.lsrgroup.ru</td>\n",
              "      <td>+7 (495) 139-29-50</td>\n",
              "    </tr>\n",
              "    <tr>\n",
              "      <th>4997</th>\n",
              "      <td>49226</td>\n",
              "      <td>Жилой комплекс \"ДМИТРОВСКОЕ НЕБО\"</td>\n",
              "      <td>г Москва, район САО, проезд Ильменский</td>\n",
              "      <td>77</td>\n",
              "      <td>2025-12-31</td>\n",
              "      <td>1130</td>\n",
              "      <td>24</td>\n",
              "      <td>8</td>\n",
              "      <td>None</td>\n",
              "      <td>14.0</td>\n",
              "      <td>261</td>\n",
              "      <td>1</td>\n",
              "      <td>2.0</td>\n",
              "      <td>1.0</td>\n",
              "      <td>СПЕЦИАЛИЗИРОВАННЫЙ ЗАСТРОЙЩИК ЛСР.РАЗВИТИЕ</td>\n",
              "      <td>mail@msr.lsrgroup.ru</td>\n",
              "      <td>+7(495)139-29-52</td>\n",
              "    </tr>\n",
              "    <tr>\n",
              "      <th>4998</th>\n",
              "      <td>47112</td>\n",
              "      <td>Жилой комплекс \"ДМИТРОВСКОЕ НЕБО\"</td>\n",
              "      <td>г Москва, проезд Ильменский</td>\n",
              "      <td>77</td>\n",
              "      <td>2025-09-30</td>\n",
              "      <td>1270</td>\n",
              "      <td>33</td>\n",
              "      <td>4</td>\n",
              "      <td>None</td>\n",
              "      <td>0.0</td>\n",
              "      <td>164</td>\n",
              "      <td>0</td>\n",
              "      <td>2.0</td>\n",
              "      <td>1.0</td>\n",
              "      <td>СПЕЦИАЛИЗИРОВАННЫЙ ЗАСТРОЙЩИК ЛСР.РАЗВИТИЕ</td>\n",
              "      <td>mail@msr.lsrgroup.ru</td>\n",
              "      <td>+7(495)139-29-52</td>\n",
              "    </tr>\n",
              "    <tr>\n",
              "      <th>4999</th>\n",
              "      <td>48212</td>\n",
              "      <td>ЖК Цветной бульвар</td>\n",
              "      <td>г Екатеринбург, район Кировский, улица Блюхера...</td>\n",
              "      <td>66</td>\n",
              "      <td>2022-12-31</td>\n",
              "      <td>0</td>\n",
              "      <td>8</td>\n",
              "      <td>8</td>\n",
              "      <td>None</td>\n",
              "      <td>1.0</td>\n",
              "      <td>499</td>\n",
              "      <td>0</td>\n",
              "      <td>0.0</td>\n",
              "      <td>0.0</td>\n",
              "      <td>СПЕЦИАЛИЗИРОВАННЫЙ ЗАСТРОЙЩИК ЛСР.УРАЛ</td>\n",
              "      <td>secret@lsrgroup.ru</td>\n",
              "      <td>+7(343)215-99-00</td>\n",
              "    </tr>\n",
              "  </tbody>\n",
              "</table>\n",
              "<p>5000 rows × 17 columns</p>\n",
              "</div>\n",
              "      <button class=\"colab-df-convert\" onclick=\"convertToInteractive('df-74575357-d2fd-491c-9816-776c15c4be6f')\"\n",
              "              title=\"Convert this dataframe to an interactive table.\"\n",
              "              style=\"display:none;\">\n",
              "        \n",
              "  <svg xmlns=\"http://www.w3.org/2000/svg\" height=\"24px\"viewBox=\"0 0 24 24\"\n",
              "       width=\"24px\">\n",
              "    <path d=\"M0 0h24v24H0V0z\" fill=\"none\"/>\n",
              "    <path d=\"M18.56 5.44l.94 2.06.94-2.06 2.06-.94-2.06-.94-.94-2.06-.94 2.06-2.06.94zm-11 1L8.5 8.5l.94-2.06 2.06-.94-2.06-.94L8.5 2.5l-.94 2.06-2.06.94zm10 10l.94 2.06.94-2.06 2.06-.94-2.06-.94-.94-2.06-.94 2.06-2.06.94z\"/><path d=\"M17.41 7.96l-1.37-1.37c-.4-.4-.92-.59-1.43-.59-.52 0-1.04.2-1.43.59L10.3 9.45l-7.72 7.72c-.78.78-.78 2.05 0 2.83L4 21.41c.39.39.9.59 1.41.59.51 0 1.02-.2 1.41-.59l7.78-7.78 2.81-2.81c.8-.78.8-2.07 0-2.86zM5.41 20L4 18.59l7.72-7.72 1.47 1.35L5.41 20z\"/>\n",
              "  </svg>\n",
              "      </button>\n",
              "      \n",
              "  <style>\n",
              "    .colab-df-container {\n",
              "      display:flex;\n",
              "      flex-wrap:wrap;\n",
              "      gap: 12px;\n",
              "    }\n",
              "\n",
              "    .colab-df-convert {\n",
              "      background-color: #E8F0FE;\n",
              "      border: none;\n",
              "      border-radius: 50%;\n",
              "      cursor: pointer;\n",
              "      display: none;\n",
              "      fill: #1967D2;\n",
              "      height: 32px;\n",
              "      padding: 0 0 0 0;\n",
              "      width: 32px;\n",
              "    }\n",
              "\n",
              "    .colab-df-convert:hover {\n",
              "      background-color: #E2EBFA;\n",
              "      box-shadow: 0px 1px 2px rgba(60, 64, 67, 0.3), 0px 1px 3px 1px rgba(60, 64, 67, 0.15);\n",
              "      fill: #174EA6;\n",
              "    }\n",
              "\n",
              "    [theme=dark] .colab-df-convert {\n",
              "      background-color: #3B4455;\n",
              "      fill: #D2E3FC;\n",
              "    }\n",
              "\n",
              "    [theme=dark] .colab-df-convert:hover {\n",
              "      background-color: #434B5C;\n",
              "      box-shadow: 0px 1px 3px 1px rgba(0, 0, 0, 0.15);\n",
              "      filter: drop-shadow(0px 1px 2px rgba(0, 0, 0, 0.3));\n",
              "      fill: #FFFFFF;\n",
              "    }\n",
              "  </style>\n",
              "\n",
              "      <script>\n",
              "        const buttonEl =\n",
              "          document.querySelector('#df-74575357-d2fd-491c-9816-776c15c4be6f button.colab-df-convert');\n",
              "        buttonEl.style.display =\n",
              "          google.colab.kernel.accessAllowed ? 'block' : 'none';\n",
              "\n",
              "        async function convertToInteractive(key) {\n",
              "          const element = document.querySelector('#df-74575357-d2fd-491c-9816-776c15c4be6f');\n",
              "          const dataTable =\n",
              "            await google.colab.kernel.invokeFunction('convertToInteractive',\n",
              "                                                     [key], {});\n",
              "          if (!dataTable) return;\n",
              "\n",
              "          const docLinkHtml = 'Like what you see? Visit the ' +\n",
              "            '<a target=\"_blank\" href=https://colab.research.google.com/notebooks/data_table.ipynb>data table notebook</a>'\n",
              "            + ' to learn more about interactive tables.';\n",
              "          element.innerHTML = '';\n",
              "          dataTable['output_type'] = 'display_data';\n",
              "          await google.colab.output.renderOutput(dataTable, element);\n",
              "          const docLink = document.createElement('div');\n",
              "          docLink.innerHTML = docLinkHtml;\n",
              "          element.appendChild(docLink);\n",
              "        }\n",
              "      </script>\n",
              "    </div>\n",
              "  </div>\n",
              "  "
            ]
          },
          "metadata": {},
          "execution_count": 38
        }
      ]
    }
  ],
  "metadata": {
    "kernelspec": {
      "display_name": "Python 3",
      "language": "python",
      "name": "python3"
    },
    "language_info": {
      "codemirror_mode": {
        "name": "ipython",
        "version": 2
      },
      "file_extension": ".py",
      "mimetype": "text/x-python",
      "name": "python",
      "nbconvert_exporter": "python",
      "pygments_lexer": "ipython2",
      "version": "2.7.6"
    },
    "colab": {
      "provenance": [],
      "include_colab_link": true
    },
    "widgets": {
      "application/vnd.jupyter.widget-state+json": {
        "6d2d82622ffa4b609fbafd64b9048ad5": {
          "model_module": "@jupyter-widgets/controls",
          "model_name": "HBoxModel",
          "model_module_version": "1.5.0",
          "state": {
            "_dom_classes": [],
            "_model_module": "@jupyter-widgets/controls",
            "_model_module_version": "1.5.0",
            "_model_name": "HBoxModel",
            "_view_count": null,
            "_view_module": "@jupyter-widgets/controls",
            "_view_module_version": "1.5.0",
            "_view_name": "HBoxView",
            "box_style": "",
            "children": [
              "IPY_MODEL_d58e19c6edb341149bf11649d6927e38",
              "IPY_MODEL_4baa778d3024496582645e0931bac44b",
              "IPY_MODEL_2fc0d3c0c43f4dd5b8eeec8f791698c3"
            ],
            "layout": "IPY_MODEL_f91f95c4f3204f60ac5ff8b5af26430b"
          }
        },
        "d58e19c6edb341149bf11649d6927e38": {
          "model_module": "@jupyter-widgets/controls",
          "model_name": "HTMLModel",
          "model_module_version": "1.5.0",
          "state": {
            "_dom_classes": [],
            "_model_module": "@jupyter-widgets/controls",
            "_model_module_version": "1.5.0",
            "_model_name": "HTMLModel",
            "_view_count": null,
            "_view_module": "@jupyter-widgets/controls",
            "_view_module_version": "1.5.0",
            "_view_name": "HTMLView",
            "description": "",
            "description_tooltip": null,
            "layout": "IPY_MODEL_21aa717a13c8479d975da3375cebd786",
            "placeholder": "​",
            "style": "IPY_MODEL_54654fe74e014845b32f08534625eff2",
            "value": "100%"
          }
        },
        "4baa778d3024496582645e0931bac44b": {
          "model_module": "@jupyter-widgets/controls",
          "model_name": "FloatProgressModel",
          "model_module_version": "1.5.0",
          "state": {
            "_dom_classes": [],
            "_model_module": "@jupyter-widgets/controls",
            "_model_module_version": "1.5.0",
            "_model_name": "FloatProgressModel",
            "_view_count": null,
            "_view_module": "@jupyter-widgets/controls",
            "_view_module_version": "1.5.0",
            "_view_name": "ProgressView",
            "bar_style": "success",
            "description": "",
            "description_tooltip": null,
            "layout": "IPY_MODEL_1ca66de7716c4b969e421a280457f6fd",
            "max": 5000,
            "min": 0,
            "orientation": "horizontal",
            "style": "IPY_MODEL_2e1511ad728f4312a036136956d9dc0b",
            "value": 5000
          }
        },
        "2fc0d3c0c43f4dd5b8eeec8f791698c3": {
          "model_module": "@jupyter-widgets/controls",
          "model_name": "HTMLModel",
          "model_module_version": "1.5.0",
          "state": {
            "_dom_classes": [],
            "_model_module": "@jupyter-widgets/controls",
            "_model_module_version": "1.5.0",
            "_model_name": "HTMLModel",
            "_view_count": null,
            "_view_module": "@jupyter-widgets/controls",
            "_view_module_version": "1.5.0",
            "_view_name": "HTMLView",
            "description": "",
            "description_tooltip": null,
            "layout": "IPY_MODEL_d48d61c177024744913b4f87f1ab3d7a",
            "placeholder": "​",
            "style": "IPY_MODEL_282be74759ca4085bab8b2b850aff7dd",
            "value": " 5000/5000 [50:33&lt;00:00,  1.67it/s]"
          }
        },
        "f91f95c4f3204f60ac5ff8b5af26430b": {
          "model_module": "@jupyter-widgets/base",
          "model_name": "LayoutModel",
          "model_module_version": "1.2.0",
          "state": {
            "_model_module": "@jupyter-widgets/base",
            "_model_module_version": "1.2.0",
            "_model_name": "LayoutModel",
            "_view_count": null,
            "_view_module": "@jupyter-widgets/base",
            "_view_module_version": "1.2.0",
            "_view_name": "LayoutView",
            "align_content": null,
            "align_items": null,
            "align_self": null,
            "border": null,
            "bottom": null,
            "display": null,
            "flex": null,
            "flex_flow": null,
            "grid_area": null,
            "grid_auto_columns": null,
            "grid_auto_flow": null,
            "grid_auto_rows": null,
            "grid_column": null,
            "grid_gap": null,
            "grid_row": null,
            "grid_template_areas": null,
            "grid_template_columns": null,
            "grid_template_rows": null,
            "height": null,
            "justify_content": null,
            "justify_items": null,
            "left": null,
            "margin": null,
            "max_height": null,
            "max_width": null,
            "min_height": null,
            "min_width": null,
            "object_fit": null,
            "object_position": null,
            "order": null,
            "overflow": null,
            "overflow_x": null,
            "overflow_y": null,
            "padding": null,
            "right": null,
            "top": null,
            "visibility": null,
            "width": null
          }
        },
        "21aa717a13c8479d975da3375cebd786": {
          "model_module": "@jupyter-widgets/base",
          "model_name": "LayoutModel",
          "model_module_version": "1.2.0",
          "state": {
            "_model_module": "@jupyter-widgets/base",
            "_model_module_version": "1.2.0",
            "_model_name": "LayoutModel",
            "_view_count": null,
            "_view_module": "@jupyter-widgets/base",
            "_view_module_version": "1.2.0",
            "_view_name": "LayoutView",
            "align_content": null,
            "align_items": null,
            "align_self": null,
            "border": null,
            "bottom": null,
            "display": null,
            "flex": null,
            "flex_flow": null,
            "grid_area": null,
            "grid_auto_columns": null,
            "grid_auto_flow": null,
            "grid_auto_rows": null,
            "grid_column": null,
            "grid_gap": null,
            "grid_row": null,
            "grid_template_areas": null,
            "grid_template_columns": null,
            "grid_template_rows": null,
            "height": null,
            "justify_content": null,
            "justify_items": null,
            "left": null,
            "margin": null,
            "max_height": null,
            "max_width": null,
            "min_height": null,
            "min_width": null,
            "object_fit": null,
            "object_position": null,
            "order": null,
            "overflow": null,
            "overflow_x": null,
            "overflow_y": null,
            "padding": null,
            "right": null,
            "top": null,
            "visibility": null,
            "width": null
          }
        },
        "54654fe74e014845b32f08534625eff2": {
          "model_module": "@jupyter-widgets/controls",
          "model_name": "DescriptionStyleModel",
          "model_module_version": "1.5.0",
          "state": {
            "_model_module": "@jupyter-widgets/controls",
            "_model_module_version": "1.5.0",
            "_model_name": "DescriptionStyleModel",
            "_view_count": null,
            "_view_module": "@jupyter-widgets/base",
            "_view_module_version": "1.2.0",
            "_view_name": "StyleView",
            "description_width": ""
          }
        },
        "1ca66de7716c4b969e421a280457f6fd": {
          "model_module": "@jupyter-widgets/base",
          "model_name": "LayoutModel",
          "model_module_version": "1.2.0",
          "state": {
            "_model_module": "@jupyter-widgets/base",
            "_model_module_version": "1.2.0",
            "_model_name": "LayoutModel",
            "_view_count": null,
            "_view_module": "@jupyter-widgets/base",
            "_view_module_version": "1.2.0",
            "_view_name": "LayoutView",
            "align_content": null,
            "align_items": null,
            "align_self": null,
            "border": null,
            "bottom": null,
            "display": null,
            "flex": null,
            "flex_flow": null,
            "grid_area": null,
            "grid_auto_columns": null,
            "grid_auto_flow": null,
            "grid_auto_rows": null,
            "grid_column": null,
            "grid_gap": null,
            "grid_row": null,
            "grid_template_areas": null,
            "grid_template_columns": null,
            "grid_template_rows": null,
            "height": null,
            "justify_content": null,
            "justify_items": null,
            "left": null,
            "margin": null,
            "max_height": null,
            "max_width": null,
            "min_height": null,
            "min_width": null,
            "object_fit": null,
            "object_position": null,
            "order": null,
            "overflow": null,
            "overflow_x": null,
            "overflow_y": null,
            "padding": null,
            "right": null,
            "top": null,
            "visibility": null,
            "width": null
          }
        },
        "2e1511ad728f4312a036136956d9dc0b": {
          "model_module": "@jupyter-widgets/controls",
          "model_name": "ProgressStyleModel",
          "model_module_version": "1.5.0",
          "state": {
            "_model_module": "@jupyter-widgets/controls",
            "_model_module_version": "1.5.0",
            "_model_name": "ProgressStyleModel",
            "_view_count": null,
            "_view_module": "@jupyter-widgets/base",
            "_view_module_version": "1.2.0",
            "_view_name": "StyleView",
            "bar_color": null,
            "description_width": ""
          }
        },
        "d48d61c177024744913b4f87f1ab3d7a": {
          "model_module": "@jupyter-widgets/base",
          "model_name": "LayoutModel",
          "model_module_version": "1.2.0",
          "state": {
            "_model_module": "@jupyter-widgets/base",
            "_model_module_version": "1.2.0",
            "_model_name": "LayoutModel",
            "_view_count": null,
            "_view_module": "@jupyter-widgets/base",
            "_view_module_version": "1.2.0",
            "_view_name": "LayoutView",
            "align_content": null,
            "align_items": null,
            "align_self": null,
            "border": null,
            "bottom": null,
            "display": null,
            "flex": null,
            "flex_flow": null,
            "grid_area": null,
            "grid_auto_columns": null,
            "grid_auto_flow": null,
            "grid_auto_rows": null,
            "grid_column": null,
            "grid_gap": null,
            "grid_row": null,
            "grid_template_areas": null,
            "grid_template_columns": null,
            "grid_template_rows": null,
            "height": null,
            "justify_content": null,
            "justify_items": null,
            "left": null,
            "margin": null,
            "max_height": null,
            "max_width": null,
            "min_height": null,
            "min_width": null,
            "object_fit": null,
            "object_position": null,
            "order": null,
            "overflow": null,
            "overflow_x": null,
            "overflow_y": null,
            "padding": null,
            "right": null,
            "top": null,
            "visibility": null,
            "width": null
          }
        },
        "282be74759ca4085bab8b2b850aff7dd": {
          "model_module": "@jupyter-widgets/controls",
          "model_name": "DescriptionStyleModel",
          "model_module_version": "1.5.0",
          "state": {
            "_model_module": "@jupyter-widgets/controls",
            "_model_module_version": "1.5.0",
            "_model_name": "DescriptionStyleModel",
            "_view_count": null,
            "_view_module": "@jupyter-widgets/base",
            "_view_module_version": "1.2.0",
            "_view_name": "StyleView",
            "description_width": ""
          }
        }
      }
    }
  },
  "nbformat": 4,
  "nbformat_minor": 0
}
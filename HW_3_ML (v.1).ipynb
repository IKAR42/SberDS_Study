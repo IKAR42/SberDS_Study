{
 "cells": [
  {
   "cell_type": "code",
   "execution_count": 1,
   "metadata": {
    "collapsed": true
   },
   "outputs": [],
   "source": [
    "import pandas as pd\n",
    "import numpy as np"
   ]
  },
  {
   "cell_type": "code",
   "execution_count": 2,
   "metadata": {
    "collapsed": true
   },
   "outputs": [],
   "source": [
    "# импортированные библиотеки\n",
    "\n",
    "from sklearn.model_selection import train_test_split"
   ]
  },
  {
   "cell_type": "code",
   "execution_count": 105,
   "metadata": {
    "collapsed": true
   },
   "outputs": [],
   "source": [
    "RANDOM_STATE = 42\n",
    "\n",
    "results_regression = pd.DataFrame(columns = ['model', 'task', 'R2'])\n",
    "results_classification = pd.DataFrame(columns = ['model', 'task', 'f1', 'accuracy'])"
   ]
  },
  {
   "cell_type": "markdown",
   "metadata": {},
   "source": [
    "https://www.cs.toronto.edu/~delve/data/boston/bostonDetail.html"
   ]
  },
  {
   "cell_type": "code",
   "execution_count": null,
   "metadata": {},
   "outputs": [],
   "source": [
    "data = pd.read_csv('boston.csv')\n",
    "data.head()"
   ]
  },
  {
   "cell_type": "code",
   "execution_count": null,
   "metadata": {
    "collapsed": true
   },
   "outputs": [],
   "source": []
  },
  {
   "cell_type": "markdown",
   "metadata": {},
   "source": [
    "1. Разделите выборку на обучающую и тестовую в отношении 80%/20%, предварительно выделив целевую переменную (колонка 'MEDV')."
   ]
  },
  {
   "cell_type": "code",
   "execution_count": null,
   "metadata": {
    "collapsed": true
   },
   "outputs": [],
   "source": [
    "x = data.drop('MEDV',axis=1)\n",
    "y = data['MEDV']"
   ]
  },
  {
   "cell_type": "code",
   "execution_count": null,
   "metadata": {},
   "outputs": [],
   "source": [
    "x_train, x_test, y_train, y_test = train_test_split(x, y, test_size=0.2, random_state=42)\n",
    "x_train.shape, x_test.shape, y_train.shape, y_test.shape"
   ]
  },
  {
   "cell_type": "markdown",
   "metadata": {},
   "source": [
    "2. Обучите стандартную регрессию, а также Ridge и  Lasso с параметрами по умолчанию и выведите их R2 на тестовой выборке"
   ]
  },
  {
   "cell_type": "code",
   "execution_count": null,
   "metadata": {
    "collapsed": true
   },
   "outputs": [],
   "source": [
    "#импортнуть библиотеки \n",
    "\n",
    "from sklearn.linear_model import LinearRegression,Ridge, Lasso\n",
    "from sklearn.metrics import mean_squared_error, r2_score"
   ]
  },
  {
   "cell_type": "code",
   "execution_count": null,
   "metadata": {
    "collapsed": true
   },
   "outputs": [],
   "source": []
  },
  {
   "cell_type": "code",
   "execution_count": null,
   "metadata": {},
   "outputs": [],
   "source": [
    "%%time\n",
    "#линейная регрессия\n",
    "LR = LinearRegression()\n",
    "LR.fit(x_train, y_train)\n",
    "\n",
    "y_pred = LR.predict(x_test)\n",
    "r2_lr = r2_score(y_test, y_pred)\n",
    "\n",
    "#Ridge\n",
    "\n",
    "Ridge = Ridge()\n",
    "Ridge.fit(x_train, y_train)\n",
    "\n",
    "y_pred_r = Ridge.predict(x_test)\n",
    "r2_ridge = r2_score(y_test, y_pred_r)\n",
    "\n",
    "#Lasso\n",
    "\n",
    "Lasso = Lasso()\n",
    "Lasso.fit(x_train, y_train)\n",
    "\n",
    "y_pred_l = Lasso.predict(x_test)\n",
    "r2_lasso = r2_score(y_test, y_pred_l)\n",
    "\n",
    "print('r2_lr:', r2_lr)\n",
    "print('r2_ridge:', r2_ridge)\n",
    "print('r2_lasso:', r2_lasso)\n",
    "\n",
    "\n",
    "#r2_lr = 0\n",
    "#r2_ridge = 0\n",
    "#r2_lasso = 0\n",
    "results_regression.loc[0] = ['LR', 'task2', r2_lr]\n",
    "results_regression.loc[1] = ['Ridge', 'task2', r2_ridge]\n",
    "results_regression.loc[2] = ['Lasso', 'task2', r2_lasso]"
   ]
  },
  {
   "cell_type": "markdown",
   "metadata": {},
   "source": [
    "3. Для Ridge и Lasso подберите коэффициент регуляризации двумя способами 1) GridSearchCV, 2) RidgeCV и LassoCV, в пределах от $10^{-5}$ до $10^5$ (по степеням 10). Посчитайте R2 на тестовой выборке по всем моделям и сравните с предыдущими результатами."
   ]
  },
  {
   "cell_type": "code",
   "execution_count": null,
   "metadata": {
    "collapsed": true
   },
   "outputs": [],
   "source": [
    "# Импортировал библиотеки\n",
    "\n",
    "from sklearn.model_selection import GridSearchCV\n",
    "from sklearn.linear_model import RidgeCV\n",
    "from sklearn.linear_model import LassoCV"
   ]
  },
  {
   "cell_type": "code",
   "execution_count": null,
   "metadata": {},
   "outputs": [],
   "source": [
    "# создал массив данных с параметрами для исследовани\n",
    "parametrs = { 'alpha': np.array([10 ** n for n in range(-5, 6)])}\n",
    "parametrs"
   ]
  },
  {
   "cell_type": "code",
   "execution_count": null,
   "metadata": {},
   "outputs": [],
   "source": [
    "np.array([10 ** n for n in range(-5, 6)]).shape"
   ]
  },
  {
   "cell_type": "code",
   "execution_count": null,
   "metadata": {},
   "outputs": [],
   "source": [
    "[10 ** n for n in range(-5, 6)]"
   ]
  },
  {
   "cell_type": "code",
   "execution_count": null,
   "metadata": {},
   "outputs": [],
   "source": [
    "#Ridge_GridSearchCV\n",
    "\n",
    "GS_LR = GridSearchCV(Ridge, parametrs, cv=5)\n",
    "GS_LR.fit(x_train, y_train)\n",
    "y_pred_gs_rl = GS_LR.predict(x_test)\n",
    "r2_ridge_grid_search = r2_score(y_test, y_pred_gs_rl)\n",
    "print('r2_ridge_grid_search:', r2_ridge_grid_search)\n",
    "\n",
    "#Lasso_GridSearchCV\n",
    "\n",
    "GS_L = GridSearchCV(Lasso, parametrs, cv=5)\n",
    "GS_L.fit(x_train, y_train)\n",
    "y_pred_gs_l = GS_L.predict(x_test)\n",
    "r2_lasso_grid_search = r2_score(y_test, y_pred_gs_l)\n",
    "print('r2_lasso_grid_search:', r2_lasso_grid_search)\n",
    "\n",
    "#RidgeCV\n",
    "\n",
    "RCV = RidgeCV(alphas = [1e-05, 0.0001, 0.001, 0.01, 0.1, 1, 10, 100, 1000, 10000, 100000]).fit(x, y)\n",
    "y_pred_rcv = RCV.predict(x_test)\n",
    "r2_ridge_cv = r2_score(y_test, y_pred_rcv)\n",
    "print('r2_ridge_cv:', r2_ridge_cv)\n",
    "\n",
    "#LassoCV\n",
    "\n",
    "LCV = LassoCV(cv=5, random_state=42).fit(x, y)\n",
    "y_pred_lcv = LCV.predict(x_test)\n",
    "r2_lasso_cv = r2_score(y_test, y_pred_lcv)\n",
    "print('r2_lasso_cv:', r2_lasso_cv)\n",
    "\n",
    "\n",
    "#r2_ridge_grid_search = 0\n",
    "#r2_ridge_cv = 0\n",
    "#r2_lasso_grid_search = 0\n",
    "#r2_lasso_cv = 0\n",
    "results_regression.loc[3] = ['Ridge_GridSearchCV', 'task3', r2_ridge_grid_search]\n",
    "results_regression.loc[4] = ['RidgeCV', 'task3', r2_ridge_cv]\n",
    "results_regression.loc[5] = ['Lasso_GridSearchCV', 'task3', r2_lasso_grid_search]\n",
    "results_regression.loc[6] = ['LassoCV', 'task3', r2_lasso_cv]"
   ]
  },
  {
   "cell_type": "code",
   "execution_count": null,
   "metadata": {},
   "outputs": [],
   "source": [
    "# заметка для меня на будущее - узнать лучшие параметры через gridsearch\n",
    "GS_LR.best_params_"
   ]
  },
  {
   "cell_type": "markdown",
   "metadata": {},
   "source": [
    "4. Проведите масштабирование выборки (используйте Pipeline, StandardScaler, MinMaxScaler), посчитайте R2 для Ridge и Lasso с параметрами по умолчанию и сравните с предыдущими результатами."
   ]
  },
  {
   "cell_type": "code",
   "execution_count": null,
   "metadata": {
    "collapsed": true
   },
   "outputs": [],
   "source": [
    "from sklearn.preprocessing import StandardScaler\n",
    "from sklearn.preprocessing import MinMaxScaler"
   ]
  },
  {
   "cell_type": "code",
   "execution_count": null,
   "metadata": {
    "collapsed": true
   },
   "outputs": [],
   "source": [
    "# StandardScaler\n",
    "\n",
    "scaler = StandardScaler()\n",
    "x_train_scaled = scaler.fit_transform(x_train)\n",
    "x_test_scaled = scaler.transform(x_test)"
   ]
  },
  {
   "cell_type": "code",
   "execution_count": null,
   "metadata": {
    "collapsed": true
   },
   "outputs": [],
   "source": [
    "# MinMaxScaler\n",
    "\n",
    "min_max_scaler = MinMaxScaler()\n",
    "x_train_scaled_m = min_max_scaler.fit_transform(x_train)\n",
    "x_test_scaled_m = min_max_scaler.transform(x_test)"
   ]
  },
  {
   "cell_type": "code",
   "execution_count": null,
   "metadata": {},
   "outputs": [],
   "source": [
    "#Ridge StandardScaler\n",
    "\n",
    "Ridge_1 = Ridge()\n",
    "Ridge_1.fit(x_train_scaled, y_train)\n",
    "\n",
    "y_pred_r_1 = Ridge_1.predict(x_test_scaled)\n",
    "r2_ridge_standart_scaler = r2_score(y_test, y_pred_r_1)\n",
    "print('r2_ridge_standart_scaler:', r2_ridge_standart_scaler)\n",
    "\n",
    "#Lasso StandardScaler\n",
    "\n",
    "Lasso_1 = Lasso()\n",
    "Lasso_1.fit(x_train_scaled, y_train)\n",
    "\n",
    "y_pred_l_1 = Lasso_1.predict(x_test_scaled)\n",
    "r2_lasso_standart_scaler = r2_score(y_test, y_pred_l_1)\n",
    "print('r2_lasso_standart_scaler:', r2_lasso_standart_scaler)\n",
    "\n",
    "#Ridge MinMaxScaler\n",
    "\n",
    "Ridge_MinMaxScaler = Ridge()\n",
    "Ridge_MinMaxScaler.fit(x_train_scaled_m, y_train)\n",
    "\n",
    "y_pred_r_MinMaxScaler = Ridge_MinMaxScaler.predict(x_test_scaled_m)\n",
    "r2_ridge_min_max_scaler = r2_score(y_test, y_pred_r_MinMaxScaler)\n",
    "print('r2_ridge_min_max_scaler:', r2_ridge_min_max_scaler)\n",
    "\n",
    "#Lasso MinMaxScaler\n",
    "\n",
    "Lasso_MinMaxScaler = Lasso()\n",
    "Lasso_MinMaxScaler.fit(x_train_scaled_m, y_train)\n",
    "\n",
    "y_pred_l_MinMaxScaler = Lasso_MinMaxScaler.predict(x_test_scaled_m)\n",
    "r2_lasso_min_max_scaler = r2_score(y_test, y_pred_l_MinMaxScaler)\n",
    "print('r2_lasso_min_max_scaler:', r2_lasso_min_max_scaler)\n",
    "\n",
    "\n",
    "\n",
    "#r2_ridge_standart_scaler = 0\n",
    "#r2_ridge_min_max_scaler = 0\n",
    "#r2_lasso_standart_scaler = 0\n",
    "#r2_lasso_min_max_scaler = 0\n",
    "results_regression.loc[7] = ['Ridge_StandardScaler', 'task4', r2_ridge_standart_scaler]\n",
    "results_regression.loc[8] = ['Ridge_MinMaxScaler', 'task4', r2_ridge_min_max_scaler]\n",
    "results_regression.loc[9] = ['Lasso_StandardScaler', 'task4', r2_lasso_standart_scaler]\n",
    "results_regression.loc[10] = ['Lasso_MinMaxScaler', 'task4', r2_lasso_min_max_scaler]"
   ]
  },
  {
   "cell_type": "markdown",
   "metadata": {},
   "source": [
    "5. Подберите коэффициент регуляризации для Ridge и Lasso на масштабированных данных, посчитайте R2 и сравните с предыдущими результатами."
   ]
  },
  {
   "cell_type": "code",
   "execution_count": null,
   "metadata": {
    "collapsed": true
   },
   "outputs": [],
   "source": [
    "# StandardScaler подготовка данных\n",
    "\n",
    "scaler = StandardScaler()\n",
    "x_train_scaled = scaler.fit_transform(x_train)\n",
    "x_test_scaled = scaler.transform(x_test)\n",
    "\n",
    "# MinMaxScaler подготовка данных\n",
    "\n",
    "min_max_scaler = MinMaxScaler()\n",
    "x_train_scaled_m = min_max_scaler.fit_transform(x_train)\n",
    "x_test_scaled_m = min_max_scaler.transform(x_test)"
   ]
  },
  {
   "cell_type": "code",
   "execution_count": null,
   "metadata": {},
   "outputs": [],
   "source": [
    "# Ridge_StandardScaler_CV\n",
    "\n",
    "R_SS_CV = RidgeCV(alphas = [1e-05, 0.0001, 0.001, 0.01, 0.1, 1, 10, 100, 1000, 10000, 100000]).fit(x_train_scaled, y_train)\n",
    "y_pred_r_ss_cv = R_SS_CV.predict(x_test_scaled)\n",
    "r2_ridge_standart_scaler_cv = r2_score(y_test, y_pred_r_ss_cv)\n",
    "print('r2_ridge_standart_scaler_cv:', r2_ridge_standart_scaler_cv)\n",
    "\n",
    "# Ridge_MinMaxScaler_CV\n",
    "\n",
    "R_MM_CV = RidgeCV(alphas = [1e-05, 0.0001, 0.001, 0.01, 0.1, 1, 10, 100, 1000, 10000, 100000]).fit(x_train_scaled_m, y_train)\n",
    "y_pred_r_mm_cv = R_MM_CV.predict(x_test_scaled_m)\n",
    "r2_ridge_min_max_scaler_cv = r2_score(y_test, y_pred_r_mm_cv)\n",
    "print('r2_ridge_min_max_scaler_cv:', r2_ridge_min_max_scaler_cv)\n",
    "\n",
    "# Lasso_StandardScaler_CV\n",
    "\n",
    "L_SS_CV = LassoCV(cv=5, random_state=42).fit(x_train_scaled, y_train)\n",
    "y_pred_l_ss_cv = L_SS_CV.predict(x_test_scaled)\n",
    "r2_lasso_standart_scaler_cv = r2_score(y_test, y_pred_l_ss_cv)\n",
    "print('r2_lasso_standart_scaler_cv:', r2_lasso_standart_scaler_cv)\n",
    "\n",
    "# Lasso_MinMaxScaler_CV\n",
    "\n",
    "L_MM_CV = LassoCV(cv=5, random_state=42).fit(x_train_scaled_m, y_train)\n",
    "y_pred_l_mm_cv = L_MM_CV.predict(x_test_scaled_m)\n",
    "r2_lasso_min_max_scaler_cv = r2_score(y_test, y_pred_l_mm_cv)\n",
    "print('r2_lasso_min_max_scaler_cv:', r2_lasso_min_max_scaler_cv)\n",
    "\n",
    "\n",
    "#r2_ridge_standart_scaler_cv = 0\n",
    "#r2_ridge_min_max_scaler_cv = 0\n",
    "#r2_lasso_standart_scaler_cv = 0\n",
    "#r2_lasso_min_max_scaler_cv = 0\n",
    "results_regression.loc[11] = ['Ridge_StandardScaler_CV', 'task5', r2_ridge_standart_scaler_cv]\n",
    "results_regression.loc[12] = ['Ridge_MinMaxScaler_CV', 'task5', r2_ridge_min_max_scaler_cv]\n",
    "results_regression.loc[13] = ['Lasso_StandardScaler_CV', 'task5', r2_lasso_standart_scaler_cv]\n",
    "results_regression.loc[14] = ['Lasso_MinMaxScaler_CV', 'task5', r2_lasso_min_max_scaler_cv]"
   ]
  },
  {
   "cell_type": "code",
   "execution_count": null,
   "metadata": {},
   "outputs": [],
   "source": [
    "#Сравним результаты расчетов с обычным дата сетом и масштабированным\n",
    "\n",
    "print('r2_ridge_standart_scaler:', r2_ridge_standart_scaler)\n",
    "print('r2_ridge_standart_scaler_cv:', r2_ridge_standart_scaler_cv)\n",
    "print('-------')\n",
    "print('r2_lasso_standart_scaler:', r2_lasso_standart_scaler)\n",
    "print('r2_lasso_standart_scaler_cv:', r2_lasso_standart_scaler_cv)\n",
    "print('-------')\n",
    "print('r2_ridge_min_max_scaler:', r2_ridge_min_max_scaler)\n",
    "print('r2_ridge_min_max_scaler_cv:', r2_ridge_min_max_scaler_cv)\n",
    "print('-------')\n",
    "print('r2_lasso_min_max_scaler:', r2_lasso_min_max_scaler)\n",
    "print('r2_lasso_min_max_scaler_cv:', r2_lasso_min_max_scaler_cv)"
   ]
  },
  {
   "cell_type": "markdown",
   "metadata": {},
   "source": [
    "6. Добавьте попарные произведения признаков и их квадраты (используйте PolynomialFeatures) на масштабированных признаках, посчитайте R2 для Ridge и Lasso с параметрами по умолчанию и сравните с предыдущими результатами."
   ]
  },
  {
   "cell_type": "code",
   "execution_count": null,
   "metadata": {
    "collapsed": true
   },
   "outputs": [],
   "source": [
    "from sklearn.preprocessing import PolynomialFeatures"
   ]
  },
  {
   "cell_type": "code",
   "execution_count": null,
   "metadata": {
    "collapsed": true
   },
   "outputs": [],
   "source": [
    "# StandardScaler подготовка данных\n",
    "\n",
    "scaler = StandardScaler()\n",
    "x_train_scaled = scaler.fit_transform(x_train)\n",
    "x_test_scaled = scaler.transform(x_test)\n",
    "\n",
    "# MinMaxScaler подготовка данных\n",
    "\n",
    "min_max_scaler = MinMaxScaler()\n",
    "x_train_scaled_m = min_max_scaler.fit_transform(x_train)\n",
    "x_test_scaled_m = min_max_scaler.transform(x_test)"
   ]
  },
  {
   "cell_type": "code",
   "execution_count": null,
   "metadata": {
    "collapsed": true
   },
   "outputs": [],
   "source": [
    "# Прогоняем через Polynomial\n",
    "\n",
    "poly = PolynomialFeatures(2)\n",
    "\n",
    "x_train_sscaled_poly = poly.fit_transform(x_train_scaled)\n",
    "x_test_sscaled_poly = poly.fit_transform(x_test_scaled)\n",
    "\n",
    "x_train_sscaled_m_poly = poly.fit_transform(x_train_scaled_m)\n",
    "x_test_sscaled_m_poly = poly.fit_transform(x_test_scaled_m)"
   ]
  },
  {
   "cell_type": "code",
   "execution_count": null,
   "metadata": {},
   "outputs": [],
   "source": [
    "# r2_ridge_standart_scaler_poly\n",
    "\n",
    "Ridge_2 = Ridge()\n",
    "Ridge_2.fit(x_train_sscaled_poly, y_train)\n",
    "\n",
    "y_pred_r_2 = Ridge_2.predict(x_test_sscaled_poly)\n",
    "r2_ridge_standart_scaler_poly = r2_score(y_test, y_pred_r_2)\n",
    "print('r2_ridge_standart_scaler_poly:', r2_ridge_standart_scaler_poly)\n",
    "\n",
    "# r2_ridge_min_max_scaler_poly\n",
    "\n",
    "Ridge_MinMaxScaler_2 = Ridge()\n",
    "Ridge_MinMaxScaler_2.fit(x_train_sscaled_m_poly, y_train)\n",
    "\n",
    "y_pred_r_MinMaxScaler_2 = Ridge_MinMaxScaler_2.predict(x_test_sscaled_m_poly)\n",
    "r2_ridge_min_max_scaler_poly = r2_score(y_test, y_pred_r_MinMaxScaler_2)\n",
    "print('r2_ridge_min_max_scaler_poly:', r2_ridge_min_max_scaler_poly)\n",
    "\n",
    "# r2_lasso_standart_scaler_poly\n",
    "\n",
    "Lasso_3 = Lasso()\n",
    "Lasso_3.fit(x_train_sscaled_poly, y_train)\n",
    "\n",
    "y_pred_l_3 = Lasso_3.predict(x_test_sscaled_poly)\n",
    "r2_lasso_standart_scaler_poly = r2_score(y_test, y_pred_l_3)\n",
    "print('r2_lasso_standart_scaler_poly:', r2_lasso_standart_scaler_poly)\n",
    "\n",
    "# r2_lasso_min_max_scaler_poly\n",
    "\n",
    "Lasso_MinMaxScaler_3 = Lasso()\n",
    "Lasso_MinMaxScaler_3.fit(x_train_sscaled_m_poly, y_train)\n",
    "\n",
    "y_pred_l_MinMaxScaler_3 = Lasso_MinMaxScaler_3.predict(x_test_sscaled_m_poly)\n",
    "r2_lasso_min_max_scaler_poly = r2_score(y_test, y_pred_l_MinMaxScaler_3)\n",
    "print('r2_lasso_min_max_scaler_poly:', r2_lasso_min_max_scaler_poly)\n",
    "\n",
    "\n",
    "#r2_ridge_standart_scaler_poly = 0\n",
    "#r2_ridge_min_max_scaler_poly = 0\n",
    "#r2_lasso_standart_scaler_poly = 0\n",
    "#r2_lasso_min_max_scaler_poly = 0\n",
    "results_regression.loc[15] = ['Ridge_StandardScaler_Poly', 'task6', r2_ridge_standart_scaler_poly]\n",
    "results_regression.loc[16] = ['Ridge_MinMaxScaler_Poly', 'task6', r2_ridge_min_max_scaler_poly]\n",
    "results_regression.loc[17] = ['Lasso_StandardScaler_Poly', 'task6', r2_lasso_standart_scaler_poly]\n",
    "results_regression.loc[18] = ['Lasso_MinMaxScaler_Poly', 'task6', r2_lasso_min_max_scaler_poly]"
   ]
  },
  {
   "cell_type": "markdown",
   "metadata": {},
   "source": [
    "7. Подберите коэффициент регуляризации для Ridge и Lasso на масштабированных данных, добавив PolynomialFeatures, посчитайте R2 и сравните с предыдущими результатами."
   ]
  },
  {
   "cell_type": "code",
   "execution_count": null,
   "metadata": {
    "collapsed": true
   },
   "outputs": [],
   "source": [
    "# Прогоняем через Polynomial\n",
    "\n",
    "poly = PolynomialFeatures(2)\n",
    "\n",
    "x_train_sscaled_poly = poly.fit_transform(x_train_scaled)\n",
    "x_test_sscaled_poly = poly.fit_transform(x_test_scaled)\n",
    "\n",
    "x_train_sscaled_m_poly = poly.fit_transform(x_train_scaled_m)\n",
    "x_test_sscaled_m_poly = poly.fit_transform(x_test_scaled_m)"
   ]
  },
  {
   "cell_type": "code",
   "execution_count": null,
   "metadata": {},
   "outputs": [],
   "source": [
    "# r2_ridge_standart_scaler_poly_cv\n",
    "\n",
    "R_SS_CV_poly = RidgeCV(alphas = [1e-05, 0.0001, 0.001, 0.01, 0.1, 1, 10, 100, 1000, 10000, 100000]).fit(x_train_sscaled_poly, y_train)\n",
    "y_pred_r_ss_cv_poly = R_SS_CV_poly.predict(x_test_sscaled_poly)\n",
    "r2_ridge_standart_scaler_poly_cv = r2_score(y_test, y_pred_r_ss_cv_poly)\n",
    "print('r2_ridge_standart_scaler_poly_cv:', r2_ridge_standart_scaler_poly_cv)\n",
    "\n",
    "# r2_ridge_min_max_scaler_poly_cv\n",
    "\n",
    "R_MM_CV_poly = RidgeCV(alphas = [1e-05, 0.0001, 0.001, 0.01, 0.1, 1, 10, 100, 1000, 10000, 100000]).fit(x_train_sscaled_m_poly, y_train)\n",
    "y_pred_r_mm_cv_poly = R_MM_CV_poly.predict(x_test_sscaled_m_poly)\n",
    "r2_ridge_min_max_scaler_poly_cv = r2_score(y_test, y_pred_r_mm_cv_poly)\n",
    "print('r2_ridge_min_max_scaler_poly_cv:', r2_ridge_min_max_scaler_poly_cv)\n",
    "\n",
    "\n",
    "# r2_lasso_standart_scaler_poly_cv\n",
    "\n",
    "L_SS_CV_poly = LassoCV(cv=5, random_state=42).fit(x_train_sscaled_poly, y_train)\n",
    "y_pred_l_ss_cv_poly = L_SS_CV_poly.predict(x_test_sscaled_poly)\n",
    "r2_lasso_standart_scaler_poly_cv = r2_score(y_test, y_pred_l_ss_cv_poly)\n",
    "print('r2_lasso_standart_scaler_poly_cv:', r2_lasso_standart_scaler_poly_cv)\n",
    "\n",
    "\n",
    "# r2_lasso_min_max_scaler_poly_cv \n",
    "\n",
    "L_MM_CV_poly = LassoCV(cv=5, random_state=42).fit(x_train_sscaled_m_poly, y_train)\n",
    "y_pred_l_mm_cv_poly = L_MM_CV_poly.predict(x_test_sscaled_m_poly)\n",
    "r2_lasso_min_max_scaler_poly_cv = r2_score(y_test, y_pred_l_mm_cv_poly)\n",
    "print('r2_lasso_min_max_scaler_poly_cv:', r2_lasso_min_max_scaler_poly_cv)\n",
    "\n",
    "\n",
    "#r2_ridge_standart_scaler_poly_cv = 0\n",
    "#r2_ridge_min_max_scaler_poly_cv = 0\n",
    "#r2_lasso_standart_scaler_poly_cv = 0\n",
    "#r2_lasso_min_max_scaler_poly_cv = 0\n",
    "results_regression.loc[19] = ['Ridge_StandardScaler_Poly_CV', 'task7', r2_ridge_standart_scaler_poly_cv]\n",
    "results_regression.loc[20] = ['Ridge_MinMaxScaler_Poly_CV', 'task7', r2_ridge_min_max_scaler_poly_cv]\n",
    "results_regression.loc[21] = ['Lasso_StandardScaler_Poly_CV', 'task7', r2_lasso_standart_scaler_poly_cv]\n",
    "results_regression.loc[22] = ['Lasso_MinMaxScaler_Poly_CV', 'task7', r2_lasso_min_max_scaler_poly_cv]"
   ]
  },
  {
   "cell_type": "markdown",
   "metadata": {},
   "source": [
    "8. Подберите наилучшую модель (используйте Pipeline, GridSearchCV) подбирая тип регуляризации (L1,L2), коэффициент регуляризации, метод масштабирования и степень полинома в PolynomialFeatures. Выведите итоговые параметры и результат R2."
   ]
  },
  {
   "cell_type": "code",
   "execution_count": null,
   "metadata": {
    "collapsed": true
   },
   "outputs": [],
   "source": [
    "#Ridge_MinMaxScaler_Poly_CV"
   ]
  },
  {
   "cell_type": "code",
   "execution_count": null,
   "metadata": {},
   "outputs": [],
   "source": [
    "parametrs = {\n",
    "    \"alphas\": [1e-05, 0.0001, 0.001, 0.01, 0.1, 1, 10, 100, 1000, 10000, 100000],\n",
    "    #\"max_iter\": [1, 5, 20, 100, 1000],\n",
    "    #\"polynomial\": [1, 2, 3],\n",
    "    #\"solver\": ['auto', \"svd\", 'cholesky', 'lsqr', \"sparse_cg\", \"sag\", 'saga', \"lbfgs\"],\n",
    "}"
   ]
  },
  {
   "cell_type": "code",
   "execution_count": null,
   "metadata": {},
   "outputs": [],
   "source": [
    "R_MM_CV_poly_best = GridSearchCV(R_MM_CV_poly, parametrs, cv=3)\n",
    "R_MM_CV_poly_best.fit(x_train, y_train)\n",
    "y_pred_b_rl = Ridge_MinMaxScaler_Poly_CV_best.predict(x_test)\n",
    "r2_best_model = r2_score(y_test, y_pred_b_rl)\n",
    "print('r2_best_model:', r2_best_model)"
   ]
  },
  {
   "cell_type": "code",
   "execution_count": null,
   "metadata": {
    "collapsed": true
   },
   "outputs": [],
   "source": []
  },
  {
   "cell_type": "code",
   "execution_count": null,
   "metadata": {},
   "outputs": [],
   "source": [
    "# r2_best_model\n",
    "\n",
    "\n",
    "### Ваш код ###\n",
    "\n",
    "best_params = {}\n",
    "print('Параметры лучшей модели:\\n', best_params)\n",
    "r2_best_model = 0\n",
    "results_regression.loc[23] = ['Best_Model', 'task8', r2_best_model]"
   ]
  },
  {
   "cell_type": "code",
   "execution_count": null,
   "metadata": {
    "collapsed": true
   },
   "outputs": [],
   "source": []
  },
  {
   "cell_type": "code",
   "execution_count": null,
   "metadata": {},
   "outputs": [],
   "source": [
    "results_regression.sort_values(by='R2', ascending = False). head(1)"
   ]
  },
  {
   "cell_type": "code",
   "execution_count": null,
   "metadata": {
    "collapsed": true
   },
   "outputs": [],
   "source": []
  },
  {
   "cell_type": "markdown",
   "metadata": {},
   "source": [
    "http://archive.ics.uci.edu/ml/datasets/Adult"
   ]
  },
  {
   "cell_type": "code",
   "execution_count": 3,
   "metadata": {},
   "outputs": [
    {
     "data": {
      "text/html": [
       "<div>\n",
       "<style>\n",
       "    .dataframe thead tr:only-child th {\n",
       "        text-align: right;\n",
       "    }\n",
       "\n",
       "    .dataframe thead th {\n",
       "        text-align: left;\n",
       "    }\n",
       "\n",
       "    .dataframe tbody tr th {\n",
       "        vertical-align: top;\n",
       "    }\n",
       "</style>\n",
       "<table border=\"1\" class=\"dataframe\">\n",
       "  <thead>\n",
       "    <tr style=\"text-align: right;\">\n",
       "      <th></th>\n",
       "      <th>age</th>\n",
       "      <th>workclass</th>\n",
       "      <th>fnlwgt</th>\n",
       "      <th>education</th>\n",
       "      <th>education-num</th>\n",
       "      <th>marital-status</th>\n",
       "      <th>occupation</th>\n",
       "      <th>relationship</th>\n",
       "      <th>race</th>\n",
       "      <th>sex</th>\n",
       "      <th>capital-gain</th>\n",
       "      <th>capital-loss</th>\n",
       "      <th>hours-per-week</th>\n",
       "      <th>native-country</th>\n",
       "      <th>class</th>\n",
       "    </tr>\n",
       "  </thead>\n",
       "  <tbody>\n",
       "    <tr>\n",
       "      <th>0</th>\n",
       "      <td>39</td>\n",
       "      <td>State-gov</td>\n",
       "      <td>77516</td>\n",
       "      <td>Bachelors</td>\n",
       "      <td>13</td>\n",
       "      <td>Never-married</td>\n",
       "      <td>Adm-clerical</td>\n",
       "      <td>Not-in-family</td>\n",
       "      <td>White</td>\n",
       "      <td>Male</td>\n",
       "      <td>2174</td>\n",
       "      <td>0</td>\n",
       "      <td>40</td>\n",
       "      <td>United-States</td>\n",
       "      <td>&lt;=50K</td>\n",
       "    </tr>\n",
       "    <tr>\n",
       "      <th>1</th>\n",
       "      <td>50</td>\n",
       "      <td>Self-emp-not-inc</td>\n",
       "      <td>83311</td>\n",
       "      <td>Bachelors</td>\n",
       "      <td>13</td>\n",
       "      <td>Married-civ-spouse</td>\n",
       "      <td>Exec-managerial</td>\n",
       "      <td>Husband</td>\n",
       "      <td>White</td>\n",
       "      <td>Male</td>\n",
       "      <td>0</td>\n",
       "      <td>0</td>\n",
       "      <td>13</td>\n",
       "      <td>United-States</td>\n",
       "      <td>&lt;=50K</td>\n",
       "    </tr>\n",
       "    <tr>\n",
       "      <th>2</th>\n",
       "      <td>38</td>\n",
       "      <td>Private</td>\n",
       "      <td>215646</td>\n",
       "      <td>HS-grad</td>\n",
       "      <td>9</td>\n",
       "      <td>Divorced</td>\n",
       "      <td>Handlers-cleaners</td>\n",
       "      <td>Not-in-family</td>\n",
       "      <td>White</td>\n",
       "      <td>Male</td>\n",
       "      <td>0</td>\n",
       "      <td>0</td>\n",
       "      <td>40</td>\n",
       "      <td>United-States</td>\n",
       "      <td>&lt;=50K</td>\n",
       "    </tr>\n",
       "    <tr>\n",
       "      <th>3</th>\n",
       "      <td>53</td>\n",
       "      <td>Private</td>\n",
       "      <td>234721</td>\n",
       "      <td>11th</td>\n",
       "      <td>7</td>\n",
       "      <td>Married-civ-spouse</td>\n",
       "      <td>Handlers-cleaners</td>\n",
       "      <td>Husband</td>\n",
       "      <td>Black</td>\n",
       "      <td>Male</td>\n",
       "      <td>0</td>\n",
       "      <td>0</td>\n",
       "      <td>40</td>\n",
       "      <td>United-States</td>\n",
       "      <td>&lt;=50K</td>\n",
       "    </tr>\n",
       "    <tr>\n",
       "      <th>4</th>\n",
       "      <td>28</td>\n",
       "      <td>Private</td>\n",
       "      <td>338409</td>\n",
       "      <td>Bachelors</td>\n",
       "      <td>13</td>\n",
       "      <td>Married-civ-spouse</td>\n",
       "      <td>Prof-specialty</td>\n",
       "      <td>Wife</td>\n",
       "      <td>Black</td>\n",
       "      <td>Female</td>\n",
       "      <td>0</td>\n",
       "      <td>0</td>\n",
       "      <td>40</td>\n",
       "      <td>Cuba</td>\n",
       "      <td>&lt;=50K</td>\n",
       "    </tr>\n",
       "  </tbody>\n",
       "</table>\n",
       "</div>"
      ],
      "text/plain": [
       "   age         workclass  fnlwgt  education  education-num  \\\n",
       "0   39         State-gov   77516  Bachelors             13   \n",
       "1   50  Self-emp-not-inc   83311  Bachelors             13   \n",
       "2   38           Private  215646    HS-grad              9   \n",
       "3   53           Private  234721       11th              7   \n",
       "4   28           Private  338409  Bachelors             13   \n",
       "\n",
       "       marital-status         occupation   relationship   race     sex  \\\n",
       "0       Never-married       Adm-clerical  Not-in-family  White    Male   \n",
       "1  Married-civ-spouse    Exec-managerial        Husband  White    Male   \n",
       "2            Divorced  Handlers-cleaners  Not-in-family  White    Male   \n",
       "3  Married-civ-spouse  Handlers-cleaners        Husband  Black    Male   \n",
       "4  Married-civ-spouse     Prof-specialty           Wife  Black  Female   \n",
       "\n",
       "   capital-gain  capital-loss  hours-per-week native-country  class  \n",
       "0          2174             0              40  United-States  <=50K  \n",
       "1             0             0              13  United-States  <=50K  \n",
       "2             0             0              40  United-States  <=50K  \n",
       "3             0             0              40  United-States  <=50K  \n",
       "4             0             0              40           Cuba  <=50K  "
      ]
     },
     "execution_count": 3,
     "metadata": {},
     "output_type": "execute_result"
    }
   ],
   "source": [
    "data_1 = pd.read_csv('adult.csv')\n",
    "data_1.head()"
   ]
  },
  {
   "cell_type": "markdown",
   "metadata": {},
   "source": [
    "9. Разделите выборку на признаки и целевую переменную(колонка class). Замените целевую переменную на числовые значения ('<=50K' - 1, '>50K' - 0)."
   ]
  },
  {
   "cell_type": "code",
   "execution_count": 4,
   "metadata": {},
   "outputs": [
    {
     "data": {
      "text/html": [
       "<div>\n",
       "<style>\n",
       "    .dataframe thead tr:only-child th {\n",
       "        text-align: right;\n",
       "    }\n",
       "\n",
       "    .dataframe thead th {\n",
       "        text-align: left;\n",
       "    }\n",
       "\n",
       "    .dataframe tbody tr th {\n",
       "        vertical-align: top;\n",
       "    }\n",
       "</style>\n",
       "<table border=\"1\" class=\"dataframe\">\n",
       "  <thead>\n",
       "    <tr style=\"text-align: right;\">\n",
       "      <th></th>\n",
       "      <th>age</th>\n",
       "      <th>workclass</th>\n",
       "      <th>fnlwgt</th>\n",
       "      <th>education</th>\n",
       "      <th>education-num</th>\n",
       "      <th>marital-status</th>\n",
       "      <th>occupation</th>\n",
       "      <th>relationship</th>\n",
       "      <th>race</th>\n",
       "      <th>sex</th>\n",
       "      <th>capital-gain</th>\n",
       "      <th>capital-loss</th>\n",
       "      <th>hours-per-week</th>\n",
       "      <th>native-country</th>\n",
       "      <th>class</th>\n",
       "    </tr>\n",
       "  </thead>\n",
       "  <tbody>\n",
       "    <tr>\n",
       "      <th>0</th>\n",
       "      <td>39</td>\n",
       "      <td>State-gov</td>\n",
       "      <td>77516</td>\n",
       "      <td>Bachelors</td>\n",
       "      <td>13</td>\n",
       "      <td>Never-married</td>\n",
       "      <td>Adm-clerical</td>\n",
       "      <td>Not-in-family</td>\n",
       "      <td>White</td>\n",
       "      <td>Male</td>\n",
       "      <td>2174</td>\n",
       "      <td>0</td>\n",
       "      <td>40</td>\n",
       "      <td>United-States</td>\n",
       "      <td>1</td>\n",
       "    </tr>\n",
       "    <tr>\n",
       "      <th>1</th>\n",
       "      <td>50</td>\n",
       "      <td>Self-emp-not-inc</td>\n",
       "      <td>83311</td>\n",
       "      <td>Bachelors</td>\n",
       "      <td>13</td>\n",
       "      <td>Married-civ-spouse</td>\n",
       "      <td>Exec-managerial</td>\n",
       "      <td>Husband</td>\n",
       "      <td>White</td>\n",
       "      <td>Male</td>\n",
       "      <td>0</td>\n",
       "      <td>0</td>\n",
       "      <td>13</td>\n",
       "      <td>United-States</td>\n",
       "      <td>1</td>\n",
       "    </tr>\n",
       "    <tr>\n",
       "      <th>2</th>\n",
       "      <td>38</td>\n",
       "      <td>Private</td>\n",
       "      <td>215646</td>\n",
       "      <td>HS-grad</td>\n",
       "      <td>9</td>\n",
       "      <td>Divorced</td>\n",
       "      <td>Handlers-cleaners</td>\n",
       "      <td>Not-in-family</td>\n",
       "      <td>White</td>\n",
       "      <td>Male</td>\n",
       "      <td>0</td>\n",
       "      <td>0</td>\n",
       "      <td>40</td>\n",
       "      <td>United-States</td>\n",
       "      <td>1</td>\n",
       "    </tr>\n",
       "    <tr>\n",
       "      <th>3</th>\n",
       "      <td>53</td>\n",
       "      <td>Private</td>\n",
       "      <td>234721</td>\n",
       "      <td>11th</td>\n",
       "      <td>7</td>\n",
       "      <td>Married-civ-spouse</td>\n",
       "      <td>Handlers-cleaners</td>\n",
       "      <td>Husband</td>\n",
       "      <td>Black</td>\n",
       "      <td>Male</td>\n",
       "      <td>0</td>\n",
       "      <td>0</td>\n",
       "      <td>40</td>\n",
       "      <td>United-States</td>\n",
       "      <td>1</td>\n",
       "    </tr>\n",
       "    <tr>\n",
       "      <th>4</th>\n",
       "      <td>28</td>\n",
       "      <td>Private</td>\n",
       "      <td>338409</td>\n",
       "      <td>Bachelors</td>\n",
       "      <td>13</td>\n",
       "      <td>Married-civ-spouse</td>\n",
       "      <td>Prof-specialty</td>\n",
       "      <td>Wife</td>\n",
       "      <td>Black</td>\n",
       "      <td>Female</td>\n",
       "      <td>0</td>\n",
       "      <td>0</td>\n",
       "      <td>40</td>\n",
       "      <td>Cuba</td>\n",
       "      <td>1</td>\n",
       "    </tr>\n",
       "  </tbody>\n",
       "</table>\n",
       "</div>"
      ],
      "text/plain": [
       "   age         workclass  fnlwgt  education  education-num  \\\n",
       "0   39         State-gov   77516  Bachelors             13   \n",
       "1   50  Self-emp-not-inc   83311  Bachelors             13   \n",
       "2   38           Private  215646    HS-grad              9   \n",
       "3   53           Private  234721       11th              7   \n",
       "4   28           Private  338409  Bachelors             13   \n",
       "\n",
       "       marital-status         occupation   relationship   race     sex  \\\n",
       "0       Never-married       Adm-clerical  Not-in-family  White    Male   \n",
       "1  Married-civ-spouse    Exec-managerial        Husband  White    Male   \n",
       "2            Divorced  Handlers-cleaners  Not-in-family  White    Male   \n",
       "3  Married-civ-spouse  Handlers-cleaners        Husband  Black    Male   \n",
       "4  Married-civ-spouse     Prof-specialty           Wife  Black  Female   \n",
       "\n",
       "   capital-gain  capital-loss  hours-per-week native-country class  \n",
       "0          2174             0              40  United-States     1  \n",
       "1             0             0              13  United-States     1  \n",
       "2             0             0              40  United-States     1  \n",
       "3             0             0              40  United-States     1  \n",
       "4             0             0              40           Cuba     1  "
      ]
     },
     "execution_count": 4,
     "metadata": {},
     "output_type": "execute_result"
    }
   ],
   "source": [
    "data_1.loc[data_1[\"class\"] == \"<=50K\", \"class\"] = 1\n",
    "data_1.loc[data_1[\"class\"] == \">50K\", \"class\"] = 0\n",
    "data_1.head(5)\n"
   ]
  },
  {
   "cell_type": "code",
   "execution_count": 5,
   "metadata": {},
   "outputs": [],
   "source": [
    "data_1[\"class\"] = pd.to_numeric(data_1[\"class\"])"
   ]
  },
  {
   "cell_type": "code",
   "execution_count": 6,
   "metadata": {},
   "outputs": [
    {
     "name": "stdout",
     "output_type": "stream",
     "text": [
      "<class 'pandas.core.frame.DataFrame'>\n",
      "RangeIndex: 48842 entries, 0 to 48841\n",
      "Data columns (total 15 columns):\n",
      "age               48842 non-null int64\n",
      "workclass         48842 non-null object\n",
      "fnlwgt            48842 non-null int64\n",
      "education         48842 non-null object\n",
      "education-num     48842 non-null int64\n",
      "marital-status    48842 non-null object\n",
      "occupation        48842 non-null object\n",
      "relationship      48842 non-null object\n",
      "race              48842 non-null object\n",
      "sex               48842 non-null object\n",
      "capital-gain      48842 non-null int64\n",
      "capital-loss      48842 non-null int64\n",
      "hours-per-week    48842 non-null int64\n",
      "native-country    48842 non-null object\n",
      "class             48842 non-null int64\n",
      "dtypes: int64(7), object(8)\n",
      "memory usage: 5.6+ MB\n"
     ]
    }
   ],
   "source": [
    "data_1.info()"
   ]
  },
  {
   "cell_type": "code",
   "execution_count": 7,
   "metadata": {
    "collapsed": true
   },
   "outputs": [],
   "source": [
    "x_1 = data_1.drop('class',axis=1)\n",
    "y_1 = data_1['class']"
   ]
  },
  {
   "cell_type": "code",
   "execution_count": 8,
   "metadata": {},
   "outputs": [
    {
     "data": {
      "text/plain": [
       "((39073, 14), (9769, 14), (39073,), (9769,))"
      ]
     },
     "execution_count": 8,
     "metadata": {},
     "output_type": "execute_result"
    }
   ],
   "source": [
    "x_1_train, x_1_test, y_1_train, y_1_test = train_test_split(x_1, y_1, test_size=0.2, random_state=42)\n",
    "x_1_train.shape, x_1_test.shape, y_1_train.shape, y_1_test.shape"
   ]
  },
  {
   "cell_type": "markdown",
   "metadata": {},
   "source": [
    "10. Посчитайте метрики accuracy и f1_score на предсказании только самого частого класса в целевой переменной."
   ]
  },
  {
   "cell_type": "code",
   "execution_count": 9,
   "metadata": {},
   "outputs": [
    {
     "data": {
      "text/html": [
       "<div>\n",
       "<style>\n",
       "    .dataframe thead tr:only-child th {\n",
       "        text-align: right;\n",
       "    }\n",
       "\n",
       "    .dataframe thead th {\n",
       "        text-align: left;\n",
       "    }\n",
       "\n",
       "    .dataframe tbody tr th {\n",
       "        vertical-align: top;\n",
       "    }\n",
       "</style>\n",
       "<table border=\"1\" class=\"dataframe\">\n",
       "  <thead>\n",
       "    <tr style=\"text-align: right;\">\n",
       "      <th></th>\n",
       "      <th>age</th>\n",
       "      <th>workclass</th>\n",
       "      <th>fnlwgt</th>\n",
       "      <th>education</th>\n",
       "      <th>education-num</th>\n",
       "      <th>marital-status</th>\n",
       "      <th>occupation</th>\n",
       "      <th>relationship</th>\n",
       "      <th>race</th>\n",
       "      <th>sex</th>\n",
       "      <th>capital-gain</th>\n",
       "      <th>capital-loss</th>\n",
       "      <th>hours-per-week</th>\n",
       "      <th>native-country</th>\n",
       "      <th>class</th>\n",
       "    </tr>\n",
       "  </thead>\n",
       "  <tbody>\n",
       "    <tr>\n",
       "      <th>0</th>\n",
       "      <td>39</td>\n",
       "      <td>State-gov</td>\n",
       "      <td>77516</td>\n",
       "      <td>Bachelors</td>\n",
       "      <td>13</td>\n",
       "      <td>Never-married</td>\n",
       "      <td>Adm-clerical</td>\n",
       "      <td>Not-in-family</td>\n",
       "      <td>White</td>\n",
       "      <td>Male</td>\n",
       "      <td>2174</td>\n",
       "      <td>0</td>\n",
       "      <td>40</td>\n",
       "      <td>United-States</td>\n",
       "      <td>1</td>\n",
       "    </tr>\n",
       "    <tr>\n",
       "      <th>1</th>\n",
       "      <td>50</td>\n",
       "      <td>Self-emp-not-inc</td>\n",
       "      <td>83311</td>\n",
       "      <td>Bachelors</td>\n",
       "      <td>13</td>\n",
       "      <td>Married-civ-spouse</td>\n",
       "      <td>Exec-managerial</td>\n",
       "      <td>Husband</td>\n",
       "      <td>White</td>\n",
       "      <td>Male</td>\n",
       "      <td>0</td>\n",
       "      <td>0</td>\n",
       "      <td>13</td>\n",
       "      <td>United-States</td>\n",
       "      <td>1</td>\n",
       "    </tr>\n",
       "    <tr>\n",
       "      <th>2</th>\n",
       "      <td>38</td>\n",
       "      <td>Private</td>\n",
       "      <td>215646</td>\n",
       "      <td>HS-grad</td>\n",
       "      <td>9</td>\n",
       "      <td>Divorced</td>\n",
       "      <td>Handlers-cleaners</td>\n",
       "      <td>Not-in-family</td>\n",
       "      <td>White</td>\n",
       "      <td>Male</td>\n",
       "      <td>0</td>\n",
       "      <td>0</td>\n",
       "      <td>40</td>\n",
       "      <td>United-States</td>\n",
       "      <td>1</td>\n",
       "    </tr>\n",
       "  </tbody>\n",
       "</table>\n",
       "</div>"
      ],
      "text/plain": [
       "   age         workclass  fnlwgt  education  education-num  \\\n",
       "0   39         State-gov   77516  Bachelors             13   \n",
       "1   50  Self-emp-not-inc   83311  Bachelors             13   \n",
       "2   38           Private  215646    HS-grad              9   \n",
       "\n",
       "       marital-status         occupation   relationship   race   sex  \\\n",
       "0       Never-married       Adm-clerical  Not-in-family  White  Male   \n",
       "1  Married-civ-spouse    Exec-managerial        Husband  White  Male   \n",
       "2            Divorced  Handlers-cleaners  Not-in-family  White  Male   \n",
       "\n",
       "   capital-gain  capital-loss  hours-per-week native-country  class  \n",
       "0          2174             0              40  United-States      1  \n",
       "1             0             0              13  United-States      1  \n",
       "2             0             0              40  United-States      1  "
      ]
     },
     "execution_count": 9,
     "metadata": {},
     "output_type": "execute_result"
    }
   ],
   "source": [
    "data_1.head(3)"
   ]
  },
  {
   "cell_type": "code",
   "execution_count": 10,
   "metadata": {},
   "outputs": [
    {
     "data": {
      "text/plain": [
       "1    37155\n",
       "0    11687\n",
       "Name: class, dtype: int64"
      ]
     },
     "execution_count": 10,
     "metadata": {},
     "output_type": "execute_result"
    }
   ],
   "source": [
    "df1 = data_1['class'].value_counts()\n",
    "df1"
   ]
  },
  {
   "cell_type": "code",
   "execution_count": null,
   "metadata": {
    "collapsed": true
   },
   "outputs": [],
   "source": [
    "# Всего = 48 842\n",
    "\n",
    "# Смоделируем: \n",
    "\n",
    "# Класс 1 = 37 155\n",
    "# Класс 0 = 11 687 \n",
    "\n",
    "# Предположим, что класс 1 это все верные ответы, а класс 0 это все не найденные обьекты моделью ответы, \n",
    "\n",
    "# Если мы считаем только по самому частому классу, то получится: "
   ]
  },
  {
   "cell_type": "code",
   "execution_count": null,
   "metadata": {
    "collapsed": true
   },
   "outputs": [],
   "source": [
    "# f1 мера\n",
    "\n",
    "# precision\n",
    "  # TP = будем считать, что это 36 155 (действительное количество правильных ответов)\n",
    "  # FP = будем считать, что это 2 000 (это значение возьмем от класса 0 и предположим, что модель ошиблась, назвав этот набор \n",
    "  # данных тоже классом 1)\n",
    "\n",
    "# recall\n",
    "  # FN = будем считать, что это 1 000 (это значение возьмем от класса 1 и предположим, что модель ошиблась, назвав этот набор\n",
    "  # данных классом 0) "
   ]
  },
  {
   "cell_type": "code",
   "execution_count": 11,
   "metadata": {},
   "outputs": [
    {
     "name": "stdout",
     "output_type": "stream",
     "text": [
      "acc_most_frequent: 0.7607182343065395\n",
      "----\n",
      "precision: 0.9475822303760975\n",
      "----\n",
      "recall: 0.973085721975508\n",
      "----\n",
      "f1_most_frequent: 0.9547643979057592\n"
     ]
    },
    {
     "ename": "NameError",
     "evalue": "name 'results_classification' is not defined",
     "output_type": "error",
     "traceback": [
      "\u001b[1;31m---------------------------------------------------------------------------\u001b[0m",
      "\u001b[1;31mNameError\u001b[0m                                 Traceback (most recent call last)",
      "\u001b[1;32m<ipython-input-11-decab1152283>\u001b[0m in \u001b[0;36m<module>\u001b[1;34m()\u001b[0m\n\u001b[0;32m     13\u001b[0m \u001b[0mf1_most_frequent\u001b[0m \u001b[1;33m=\u001b[0m \u001b[1;36m0\u001b[0m\u001b[1;33m\u001b[0m\u001b[0m\n\u001b[0;32m     14\u001b[0m \u001b[1;31m#acc_most_frequent = 0\u001b[0m\u001b[1;33m\u001b[0m\u001b[1;33m\u001b[0m\u001b[0m\n\u001b[1;32m---> 15\u001b[1;33m \u001b[0mresults_classification\u001b[0m\u001b[1;33m.\u001b[0m\u001b[0mloc\u001b[0m\u001b[1;33m[\u001b[0m\u001b[1;36m0\u001b[0m\u001b[1;33m]\u001b[0m \u001b[1;33m=\u001b[0m \u001b[1;33m[\u001b[0m\u001b[1;34m'Most Frequent class'\u001b[0m\u001b[1;33m,\u001b[0m \u001b[1;34m'task10'\u001b[0m\u001b[1;33m,\u001b[0m \u001b[0mf1_most_frequent\u001b[0m\u001b[1;33m,\u001b[0m \u001b[0macc_most_frequent\u001b[0m\u001b[1;33m]\u001b[0m\u001b[1;33m\u001b[0m\u001b[0m\n\u001b[0m",
      "\u001b[1;31mNameError\u001b[0m: name 'results_classification' is not defined"
     ]
    }
   ],
   "source": [
    "acc_most_frequent = 37155/48842\n",
    "print('acc_most_frequent:', acc_most_frequent)\n",
    "print('----')\n",
    "precision = 36155 / (36155+2000)\n",
    "print('precision:', precision)\n",
    "print('----')\n",
    "recall = 36155 / (36155+1000)\n",
    "print('recall:', recall)\n",
    "print('----')\n",
    "f1_most_frequent = 2 * (0.94 * 0.97) / (0.94 + 0.97)\n",
    "print('f1_most_frequent:', f1_most_frequent)\n",
    "\n",
    "f1_most_frequent = 0\n",
    "#acc_most_frequent = 0\n",
    "results_classification.loc[0] = ['Most Frequent class', 'task10', f1_most_frequent, acc_most_frequent]"
   ]
  },
  {
   "cell_type": "markdown",
   "metadata": {},
   "source": [
    "11. Выясните, присутствуют ли в данных пропуски. Если присутствуют, заполните их самыми частыми значениями (испольуйте SimpleImputer)"
   ]
  },
  {
   "cell_type": "code",
   "execution_count": 12,
   "metadata": {},
   "outputs": [
    {
     "name": "stdout",
     "output_type": "stream",
     "text": [
      "<class 'pandas.core.frame.DataFrame'>\n",
      "RangeIndex: 48842 entries, 0 to 48841\n",
      "Data columns (total 15 columns):\n",
      "age               48842 non-null int64\n",
      "workclass         48842 non-null object\n",
      "fnlwgt            48842 non-null int64\n",
      "education         48842 non-null object\n",
      "education-num     48842 non-null int64\n",
      "marital-status    48842 non-null object\n",
      "occupation        48842 non-null object\n",
      "relationship      48842 non-null object\n",
      "race              48842 non-null object\n",
      "sex               48842 non-null object\n",
      "capital-gain      48842 non-null int64\n",
      "capital-loss      48842 non-null int64\n",
      "hours-per-week    48842 non-null int64\n",
      "native-country    48842 non-null object\n",
      "class             48842 non-null int64\n",
      "dtypes: int64(7), object(8)\n",
      "memory usage: 5.6+ MB\n"
     ]
    }
   ],
   "source": [
    "data_1.info()\n",
    "\n",
    "# Null / NaN значений не вижу"
   ]
  },
  {
   "cell_type": "markdown",
   "metadata": {},
   "source": [
    "12. Выберите колонки с числовыми и категориальными переменными (используя возможности pandas)."
   ]
  },
  {
   "cell_type": "code",
   "execution_count": 13,
   "metadata": {},
   "outputs": [
    {
     "data": {
      "text/html": [
       "<div>\n",
       "<style>\n",
       "    .dataframe thead tr:only-child th {\n",
       "        text-align: right;\n",
       "    }\n",
       "\n",
       "    .dataframe thead th {\n",
       "        text-align: left;\n",
       "    }\n",
       "\n",
       "    .dataframe tbody tr th {\n",
       "        vertical-align: top;\n",
       "    }\n",
       "</style>\n",
       "<table border=\"1\" class=\"dataframe\">\n",
       "  <thead>\n",
       "    <tr style=\"text-align: right;\">\n",
       "      <th></th>\n",
       "      <th>age</th>\n",
       "      <th>workclass</th>\n",
       "      <th>fnlwgt</th>\n",
       "      <th>education</th>\n",
       "      <th>education-num</th>\n",
       "      <th>marital-status</th>\n",
       "      <th>occupation</th>\n",
       "      <th>relationship</th>\n",
       "      <th>race</th>\n",
       "      <th>sex</th>\n",
       "      <th>capital-gain</th>\n",
       "      <th>capital-loss</th>\n",
       "      <th>hours-per-week</th>\n",
       "      <th>native-country</th>\n",
       "      <th>class</th>\n",
       "    </tr>\n",
       "  </thead>\n",
       "  <tbody>\n",
       "    <tr>\n",
       "      <th>0</th>\n",
       "      <td>39</td>\n",
       "      <td>State-gov</td>\n",
       "      <td>77516</td>\n",
       "      <td>Bachelors</td>\n",
       "      <td>13</td>\n",
       "      <td>Never-married</td>\n",
       "      <td>Adm-clerical</td>\n",
       "      <td>Not-in-family</td>\n",
       "      <td>White</td>\n",
       "      <td>Male</td>\n",
       "      <td>2174</td>\n",
       "      <td>0</td>\n",
       "      <td>40</td>\n",
       "      <td>United-States</td>\n",
       "      <td>1</td>\n",
       "    </tr>\n",
       "    <tr>\n",
       "      <th>1</th>\n",
       "      <td>50</td>\n",
       "      <td>Self-emp-not-inc</td>\n",
       "      <td>83311</td>\n",
       "      <td>Bachelors</td>\n",
       "      <td>13</td>\n",
       "      <td>Married-civ-spouse</td>\n",
       "      <td>Exec-managerial</td>\n",
       "      <td>Husband</td>\n",
       "      <td>White</td>\n",
       "      <td>Male</td>\n",
       "      <td>0</td>\n",
       "      <td>0</td>\n",
       "      <td>13</td>\n",
       "      <td>United-States</td>\n",
       "      <td>1</td>\n",
       "    </tr>\n",
       "    <tr>\n",
       "      <th>2</th>\n",
       "      <td>38</td>\n",
       "      <td>Private</td>\n",
       "      <td>215646</td>\n",
       "      <td>HS-grad</td>\n",
       "      <td>9</td>\n",
       "      <td>Divorced</td>\n",
       "      <td>Handlers-cleaners</td>\n",
       "      <td>Not-in-family</td>\n",
       "      <td>White</td>\n",
       "      <td>Male</td>\n",
       "      <td>0</td>\n",
       "      <td>0</td>\n",
       "      <td>40</td>\n",
       "      <td>United-States</td>\n",
       "      <td>1</td>\n",
       "    </tr>\n",
       "  </tbody>\n",
       "</table>\n",
       "</div>"
      ],
      "text/plain": [
       "   age         workclass  fnlwgt  education  education-num  \\\n",
       "0   39         State-gov   77516  Bachelors             13   \n",
       "1   50  Self-emp-not-inc   83311  Bachelors             13   \n",
       "2   38           Private  215646    HS-grad              9   \n",
       "\n",
       "       marital-status         occupation   relationship   race   sex  \\\n",
       "0       Never-married       Adm-clerical  Not-in-family  White  Male   \n",
       "1  Married-civ-spouse    Exec-managerial        Husband  White  Male   \n",
       "2            Divorced  Handlers-cleaners  Not-in-family  White  Male   \n",
       "\n",
       "   capital-gain  capital-loss  hours-per-week native-country  class  \n",
       "0          2174             0              40  United-States      1  \n",
       "1             0             0              13  United-States      1  \n",
       "2             0             0              40  United-States      1  "
      ]
     },
     "execution_count": 13,
     "metadata": {},
     "output_type": "execute_result"
    }
   ],
   "source": [
    "data_1.head(3)"
   ]
  },
  {
   "cell_type": "code",
   "execution_count": 14,
   "metadata": {},
   "outputs": [
    {
     "data": {
      "text/plain": [
       "age                int64\n",
       "workclass         object\n",
       "fnlwgt             int64\n",
       "education         object\n",
       "education-num      int64\n",
       "marital-status    object\n",
       "occupation        object\n",
       "relationship      object\n",
       "race              object\n",
       "sex               object\n",
       "capital-gain       int64\n",
       "capital-loss       int64\n",
       "hours-per-week     int64\n",
       "native-country    object\n",
       "class              int64\n",
       "dtype: object"
      ]
     },
     "execution_count": 14,
     "metadata": {},
     "output_type": "execute_result"
    }
   ],
   "source": [
    "data_1.dtypes"
   ]
  },
  {
   "cell_type": "code",
   "execution_count": null,
   "metadata": {
    "collapsed": true
   },
   "outputs": [],
   "source": [
    "# age                  74 - числовое \n",
    "# workclass             9 - категориальное\n",
    "# fnlwgt            28523 - числовое \n",
    "# education            16 - категориальное\n",
    "# education-num        16 - числовое \n",
    "# marital-status        7 - категориальное\n",
    "# occupation           15 - категориальное\n",
    "# relationship          6 - категориальное\n",
    "# race                  5 - категориальное\n",
    "# sex                   2 - категориальное\n",
    "# capital-gain        123 - числовое \n",
    "# capital-loss         99 - числовое \n",
    "# hours-per-week       96 - числовое \n",
    "# native-country       42 - категориальное\n",
    "# class                 2 - числовое "
   ]
  },
  {
   "cell_type": "markdown",
   "metadata": {},
   "source": [
    "13. Создайте пайплайн по обработке числовых и категориальных значений колонок (используйте OneHotEncoder,MinMaxScaler) и посчитайте cross_val_score по алгоритмам LogisticRegression, KNeighborsClassifier, LinearSVC по метрикам accuracy и f1_score."
   ]
  },
  {
   "cell_type": "code",
   "execution_count": 90,
   "metadata": {
    "collapsed": true
   },
   "outputs": [],
   "source": [
    "from sklearn.preprocessing import LabelEncoder\n",
    "from sklearn.preprocessing import OneHotEncoder\n",
    "from sklearn.preprocessing import MinMaxScaler\n",
    "\n",
    "from sklearn.linear_model import LogisticRegression\n",
    "from sklearn import metrics\n",
    "from sklearn.model_selection import cross_val_score\n",
    "from sklearn.neighbors import KNeighborsClassifier\n",
    "\n",
    "from sklearn.svm import LinearSVC"
   ]
  },
  {
   "cell_type": "code",
   "execution_count": 16,
   "metadata": {
    "collapsed": true
   },
   "outputs": [],
   "source": [
    "categorical_cols = ['workclass', 'education', 'marital-status', 'occupation', 'relationship', \n",
    "            'race', 'sex', 'native-country'] \n",
    "numeric_cols = ['age','fnlwgt', 'education','capital-gain', 'capital-loss', 'hours-per-week', 'class']"
   ]
  },
  {
   "cell_type": "code",
   "execution_count": 19,
   "metadata": {
    "collapsed": true
   },
   "outputs": [],
   "source": [
    "le = LabelEncoder()\n",
    "ohe = OneHotEncoder()"
   ]
  },
  {
   "cell_type": "code",
   "execution_count": 47,
   "metadata": {},
   "outputs": [],
   "source": [
    "data_1[categorical_cols] = data_1[categorical_cols].apply(lambda col:\n",
    "le.fit_transform(col))    \n",
    "\n",
    "array_hot_encoded = ohe.fit_transform(data_1[categorical_cols])\n",
    "\n",
    "data_hot_encoded = pd.DataFrame(array_hot_encoded.todense())\n",
    "\n",
    "data_numeric_cols = data_1.drop(data_1[categorical_cols], axis = 1)\n",
    "\n",
    "data_1_ohe = pd.concat([data_hot_encoded, data_numeric_cols], axis=1)"
   ]
  },
  {
   "cell_type": "code",
   "execution_count": 50,
   "metadata": {
    "collapsed": true
   },
   "outputs": [],
   "source": [
    "x2 = data_1_ohe.drop('class',axis=1)\n",
    "y2 = data_1_ohe['class']"
   ]
  },
  {
   "cell_type": "code",
   "execution_count": 51,
   "metadata": {},
   "outputs": [
    {
     "data": {
      "text/plain": [
       "((39073, 108), (9769, 108), (39073,), (9769,))"
      ]
     },
     "execution_count": 51,
     "metadata": {},
     "output_type": "execute_result"
    }
   ],
   "source": [
    "x2_train, x2_test, y2_train, y2_test = train_test_split(x2, y2, test_size=0.2, random_state=42)\n",
    "x2_train.shape, x2_test.shape, y2_train.shape, y2_test.shape"
   ]
  },
  {
   "cell_type": "code",
   "execution_count": 55,
   "metadata": {
    "collapsed": true
   },
   "outputs": [],
   "source": [
    "min_max_scaler = MinMaxScaler()\n",
    "x2_train_scaled = min_max_scaler.fit_transform(x2_train)\n",
    "x2_test_scaled = min_max_scaler.transform(x2_test)"
   ]
  },
  {
   "cell_type": "code",
   "execution_count": null,
   "metadata": {
    "collapsed": true
   },
   "outputs": [],
   "source": [
    "# Предобработку окончил, перехожу к построению моделей"
   ]
  },
  {
   "cell_type": "code",
   "execution_count": 70,
   "metadata": {},
   "outputs": [],
   "source": [
    "# LogisticRegression\n",
    "\n",
    "LR_1 = LogisticRegression(random_state=0).fit(x2_train_scaled, y2_train)\n",
    "y2_pred_lr1 = LR_1.predict(x2_test_scaled)"
   ]
  },
  {
   "cell_type": "code",
   "execution_count": 86,
   "metadata": {},
   "outputs": [
    {
     "name": "stdout",
     "output_type": "stream",
     "text": [
      "acc_LR: 0.850075470098\n",
      "----\n",
      "f1_LR: 0.904425656742\n"
     ]
    }
   ],
   "source": [
    "acc_lr =cross_val_score(LR_1, x2_train_scaled, y2_train, cv=3, scoring='accuracy')\n",
    "acc_LR = acc_lr.mean()\n",
    "print('acc_LR:' ,acc_LR)\n",
    "print('----')\n",
    "f1_lr = cross_val_score(LR_1, x2_train_scaled, y2_train, cv=3, scoring='f1')\n",
    "f1_LR = f1_lr.mean()\n",
    "f1_LR\n",
    "print('f1_LR:' ,f1_LR)"
   ]
  },
  {
   "cell_type": "code",
   "execution_count": 88,
   "metadata": {
    "collapsed": true
   },
   "outputs": [],
   "source": [
    "# KNeighborsClassifier\n",
    "\n",
    "KN_neigh = KNeighborsClassifier(n_neighbors=2)\n",
    "KN_neigh.fit(x2_train_scaled, y2_train)\n",
    "y_pred_KN_neigh = KN_neigh.predict(x2_test_scaled)"
   ]
  },
  {
   "cell_type": "code",
   "execution_count": 89,
   "metadata": {},
   "outputs": [
    {
     "name": "stdout",
     "output_type": "stream",
     "text": [
      "acc_KNN: 0.77580412115\n",
      "----\n",
      "f1_KNN: 0.842302813162\n"
     ]
    }
   ],
   "source": [
    "acc_KNN_1 = cross_val_score(KN_neigh, x2_train_scaled, y2_train, cv=3, scoring='accuracy')\n",
    "acc_KNN = acc_KNN_1.mean()\n",
    "print('acc_KNN:' ,acc_KNN)\n",
    "print('----')\n",
    "f1_knn = cross_val_score(KN_neigh, x2_train_scaled, y2_train, cv=3, scoring='f1')\n",
    "f1_KNN = f1_knn.mean()\n",
    "f1_KNN\n",
    "print('f1_KNN:' ,f1_KNN)"
   ]
  },
  {
   "cell_type": "code",
   "execution_count": 91,
   "metadata": {
    "collapsed": true
   },
   "outputs": [],
   "source": [
    "# LinearSVC\n",
    "\n",
    "L_SVC = LinearSVC(random_state=0, tol=1e-5)\n",
    "L_SVC.fit(x2_train_scaled, y2_train)\n",
    "y_pred_SVC = L_SVC.predict(x2_test_scaled)"
   ]
  },
  {
   "cell_type": "code",
   "execution_count": 92,
   "metadata": {},
   "outputs": [
    {
     "name": "stdout",
     "output_type": "stream",
     "text": [
      "acc_SVM: 0.852455685347\n",
      "----\n",
      "f1_SVM: 0.906085615608\n"
     ]
    }
   ],
   "source": [
    "acc_SVM_1 = cross_val_score(L_SVC, x2_train_scaled, y2_train, cv=3, scoring='accuracy')\n",
    "acc_SVM = acc_SVM_1.mean()\n",
    "print('acc_SVM:' ,acc_SVM)\n",
    "print('----')\n",
    "f1_SVM_1 = cross_val_score(L_SVC, x2_train_scaled, y2_train, cv=3, scoring='f1')\n",
    "f1_SVM = f1_SVM_1.mean()\n",
    "f1_SVM\n",
    "print('f1_SVM:' ,f1_SVM)"
   ]
  },
  {
   "cell_type": "code",
   "execution_count": 106,
   "metadata": {},
   "outputs": [
    {
     "name": "stdout",
     "output_type": "stream",
     "text": [
      "acc_LR: 0.850075470098\n",
      "----\n",
      "f1_LR: 0.904425656742\n",
      "----\n",
      "acc_KNN: 0.77580412115\n",
      "----\n",
      "f1_KNN: 0.842302813162\n",
      "----\n",
      "acc_SVM: 0.852455685347\n",
      "----\n",
      "f1_SVM: 0.906085615608\n",
      "----\n"
     ]
    }
   ],
   "source": [
    "# LogisticRegression\n",
    "\n",
    "LR_1 = LogisticRegression(random_state=0).fit(x2_train_scaled, y2_train)\n",
    "y2_pred_lr1 = LR_1.predict(x2_test_scaled)\n",
    "\n",
    "acc_lr =cross_val_score(LR_1, x2_train_scaled, y2_train, cv=3, scoring='accuracy')\n",
    "acc_LR = acc_lr.mean()\n",
    "print('acc_LR:' ,acc_LR)\n",
    "print('----')\n",
    "f1_lr = cross_val_score(LR_1, x2_train_scaled, y2_train, cv=3, scoring='f1')\n",
    "f1_LR = f1_lr.mean()\n",
    "f1_LR\n",
    "print('f1_LR:' ,f1_LR)\n",
    "print('----')\n",
    "\n",
    "# KNeighborsClassifier\n",
    "\n",
    "KN_neigh = KNeighborsClassifier(n_neighbors=2)\n",
    "KN_neigh.fit(x2_train_scaled, y2_train)\n",
    "y_pred_KN_neigh = KN_neigh.predict(x2_test_scaled)\n",
    "\n",
    "acc_KNN_1 = cross_val_score(KN_neigh, x2_train_scaled, y2_train, cv=3, scoring='accuracy')\n",
    "acc_KNN = acc_KNN_1.mean()\n",
    "print('acc_KNN:' ,acc_KNN)\n",
    "print('----')\n",
    "f1_knn = cross_val_score(KN_neigh, x2_train_scaled, y2_train, cv=3, scoring='f1')\n",
    "f1_KNN = f1_knn.mean()\n",
    "f1_KNN\n",
    "print('f1_KNN:' ,f1_KNN)\n",
    "print('----')\n",
    "\n",
    "# LinearSVC\n",
    "\n",
    "L_SVC = LinearSVC(random_state=0, tol=1e-5)\n",
    "L_SVC.fit(x2_train_scaled, y2_train)\n",
    "y_pred_SVC = L_SVC.predict(x2_test_scaled)\n",
    "\n",
    "acc_SVM_1 = cross_val_score(L_SVC, x2_train_scaled, y2_train, cv=3, scoring='accuracy')\n",
    "acc_SVM = acc_SVM_1.mean()\n",
    "print('acc_SVM:' ,acc_SVM)\n",
    "print('----')\n",
    "f1_SVM_1 = cross_val_score(L_SVC, x2_train_scaled, y2_train, cv=3, scoring='f1')\n",
    "f1_SVM = f1_SVM_1.mean()\n",
    "f1_SVM\n",
    "print('f1_SVM:' ,f1_SVM)\n",
    "print('----')\n",
    "\n",
    "# f1_LR = 0\n",
    "# acc_LR = 0\n",
    "# f1_KNN = 0\n",
    "# acc_KNN = 0\n",
    "# f1_SVM = 0\n",
    "# acc_SVM = 0\n",
    "results_classification.loc[1] = ['LogisticRegression', 'task13', f1_LR, acc_LR]\n",
    "results_classification.loc[2] = ['KNeighborsClassifier', 'task13', f1_KNN, acc_KNN]\n",
    "results_classification.loc[3] = ['LinearSVC', 'task13', f1_SVM, acc_SVM]"
   ]
  },
  {
   "cell_type": "code",
   "execution_count": 71,
   "metadata": {},
   "outputs": [
    {
     "data": {
      "text/plain": [
       "array([[1360,  995],\n",
       "       [ 485, 6929]])"
      ]
     },
     "execution_count": 71,
     "metadata": {},
     "output_type": "execute_result"
    }
   ],
   "source": [
    "# Посчитал для себя\n",
    "LR_1_cnf_matrix = metrics.confusion_matrix(y2_test, y2_pred_lr1)\n",
    "LR_1_cnf_matrix"
   ]
  },
  {
   "cell_type": "code",
   "execution_count": null,
   "metadata": {
    "collapsed": true
   },
   "outputs": [],
   "source": [
    "# Истинно положительных предсказаний: TP = 1360\n",
    "# Истинно отрицательные прогнозы: TN = 6929\n",
    "# Ложноположительные прогнозы: FP = 485\n",
    "# Ложноотрицательные прогнозы: FN = 995"
   ]
  },
  {
   "cell_type": "markdown",
   "metadata": {},
   "source": [
    "14. Можно заметить что в данных присутствуют значения '?', замените их самыми частыми значениями, (испольуйте SimpleImputer). Посчитайте cross_val_score по алгоритмам LogisticRegression, KNeighborsClassifier, LinearSVC по метрикам accuracy и f1_score."
   ]
  },
  {
   "cell_type": "code",
   "execution_count": null,
   "metadata": {
    "collapsed": true
   },
   "outputs": [],
   "source": [
    "\n",
    "\n",
    "### Ваш код ###\n",
    "\n",
    "f1_LR = 0\n",
    "acc_LR = 0\n",
    "f1_KNN = 0\n",
    "acc_KNN = 0\n",
    "f1_SVM = 0\n",
    "acc_SVM = 0\n",
    "results_classification.loc[4] = ['LogisticRegression_impute', 'task14', f1_LR, acc_LR]\n",
    "results_classification.loc[5] = ['KNeighborsClassifier_impute', 'task14', f1_KNN, acc_KNN]\n",
    "results_classification.loc[6] = ['LinearSVC_impute', 'task14', f1_SVM, acc_SVM]"
   ]
  },
  {
   "cell_type": "markdown",
   "metadata": {},
   "source": [
    "15. Посчитайте cross_val_score по тем же алгоритмам и метрикам, если просто удалить значения '?'."
   ]
  },
  {
   "cell_type": "code",
   "execution_count": null,
   "metadata": {
    "collapsed": true
   },
   "outputs": [],
   "source": [
    "\n",
    "\n",
    "### Ваш код ###\n",
    "\n",
    "f1_LR_del_missings = 0\n",
    "acc_LR_del_missings = 0\n",
    "f1_KNN_del_missings = 0\n",
    "acc_KNN_del_missings = 0\n",
    "f1_SVM_del_missings = 0\n",
    "acc_SVM_del_missings = 0\n",
    "results_classification.loc[7] = ['LogisticRegression_delete_missings', 'task15', f1_LR_del_missings, acc_LR_del_missings]\n",
    "results_classification.loc[8] = ['KNeighborsClassifier_delete_missings', 'task15', f1_KNN_del_missings, acc_KNN_del_missings]\n",
    "results_classification.loc[9] = ['LinearSVC_delete_missings', 'task15', f1_SVM_del_missings, acc_SVM_del_missings]"
   ]
  },
  {
   "cell_type": "markdown",
   "metadata": {},
   "source": [
    " 16. Посчитайте cross_val_score для RandomForestClassifier,GradientBoostingClassifier на данных с замененными значениями '?' на самые частые значения."
   ]
  },
  {
   "cell_type": "code",
   "execution_count": null,
   "metadata": {
    "collapsed": true
   },
   "outputs": [],
   "source": [
    "\n",
    "\n",
    "### Ваш код ###\n",
    "\n",
    "f1_RF = 0\n",
    "acc_RF = 0\n",
    "f1_GB = 0\n",
    "acc_GB = 0\n",
    "results_classification.loc[10] = ['RandomForestClassifier', 'task16', f1_RF, acc_RF]\n",
    "results_classification.loc[11] = ['GradientBoostingClassifier', 'task16', f1_GB, acc_GB]"
   ]
  },
  {
   "cell_type": "markdown",
   "metadata": {},
   "source": [
    "17. Подберите наилучшую модель, подбирая методы обработки колонок - масштабирование признаков, кодирование признаков и заполнение пропусков. Параметры алгоритмов оставьте по умолчанию. Выведите итоговые параметры и результат accuracy и f1_score."
   ]
  },
  {
   "cell_type": "code",
   "execution_count": null,
   "metadata": {
    "collapsed": true
   },
   "outputs": [],
   "source": [
    "\n",
    "\n",
    "### Ваш код ###\n",
    "\n",
    "best_params = {}\n",
    "print('Параметры лучшей модели:\\n', best_params)\n",
    "f1_best = 0\n",
    "acc_best = 0\n",
    "results_classification.loc[12] = ['Best_Model', 'task17', f1_best, acc_best]"
   ]
  },
  {
   "cell_type": "code",
   "execution_count": null,
   "metadata": {
    "collapsed": true
   },
   "outputs": [],
   "source": []
  },
  {
   "cell_type": "code",
   "execution_count": 103,
   "metadata": {},
   "outputs": [],
   "source": [
    "results_classification"
   ]
  },
  {
   "cell_type": "code",
   "execution_count": null,
   "metadata": {
    "collapsed": true
   },
   "outputs": [],
   "source": []
  }
 ],
 "metadata": {
  "kernelspec": {
   "display_name": "Python 3",
   "language": "python",
   "name": "python3"
  },
  "language_info": {
   "codemirror_mode": {
    "name": "ipython",
    "version": 3
   },
   "file_extension": ".py",
   "mimetype": "text/x-python",
   "name": "python",
   "nbconvert_exporter": "python",
   "pygments_lexer": "ipython3",
   "version": "3.6.1"
  }
 },
 "nbformat": 4,
 "nbformat_minor": 2
}

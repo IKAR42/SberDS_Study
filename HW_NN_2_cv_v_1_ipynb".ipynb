{
  "nbformat": 4,
  "nbformat_minor": 0,
  "metadata": {
    "colab": {
      "provenance": [],
      "include_colab_link": true
    },
    "kernelspec": {
      "name": "python3",
      "display_name": "Python 3"
    },
    "language_info": {
      "name": "python"
    },
    "accelerator": "GPU",
    "gpuClass": "standard",
    "widgets": {
      "application/vnd.jupyter.widget-state+json": {
        "c907bb8ded7a4a32b905872e589d102a": {
          "model_module": "@jupyter-widgets/controls",
          "model_name": "HBoxModel",
          "model_module_version": "1.5.0",
          "state": {
            "_dom_classes": [],
            "_model_module": "@jupyter-widgets/controls",
            "_model_module_version": "1.5.0",
            "_model_name": "HBoxModel",
            "_view_count": null,
            "_view_module": "@jupyter-widgets/controls",
            "_view_module_version": "1.5.0",
            "_view_name": "HBoxView",
            "box_style": "",
            "children": [
              "IPY_MODEL_94c6c2d6639d4f178bae766ba93b1cb9",
              "IPY_MODEL_1fcf636f9d644dc2806899b3f30ad26f",
              "IPY_MODEL_c3f57c84fdee4f668d64f25e1b23541f"
            ],
            "layout": "IPY_MODEL_4ada7030d309476c9d205a2c6acf561f"
          }
        },
        "94c6c2d6639d4f178bae766ba93b1cb9": {
          "model_module": "@jupyter-widgets/controls",
          "model_name": "HTMLModel",
          "model_module_version": "1.5.0",
          "state": {
            "_dom_classes": [],
            "_model_module": "@jupyter-widgets/controls",
            "_model_module_version": "1.5.0",
            "_model_name": "HTMLModel",
            "_view_count": null,
            "_view_module": "@jupyter-widgets/controls",
            "_view_module_version": "1.5.0",
            "_view_name": "HTMLView",
            "description": "",
            "description_tooltip": null,
            "layout": "IPY_MODEL_ca9bcba4c5ec4f659fea52b82f0b52e1",
            "placeholder": "​",
            "style": "IPY_MODEL_fc30b5c1af404270b506d0edbf8bf64f",
            "value": "100%"
          }
        },
        "1fcf636f9d644dc2806899b3f30ad26f": {
          "model_module": "@jupyter-widgets/controls",
          "model_name": "FloatProgressModel",
          "model_module_version": "1.5.0",
          "state": {
            "_dom_classes": [],
            "_model_module": "@jupyter-widgets/controls",
            "_model_module_version": "1.5.0",
            "_model_name": "FloatProgressModel",
            "_view_count": null,
            "_view_module": "@jupyter-widgets/controls",
            "_view_module_version": "1.5.0",
            "_view_name": "ProgressView",
            "bar_style": "success",
            "description": "",
            "description_tooltip": null,
            "layout": "IPY_MODEL_2fc1be0950a04861806b0ca20761e394",
            "max": 9912422,
            "min": 0,
            "orientation": "horizontal",
            "style": "IPY_MODEL_558b25abb5d84f27b52e3e98f7749517",
            "value": 9912422
          }
        },
        "c3f57c84fdee4f668d64f25e1b23541f": {
          "model_module": "@jupyter-widgets/controls",
          "model_name": "HTMLModel",
          "model_module_version": "1.5.0",
          "state": {
            "_dom_classes": [],
            "_model_module": "@jupyter-widgets/controls",
            "_model_module_version": "1.5.0",
            "_model_name": "HTMLModel",
            "_view_count": null,
            "_view_module": "@jupyter-widgets/controls",
            "_view_module_version": "1.5.0",
            "_view_name": "HTMLView",
            "description": "",
            "description_tooltip": null,
            "layout": "IPY_MODEL_c1d6311e3a644ce6b947372f6a3371d1",
            "placeholder": "​",
            "style": "IPY_MODEL_60efbe4fa9b047059b47707a85c1918f",
            "value": " 9912422/9912422 [00:00&lt;00:00, 18735156.07it/s]"
          }
        },
        "4ada7030d309476c9d205a2c6acf561f": {
          "model_module": "@jupyter-widgets/base",
          "model_name": "LayoutModel",
          "model_module_version": "1.2.0",
          "state": {
            "_model_module": "@jupyter-widgets/base",
            "_model_module_version": "1.2.0",
            "_model_name": "LayoutModel",
            "_view_count": null,
            "_view_module": "@jupyter-widgets/base",
            "_view_module_version": "1.2.0",
            "_view_name": "LayoutView",
            "align_content": null,
            "align_items": null,
            "align_self": null,
            "border": null,
            "bottom": null,
            "display": null,
            "flex": null,
            "flex_flow": null,
            "grid_area": null,
            "grid_auto_columns": null,
            "grid_auto_flow": null,
            "grid_auto_rows": null,
            "grid_column": null,
            "grid_gap": null,
            "grid_row": null,
            "grid_template_areas": null,
            "grid_template_columns": null,
            "grid_template_rows": null,
            "height": null,
            "justify_content": null,
            "justify_items": null,
            "left": null,
            "margin": null,
            "max_height": null,
            "max_width": null,
            "min_height": null,
            "min_width": null,
            "object_fit": null,
            "object_position": null,
            "order": null,
            "overflow": null,
            "overflow_x": null,
            "overflow_y": null,
            "padding": null,
            "right": null,
            "top": null,
            "visibility": null,
            "width": null
          }
        },
        "ca9bcba4c5ec4f659fea52b82f0b52e1": {
          "model_module": "@jupyter-widgets/base",
          "model_name": "LayoutModel",
          "model_module_version": "1.2.0",
          "state": {
            "_model_module": "@jupyter-widgets/base",
            "_model_module_version": "1.2.0",
            "_model_name": "LayoutModel",
            "_view_count": null,
            "_view_module": "@jupyter-widgets/base",
            "_view_module_version": "1.2.0",
            "_view_name": "LayoutView",
            "align_content": null,
            "align_items": null,
            "align_self": null,
            "border": null,
            "bottom": null,
            "display": null,
            "flex": null,
            "flex_flow": null,
            "grid_area": null,
            "grid_auto_columns": null,
            "grid_auto_flow": null,
            "grid_auto_rows": null,
            "grid_column": null,
            "grid_gap": null,
            "grid_row": null,
            "grid_template_areas": null,
            "grid_template_columns": null,
            "grid_template_rows": null,
            "height": null,
            "justify_content": null,
            "justify_items": null,
            "left": null,
            "margin": null,
            "max_height": null,
            "max_width": null,
            "min_height": null,
            "min_width": null,
            "object_fit": null,
            "object_position": null,
            "order": null,
            "overflow": null,
            "overflow_x": null,
            "overflow_y": null,
            "padding": null,
            "right": null,
            "top": null,
            "visibility": null,
            "width": null
          }
        },
        "fc30b5c1af404270b506d0edbf8bf64f": {
          "model_module": "@jupyter-widgets/controls",
          "model_name": "DescriptionStyleModel",
          "model_module_version": "1.5.0",
          "state": {
            "_model_module": "@jupyter-widgets/controls",
            "_model_module_version": "1.5.0",
            "_model_name": "DescriptionStyleModel",
            "_view_count": null,
            "_view_module": "@jupyter-widgets/base",
            "_view_module_version": "1.2.0",
            "_view_name": "StyleView",
            "description_width": ""
          }
        },
        "2fc1be0950a04861806b0ca20761e394": {
          "model_module": "@jupyter-widgets/base",
          "model_name": "LayoutModel",
          "model_module_version": "1.2.0",
          "state": {
            "_model_module": "@jupyter-widgets/base",
            "_model_module_version": "1.2.0",
            "_model_name": "LayoutModel",
            "_view_count": null,
            "_view_module": "@jupyter-widgets/base",
            "_view_module_version": "1.2.0",
            "_view_name": "LayoutView",
            "align_content": null,
            "align_items": null,
            "align_self": null,
            "border": null,
            "bottom": null,
            "display": null,
            "flex": null,
            "flex_flow": null,
            "grid_area": null,
            "grid_auto_columns": null,
            "grid_auto_flow": null,
            "grid_auto_rows": null,
            "grid_column": null,
            "grid_gap": null,
            "grid_row": null,
            "grid_template_areas": null,
            "grid_template_columns": null,
            "grid_template_rows": null,
            "height": null,
            "justify_content": null,
            "justify_items": null,
            "left": null,
            "margin": null,
            "max_height": null,
            "max_width": null,
            "min_height": null,
            "min_width": null,
            "object_fit": null,
            "object_position": null,
            "order": null,
            "overflow": null,
            "overflow_x": null,
            "overflow_y": null,
            "padding": null,
            "right": null,
            "top": null,
            "visibility": null,
            "width": null
          }
        },
        "558b25abb5d84f27b52e3e98f7749517": {
          "model_module": "@jupyter-widgets/controls",
          "model_name": "ProgressStyleModel",
          "model_module_version": "1.5.0",
          "state": {
            "_model_module": "@jupyter-widgets/controls",
            "_model_module_version": "1.5.0",
            "_model_name": "ProgressStyleModel",
            "_view_count": null,
            "_view_module": "@jupyter-widgets/base",
            "_view_module_version": "1.2.0",
            "_view_name": "StyleView",
            "bar_color": null,
            "description_width": ""
          }
        },
        "c1d6311e3a644ce6b947372f6a3371d1": {
          "model_module": "@jupyter-widgets/base",
          "model_name": "LayoutModel",
          "model_module_version": "1.2.0",
          "state": {
            "_model_module": "@jupyter-widgets/base",
            "_model_module_version": "1.2.0",
            "_model_name": "LayoutModel",
            "_view_count": null,
            "_view_module": "@jupyter-widgets/base",
            "_view_module_version": "1.2.0",
            "_view_name": "LayoutView",
            "align_content": null,
            "align_items": null,
            "align_self": null,
            "border": null,
            "bottom": null,
            "display": null,
            "flex": null,
            "flex_flow": null,
            "grid_area": null,
            "grid_auto_columns": null,
            "grid_auto_flow": null,
            "grid_auto_rows": null,
            "grid_column": null,
            "grid_gap": null,
            "grid_row": null,
            "grid_template_areas": null,
            "grid_template_columns": null,
            "grid_template_rows": null,
            "height": null,
            "justify_content": null,
            "justify_items": null,
            "left": null,
            "margin": null,
            "max_height": null,
            "max_width": null,
            "min_height": null,
            "min_width": null,
            "object_fit": null,
            "object_position": null,
            "order": null,
            "overflow": null,
            "overflow_x": null,
            "overflow_y": null,
            "padding": null,
            "right": null,
            "top": null,
            "visibility": null,
            "width": null
          }
        },
        "60efbe4fa9b047059b47707a85c1918f": {
          "model_module": "@jupyter-widgets/controls",
          "model_name": "DescriptionStyleModel",
          "model_module_version": "1.5.0",
          "state": {
            "_model_module": "@jupyter-widgets/controls",
            "_model_module_version": "1.5.0",
            "_model_name": "DescriptionStyleModel",
            "_view_count": null,
            "_view_module": "@jupyter-widgets/base",
            "_view_module_version": "1.2.0",
            "_view_name": "StyleView",
            "description_width": ""
          }
        },
        "ffe3a3066f644902b05009de91cc740e": {
          "model_module": "@jupyter-widgets/controls",
          "model_name": "HBoxModel",
          "model_module_version": "1.5.0",
          "state": {
            "_dom_classes": [],
            "_model_module": "@jupyter-widgets/controls",
            "_model_module_version": "1.5.0",
            "_model_name": "HBoxModel",
            "_view_count": null,
            "_view_module": "@jupyter-widgets/controls",
            "_view_module_version": "1.5.0",
            "_view_name": "HBoxView",
            "box_style": "",
            "children": [
              "IPY_MODEL_b76a2912853c43d080653feb8c7bacd4",
              "IPY_MODEL_ac06ff9221f04265a4342e165192c765",
              "IPY_MODEL_cc4537b899f14f3780361b640528eb30"
            ],
            "layout": "IPY_MODEL_9adefd319a344db0908398ed413e191a"
          }
        },
        "b76a2912853c43d080653feb8c7bacd4": {
          "model_module": "@jupyter-widgets/controls",
          "model_name": "HTMLModel",
          "model_module_version": "1.5.0",
          "state": {
            "_dom_classes": [],
            "_model_module": "@jupyter-widgets/controls",
            "_model_module_version": "1.5.0",
            "_model_name": "HTMLModel",
            "_view_count": null,
            "_view_module": "@jupyter-widgets/controls",
            "_view_module_version": "1.5.0",
            "_view_name": "HTMLView",
            "description": "",
            "description_tooltip": null,
            "layout": "IPY_MODEL_0433d24527c545cb83312347eb01f6d5",
            "placeholder": "​",
            "style": "IPY_MODEL_e8b63da5554f49e1a9fa26d28b0208f0",
            "value": "100%"
          }
        },
        "ac06ff9221f04265a4342e165192c765": {
          "model_module": "@jupyter-widgets/controls",
          "model_name": "FloatProgressModel",
          "model_module_version": "1.5.0",
          "state": {
            "_dom_classes": [],
            "_model_module": "@jupyter-widgets/controls",
            "_model_module_version": "1.5.0",
            "_model_name": "FloatProgressModel",
            "_view_count": null,
            "_view_module": "@jupyter-widgets/controls",
            "_view_module_version": "1.5.0",
            "_view_name": "ProgressView",
            "bar_style": "success",
            "description": "",
            "description_tooltip": null,
            "layout": "IPY_MODEL_899fa4029be64e93b959ba28353a3655",
            "max": 28881,
            "min": 0,
            "orientation": "horizontal",
            "style": "IPY_MODEL_70d372f4eb094af18080539f0d26a0e1",
            "value": 28881
          }
        },
        "cc4537b899f14f3780361b640528eb30": {
          "model_module": "@jupyter-widgets/controls",
          "model_name": "HTMLModel",
          "model_module_version": "1.5.0",
          "state": {
            "_dom_classes": [],
            "_model_module": "@jupyter-widgets/controls",
            "_model_module_version": "1.5.0",
            "_model_name": "HTMLModel",
            "_view_count": null,
            "_view_module": "@jupyter-widgets/controls",
            "_view_module_version": "1.5.0",
            "_view_name": "HTMLView",
            "description": "",
            "description_tooltip": null,
            "layout": "IPY_MODEL_b1db76a488024cd1b1a2986213c87242",
            "placeholder": "​",
            "style": "IPY_MODEL_18299bd636274fc894e8ecc93ceb305f",
            "value": " 28881/28881 [00:00&lt;00:00, 529076.18it/s]"
          }
        },
        "9adefd319a344db0908398ed413e191a": {
          "model_module": "@jupyter-widgets/base",
          "model_name": "LayoutModel",
          "model_module_version": "1.2.0",
          "state": {
            "_model_module": "@jupyter-widgets/base",
            "_model_module_version": "1.2.0",
            "_model_name": "LayoutModel",
            "_view_count": null,
            "_view_module": "@jupyter-widgets/base",
            "_view_module_version": "1.2.0",
            "_view_name": "LayoutView",
            "align_content": null,
            "align_items": null,
            "align_self": null,
            "border": null,
            "bottom": null,
            "display": null,
            "flex": null,
            "flex_flow": null,
            "grid_area": null,
            "grid_auto_columns": null,
            "grid_auto_flow": null,
            "grid_auto_rows": null,
            "grid_column": null,
            "grid_gap": null,
            "grid_row": null,
            "grid_template_areas": null,
            "grid_template_columns": null,
            "grid_template_rows": null,
            "height": null,
            "justify_content": null,
            "justify_items": null,
            "left": null,
            "margin": null,
            "max_height": null,
            "max_width": null,
            "min_height": null,
            "min_width": null,
            "object_fit": null,
            "object_position": null,
            "order": null,
            "overflow": null,
            "overflow_x": null,
            "overflow_y": null,
            "padding": null,
            "right": null,
            "top": null,
            "visibility": null,
            "width": null
          }
        },
        "0433d24527c545cb83312347eb01f6d5": {
          "model_module": "@jupyter-widgets/base",
          "model_name": "LayoutModel",
          "model_module_version": "1.2.0",
          "state": {
            "_model_module": "@jupyter-widgets/base",
            "_model_module_version": "1.2.0",
            "_model_name": "LayoutModel",
            "_view_count": null,
            "_view_module": "@jupyter-widgets/base",
            "_view_module_version": "1.2.0",
            "_view_name": "LayoutView",
            "align_content": null,
            "align_items": null,
            "align_self": null,
            "border": null,
            "bottom": null,
            "display": null,
            "flex": null,
            "flex_flow": null,
            "grid_area": null,
            "grid_auto_columns": null,
            "grid_auto_flow": null,
            "grid_auto_rows": null,
            "grid_column": null,
            "grid_gap": null,
            "grid_row": null,
            "grid_template_areas": null,
            "grid_template_columns": null,
            "grid_template_rows": null,
            "height": null,
            "justify_content": null,
            "justify_items": null,
            "left": null,
            "margin": null,
            "max_height": null,
            "max_width": null,
            "min_height": null,
            "min_width": null,
            "object_fit": null,
            "object_position": null,
            "order": null,
            "overflow": null,
            "overflow_x": null,
            "overflow_y": null,
            "padding": null,
            "right": null,
            "top": null,
            "visibility": null,
            "width": null
          }
        },
        "e8b63da5554f49e1a9fa26d28b0208f0": {
          "model_module": "@jupyter-widgets/controls",
          "model_name": "DescriptionStyleModel",
          "model_module_version": "1.5.0",
          "state": {
            "_model_module": "@jupyter-widgets/controls",
            "_model_module_version": "1.5.0",
            "_model_name": "DescriptionStyleModel",
            "_view_count": null,
            "_view_module": "@jupyter-widgets/base",
            "_view_module_version": "1.2.0",
            "_view_name": "StyleView",
            "description_width": ""
          }
        },
        "899fa4029be64e93b959ba28353a3655": {
          "model_module": "@jupyter-widgets/base",
          "model_name": "LayoutModel",
          "model_module_version": "1.2.0",
          "state": {
            "_model_module": "@jupyter-widgets/base",
            "_model_module_version": "1.2.0",
            "_model_name": "LayoutModel",
            "_view_count": null,
            "_view_module": "@jupyter-widgets/base",
            "_view_module_version": "1.2.0",
            "_view_name": "LayoutView",
            "align_content": null,
            "align_items": null,
            "align_self": null,
            "border": null,
            "bottom": null,
            "display": null,
            "flex": null,
            "flex_flow": null,
            "grid_area": null,
            "grid_auto_columns": null,
            "grid_auto_flow": null,
            "grid_auto_rows": null,
            "grid_column": null,
            "grid_gap": null,
            "grid_row": null,
            "grid_template_areas": null,
            "grid_template_columns": null,
            "grid_template_rows": null,
            "height": null,
            "justify_content": null,
            "justify_items": null,
            "left": null,
            "margin": null,
            "max_height": null,
            "max_width": null,
            "min_height": null,
            "min_width": null,
            "object_fit": null,
            "object_position": null,
            "order": null,
            "overflow": null,
            "overflow_x": null,
            "overflow_y": null,
            "padding": null,
            "right": null,
            "top": null,
            "visibility": null,
            "width": null
          }
        },
        "70d372f4eb094af18080539f0d26a0e1": {
          "model_module": "@jupyter-widgets/controls",
          "model_name": "ProgressStyleModel",
          "model_module_version": "1.5.0",
          "state": {
            "_model_module": "@jupyter-widgets/controls",
            "_model_module_version": "1.5.0",
            "_model_name": "ProgressStyleModel",
            "_view_count": null,
            "_view_module": "@jupyter-widgets/base",
            "_view_module_version": "1.2.0",
            "_view_name": "StyleView",
            "bar_color": null,
            "description_width": ""
          }
        },
        "b1db76a488024cd1b1a2986213c87242": {
          "model_module": "@jupyter-widgets/base",
          "model_name": "LayoutModel",
          "model_module_version": "1.2.0",
          "state": {
            "_model_module": "@jupyter-widgets/base",
            "_model_module_version": "1.2.0",
            "_model_name": "LayoutModel",
            "_view_count": null,
            "_view_module": "@jupyter-widgets/base",
            "_view_module_version": "1.2.0",
            "_view_name": "LayoutView",
            "align_content": null,
            "align_items": null,
            "align_self": null,
            "border": null,
            "bottom": null,
            "display": null,
            "flex": null,
            "flex_flow": null,
            "grid_area": null,
            "grid_auto_columns": null,
            "grid_auto_flow": null,
            "grid_auto_rows": null,
            "grid_column": null,
            "grid_gap": null,
            "grid_row": null,
            "grid_template_areas": null,
            "grid_template_columns": null,
            "grid_template_rows": null,
            "height": null,
            "justify_content": null,
            "justify_items": null,
            "left": null,
            "margin": null,
            "max_height": null,
            "max_width": null,
            "min_height": null,
            "min_width": null,
            "object_fit": null,
            "object_position": null,
            "order": null,
            "overflow": null,
            "overflow_x": null,
            "overflow_y": null,
            "padding": null,
            "right": null,
            "top": null,
            "visibility": null,
            "width": null
          }
        },
        "18299bd636274fc894e8ecc93ceb305f": {
          "model_module": "@jupyter-widgets/controls",
          "model_name": "DescriptionStyleModel",
          "model_module_version": "1.5.0",
          "state": {
            "_model_module": "@jupyter-widgets/controls",
            "_model_module_version": "1.5.0",
            "_model_name": "DescriptionStyleModel",
            "_view_count": null,
            "_view_module": "@jupyter-widgets/base",
            "_view_module_version": "1.2.0",
            "_view_name": "StyleView",
            "description_width": ""
          }
        },
        "cb19655400814567a9fa096a6c5a9025": {
          "model_module": "@jupyter-widgets/controls",
          "model_name": "HBoxModel",
          "model_module_version": "1.5.0",
          "state": {
            "_dom_classes": [],
            "_model_module": "@jupyter-widgets/controls",
            "_model_module_version": "1.5.0",
            "_model_name": "HBoxModel",
            "_view_count": null,
            "_view_module": "@jupyter-widgets/controls",
            "_view_module_version": "1.5.0",
            "_view_name": "HBoxView",
            "box_style": "",
            "children": [
              "IPY_MODEL_0ca01f432cd54018b40f7b0392fc2771",
              "IPY_MODEL_746e9203370e4cb9bec69c3745945f38",
              "IPY_MODEL_532d33381f6040c89b0fc2699d0b7f54"
            ],
            "layout": "IPY_MODEL_81bdd2882c3148debc9de6157274aa4d"
          }
        },
        "0ca01f432cd54018b40f7b0392fc2771": {
          "model_module": "@jupyter-widgets/controls",
          "model_name": "HTMLModel",
          "model_module_version": "1.5.0",
          "state": {
            "_dom_classes": [],
            "_model_module": "@jupyter-widgets/controls",
            "_model_module_version": "1.5.0",
            "_model_name": "HTMLModel",
            "_view_count": null,
            "_view_module": "@jupyter-widgets/controls",
            "_view_module_version": "1.5.0",
            "_view_name": "HTMLView",
            "description": "",
            "description_tooltip": null,
            "layout": "IPY_MODEL_7252e328731b456b98301d0d4d28a1d5",
            "placeholder": "​",
            "style": "IPY_MODEL_bda79cfc0a9f4a808778d776b7c69d92",
            "value": "100%"
          }
        },
        "746e9203370e4cb9bec69c3745945f38": {
          "model_module": "@jupyter-widgets/controls",
          "model_name": "FloatProgressModel",
          "model_module_version": "1.5.0",
          "state": {
            "_dom_classes": [],
            "_model_module": "@jupyter-widgets/controls",
            "_model_module_version": "1.5.0",
            "_model_name": "FloatProgressModel",
            "_view_count": null,
            "_view_module": "@jupyter-widgets/controls",
            "_view_module_version": "1.5.0",
            "_view_name": "ProgressView",
            "bar_style": "success",
            "description": "",
            "description_tooltip": null,
            "layout": "IPY_MODEL_4b27c1d9d4ec45b2998814f519062096",
            "max": 1648877,
            "min": 0,
            "orientation": "horizontal",
            "style": "IPY_MODEL_cde7852e91f249458d4f5329376e5d81",
            "value": 1648877
          }
        },
        "532d33381f6040c89b0fc2699d0b7f54": {
          "model_module": "@jupyter-widgets/controls",
          "model_name": "HTMLModel",
          "model_module_version": "1.5.0",
          "state": {
            "_dom_classes": [],
            "_model_module": "@jupyter-widgets/controls",
            "_model_module_version": "1.5.0",
            "_model_name": "HTMLModel",
            "_view_count": null,
            "_view_module": "@jupyter-widgets/controls",
            "_view_module_version": "1.5.0",
            "_view_name": "HTMLView",
            "description": "",
            "description_tooltip": null,
            "layout": "IPY_MODEL_ba7473dace8b4bbaadfd0357aafd8d99",
            "placeholder": "​",
            "style": "IPY_MODEL_c5bb3ba403944d539dffef5b7ddd8e5d",
            "value": " 1648877/1648877 [00:00&lt;00:00, 6549140.54it/s]"
          }
        },
        "81bdd2882c3148debc9de6157274aa4d": {
          "model_module": "@jupyter-widgets/base",
          "model_name": "LayoutModel",
          "model_module_version": "1.2.0",
          "state": {
            "_model_module": "@jupyter-widgets/base",
            "_model_module_version": "1.2.0",
            "_model_name": "LayoutModel",
            "_view_count": null,
            "_view_module": "@jupyter-widgets/base",
            "_view_module_version": "1.2.0",
            "_view_name": "LayoutView",
            "align_content": null,
            "align_items": null,
            "align_self": null,
            "border": null,
            "bottom": null,
            "display": null,
            "flex": null,
            "flex_flow": null,
            "grid_area": null,
            "grid_auto_columns": null,
            "grid_auto_flow": null,
            "grid_auto_rows": null,
            "grid_column": null,
            "grid_gap": null,
            "grid_row": null,
            "grid_template_areas": null,
            "grid_template_columns": null,
            "grid_template_rows": null,
            "height": null,
            "justify_content": null,
            "justify_items": null,
            "left": null,
            "margin": null,
            "max_height": null,
            "max_width": null,
            "min_height": null,
            "min_width": null,
            "object_fit": null,
            "object_position": null,
            "order": null,
            "overflow": null,
            "overflow_x": null,
            "overflow_y": null,
            "padding": null,
            "right": null,
            "top": null,
            "visibility": null,
            "width": null
          }
        },
        "7252e328731b456b98301d0d4d28a1d5": {
          "model_module": "@jupyter-widgets/base",
          "model_name": "LayoutModel",
          "model_module_version": "1.2.0",
          "state": {
            "_model_module": "@jupyter-widgets/base",
            "_model_module_version": "1.2.0",
            "_model_name": "LayoutModel",
            "_view_count": null,
            "_view_module": "@jupyter-widgets/base",
            "_view_module_version": "1.2.0",
            "_view_name": "LayoutView",
            "align_content": null,
            "align_items": null,
            "align_self": null,
            "border": null,
            "bottom": null,
            "display": null,
            "flex": null,
            "flex_flow": null,
            "grid_area": null,
            "grid_auto_columns": null,
            "grid_auto_flow": null,
            "grid_auto_rows": null,
            "grid_column": null,
            "grid_gap": null,
            "grid_row": null,
            "grid_template_areas": null,
            "grid_template_columns": null,
            "grid_template_rows": null,
            "height": null,
            "justify_content": null,
            "justify_items": null,
            "left": null,
            "margin": null,
            "max_height": null,
            "max_width": null,
            "min_height": null,
            "min_width": null,
            "object_fit": null,
            "object_position": null,
            "order": null,
            "overflow": null,
            "overflow_x": null,
            "overflow_y": null,
            "padding": null,
            "right": null,
            "top": null,
            "visibility": null,
            "width": null
          }
        },
        "bda79cfc0a9f4a808778d776b7c69d92": {
          "model_module": "@jupyter-widgets/controls",
          "model_name": "DescriptionStyleModel",
          "model_module_version": "1.5.0",
          "state": {
            "_model_module": "@jupyter-widgets/controls",
            "_model_module_version": "1.5.0",
            "_model_name": "DescriptionStyleModel",
            "_view_count": null,
            "_view_module": "@jupyter-widgets/base",
            "_view_module_version": "1.2.0",
            "_view_name": "StyleView",
            "description_width": ""
          }
        },
        "4b27c1d9d4ec45b2998814f519062096": {
          "model_module": "@jupyter-widgets/base",
          "model_name": "LayoutModel",
          "model_module_version": "1.2.0",
          "state": {
            "_model_module": "@jupyter-widgets/base",
            "_model_module_version": "1.2.0",
            "_model_name": "LayoutModel",
            "_view_count": null,
            "_view_module": "@jupyter-widgets/base",
            "_view_module_version": "1.2.0",
            "_view_name": "LayoutView",
            "align_content": null,
            "align_items": null,
            "align_self": null,
            "border": null,
            "bottom": null,
            "display": null,
            "flex": null,
            "flex_flow": null,
            "grid_area": null,
            "grid_auto_columns": null,
            "grid_auto_flow": null,
            "grid_auto_rows": null,
            "grid_column": null,
            "grid_gap": null,
            "grid_row": null,
            "grid_template_areas": null,
            "grid_template_columns": null,
            "grid_template_rows": null,
            "height": null,
            "justify_content": null,
            "justify_items": null,
            "left": null,
            "margin": null,
            "max_height": null,
            "max_width": null,
            "min_height": null,
            "min_width": null,
            "object_fit": null,
            "object_position": null,
            "order": null,
            "overflow": null,
            "overflow_x": null,
            "overflow_y": null,
            "padding": null,
            "right": null,
            "top": null,
            "visibility": null,
            "width": null
          }
        },
        "cde7852e91f249458d4f5329376e5d81": {
          "model_module": "@jupyter-widgets/controls",
          "model_name": "ProgressStyleModel",
          "model_module_version": "1.5.0",
          "state": {
            "_model_module": "@jupyter-widgets/controls",
            "_model_module_version": "1.5.0",
            "_model_name": "ProgressStyleModel",
            "_view_count": null,
            "_view_module": "@jupyter-widgets/base",
            "_view_module_version": "1.2.0",
            "_view_name": "StyleView",
            "bar_color": null,
            "description_width": ""
          }
        },
        "ba7473dace8b4bbaadfd0357aafd8d99": {
          "model_module": "@jupyter-widgets/base",
          "model_name": "LayoutModel",
          "model_module_version": "1.2.0",
          "state": {
            "_model_module": "@jupyter-widgets/base",
            "_model_module_version": "1.2.0",
            "_model_name": "LayoutModel",
            "_view_count": null,
            "_view_module": "@jupyter-widgets/base",
            "_view_module_version": "1.2.0",
            "_view_name": "LayoutView",
            "align_content": null,
            "align_items": null,
            "align_self": null,
            "border": null,
            "bottom": null,
            "display": null,
            "flex": null,
            "flex_flow": null,
            "grid_area": null,
            "grid_auto_columns": null,
            "grid_auto_flow": null,
            "grid_auto_rows": null,
            "grid_column": null,
            "grid_gap": null,
            "grid_row": null,
            "grid_template_areas": null,
            "grid_template_columns": null,
            "grid_template_rows": null,
            "height": null,
            "justify_content": null,
            "justify_items": null,
            "left": null,
            "margin": null,
            "max_height": null,
            "max_width": null,
            "min_height": null,
            "min_width": null,
            "object_fit": null,
            "object_position": null,
            "order": null,
            "overflow": null,
            "overflow_x": null,
            "overflow_y": null,
            "padding": null,
            "right": null,
            "top": null,
            "visibility": null,
            "width": null
          }
        },
        "c5bb3ba403944d539dffef5b7ddd8e5d": {
          "model_module": "@jupyter-widgets/controls",
          "model_name": "DescriptionStyleModel",
          "model_module_version": "1.5.0",
          "state": {
            "_model_module": "@jupyter-widgets/controls",
            "_model_module_version": "1.5.0",
            "_model_name": "DescriptionStyleModel",
            "_view_count": null,
            "_view_module": "@jupyter-widgets/base",
            "_view_module_version": "1.2.0",
            "_view_name": "StyleView",
            "description_width": ""
          }
        },
        "96bb35a7c7ed4ef487d68ad9cad8a128": {
          "model_module": "@jupyter-widgets/controls",
          "model_name": "HBoxModel",
          "model_module_version": "1.5.0",
          "state": {
            "_dom_classes": [],
            "_model_module": "@jupyter-widgets/controls",
            "_model_module_version": "1.5.0",
            "_model_name": "HBoxModel",
            "_view_count": null,
            "_view_module": "@jupyter-widgets/controls",
            "_view_module_version": "1.5.0",
            "_view_name": "HBoxView",
            "box_style": "",
            "children": [
              "IPY_MODEL_ca8c90bb734248c8876adcc29d2a7877",
              "IPY_MODEL_b32cb4c0d41a4d27bb1b919b622a701f",
              "IPY_MODEL_2caecafee3b4463bad6ff3c21777eea0"
            ],
            "layout": "IPY_MODEL_567a0ac5a6744286b8a1a20e725a6f61"
          }
        },
        "ca8c90bb734248c8876adcc29d2a7877": {
          "model_module": "@jupyter-widgets/controls",
          "model_name": "HTMLModel",
          "model_module_version": "1.5.0",
          "state": {
            "_dom_classes": [],
            "_model_module": "@jupyter-widgets/controls",
            "_model_module_version": "1.5.0",
            "_model_name": "HTMLModel",
            "_view_count": null,
            "_view_module": "@jupyter-widgets/controls",
            "_view_module_version": "1.5.0",
            "_view_name": "HTMLView",
            "description": "",
            "description_tooltip": null,
            "layout": "IPY_MODEL_84302b9bfa8749c489452c8e508a7dea",
            "placeholder": "​",
            "style": "IPY_MODEL_fb8b167012b64bda82e7a134bbecafc9",
            "value": "100%"
          }
        },
        "b32cb4c0d41a4d27bb1b919b622a701f": {
          "model_module": "@jupyter-widgets/controls",
          "model_name": "FloatProgressModel",
          "model_module_version": "1.5.0",
          "state": {
            "_dom_classes": [],
            "_model_module": "@jupyter-widgets/controls",
            "_model_module_version": "1.5.0",
            "_model_name": "FloatProgressModel",
            "_view_count": null,
            "_view_module": "@jupyter-widgets/controls",
            "_view_module_version": "1.5.0",
            "_view_name": "ProgressView",
            "bar_style": "success",
            "description": "",
            "description_tooltip": null,
            "layout": "IPY_MODEL_3b371c3903454c5ab11aebbeb33feae9",
            "max": 4542,
            "min": 0,
            "orientation": "horizontal",
            "style": "IPY_MODEL_3fb68f263d014a12b992f00e70371e69",
            "value": 4542
          }
        },
        "2caecafee3b4463bad6ff3c21777eea0": {
          "model_module": "@jupyter-widgets/controls",
          "model_name": "HTMLModel",
          "model_module_version": "1.5.0",
          "state": {
            "_dom_classes": [],
            "_model_module": "@jupyter-widgets/controls",
            "_model_module_version": "1.5.0",
            "_model_name": "HTMLModel",
            "_view_count": null,
            "_view_module": "@jupyter-widgets/controls",
            "_view_module_version": "1.5.0",
            "_view_name": "HTMLView",
            "description": "",
            "description_tooltip": null,
            "layout": "IPY_MODEL_4d6c2525356e42a6a67cc846dc2a6534",
            "placeholder": "​",
            "style": "IPY_MODEL_277d1e120782456db0fa768ede2bb22d",
            "value": " 4542/4542 [00:00&lt;00:00, 62981.54it/s]"
          }
        },
        "567a0ac5a6744286b8a1a20e725a6f61": {
          "model_module": "@jupyter-widgets/base",
          "model_name": "LayoutModel",
          "model_module_version": "1.2.0",
          "state": {
            "_model_module": "@jupyter-widgets/base",
            "_model_module_version": "1.2.0",
            "_model_name": "LayoutModel",
            "_view_count": null,
            "_view_module": "@jupyter-widgets/base",
            "_view_module_version": "1.2.0",
            "_view_name": "LayoutView",
            "align_content": null,
            "align_items": null,
            "align_self": null,
            "border": null,
            "bottom": null,
            "display": null,
            "flex": null,
            "flex_flow": null,
            "grid_area": null,
            "grid_auto_columns": null,
            "grid_auto_flow": null,
            "grid_auto_rows": null,
            "grid_column": null,
            "grid_gap": null,
            "grid_row": null,
            "grid_template_areas": null,
            "grid_template_columns": null,
            "grid_template_rows": null,
            "height": null,
            "justify_content": null,
            "justify_items": null,
            "left": null,
            "margin": null,
            "max_height": null,
            "max_width": null,
            "min_height": null,
            "min_width": null,
            "object_fit": null,
            "object_position": null,
            "order": null,
            "overflow": null,
            "overflow_x": null,
            "overflow_y": null,
            "padding": null,
            "right": null,
            "top": null,
            "visibility": null,
            "width": null
          }
        },
        "84302b9bfa8749c489452c8e508a7dea": {
          "model_module": "@jupyter-widgets/base",
          "model_name": "LayoutModel",
          "model_module_version": "1.2.0",
          "state": {
            "_model_module": "@jupyter-widgets/base",
            "_model_module_version": "1.2.0",
            "_model_name": "LayoutModel",
            "_view_count": null,
            "_view_module": "@jupyter-widgets/base",
            "_view_module_version": "1.2.0",
            "_view_name": "LayoutView",
            "align_content": null,
            "align_items": null,
            "align_self": null,
            "border": null,
            "bottom": null,
            "display": null,
            "flex": null,
            "flex_flow": null,
            "grid_area": null,
            "grid_auto_columns": null,
            "grid_auto_flow": null,
            "grid_auto_rows": null,
            "grid_column": null,
            "grid_gap": null,
            "grid_row": null,
            "grid_template_areas": null,
            "grid_template_columns": null,
            "grid_template_rows": null,
            "height": null,
            "justify_content": null,
            "justify_items": null,
            "left": null,
            "margin": null,
            "max_height": null,
            "max_width": null,
            "min_height": null,
            "min_width": null,
            "object_fit": null,
            "object_position": null,
            "order": null,
            "overflow": null,
            "overflow_x": null,
            "overflow_y": null,
            "padding": null,
            "right": null,
            "top": null,
            "visibility": null,
            "width": null
          }
        },
        "fb8b167012b64bda82e7a134bbecafc9": {
          "model_module": "@jupyter-widgets/controls",
          "model_name": "DescriptionStyleModel",
          "model_module_version": "1.5.0",
          "state": {
            "_model_module": "@jupyter-widgets/controls",
            "_model_module_version": "1.5.0",
            "_model_name": "DescriptionStyleModel",
            "_view_count": null,
            "_view_module": "@jupyter-widgets/base",
            "_view_module_version": "1.2.0",
            "_view_name": "StyleView",
            "description_width": ""
          }
        },
        "3b371c3903454c5ab11aebbeb33feae9": {
          "model_module": "@jupyter-widgets/base",
          "model_name": "LayoutModel",
          "model_module_version": "1.2.0",
          "state": {
            "_model_module": "@jupyter-widgets/base",
            "_model_module_version": "1.2.0",
            "_model_name": "LayoutModel",
            "_view_count": null,
            "_view_module": "@jupyter-widgets/base",
            "_view_module_version": "1.2.0",
            "_view_name": "LayoutView",
            "align_content": null,
            "align_items": null,
            "align_self": null,
            "border": null,
            "bottom": null,
            "display": null,
            "flex": null,
            "flex_flow": null,
            "grid_area": null,
            "grid_auto_columns": null,
            "grid_auto_flow": null,
            "grid_auto_rows": null,
            "grid_column": null,
            "grid_gap": null,
            "grid_row": null,
            "grid_template_areas": null,
            "grid_template_columns": null,
            "grid_template_rows": null,
            "height": null,
            "justify_content": null,
            "justify_items": null,
            "left": null,
            "margin": null,
            "max_height": null,
            "max_width": null,
            "min_height": null,
            "min_width": null,
            "object_fit": null,
            "object_position": null,
            "order": null,
            "overflow": null,
            "overflow_x": null,
            "overflow_y": null,
            "padding": null,
            "right": null,
            "top": null,
            "visibility": null,
            "width": null
          }
        },
        "3fb68f263d014a12b992f00e70371e69": {
          "model_module": "@jupyter-widgets/controls",
          "model_name": "ProgressStyleModel",
          "model_module_version": "1.5.0",
          "state": {
            "_model_module": "@jupyter-widgets/controls",
            "_model_module_version": "1.5.0",
            "_model_name": "ProgressStyleModel",
            "_view_count": null,
            "_view_module": "@jupyter-widgets/base",
            "_view_module_version": "1.2.0",
            "_view_name": "StyleView",
            "bar_color": null,
            "description_width": ""
          }
        },
        "4d6c2525356e42a6a67cc846dc2a6534": {
          "model_module": "@jupyter-widgets/base",
          "model_name": "LayoutModel",
          "model_module_version": "1.2.0",
          "state": {
            "_model_module": "@jupyter-widgets/base",
            "_model_module_version": "1.2.0",
            "_model_name": "LayoutModel",
            "_view_count": null,
            "_view_module": "@jupyter-widgets/base",
            "_view_module_version": "1.2.0",
            "_view_name": "LayoutView",
            "align_content": null,
            "align_items": null,
            "align_self": null,
            "border": null,
            "bottom": null,
            "display": null,
            "flex": null,
            "flex_flow": null,
            "grid_area": null,
            "grid_auto_columns": null,
            "grid_auto_flow": null,
            "grid_auto_rows": null,
            "grid_column": null,
            "grid_gap": null,
            "grid_row": null,
            "grid_template_areas": null,
            "grid_template_columns": null,
            "grid_template_rows": null,
            "height": null,
            "justify_content": null,
            "justify_items": null,
            "left": null,
            "margin": null,
            "max_height": null,
            "max_width": null,
            "min_height": null,
            "min_width": null,
            "object_fit": null,
            "object_position": null,
            "order": null,
            "overflow": null,
            "overflow_x": null,
            "overflow_y": null,
            "padding": null,
            "right": null,
            "top": null,
            "visibility": null,
            "width": null
          }
        },
        "277d1e120782456db0fa768ede2bb22d": {
          "model_module": "@jupyter-widgets/controls",
          "model_name": "DescriptionStyleModel",
          "model_module_version": "1.5.0",
          "state": {
            "_model_module": "@jupyter-widgets/controls",
            "_model_module_version": "1.5.0",
            "_model_name": "DescriptionStyleModel",
            "_view_count": null,
            "_view_module": "@jupyter-widgets/base",
            "_view_module_version": "1.2.0",
            "_view_name": "StyleView",
            "description_width": ""
          }
        }
      }
    }
  },
  "cells": [
    {
      "cell_type": "markdown",
      "metadata": {
        "id": "view-in-github",
        "colab_type": "text"
      },
      "source": [
        "<a href=\"https://colab.research.google.com/github/IKAR42/SberDS_Study/blob/main/HW_NN_2_cv_v_1_ipynb%22.ipynb\" target=\"_parent\"><img src=\"https://colab.research.google.com/assets/colab-badge.svg\" alt=\"Open In Colab\"/></a>"
      ]
    },
    {
      "cell_type": "code",
      "execution_count": 2,
      "metadata": {
        "id": "in0PyicHhZDG"
      },
      "outputs": [],
      "source": [
        "import matplotlib.pyplot as plt\n",
        "import numpy\n",
        "import torch\n",
        "import torch.nn as nn\n",
        "import torchvision.models as models\n",
        "from torchvision import datasets, transforms\n",
        "from torch.utils.data import DataLoader"
      ]
    },
    {
      "cell_type": "code",
      "source": [],
      "metadata": {
        "id": "U0lJeMPPan5a"
      },
      "execution_count": null,
      "outputs": []
    },
    {
      "cell_type": "code",
      "source": [
        "# архитектура модели\n",
        "# гиперпараметры\n",
        "# загрузчик данных\n",
        "# формирование батча\n",
        "# инициализировать модель\n",
        "# оптимизатор\n",
        "# функция потерь\n",
        "# опционально шедулеры\n",
        "# трейн луп"
      ],
      "metadata": {
        "id": "73ieMA485Tme"
      },
      "execution_count": null,
      "outputs": []
    },
    {
      "cell_type": "code",
      "source": [
        "# hyperparams\n",
        "inp_dim = 28 * 28\n",
        "hidden = 256\n",
        "out_dim = 10\n",
        "device_id = -1\n",
        "device = 'cpu' if device_id == -1 else f'cuda:{device_id}' # 'cuda:0' id GPU\n",
        "n_epochs = 10\n",
        "batch_size = 128"
      ],
      "metadata": {
        "id": "3j8m35o3X9Kk"
      },
      "execution_count": 3,
      "outputs": []
    },
    {
      "cell_type": "code",
      "source": [
        "transform = transforms.Compose(\n",
        "    [transforms.ToTensor(),\n",
        "     transforms.Normalize((0.5), (0.5)),\n",
        "     ])\n",
        "\n",
        "# зашружаем тренировочный сет\n",
        "dataset_train = datasets.MNIST('.', \n",
        "                               train=True,            \n",
        "                               download=True, \n",
        "                               transform=transform)\n",
        "\n",
        "dataset_test = datasets.MNIST('.', \n",
        "                              train=False,\n",
        "                              download=True, \n",
        "                              transform=transform)\n"
      ],
      "metadata": {
        "id": "SI8UCZuy7hTK",
        "colab": {
          "base_uri": "https://localhost:8080/",
          "height": 423,
          "referenced_widgets": [
            "c907bb8ded7a4a32b905872e589d102a",
            "94c6c2d6639d4f178bae766ba93b1cb9",
            "1fcf636f9d644dc2806899b3f30ad26f",
            "c3f57c84fdee4f668d64f25e1b23541f",
            "4ada7030d309476c9d205a2c6acf561f",
            "ca9bcba4c5ec4f659fea52b82f0b52e1",
            "fc30b5c1af404270b506d0edbf8bf64f",
            "2fc1be0950a04861806b0ca20761e394",
            "558b25abb5d84f27b52e3e98f7749517",
            "c1d6311e3a644ce6b947372f6a3371d1",
            "60efbe4fa9b047059b47707a85c1918f",
            "ffe3a3066f644902b05009de91cc740e",
            "b76a2912853c43d080653feb8c7bacd4",
            "ac06ff9221f04265a4342e165192c765",
            "cc4537b899f14f3780361b640528eb30",
            "9adefd319a344db0908398ed413e191a",
            "0433d24527c545cb83312347eb01f6d5",
            "e8b63da5554f49e1a9fa26d28b0208f0",
            "899fa4029be64e93b959ba28353a3655",
            "70d372f4eb094af18080539f0d26a0e1",
            "b1db76a488024cd1b1a2986213c87242",
            "18299bd636274fc894e8ecc93ceb305f",
            "cb19655400814567a9fa096a6c5a9025",
            "0ca01f432cd54018b40f7b0392fc2771",
            "746e9203370e4cb9bec69c3745945f38",
            "532d33381f6040c89b0fc2699d0b7f54",
            "81bdd2882c3148debc9de6157274aa4d",
            "7252e328731b456b98301d0d4d28a1d5",
            "bda79cfc0a9f4a808778d776b7c69d92",
            "4b27c1d9d4ec45b2998814f519062096",
            "cde7852e91f249458d4f5329376e5d81",
            "ba7473dace8b4bbaadfd0357aafd8d99",
            "c5bb3ba403944d539dffef5b7ddd8e5d",
            "96bb35a7c7ed4ef487d68ad9cad8a128",
            "ca8c90bb734248c8876adcc29d2a7877",
            "b32cb4c0d41a4d27bb1b919b622a701f",
            "2caecafee3b4463bad6ff3c21777eea0",
            "567a0ac5a6744286b8a1a20e725a6f61",
            "84302b9bfa8749c489452c8e508a7dea",
            "fb8b167012b64bda82e7a134bbecafc9",
            "3b371c3903454c5ab11aebbeb33feae9",
            "3fb68f263d014a12b992f00e70371e69",
            "4d6c2525356e42a6a67cc846dc2a6534",
            "277d1e120782456db0fa768ede2bb22d"
          ]
        },
        "outputId": "2c08eaa9-c8d4-4061-ce86-949d4a1cd3ed"
      },
      "execution_count": 4,
      "outputs": [
        {
          "output_type": "stream",
          "name": "stdout",
          "text": [
            "Downloading http://yann.lecun.com/exdb/mnist/train-images-idx3-ubyte.gz\n",
            "Downloading http://yann.lecun.com/exdb/mnist/train-images-idx3-ubyte.gz to ./MNIST/raw/train-images-idx3-ubyte.gz\n"
          ]
        },
        {
          "output_type": "display_data",
          "data": {
            "text/plain": [
              "  0%|          | 0/9912422 [00:00<?, ?it/s]"
            ],
            "application/vnd.jupyter.widget-view+json": {
              "version_major": 2,
              "version_minor": 0,
              "model_id": "c907bb8ded7a4a32b905872e589d102a"
            }
          },
          "metadata": {}
        },
        {
          "output_type": "stream",
          "name": "stdout",
          "text": [
            "Extracting ./MNIST/raw/train-images-idx3-ubyte.gz to ./MNIST/raw\n",
            "\n",
            "Downloading http://yann.lecun.com/exdb/mnist/train-labels-idx1-ubyte.gz\n",
            "Downloading http://yann.lecun.com/exdb/mnist/train-labels-idx1-ubyte.gz to ./MNIST/raw/train-labels-idx1-ubyte.gz\n"
          ]
        },
        {
          "output_type": "display_data",
          "data": {
            "text/plain": [
              "  0%|          | 0/28881 [00:00<?, ?it/s]"
            ],
            "application/vnd.jupyter.widget-view+json": {
              "version_major": 2,
              "version_minor": 0,
              "model_id": "ffe3a3066f644902b05009de91cc740e"
            }
          },
          "metadata": {}
        },
        {
          "output_type": "stream",
          "name": "stdout",
          "text": [
            "Extracting ./MNIST/raw/train-labels-idx1-ubyte.gz to ./MNIST/raw\n",
            "\n",
            "Downloading http://yann.lecun.com/exdb/mnist/t10k-images-idx3-ubyte.gz\n",
            "Downloading http://yann.lecun.com/exdb/mnist/t10k-images-idx3-ubyte.gz to ./MNIST/raw/t10k-images-idx3-ubyte.gz\n"
          ]
        },
        {
          "output_type": "display_data",
          "data": {
            "text/plain": [
              "  0%|          | 0/1648877 [00:00<?, ?it/s]"
            ],
            "application/vnd.jupyter.widget-view+json": {
              "version_major": 2,
              "version_minor": 0,
              "model_id": "cb19655400814567a9fa096a6c5a9025"
            }
          },
          "metadata": {}
        },
        {
          "output_type": "stream",
          "name": "stdout",
          "text": [
            "Extracting ./MNIST/raw/t10k-images-idx3-ubyte.gz to ./MNIST/raw\n",
            "\n",
            "Downloading http://yann.lecun.com/exdb/mnist/t10k-labels-idx1-ubyte.gz\n",
            "Downloading http://yann.lecun.com/exdb/mnist/t10k-labels-idx1-ubyte.gz to ./MNIST/raw/t10k-labels-idx1-ubyte.gz\n"
          ]
        },
        {
          "output_type": "display_data",
          "data": {
            "text/plain": [
              "  0%|          | 0/4542 [00:00<?, ?it/s]"
            ],
            "application/vnd.jupyter.widget-view+json": {
              "version_major": 2,
              "version_minor": 0,
              "model_id": "96bb35a7c7ed4ef487d68ad9cad8a128"
            }
          },
          "metadata": {}
        },
        {
          "output_type": "stream",
          "name": "stdout",
          "text": [
            "Extracting ./MNIST/raw/t10k-labels-idx1-ubyte.gz to ./MNIST/raw\n",
            "\n"
          ]
        }
      ]
    },
    {
      "cell_type": "code",
      "source": [
        "dataset_train"
      ],
      "metadata": {
        "colab": {
          "base_uri": "https://localhost:8080/"
        },
        "id": "dhJuBtoz7f43",
        "outputId": "a50fa81d-1eca-4eba-b782-3aac0dfe19e1"
      },
      "execution_count": 5,
      "outputs": [
        {
          "output_type": "execute_result",
          "data": {
            "text/plain": [
              "Dataset MNIST\n",
              "    Number of datapoints: 60000\n",
              "    Root location: .\n",
              "    Split: Train\n",
              "    StandardTransform\n",
              "Transform: Compose(\n",
              "               ToTensor()\n",
              "               Normalize(mean=0.5, std=0.5)\n",
              "           )"
            ]
          },
          "metadata": {},
          "execution_count": 5
        }
      ]
    },
    {
      "cell_type": "code",
      "source": [
        "\n",
        "plt.imshow(dataset_train.data[0].detach().numpy())\n",
        "plt.show()"
      ],
      "metadata": {
        "colab": {
          "base_uri": "https://localhost:8080/",
          "height": 265
        },
        "id": "0zXXXYP37gFL",
        "outputId": "ba18ab2f-f90a-4a39-c4e4-b20612c699ce"
      },
      "execution_count": 6,
      "outputs": [
        {
          "output_type": "display_data",
          "data": {
            "text/plain": [
              "<Figure size 432x288 with 1 Axes>"
            ],
            "image/png": "[encoded data removed]"
          },
          "metadata": {
            "needs_background": "light"
          }
        }
      ]
    },
    {
      "cell_type": "code",
      "source": [
        "class LinearModel(nn.Module):\n",
        "    def __init__(self, input_dim, hidden_dim, output_dim, dropout_p=0.1):\n",
        "        super().__init__()\n",
        "        self.linear1 = nn.Linear(input_dim, hidden_dim)\n",
        "        # custom init nn.init.xavier_uniform(self.linear1.weight) \n",
        "        self.do = nn.Dropout(dropout_p)\n",
        "        self.linear2 = nn.Linear(hidden_dim, output_dim)\n",
        "        self.activ = nn.ReLU()\n",
        "\n",
        "    def forward(self, x):\n",
        "        x = self.linear1(x)\n",
        "        x = self.activ(x)\n",
        "        x = self.do(x)\n",
        "        x = self.linear2(x)\n",
        "\n",
        "        return x\n"
      ],
      "metadata": {
        "id": "LdAH7oiY8Mxv"
      },
      "execution_count": 7,
      "outputs": []
    },
    {
      "cell_type": "code",
      "source": [
        "# Как формируется батч\n",
        "# dataloader берет из Samler набор индексов и по этим индексам получает элементы из Dataset\n",
        "dataset = datasets.MNIST('.', train=True, download=True)\n",
        "\n",
        "def collate_fn(data: list):\n",
        "    # data = [(pic, target)...]\n",
        "    pics = []\n",
        "    targets = []\n",
        "    for item in data:\n",
        "        pics.append(numpy.array(item[0]))\n",
        "        targets.append(item[1])\n",
        "    pics = torch.from_numpy(numpy.array(pics)).float() / 255\n",
        "    pics = pics.view(pics.size(0), -1) # mtx 28x28 to vec 7xx\n",
        "    targets = torch.from_numpy(numpy.array(targets))\n",
        "\n",
        "    return {\n",
        "        'data': pics,\n",
        "        'target': targets,\n",
        "    }"
      ],
      "metadata": {
        "id": "8nN5YnYrcv6s"
      },
      "execution_count": 8,
      "outputs": []
    },
    {
      "cell_type": "code",
      "source": [
        "dataloader = DataLoader(dataset, \n",
        "                        batch_size, \n",
        "                        shuffle=True, \n",
        "                        collate_fn=collate_fn,\n",
        "                        drop_last = True,\n",
        "                        )"
      ],
      "metadata": {
        "id": "aImjm1_u8NR8"
      },
      "execution_count": 9,
      "outputs": []
    },
    {
      "cell_type": "code",
      "source": [
        "model = LinearModel(inp_dim, hidden, out_dim).to(device)\n",
        "model.train() \n",
        "optim = torch.optim.Adam(model.parameters())\n",
        "loss_func = nn.CrossEntropyLoss()\n"
      ],
      "metadata": {
        "id": "_fdZfq9C9zO2"
      },
      "execution_count": 10,
      "outputs": []
    },
    {
      "cell_type": "code",
      "source": [
        "for epoch in range(n_epochs):\n",
        "    \n",
        "    for i, batch in enumerate(dataloader):\n",
        "        optim.zero_grad()\n",
        "\n",
        "        predict = model(batch['data'].to(device))\n",
        "        loss = loss_func(predict, batch['target'].to(device))\n",
        "        loss.backward()\n",
        "        optim.step()\n",
        "        if i % 200 == 0:\n",
        "            print(f'epoch: {epoch}, step: {i}, loss: {loss.item()}')\n",
        "        # TODO Добавить тест модели на тестовом датасете\n",
        "    #save every epoch\n",
        "    torch.save(model.state_dict(), f'./chkpt_cv1_{epoch}.pth')"
      ],
      "metadata": {
        "colab": {
          "base_uri": "https://localhost:8080/"
        },
        "id": "tLtNcHUSaTMf",
        "outputId": "76dbe5ac-a95b-428c-ed2e-09f52e298bf0"
      },
      "execution_count": 11,
      "outputs": [
        {
          "output_type": "stream",
          "name": "stdout",
          "text": [
            "epoch: 0, step: 0, loss: 2.291715145111084\n",
            "epoch: 0, step: 200, loss: 0.3131409287452698\n",
            "epoch: 0, step: 400, loss: 0.24293512105941772\n",
            "epoch: 1, step: 0, loss: 0.2206752598285675\n",
            "epoch: 1, step: 200, loss: 0.10363432765007019\n",
            "epoch: 1, step: 400, loss: 0.19820016622543335\n",
            "epoch: 2, step: 0, loss: 0.07643289864063263\n",
            "epoch: 2, step: 200, loss: 0.09372283518314362\n",
            "epoch: 2, step: 400, loss: 0.1387777328491211\n",
            "epoch: 3, step: 0, loss: 0.06317015737295151\n",
            "epoch: 3, step: 200, loss: 0.1584438532590866\n",
            "epoch: 3, step: 400, loss: 0.04132901504635811\n",
            "epoch: 4, step: 0, loss: 0.06272727996110916\n",
            "epoch: 4, step: 200, loss: 0.07974418252706528\n",
            "epoch: 4, step: 400, loss: 0.07451120764017105\n",
            "epoch: 5, step: 0, loss: 0.04469136893749237\n",
            "epoch: 5, step: 200, loss: 0.0744507685303688\n",
            "epoch: 5, step: 400, loss: 0.06860317289829254\n",
            "epoch: 6, step: 0, loss: 0.05008194223046303\n",
            "epoch: 6, step: 200, loss: 0.05059962719678879\n",
            "epoch: 6, step: 400, loss: 0.05229438841342926\n",
            "epoch: 7, step: 0, loss: 0.01913994364440441\n",
            "epoch: 7, step: 200, loss: 0.024253956973552704\n",
            "epoch: 7, step: 400, loss: 0.03183205425739288\n",
            "epoch: 8, step: 0, loss: 0.0530538372695446\n",
            "epoch: 8, step: 200, loss: 0.03889203071594238\n",
            "epoch: 8, step: 400, loss: 0.04200584813952446\n",
            "epoch: 9, step: 0, loss: 0.010566344484686852\n",
            "epoch: 9, step: 200, loss: 0.07313007861375809\n",
            "epoch: 9, step: 400, loss: 0.029953356832265854\n"
          ]
        }
      ]
    },
    {
      "cell_type": "code",
      "source": [
        "# TODO Добавить тест модели на тестовом датасете"
      ],
      "metadata": {
        "id": "SF2gY3IOUWSo"
      },
      "execution_count": null,
      "outputs": []
    },
    {
      "cell_type": "code",
      "source": [
        "# выделил тестовый дата сет\n",
        "dataset_1 = datasets.MNIST('.', train=False, download=True)"
      ],
      "metadata": {
        "id": "w20QPkOHXcKf"
      },
      "execution_count": 12,
      "outputs": []
    },
    {
      "cell_type": "code",
      "source": [
        "# сделал новый data loader c тест дата сетом\n",
        "test_loader = DataLoader(dataset_1, \n",
        "                        batch_size, \n",
        "                        shuffle=True, \n",
        "                        collate_fn=collate_fn,\n",
        "                        drop_last = True,\n",
        "                        )"
      ],
      "metadata": {
        "id": "aRtEwr6Q2PJw"
      },
      "execution_count": 13,
      "outputs": []
    },
    {
      "cell_type": "code",
      "source": [
        "# в цикле поменял загрузки данных test_loader\n",
        "for epoch in range(n_epochs):\n",
        "    \n",
        "    for i, batch in enumerate(test_loader):\n",
        "        optim.zero_grad()\n",
        "\n",
        "        predict = model(batch['data'].to(device))\n",
        "        loss = loss_func(predict, batch['target'].to(device))\n",
        "        loss.backward()\n",
        "        optim.step()\n",
        "        if i % 200 == 0:\n",
        "            print(f'epoch: {epoch}, step: {i}, loss: {loss.item()}')"
      ],
      "metadata": {
        "colab": {
          "base_uri": "https://localhost:8080/"
        },
        "id": "iBGH2_8G2POw",
        "outputId": "1af483ef-6c80-4123-9149-4e0e19a02d60"
      },
      "execution_count": 14,
      "outputs": [
        {
          "output_type": "stream",
          "name": "stdout",
          "text": [
            "epoch: 0, step: 0, loss: 0.07615767419338226\n",
            "epoch: 1, step: 0, loss: 0.040933314710855484\n",
            "epoch: 2, step: 0, loss: 0.032947249710559845\n",
            "epoch: 3, step: 0, loss: 0.03307458013296127\n",
            "epoch: 4, step: 0, loss: 0.008306917734444141\n",
            "epoch: 5, step: 0, loss: 0.016231011599302292\n",
            "epoch: 6, step: 0, loss: 0.013656479306519032\n",
            "epoch: 7, step: 0, loss: 0.0066276174038648605\n",
            "epoch: 8, step: 0, loss: 0.007603886537253857\n",
            "epoch: 9, step: 0, loss: 0.005077477544546127\n"
          ]
        }
      ]
    },
    {
      "cell_type": "code",
      "source": [
        "# Кажется модель хорошо обучилась, loss низкий"
      ],
      "metadata": {
        "id": "HUdWXu-B3YmB"
      },
      "execution_count": null,
      "outputs": []
    },
    {
      "cell_type": "markdown",
      "source": [
        "# Новый раздел"
      ],
      "metadata": {
        "id": "KzR-Z2IDGD7H"
      }
    },
    {
      "cell_type": "code",
      "source": [],
      "metadata": {
        "id": "PCdOthJdBYqZ"
      },
      "execution_count": null,
      "outputs": []
    },
    {
      "cell_type": "code",
      "source": [
        "# hyperparams бэкап\n",
        "input_ch = 1\n",
        "hidden_ch = 128\n",
        "out_dim = 10\n",
        "device_id = 0\n",
        "device = 'cpu' if device_id == -1 else f'cuda:{device_id}'\n",
        "n_epochs = 10\n",
        "batch_size = 128"
      ],
      "metadata": {
        "id": "W93UplWPZf0T"
      },
      "execution_count": 15,
      "outputs": []
    },
    {
      "cell_type": "code",
      "source": [
        "# бэкап\n",
        "\n",
        "class ConvDO(nn.Module):\n",
        "    def __init__(self, input_ch, output_ch, kernel_size, stride, padding, \n",
        "                 dropout_p=0.1):\n",
        "        super().__init__()\n",
        "        self.conv = nn.Conv2d(\n",
        "            input_ch, \n",
        "            output_ch, \n",
        "            kernel_size=kernel_size,\n",
        "            stride=stride,\n",
        "            padding=padding, \n",
        "        )\n",
        "        # TODO добавить батч норм\n",
        "        self.do = nn.Dropout(dropout_p)\n",
        "\n",
        "    def forward(self, x):\n",
        "\n",
        "        return self.do(self.conv(x))\n",
        "\n",
        "class ConvModel(nn.Module):\n",
        "    def __init__(self, input_ch, hidden_ch, output_dim, dropout_p=0.1):\n",
        "        super().__init__()\n",
        "        self.conv1 = ConvDO(input_ch, hidden_ch, 5, 2, 2) # уменьшим размер выходной фичматрицы в 2 раза\n",
        "        # TODO еще уменьшить размер фичматрицы\n",
        "        self.conv2 = ConvDO(hidden_ch, hidden_ch, 3, 1, 1)\n",
        "        # TODO увеличить число выходных каналов\n",
        "        self.conv3 = ConvDO(hidden_ch, 1, 3, 1, 1)\n",
        "        self.linear = nn.Linear(\n",
        "            14 * 14, # TODO поправить при изменении числа каналов и размера фич матриц\n",
        "            output_dim,\n",
        "        )  \n",
        "        self.activ = nn.ReLU()    \n",
        "\n",
        "    def forward(self, x):\n",
        "        x = self.activ(self.conv1(x))\n",
        "        x = self.activ(self.conv2(x))\n",
        "        x = self.activ(self.conv3(x))\n",
        "        x = self.linear(x.view(x.size(0), -1))\n",
        "\n",
        "        return x"
      ],
      "metadata": {
        "id": "XeI93x3K-aDf"
      },
      "execution_count": 179,
      "outputs": []
    },
    {
      "cell_type": "code",
      "source": [
        "trainloader = torch.utils.data.DataLoader(dataset_train, \n",
        "                                          batch_size=batch_size,\n",
        "                                          shuffle=True, \n",
        "                                          num_workers=2, \n",
        "                                          drop_last = True,)\n",
        "\n",
        "testloader = torch.utils.data.DataLoader(dataset_test, \n",
        "                                          batch_size=batch_size,\n",
        "                                          shuffle=True, \n",
        "                                          num_workers=2, \n",
        "                                          drop_last = True,)"
      ],
      "metadata": {
        "id": "K_PACmDaH8Z7"
      },
      "execution_count": 18,
      "outputs": []
    },
    {
      "cell_type": "code",
      "source": [
        "model_conv = ConvModel(input_ch, hidden_ch, out_dim).to(device)\n",
        "optim = torch.optim.Adam(model_conv.parameters())\n",
        "loss_func = nn.CrossEntropyLoss()"
      ],
      "metadata": {
        "id": "a4gX5zVDIZdu"
      },
      "execution_count": 21,
      "outputs": []
    },
    {
      "cell_type": "code",
      "source": [
        "for epoch in range(n_epochs):\n",
        "    for i, batch in enumerate(trainloader):\n",
        "        inputs, labels = batch\n",
        "        optim.zero_grad()\n",
        "\n",
        "        predict = model_conv(inputs.to(device))\n",
        "        loss = loss_func(predict, labels.to(device))\n",
        "        loss.backward()\n",
        "        optim.step()\n",
        "        if i % 200 == 0:\n",
        "            print(f'epoch: {epoch}, step: {i}, loss: {loss.item()}')\n",
        " \n",
        "    \n",
        "    model_conv.train()\n",
        "    # print('test loss:', loss_test / i)\n",
        "    #save every epoch\n",
        "\n",
        "    torch.save(model_conv.state_dict(), f'./chkpt_cv1_conv_{epoch}.pth')\n"
      ],
      "metadata": {
        "colab": {
          "base_uri": "https://localhost:8080/"
        },
        "id": "jVX0P0otIk4D",
        "outputId": "244b23b7-6e01-4455-a46b-c15c8967723e"
      },
      "execution_count": 22,
      "outputs": [
        {
          "output_type": "stream",
          "name": "stdout",
          "text": [
            "epoch: 0, step: 0, loss: 2.29707932472229\n",
            "epoch: 0, step: 200, loss: 0.42089149355888367\n",
            "epoch: 0, step: 400, loss: 0.13156861066818237\n",
            "epoch: 1, step: 0, loss: 0.24288985133171082\n",
            "epoch: 1, step: 200, loss: 0.34590935707092285\n",
            "epoch: 1, step: 400, loss: 0.11500802636146545\n",
            "epoch: 2, step: 0, loss: 0.17742981016635895\n",
            "epoch: 2, step: 200, loss: 0.12810340523719788\n",
            "epoch: 2, step: 400, loss: 0.10959694534540176\n",
            "epoch: 3, step: 0, loss: 0.14545178413391113\n",
            "epoch: 3, step: 200, loss: 0.11411703377962112\n",
            "epoch: 3, step: 400, loss: 0.06961318105459213\n",
            "epoch: 4, step: 0, loss: 0.020590052008628845\n",
            "epoch: 4, step: 200, loss: 0.019262125715613365\n",
            "epoch: 4, step: 400, loss: 0.06056290864944458\n",
            "epoch: 5, step: 0, loss: 0.07533956319093704\n",
            "epoch: 5, step: 200, loss: 0.1262759119272232\n",
            "epoch: 5, step: 400, loss: 0.13704386353492737\n",
            "epoch: 6, step: 0, loss: 0.10398567467927933\n",
            "epoch: 6, step: 200, loss: 0.04329952225089073\n",
            "epoch: 6, step: 400, loss: 0.0683707669377327\n",
            "epoch: 7, step: 0, loss: 0.015758436173200607\n",
            "epoch: 7, step: 200, loss: 0.04286794364452362\n",
            "epoch: 7, step: 400, loss: 0.10232480615377426\n",
            "epoch: 8, step: 0, loss: 0.029150599613785744\n",
            "epoch: 8, step: 200, loss: 0.05796459689736366\n",
            "epoch: 8, step: 400, loss: 0.06846265494823456\n",
            "epoch: 9, step: 0, loss: 0.051780570298433304\n",
            "epoch: 9, step: 200, loss: 0.06868504732847214\n",
            "epoch: 9, step: 400, loss: 0.02609410509467125\n"
          ]
        }
      ]
    },
    {
      "cell_type": "code",
      "source": [],
      "metadata": {
        "id": "WdxUBxb8BT5N"
      },
      "execution_count": null,
      "outputs": []
    },
    {
      "cell_type": "code",
      "source": [],
      "metadata": {
        "id": "iqY3XhogeUjD"
      },
      "execution_count": null,
      "outputs": []
    },
    {
      "cell_type": "code",
      "source": [
        "# Доработанная модель"
      ],
      "metadata": {
        "id": "YFko-IVxeUlM"
      },
      "execution_count": null,
      "outputs": []
    },
    {
      "cell_type": "code",
      "source": [
        "# hyperparams\n",
        "input_ch = 1\n",
        "hidden_ch = 128\n",
        "out_dim = 10\n",
        "device_id = 0\n",
        "device = 'cpu' if device_id == -1 else f'cuda:{device_id}'\n",
        "n_epochs = 3 #изменил здесь с 10 до 3\n",
        "batch_size = 128"
      ],
      "metadata": {
        "id": "DqZImdPueOnu"
      },
      "execution_count": 92,
      "outputs": []
    },
    {
      "cell_type": "code",
      "source": [
        "class ConvDO(nn.Module):\n",
        "    def __init__(self, input_ch, output_ch, kernel_size, stride, padding, \n",
        "                 dropout_p=0.1):\n",
        "        super().__init__()\n",
        "        self.conv = nn.Conv2d(\n",
        "            input_ch, \n",
        "            output_ch, \n",
        "            kernel_size=kernel_size,\n",
        "            stride=stride,\n",
        "            padding=padding, \n",
        "        )\n",
        "        self.do = nn.Dropout(dropout_p)\n",
        "\n",
        "    def forward(self, x):\n",
        "        return self.do(self.conv(x))\n",
        "\n",
        "class ConvModel_1(nn.Module):\n",
        "    def __init__(self, input_ch, hidden_ch, output_dim, dropout_p=0.1):\n",
        "        super().__init__()\n",
        "        self.conv1 = ConvDO(input_ch, hidden_ch, 5, 2, 2) # уменьшим размер выходной фичматрицы в 2 раза\n",
        "        # TODO еще уменьшить размер фичматрицы\n",
        "\n",
        "        # DONE добавить батч норм\n",
        "        # Взял тот, который нашел в документашке по Pytorch\n",
        "        self.bn = nn.BatchNorm2d(128)\n",
        "        ##################\n",
        "        \n",
        "        self.conv2 = ConvDO(hidden_ch, hidden_ch, 3, 1, 1)\n",
        "        # TODO увеличить число выходных каналов\n",
        "        self.conv3 = ConvDO(hidden_ch, 1, 3, 1, 1)\n",
        "        self.linear = nn.Linear(\n",
        "          14 * 14, # TODO поправить при изменении числа каналов и размера фич матриц\n",
        "            output_dim,\n",
        "        )  \n",
        "        self.activ = nn.ReLU()    \n",
        "\n",
        "    def forward(self, x):\n",
        "        x = self.activ(self.bn(self.conv1(x))) # добавил батч норм\n",
        "        x = self.activ(self.conv2(x))\n",
        "        x = self.activ(self.conv3(x))\n",
        "        x = self.linear(x.view(x.size(0), -1))\n",
        "\n",
        "        return x"
      ],
      "metadata": {
        "id": "RYVsEjc-H1hQ"
      },
      "execution_count": 195,
      "outputs": []
    },
    {
      "cell_type": "code",
      "source": [
        "# обновленная версия\n",
        "\n",
        "model_conv = ConvModel_1(input_ch, hidden_ch, out_dim).to(device)\n",
        "optim = torch.optim.Adam(model_conv.parameters())\n",
        "loss_func = nn.CrossEntropyLoss()"
      ],
      "metadata": {
        "id": "A16vKBoLBMBW"
      },
      "execution_count": 196,
      "outputs": []
    },
    {
      "cell_type": "code",
      "source": [
        "# обновленнная версия / используется модель с батч нормом\n",
        "# для теста поменял n_epochs - с 10 на 3, а то крутилась долго\n",
        "\n",
        "for epoch in range(n_epochs):\n",
        "    for i, batch in enumerate(trainloader):\n",
        "        inputs, labels = batch\n",
        "        optim.zero_grad()\n",
        "\n",
        "        predict = model_conv(inputs.to(device))\n",
        "        loss = loss_func(predict, labels.to(device))\n",
        "        loss.backward()\n",
        "        optim.step()\n",
        "        if i % 200 == 0:\n",
        "            print(f'epoch: {epoch}, step: {i}, loss: {loss.item()}')\n",
        "    \n",
        "    model_conv.train()\n",
        "    # print('test loss:', loss_test / i)\n",
        "    #save every epoch\n",
        "\n",
        "    torch.save(model_conv.state_dict(), f'./chkpt_cv1_conv_{epoch}.pth')"
      ],
      "metadata": {
        "colab": {
          "base_uri": "https://localhost:8080/"
        },
        "id": "w_ecvypNBTNM",
        "outputId": "029d7b26-73dd-412d-cc31-d99ae6889bce"
      },
      "execution_count": 197,
      "outputs": [
        {
          "output_type": "stream",
          "name": "stdout",
          "text": [
            "epoch: 0, step: 0, loss: 2.3085155487060547\n",
            "epoch: 0, step: 200, loss: 0.2943427562713623\n",
            "epoch: 0, step: 400, loss: 0.11154526472091675\n"
          ]
        }
      ]
    },
    {
      "cell_type": "code",
      "source": [],
      "metadata": {
        "id": "ff54TeEbBT8P"
      },
      "execution_count": null,
      "outputs": []
    },
    {
      "cell_type": "code",
      "source": [],
      "metadata": {
        "id": "9CljFAzIMMEW"
      },
      "execution_count": null,
      "outputs": []
    },
    {
      "cell_type": "markdown",
      "source": [],
      "metadata": {
        "id": "-57Jq-CW8NmD"
      }
    }
  ]
}
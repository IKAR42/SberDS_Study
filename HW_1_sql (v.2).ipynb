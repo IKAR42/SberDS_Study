{
 "cells": [
  {
   "cell_type": "code",
   "execution_count": 1,
   "metadata": {
    "collapsed": true
   },
   "outputs": [],
   "source": [
    "import sqlite3\n",
    "import pandas as pd"
   ]
  },
  {
   "cell_type": "code",
   "execution_count": 2,
   "metadata": {
    "collapsed": true
   },
   "outputs": [],
   "source": [
    "con = sqlite3.connect(':memory:')"
   ]
  },
  {
   "cell_type": "code",
   "execution_count": 3,
   "metadata": {
    "collapsed": true
   },
   "outputs": [],
   "source": [
    "table_names = [\n",
    "    'Categories',   # категории товаров\n",
    "    'Customers',    # заказчики\n",
    "    'Employees',    # сотрудники\n",
    "    'OrderDetails', # детали заказов\n",
    "    'Orders',       # заказы\n",
    "    'Products',     # товары\n",
    "    'Shippers',     # перевозчики\n",
    "    'Suppliers',    # поставщики\n",
    "]"
   ]
  },
  {
   "cell_type": "code",
   "execution_count": 4,
   "metadata": {
    "collapsed": true
   },
   "outputs": [],
   "source": [
    "for table in table_names:\n",
    "    data = pd.read_csv(f'{table}.csv', sep = ';')\n",
    "    data.to_sql(table, con, index=False, if_exists='replace')"
   ]
  },
  {
   "cell_type": "code",
   "execution_count": 5,
   "metadata": {},
   "outputs": [
    {
     "data": {
      "text/html": [
       "<div>\n",
       "<style>\n",
       "    .dataframe thead tr:only-child th {\n",
       "        text-align: right;\n",
       "    }\n",
       "\n",
       "    .dataframe thead th {\n",
       "        text-align: left;\n",
       "    }\n",
       "\n",
       "    .dataframe tbody tr th {\n",
       "        vertical-align: top;\n",
       "    }\n",
       "</style>\n",
       "<table border=\"1\" class=\"dataframe\">\n",
       "  <thead>\n",
       "    <tr style=\"text-align: right;\">\n",
       "      <th></th>\n",
       "      <th>ProductID</th>\n",
       "      <th>ProductName</th>\n",
       "      <th>SupplierID</th>\n",
       "      <th>CategoryID</th>\n",
       "      <th>Unit</th>\n",
       "      <th>Price</th>\n",
       "    </tr>\n",
       "  </thead>\n",
       "  <tbody>\n",
       "    <tr>\n",
       "      <th>0</th>\n",
       "      <td>1</td>\n",
       "      <td>Chais</td>\n",
       "      <td>1</td>\n",
       "      <td>1</td>\n",
       "      <td>10 boxes x 20 bags</td>\n",
       "      <td>18</td>\n",
       "    </tr>\n",
       "    <tr>\n",
       "      <th>1</th>\n",
       "      <td>2</td>\n",
       "      <td>Chang</td>\n",
       "      <td>1</td>\n",
       "      <td>1</td>\n",
       "      <td>24 - 12 oz bottles</td>\n",
       "      <td>19</td>\n",
       "    </tr>\n",
       "  </tbody>\n",
       "</table>\n",
       "</div>"
      ],
      "text/plain": [
       "   ProductID ProductName  SupplierID  CategoryID                Unit Price\n",
       "0          1       Chais           1           1  10 boxes x 20 bags    18\n",
       "1          2       Chang           1           1  24 - 12 oz bottles    19"
      ]
     },
     "execution_count": 5,
     "metadata": {},
     "output_type": "execute_result"
    }
   ],
   "source": [
    "pd.read_sql(\n",
    "    '''\n",
    "    SELECT * FROM Products\n",
    "    limit 2\n",
    "    ''',\n",
    "    con,\n",
    ")"
   ]
  },
  {
   "cell_type": "code",
   "execution_count": 6,
   "metadata": {
    "collapsed": true
   },
   "outputs": [],
   "source": [
    "tasks = 0"
   ]
  },
  {
   "cell_type": "markdown",
   "metadata": {},
   "source": [
    "### Все задания нужно выполнить только с помощью sql"
   ]
  },
  {
   "cell_type": "markdown",
   "metadata": {},
   "source": [
    "### 1. Выберите заказчиков из Германии, Франции и Мадрида, выведите их название, страну и адрес."
   ]
  },
  {
   "cell_type": "code",
   "execution_count": 7,
   "metadata": {
    "collapsed": true
   },
   "outputs": [],
   "source": [
    "# Апдейт от 30.01 - убрал из 3 строки \"..Country in Madrid..\""
   ]
  },
  {
   "cell_type": "code",
   "execution_count": 8,
   "metadata": {},
   "outputs": [
    {
     "data": {
      "text/html": [
       "<div>\n",
       "<style>\n",
       "    .dataframe thead tr:only-child th {\n",
       "        text-align: right;\n",
       "    }\n",
       "\n",
       "    .dataframe thead th {\n",
       "        text-align: left;\n",
       "    }\n",
       "\n",
       "    .dataframe tbody tr th {\n",
       "        vertical-align: top;\n",
       "    }\n",
       "</style>\n",
       "<table border=\"1\" class=\"dataframe\">\n",
       "  <thead>\n",
       "    <tr style=\"text-align: right;\">\n",
       "      <th></th>\n",
       "      <th>CustomerName</th>\n",
       "      <th>Country</th>\n",
       "      <th>Address</th>\n",
       "      <th>City</th>\n",
       "    </tr>\n",
       "  </thead>\n",
       "  <tbody>\n",
       "    <tr>\n",
       "      <th>0</th>\n",
       "      <td>Alfreds Futterkiste</td>\n",
       "      <td>Germany</td>\n",
       "      <td>Obere Str. 57</td>\n",
       "      <td>Berlin</td>\n",
       "    </tr>\n",
       "    <tr>\n",
       "      <th>1</th>\n",
       "      <td>Blauer See Delikatessen</td>\n",
       "      <td>Germany</td>\n",
       "      <td>Forsterstr. 57</td>\n",
       "      <td>Mannheim</td>\n",
       "    </tr>\n",
       "    <tr>\n",
       "      <th>2</th>\n",
       "      <td>Blondel père et fils</td>\n",
       "      <td>France</td>\n",
       "      <td>24, place Kléber</td>\n",
       "      <td>Strasbourg</td>\n",
       "    </tr>\n",
       "    <tr>\n",
       "      <th>3</th>\n",
       "      <td>Bólido Comidas preparadas</td>\n",
       "      <td>Spain</td>\n",
       "      <td>C/ Araquil, 67</td>\n",
       "      <td>Madrid</td>\n",
       "    </tr>\n",
       "    <tr>\n",
       "      <th>4</th>\n",
       "      <td>Bon app'</td>\n",
       "      <td>France</td>\n",
       "      <td>12, rue des Bouchers</td>\n",
       "      <td>Marseille</td>\n",
       "    </tr>\n",
       "    <tr>\n",
       "      <th>5</th>\n",
       "      <td>Drachenblut Delikatessend</td>\n",
       "      <td>Germany</td>\n",
       "      <td>Walserweg 21</td>\n",
       "      <td>Aachen</td>\n",
       "    </tr>\n",
       "    <tr>\n",
       "      <th>6</th>\n",
       "      <td>Du monde entier</td>\n",
       "      <td>France</td>\n",
       "      <td>67, rue des Cinquante Otages</td>\n",
       "      <td>Nantes</td>\n",
       "    </tr>\n",
       "    <tr>\n",
       "      <th>7</th>\n",
       "      <td>FISSA Fabrica Inter. Salchichas S.A.</td>\n",
       "      <td>Spain</td>\n",
       "      <td>C/ Moralzarzal, 86</td>\n",
       "      <td>Madrid</td>\n",
       "    </tr>\n",
       "    <tr>\n",
       "      <th>8</th>\n",
       "      <td>Folies gourmandes</td>\n",
       "      <td>France</td>\n",
       "      <td>184, chaussée de Tournai</td>\n",
       "      <td>Lille</td>\n",
       "    </tr>\n",
       "    <tr>\n",
       "      <th>9</th>\n",
       "      <td>Frankenversand</td>\n",
       "      <td>Germany</td>\n",
       "      <td>Berliner Platz 43</td>\n",
       "      <td>München</td>\n",
       "    </tr>\n",
       "  </tbody>\n",
       "</table>\n",
       "</div>"
      ],
      "text/plain": [
       "                           CustomerName  Country  \\\n",
       "0                   Alfreds Futterkiste  Germany   \n",
       "1               Blauer See Delikatessen  Germany   \n",
       "2                  Blondel père et fils   France   \n",
       "3             Bólido Comidas preparadas    Spain   \n",
       "4                              Bon app'   France   \n",
       "5             Drachenblut Delikatessend  Germany   \n",
       "6                       Du monde entier   France   \n",
       "7  FISSA Fabrica Inter. Salchichas S.A.    Spain   \n",
       "8                     Folies gourmandes   France   \n",
       "9                        Frankenversand  Germany   \n",
       "\n",
       "                        Address        City  \n",
       "0                 Obere Str. 57      Berlin  \n",
       "1                Forsterstr. 57    Mannheim  \n",
       "2              24, place Kléber  Strasbourg  \n",
       "3                C/ Araquil, 67      Madrid  \n",
       "4          12, rue des Bouchers   Marseille  \n",
       "5                  Walserweg 21      Aachen  \n",
       "6  67, rue des Cinquante Otages      Nantes  \n",
       "7            C/ Moralzarzal, 86      Madrid  \n",
       "8      184, chaussée de Tournai       Lille  \n",
       "9             Berliner Platz 43     München  "
      ]
     },
     "execution_count": 8,
     "metadata": {},
     "output_type": "execute_result"
    }
   ],
   "source": [
    "tasks+=1\n",
    "\n",
    "pd.read_sql(\n",
    "    '''\n",
    "    SELECT CustomerName, Country, Address, City\n",
    "    FROM Customers\n",
    "    WHERE Country in (\"Germany\",\"France\") OR city = \"Madrid\" --Апдейт\n",
    "    Limit 10\n",
    "    ''',\n",
    "    con,\n",
    ")"
   ]
  },
  {
   "cell_type": "markdown",
   "metadata": {},
   "source": [
    "### 2. Выберите топ 3 страны по количеству заказчиков, выведите их названия и количество записей."
   ]
  },
  {
   "cell_type": "code",
   "execution_count": 9,
   "metadata": {},
   "outputs": [
    {
     "data": {
      "text/html": [
       "<div>\n",
       "<style>\n",
       "    .dataframe thead tr:only-child th {\n",
       "        text-align: right;\n",
       "    }\n",
       "\n",
       "    .dataframe thead th {\n",
       "        text-align: left;\n",
       "    }\n",
       "\n",
       "    .dataframe tbody tr th {\n",
       "        vertical-align: top;\n",
       "    }\n",
       "</style>\n",
       "<table border=\"1\" class=\"dataframe\">\n",
       "  <thead>\n",
       "    <tr style=\"text-align: right;\">\n",
       "      <th></th>\n",
       "      <th>Country</th>\n",
       "      <th>Count</th>\n",
       "    </tr>\n",
       "  </thead>\n",
       "  <tbody>\n",
       "    <tr>\n",
       "      <th>0</th>\n",
       "      <td>USA</td>\n",
       "      <td>13</td>\n",
       "    </tr>\n",
       "    <tr>\n",
       "      <th>1</th>\n",
       "      <td>France</td>\n",
       "      <td>11</td>\n",
       "    </tr>\n",
       "    <tr>\n",
       "      <th>2</th>\n",
       "      <td>Germany</td>\n",
       "      <td>11</td>\n",
       "    </tr>\n",
       "  </tbody>\n",
       "</table>\n",
       "</div>"
      ],
      "text/plain": [
       "   Country  Count\n",
       "0      USA     13\n",
       "1   France     11\n",
       "2  Germany     11"
      ]
     },
     "execution_count": 9,
     "metadata": {},
     "output_type": "execute_result"
    }
   ],
   "source": [
    "tasks+=1\n",
    "pd.read_sql(\n",
    "    '''\n",
    "    SELECT Country, Count(Country) as Count \n",
    "    FROM Customers \n",
    "    GROUP BY Country\n",
    "    ORDER BY Count(*) DESC\n",
    "    limit 3\n",
    "    ''',\n",
    "    con,\n",
    ")"
   ]
  },
  {
   "cell_type": "markdown",
   "metadata": {},
   "source": [
    "### 3. Выберите перевозчика, который отправил 10-й по времени заказ, выведите его название, и дату отправления."
   ]
  },
  {
   "cell_type": "code",
   "execution_count": 10,
   "metadata": {},
   "outputs": [
    {
     "data": {
      "text/html": [
       "<div>\n",
       "<style>\n",
       "    .dataframe thead tr:only-child th {\n",
       "        text-align: right;\n",
       "    }\n",
       "\n",
       "    .dataframe thead th {\n",
       "        text-align: left;\n",
       "    }\n",
       "\n",
       "    .dataframe tbody tr th {\n",
       "        vertical-align: top;\n",
       "    }\n",
       "</style>\n",
       "<table border=\"1\" class=\"dataframe\">\n",
       "  <thead>\n",
       "    <tr style=\"text-align: right;\">\n",
       "      <th></th>\n",
       "      <th>ShipperName</th>\n",
       "      <th>OrderDate</th>\n",
       "    </tr>\n",
       "  </thead>\n",
       "  <tbody>\n",
       "    <tr>\n",
       "      <th>0</th>\n",
       "      <td>Federal Shipping</td>\n",
       "      <td>16.07.1996</td>\n",
       "    </tr>\n",
       "  </tbody>\n",
       "</table>\n",
       "</div>"
      ],
      "text/plain": [
       "        ShipperName   OrderDate\n",
       "0  Federal Shipping  16.07.1996"
      ]
     },
     "execution_count": 10,
     "metadata": {},
     "output_type": "execute_result"
    }
   ],
   "source": [
    "tasks+=1\n",
    "pd.read_sql(\n",
    "    '''\n",
    "    SELECT ShipperName, OrderDate\n",
    "    FROM Shippers \n",
    "    left join Orders\n",
    "    on Orders.ShipperID = Shippers.ShipperID\n",
    "    ORDER BY OrderID ASC\n",
    "    LIMIT 1 OFFSET 9\n",
    "    ''',\n",
    "    con,\n",
    ")"
   ]
  },
  {
   "cell_type": "markdown",
   "metadata": {},
   "source": [
    "### 4. Выберите самый дорогой заказ, выведите список товаров с их ценами."
   ]
  },
  {
   "cell_type": "code",
   "execution_count": 11,
   "metadata": {
    "collapsed": true
   },
   "outputs": [],
   "source": [
    "# Апдейт от 30.01 для создания агрегата использовал умножение. 10ая строка запроса"
   ]
  },
  {
   "cell_type": "code",
   "execution_count": 12,
   "metadata": {},
   "outputs": [
    {
     "data": {
      "text/html": [
       "<div>\n",
       "<style>\n",
       "    .dataframe thead tr:only-child th {\n",
       "        text-align: right;\n",
       "    }\n",
       "\n",
       "    .dataframe thead th {\n",
       "        text-align: left;\n",
       "    }\n",
       "\n",
       "    .dataframe tbody tr th {\n",
       "        vertical-align: top;\n",
       "    }\n",
       "</style>\n",
       "<table border=\"1\" class=\"dataframe\">\n",
       "  <thead>\n",
       "    <tr style=\"text-align: right;\">\n",
       "      <th></th>\n",
       "      <th>ProductName</th>\n",
       "      <th>Price</th>\n",
       "    </tr>\n",
       "  </thead>\n",
       "  <tbody>\n",
       "    <tr>\n",
       "      <th>0</th>\n",
       "      <td>Sir Rodney's Marmalade</td>\n",
       "      <td>81</td>\n",
       "    </tr>\n",
       "    <tr>\n",
       "      <th>1</th>\n",
       "      <td>Côte de Blaye</td>\n",
       "      <td>263.5</td>\n",
       "    </tr>\n",
       "    <tr>\n",
       "      <th>2</th>\n",
       "      <td>Camembert Pierrot</td>\n",
       "      <td>34</td>\n",
       "    </tr>\n",
       "    <tr>\n",
       "      <th>3</th>\n",
       "      <td>Mozzarella di Giovanni</td>\n",
       "      <td>34.8</td>\n",
       "    </tr>\n",
       "  </tbody>\n",
       "</table>\n",
       "</div>"
      ],
      "text/plain": [
       "              ProductName  Price\n",
       "0  Sir Rodney's Marmalade     81\n",
       "1           Côte de Blaye  263.5\n",
       "2       Camembert Pierrot     34\n",
       "3  Mozzarella di Giovanni   34.8"
      ]
     },
     "execution_count": 12,
     "metadata": {},
     "output_type": "execute_result"
    }
   ],
   "source": [
    "tasks+=1\n",
    "\n",
    "pd.read_sql(\n",
    "    '''\n",
    "    SELECT ProductName, Price\n",
    "    FROM Products\n",
    "    join OrderDetails\n",
    "    on Products.ProductID = OrderDetails.ProductID\n",
    "    where OrderID = \n",
    "        (\n",
    "            select a.OrderID as OrderID\n",
    "            from\n",
    "            (\n",
    "            SELECT *, sum(Price*Quantity) as 'sum_of_order' -- Апдейт\n",
    "            FROM Products\n",
    "            join OrderDetails\n",
    "            on Products.ProductID = OrderDetails.ProductID\n",
    "            group by OrderID\n",
    "            order by sum_of_order desc\n",
    "            limit 1\n",
    "            ) as a\n",
    "        )\n",
    "    ''',\n",
    "    con,\n",
    ")"
   ]
  },
  {
   "cell_type": "markdown",
   "metadata": {},
   "source": [
    "### 5. Какой товар больше всего заказывали по количеству единиц товара, выведите его название и количество единиц в каждом из заказов."
   ]
  },
  {
   "cell_type": "code",
   "execution_count": 13,
   "metadata": {},
   "outputs": [
    {
     "data": {
      "text/html": [
       "<div>\n",
       "<style>\n",
       "    .dataframe thead tr:only-child th {\n",
       "        text-align: right;\n",
       "    }\n",
       "\n",
       "    .dataframe thead th {\n",
       "        text-align: left;\n",
       "    }\n",
       "\n",
       "    .dataframe tbody tr th {\n",
       "        vertical-align: top;\n",
       "    }\n",
       "</style>\n",
       "<table border=\"1\" class=\"dataframe\">\n",
       "  <thead>\n",
       "    <tr style=\"text-align: right;\">\n",
       "      <th></th>\n",
       "      <th>OrderID</th>\n",
       "      <th>ProductName</th>\n",
       "      <th>Quantity</th>\n",
       "    </tr>\n",
       "  </thead>\n",
       "  <tbody>\n",
       "    <tr>\n",
       "      <th>0</th>\n",
       "      <td>10359</td>\n",
       "      <td>Gorgonzola Telino</td>\n",
       "      <td>70</td>\n",
       "    </tr>\n",
       "    <tr>\n",
       "      <th>1</th>\n",
       "      <td>10390</td>\n",
       "      <td>Gorgonzola Telino</td>\n",
       "      <td>60</td>\n",
       "    </tr>\n",
       "    <tr>\n",
       "      <th>2</th>\n",
       "      <td>10342</td>\n",
       "      <td>Gorgonzola Telino</td>\n",
       "      <td>56</td>\n",
       "    </tr>\n",
       "    <tr>\n",
       "      <th>3</th>\n",
       "      <td>10376</td>\n",
       "      <td>Gorgonzola Telino</td>\n",
       "      <td>42</td>\n",
       "    </tr>\n",
       "    <tr>\n",
       "      <th>4</th>\n",
       "      <td>10272</td>\n",
       "      <td>Gorgonzola Telino</td>\n",
       "      <td>40</td>\n",
       "    </tr>\n",
       "    <tr>\n",
       "      <th>5</th>\n",
       "      <td>10393</td>\n",
       "      <td>Gorgonzola Telino</td>\n",
       "      <td>32</td>\n",
       "    </tr>\n",
       "    <tr>\n",
       "      <th>6</th>\n",
       "      <td>10356</td>\n",
       "      <td>Gorgonzola Telino</td>\n",
       "      <td>30</td>\n",
       "    </tr>\n",
       "    <tr>\n",
       "      <th>7</th>\n",
       "      <td>10374</td>\n",
       "      <td>Gorgonzola Telino</td>\n",
       "      <td>30</td>\n",
       "    </tr>\n",
       "    <tr>\n",
       "      <th>8</th>\n",
       "      <td>10335</td>\n",
       "      <td>Gorgonzola Telino</td>\n",
       "      <td>25</td>\n",
       "    </tr>\n",
       "    <tr>\n",
       "      <th>9</th>\n",
       "      <td>10253</td>\n",
       "      <td>Gorgonzola Telino</td>\n",
       "      <td>20</td>\n",
       "    </tr>\n",
       "    <tr>\n",
       "      <th>10</th>\n",
       "      <td>10363</td>\n",
       "      <td>Gorgonzola Telino</td>\n",
       "      <td>20</td>\n",
       "    </tr>\n",
       "    <tr>\n",
       "      <th>11</th>\n",
       "      <td>10273</td>\n",
       "      <td>Gorgonzola Telino</td>\n",
       "      <td>15</td>\n",
       "    </tr>\n",
       "    <tr>\n",
       "      <th>12</th>\n",
       "      <td>10423</td>\n",
       "      <td>Gorgonzola Telino</td>\n",
       "      <td>14</td>\n",
       "    </tr>\n",
       "    <tr>\n",
       "      <th>13</th>\n",
       "      <td>10325</td>\n",
       "      <td>Gorgonzola Telino</td>\n",
       "      <td>4</td>\n",
       "    </tr>\n",
       "  </tbody>\n",
       "</table>\n",
       "</div>"
      ],
      "text/plain": [
       "    OrderID        ProductName  Quantity\n",
       "0     10359  Gorgonzola Telino        70\n",
       "1     10390  Gorgonzola Telino        60\n",
       "2     10342  Gorgonzola Telino        56\n",
       "3     10376  Gorgonzola Telino        42\n",
       "4     10272  Gorgonzola Telino        40\n",
       "5     10393  Gorgonzola Telino        32\n",
       "6     10356  Gorgonzola Telino        30\n",
       "7     10374  Gorgonzola Telino        30\n",
       "8     10335  Gorgonzola Telino        25\n",
       "9     10253  Gorgonzola Telino        20\n",
       "10    10363  Gorgonzola Telino        20\n",
       "11    10273  Gorgonzola Telino        15\n",
       "12    10423  Gorgonzola Telino        14\n",
       "13    10325  Gorgonzola Telino         4"
      ]
     },
     "execution_count": 13,
     "metadata": {},
     "output_type": "execute_result"
    }
   ],
   "source": [
    "tasks+=1\n",
    "pd.read_sql(\n",
    "    '''\n",
    "    SELECT OrderID, ProductName, Quantity\n",
    "    FROM Products\n",
    "    join OrderDetails\n",
    "    on Products.ProductID = OrderDetails.ProductID\n",
    "    where ProductName in\n",
    "            (\n",
    "                select a.ProductName as ProductName\n",
    "                from\n",
    "                    (SELECT ProductName,sum(Quantity) as Quantity\n",
    "                    FROM Products\n",
    "                    join OrderDetails\n",
    "                    on Products.ProductID = OrderDetails.ProductID\n",
    "                    group by ProductName\n",
    "                    order by Quantity desc\n",
    "                    limit 1) a\n",
    "            )\n",
    "    group by OrderID\n",
    "    order by Quantity desc\n",
    "    ''',\n",
    "    con,\n",
    ")"
   ]
  },
  {
   "cell_type": "markdown",
   "metadata": {},
   "source": [
    "### 6. Выведите топ 5 поставщиков по количеству заказов, выведите их названия, страну, контактное лицо и телефон."
   ]
  },
  {
   "cell_type": "code",
   "execution_count": 14,
   "metadata": {},
   "outputs": [
    {
     "data": {
      "text/html": [
       "<div>\n",
       "<style>\n",
       "    .dataframe thead tr:only-child th {\n",
       "        text-align: right;\n",
       "    }\n",
       "\n",
       "    .dataframe thead th {\n",
       "        text-align: left;\n",
       "    }\n",
       "\n",
       "    .dataframe tbody tr th {\n",
       "        vertical-align: top;\n",
       "    }\n",
       "</style>\n",
       "<table border=\"1\" class=\"dataframe\">\n",
       "  <thead>\n",
       "    <tr style=\"text-align: right;\">\n",
       "      <th></th>\n",
       "      <th>SupplierName</th>\n",
       "      <th>Country</th>\n",
       "      <th>ContactName</th>\n",
       "      <th>Phone</th>\n",
       "    </tr>\n",
       "  </thead>\n",
       "  <tbody>\n",
       "    <tr>\n",
       "      <th>0</th>\n",
       "      <td>Pavlova, Ltd.</td>\n",
       "      <td>Australia</td>\n",
       "      <td>Ian Devling</td>\n",
       "      <td>(03) 444-2343</td>\n",
       "    </tr>\n",
       "    <tr>\n",
       "      <th>1</th>\n",
       "      <td>Specialty Biscuits, Ltd.</td>\n",
       "      <td>UK</td>\n",
       "      <td>Peter Wilson</td>\n",
       "      <td>(161) 555-4448</td>\n",
       "    </tr>\n",
       "    <tr>\n",
       "      <th>2</th>\n",
       "      <td>Plutzer Lebensmittelgroßmärkte AG</td>\n",
       "      <td>Germany</td>\n",
       "      <td>Martin Bein</td>\n",
       "      <td>(069) 992755</td>\n",
       "    </tr>\n",
       "    <tr>\n",
       "      <th>3</th>\n",
       "      <td>Formaggi Fortini s.r.l.</td>\n",
       "      <td>Italy</td>\n",
       "      <td>Elio Rossi</td>\n",
       "      <td>(0544) 60323</td>\n",
       "    </tr>\n",
       "    <tr>\n",
       "      <th>4</th>\n",
       "      <td>Norske Meierier</td>\n",
       "      <td>Norway</td>\n",
       "      <td>Beate Vileid</td>\n",
       "      <td>(0)2-953010</td>\n",
       "    </tr>\n",
       "  </tbody>\n",
       "</table>\n",
       "</div>"
      ],
      "text/plain": [
       "                        SupplierName    Country   ContactName           Phone\n",
       "0                      Pavlova, Ltd.  Australia   Ian Devling   (03) 444-2343\n",
       "1           Specialty Biscuits, Ltd.         UK  Peter Wilson  (161) 555-4448\n",
       "2  Plutzer Lebensmittelgroßmärkte AG    Germany   Martin Bein    (069) 992755\n",
       "3            Formaggi Fortini s.r.l.      Italy    Elio Rossi    (0544) 60323\n",
       "4                    Norske Meierier     Norway  Beate Vileid     (0)2-953010"
      ]
     },
     "execution_count": 14,
     "metadata": {},
     "output_type": "execute_result"
    }
   ],
   "source": [
    "tasks+=1\n",
    "pd.read_sql(\n",
    "    '''\n",
    "    SELECT SupplierName, Country, ContactName, Phone\n",
    "    FROM Suppliers\n",
    "    where SupplierID in \n",
    "        (\n",
    "            select a.SupplierID\n",
    "            from\n",
    "            (SELECT SupplierID, count(OrderID) as Sum_Orders\n",
    "            FROM Products\n",
    "            JOIN OrderDetails\n",
    "            on Products.ProductID = OrderDetails.ProductID\n",
    "            group by SupplierID\n",
    "            order by Sum_Orders desc\n",
    "            limit 5) as a\n",
    "        )\n",
    "    ''', \n",
    "    con, \n",
    ")"
   ]
  },
  {
   "cell_type": "markdown",
   "metadata": {},
   "source": [
    "### 7. Какую категорию товаров заказывали больше всего по стоимости в Бразилии, выведите страну, название категории и сумму."
   ]
  },
  {
   "cell_type": "code",
   "execution_count": 15,
   "metadata": {
    "collapsed": true
   },
   "outputs": [],
   "source": [
    "# Апдейт от 30.01 самую дорогую категорию искал с помощью умножения. 1ая строка запроса"
   ]
  },
  {
   "cell_type": "code",
   "execution_count": 16,
   "metadata": {},
   "outputs": [
    {
     "data": {
      "text/html": [
       "<div>\n",
       "<style>\n",
       "    .dataframe thead tr:only-child th {\n",
       "        text-align: right;\n",
       "    }\n",
       "\n",
       "    .dataframe thead th {\n",
       "        text-align: left;\n",
       "    }\n",
       "\n",
       "    .dataframe tbody tr th {\n",
       "        vertical-align: top;\n",
       "    }\n",
       "</style>\n",
       "<table border=\"1\" class=\"dataframe\">\n",
       "  <thead>\n",
       "    <tr style=\"text-align: right;\">\n",
       "      <th></th>\n",
       "      <th>Country</th>\n",
       "      <th>CategoryName</th>\n",
       "      <th>sum_by_orders</th>\n",
       "    </tr>\n",
       "  </thead>\n",
       "  <tbody>\n",
       "    <tr>\n",
       "      <th>0</th>\n",
       "      <td>Brazil</td>\n",
       "      <td>Beverages</td>\n",
       "      <td>13636.0</td>\n",
       "    </tr>\n",
       "  </tbody>\n",
       "</table>\n",
       "</div>"
      ],
      "text/plain": [
       "  Country CategoryName  sum_by_orders\n",
       "0  Brazil    Beverages        13636.0"
      ]
     },
     "execution_count": 16,
     "metadata": {},
     "output_type": "execute_result"
    }
   ],
   "source": [
    "tasks+=1\n",
    "pd.read_sql(\n",
    "    '''\n",
    "    SELECT Country, CategoryName, sum(Price*Quantity) as 'sum_by_orders' --Апдейт\n",
    "\n",
    "    FROM Products\n",
    "    join OrderDetails\n",
    "        on Products.ProductID = OrderDetails.ProductID\n",
    "    join Categories\n",
    "        on Products.CategoryID = Categories.CategoryID\n",
    "    join Orders\n",
    "        on Orders.OrderID = OrderDetails.OrderID\n",
    "    join Customers\n",
    "        on Customers.CustomerID = Orders.CustomerID\n",
    "    \n",
    "    where Country = 'Brazil'\n",
    "    group by Country, CategoryName\n",
    "    order by sum_by_orders desc\n",
    "    limit 1\n",
    "    ''',\n",
    "    con,\n",
    ")"
   ]
  },
  {
   "cell_type": "markdown",
   "metadata": {},
   "source": [
    "### 8. Какая разница в стоимости между самым дорогим и самым дешевым заказом из США."
   ]
  },
  {
   "cell_type": "code",
   "execution_count": 17,
   "metadata": {
    "collapsed": true
   },
   "outputs": [],
   "source": [
    "# Апдейт от 30.01 ищем самый дорогой/дешевый заказ с помощью 'sum(Price*Quantity)'"
   ]
  },
  {
   "cell_type": "code",
   "execution_count": 18,
   "metadata": {},
   "outputs": [
    {
     "data": {
      "text/html": [
       "<div>\n",
       "<style>\n",
       "    .dataframe thead tr:only-child th {\n",
       "        text-align: right;\n",
       "    }\n",
       "\n",
       "    .dataframe thead th {\n",
       "        text-align: left;\n",
       "    }\n",
       "\n",
       "    .dataframe tbody tr th {\n",
       "        vertical-align: top;\n",
       "    }\n",
       "</style>\n",
       "<table border=\"1\" class=\"dataframe\">\n",
       "  <thead>\n",
       "    <tr style=\"text-align: right;\">\n",
       "      <th></th>\n",
       "      <th>Country</th>\n",
       "      <th>OrderID</th>\n",
       "      <th>sum_order_price</th>\n",
       "    </tr>\n",
       "  </thead>\n",
       "  <tbody>\n",
       "    <tr>\n",
       "      <th>0</th>\n",
       "      <td>USA</td>\n",
       "      <td>10324</td>\n",
       "      <td>7698.45</td>\n",
       "    </tr>\n",
       "    <tr>\n",
       "      <th>1</th>\n",
       "      <td>USA</td>\n",
       "      <td>10349</td>\n",
       "      <td>0.00</td>\n",
       "    </tr>\n",
       "  </tbody>\n",
       "</table>\n",
       "</div>"
      ],
      "text/plain": [
       "  Country  OrderID  sum_order_price\n",
       "0     USA    10324          7698.45\n",
       "1     USA    10349             0.00"
      ]
     },
     "execution_count": 18,
     "metadata": {},
     "output_type": "execute_result"
    }
   ],
   "source": [
    "tasks+=1\n",
    "pd.read_sql(\n",
    "    '''\n",
    "    \n",
    "        SELECT *\n",
    "        FROM \n",
    "        (select Country, c.OrderID as OrderID, sum(Price*Quantity) as 'sum_order_price' --Апдейт\n",
    "        from Customers a\n",
    "        join Orders b\n",
    "            on a.CustomerID = b.CustomerID \n",
    "        join OrderDetails c \n",
    "            on b.OrderID = c.OrderID \n",
    "        join Products d\n",
    "            on c.ProductID = d.ProductID \n",
    "            \n",
    "            where Country = 'USA'\n",
    "            group by c.OrderID\n",
    "            order by sum_order_price desc\n",
    "            limit 1) as e\n",
    "    \n",
    "    union all\n",
    "    \n",
    "        SELECT *\n",
    "        FROM \n",
    "        (select Country, c.OrderID as OrderID, sum(Price*Quantity) as 'sum_order_price' --Апдейт\n",
    "        from Customers a\n",
    "        join Orders b\n",
    "            on a.CustomerID = b.CustomerID \n",
    "        join OrderDetails c \n",
    "            on b.OrderID = c.OrderID \n",
    "        join Products d\n",
    "            on c.ProductID = d.ProductID \n",
    "            \n",
    "            where Country = 'USA'\n",
    "            group by c.OrderID\n",
    "            order by sum_order_price asc\n",
    "            limit 1) as e\n",
    "    \n",
    "    ''',\n",
    "    con,\n",
    ")"
   ]
  },
  {
   "cell_type": "markdown",
   "metadata": {},
   "source": [
    "### 9. Выведите количество заказов у каждого их трех самых молодых сотрудников, а также имя и фамилию во второй колонке."
   ]
  },
  {
   "cell_type": "code",
   "execution_count": 19,
   "metadata": {
    "collapsed": true
   },
   "outputs": [],
   "source": [
    "# В этом задании я знатно считерил :) так как уже много что в интернете перерыл и идей больше не было, но считаю что так удалось \n",
    "# Согласно ТЗ дать частично хороший результат)\n",
    "\n",
    "with con:\n",
    "    cur = con.cursor()   \n",
    "    cur.execute(\"UPDATE Employees SET Photo = '1968.12' WHERE Photo = 'EmpID1.pic'\")\n",
    "    cur.execute(\"UPDATE Employees SET Photo = '1952.02' WHERE Photo = 'EmpID2.pic'\")\n",
    "    \n",
    "    cur.execute(\"UPDATE Employees SET Photo = '1963.08' WHERE Photo = 'EmpID3.pic'\")\n",
    "    cur.execute(\"UPDATE Employees SET Photo = '1958.09' WHERE Photo = 'EmpID4.pic'\")\n",
    "    cur.execute(\"UPDATE Employees SET Photo = '1955.03' WHERE Photo = 'EmpID5.pic'\")\n",
    "    cur.execute(\"UPDATE Employees SET Photo = '1963.07' WHERE Photo = 'EmpID6.pic'\")\n",
    "    cur.execute(\"UPDATE Employees SET Photo = '1960.05' WHERE Photo = 'EmpID7.pic'\")\n",
    "    cur.execute(\"UPDATE Employees SET Photo = '1958.01' WHERE Photo = 'EmpID8.pic'\")\n",
    "    cur.execute(\"UPDATE Employees SET Photo = '1969.07' WHERE Photo = 'EmpID9.pic'\")\n",
    "    cur.execute(\"UPDATE Employees SET Photo = '1928.09' WHERE Photo = 'EmpID10.pic'\")"
   ]
  },
  {
   "cell_type": "code",
   "execution_count": 20,
   "metadata": {
    "collapsed": true
   },
   "outputs": [],
   "source": [
    "# Апдейт от 30.01 - почему 4 сотрудника вывел, потому что мой чит ход не дал до конца решить задачу. У меня самые \n",
    "# молодые сотрудники в выборке получились в строке 1, 2, 4. На 3 месте сотрудник, у которого ДР в августе, а на 4 у которого \n",
    "# в июле"
   ]
  },
  {
   "cell_type": "code",
   "execution_count": 21,
   "metadata": {},
   "outputs": [
    {
     "data": {
      "text/html": [
       "<div>\n",
       "<style>\n",
       "    .dataframe thead tr:only-child th {\n",
       "        text-align: right;\n",
       "    }\n",
       "\n",
       "    .dataframe thead th {\n",
       "        text-align: left;\n",
       "    }\n",
       "\n",
       "    .dataframe tbody tr th {\n",
       "        vertical-align: top;\n",
       "    }\n",
       "</style>\n",
       "<table border=\"1\" class=\"dataframe\">\n",
       "  <thead>\n",
       "    <tr style=\"text-align: right;\">\n",
       "      <th></th>\n",
       "      <th>sum_orders</th>\n",
       "      <th>Full_Name</th>\n",
       "      <th>BirthDate</th>\n",
       "    </tr>\n",
       "  </thead>\n",
       "  <tbody>\n",
       "    <tr>\n",
       "      <th>0</th>\n",
       "      <td>6</td>\n",
       "      <td>Anne Dodsworth</td>\n",
       "      <td>02.07.1969</td>\n",
       "    </tr>\n",
       "    <tr>\n",
       "      <th>1</th>\n",
       "      <td>29</td>\n",
       "      <td>Nancy Davolio</td>\n",
       "      <td>08.12.1968</td>\n",
       "    </tr>\n",
       "    <tr>\n",
       "      <th>2</th>\n",
       "      <td>31</td>\n",
       "      <td>Janet Leverling</td>\n",
       "      <td>30.08.1963</td>\n",
       "    </tr>\n",
       "    <tr>\n",
       "      <th>3</th>\n",
       "      <td>18</td>\n",
       "      <td>Michael Suyama</td>\n",
       "      <td>02.07.1963</td>\n",
       "    </tr>\n",
       "  </tbody>\n",
       "</table>\n",
       "</div>"
      ],
      "text/plain": [
       "   sum_orders        Full_Name   BirthDate\n",
       "0           6   Anne Dodsworth  02.07.1969\n",
       "1          29    Nancy Davolio  08.12.1968\n",
       "2          31  Janet Leverling  30.08.1963\n",
       "3          18   Michael Suyama  02.07.1963"
      ]
     },
     "execution_count": 21,
     "metadata": {},
     "output_type": "execute_result"
    }
   ],
   "source": [
    "tasks+=1\n",
    "pd.read_sql(\n",
    "    '''\n",
    "    select sum_orders, (FirstName || \" \" ||  LastName) as 'Full_Name', BirthDate\n",
    "    from\n",
    "    (SELECT LastName, FirstName, Photo as Birth_info , BirthDate, count(OrderID) as 'sum_orders'\n",
    "    FROM Employees a\n",
    "    join Orders b\n",
    "    on a.EmployeeID = b.EmployeeID\n",
    "    group by FirstName\n",
    "    order by Photo desc\n",
    "    limit 4 -- Апдейт\n",
    "    ) as a\n",
    "    ''',\n",
    "    con,\n",
    ")"
   ]
  },
  {
   "cell_type": "code",
   "execution_count": 22,
   "metadata": {
    "collapsed": true
   },
   "outputs": [],
   "source": [
    "# Почему не использовал \"order by BirthDate asc\", потому что сколько бы не гуглил, не нашел способа фильтрации даты\n",
    "# В текущем массиве он фильтрует по первой паре чисел дня рождения (месяц и год почему то не участвуют)"
   ]
  },
  {
   "cell_type": "code",
   "execution_count": 23,
   "metadata": {},
   "outputs": [
    {
     "data": {
      "text/html": [
       "<div>\n",
       "<style>\n",
       "    .dataframe thead tr:only-child th {\n",
       "        text-align: right;\n",
       "    }\n",
       "\n",
       "    .dataframe thead th {\n",
       "        text-align: left;\n",
       "    }\n",
       "\n",
       "    .dataframe tbody tr th {\n",
       "        vertical-align: top;\n",
       "    }\n",
       "</style>\n",
       "<table border=\"1\" class=\"dataframe\">\n",
       "  <thead>\n",
       "    <tr style=\"text-align: right;\">\n",
       "      <th></th>\n",
       "      <th>sum_orders</th>\n",
       "      <th>Full_Name</th>\n",
       "      <th>BirthDate</th>\n",
       "    </tr>\n",
       "  </thead>\n",
       "  <tbody>\n",
       "    <tr>\n",
       "      <th>0</th>\n",
       "      <td>18</td>\n",
       "      <td>Michael Suyama</td>\n",
       "      <td>02.07.1963</td>\n",
       "    </tr>\n",
       "    <tr>\n",
       "      <th>1</th>\n",
       "      <td>6</td>\n",
       "      <td>Anne Dodsworth</td>\n",
       "      <td>02.07.1969</td>\n",
       "    </tr>\n",
       "    <tr>\n",
       "      <th>2</th>\n",
       "      <td>11</td>\n",
       "      <td>Steven Buchanan</td>\n",
       "      <td>04.03.1955</td>\n",
       "    </tr>\n",
       "    <tr>\n",
       "      <th>3</th>\n",
       "      <td>29</td>\n",
       "      <td>Nancy Davolio</td>\n",
       "      <td>08.12.1968</td>\n",
       "    </tr>\n",
       "    <tr>\n",
       "      <th>4</th>\n",
       "      <td>27</td>\n",
       "      <td>Laura Callahan</td>\n",
       "      <td>09.01.1958</td>\n",
       "    </tr>\n",
       "    <tr>\n",
       "      <th>5</th>\n",
       "      <td>20</td>\n",
       "      <td>Andrew Fuller</td>\n",
       "      <td>19.02.1952</td>\n",
       "    </tr>\n",
       "    <tr>\n",
       "      <th>6</th>\n",
       "      <td>40</td>\n",
       "      <td>Margaret Peacock</td>\n",
       "      <td>19.09.1958</td>\n",
       "    </tr>\n",
       "    <tr>\n",
       "      <th>7</th>\n",
       "      <td>14</td>\n",
       "      <td>Robert King</td>\n",
       "      <td>29.05.1960</td>\n",
       "    </tr>\n",
       "    <tr>\n",
       "      <th>8</th>\n",
       "      <td>31</td>\n",
       "      <td>Janet Leverling</td>\n",
       "      <td>30.08.1963</td>\n",
       "    </tr>\n",
       "  </tbody>\n",
       "</table>\n",
       "</div>"
      ],
      "text/plain": [
       "   sum_orders         Full_Name   BirthDate\n",
       "0          18    Michael Suyama  02.07.1963\n",
       "1           6    Anne Dodsworth  02.07.1969\n",
       "2          11   Steven Buchanan  04.03.1955\n",
       "3          29     Nancy Davolio  08.12.1968\n",
       "4          27    Laura Callahan  09.01.1958\n",
       "5          20     Andrew Fuller  19.02.1952\n",
       "6          40  Margaret Peacock  19.09.1958\n",
       "7          14       Robert King  29.05.1960\n",
       "8          31   Janet Leverling  30.08.1963"
      ]
     },
     "execution_count": 23,
     "metadata": {},
     "output_type": "execute_result"
    }
   ],
   "source": [
    "pd.read_sql(\n",
    "    '''\n",
    "    select sum_orders, (FirstName || \" \" ||  LastName) as 'Full_Name', BirthDate\n",
    "    from\n",
    "    (SELECT LastName, FirstName, Photo as Birth_info , BirthDate, count(OrderID) as 'sum_orders'\n",
    "    FROM Employees a\n",
    "    join Orders b\n",
    "    on a.EmployeeID = b.EmployeeID\n",
    "    group by FirstName\n",
    "    order by BirthDate asc\n",
    "    limit 10\n",
    "    ) as a\n",
    "    ''',\n",
    "    con,\n",
    ")"
   ]
  },
  {
   "cell_type": "markdown",
   "metadata": {},
   "source": [
    "### 10. Сколько банок крабового мяса всего было заказано."
   ]
  },
  {
   "cell_type": "code",
   "execution_count": 24,
   "metadata": {
    "collapsed": true
   },
   "outputs": [],
   "source": [
    "# Апдейт от 30.01 - внес изменения в 1ую строку запроса"
   ]
  },
  {
   "cell_type": "code",
   "execution_count": 25,
   "metadata": {},
   "outputs": [
    {
     "data": {
      "text/html": [
       "<div>\n",
       "<style>\n",
       "    .dataframe thead tr:only-child th {\n",
       "        text-align: right;\n",
       "    }\n",
       "\n",
       "    .dataframe thead th {\n",
       "        text-align: left;\n",
       "    }\n",
       "\n",
       "    .dataframe tbody tr th {\n",
       "        vertical-align: top;\n",
       "    }\n",
       "</style>\n",
       "<table border=\"1\" class=\"dataframe\">\n",
       "  <thead>\n",
       "    <tr style=\"text-align: right;\">\n",
       "      <th></th>\n",
       "      <th>ProductName</th>\n",
       "      <th>Quantity_1</th>\n",
       "    </tr>\n",
       "  </thead>\n",
       "  <tbody>\n",
       "    <tr>\n",
       "      <th>0</th>\n",
       "      <td>Boston Crab Meat</td>\n",
       "      <td>6144</td>\n",
       "    </tr>\n",
       "  </tbody>\n",
       "</table>\n",
       "</div>"
      ],
      "text/plain": [
       "        ProductName  Quantity_1\n",
       "0  Boston Crab Meat        6144"
      ]
     },
     "execution_count": 25,
     "metadata": {},
     "output_type": "execute_result"
    }
   ],
   "source": [
    "tasks+=1\n",
    "pd.read_sql(\n",
    "    '''\n",
    "    SELECT ProductName, sum(Quantity*Unit) as 'Quantity_1' -- Апдейт\n",
    "    FROM OrderDetails a\n",
    "    join Products b\n",
    "    on a.ProductID = b.ProductID\n",
    "    where ProductName like '%Crab%'\n",
    "    ''',\n",
    "    con,\n",
    ")"
   ]
  },
  {
   "cell_type": "code",
   "execution_count": 26,
   "metadata": {
    "code_folding": []
   },
   "outputs": [
    {
     "name": "stdout",
     "output_type": "stream",
     "text": [
      "Выполнены все задания 🙂\n"
     ]
    }
   ],
   "source": [
    "if tasks==10:\n",
    "    print('Выполнены все задания 🙂')\n",
    "else:\n",
    "    print('Выполнены не все задания! 🙀')"
   ]
  }
 ],
 "metadata": {
  "kernelspec": {
   "display_name": "Python 3",
   "language": "python",
   "name": "python3"
  },
  "language_info": {
   "codemirror_mode": {
    "name": "ipython",
    "version": 3
   },
   "file_extension": ".py",
   "mimetype": "text/x-python",
   "name": "python",
   "nbconvert_exporter": "python",
   "pygments_lexer": "ipython3",
   "version": "3.6.1"
  }
 },
 "nbformat": 4,
 "nbformat_minor": 4
}
